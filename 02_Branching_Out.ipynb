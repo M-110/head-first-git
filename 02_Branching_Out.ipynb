{
  "cells": [
    {
      "cell_type": "markdown",
      "metadata": {
        "id": "view-in-github",
        "colab_type": "text"
      },
      "source": [
        "<a href=\"https://colab.research.google.com/github/M-110/head-first-git/blob/main/02_Branching_Out.ipynb\" target=\"_parent\"><img src=\"https://colab.research.google.com/assets/colab-badge.svg\" alt=\"Open In Colab\"/></a>"
      ]
    },
    {
      "cell_type": "markdown",
      "metadata": {
        "id": "NtN8gDKCUBId"
      },
      "source": [
        "# Update to latest Git"
      ]
    },
    {
      "cell_type": "code",
      "execution_count": null,
      "metadata": {
        "colab": {
          "base_uri": "https://localhost:8080/"
        },
        "id": "kg6-n7A2Sq8s",
        "outputId": "ca828ab9-3903-42de-a60e-999289ae4dfb"
      },
      "outputs": [
        {
          "output_type": "stream",
          "name": "stdout",
          "text": [
            "\r0% [Working]\r            \rGet:1 https://developer.download.nvidia.com/compute/cuda/repos/ubuntu1804/x86_64  InRelease [1,581 B]\n",
            "\r0% [Connecting to archive.ubuntu.com] [Connecting to security.ubuntu.com (185.1\r0% [Connecting to archive.ubuntu.com] [Connecting to security.ubuntu.com (185.1\r                                                                               \rGet:2 https://cloud.r-project.org/bin/linux/ubuntu bionic-cran40/ InRelease [3,626 B]\n",
            "\r0% [Connecting to archive.ubuntu.com] [Connecting to security.ubuntu.com (185.1\r0% [1 InRelease gpgv 1,581 B] [Connecting to archive.ubuntu.com] [Connecting to\r                                                                               \rIgn:3 https://developer.download.nvidia.com/compute/machine-learning/repos/ubuntu1804/x86_64  InRelease\n",
            "Hit:4 https://developer.download.nvidia.com/compute/machine-learning/repos/ubuntu1804/x86_64  Release\n",
            "Get:5 https://developer.download.nvidia.com/compute/cuda/repos/ubuntu1804/x86_64  Packages [806 kB]\n",
            "Get:6 http://security.ubuntu.com/ubuntu bionic-security InRelease [88.7 kB]\n",
            "Hit:7 http://archive.ubuntu.com/ubuntu bionic InRelease\n",
            "Get:8 http://ppa.launchpad.net/c2d4u.team/c2d4u4.0+/ubuntu bionic InRelease [15.9 kB]\n",
            "Get:9 http://archive.ubuntu.com/ubuntu bionic-updates InRelease [88.7 kB]\n",
            "Get:10 http://archive.ubuntu.com/ubuntu bionic-backports InRelease [74.6 kB]\n",
            "Hit:12 http://ppa.launchpad.net/cran/libgit2/ubuntu bionic InRelease\n",
            "Get:13 http://ppa.launchpad.net/deadsnakes/ppa/ubuntu bionic InRelease [15.9 kB]\n",
            "Get:14 http://archive.ubuntu.com/ubuntu bionic-updates/main amd64 Packages [3,262 kB]\n",
            "Get:15 http://ppa.launchpad.net/git-core/ppa/ubuntu bionic InRelease [20.8 kB]\n",
            "Get:16 http://ppa.launchpad.net/graphics-drivers/ppa/ubuntu bionic InRelease [21.3 kB]\n",
            "Get:17 http://archive.ubuntu.com/ubuntu bionic-updates/universe amd64 Packages [2,289 kB]\n",
            "Get:18 http://security.ubuntu.com/ubuntu bionic-security/main amd64 Packages [2,830 kB]\n",
            "Get:19 http://archive.ubuntu.com/ubuntu bionic-updates/restricted amd64 Packages [1,015 kB]\n",
            "Get:20 http://ppa.launchpad.net/c2d4u.team/c2d4u4.0+/ubuntu bionic/main Sources [1,992 kB]\n",
            "Get:21 http://security.ubuntu.com/ubuntu bionic-security/universe amd64 Packages [1,515 kB]\n",
            "Get:22 http://security.ubuntu.com/ubuntu bionic-security/restricted amd64 Packages [982 kB]\n",
            "Get:23 http://ppa.launchpad.net/c2d4u.team/c2d4u4.0+/ubuntu bionic/main amd64 Packages [1,021 kB]\n",
            "Get:24 http://ppa.launchpad.net/deadsnakes/ppa/ubuntu bionic/main amd64 Packages [45.3 kB]\n",
            "Get:25 http://ppa.launchpad.net/git-core/ppa/ubuntu bionic/main amd64 Packages [3,163 B]\n",
            "Get:26 http://ppa.launchpad.net/graphics-drivers/ppa/ubuntu bionic/main amd64 Packages [47.7 kB]\n",
            "Fetched 16.1 MB in 6s (2,871 kB/s)\n",
            "Reading package lists... Done\n",
            "Hit:1 https://cloud.r-project.org/bin/linux/ubuntu bionic-cran40/ InRelease\n",
            "Hit:2 https://developer.download.nvidia.com/compute/cuda/repos/ubuntu1804/x86_64  InRelease\n",
            "Ign:3 https://developer.download.nvidia.com/compute/machine-learning/repos/ubuntu1804/x86_64  InRelease\n",
            "Hit:4 https://developer.download.nvidia.com/compute/machine-learning/repos/ubuntu1804/x86_64  Release\n",
            "Hit:5 http://archive.ubuntu.com/ubuntu bionic InRelease\n",
            "Hit:6 http://archive.ubuntu.com/ubuntu bionic-updates InRelease\n",
            "Hit:7 http://security.ubuntu.com/ubuntu bionic-security InRelease\n",
            "Hit:8 http://ppa.launchpad.net/c2d4u.team/c2d4u4.0+/ubuntu bionic InRelease\n",
            "Hit:9 http://archive.ubuntu.com/ubuntu bionic-backports InRelease\n",
            "Hit:11 http://ppa.launchpad.net/cran/libgit2/ubuntu bionic InRelease\n",
            "Hit:12 http://ppa.launchpad.net/deadsnakes/ppa/ubuntu bionic InRelease\n",
            "Hit:13 http://ppa.launchpad.net/git-core/ppa/ubuntu bionic InRelease\n",
            "Hit:14 http://ppa.launchpad.net/graphics-drivers/ppa/ubuntu bionic InRelease\n",
            "Reading package lists... Done\n",
            "Building dependency tree       \n",
            "Reading state information... Done\n",
            "89 packages can be upgraded. Run 'apt list --upgradable' to see them.\n",
            "Reading package lists... Done\n",
            "Building dependency tree       \n",
            "Reading state information... Done\n",
            "The following package was automatically installed and is no longer required:\n",
            "  libnvidia-common-460\n",
            "Use 'apt autoremove' to remove it.\n",
            "The following additional packages will be installed:\n",
            "  git-man\n",
            "Suggested packages:\n",
            "  gettext-base git-daemon-run | git-daemon-sysvinit git-doc git-email git-gui\n",
            "  gitk gitweb git-cvs git-mediawiki git-svn\n",
            "The following packages will be upgraded:\n",
            "  git git-man\n",
            "2 upgraded, 0 newly installed, 0 to remove and 87 not upgraded.\n",
            "Need to get 7,835 kB of archives.\n",
            "After this operation, 7,048 kB of additional disk space will be used.\n",
            "Get:1 http://ppa.launchpad.net/git-core/ppa/ubuntu bionic/main amd64 git amd64 1:2.36.1-0ppa1~ubuntu18.04.1 [5,895 kB]\n",
            "Get:2 http://ppa.launchpad.net/git-core/ppa/ubuntu bionic/main amd64 git-man all 1:2.36.1-0ppa1~ubuntu18.04.1 [1,940 kB]\n",
            "Fetched 7,835 kB in 3s (2,903 kB/s)\n",
            "(Reading database ... 155632 files and directories currently installed.)\n",
            "Preparing to unpack .../git_1%3a2.36.1-0ppa1~ubuntu18.04.1_amd64.deb ...\n",
            "Unpacking git (1:2.36.1-0ppa1~ubuntu18.04.1) over (1:2.17.1-1ubuntu0.11) ...\n",
            "Preparing to unpack .../git-man_1%3a2.36.1-0ppa1~ubuntu18.04.1_all.deb ...\n",
            "Unpacking git-man (1:2.36.1-0ppa1~ubuntu18.04.1) over (1:2.17.1-1ubuntu0.11) ...\n",
            "Setting up git-man (1:2.36.1-0ppa1~ubuntu18.04.1) ...\n",
            "Setting up git (1:2.36.1-0ppa1~ubuntu18.04.1) ...\n",
            "Processing triggers for man-db (2.8.3-2ubuntu0.1) ...\n"
          ]
        }
      ],
      "source": [
        "!add-apt-repository ppa:git-core/ppa -y\n",
        "!apt update\n",
        "!apt install git"
      ]
    },
    {
      "cell_type": "markdown",
      "metadata": {
        "id": "7yVmrgq99lTI"
      },
      "source": [
        "# Config"
      ]
    },
    {
      "cell_type": "code",
      "execution_count": null,
      "metadata": {
        "id": "L67S95RL9uDZ"
      },
      "outputs": [],
      "source": [
        "!git config --global user.name Colab\n",
        "!git config --global user.email colab@gmail.com\n",
        "!git config --global init.defaultBranch main"
      ]
    },
    {
      "cell_type": "markdown",
      "metadata": {
        "id": "yFLJdCWO8_VW"
      },
      "source": [
        "# Branching an 80s diner"
      ]
    },
    {
      "cell_type": "code",
      "execution_count": null,
      "metadata": {
        "id": "Ong37xnz7nGp"
      },
      "outputs": [],
      "source": [
        "!mkdir headfirst-git-samples"
      ]
    },
    {
      "cell_type": "code",
      "execution_count": null,
      "metadata": {
        "colab": {
          "base_uri": "https://localhost:8080/"
        },
        "id": "Iimu2Cv_9DBx",
        "outputId": "dd14b3f1-23e2-4bea-f3a9-6925b48426ab"
      },
      "outputs": [
        {
          "output_type": "stream",
          "name": "stdout",
          "text": [
            "/content/headfirst-git-samples\n"
          ]
        }
      ],
      "source": [
        "%cd headfirst-git-samples/"
      ]
    },
    {
      "cell_type": "code",
      "execution_count": null,
      "metadata": {
        "id": "v2-Vstic9FFc"
      },
      "outputs": [],
      "source": [
        "!mkdir 80s-diner"
      ]
    },
    {
      "cell_type": "code",
      "execution_count": null,
      "metadata": {
        "colab": {
          "base_uri": "https://localhost:8080/"
        },
        "id": "ae_iJRm69GCF",
        "outputId": "f02dc9c0-515f-4e4a-efe6-b94768a2911d"
      },
      "outputs": [
        {
          "output_type": "stream",
          "name": "stdout",
          "text": [
            "/content/headfirst-git-samples/80s-diner\n"
          ]
        }
      ],
      "source": [
        "%cd 80s-diner/"
      ]
    },
    {
      "cell_type": "code",
      "execution_count": null,
      "metadata": {
        "colab": {
          "base_uri": "https://localhost:8080/"
        },
        "id": "G2OIKvI2SHQH",
        "outputId": "60621528-b4be-4456-8d03-21ea3cb2b010"
      },
      "outputs": [
        {
          "output_type": "stream",
          "name": "stdout",
          "text": [
            "Initialized empty Git repository in /content/headfirst-git-samples/80s-diner/.git/\n"
          ]
        }
      ],
      "source": [
        "!git init"
      ]
    },
    {
      "cell_type": "code",
      "execution_count": null,
      "metadata": {
        "id": "C2AkOlAn9Jd9"
      },
      "outputs": [],
      "source": [
        "!echo \"# My Menu\\n* item 1 \\n* item 2\" > menu.md"
      ]
    },
    {
      "cell_type": "code",
      "execution_count": null,
      "metadata": {
        "id": "Ud8uhtJY9ayz"
      },
      "outputs": [],
      "source": [
        "!git add menu.md"
      ]
    },
    {
      "cell_type": "code",
      "execution_count": null,
      "metadata": {
        "colab": {
          "base_uri": "https://localhost:8080/"
        },
        "id": "eYxjLJIi9hOE",
        "outputId": "570bc8d5-2cd5-4499-810e-053dfb2ee436"
      },
      "outputs": [
        {
          "output_type": "stream",
          "name": "stdout",
          "text": [
            "[main (root-commit) 1311e5a] Add the main menu\n",
            " 1 file changed, 1 insertion(+)\n",
            " create mode 100644 menu.md\n"
          ]
        }
      ],
      "source": [
        "!git commit -m \"Add the main menu\""
      ]
    },
    {
      "cell_type": "code",
      "execution_count": null,
      "metadata": {
        "colab": {
          "base_uri": "https://localhost:8080/"
        },
        "id": "mDy7Q5-b9j7W",
        "outputId": "0d5effde-b380-455d-ed90-e878b5f04128"
      },
      "outputs": [
        {
          "output_type": "stream",
          "name": "stdout",
          "text": [
            "On branch main\n",
            "nothing to commit, working tree clean\n"
          ]
        }
      ],
      "source": [
        "!git status"
      ]
    },
    {
      "cell_type": "markdown",
      "metadata": {
        "id": "a_9Goq1WVKxv"
      },
      "source": [
        "# Adding branches"
      ]
    },
    {
      "cell_type": "code",
      "execution_count": null,
      "metadata": {
        "id": "3hWD5wx19wSm"
      },
      "outputs": [],
      "source": [
        "!git branch my-first-branch"
      ]
    },
    {
      "cell_type": "code",
      "execution_count": null,
      "metadata": {
        "colab": {
          "base_uri": "https://localhost:8080/"
        },
        "id": "lkb8oNSIVM0o",
        "outputId": "c3d6ce1f-679c-427d-e92a-c3d4ce15330b"
      },
      "outputs": [
        {
          "output_type": "stream",
          "name": "stdout",
          "text": [
            "* \u001b[32mmain\u001b[m\n",
            "  my-first-branch\u001b[m\n"
          ]
        }
      ],
      "source": [
        "!git branch"
      ]
    },
    {
      "cell_type": "markdown",
      "metadata": {
        "id": "iBCVMinhVYx-"
      },
      "source": [
        "## switching"
      ]
    },
    {
      "cell_type": "code",
      "execution_count": null,
      "metadata": {
        "colab": {
          "base_uri": "https://localhost:8080/"
        },
        "id": "mnEhXIhRVO_l",
        "outputId": "47e29fd1-1bc0-4ed8-8f67-a2d077f7e102"
      },
      "outputs": [
        {
          "output_type": "stream",
          "name": "stdout",
          "text": [
            "Switched to branch 'my-first-branch'\n"
          ]
        }
      ],
      "source": [
        "!git switch my-first-branch"
      ]
    },
    {
      "cell_type": "code",
      "execution_count": null,
      "metadata": {
        "colab": {
          "base_uri": "https://localhost:8080/"
        },
        "id": "NAOUjm3kVa_A",
        "outputId": "182edcd5-c181-45bd-b862-4844be4000e5"
      },
      "outputs": [
        {
          "output_type": "stream",
          "name": "stdout",
          "text": [
            "  main\u001b[m\n",
            "* \u001b[32mmy-first-branch\u001b[m\n"
          ]
        }
      ],
      "source": [
        "!git branch"
      ]
    },
    {
      "cell_type": "markdown",
      "metadata": {
        "id": "nkzWKBbLWgQl"
      },
      "source": [
        "# Creating a spooky fall menu"
      ]
    },
    {
      "cell_type": "code",
      "execution_count": null,
      "metadata": {
        "id": "mX1simYgVdzH"
      },
      "outputs": [],
      "source": [
        "!git branch add-fall-menu"
      ]
    },
    {
      "cell_type": "code",
      "execution_count": null,
      "metadata": {
        "colab": {
          "base_uri": "https://localhost:8080/"
        },
        "id": "2inpJ11GWkR5",
        "outputId": "b821c920-b2f6-4d44-8ee5-d91d5cbb6679"
      },
      "outputs": [
        {
          "output_type": "stream",
          "name": "stdout",
          "text": [
            "Switched to branch 'add-fall-menu'\n"
          ]
        }
      ],
      "source": [
        "!git switch add-fall-menu"
      ]
    },
    {
      "cell_type": "code",
      "execution_count": null,
      "metadata": {
        "colab": {
          "base_uri": "https://localhost:8080/"
        },
        "id": "Sjo_lSeiWlmP",
        "outputId": "b645c766-a288-498f-af97-0de942988e86"
      },
      "outputs": [
        {
          "output_type": "stream",
          "name": "stdout",
          "text": [
            "* \u001b[32madd-fall-menu\u001b[m\n",
            "  main\u001b[m\n",
            "  my-first-branch\u001b[m\n"
          ]
        }
      ],
      "source": [
        "!git branch"
      ]
    },
    {
      "cell_type": "code",
      "execution_count": null,
      "metadata": {
        "id": "5x26UM-MWmHu"
      },
      "outputs": [],
      "source": [
        "!echo \"# Fall Menu\\n## Spooky Soup\\nSome very spook soup.\" > fall-menu.md"
      ]
    },
    {
      "cell_type": "code",
      "execution_count": null,
      "metadata": {
        "id": "OawmbVEkW43I"
      },
      "outputs": [],
      "source": [
        "!git add fall-menu.md"
      ]
    },
    {
      "cell_type": "code",
      "execution_count": null,
      "metadata": {
        "colab": {
          "base_uri": "https://localhost:8080/"
        },
        "id": "nJo3YsBkW6oG",
        "outputId": "3d0cbbff-b5d5-4cb2-c8b1-92a880f6ea72"
      },
      "outputs": [
        {
          "output_type": "stream",
          "name": "stdout",
          "text": [
            "[add-fall-menu fdf19d5] add the fall menu\n",
            " 1 file changed, 1 insertion(+)\n",
            " create mode 100644 fall-menu.md\n"
          ]
        }
      ],
      "source": [
        "!git commit -m \"add the fall menu\""
      ]
    },
    {
      "cell_type": "code",
      "execution_count": null,
      "metadata": {
        "colab": {
          "base_uri": "https://localhost:8080/"
        },
        "id": "DM-ZdSFXW_CP",
        "outputId": "b49521e2-4c76-411d-b4b5-48e31217a224"
      },
      "outputs": [
        {
          "output_type": "stream",
          "name": "stdout",
          "text": [
            "On branch add-fall-menu\n",
            "nothing to commit, working tree clean\n"
          ]
        }
      ],
      "source": [
        "!git status"
      ]
    },
    {
      "cell_type": "markdown",
      "metadata": {
        "id": "uJWSnpSBXHVk"
      },
      "source": [
        "Change name of the menu"
      ]
    },
    {
      "cell_type": "code",
      "execution_count": null,
      "metadata": {
        "id": "ulN3YJOyXAyh"
      },
      "outputs": [],
      "source": [
        "!echo \"# The Graveyard Shift\\n## Spooky Soup\\nSome very spook soup.\" > fall-menu.md"
      ]
    },
    {
      "cell_type": "code",
      "execution_count": null,
      "metadata": {
        "colab": {
          "base_uri": "https://localhost:8080/"
        },
        "id": "122tfvB3XLrI",
        "outputId": "a2204f68-0521-43c5-d4b1-d15830d87f2b"
      },
      "outputs": [
        {
          "output_type": "stream",
          "name": "stdout",
          "text": [
            "On branch add-fall-menu\n",
            "Changes not staged for commit:\n",
            "  (use \"git add <file>...\" to update what will be committed)\n",
            "  (use \"git restore <file>...\" to discard changes in working directory)\n",
            "\t\u001b[31mmodified:   fall-menu.md\u001b[m\n",
            "\n",
            "no changes added to commit (use \"git add\" and/or \"git commit -a\")\n"
          ]
        }
      ],
      "source": [
        "!git status"
      ]
    },
    {
      "cell_type": "code",
      "execution_count": null,
      "metadata": {
        "id": "P8UwNZN2XOqz"
      },
      "outputs": [],
      "source": [
        "!git add fall-menu.md"
      ]
    },
    {
      "cell_type": "code",
      "execution_count": null,
      "metadata": {
        "colab": {
          "base_uri": "https://localhost:8080/"
        },
        "id": "6pjvLDkEXTNs",
        "outputId": "403ae5c1-b575-4497-e95c-80a411b21c1b"
      },
      "outputs": [
        {
          "output_type": "stream",
          "name": "stdout",
          "text": [
            "[add-fall-menu ce2f732] update heading\n",
            " 1 file changed, 1 insertion(+), 1 deletion(-)\n"
          ]
        }
      ],
      "source": [
        "!git commit -m \"update heading\""
      ]
    },
    {
      "cell_type": "code",
      "execution_count": null,
      "metadata": {
        "colab": {
          "base_uri": "https://localhost:8080/"
        },
        "id": "KzvCAEm9XWLx",
        "outputId": "b1dd206e-7597-47e7-82a0-3dea3aa4827d"
      },
      "outputs": [
        {
          "output_type": "stream",
          "name": "stdout",
          "text": [
            "On branch add-fall-menu\n",
            "nothing to commit, working tree clean\n"
          ]
        }
      ],
      "source": [
        "!git status"
      ]
    },
    {
      "cell_type": "markdown",
      "metadata": {
        "id": "TIiAcYxgYUGC"
      },
      "source": [
        "# How get changes your directory"
      ]
    },
    {
      "cell_type": "code",
      "execution_count": null,
      "metadata": {
        "colab": {
          "base_uri": "https://localhost:8080/"
        },
        "id": "o_lYf4vqXZQC",
        "outputId": "f41ef4fc-be4a-477b-d397-4ea066731826"
      },
      "outputs": [
        {
          "output_type": "stream",
          "name": "stdout",
          "text": [
            "fall-menu.md  menu.md\n"
          ]
        }
      ],
      "source": [
        "!ls"
      ]
    },
    {
      "cell_type": "code",
      "execution_count": null,
      "metadata": {
        "colab": {
          "base_uri": "https://localhost:8080/"
        },
        "id": "rIPgwu5nYVt0",
        "outputId": "e307fe66-73ad-4add-bc73-99ac8d42b010"
      },
      "outputs": [
        {
          "output_type": "stream",
          "name": "stdout",
          "text": [
            "Switched to branch 'main'\n"
          ]
        }
      ],
      "source": [
        "!git switch main"
      ]
    },
    {
      "cell_type": "code",
      "execution_count": null,
      "metadata": {
        "colab": {
          "base_uri": "https://localhost:8080/"
        },
        "id": "KiJFn4AtYYRP",
        "outputId": "1e633c9a-52e0-47c5-97a6-84129c900622"
      },
      "outputs": [
        {
          "output_type": "stream",
          "name": "stdout",
          "text": [
            "menu.md\n"
          ]
        }
      ],
      "source": [
        "!ls"
      ]
    },
    {
      "cell_type": "code",
      "execution_count": null,
      "metadata": {
        "colab": {
          "base_uri": "https://localhost:8080/"
        },
        "id": "QEE91P_YYakV",
        "outputId": "586a849a-962e-4a41-c6b3-f3f2dd99509f"
      },
      "outputs": [
        {
          "output_type": "stream",
          "name": "stdout",
          "text": [
            "Switched to branch 'add-fall-menu'\n"
          ]
        }
      ],
      "source": [
        "!git switch add-fall-menu"
      ]
    },
    {
      "cell_type": "code",
      "execution_count": null,
      "metadata": {
        "colab": {
          "base_uri": "https://localhost:8080/"
        },
        "id": "RTVoQlQeYcYz",
        "outputId": "dabbe525-0307-4428-ce64-2ac881f183d2"
      },
      "outputs": [
        {
          "output_type": "stream",
          "name": "stdout",
          "text": [
            "fall-menu.md  menu.md\n"
          ]
        }
      ],
      "source": [
        "!ls"
      ]
    },
    {
      "cell_type": "markdown",
      "metadata": {
        "id": "qcg2R2ZIYtha"
      },
      "source": [
        "# Switch back to the main branch before branching"
      ]
    },
    {
      "cell_type": "code",
      "execution_count": null,
      "metadata": {
        "colab": {
          "base_uri": "https://localhost:8080/"
        },
        "id": "Bsl247C1YfqH",
        "outputId": "daf2a7a0-ccd6-4540-e49a-7c8da18a841f"
      },
      "outputs": [
        {
          "output_type": "stream",
          "name": "stdout",
          "text": [
            "Switched to branch 'main'\n"
          ]
        }
      ],
      "source": [
        "!git switch main"
      ]
    },
    {
      "cell_type": "code",
      "execution_count": null,
      "metadata": {
        "colab": {
          "base_uri": "https://localhost:8080/"
        },
        "id": "TfAK2pbGYynn",
        "outputId": "fe8e59eb-e00b-4a7f-f7f4-27a3ef9c53c4"
      },
      "outputs": [
        {
          "output_type": "stream",
          "name": "stdout",
          "text": [
            "On branch main\n",
            "nothing to commit, working tree clean\n"
          ]
        }
      ],
      "source": [
        "!git status"
      ]
    },
    {
      "cell_type": "markdown",
      "metadata": {
        "id": "LoXidn-1Y4KC"
      },
      "source": [
        "Add thursday menu "
      ]
    },
    {
      "cell_type": "code",
      "execution_count": null,
      "metadata": {
        "id": "QafMUreTY2hE"
      },
      "outputs": [],
      "source": [
        "!git branch add-thurs-menu"
      ]
    },
    {
      "cell_type": "code",
      "execution_count": null,
      "metadata": {
        "colab": {
          "base_uri": "https://localhost:8080/"
        },
        "id": "X5JaW2nJY7tw",
        "outputId": "57f5a071-3dcc-4f68-c123-f42c2e883de1"
      },
      "outputs": [
        {
          "output_type": "stream",
          "name": "stdout",
          "text": [
            "Switched to branch 'add-thurs-menu'\n"
          ]
        }
      ],
      "source": [
        "!git switch add-thurs-menu"
      ]
    },
    {
      "cell_type": "code",
      "execution_count": null,
      "metadata": {
        "colab": {
          "base_uri": "https://localhost:8080/"
        },
        "id": "KucH7WSHY9PP",
        "outputId": "1c4cd838-4ba3-46cf-9c24-01e89e4b73a2"
      },
      "outputs": [
        {
          "output_type": "stream",
          "name": "stdout",
          "text": [
            "menu.md\n"
          ]
        }
      ],
      "source": [
        "!ls"
      ]
    },
    {
      "cell_type": "code",
      "execution_count": null,
      "metadata": {
        "id": "FPSHTgPHZLKN"
      },
      "outputs": [],
      "source": [
        "!echo \"# Throwback Thursdays\\n## Footloose Burger\\nA grilled burger, hold the dancing\" > thursdays-menu.md"
      ]
    },
    {
      "cell_type": "code",
      "execution_count": null,
      "metadata": {
        "id": "FXU2HHm9ZZef"
      },
      "outputs": [],
      "source": [
        "!git add thursdays-menu.md"
      ]
    },
    {
      "cell_type": "code",
      "execution_count": null,
      "metadata": {
        "colab": {
          "base_uri": "https://localhost:8080/"
        },
        "id": "XfUq0Q8PZdVz",
        "outputId": "d09aa1d8-b091-4807-e8cd-4ca8479e994e"
      },
      "outputs": [
        {
          "output_type": "stream",
          "name": "stdout",
          "text": [
            "[add-thurs-menu bae4a4b] add thursday menu\n",
            " 1 file changed, 1 insertion(+)\n",
            " create mode 100644 thursdays-menu.md\n"
          ]
        }
      ],
      "source": [
        "!git commit -m \"add thursday menu\""
      ]
    },
    {
      "cell_type": "code",
      "execution_count": null,
      "metadata": {
        "colab": {
          "base_uri": "https://localhost:8080/"
        },
        "id": "vjYxa8xOZf59",
        "outputId": "0eec9d39-e44e-4293-e8e7-b817947fd46e"
      },
      "outputs": [
        {
          "output_type": "stream",
          "name": "stdout",
          "text": [
            "\u001b[33mcommit bae4a4b01609ea50be60243e581e2e26529b7040\u001b[m\u001b[33m (\u001b[m\u001b[1;36mHEAD -> \u001b[m\u001b[1;32madd-thurs-menu\u001b[m\u001b[33m)\u001b[m\n",
            "Author: Colab <colab@gmail.com>\n",
            "Date:   Thu Jun 9 00:55:59 2022 +0000\n",
            "\n",
            "    add thursday menu\n",
            "\n",
            "\u001b[33mcommit 1311e5ab89588f3f4297c4b22c762d59d0127d9d\u001b[m\u001b[33m (\u001b[m\u001b[1;32mmy-first-branch\u001b[m\u001b[33m, \u001b[m\u001b[1;32mmain\u001b[m\u001b[33m)\u001b[m\n",
            "Author: Colab <colab@gmail.com>\n",
            "Date:   Thu Jun 9 00:55:55 2022 +0000\n",
            "\n",
            "    Add the main menu\n"
          ]
        }
      ],
      "source": [
        "!git log"
      ]
    },
    {
      "cell_type": "code",
      "execution_count": null,
      "metadata": {
        "colab": {
          "base_uri": "https://localhost:8080/"
        },
        "id": "hhiDFr0bZqBJ",
        "outputId": "53a9ce5d-8171-49fa-d5d0-deac59002664"
      },
      "outputs": [
        {
          "output_type": "stream",
          "name": "stdout",
          "text": [
            "usage: git branch [<options>] [-r | -a] [--merged] [--no-merged]\n",
            "   or: git branch [<options>] [-f] [--recurse-submodules] <branch-name> [<start-point>]\n",
            "   or: git branch [<options>] [-l] [<pattern>...]\n",
            "   or: git branch [<options>] [-r] (-d | -D) <branch-name>...\n",
            "   or: git branch [<options>] (-m | -M) [<old-branch>] <new-branch>\n",
            "   or: git branch [<options>] (-c | -C) [<old-branch>] <new-branch>\n",
            "   or: git branch [<options>] [-r | -a] [--points-at]\n",
            "   or: git branch [<options>] [-r | -a] [--format]\n",
            "\n",
            "Generic options\n",
            "    -v, --verbose         show hash and subject, give twice for upstream branch\n",
            "    -q, --quiet           suppress informational messages\n",
            "    -t, --track[=(direct|inherit)]\n",
            "                          set branch tracking configuration\n",
            "    -u, --set-upstream-to <upstream>\n",
            "                          change the upstream info\n",
            "    --unset-upstream      unset the upstream info\n",
            "    --color[=<when>]      use colored output\n",
            "    -r, --remotes         act on remote-tracking branches\n",
            "    --contains <commit>   print only branches that contain the commit\n",
            "    --no-contains <commit>\n",
            "                          print only branches that don't contain the commit\n",
            "    --abbrev[=<n>]        use <n> digits to display object names\n",
            "\n",
            "Specific git-branch actions:\n",
            "    -a, --all             list both remote-tracking and local branches\n",
            "    -d, --delete          delete fully merged branch\n",
            "    -D                    delete branch (even if not merged)\n",
            "    -m, --move            move/rename a branch and its reflog\n",
            "    -M                    move/rename a branch, even if target exists\n",
            "    -c, --copy            copy a branch and its reflog\n",
            "    -C                    copy a branch, even if target exists\n",
            "    -l, --list            list branch names\n",
            "    --show-current        show current branch name\n",
            "    --create-reflog       create the branch's reflog\n",
            "    --edit-description    edit the description for the branch\n",
            "    -f, --force           force creation, move/rename, deletion\n",
            "    --merged <commit>     print only branches that are merged\n",
            "    --no-merged <commit>  print only branches that are not merged\n",
            "    --column[=<style>]    list branches in columns\n",
            "    --sort <key>          field name to sort on\n",
            "    --points-at <object>  print only branches of the object\n",
            "    -i, --ignore-case     sorting and filtering are case insensitive\n",
            "    --recurse-submodules  recurse through submodules\n",
            "    --format <format>     format to use for the output\n",
            "\n"
          ]
        }
      ],
      "source": [
        "!git branch -h"
      ]
    },
    {
      "cell_type": "markdown",
      "metadata": {
        "id": "4jjh6n2YcpQe"
      },
      "source": [
        "# Merging"
      ]
    },
    {
      "cell_type": "code",
      "execution_count": null,
      "metadata": {
        "colab": {
          "base_uri": "https://localhost:8080/"
        },
        "id": "PpyicdaBcbq8",
        "outputId": "a72be28a-6744-4717-aeec-250eb5ff80cb"
      },
      "outputs": [
        {
          "output_type": "stream",
          "name": "stdout",
          "text": [
            "  add-fall-menu\u001b[m\n",
            "* \u001b[32madd-thurs-menu\u001b[m\n",
            "  main\u001b[m\n",
            "  my-first-branch\u001b[m\n"
          ]
        }
      ],
      "source": [
        "!git branch"
      ]
    },
    {
      "cell_type": "code",
      "execution_count": null,
      "metadata": {
        "colab": {
          "base_uri": "https://localhost:8080/"
        },
        "id": "wOJHIHFbcqV7",
        "outputId": "9b153158-ae8b-4045-c502-65864637715e"
      },
      "outputs": [
        {
          "output_type": "stream",
          "name": "stdout",
          "text": [
            "Switched to branch 'main'\n"
          ]
        }
      ],
      "source": [
        "!git switch main"
      ]
    },
    {
      "cell_type": "code",
      "execution_count": null,
      "metadata": {
        "colab": {
          "base_uri": "https://localhost:8080/"
        },
        "id": "Yu_3POPvcr-D",
        "outputId": "5690128f-bdae-451d-c579-cd544d893fe3"
      },
      "outputs": [
        {
          "output_type": "stream",
          "name": "stdout",
          "text": [
            "Updating 1311e5a..ce2f732\n",
            "Fast-forward\n",
            " fall-menu.md | 1 \u001b[32m+\u001b[m\n",
            " 1 file changed, 1 insertion(+)\n",
            " create mode 100644 fall-menu.md\n"
          ]
        }
      ],
      "source": [
        "!git merge add-fall-menu"
      ]
    },
    {
      "cell_type": "code",
      "execution_count": null,
      "metadata": {
        "colab": {
          "base_uri": "https://localhost:8080/"
        },
        "id": "WMOseZJMcwJA",
        "outputId": "8eb02dbb-9e93-4fb4-8a6a-b2c51716f22f"
      },
      "outputs": [
        {
          "output_type": "stream",
          "name": "stdout",
          "text": [
            "fall-menu.md  menu.md\n"
          ]
        }
      ],
      "source": [
        "!ls"
      ]
    },
    {
      "cell_type": "code",
      "execution_count": null,
      "metadata": {
        "colab": {
          "base_uri": "https://localhost:8080/"
        },
        "id": "yEE_yCiZcyv9",
        "outputId": "fdd1f4e6-02f5-4bac-da6d-15bf9f16845a"
      },
      "outputs": [
        {
          "output_type": "stream",
          "name": "stdout",
          "text": [
            "  add-fall-menu\u001b[m\n",
            "  add-thurs-menu\u001b[m\n",
            "* \u001b[32mmain\u001b[m\n",
            "  my-first-branch\u001b[m\n"
          ]
        }
      ],
      "source": [
        "!git branch"
      ]
    },
    {
      "cell_type": "code",
      "execution_count": null,
      "metadata": {
        "colab": {
          "base_uri": "https://localhost:8080/"
        },
        "id": "D-JbCbb4c0Z_",
        "outputId": "3a886b82-448f-4266-b5d5-350b76991521"
      },
      "outputs": [
        {
          "output_type": "stream",
          "name": "stdout",
          "text": [
            "  add-fall-menu  \u001b[m ce2f732 update heading\n",
            "  add-thurs-menu \u001b[m bae4a4b add thursday menu\n",
            "* \u001b[32mmain           \u001b[m ce2f732 update heading\n",
            "  my-first-branch\u001b[m 1311e5a Add the main menu\n"
          ]
        }
      ],
      "source": [
        "!git branch -v"
      ]
    },
    {
      "cell_type": "markdown",
      "metadata": {
        "id": "lG2D66lIeg8G"
      },
      "source": [
        "## Merge thursday branch"
      ]
    },
    {
      "cell_type": "code",
      "execution_count": null,
      "metadata": {
        "colab": {
          "base_uri": "https://localhost:8080/"
        },
        "id": "tt6QFcsBdCVS",
        "outputId": "a87ff8d4-2ccb-42df-ebe2-b61ae9999a06"
      },
      "outputs": [
        {
          "output_type": "stream",
          "name": "stdout",
          "text": [
            "hint: Waiting for your editor to close the file... error: cannot run editor: No such file or directory\n",
            "error: unable to start editor 'editor'\n",
            "Not committing merge; use 'git commit' to complete the merge.\n"
          ]
        }
      ],
      "source": [
        "!git merge add-thurs-menu"
      ]
    },
    {
      "cell_type": "code",
      "execution_count": null,
      "metadata": {
        "colab": {
          "base_uri": "https://localhost:8080/"
        },
        "id": "RRmbceAQeyyS",
        "outputId": "84db05ff-7281-4bb5-a538-e29b74751c70"
      },
      "outputs": [
        {
          "output_type": "stream",
          "name": "stdout",
          "text": [
            "On branch main\n",
            "All conflicts fixed but you are still merging.\n",
            "  (use \"git commit\" to conclude merge)\n",
            "\n",
            "Changes to be committed:\n",
            "\t\u001b[32mnew file:   thursdays-menu.md\u001b[m\n",
            "\n"
          ]
        }
      ],
      "source": [
        "!git status"
      ]
    },
    {
      "cell_type": "code",
      "execution_count": null,
      "metadata": {
        "colab": {
          "base_uri": "https://localhost:8080/"
        },
        "id": "iFUeC89je3xi",
        "outputId": "6ba63141-fc3a-4392-bcad-ef301a7ecdb0"
      },
      "outputs": [
        {
          "output_type": "stream",
          "name": "stdout",
          "text": [
            "[main f15524d] merge thurs and main\n"
          ]
        }
      ],
      "source": [
        "!git commit -m \"merge thurs and main\""
      ]
    },
    {
      "cell_type": "code",
      "execution_count": null,
      "metadata": {
        "colab": {
          "base_uri": "https://localhost:8080/"
        },
        "id": "BOlfpHTgfJpF",
        "outputId": "48fd87e1-9182-49be-9b12-dc3b77785efc"
      },
      "outputs": [
        {
          "output_type": "stream",
          "name": "stdout",
          "text": [
            "On branch main\n",
            "nothing to commit, working tree clean\n"
          ]
        }
      ],
      "source": [
        "!git status"
      ]
    },
    {
      "cell_type": "code",
      "execution_count": null,
      "metadata": {
        "colab": {
          "base_uri": "https://localhost:8080/"
        },
        "id": "9OqoWtVIfNXg",
        "outputId": "8459e232-b6c3-4b4b-8266-3ddaf186c80e"
      },
      "outputs": [
        {
          "output_type": "stream",
          "name": "stdout",
          "text": [
            "fall-menu.md  menu.md  thursdays-menu.md\n"
          ]
        }
      ],
      "source": [
        "!ls"
      ]
    },
    {
      "cell_type": "markdown",
      "metadata": {
        "id": "2ZhKQl7bg0k7"
      },
      "source": [
        "# Merge conflicts"
      ]
    },
    {
      "cell_type": "code",
      "execution_count": null,
      "metadata": {
        "id": "J-qYR9n0fOjd"
      },
      "outputs": [],
      "source": [
        "!git branch cool-branch"
      ]
    },
    {
      "cell_type": "code",
      "execution_count": null,
      "metadata": {
        "id": "fHES_99MhBi5"
      },
      "outputs": [],
      "source": [
        "!echo \"# branches are cool\" > info.md"
      ]
    },
    {
      "cell_type": "code",
      "execution_count": null,
      "metadata": {
        "id": "wA-UfRJuhGgt"
      },
      "outputs": [],
      "source": [
        "!git add info.md"
      ]
    },
    {
      "cell_type": "code",
      "execution_count": null,
      "metadata": {
        "colab": {
          "base_uri": "https://localhost:8080/"
        },
        "id": "65GTeDEBhHrm",
        "outputId": "62266bd1-17fd-4706-aa9a-855a2ddb0b47"
      },
      "outputs": [
        {
          "output_type": "stream",
          "name": "stdout",
          "text": [
            "[main 9b0b96d] add info\n",
            " 1 file changed, 1 insertion(+)\n",
            " create mode 100644 info.md\n"
          ]
        }
      ],
      "source": [
        "!git commit -m \"add info\""
      ]
    },
    {
      "cell_type": "code",
      "execution_count": null,
      "metadata": {
        "colab": {
          "base_uri": "https://localhost:8080/"
        },
        "id": "UQm87MwvhK5E",
        "outputId": "5c850c4e-d723-46c1-8935-deca7e11c588"
      },
      "outputs": [
        {
          "output_type": "stream",
          "name": "stdout",
          "text": [
            "Switched to branch 'cool-branch'\n"
          ]
        }
      ],
      "source": [
        "!git switch cool-branch"
      ]
    },
    {
      "cell_type": "code",
      "execution_count": null,
      "metadata": {
        "id": "_L-zm2a4hN3B"
      },
      "outputs": [],
      "source": [
        "!echo \"# branches are really cool\" > info.md"
      ]
    },
    {
      "cell_type": "code",
      "execution_count": null,
      "metadata": {
        "id": "t8PUVSAQhRU6"
      },
      "outputs": [],
      "source": [
        "!git add info.md"
      ]
    },
    {
      "cell_type": "code",
      "execution_count": null,
      "metadata": {
        "colab": {
          "base_uri": "https://localhost:8080/"
        },
        "id": "g0uKt9jLhSHP",
        "outputId": "9c67f9b8-61e5-416d-a947-68efaa643313"
      },
      "outputs": [
        {
          "output_type": "stream",
          "name": "stdout",
          "text": [
            "[cool-branch 60c03b3] add cooler info\n",
            " 1 file changed, 1 insertion(+)\n",
            " create mode 100644 info.md\n"
          ]
        }
      ],
      "source": [
        "!git commit -m \"add cooler info\""
      ]
    },
    {
      "cell_type": "code",
      "execution_count": null,
      "metadata": {
        "colab": {
          "base_uri": "https://localhost:8080/"
        },
        "id": "wuQ2MhDwhT6r",
        "outputId": "4b11f065-a2de-4ba7-b206-61f4fd8583f2"
      },
      "outputs": [
        {
          "output_type": "stream",
          "name": "stdout",
          "text": [
            "Switched to branch 'main'\n"
          ]
        }
      ],
      "source": [
        "!git switch main"
      ]
    },
    {
      "cell_type": "code",
      "execution_count": null,
      "metadata": {
        "colab": {
          "base_uri": "https://localhost:8080/"
        },
        "id": "YRNKMmbnhWal",
        "outputId": "8bad6ad6-939b-4747-b637-d6cce9a539bc"
      },
      "outputs": [
        {
          "output_type": "stream",
          "name": "stdout",
          "text": [
            "Auto-merging info.md\n",
            "CONFLICT (add/add): Merge conflict in info.md\n",
            "Automatic merge failed; fix conflicts and then commit the result.\n"
          ]
        }
      ],
      "source": [
        "!git merge cool-branch"
      ]
    },
    {
      "cell_type": "code",
      "execution_count": null,
      "metadata": {
        "colab": {
          "base_uri": "https://localhost:8080/"
        },
        "id": "ibkPsmaVhX7V",
        "outputId": "2263b23b-1d93-4192-8b63-ec7dffa39267"
      },
      "outputs": [
        {
          "output_type": "stream",
          "name": "stdout",
          "text": [
            "On branch main\n",
            "You have unmerged paths.\n",
            "  (fix conflicts and run \"git commit\")\n",
            "  (use \"git merge --abort\" to abort the merge)\n",
            "\n",
            "Unmerged paths:\n",
            "  (use \"git add <file>...\" to mark resolution)\n",
            "\t\u001b[31mboth added:      info.md\u001b[m\n",
            "\n",
            "no changes added to commit (use \"git add\" and/or \"git commit -a\")\n"
          ]
        }
      ],
      "source": [
        "!git status"
      ]
    },
    {
      "cell_type": "code",
      "execution_count": null,
      "metadata": {
        "colab": {
          "base_uri": "https://localhost:8080/"
        },
        "id": "AMYlFJ-thcDb",
        "outputId": "6848dc3c-3cd9-4c1c-8f4b-3126b0f28166"
      },
      "outputs": [
        {
          "output_type": "stream",
          "name": "stdout",
          "text": [
            "<<<<<<< HEAD\n",
            "# branches are cool\n",
            "=======\n",
            "# branches are really cool\n",
            ">>>>>>> cool-branch\n"
          ]
        }
      ],
      "source": [
        "!cat info.md"
      ]
    },
    {
      "cell_type": "markdown",
      "metadata": {
        "id": "1WM1u-T7h1CZ"
      },
      "source": [
        "## How to deal with the merge conflict"
      ]
    },
    {
      "cell_type": "code",
      "execution_count": null,
      "metadata": {
        "id": "tbr2X-1ahoml"
      },
      "outputs": [],
      "source": [
        "!echo \"# branches are cool\\n# branches are really cool\" > info.md"
      ]
    },
    {
      "cell_type": "code",
      "execution_count": null,
      "metadata": {
        "id": "jSw_dNz9iBqO"
      },
      "outputs": [],
      "source": [
        "!git add info.md"
      ]
    },
    {
      "cell_type": "code",
      "execution_count": null,
      "metadata": {
        "colab": {
          "base_uri": "https://localhost:8080/"
        },
        "id": "ZwAVpekBiDq9",
        "outputId": "cdb76446-ee1c-4406-d61c-94963b81ecdb"
      },
      "outputs": [
        {
          "output_type": "stream",
          "name": "stdout",
          "text": [
            "[main 9b02e13] Merge branch 'cool-branch'\n"
          ]
        }
      ],
      "source": [
        "!git commit -m \"Merge branch 'cool-branch'\""
      ]
    },
    {
      "cell_type": "code",
      "execution_count": null,
      "metadata": {
        "colab": {
          "base_uri": "https://localhost:8080/"
        },
        "id": "MixDe_NKiMkL",
        "outputId": "13ac09a1-4da3-4ccc-cd94-bf610a3002e3"
      },
      "outputs": [
        {
          "output_type": "stream",
          "name": "stdout",
          "text": [
            "On branch main\n",
            "nothing to commit, working tree clean\n"
          ]
        }
      ],
      "source": [
        "!git status"
      ]
    },
    {
      "cell_type": "markdown",
      "metadata": {
        "id": "IVs5EolWihmk"
      },
      "source": [
        "# Merging with additions to a file"
      ]
    },
    {
      "cell_type": "code",
      "source": [
        ""
      ],
      "metadata": {
        "id": "DF0uoWW9kEnv"
      },
      "execution_count": null,
      "outputs": []
    },
    {
      "cell_type": "code",
      "source": [
        ""
      ],
      "metadata": {
        "id": "_LeivqIykGd0"
      },
      "execution_count": null,
      "outputs": []
    },
    {
      "cell_type": "code",
      "execution_count": null,
      "metadata": {
        "colab": {
          "base_uri": "https://localhost:8080/"
        },
        "id": "b978EXtxiR8_",
        "outputId": "59cf38b6-18d7-4a0e-93bf-dfc1de9ba2a0"
      },
      "outputs": [
        {
          "output_type": "stream",
          "name": "stdout",
          "text": [
            "[main 28bdc91] add help.md\n",
            " 1 file changed, 1 insertion(+)\n",
            " create mode 100644 help.md\n"
          ]
        }
      ],
      "source": [
        "!echo \"I love functions!\" > help.md\n",
        "!git add help.md\n",
        "!git commit -m \"add help.md\""
      ]
    },
    {
      "cell_type": "code",
      "execution_count": null,
      "metadata": {
        "id": "ZFa1TimRixqx"
      },
      "outputs": [],
      "source": [
        "!git branch love"
      ]
    },
    {
      "cell_type": "code",
      "execution_count": null,
      "metadata": {
        "colab": {
          "base_uri": "https://localhost:8080/"
        },
        "id": "x36sE9uEizjg",
        "outputId": "3c4836d9-2924-418e-ed73-668d78f24db3"
      },
      "outputs": [
        {
          "output_type": "stream",
          "name": "stdout",
          "text": [
            "Switched to branch 'love'\n"
          ]
        }
      ],
      "source": [
        "!git switch love"
      ]
    },
    {
      "cell_type": "code",
      "execution_count": null,
      "metadata": {
        "colab": {
          "base_uri": "https://localhost:8080/"
        },
        "id": "xF9x5Mm6i02Z",
        "outputId": "59f46d57-7118-419c-8e26-dd5b07e3c60a"
      },
      "outputs": [
        {
          "output_type": "stream",
          "name": "stdout",
          "text": [
            "[love fd0f31b] update help.md\n",
            " 1 file changed, 1 insertion(+)\n"
          ]
        }
      ],
      "source": [
        "!echo \" and I also love methods!\" >> help.md\n",
        "!git add help.md\n",
        "!git commit -m \"update help.md\""
      ]
    },
    {
      "cell_type": "code",
      "execution_count": null,
      "metadata": {
        "colab": {
          "base_uri": "https://localhost:8080/"
        },
        "id": "03cjJ55ui65u",
        "outputId": "57063b0e-ebc3-49b5-cccf-b40eba02e2a7"
      },
      "outputs": [
        {
          "output_type": "stream",
          "name": "stdout",
          "text": [
            "Switched to branch 'main'\n"
          ]
        }
      ],
      "source": [
        "!git switch main"
      ]
    },
    {
      "cell_type": "code",
      "execution_count": null,
      "metadata": {
        "colab": {
          "base_uri": "https://localhost:8080/"
        },
        "id": "-IwKfcdLjQop",
        "outputId": "b7a86dcc-19df-41cc-8b27-7514d07bda99"
      },
      "outputs": [
        {
          "output_type": "stream",
          "name": "stdout",
          "text": [
            "[main d7cdc16] update help.md\n",
            " 1 file changed, 1 insertion(+), 1 deletion(-)\n"
          ]
        }
      ],
      "source": [
        "!echo \"I love functions! and I also love classes!\" > help.md\n",
        "!git add help.md\n",
        "!git commit -m \"update help.md\""
      ]
    },
    {
      "cell_type": "code",
      "execution_count": null,
      "metadata": {
        "colab": {
          "base_uri": "https://localhost:8080/"
        },
        "id": "cVp5E712i9Yu",
        "outputId": "2ce9c0c5-aa08-4e24-8a02-3f563d4852ce"
      },
      "outputs": [
        {
          "output_type": "stream",
          "name": "stdout",
          "text": [
            "Auto-merging help.md\n",
            "CONFLICT (content): Merge conflict in help.md\n",
            "Automatic merge failed; fix conflicts and then commit the result.\n"
          ]
        }
      ],
      "source": [
        "!git merge love"
      ]
    },
    {
      "cell_type": "code",
      "execution_count": null,
      "metadata": {
        "colab": {
          "base_uri": "https://localhost:8080/"
        },
        "id": "bPQ4Ul9ci-xX",
        "outputId": "1e299048-ba0e-44e7-9363-abe89b8dd897"
      },
      "outputs": [
        {
          "output_type": "stream",
          "name": "stdout",
          "text": [
            "<<<<<<< HEAD\n",
            "I love functions! and I also love classes!\n",
            "=======\n",
            "I love functions!\n",
            " and I also love methods!\n",
            ">>>>>>> love\n"
          ]
        }
      ],
      "source": [
        "!cat help.md"
      ]
    },
    {
      "cell_type": "code",
      "execution_count": null,
      "metadata": {
        "colab": {
          "base_uri": "https://localhost:8080/"
        },
        "id": "ruzAr7YYjDPK",
        "outputId": "3d75d643-f921-4de2-e86b-ae79c097c43b"
      },
      "outputs": [
        {
          "output_type": "stream",
          "name": "stdout",
          "text": [
            "<<<<<<< HEAD\n",
            "I love functions! and I also love classes!\n",
            "=======\n",
            "I love functions!\n",
            " and I also love methods!\n",
            ">>>>>>> love\n"
          ]
        }
      ],
      "source": [
        "!cat help.md"
      ]
    },
    {
      "cell_type": "markdown",
      "source": [
        "# Merge Example"
      ],
      "metadata": {
        "id": "t0XQwNIykRIj"
      }
    },
    {
      "cell_type": "code",
      "source": [
        "%cd .."
      ],
      "metadata": {
        "id": "e6MC3LymkTPQ",
        "colab": {
          "base_uri": "https://localhost:8080/"
        },
        "outputId": "95aacede-11af-44a7-8259-ff37181438fa"
      },
      "execution_count": null,
      "outputs": [
        {
          "output_type": "stream",
          "name": "stdout",
          "text": [
            "/content/headfirst-git-samples\n"
          ]
        }
      ]
    },
    {
      "cell_type": "code",
      "execution_count": null,
      "metadata": {
        "id": "LzsO2STgjEEq",
        "colab": {
          "base_uri": "https://localhost:8080/"
        },
        "outputId": "7bda50ec-0ea1-4c9d-b4f4-1f3c0f2f9286"
      },
      "outputs": [
        {
          "output_type": "stream",
          "name": "stdout",
          "text": [
            "/content/headfirst-git-samples/loving-git\n",
            "Initialized empty Git repository in /content/headfirst-git-samples/loving-git/.git/\n"
          ]
        }
      ],
      "source": [
        "!mkdir loving-git\n",
        "%cd loving-git\n",
        "!git init"
      ]
    },
    {
      "cell_type": "code",
      "source": [
        "!echo \"# Tribute to Git\" > tribute.md"
      ],
      "metadata": {
        "id": "F8JNc1hbkWBr"
      },
      "execution_count": null,
      "outputs": []
    },
    {
      "cell_type": "code",
      "source": [
        "!git add tribute.md"
      ],
      "metadata": {
        "id": "I_okyHZxkcFd"
      },
      "execution_count": null,
      "outputs": []
    },
    {
      "cell_type": "code",
      "source": [
        "!git commit -m \"A\""
      ],
      "metadata": {
        "colab": {
          "base_uri": "https://localhost:8080/"
        },
        "id": "PaGYAc3RkgDY",
        "outputId": "da675949-7b5a-4bf4-f304-e4eeab8f5f4b"
      },
      "execution_count": null,
      "outputs": [
        {
          "output_type": "stream",
          "name": "stdout",
          "text": [
            "[main (root-commit) 1117d8e] A\n",
            " 1 file changed, 1 insertion(+)\n",
            " create mode 100644 tribute.md\n"
          ]
        }
      ]
    },
    {
      "cell_type": "code",
      "source": [
        "!git branch improvisation"
      ],
      "metadata": {
        "id": "UrqMFXHZkh7P"
      },
      "execution_count": null,
      "outputs": []
    },
    {
      "cell_type": "code",
      "source": [
        "!git branch -v"
      ],
      "metadata": {
        "colab": {
          "base_uri": "https://localhost:8080/"
        },
        "id": "YhEURbXDkkmK",
        "outputId": "02983610-6c48-4bf6-f65f-f1359a7f5c25"
      },
      "execution_count": null,
      "outputs": [
        {
          "output_type": "stream",
          "name": "stdout",
          "text": [
            "  improvisation\u001b[m 1117d8e A\n",
            "* \u001b[32mmain         \u001b[m 1117d8e A\n"
          ]
        }
      ]
    },
    {
      "cell_type": "code",
      "source": [
        "!git switch improvisation\n",
        "!git branch -v"
      ],
      "metadata": {
        "colab": {
          "base_uri": "https://localhost:8080/"
        },
        "id": "_69_o9XlklZu",
        "outputId": "f7465fb4-9610-4fa8-a800-cdcc59b5dab2"
      },
      "execution_count": null,
      "outputs": [
        {
          "output_type": "stream",
          "name": "stdout",
          "text": [
            "Switched to branch 'improvisation'\n",
            "* \u001b[32mimprovisation\u001b[m 1117d8e A\n",
            "  main         \u001b[m 1117d8e A\n"
          ]
        }
      ]
    },
    {
      "cell_type": "code",
      "source": [
        "!echo \"# Tribute to Git\\nThere's a version control tool called Git\" > tribute.md"
      ],
      "metadata": {
        "id": "qUBqhRsmkt13"
      },
      "execution_count": null,
      "outputs": []
    },
    {
      "cell_type": "code",
      "source": [
        "!git add tribute.md\n",
        "!git commit -m \"B\""
      ],
      "metadata": {
        "colab": {
          "base_uri": "https://localhost:8080/"
        },
        "id": "ELXTc0oOk_5Q",
        "outputId": "3925405a-d480-4c42-a56d-48dd028d6bdf"
      },
      "execution_count": null,
      "outputs": [
        {
          "output_type": "stream",
          "name": "stdout",
          "text": [
            "[improvisation 6c70377] B\n",
            " 1 file changed, 1 insertion(+), 1 deletion(-)\n"
          ]
        }
      ]
    },
    {
      "cell_type": "code",
      "source": [
        "!git switch main\n",
        "!git branch -v"
      ],
      "metadata": {
        "colab": {
          "base_uri": "https://localhost:8080/"
        },
        "id": "QCF7FDv3lDXp",
        "outputId": "767e0f01-208e-497a-f086-0ac3dab02ebd"
      },
      "execution_count": null,
      "outputs": [
        {
          "output_type": "stream",
          "name": "stdout",
          "text": [
            "Switched to branch 'main'\n",
            "  improvisation\u001b[m 6c70377 B\n",
            "* \u001b[32mmain         \u001b[m 1117d8e A\n"
          ]
        }
      ]
    },
    {
      "cell_type": "code",
      "source": [
        "!echo \"# Tribute to Git\\nThere's a version-control tool called Git\" > tribute.md"
      ],
      "metadata": {
        "id": "3qBn8LTZlGzG"
      },
      "execution_count": null,
      "outputs": []
    },
    {
      "cell_type": "code",
      "source": [
        "!git add tribute.md\n",
        "!git commit -m \"C\""
      ],
      "metadata": {
        "colab": {
          "base_uri": "https://localhost:8080/"
        },
        "id": "TilKVS-4lQzK",
        "outputId": "09bdb602-e23c-4f93-f18f-c7c32759e546"
      },
      "execution_count": null,
      "outputs": [
        {
          "output_type": "stream",
          "name": "stdout",
          "text": [
            "[main 865e706] C\n",
            " 1 file changed, 1 insertion(+), 1 deletion(-)\n"
          ]
        }
      ]
    },
    {
      "cell_type": "code",
      "source": [
        "!git branch -v"
      ],
      "metadata": {
        "colab": {
          "base_uri": "https://localhost:8080/"
        },
        "id": "bGGQ6S2glSke",
        "outputId": "8627091d-e90f-4a94-acb1-4c264f9b9317"
      },
      "execution_count": null,
      "outputs": [
        {
          "output_type": "stream",
          "name": "stdout",
          "text": [
            "  improvisation\u001b[m 6c70377 B\n",
            "* \u001b[32mmain         \u001b[m 865e706 C\n"
          ]
        }
      ]
    },
    {
      "cell_type": "code",
      "source": [
        "!git merge improvisation"
      ],
      "metadata": {
        "colab": {
          "base_uri": "https://localhost:8080/"
        },
        "id": "18OnEle6lThH",
        "outputId": "caf467a0-9e23-4132-ab59-c94ed145531b"
      },
      "execution_count": null,
      "outputs": [
        {
          "output_type": "stream",
          "name": "stdout",
          "text": [
            "Auto-merging tribute.md\n",
            "CONFLICT (content): Merge conflict in tribute.md\n",
            "Automatic merge failed; fix conflicts and then commit the result.\n"
          ]
        }
      ]
    },
    {
      "cell_type": "code",
      "source": [
        "!echo \"# Tribute to Git\\nThere's a version-control tool called Git\" > tribute.md"
      ],
      "metadata": {
        "id": "hqlGYRBYlZKn"
      },
      "execution_count": null,
      "outputs": []
    },
    {
      "cell_type": "code",
      "source": [
        "!git add tribute.md\n",
        "!git commit -m \"Merge resolution\""
      ],
      "metadata": {
        "colab": {
          "base_uri": "https://localhost:8080/"
        },
        "id": "ilgyVbsFlapl",
        "outputId": "e8e61d04-3d2e-4017-81b7-dcc5e491eba6"
      },
      "execution_count": null,
      "outputs": [
        {
          "output_type": "stream",
          "name": "stdout",
          "text": [
            "[main 052bab2] Merge resolution\n"
          ]
        }
      ]
    },
    {
      "cell_type": "code",
      "source": [
        "!git branch -v"
      ],
      "metadata": {
        "colab": {
          "base_uri": "https://localhost:8080/"
        },
        "id": "CFftk3V1lumV",
        "outputId": "4204a04d-726c-40db-e0fc-753398a74958"
      },
      "execution_count": null,
      "outputs": [
        {
          "output_type": "stream",
          "name": "stdout",
          "text": [
            "  improvisation\u001b[m 6c70377 B\n",
            "* \u001b[32mmain         \u001b[m 052bab2 Merge resolution\n"
          ]
        }
      ]
    },
    {
      "cell_type": "code",
      "source": [
        "!git log"
      ],
      "metadata": {
        "colab": {
          "base_uri": "https://localhost:8080/"
        },
        "id": "QfN40mN1l1sI",
        "outputId": "591b4c5a-0ef8-4b97-cd06-adfef38dd6e7"
      },
      "execution_count": null,
      "outputs": [
        {
          "output_type": "stream",
          "name": "stdout",
          "text": [
            "\u001b[33mcommit 052bab254eae0e9a24f2b7327f8ae13acd91968e\u001b[m\u001b[33m (\u001b[m\u001b[1;36mHEAD -> \u001b[m\u001b[1;32mmain\u001b[m\u001b[33m)\u001b[m\n",
            "Merge: 865e706 6c70377\n",
            "Author: Colab <colab@gmail.com>\n",
            "Date:   Thu Jun 9 00:56:07 2022 +0000\n",
            "\n",
            "    Merge resolution\n",
            "\n",
            "\u001b[33mcommit 865e706420eace906a7e348ed5650f85cd2354f0\u001b[m\n",
            "Author: Colab <colab@gmail.com>\n",
            "Date:   Thu Jun 9 00:56:07 2022 +0000\n",
            "\n",
            "    C\n",
            "\n",
            "\u001b[33mcommit 6c70377cf21a108ac9cbfb36ce2a7d95f6a76b96\u001b[m\u001b[33m (\u001b[m\u001b[1;32mimprovisation\u001b[m\u001b[33m)\u001b[m\n",
            "Author: Colab <colab@gmail.com>\n",
            "Date:   Thu Jun 9 00:56:06 2022 +0000\n",
            "\n",
            "    B\n",
            "\n",
            "\u001b[33mcommit 1117d8e3f50e009e7b896a03b8e48af24a4cd485\u001b[m\n",
            "Author: Colab <colab@gmail.com>\n",
            "Date:   Thu Jun 9 00:56:05 2022 +0000\n",
            "\n",
            "    A\n"
          ]
        }
      ]
    },
    {
      "cell_type": "code",
      "source": [
        "!echo \"Hello World\" > hello.md\n",
        "!git add hello.md\n",
        "!git commit -m \"D\""
      ],
      "metadata": {
        "colab": {
          "base_uri": "https://localhost:8080/"
        },
        "id": "fmN7yS7Nl2tO",
        "outputId": "70ba1749-7ca7-474f-b09d-6c97d9a06e0d"
      },
      "execution_count": null,
      "outputs": [
        {
          "output_type": "stream",
          "name": "stdout",
          "text": [
            "[main 71d4416] D\n",
            " 1 file changed, 1 insertion(+)\n",
            " create mode 100644 hello.md\n"
          ]
        }
      ]
    },
    {
      "cell_type": "code",
      "source": [
        "!git log"
      ],
      "metadata": {
        "colab": {
          "base_uri": "https://localhost:8080/"
        },
        "id": "7dTLhLc_mFMT",
        "outputId": "917707a9-5766-4520-9dd7-dfe265638552"
      },
      "execution_count": null,
      "outputs": [
        {
          "output_type": "stream",
          "name": "stdout",
          "text": [
            "\u001b[33mcommit 71d441629ee363fc63d1c292e491d7da09b17b97\u001b[m\u001b[33m (\u001b[m\u001b[1;36mHEAD -> \u001b[m\u001b[1;32mmain\u001b[m\u001b[33m)\u001b[m\n",
            "Author: Colab <colab@gmail.com>\n",
            "Date:   Thu Jun 9 00:56:08 2022 +0000\n",
            "\n",
            "    D\n",
            "\n",
            "\u001b[33mcommit 052bab254eae0e9a24f2b7327f8ae13acd91968e\u001b[m\n",
            "Merge: 865e706 6c70377\n",
            "Author: Colab <colab@gmail.com>\n",
            "Date:   Thu Jun 9 00:56:07 2022 +0000\n",
            "\n",
            "    Merge resolution\n",
            "\n",
            "\u001b[33mcommit 865e706420eace906a7e348ed5650f85cd2354f0\u001b[m\n",
            "Author: Colab <colab@gmail.com>\n",
            "Date:   Thu Jun 9 00:56:07 2022 +0000\n",
            "\n",
            "    C\n",
            "\n",
            "\u001b[33mcommit 6c70377cf21a108ac9cbfb36ce2a7d95f6a76b96\u001b[m\u001b[33m (\u001b[m\u001b[1;32mimprovisation\u001b[m\u001b[33m)\u001b[m\n",
            "Author: Colab <colab@gmail.com>\n",
            "Date:   Thu Jun 9 00:56:06 2022 +0000\n",
            "\n",
            "    B\n",
            "\n",
            "\u001b[33mcommit 1117d8e3f50e009e7b896a03b8e48af24a4cd485\u001b[m\n",
            "Author: Colab <colab@gmail.com>\n",
            "Date:   Thu Jun 9 00:56:05 2022 +0000\n",
            "\n",
            "    A\n"
          ]
        }
      ]
    },
    {
      "cell_type": "code",
      "source": [
        "!git switch improvisation\n",
        "!git log"
      ],
      "metadata": {
        "colab": {
          "base_uri": "https://localhost:8080/"
        },
        "id": "bshA8UDqmFml",
        "outputId": "5c21fed8-d4eb-445d-9d98-2ac942b5136f"
      },
      "execution_count": null,
      "outputs": [
        {
          "output_type": "stream",
          "name": "stdout",
          "text": [
            "Switched to branch 'improvisation'\n",
            "\u001b[33mcommit 6c70377cf21a108ac9cbfb36ce2a7d95f6a76b96\u001b[m\u001b[33m (\u001b[m\u001b[1;36mHEAD -> \u001b[m\u001b[1;32mimprovisation\u001b[m\u001b[33m)\u001b[m\n",
            "Author: Colab <colab@gmail.com>\n",
            "Date:   Thu Jun 9 00:56:06 2022 +0000\n",
            "\n",
            "    B\n",
            "\n",
            "\u001b[33mcommit 1117d8e3f50e009e7b896a03b8e48af24a4cd485\u001b[m\n",
            "Author: Colab <colab@gmail.com>\n",
            "Date:   Thu Jun 9 00:56:05 2022 +0000\n",
            "\n",
            "    A\n"
          ]
        }
      ]
    },
    {
      "cell_type": "code",
      "source": [
        "!git switch main"
      ],
      "metadata": {
        "colab": {
          "base_uri": "https://localhost:8080/"
        },
        "id": "ZRDrWEdKmKSk",
        "outputId": "eae708b4-4fda-4186-f854-9a504070c4c1"
      },
      "execution_count": null,
      "outputs": [
        {
          "output_type": "stream",
          "name": "stdout",
          "text": [
            "Switched to branch 'main'\n"
          ]
        }
      ]
    },
    {
      "cell_type": "markdown",
      "source": [
        "# Cleaning up merged branches"
      ],
      "metadata": {
        "id": "u2EuqCwimU2H"
      }
    },
    {
      "cell_type": "code",
      "source": [
        "%cd ../80s-diner"
      ],
      "metadata": {
        "colab": {
          "base_uri": "https://localhost:8080/"
        },
        "id": "ElDj5SzimOid",
        "outputId": "ffa2449a-11fc-4f5e-9bf7-d834eccf865c"
      },
      "execution_count": null,
      "outputs": [
        {
          "output_type": "stream",
          "name": "stdout",
          "text": [
            "/content/headfirst-git-samples/80s-diner\n"
          ]
        }
      ]
    },
    {
      "cell_type": "code",
      "source": [
        "!git branch -v"
      ],
      "metadata": {
        "colab": {
          "base_uri": "https://localhost:8080/"
        },
        "id": "2djZ5j-ZmjY6",
        "outputId": "7065eba6-7cbf-43b7-9eea-189a44adf83d"
      },
      "execution_count": null,
      "outputs": [
        {
          "output_type": "stream",
          "name": "stdout",
          "text": [
            "  add-fall-menu  \u001b[m ce2f732 update heading\n",
            "  add-thurs-menu \u001b[m bae4a4b add thursday menu\n",
            "  cool-branch    \u001b[m 60c03b3 add cooler info\n",
            "  love           \u001b[m fd0f31b update help.md\n",
            "* \u001b[32mmain           \u001b[m d7cdc16 update help.md\n",
            "  my-first-branch\u001b[m 1311e5a Add the main menu\n"
          ]
        }
      ]
    },
    {
      "cell_type": "code",
      "source": [
        "!git branch -d add-fall-menu"
      ],
      "metadata": {
        "colab": {
          "base_uri": "https://localhost:8080/"
        },
        "id": "XQB_d8t-mktc",
        "outputId": "4a7e3c91-6cd3-4139-b185-80ceac639c60"
      },
      "execution_count": null,
      "outputs": [
        {
          "output_type": "stream",
          "name": "stdout",
          "text": [
            "Deleted branch add-fall-menu (was ce2f732).\n"
          ]
        }
      ]
    },
    {
      "cell_type": "code",
      "source": [
        "!git branch -d add-thurs-menu"
      ],
      "metadata": {
        "colab": {
          "base_uri": "https://localhost:8080/"
        },
        "id": "rS8ZdbeJmqUV",
        "outputId": "927e22a1-605a-4010-d6c7-3a16f074d632"
      },
      "execution_count": null,
      "outputs": [
        {
          "output_type": "stream",
          "name": "stdout",
          "text": [
            "Deleted branch add-thurs-menu (was bae4a4b).\n"
          ]
        }
      ]
    },
    {
      "cell_type": "code",
      "source": [
        "!git branch -d cool-branch"
      ],
      "metadata": {
        "colab": {
          "base_uri": "https://localhost:8080/"
        },
        "id": "evSCuoiamtGP",
        "outputId": "b7e95e36-727a-4fba-afca-e2f4f8c278b1"
      },
      "execution_count": null,
      "outputs": [
        {
          "output_type": "stream",
          "name": "stdout",
          "text": [
            "Deleted branch cool-branch (was 60c03b3).\n"
          ]
        }
      ]
    },
    {
      "cell_type": "code",
      "source": [
        "!git branch -d love"
      ],
      "metadata": {
        "colab": {
          "base_uri": "https://localhost:8080/"
        },
        "id": "PK7Ysbfomufi",
        "outputId": "944d68c8-9aab-44f5-8ec3-2147a2deb675"
      },
      "execution_count": null,
      "outputs": [
        {
          "output_type": "stream",
          "name": "stdout",
          "text": [
            "error: The branch 'love' is not fully merged.\n",
            "If you are sure you want to delete it, run 'git branch -D love'.\n"
          ]
        }
      ]
    },
    {
      "cell_type": "code",
      "source": [
        "!git branch -D love"
      ],
      "metadata": {
        "colab": {
          "base_uri": "https://localhost:8080/"
        },
        "id": "ZQu5zjI-m1yw",
        "outputId": "41bdc1d4-2f47-4a5c-986a-250b2b9cf267"
      },
      "execution_count": null,
      "outputs": [
        {
          "output_type": "stream",
          "name": "stdout",
          "text": [
            "Deleted branch love (was fd0f31b).\n"
          ]
        }
      ]
    },
    {
      "cell_type": "code",
      "source": [
        "!git branch -d my-first-branch"
      ],
      "metadata": {
        "colab": {
          "base_uri": "https://localhost:8080/"
        },
        "id": "-m4hCFEymwZU",
        "outputId": "592c1882-1fdd-4b94-8eaf-43f21356062a"
      },
      "execution_count": null,
      "outputs": [
        {
          "output_type": "stream",
          "name": "stdout",
          "text": [
            "Deleted branch my-first-branch (was 1311e5a).\n"
          ]
        }
      ]
    },
    {
      "cell_type": "code",
      "source": [
        "!git branch -v"
      ],
      "metadata": {
        "colab": {
          "base_uri": "https://localhost:8080/"
        },
        "id": "kNSSe8qkmy-G",
        "outputId": "97e50183-7508-41f8-8a5f-7ff15a60f954"
      },
      "execution_count": null,
      "outputs": [
        {
          "output_type": "stream",
          "name": "stdout",
          "text": [
            "* \u001b[32mmain\u001b[m d7cdc16 update help.md\n"
          ]
        }
      ]
    },
    {
      "cell_type": "code",
      "source": [
        "!git log"
      ],
      "metadata": {
        "colab": {
          "base_uri": "https://localhost:8080/"
        },
        "id": "UF1fq_tSm3s0",
        "outputId": "bd83b563-f351-4bf6-de0e-89e6b52416d3"
      },
      "execution_count": null,
      "outputs": [
        {
          "output_type": "stream",
          "name": "stdout",
          "text": [
            "\u001b[33mcommit d7cdc16d8daf5f4d8355e2524d03ad0f11082c9e\u001b[m\u001b[33m (\u001b[m\u001b[1;36mHEAD -> \u001b[m\u001b[1;32mmain\u001b[m\u001b[33m)\u001b[m\n",
            "Author: Colab <colab@gmail.com>\n",
            "Date:   Thu Jun 9 00:56:04 2022 +0000\n",
            "\n",
            "    update help.md\n",
            "\n",
            "\u001b[33mcommit 28bdc9191e0cb2f00882e1d6cd9e05a22de19215\u001b[m\n",
            "Author: Colab <colab@gmail.com>\n",
            "Date:   Thu Jun 9 00:56:03 2022 +0000\n",
            "\n",
            "    add help.md\n",
            "\n",
            "\u001b[33mcommit 9b02e132c834ed5b1dad08fc8f446efeccdd23c0\u001b[m\n",
            "Merge: 9b0b96d 60c03b3\n",
            "Author: Colab <colab@gmail.com>\n",
            "Date:   Thu Jun 9 00:56:03 2022 +0000\n",
            "\n",
            "    Merge branch 'cool-branch'\n",
            "\n",
            "\u001b[33mcommit 60c03b3eb06650ae0512f3bc829cd8cdfc814c6f\u001b[m\n",
            "Author: Colab <colab@gmail.com>\n",
            "Date:   Thu Jun 9 00:56:02 2022 +0000\n",
            "\n",
            "    add cooler info\n",
            "\n",
            "\u001b[33mcommit 9b0b96d64971cf14d890ae8b1395ec6fdca8ca7f\u001b[m\n",
            "Author: Colab <colab@gmail.com>\n",
            "Date:   Thu Jun 9 00:56:01 2022 +0000\n",
            "\n",
            "    add info\n",
            "\n",
            "\u001b[33mcommit f15524d7a9bbcb2b926daea9762423560025263c\u001b[m\n",
            "Merge: ce2f732 bae4a4b\n",
            "Author: Colab <colab@gmail.com>\n",
            "Date:   Thu Jun 9 00:56:01 2022 +0000\n",
            "\n",
            "    merge thurs and main\n",
            "\n",
            "\u001b[33mcommit bae4a4b01609ea50be60243e581e2e26529b7040\u001b[m\n",
            "Author: Colab <colab@gmail.com>\n",
            "Date:   Thu Jun 9 00:55:59 2022 +0000\n",
            "\n",
            "    add thursday menu\n",
            "\n",
            "\u001b[33mcommit ce2f732530bafdf35be713ea72d309ab205656c2\u001b[m\n",
            "Author: Colab <colab@gmail.com>\n",
            "Date:   Thu Jun 9 00:55:57 2022 +0000\n",
            "\n",
            "    update heading\n",
            "\n",
            "\u001b[33mcommit fdf19d57c7efdd598456a2f697c27ab0423532f4\u001b[m\n",
            "Author: Colab <colab@gmail.com>\n",
            "Date:   Thu Jun 9 00:55:57 2022 +0000\n",
            "\n",
            "    add the fall menu\n",
            "\n",
            "\u001b[33mcommit 1311e5ab89588f3f4297c4b22c762d59d0127d9d\u001b[m\n",
            "Author: Colab <colab@gmail.com>\n",
            "Date:   Thu Jun 9 00:55:55 2022 +0000\n",
            "\n",
            "    Add the main menu\n"
          ]
        }
      ]
    }
  ],
  "metadata": {
    "colab": {
      "collapsed_sections": [],
      "name": "02_Branching_Out.ipynb",
      "provenance": [],
      "authorship_tag": "ABX9TyOvZ1D8XwPWECpNl1K3iSq7",
      "include_colab_link": true
    },
    "kernelspec": {
      "display_name": "Python 3",
      "name": "python3"
    },
    "language_info": {
      "name": "python"
    }
  },
  "nbformat": 4,
  "nbformat_minor": 0
}