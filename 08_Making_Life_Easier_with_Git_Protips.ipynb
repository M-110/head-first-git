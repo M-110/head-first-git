{
  "nbformat": 4,
  "nbformat_minor": 0,
  "metadata": {
    "colab": {
      "name": "08_Making_Life_Easier_with_Git_Protips.ipynb",
      "provenance": [],
      "collapsed_sections": [],
      "authorship_tag": "ABX9TyOtKxQzHht9Wkpm/OWYqWSO",
      "include_colab_link": true
    },
    "kernelspec": {
      "name": "python3",
      "display_name": "Python 3"
    },
    "language_info": {
      "name": "python"
    }
  },
  "cells": [
    {
      "cell_type": "markdown",
      "metadata": {
        "id": "view-in-github",
        "colab_type": "text"
      },
      "source": [
        "<a href=\"https://colab.research.google.com/github/M-110/head-first-git/blob/main/08_Making_Life_Easier_with_Git_Protips.ipynb\" target=\"_parent\"><img src=\"https://colab.research.google.com/assets/colab-badge.svg\" alt=\"Open In Colab\"/></a>"
      ]
    },
    {
      "cell_type": "code",
      "execution_count": null,
      "metadata": {
        "colab": {
          "base_uri": "https://localhost:8080/"
        },
        "id": "BWc3XS6Qj0_6",
        "outputId": "3f6c5018-9480-4ff5-c1da-a40b6df087ab"
      },
      "outputs": [
        {
          "output_type": "stream",
          "name": "stdout",
          "text": [
            "Usage: add-apt-repository <sourceline>\n",
            "\n",
            "add-apt-repository is a script for adding apt sources.list entries.\n",
            "It can be used to add any repository and also provides a shorthand\n",
            "syntax for adding a Launchpad PPA (Personal Package Archive)\n",
            "repository.\n",
            "\n",
            "<sourceline> - The apt repository source line to add. This is one of:\n",
            "  a complete apt line in quotes,\n",
            "  a repo url and areas in quotes (areas defaults to 'main')\n",
            "  a PPA shortcut.\n",
            "  a distro component\n",
            "\n",
            "  Examples:\n",
            "    apt-add-repository 'deb http://myserver/path/to/repo stable myrepo'\n",
            "    apt-add-repository 'http://myserver/path/to/repo myrepo'\n",
            "    apt-add-repository 'https://packages.medibuntu.org free non-free'\n",
            "    apt-add-repository http://extras.ubuntu.com/ubuntu\n",
            "    apt-add-repository ppa:user/repository\n",
            "    apt-add-repository ppa:user/distro/repository\n",
            "    apt-add-repository multiverse\n",
            "\n",
            "If --remove is given the tool will remove the given sourceline from your\n",
            "sources.list\n",
            "\n",
            "\n",
            "add-apt-repository: error: no such option: -q\n",
            "Get:1 http://security.ubuntu.com/ubuntu bionic-security InRelease [88.7 kB]\n",
            "Get:2 https://cloud.r-project.org/bin/linux/ubuntu bionic-cran40/ InRelease [3,626 B]\n",
            "Get:3 https://developer.download.nvidia.com/compute/cuda/repos/ubuntu1804/x86_64  InRelease [1,581 B]\n",
            "Get:4 http://ppa.launchpad.net/c2d4u.team/c2d4u4.0+/ubuntu bionic InRelease [15.9 kB]\n",
            "Hit:5 http://archive.ubuntu.com/ubuntu bionic InRelease\n",
            "Get:6 http://archive.ubuntu.com/ubuntu bionic-updates InRelease [88.7 kB]\n",
            "Ign:7 https://developer.download.nvidia.com/compute/machine-learning/repos/ubuntu1804/x86_64  InRelease\n",
            "Hit:8 https://developer.download.nvidia.com/compute/machine-learning/repos/ubuntu1804/x86_64  Release\n",
            "Hit:9 http://ppa.launchpad.net/cran/libgit2/ubuntu bionic InRelease\n",
            "Get:10 http://security.ubuntu.com/ubuntu bionic-security/main amd64 Packages [2,799 kB]\n",
            "Get:11 http://archive.ubuntu.com/ubuntu bionic-backports InRelease [74.6 kB]\n",
            "Get:12 http://ppa.launchpad.net/deadsnakes/ppa/ubuntu bionic InRelease [15.9 kB]\n",
            "Get:13 http://security.ubuntu.com/ubuntu bionic-security/universe amd64 Packages [1,512 kB]\n",
            "Get:14 http://ppa.launchpad.net/graphics-drivers/ppa/ubuntu bionic InRelease [21.3 kB]\n",
            "Get:15 https://developer.download.nvidia.com/compute/cuda/repos/ubuntu1804/x86_64  Packages [806 kB]\n",
            "Get:16 http://ppa.launchpad.net/c2d4u.team/c2d4u4.0+/ubuntu bionic/main Sources [1,992 kB]\n",
            "Get:18 http://archive.ubuntu.com/ubuntu bionic-updates/universe amd64 Packages [2,286 kB]\n",
            "Get:19 http://ppa.launchpad.net/c2d4u.team/c2d4u4.0+/ubuntu bionic/main amd64 Packages [1,021 kB]\n",
            "Get:20 http://archive.ubuntu.com/ubuntu bionic-updates/main amd64 Packages [3,231 kB]\n",
            "Get:21 http://ppa.launchpad.net/deadsnakes/ppa/ubuntu bionic/main amd64 Packages [45.3 kB]\n",
            "Get:22 http://ppa.launchpad.net/graphics-drivers/ppa/ubuntu bionic/main amd64 Packages [47.7 kB]\n",
            "Fetched 14.1 MB in 4s (3,904 kB/s)\n",
            "Reading package lists...\n",
            "Building dependency tree...\n",
            "Reading state information...\n",
            "65 packages can be upgraded. Run 'apt list --upgradable' to see them.\n",
            "Reading package lists...\n",
            "Building dependency tree...\n",
            "Reading state information...\n",
            "git is already the newest version (1:2.17.1-1ubuntu0.11).\n",
            "The following package was automatically installed and is no longer required:\n",
            "  libnvidia-common-460\n",
            "Use 'apt autoremove' to remove it.\n",
            "0 upgraded, 0 newly installed, 0 to remove and 65 not upgraded.\n"
          ]
        }
      ],
      "source": [
        "!add-apt-repository ppa:git-core/ppa -y -q\n",
        "!apt update -q \n",
        "!apt install git -q"
      ]
    },
    {
      "cell_type": "markdown",
      "source": [
        "# Global .gitconfig file\n",
        "\n",
        "windows:\n",
        "\n",
        "C:/Users/USERNAME/.gitconfig"
      ],
      "metadata": {
        "id": "4r6-S2ZHpmcC"
      }
    },
    {
      "cell_type": "code",
      "source": [
        "cd ~"
      ],
      "metadata": {
        "colab": {
          "base_uri": "https://localhost:8080/"
        },
        "id": "v0ilP-n3pj34",
        "outputId": "a7818f2d-e3e1-4eca-ba1b-691ead65b6d9"
      },
      "execution_count": null,
      "outputs": [
        {
          "output_type": "stream",
          "name": "stdout",
          "text": [
            "/root\n"
          ]
        }
      ]
    },
    {
      "cell_type": "code",
      "source": [
        "ls -A"
      ],
      "metadata": {
        "colab": {
          "base_uri": "https://localhost:8080/"
        },
        "id": "e2UYVUxOpsDf",
        "outputId": "34073454-3411-4aba-bf8c-4094c3f8cb62"
      },
      "execution_count": null,
      "outputs": [
        {
          "output_type": "stream",
          "name": "stdout",
          "text": [
            "\u001b[0m\u001b[01;32m.bashrc\u001b[0m*  \u001b[01;34m.config\u001b[0m/   \u001b[01;34m.jupyter\u001b[0m/  \u001b[01;34m.local\u001b[0m/  .profile\n",
            "\u001b[01;34m.cache\u001b[0m/   \u001b[01;34m.ipython\u001b[0m/  \u001b[01;34m.keras\u001b[0m/    \u001b[01;34m.npm\u001b[0m/    \u001b[01;32m.tmux.conf\u001b[0m*\n"
          ]
        }
      ]
    },
    {
      "cell_type": "markdown",
      "source": [
        "# Project Specific .gitconfig"
      ],
      "metadata": {
        "id": "h7eKvXVMtyLQ"
      }
    },
    {
      "cell_type": "code",
      "source": [
        "cd /content"
      ],
      "metadata": {
        "colab": {
          "base_uri": "https://localhost:8080/"
        },
        "id": "ztE0serJiQOU",
        "outputId": "1c074671-80dd-403f-aa51-ad83ebebfc6a"
      },
      "execution_count": null,
      "outputs": [
        {
          "output_type": "stream",
          "name": "stdout",
          "text": [
            "/content\n"
          ]
        }
      ]
    },
    {
      "cell_type": "code",
      "source": [
        "!git init my-repo\n",
        "%cd my-repo"
      ],
      "metadata": {
        "colab": {
          "base_uri": "https://localhost:8080/"
        },
        "id": "qFLW0fSUiG9l",
        "outputId": "a7b82177-8899-40ae-dc2d-6814add7247f"
      },
      "execution_count": null,
      "outputs": [
        {
          "output_type": "stream",
          "name": "stdout",
          "text": [
            "Initialized empty Git repository in /content/my-repo/.git/\n",
            "/content/my-repo\n"
          ]
        }
      ]
    },
    {
      "cell_type": "markdown",
      "source": [
        "By default git config will use --local. You must include --global to get global config"
      ],
      "metadata": {
        "id": "-g14YkWoilcw"
      }
    },
    {
      "cell_type": "code",
      "source": [
        "!git config --local user.email \"dev@hotmail.com\""
      ],
      "metadata": {
        "id": "xnkznJPhpuRD"
      },
      "execution_count": null,
      "outputs": []
    },
    {
      "cell_type": "code",
      "source": [
        "ls .git -A"
      ],
      "metadata": {
        "colab": {
          "base_uri": "https://localhost:8080/"
        },
        "id": "lGA5fILdiUt9",
        "outputId": "89efaa83-cec1-4c72-fc01-256b78bd2324"
      },
      "execution_count": null,
      "outputs": [
        {
          "output_type": "stream",
          "name": "stdout",
          "text": [
            "\u001b[0m\u001b[01;34mbranches\u001b[0m/  config  description  HEAD  \u001b[01;34mhooks\u001b[0m/  \u001b[01;34minfo\u001b[0m/  \u001b[01;34mobjects\u001b[0m/  \u001b[01;34mrefs\u001b[0m/\n"
          ]
        }
      ]
    },
    {
      "cell_type": "code",
      "source": [
        "!cat .git/config"
      ],
      "metadata": {
        "colab": {
          "base_uri": "https://localhost:8080/"
        },
        "id": "uUw4LuBHiumv",
        "outputId": "213a5912-6554-48d0-cb60-581f75eb12ed"
      },
      "execution_count": null,
      "outputs": [
        {
          "output_type": "stream",
          "name": "stdout",
          "text": [
            "[core]\n",
            "\trepositoryformatversion = 0\n",
            "\tfilemode = true\n",
            "\tbare = false\n",
            "\tlogallrefupdates = true\n",
            "[user]\n",
            "\temail = dev@hotmail.com\n"
          ]
        }
      ]
    },
    {
      "cell_type": "markdown",
      "source": [
        "## Git will not give errors on typos. Anything you type will be added\n"
      ],
      "metadata": {
        "id": "MqzInsNyi4t3"
      }
    },
    {
      "cell_type": "code",
      "source": [
        "!git config usr.emali \"dev@healthcare.gov\""
      ],
      "metadata": {
        "id": "BeqLGaVNizcz"
      },
      "execution_count": null,
      "outputs": []
    },
    {
      "cell_type": "markdown",
      "source": [
        "not case sensitive "
      ],
      "metadata": {
        "id": "Wfn9R2HljPjI"
      }
    },
    {
      "cell_type": "code",
      "source": [
        "!git config user.EMAIL \"dev@hello.world\""
      ],
      "metadata": {
        "id": "neopLeQcjHqz"
      },
      "execution_count": null,
      "outputs": []
    },
    {
      "cell_type": "code",
      "source": [
        "!cat .git/config"
      ],
      "metadata": {
        "colab": {
          "base_uri": "https://localhost:8080/"
        },
        "id": "TXXCKWmfjDLh",
        "outputId": "570c92c0-ddfa-47a7-dc55-cb63213d2bc8"
      },
      "execution_count": null,
      "outputs": [
        {
          "output_type": "stream",
          "name": "stdout",
          "text": [
            "[core]\n",
            "\trepositoryformatversion = 0\n",
            "\tfilemode = true\n",
            "\tbare = false\n",
            "\tlogallrefupdates = true\n",
            "[user]\n",
            "\tEMAIL = dev@hello.world\n",
            "[usr]\n",
            "\temali = dev@healthcare.gov\n"
          ]
        }
      ]
    },
    {
      "cell_type": "code",
      "source": [
        "!git config user.mail.today \"hello\""
      ],
      "metadata": {
        "id": "o5hoXU5pjVit"
      },
      "execution_count": null,
      "outputs": []
    },
    {
      "cell_type": "code",
      "source": [
        "!cat .git/config"
      ],
      "metadata": {
        "colab": {
          "base_uri": "https://localhost:8080/"
        },
        "id": "FWQYFs9ljEe1",
        "outputId": "72e30909-bdd9-4235-eca1-aa02580b855b"
      },
      "execution_count": null,
      "outputs": [
        {
          "output_type": "stream",
          "name": "stdout",
          "text": [
            "[core]\n",
            "\trepositoryformatversion = 0\n",
            "\tfilemode = true\n",
            "\tbare = false\n",
            "\tlogallrefupdates = true\n",
            "[user]\n",
            "\tEMAIL = dev@hello.world\n",
            "[usr]\n",
            "\temali = dev@healthcare.gov\n",
            "[user \"mail\"]\n",
            "\ttoday = hello\n"
          ]
        }
      ]
    },
    {
      "cell_type": "markdown",
      "source": [
        "## Delete a config"
      ],
      "metadata": {
        "id": "araXJ4WLj3Q0"
      }
    },
    {
      "cell_type": "code",
      "source": [
        "!git config --unset usr.emali"
      ],
      "metadata": {
        "id": "_w4zRu8ajZ8M"
      },
      "execution_count": null,
      "outputs": []
    },
    {
      "cell_type": "code",
      "source": [
        "!cat .git/config"
      ],
      "metadata": {
        "colab": {
          "base_uri": "https://localhost:8080/"
        },
        "id": "LrAGtincj7XO",
        "outputId": "b51434ec-0ff5-4a10-e72a-1406ea5606e5"
      },
      "execution_count": null,
      "outputs": [
        {
          "output_type": "stream",
          "name": "stdout",
          "text": [
            "[core]\n",
            "\trepositoryformatversion = 0\n",
            "\tfilemode = true\n",
            "\tbare = false\n",
            "\tlogallrefupdates = true\n",
            "[user]\n",
            "\tEMAIL = dev@hello.world\n",
            "[usr]\n",
            "[user \"mail\"]\n",
            "\ttoday = hello\n"
          ]
        }
      ]
    },
    {
      "cell_type": "markdown",
      "source": [
        "# Listing your git config"
      ],
      "metadata": {
        "id": "4qMuFVWIkPNw"
      }
    },
    {
      "cell_type": "code",
      "source": [
        "!git config --list"
      ],
      "metadata": {
        "colab": {
          "base_uri": "https://localhost:8080/"
        },
        "id": "jB3hKi5_kBww",
        "outputId": "4425228a-ed8b-4ba2-da0a-d60b375e99b1"
      },
      "execution_count": null,
      "outputs": [
        {
          "output_type": "stream",
          "name": "stdout",
          "text": [
            "core.repositoryformatversion=0\n",
            "core.filemode=true\n",
            "core.bare=false\n",
            "core.logallrefupdates=true\n",
            "user.email=dev@hello.world\n",
            "user.mail.today=hello\n"
          ]
        }
      ]
    },
    {
      "cell_type": "code",
      "source": [
        "!git config --list --show-origin"
      ],
      "metadata": {
        "colab": {
          "base_uri": "https://localhost:8080/"
        },
        "id": "a-EH5F-LkRp9",
        "outputId": "da13cc4d-fde6-4275-91dc-01958d4206a2"
      },
      "execution_count": null,
      "outputs": [
        {
          "output_type": "stream",
          "name": "stdout",
          "text": [
            "file:.git/config\tcore.repositoryformatversion=0\n",
            "file:.git/config\tcore.filemode=true\n",
            "file:.git/config\tcore.bare=false\n",
            "file:.git/config\tcore.logallrefupdates=true\n",
            "file:.git/config\tuser.email=dev@hello.world\n",
            "file:.git/config\tuser.mail.today=hello\n"
          ]
        }
      ]
    },
    {
      "cell_type": "markdown",
      "source": [
        "# Example"
      ],
      "metadata": {
        "id": "0uHx4RI8kzpu"
      }
    },
    {
      "cell_type": "code",
      "source": [
        "cd .."
      ],
      "metadata": {
        "colab": {
          "base_uri": "https://localhost:8080/"
        },
        "id": "gXkW_-Z5kXYR",
        "outputId": "15aa883c-028d-45c6-d3ec-fcf53e528719"
      },
      "execution_count": null,
      "outputs": [
        {
          "output_type": "stream",
          "name": "stdout",
          "text": [
            "/content\n"
          ]
        }
      ]
    },
    {
      "cell_type": "code",
      "source": [
        "!mkdir a-head-above"
      ],
      "metadata": {
        "id": "9bGzT1lIkuF8"
      },
      "execution_count": null,
      "outputs": []
    },
    {
      "cell_type": "code",
      "source": [
        "cd a-head-above"
      ],
      "metadata": {
        "colab": {
          "base_uri": "https://localhost:8080/"
        },
        "id": "Pah_G6aHkyku",
        "outputId": "6f953a27-4081-4962-c725-be7d75ad5b03"
      },
      "execution_count": null,
      "outputs": [
        {
          "output_type": "stream",
          "name": "stdout",
          "text": [
            "/content/a-head-above\n"
          ]
        }
      ]
    },
    {
      "cell_type": "code",
      "source": [
        "!git init "
      ],
      "metadata": {
        "colab": {
          "base_uri": "https://localhost:8080/"
        },
        "id": "06X-7kfyk2m8",
        "outputId": "8b3e4b5b-af8c-4d7b-cd0a-9c2cc5b175e7"
      },
      "execution_count": null,
      "outputs": [
        {
          "output_type": "stream",
          "name": "stdout",
          "text": [
            "Initialized empty Git repository in /content/a-head-above/.git/\n"
          ]
        }
      ]
    },
    {
      "cell_type": "code",
      "source": [
        "!git config user.name Colab"
      ],
      "metadata": {
        "id": "ImiOaruLk39-"
      },
      "execution_count": null,
      "outputs": []
    },
    {
      "cell_type": "code",
      "source": [
        "!git config --list --show-origin"
      ],
      "metadata": {
        "colab": {
          "base_uri": "https://localhost:8080/"
        },
        "id": "oEn8ZJXelAvR",
        "outputId": "d4ec286d-a163-45b3-f5ce-aac8f86a66cd"
      },
      "execution_count": null,
      "outputs": [
        {
          "output_type": "stream",
          "name": "stdout",
          "text": [
            "file:.git/config\tcore.repositoryformatversion=0\n",
            "file:.git/config\tcore.filemode=true\n",
            "file:.git/config\tcore.bare=false\n",
            "file:.git/config\tcore.logallrefupdates=true\n",
            "file:.git/config\tuser.name=Colab\n"
          ]
        }
      ]
    },
    {
      "cell_type": "code",
      "source": [
        "%%writefile README.md\n",
        "# Make our life easier with Git\n",
        "\n",
        "1. You can override the global config on a per-repository basis"
      ],
      "metadata": {
        "colab": {
          "base_uri": "https://localhost:8080/"
        },
        "id": "icYoq3vflFOm",
        "outputId": "540c09fa-09ee-425c-99cc-967710d4cc66"
      },
      "execution_count": null,
      "outputs": [
        {
          "output_type": "stream",
          "name": "stdout",
          "text": [
            "Writing README.md\n"
          ]
        }
      ]
    },
    {
      "cell_type": "code",
      "source": [
        "!git add .\n",
        "!git commit -m \"docs: add a README file\""
      ],
      "metadata": {
        "colab": {
          "base_uri": "https://localhost:8080/"
        },
        "id": "2Ihz27KdlRRI",
        "outputId": "750bbf15-ee1c-4bdf-8c27-39c3f352d91e"
      },
      "execution_count": null,
      "outputs": [
        {
          "output_type": "stream",
          "name": "stdout",
          "text": [
            "\n",
            "*** Please tell me who you are.\n",
            "\n",
            "Run\n",
            "\n",
            "  git config --global user.email \"you@example.com\"\n",
            "  git config --global user.name \"Your Name\"\n",
            "\n",
            "to set your account's default identity.\n",
            "Omit --global to set the identity only in this repository.\n",
            "\n",
            "fatal: unable to auto-detect email address (got 'root@a63b9b4d8410.(none)')\n"
          ]
        }
      ]
    },
    {
      "cell_type": "code",
      "source": [
        "!git config --global user.email \"you@example.com\"\n",
        "!git config --global user.name \"Your Name\""
      ],
      "metadata": {
        "id": "gQtyAHjDlT_Q"
      },
      "execution_count": null,
      "outputs": []
    },
    {
      "cell_type": "code",
      "source": [
        "\n",
        "!git commit -m \"docs: add a README file\""
      ],
      "metadata": {
        "colab": {
          "base_uri": "https://localhost:8080/"
        },
        "id": "SRxr_ceYlZ6o",
        "outputId": "cc229d3a-a199-44d3-9446-2fe892566306"
      },
      "execution_count": null,
      "outputs": [
        {
          "output_type": "stream",
          "name": "stdout",
          "text": [
            "[master (root-commit) 5f8136b] docs: add a README file\n",
            " 1 file changed, 3 insertions(+)\n",
            " create mode 100644 README.md\n"
          ]
        }
      ]
    },
    {
      "cell_type": "markdown",
      "source": [
        "# Git aliases (personal Git shortcuts)"
      ],
      "metadata": {
        "id": "Q3qF2_Pwlfe0"
      }
    },
    {
      "cell_type": "code",
      "source": [
        "!git config --global alias.loga \"log --oneline --graph --all\""
      ],
      "metadata": {
        "id": "Ca7F0nC4ld-L"
      },
      "execution_count": null,
      "outputs": []
    },
    {
      "cell_type": "code",
      "source": [
        "!git loga"
      ],
      "metadata": {
        "colab": {
          "base_uri": "https://localhost:8080/"
        },
        "id": "ZD5ZaJK2lq8Q",
        "outputId": "06016060-834d-452b-8837-cd35f689630f"
      },
      "execution_count": null,
      "outputs": [
        {
          "output_type": "stream",
          "name": "stdout",
          "text": [
            "* \u001b[33m5f8136b\u001b[m\u001b[33m (\u001b[m\u001b[1;36mHEAD -> \u001b[m\u001b[1;32mmaster\u001b[m\u001b[33m)\u001b[m docs: add a README file\n"
          ]
        }
      ]
    },
    {
      "cell_type": "code",
      "source": [
        "!git help loga"
      ],
      "metadata": {
        "colab": {
          "base_uri": "https://localhost:8080/"
        },
        "id": "DZz2EV2flr92",
        "outputId": "ff27f638-de51-4c53-94b5-a5dc1ed531cc"
      },
      "execution_count": null,
      "outputs": [
        {
          "output_type": "stream",
          "name": "stdout",
          "text": [
            "'loga' is aliased to 'log --oneline --graph --all'\n"
          ]
        }
      ]
    },
    {
      "cell_type": "code",
      "source": [
        "!git config --list --show-origin"
      ],
      "metadata": {
        "colab": {
          "base_uri": "https://localhost:8080/"
        },
        "id": "eI6Kw0Hymupl",
        "outputId": "f9d8a34a-2533-4b97-c9ff-6b7555988667"
      },
      "execution_count": null,
      "outputs": [
        {
          "output_type": "stream",
          "name": "stdout",
          "text": [
            "file:/root/.gitconfig\tuser.email=you@example.com\n",
            "file:/root/.gitconfig\tuser.name=Your Name\n",
            "file:/root/.gitconfig\talias.loga=log --oneline --graph --all\n",
            "file:.git/config\tcore.repositoryformatversion=0\n",
            "file:.git/config\tcore.filemode=true\n",
            "file:.git/config\tcore.bare=false\n",
            "file:.git/config\tcore.logallrefupdates=true\n",
            "file:.git/config\tuser.name=Colab\n"
          ]
        }
      ]
    },
    {
      "cell_type": "markdown",
      "source": [
        "# .gitignore"
      ],
      "metadata": {
        "id": "G7FUBOJJnSLp"
      }
    },
    {
      "cell_type": "code",
      "source": [
        "!touch build.exe"
      ],
      "metadata": {
        "id": "o3EV_4oXnAPL"
      },
      "execution_count": null,
      "outputs": []
    },
    {
      "cell_type": "code",
      "source": [
        "!git status"
      ],
      "metadata": {
        "colab": {
          "base_uri": "https://localhost:8080/"
        },
        "id": "vOSCCbf4oGTH",
        "outputId": "d4634ade-6a16-493d-fe31-32b058172c49"
      },
      "execution_count": null,
      "outputs": [
        {
          "output_type": "stream",
          "name": "stdout",
          "text": [
            "On branch master\n",
            "Untracked files:\n",
            "  (use \"git add <file>...\" to include in what will be committed)\n",
            "\n",
            "\t\u001b[31mbuild.exe\u001b[m\n",
            "\n",
            "nothing added to commit but untracked files present (use \"git add\" to track)\n"
          ]
        }
      ]
    },
    {
      "cell_type": "code",
      "source": [
        "!echo \"build.exe\" > .gitignore"
      ],
      "metadata": {
        "id": "7WMbCT-Rn_CW"
      },
      "execution_count": null,
      "outputs": []
    },
    {
      "cell_type": "code",
      "source": [
        "!git status"
      ],
      "metadata": {
        "colab": {
          "base_uri": "https://localhost:8080/"
        },
        "id": "rNRpy2vkoHoE",
        "outputId": "89c1735c-8fd5-456a-f978-73055c424dff"
      },
      "execution_count": null,
      "outputs": [
        {
          "output_type": "stream",
          "name": "stdout",
          "text": [
            "On branch master\n",
            "Untracked files:\n",
            "  (use \"git add <file>...\" to include in what will be committed)\n",
            "\n",
            "\t\u001b[31m.gitignore\u001b[m\n",
            "\n",
            "nothing added to commit but untracked files present (use \"git add\" to track)\n"
          ]
        }
      ]
    },
    {
      "cell_type": "code",
      "source": [
        "!git commit -m \"chore: add .gitignore file\""
      ],
      "metadata": {
        "colab": {
          "base_uri": "https://localhost:8080/"
        },
        "id": "8Xb64GWQoIbz",
        "outputId": "ce711a2c-69bb-40a2-e9c7-b8a29ab41bfd"
      },
      "execution_count": null,
      "outputs": [
        {
          "output_type": "stream",
          "name": "stdout",
          "text": [
            "On branch master\n",
            "Untracked files:\n",
            "\t\u001b[31m.gitignore\u001b[m\n",
            "\n",
            "nothing added to commit but untracked files present\n"
          ]
        }
      ]
    },
    {
      "cell_type": "markdown",
      "source": [
        "# Commit early, commit often"
      ],
      "metadata": {
        "id": "IV3VTd5yoeqK"
      }
    },
    {
      "cell_type": "markdown",
      "source": [
        ""
      ],
      "metadata": {
        "id": "UECBXoPWpCEg"
      }
    },
    {
      "cell_type": "markdown",
      "source": [
        "# Write meaningful commit messages\n",
        "\n",
        "1. always use the imperative mood\n",
        "\n",
        "AVOID \"updated docs\" or \"fixes login bug\"\n",
        "\n",
        "Write commits as if you are giving a command to the computer: \"update docs\" \"fix intermitent bug\"\n",
        "\n",
        "2. don't use -m, let git open a text editor for you"
      ],
      "metadata": {
        "id": "9pYFSRBcpCGL"
      }
    },
    {
      "cell_type": "markdown",
      "source": [
        "* focus on the WHY of the change, not the how or what"
      ],
      "metadata": {
        "id": "8-JJdixbppnq"
      }
    },
    {
      "cell_type": "markdown",
      "source": [
        "## types of commits to prepend message with\n",
        "\n",
        "feat: use when introducing a new feature\n",
        "\n",
        "fix: use when fixing a bug\n",
        "\n",
        "docs: use when doc is changed\n",
        "\n",
        "chore: use when changing tooling\n",
        "\n",
        "test: use when test related"
      ],
      "metadata": {
        "id": "GI2Mm22Cp3KY"
      }
    },
    {
      "cell_type": "markdown",
      "source": [
        "## commit body\n",
        "\n"
      ],
      "metadata": {
        "id": "d9jYkrN-qLBF"
      }
    },
    {
      "cell_type": "markdown",
      "source": [
        "https://www.conventionalcommits.org/en/v1.0.0/"
      ],
      "metadata": {
        "id": "NKFO0ZuJqtPU"
      }
    },
    {
      "cell_type": "markdown",
      "source": [
        "# Create helpful branch names\n",
        "\n",
        "initials/ticket number/description\n",
        "\n",
        "rg/1618/remove-typos-in-documentation"
      ],
      "metadata": {
        "id": "ykClslrMrJdW"
      }
    },
    {
      "cell_type": "markdown",
      "source": [
        "# git GUI software\n",
        "\n",
        "https://www.sourcetreeapp.com\n",
        "\n",
        "https://desktop.github.com\n",
        "\n",
        "https://marketplace.visualstudio.com/items?itemName=eamodio.gitlens"
      ],
      "metadata": {
        "id": "2n48dXAPsSk_"
      }
    },
    {
      "cell_type": "code",
      "source": [
        ""
      ],
      "metadata": {
        "id": "YkXtMXE4oNVs"
      },
      "execution_count": null,
      "outputs": []
    }
  ]
}