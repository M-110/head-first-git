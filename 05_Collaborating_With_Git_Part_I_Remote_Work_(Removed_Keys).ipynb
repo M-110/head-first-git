{
  "nbformat": 4,
  "nbformat_minor": 0,
  "metadata": {
    "colab": {
      "name": "05_Collaborating_With_Git_Part_I_Remote_Work (Removed Keys).ipynb",
      "provenance": [],
      "collapsed_sections": [],
      "authorship_tag": "ABX9TyOsDPquANbL4UCHySRBAerK",
      "include_colab_link": true
    },
    "kernelspec": {
      "name": "python3",
      "display_name": "Python 3"
    },
    "language_info": {
      "name": "python"
    }
  },
  "cells": [
    {
      "cell_type": "markdown",
      "metadata": {
        "id": "view-in-github",
        "colab_type": "text"
      },
      "source": [
        "<a href=\"https://colab.research.google.com/github/M-110/head-first-git/blob/main/05_Collaborating_With_Git_Part_I_Remote_Work_(Removed_Keys).ipynb\" target=\"_parent\"><img src=\"https://colab.research.google.com/assets/colab-badge.svg\" alt=\"Open In Colab\"/></a>"
      ]
    },
    {
      "cell_type": "markdown",
      "source": [
        "# Setup"
      ],
      "metadata": {
        "id": "MQO70a30pojE"
      }
    },
    {
      "cell_type": "code",
      "source": [
        "!git config --global user.email # REDACTED\n",
        "!git config --global user.name # REDACTED"
      ],
      "metadata": {
        "id": "XH4vb5O5AvBy"
      },
      "execution_count": null,
      "outputs": []
    },
    {
      "cell_type": "code",
      "execution_count": null,
      "metadata": {
        "id": "mtk9b0y0X29y",
        "colab": {
          "base_uri": "https://localhost:8080/"
        },
        "outputId": "4f860bff-7548-4b4c-93b2-c8abdc006f7d"
      },
      "outputs": [
        {
          "output_type": "stream",
          "name": "stdout",
          "text": [
            "\r0% [Working]\r            \rGet:1 https://developer.download.nvidia.com/compute/cuda/repos/ubuntu1804/x86_64  InRelease [1,581 B]\n",
            "\r0% [Connecting to archive.ubuntu.com] [Connecting to security.ubuntu.com (91.18\r0% [Connecting to archive.ubuntu.com] [Connecting to security.ubuntu.com (91.18\r                                                                               \rGet:2 https://cloud.r-project.org/bin/linux/ubuntu bionic-cran40/ InRelease [3,626 B]\n",
            "\r                                                                               \rIgn:3 https://developer.download.nvidia.com/compute/machine-learning/repos/ubuntu1804/x86_64  InRelease\n",
            "Hit:4 https://developer.download.nvidia.com/compute/machine-learning/repos/ubuntu1804/x86_64  Release\n",
            "Get:5 https://developer.download.nvidia.com/compute/cuda/repos/ubuntu1804/x86_64  Packages [787 kB]\n",
            "Hit:6 http://ppa.launchpad.net/c2d4u.team/c2d4u4.0+/ubuntu bionic InRelease\n",
            "Hit:7 http://ppa.launchpad.net/cran/libgit2/ubuntu bionic InRelease\n",
            "Get:9 http://ppa.launchpad.net/deadsnakes/ppa/ubuntu bionic InRelease [15.9 kB]\n",
            "Get:10 http://ppa.launchpad.net/git-core/ppa/ubuntu bionic InRelease [20.8 kB]\n",
            "Get:11 http://ppa.launchpad.net/graphics-drivers/ppa/ubuntu bionic InRelease [21.3 kB]\n",
            "Get:12 http://security.ubuntu.com/ubuntu bionic-security InRelease [88.7 kB]\n",
            "Hit:13 http://archive.ubuntu.com/ubuntu bionic InRelease\n",
            "Get:14 http://archive.ubuntu.com/ubuntu bionic-updates InRelease [88.7 kB]\n",
            "Get:15 http://ppa.launchpad.net/deadsnakes/ppa/ubuntu bionic/main amd64 Packages [45.3 kB]\n",
            "Get:16 http://archive.ubuntu.com/ubuntu bionic-backports InRelease [74.6 kB]\n",
            "Get:17 http://security.ubuntu.com/ubuntu bionic-security/multiverse amd64 Packages [22.8 kB]\n",
            "Get:18 http://security.ubuntu.com/ubuntu bionic-security/restricted amd64 Packages [949 kB]\n",
            "Get:19 http://archive.ubuntu.com/ubuntu bionic-updates/restricted amd64 Packages [986 kB]\n",
            "Get:20 http://ppa.launchpad.net/git-core/ppa/ubuntu bionic/main amd64 Packages [3,163 B]\n",
            "Get:21 http://security.ubuntu.com/ubuntu bionic-security/universe amd64 Packages [1,503 kB]\n",
            "Get:22 http://security.ubuntu.com/ubuntu bionic-security/main amd64 Packages [2,781 kB]\n",
            "Get:23 http://archive.ubuntu.com/ubuntu bionic-updates/universe amd64 Packages [2,278 kB]\n",
            "Get:24 http://ppa.launchpad.net/graphics-drivers/ppa/ubuntu bionic/main amd64 Packages [44.3 kB]\n",
            "Get:25 http://archive.ubuntu.com/ubuntu bionic-updates/multiverse amd64 Packages [29.8 kB]\n",
            "Get:26 http://archive.ubuntu.com/ubuntu bionic-updates/main amd64 Packages [3,221 kB]\n",
            "Fetched 13.0 MB in 4s (3,203 kB/s)\n",
            "Reading package lists... Done\n",
            "Hit:1 https://cloud.r-project.org/bin/linux/ubuntu bionic-cran40/ InRelease\n",
            "Hit:2 https://developer.download.nvidia.com/compute/cuda/repos/ubuntu1804/x86_64  InRelease\n",
            "Ign:3 https://developer.download.nvidia.com/compute/machine-learning/repos/ubuntu1804/x86_64  InRelease\n",
            "Hit:4 https://developer.download.nvidia.com/compute/machine-learning/repos/ubuntu1804/x86_64  Release\n",
            "Hit:5 http://archive.ubuntu.com/ubuntu bionic InRelease\n",
            "Hit:6 http://ppa.launchpad.net/c2d4u.team/c2d4u4.0+/ubuntu bionic InRelease\n",
            "Hit:7 http://security.ubuntu.com/ubuntu bionic-security InRelease\n",
            "Hit:8 http://archive.ubuntu.com/ubuntu bionic-updates InRelease\n",
            "Hit:10 http://archive.ubuntu.com/ubuntu bionic-backports InRelease\n",
            "Hit:11 http://ppa.launchpad.net/cran/libgit2/ubuntu bionic InRelease\n",
            "Hit:12 http://ppa.launchpad.net/deadsnakes/ppa/ubuntu bionic InRelease\n",
            "Hit:13 http://ppa.launchpad.net/git-core/ppa/ubuntu bionic InRelease\n",
            "Hit:14 http://ppa.launchpad.net/graphics-drivers/ppa/ubuntu bionic InRelease\n",
            "Reading package lists... Done\n",
            "Building dependency tree       \n",
            "Reading state information... Done\n",
            "58 packages can be upgraded. Run 'apt list --upgradable' to see them.\n",
            "Reading package lists... Done\n",
            "Building dependency tree       \n",
            "Reading state information... Done\n",
            "The following package was automatically installed and is no longer required:\n",
            "  libnvidia-common-460\n",
            "Use 'apt autoremove' to remove it.\n",
            "The following additional packages will be installed:\n",
            "  git-man\n",
            "Suggested packages:\n",
            "  gettext-base git-daemon-run | git-daemon-sysvinit git-doc git-email git-gui\n",
            "  gitk gitweb git-cvs git-mediawiki git-svn\n",
            "The following packages will be upgraded:\n",
            "  git git-man\n",
            "2 upgraded, 0 newly installed, 0 to remove and 56 not upgraded.\n",
            "Need to get 7,835 kB of archives.\n",
            "After this operation, 7,048 kB of additional disk space will be used.\n",
            "Get:1 http://ppa.launchpad.net/git-core/ppa/ubuntu bionic/main amd64 git amd64 1:2.36.1-0ppa1~ubuntu18.04.1 [5,895 kB]\n",
            "Get:2 http://ppa.launchpad.net/git-core/ppa/ubuntu bionic/main amd64 git-man all 1:2.36.1-0ppa1~ubuntu18.04.1 [1,940 kB]\n",
            "Fetched 7,835 kB in 3s (2,766 kB/s)\n",
            "(Reading database ... 155629 files and directories currently installed.)\n",
            "Preparing to unpack .../git_1%3a2.36.1-0ppa1~ubuntu18.04.1_amd64.deb ...\n",
            "Unpacking git (1:2.36.1-0ppa1~ubuntu18.04.1) over (1:2.17.1-1ubuntu0.11) ...\n",
            "Preparing to unpack .../git-man_1%3a2.36.1-0ppa1~ubuntu18.04.1_all.deb ...\n",
            "Unpacking git-man (1:2.36.1-0ppa1~ubuntu18.04.1) over (1:2.17.1-1ubuntu0.11) ...\n",
            "Setting up git-man (1:2.36.1-0ppa1~ubuntu18.04.1) ...\n",
            "Setting up git (1:2.36.1-0ppa1~ubuntu18.04.1) ...\n",
            "Processing triggers for man-db (2.8.3-2ubuntu0.1) ...\n"
          ]
        }
      ],
      "source": [
        "!add-apt-repository ppa:git-core/ppa -y\n",
        "!apt update\n",
        "!apt install git"
      ]
    },
    {
      "cell_type": "code",
      "source": [
        "!wget https://i-love-git.com/assets/head-first-git-2022-01-02.zip\n",
        "!unzip head*.zip"
      ],
      "metadata": {
        "id": "zcUol9h9pzWO"
      },
      "execution_count": null,
      "outputs": []
    },
    {
      "cell_type": "markdown",
      "source": [
        "# Another way to a Git Repository: Cloning\n",
        "\n",
        "```git clone <URL>```"
      ],
      "metadata": {
        "id": "eaEo1PoKpoB4"
      }
    },
    {
      "cell_type": "code",
      "source": [
        "!git clone https://github.com/M-110/working-with-remotes.git"
      ],
      "metadata": {
        "colab": {
          "base_uri": "https://localhost:8080/"
        },
        "id": "lDX_9o9ss37P",
        "outputId": "15758194-2174-4099-efcd-29133a8eb907"
      },
      "execution_count": null,
      "outputs": [
        {
          "output_type": "stream",
          "name": "stdout",
          "text": [
            "Cloning into 'working-with-remotes'...\n",
            "remote: Enumerating objects: 6, done.\u001b[K\n",
            "remote: Counting objects: 100% (2/2), done.\u001b[K\n",
            "remote: Compressing objects: 100% (2/2), done.\u001b[K\n",
            "remote: Total 6 (delta 0), reused 0 (delta 0), pack-reused 4\u001b[K\n",
            "Receiving objects: 100% (6/6), done.\n"
          ]
        }
      ]
    },
    {
      "cell_type": "code",
      "source": [
        "%ls working-with-remotes"
      ],
      "metadata": {
        "colab": {
          "base_uri": "https://localhost:8080/"
        },
        "id": "YFAJN4QS6V97",
        "outputId": "824e0d8e-10fd-445f-e811-0f0a78e1f0a8"
      },
      "execution_count": null,
      "outputs": [
        {
          "output_type": "stream",
          "name": "stdout",
          "text": [
            "master-01.md  README.md\n"
          ]
        }
      ]
    },
    {
      "cell_type": "code",
      "source": [
        "%cd working-with-remotes"
      ],
      "metadata": {
        "colab": {
          "base_uri": "https://localhost:8080/"
        },
        "id": "T6A5xLTl6bp-",
        "outputId": "5e4dc959-a708-40c9-8282-d49dba5440f6"
      },
      "execution_count": null,
      "outputs": [
        {
          "output_type": "stream",
          "name": "stdout",
          "text": [
            "/content/working-with-remotes\n"
          ]
        }
      ]
    },
    {
      "cell_type": "code",
      "source": [
        "!git status"
      ],
      "metadata": {
        "colab": {
          "base_uri": "https://localhost:8080/"
        },
        "id": "1-HXoUlz6eH1",
        "outputId": "e53c0dbc-3e46-4a8c-fedc-913069091424"
      },
      "execution_count": null,
      "outputs": [
        {
          "output_type": "stream",
          "name": "stdout",
          "text": [
            "On branch master\n",
            "Your branch is up to date with 'origin/master'.\n",
            "\n",
            "nothing to commit, working tree clean\n"
          ]
        }
      ]
    },
    {
      "cell_type": "code",
      "source": [
        "!git branch"
      ],
      "metadata": {
        "colab": {
          "base_uri": "https://localhost:8080/"
        },
        "id": "n6zoFkLy6prt",
        "outputId": "86282b8b-1e04-4e98-e41d-51e7f34fbac7"
      },
      "execution_count": null,
      "outputs": [
        {
          "output_type": "stream",
          "name": "stdout",
          "text": [
            "* \u001b[32mmaster\u001b[m\n"
          ]
        }
      ]
    },
    {
      "cell_type": "code",
      "source": [
        "!git log "
      ],
      "metadata": {
        "colab": {
          "base_uri": "https://localhost:8080/"
        },
        "id": "c7hjpQRE6qij",
        "outputId": "0330e73d-d0a2-4efa-f6e0-c48201c5de51"
      },
      "execution_count": null,
      "outputs": [
        {
          "output_type": "stream",
          "name": "stdout",
          "text": [
            "\u001b[33mcommit 5aefc0d3e05b291f5ea22ca75800c08880b5312c\u001b[m\u001b[33m (\u001b[m\u001b[1;36mHEAD -> \u001b[m\u001b[1;32mmaster\u001b[m\u001b[33m, \u001b[m\u001b[1;31morigin/master\u001b[m\u001b[33m, \u001b[m\u001b[1;31morigin/HEAD\u001b[m\u001b[33m)\u001b[m\n",
            "Author: George Cloney <george@i-love-git.com>\n",
            "Date:   Thu Apr 1 21:19:14 2021 -0400\n",
            "\n",
            "    add master-01 file\n",
            "\n",
            "\u001b[33mcommit f9fd4aafd256574e92362a35dc7406e24c025f42\u001b[m\n",
            "Author: George Cloney <george@i-love-git.com>\n",
            "Date:   Thu Apr 1 12:20:38 2021 -0400\n",
            "\n",
            "    add README\n"
          ]
        }
      ]
    },
    {
      "cell_type": "markdown",
      "source": [
        "Git is fully distributed. Everything commit/branch/etc from the repository is cloned."
      ],
      "metadata": {
        "id": "5vEZJCyE74tY"
      }
    },
    {
      "cell_type": "code",
      "source": [
        "ls"
      ],
      "metadata": {
        "colab": {
          "base_uri": "https://localhost:8080/"
        },
        "id": "G891Vz0i9LOt",
        "outputId": "42b42957-884d-4897-8b69-d2fa1a346608"
      },
      "execution_count": null,
      "outputs": [
        {
          "output_type": "stream",
          "name": "stdout",
          "text": [
            "master-01.md  README.md\n"
          ]
        }
      ]
    },
    {
      "cell_type": "code",
      "source": [
        "!echo >> master-01.md\n",
        "!echo \"This is my first edit!\" >> master-01.md"
      ],
      "metadata": {
        "id": "l31wyyvc9LXX"
      },
      "execution_count": null,
      "outputs": []
    },
    {
      "cell_type": "code",
      "source": [
        "!echo \"This is the second file on this branch\" >> master-02.md"
      ],
      "metadata": {
        "id": "gXwgawPY9V8V"
      },
      "execution_count": null,
      "outputs": []
    },
    {
      "cell_type": "code",
      "source": [
        "!git add ."
      ],
      "metadata": {
        "id": "nD2djT8UAkmN"
      },
      "execution_count": null,
      "outputs": []
    },
    {
      "cell_type": "code",
      "source": [
        "!git commit -m \"My first commit to the branch!\""
      ],
      "metadata": {
        "colab": {
          "base_uri": "https://localhost:8080/"
        },
        "id": "YBQKhjOzAoNT",
        "outputId": "73acc0a5-f6bb-47ec-c069-c70644c1ccbd"
      },
      "execution_count": null,
      "outputs": [
        {
          "output_type": "stream",
          "name": "stdout",
          "text": [
            "[master 0a86fa3] My first commit to the branch!\n",
            " 2 files changed, 3 insertions(+)\n",
            " create mode 100644 master-02.md\n"
          ]
        }
      ]
    },
    {
      "cell_type": "markdown",
      "source": [
        "# Pushing to remote"
      ],
      "metadata": {
        "id": "9QnfHGRzBrEv"
      }
    },
    {
      "cell_type": "code",
      "source": [
        "key = # REDACTED"
      ],
      "metadata": {
        "id": "PZt6-YgjD3Q-"
      },
      "execution_count": null,
      "outputs": []
    },
    {
      "cell_type": "code",
      "source": [
        "!git config --global push.default simple"
      ],
      "metadata": {
        "id": "9ynHbP6oArnp"
      },
      "execution_count": null,
      "outputs": []
    },
    {
      "cell_type": "code",
      "source": [
        "!git push"
      ],
      "metadata": {
        "colab": {
          "base_uri": "https://localhost:8080/"
        },
        "id": "-gtvQjRuBwwC",
        "outputId": "911449aa-4da1-406e-d33c-bf67ee6054b4"
      },
      "execution_count": null,
      "outputs": [
        {
          "output_type": "stream",
          "name": "stdout",
          "text": [
            "fatal: could not read Username for 'https://github.com': No such device or address\n"
          ]
        }
      ]
    },
    {
      "cell_type": "code",
      "source": [
        "# REDACTED !git config --list"
      ],
      "metadata": {
        "id": "EC3RkO5UCLWJ"
      },
      "execution_count": null,
      "outputs": []
    },
    {
      "cell_type": "code",
      "source": [
        "!git remote set-url origin # REDACTED"
      ],
      "metadata": {
        "id": "n-OoV2fXCfPt"
      },
      "execution_count": null,
      "outputs": []
    },
    {
      "cell_type": "code",
      "source": [
        "!git push"
      ],
      "metadata": {
        "colab": {
          "base_uri": "https://localhost:8080/"
        },
        "id": "yxttYto7E28y",
        "outputId": "2f733b67-8c7e-44ca-deb7-0c60d06287a3"
      },
      "execution_count": null,
      "outputs": [
        {
          "output_type": "stream",
          "name": "stdout",
          "text": [
            "Enumerating objects: 6, done.\n",
            "Counting objects:  16% (1/6)\rCounting objects:  33% (2/6)\rCounting objects:  50% (3/6)\rCounting objects:  66% (4/6)\rCounting objects:  83% (5/6)\rCounting objects: 100% (6/6)\rCounting objects: 100% (6/6), done.\n",
            "Delta compression using up to 2 threads\n",
            "Compressing objects:  33% (1/3)\rCompressing objects:  66% (2/3)\rCompressing objects: 100% (3/3)\rCompressing objects: 100% (3/3), done.\n",
            "Writing objects:  25% (1/4)\rWriting objects:  50% (2/4)\rWriting objects:  75% (3/4)\rWriting objects: 100% (4/4)\rWriting objects: 100% (4/4), 414 bytes | 414.00 KiB/s, done.\n",
            "Total 4 (delta 0), reused 0 (delta 0), pack-reused 0\n",
            "To https://github.com/M-110/working-with-remotes.git\n",
            "   5aefc0d..0a86fa3  master -> master\n"
          ]
        }
      ]
    },
    {
      "cell_type": "code",
      "source": [
        "!git log --oneline --graph --all"
      ],
      "metadata": {
        "colab": {
          "base_uri": "https://localhost:8080/"
        },
        "id": "gPeSZC3pFF9W",
        "outputId": "435dbf4d-3baa-4a15-f497-c40cc6143795"
      },
      "execution_count": null,
      "outputs": [
        {
          "output_type": "stream",
          "name": "stdout",
          "text": [
            "* \u001b[33m0a86fa3\u001b[m\u001b[33m (\u001b[m\u001b[1;36mHEAD -> \u001b[m\u001b[1;32mmaster\u001b[m\u001b[33m, \u001b[m\u001b[1;31morigin/master\u001b[m\u001b[33m, \u001b[m\u001b[1;31morigin/HEAD\u001b[m\u001b[33m)\u001b[m My first commit to the branch!\n",
            "* \u001b[33m5aefc0d\u001b[m add master-01 file\n",
            "* \u001b[33mf9fd4aa\u001b[m add README\n"
          ]
        }
      ]
    },
    {
      "cell_type": "code",
      "source": [
        "!git remote"
      ],
      "metadata": {
        "colab": {
          "base_uri": "https://localhost:8080/"
        },
        "id": "nzr1mA0cHLEO",
        "outputId": "faf02fcb-c4b9-4ff7-e4df-402671c36cd7"
      },
      "execution_count": null,
      "outputs": [
        {
          "output_type": "stream",
          "name": "stdout",
          "text": [
            "origin\n"
          ]
        }
      ]
    },
    {
      "cell_type": "code",
      "source": [
        "# REDACTED !git remote -v"
      ],
      "metadata": {
        "id": "Bu7eOE_9H4tQ"
      },
      "execution_count": null,
      "outputs": []
    },
    {
      "cell_type": "markdown",
      "source": [
        "# Public vs private\n",
        "\n",
        "Once you push a commit, you can no longer modify it or previous commits"
      ],
      "metadata": {
        "id": "FWCzPT3lI8bs"
      }
    },
    {
      "cell_type": "code",
      "source": [
        "!git branch feat-a"
      ],
      "metadata": {
        "id": "AbtUazSxH9Tq"
      },
      "execution_count": null,
      "outputs": []
    },
    {
      "cell_type": "code",
      "source": [
        "!git switch feat-a"
      ],
      "metadata": {
        "colab": {
          "base_uri": "https://localhost:8080/"
        },
        "id": "hBE1LWfJJFj5",
        "outputId": "a01630b3-47a2-45a9-abfd-4af92ce2996f"
      },
      "execution_count": null,
      "outputs": [
        {
          "output_type": "stream",
          "name": "stdout",
          "text": [
            "Switched to branch 'feat-a'\n"
          ]
        }
      ]
    },
    {
      "cell_type": "code",
      "source": [
        "!echo \"This is a great file on feat-a\" >> feat-a-01.md"
      ],
      "metadata": {
        "id": "PXbcrDrRJIfZ"
      },
      "execution_count": null,
      "outputs": []
    },
    {
      "cell_type": "code",
      "source": [
        "!git add ."
      ],
      "metadata": {
        "id": "qp3EFQ8gJbyy"
      },
      "execution_count": null,
      "outputs": []
    },
    {
      "cell_type": "code",
      "source": [
        "!git commit -m \"My first commit to feat-a-01.md\""
      ],
      "metadata": {
        "colab": {
          "base_uri": "https://localhost:8080/"
        },
        "id": "1SbsS8yLJP37",
        "outputId": "fb916067-7ac2-4150-e8d7-eddf0f82b954"
      },
      "execution_count": null,
      "outputs": [
        {
          "output_type": "stream",
          "name": "stdout",
          "text": [
            "[feat-a 8fe7d73] My first commit to feat-a-01.md\n",
            " 1 file changed, 1 insertion(+)\n",
            " create mode 100644 feat-a-01.md\n"
          ]
        }
      ]
    },
    {
      "cell_type": "code",
      "source": [
        "!git switch master"
      ],
      "metadata": {
        "colab": {
          "base_uri": "https://localhost:8080/"
        },
        "id": "-Y_Tuc6UJWJ6",
        "outputId": "66a68a16-bcac-4e3a-e6f1-83bcc2c38158"
      },
      "execution_count": null,
      "outputs": [
        {
          "output_type": "stream",
          "name": "stdout",
          "text": [
            "Switched to branch 'master'\n",
            "Your branch is up to date with 'origin/master'.\n"
          ]
        }
      ]
    },
    {
      "cell_type": "code",
      "source": [
        "!echo \"Here's  third file on master\" >> master-03.md"
      ],
      "metadata": {
        "id": "fOO7K-KmJe4Q"
      },
      "execution_count": null,
      "outputs": []
    },
    {
      "cell_type": "code",
      "source": [
        "!git add ."
      ],
      "metadata": {
        "id": "NqzIDtyxJmGP"
      },
      "execution_count": null,
      "outputs": []
    },
    {
      "cell_type": "code",
      "source": [
        "!git commit -m \"My second commit to master!\""
      ],
      "metadata": {
        "colab": {
          "base_uri": "https://localhost:8080/"
        },
        "id": "Le7KGhL1JmrN",
        "outputId": "9b32dd8a-140c-425a-d861-a930eaf5bfb2"
      },
      "execution_count": null,
      "outputs": [
        {
          "output_type": "stream",
          "name": "stdout",
          "text": [
            "[master e96318e] My second commit to master!\n",
            " 1 file changed, 1 insertion(+)\n",
            " create mode 100644 master-03.md\n"
          ]
        }
      ]
    },
    {
      "cell_type": "code",
      "source": [
        "!git log --oneline --graph --all"
      ],
      "metadata": {
        "colab": {
          "base_uri": "https://localhost:8080/"
        },
        "id": "NH8j2Q_yNyV1",
        "outputId": "18b8912d-8374-497e-efcf-4f4a33e4ad0c"
      },
      "execution_count": null,
      "outputs": [
        {
          "output_type": "stream",
          "name": "stdout",
          "text": [
            "* \u001b[33me96318e\u001b[m\u001b[33m (\u001b[m\u001b[1;36mHEAD -> \u001b[m\u001b[1;32mmaster\u001b[m\u001b[33m)\u001b[m My second commit to master!\n",
            "\u001b[31m|\u001b[m * \u001b[33m8fe7d73\u001b[m\u001b[33m (\u001b[m\u001b[1;32mfeat-a\u001b[m\u001b[33m)\u001b[m My first commit to feat-a-01.md\n",
            "\u001b[31m|\u001b[m\u001b[31m/\u001b[m  \n",
            "* \u001b[33m0a86fa3\u001b[m\u001b[33m (\u001b[m\u001b[1;31morigin/master\u001b[m\u001b[33m, \u001b[m\u001b[1;31morigin/HEAD\u001b[m\u001b[33m)\u001b[m My first commit to the branch!\n",
            "* \u001b[33m5aefc0d\u001b[m add master-01 file\n",
            "* \u001b[33mf9fd4aa\u001b[m add README\n"
          ]
        }
      ]
    },
    {
      "cell_type": "code",
      "source": [
        "!git push"
      ],
      "metadata": {
        "colab": {
          "base_uri": "https://localhost:8080/"
        },
        "id": "rdHVe4wAJpcq",
        "outputId": "4c0dd329-0f7d-4e1c-bb39-3b2a6a3c28ff"
      },
      "execution_count": null,
      "outputs": [
        {
          "output_type": "stream",
          "name": "stdout",
          "text": [
            "Enumerating objects: 4, done.\n",
            "Counting objects:  25% (1/4)\rCounting objects:  50% (2/4)\rCounting objects:  75% (3/4)\rCounting objects: 100% (4/4)\rCounting objects: 100% (4/4), done.\n",
            "Delta compression using up to 2 threads\n",
            "Compressing objects:  50% (1/2)\rCompressing objects: 100% (2/2)\rCompressing objects: 100% (2/2), done.\n",
            "Writing objects:  33% (1/3)\rWriting objects:  66% (2/3)\rWriting objects: 100% (3/3)\rWriting objects: 100% (3/3), 311 bytes | 311.00 KiB/s, done.\n",
            "Total 3 (delta 1), reused 0 (delta 0), pack-reused 0\n",
            "remote: Resolving deltas:   0% (0/1)\u001b[K\rremote: Resolving deltas: 100% (1/1)\u001b[K\rremote: Resolving deltas: 100% (1/1), completed with 1 local object.\u001b[K\n",
            "To https://github.com/M-110/working-with-remotes.git\n",
            "   0a86fa3..e96318e  master -> master\n"
          ]
        }
      ]
    },
    {
      "cell_type": "code",
      "source": [
        "!git log --oneline --graph --all"
      ],
      "metadata": {
        "colab": {
          "base_uri": "https://localhost:8080/"
        },
        "id": "ahacqKf1N8-C",
        "outputId": "c27e104e-b55d-4cf4-ee05-813ef61ecb7a"
      },
      "execution_count": null,
      "outputs": [
        {
          "output_type": "stream",
          "name": "stdout",
          "text": [
            "* \u001b[33me96318e\u001b[m\u001b[33m (\u001b[m\u001b[1;36mHEAD -> \u001b[m\u001b[1;32mmaster\u001b[m\u001b[33m, \u001b[m\u001b[1;31morigin/master\u001b[m\u001b[33m, \u001b[m\u001b[1;31morigin/HEAD\u001b[m\u001b[33m)\u001b[m My second commit to master!\n",
            "\u001b[31m|\u001b[m * \u001b[33m8fe7d73\u001b[m\u001b[33m (\u001b[m\u001b[1;32mfeat-a\u001b[m\u001b[33m)\u001b[m My first commit to feat-a-01.md\n",
            "\u001b[31m|\u001b[m\u001b[31m/\u001b[m  \n",
            "* \u001b[33m0a86fa3\u001b[m My first commit to the branch!\n",
            "* \u001b[33m5aefc0d\u001b[m add master-01 file\n",
            "* \u001b[33mf9fd4aa\u001b[m add README\n"
          ]
        }
      ]
    },
    {
      "cell_type": "code",
      "source": [
        "!git merge feat-a"
      ],
      "metadata": {
        "colab": {
          "base_uri": "https://localhost:8080/"
        },
        "id": "j2Jzzh3MN-4Q",
        "outputId": "bb5cf54e-0443-4f69-ee4a-cd1f1ae92a0b"
      },
      "execution_count": null,
      "outputs": [
        {
          "output_type": "stream",
          "name": "stdout",
          "text": [
            "hint: Waiting for your editor to close the file... error: cannot run editor: No such file or directory\n",
            "error: unable to start editor 'editor'\n",
            "Not committing merge; use 'git commit' to complete the merge.\n"
          ]
        }
      ]
    },
    {
      "cell_type": "code",
      "source": [
        "!git status"
      ],
      "metadata": {
        "colab": {
          "base_uri": "https://localhost:8080/"
        },
        "id": "sN9udlsOOIg8",
        "outputId": "42591652-b9e4-43ea-9cfd-981bbc29fc12"
      },
      "execution_count": null,
      "outputs": [
        {
          "output_type": "stream",
          "name": "stdout",
          "text": [
            "On branch master\n",
            "Your branch is up to date with 'origin/master'.\n",
            "\n",
            "All conflicts fixed but you are still merging.\n",
            "  (use \"git commit\" to conclude merge)\n",
            "\n",
            "Changes to be committed:\n",
            "\t\u001b[32mnew file:   feat-a-01.md\u001b[m\n",
            "\n"
          ]
        }
      ]
    },
    {
      "cell_type": "code",
      "source": [
        "!git commit -m \"Merge\""
      ],
      "metadata": {
        "colab": {
          "base_uri": "https://localhost:8080/"
        },
        "id": "dxRt4F2gOKaW",
        "outputId": "147680e9-9604-4d94-fda8-c324d111acfb"
      },
      "execution_count": null,
      "outputs": [
        {
          "output_type": "stream",
          "name": "stdout",
          "text": [
            "[master 591ffb9] Merge\n"
          ]
        }
      ]
    },
    {
      "cell_type": "code",
      "source": [
        "!git push"
      ],
      "metadata": {
        "colab": {
          "base_uri": "https://localhost:8080/"
        },
        "id": "b3PM1lCgOPzu",
        "outputId": "0b64ffef-7eb1-49f2-dfde-747cb7194af1"
      },
      "execution_count": null,
      "outputs": [
        {
          "output_type": "stream",
          "name": "stdout",
          "text": [
            "Enumerating objects: 7, done.\n",
            "Counting objects:  14% (1/7)\rCounting objects:  28% (2/7)\rCounting objects:  42% (3/7)\rCounting objects:  57% (4/7)\rCounting objects:  71% (5/7)\rCounting objects:  85% (6/7)\rCounting objects: 100% (7/7)\rCounting objects: 100% (7/7), done.\n",
            "Delta compression using up to 2 threads\n",
            "Compressing objects:  25% (1/4)\rCompressing objects:  50% (2/4)\rCompressing objects:  75% (3/4)\rCompressing objects: 100% (4/4)\rCompressing objects: 100% (4/4), done.\n",
            "Writing objects:  20% (1/5)\rWriting objects:  40% (2/5)\rWriting objects:  60% (3/5)\rWriting objects:  80% (4/5)\rWriting objects: 100% (5/5)\rWriting objects: 100% (5/5), 498 bytes | 498.00 KiB/s, done.\n",
            "Total 5 (delta 2), reused 0 (delta 0), pack-reused 0\n",
            "remote: Resolving deltas:   0% (0/2)\u001b[K\rremote: Resolving deltas:  50% (1/2)\u001b[K\rremote: Resolving deltas: 100% (2/2)\u001b[K\rremote: Resolving deltas: 100% (2/2), completed with 1 local object.\u001b[K\n",
            "To https://github.com/M-110/working-with-remotes.git\n",
            "   e96318e..591ffb9  master -> master\n"
          ]
        }
      ]
    },
    {
      "cell_type": "code",
      "source": [
        "!git log --oneline --graph --all"
      ],
      "metadata": {
        "colab": {
          "base_uri": "https://localhost:8080/"
        },
        "id": "QQQWNXmAOR9q",
        "outputId": "a1532c7a-0a13-4110-ceae-163fe187b475"
      },
      "execution_count": null,
      "outputs": [
        {
          "output_type": "stream",
          "name": "stdout",
          "text": [
            "*   \u001b[33m591ffb9\u001b[m\u001b[33m (\u001b[m\u001b[1;36mHEAD -> \u001b[m\u001b[1;32mmaster\u001b[m\u001b[33m, \u001b[m\u001b[1;31morigin/master\u001b[m\u001b[33m, \u001b[m\u001b[1;31morigin/HEAD\u001b[m\u001b[33m)\u001b[m Merge\n",
            "\u001b[31m|\u001b[m\u001b[32m\\\u001b[m  \n",
            "\u001b[31m|\u001b[m * \u001b[33m8fe7d73\u001b[m\u001b[33m (\u001b[m\u001b[1;32mfeat-a\u001b[m\u001b[33m)\u001b[m My first commit to feat-a-01.md\n",
            "* \u001b[32m|\u001b[m \u001b[33me96318e\u001b[m My second commit to master!\n",
            "\u001b[32m|\u001b[m\u001b[32m/\u001b[m  \n",
            "* \u001b[33m0a86fa3\u001b[m My first commit to the branch!\n",
            "* \u001b[33m5aefc0d\u001b[m add master-01 file\n",
            "* \u001b[33mf9fd4aa\u001b[m add README\n"
          ]
        }
      ]
    },
    {
      "cell_type": "code",
      "source": [
        "!echo \"hello\" > hello.md"
      ],
      "metadata": {
        "id": "IudpYeoNOfcO"
      },
      "execution_count": null,
      "outputs": []
    },
    {
      "cell_type": "code",
      "source": [
        "!git add ."
      ],
      "metadata": {
        "id": "azgjkMosOnvG"
      },
      "execution_count": null,
      "outputs": []
    },
    {
      "cell_type": "code",
      "source": [
        "!git commit -m \"add hello\""
      ],
      "metadata": {
        "colab": {
          "base_uri": "https://localhost:8080/"
        },
        "id": "f-K0ds6yOoKx",
        "outputId": "c8e38a78-4cc7-4ff8-c6c7-9bc59f8a215c"
      },
      "execution_count": null,
      "outputs": [
        {
          "output_type": "stream",
          "name": "stdout",
          "text": [
            "[master 0a287f1] add hello\n",
            " 1 file changed, 1 insertion(+)\n",
            " create mode 100644 hello.md\n"
          ]
        }
      ]
    },
    {
      "cell_type": "code",
      "source": [
        "!git push"
      ],
      "metadata": {
        "colab": {
          "base_uri": "https://localhost:8080/"
        },
        "id": "2mjgahLFOqRJ",
        "outputId": "8d052a2d-288e-475a-9882-5eba0a5e1df3"
      },
      "execution_count": null,
      "outputs": [
        {
          "output_type": "stream",
          "name": "stdout",
          "text": [
            "Enumerating objects: 4, done.\n",
            "Counting objects:  25% (1/4)\rCounting objects:  50% (2/4)\rCounting objects:  75% (3/4)\rCounting objects: 100% (4/4)\rCounting objects: 100% (4/4), done.\n",
            "Delta compression using up to 2 threads\n",
            "Compressing objects:  50% (1/2)\rCompressing objects: 100% (2/2)\rCompressing objects: 100% (2/2), done.\n",
            "Writing objects:  33% (1/3)\rWriting objects:  66% (2/3)\rWriting objects: 100% (3/3)\rWriting objects: 100% (3/3), 265 bytes | 265.00 KiB/s, done.\n",
            "Total 3 (delta 1), reused 0 (delta 0), pack-reused 0\n",
            "remote: Resolving deltas:   0% (0/1)\u001b[K\rremote: Resolving deltas: 100% (1/1)\u001b[K\rremote: Resolving deltas: 100% (1/1), completed with 1 local object.\u001b[K\n",
            "To https://github.com/M-110/working-with-remotes.git\n",
            "   591ffb9..0a287f1  master -> master\n"
          ]
        }
      ]
    },
    {
      "cell_type": "code",
      "source": [
        "!git log --graph --all --oneline"
      ],
      "metadata": {
        "colab": {
          "base_uri": "https://localhost:8080/"
        },
        "id": "H0hE_NNpOquL",
        "outputId": "5a999928-c9ba-45b6-9c89-1f71967a62b9"
      },
      "execution_count": null,
      "outputs": [
        {
          "output_type": "stream",
          "name": "stdout",
          "text": [
            "* \u001b[33m0a287f1\u001b[m\u001b[33m (\u001b[m\u001b[1;36mHEAD -> \u001b[m\u001b[1;32mmaster\u001b[m\u001b[33m, \u001b[m\u001b[1;31morigin/master\u001b[m\u001b[33m, \u001b[m\u001b[1;31morigin/HEAD\u001b[m\u001b[33m)\u001b[m add hello\n",
            "*   \u001b[33m591ffb9\u001b[m Merge\n",
            "\u001b[32m|\u001b[m\u001b[33m\\\u001b[m  \n",
            "\u001b[32m|\u001b[m * \u001b[33m8fe7d73\u001b[m\u001b[33m (\u001b[m\u001b[1;32mfeat-a\u001b[m\u001b[33m)\u001b[m My first commit to feat-a-01.md\n",
            "* \u001b[33m|\u001b[m \u001b[33me96318e\u001b[m My second commit to master!\n",
            "\u001b[33m|\u001b[m\u001b[33m/\u001b[m  \n",
            "* \u001b[33m0a86fa3\u001b[m My first commit to the branch!\n",
            "* \u001b[33m5aefc0d\u001b[m add master-01 file\n",
            "* \u001b[33mf9fd4aa\u001b[m add README\n"
          ]
        }
      ]
    },
    {
      "cell_type": "markdown",
      "source": [
        "Delete old branch"
      ],
      "metadata": {
        "id": "fThH9cJsO5T8"
      }
    },
    {
      "cell_type": "code",
      "source": [
        "!git branch -d feat-a"
      ],
      "metadata": {
        "colab": {
          "base_uri": "https://localhost:8080/"
        },
        "id": "kg78OBLoOy_t",
        "outputId": "7fdc28da-2e53-48a2-af62-a94fba25ffea"
      },
      "execution_count": null,
      "outputs": [
        {
          "output_type": "stream",
          "name": "stdout",
          "text": [
            "Deleted branch feat-a (was 8fe7d73).\n"
          ]
        }
      ]
    },
    {
      "cell_type": "code",
      "source": [
        "!git push"
      ],
      "metadata": {
        "colab": {
          "base_uri": "https://localhost:8080/"
        },
        "id": "LF2KnMmDOzDO",
        "outputId": "37f18002-9395-4b35-957a-4aca7584b123"
      },
      "execution_count": null,
      "outputs": [
        {
          "output_type": "stream",
          "name": "stdout",
          "text": [
            "Everything up-to-date\n"
          ]
        }
      ]
    },
    {
      "cell_type": "markdown",
      "source": [
        "# Pushing local branches"
      ],
      "metadata": {
        "id": "Kubw5R-sPfai"
      }
    },
    {
      "cell_type": "code",
      "source": [
        "!git branch feat-b"
      ],
      "metadata": {
        "id": "pZKYML4iP5ow"
      },
      "execution_count": null,
      "outputs": []
    },
    {
      "cell_type": "code",
      "source": [
        "!git switch feat-b"
      ],
      "metadata": {
        "colab": {
          "base_uri": "https://localhost:8080/"
        },
        "id": "AXykHLAlOtAH",
        "outputId": "54a97eb0-5757-4183-d99d-397864cc706f"
      },
      "execution_count": null,
      "outputs": [
        {
          "output_type": "stream",
          "name": "stdout",
          "text": [
            "Switched to branch 'feat-b'\n"
          ]
        }
      ]
    },
    {
      "cell_type": "code",
      "source": [
        "!echo \"Feature b stuff.\" > feat-b-01.md"
      ],
      "metadata": {
        "id": "AzwuF0VKP8Nf"
      },
      "execution_count": null,
      "outputs": []
    },
    {
      "cell_type": "code",
      "source": [
        "!git add ."
      ],
      "metadata": {
        "id": "aUcBLPunQBGc"
      },
      "execution_count": null,
      "outputs": []
    },
    {
      "cell_type": "code",
      "source": [
        "!git commit -m \"My first feature b commit\""
      ],
      "metadata": {
        "colab": {
          "base_uri": "https://localhost:8080/"
        },
        "id": "qXfA_tA1QBog",
        "outputId": "14d99643-5b04-4466-b84a-64ece73a8bfe"
      },
      "execution_count": null,
      "outputs": [
        {
          "output_type": "stream",
          "name": "stdout",
          "text": [
            "[feat-b 007e751] My first feature b commit\n",
            " 1 file changed, 1 insertion(+)\n",
            " create mode 100644 feat-b-01.md\n"
          ]
        }
      ]
    },
    {
      "cell_type": "code",
      "source": [
        "!git status"
      ],
      "metadata": {
        "colab": {
          "base_uri": "https://localhost:8080/"
        },
        "id": "9bP0FbBDQDqs",
        "outputId": "51270995-ff90-426f-8b33-4862406e126f"
      },
      "execution_count": null,
      "outputs": [
        {
          "output_type": "stream",
          "name": "stdout",
          "text": [
            "On branch feat-b\n",
            "nothing to commit, working tree clean\n"
          ]
        }
      ]
    },
    {
      "cell_type": "code",
      "source": [
        "!git push"
      ],
      "metadata": {
        "colab": {
          "base_uri": "https://localhost:8080/"
        },
        "id": "X8a0-f4BQEX3",
        "outputId": "bb42bab5-4882-40a8-fc1b-d5b97a168cc7"
      },
      "execution_count": null,
      "outputs": [
        {
          "output_type": "stream",
          "name": "stdout",
          "text": [
            "fatal: The current branch feat-b has no upstream branch.\n",
            "To push the current branch and set the remote as upstream, use\n",
            "\n",
            "    git push --set-upstream origin feat-b\n",
            "\n"
          ]
        }
      ]
    },
    {
      "cell_type": "code",
      "source": [
        "!git push --set-upstream origin feat-b"
      ],
      "metadata": {
        "colab": {
          "base_uri": "https://localhost:8080/"
        },
        "id": "sN2ZYTpVQFk6",
        "outputId": "fe463277-c1be-4beb-c267-c5722537fe98"
      },
      "execution_count": null,
      "outputs": [
        {
          "output_type": "stream",
          "name": "stdout",
          "text": [
            "Enumerating objects: 4, done.\n",
            "Counting objects:  25% (1/4)\rCounting objects:  50% (2/4)\rCounting objects:  75% (3/4)\rCounting objects: 100% (4/4)\rCounting objects: 100% (4/4), done.\n",
            "Delta compression using up to 2 threads\n",
            "Compressing objects:  50% (1/2)\rCompressing objects: 100% (2/2)\rCompressing objects: 100% (2/2), done.\n",
            "Writing objects:  33% (1/3)\rWriting objects:  66% (2/3)\rWriting objects: 100% (3/3)\rWriting objects: 100% (3/3), 292 bytes | 292.00 KiB/s, done.\n",
            "Total 3 (delta 1), reused 0 (delta 0), pack-reused 0\n",
            "remote: Resolving deltas:   0% (0/1)\u001b[K\rremote: Resolving deltas: 100% (1/1)\u001b[K\rremote: Resolving deltas: 100% (1/1), completed with 1 local object.\u001b[K\n",
            "remote: \n",
            "remote: Create a pull request for 'feat-b' on GitHub by visiting:\u001b[K\n",
            "remote:      https://github.com/M-110/working-with-remotes/pull/new/feat-b\u001b[K\n",
            "remote: \n",
            "To https://github.com/M-110/working-with-remotes.git\n",
            " * [new branch]      feat-b -> feat-b\n",
            "branch 'feat-b' set up to track 'origin/feat-b'.\n"
          ]
        }
      ]
    },
    {
      "cell_type": "code",
      "source": [
        "!git switch master"
      ],
      "metadata": {
        "colab": {
          "base_uri": "https://localhost:8080/"
        },
        "id": "Avgq7MJuQIv1",
        "outputId": "20fffac6-e8f1-4748-bf4a-d67251c063ee"
      },
      "execution_count": null,
      "outputs": [
        {
          "output_type": "stream",
          "name": "stdout",
          "text": [
            "Switched to branch 'master'\n",
            "Your branch is up to date with 'origin/master'.\n"
          ]
        }
      ]
    },
    {
      "cell_type": "code",
      "source": [
        "!echo \"Another master file\" > master-04.md"
      ],
      "metadata": {
        "id": "pyK7eUOnQkdN"
      },
      "execution_count": null,
      "outputs": []
    },
    {
      "cell_type": "code",
      "source": [
        "!git add ."
      ],
      "metadata": {
        "id": "xe3-c9gbQo6Z"
      },
      "execution_count": null,
      "outputs": []
    },
    {
      "cell_type": "code",
      "source": [
        "!git commit -m \"Adding to master\""
      ],
      "metadata": {
        "colab": {
          "base_uri": "https://localhost:8080/"
        },
        "id": "esUFzuUjQpZ2",
        "outputId": "25416aff-f56b-47d4-d78c-45739cdcf730"
      },
      "execution_count": null,
      "outputs": [
        {
          "output_type": "stream",
          "name": "stdout",
          "text": [
            "[master e579976] Adding to master\n",
            " 1 file changed, 1 insertion(+)\n",
            " create mode 100644 master-04.md\n"
          ]
        }
      ]
    },
    {
      "cell_type": "code",
      "source": [
        "!git push"
      ],
      "metadata": {
        "colab": {
          "base_uri": "https://localhost:8080/"
        },
        "id": "GYI6-6LgQrPM",
        "outputId": "c4d7640d-94b9-474e-f35e-4e49486a5826"
      },
      "execution_count": null,
      "outputs": [
        {
          "output_type": "stream",
          "name": "stdout",
          "text": [
            "Enumerating objects: 4, done.\n",
            "Counting objects:  25% (1/4)\rCounting objects:  50% (2/4)\rCounting objects:  75% (3/4)\rCounting objects: 100% (4/4)\rCounting objects: 100% (4/4), done.\n",
            "Delta compression using up to 2 threads\n",
            "Compressing objects:  50% (1/2)\rCompressing objects: 100% (2/2)\rCompressing objects: 100% (2/2), done.\n",
            "Writing objects:  33% (1/3)\rWriting objects:  66% (2/3)\rWriting objects: 100% (3/3)\rWriting objects: 100% (3/3), 293 bytes | 293.00 KiB/s, done.\n",
            "Total 3 (delta 1), reused 0 (delta 0), pack-reused 0\n",
            "remote: Resolving deltas:   0% (0/1)\u001b[K\rremote: Resolving deltas: 100% (1/1)\u001b[K\rremote: Resolving deltas: 100% (1/1), completed with 1 local object.\u001b[K\n",
            "To https://github.com/M-110/working-with-remotes.git\n",
            "   0a287f1..e579976  master -> master\n"
          ]
        }
      ]
    },
    {
      "cell_type": "code",
      "source": [
        "!git log --oneline --graph --all"
      ],
      "metadata": {
        "colab": {
          "base_uri": "https://localhost:8080/"
        },
        "id": "YHdZ8W9VQrx3",
        "outputId": "48a77d0f-96ff-4825-f1cf-2de4ef9c40df"
      },
      "execution_count": null,
      "outputs": [
        {
          "output_type": "stream",
          "name": "stdout",
          "text": [
            "* \u001b[33me579976\u001b[m\u001b[33m (\u001b[m\u001b[1;36mHEAD -> \u001b[m\u001b[1;32mmaster\u001b[m\u001b[33m, \u001b[m\u001b[1;31morigin/master\u001b[m\u001b[33m, \u001b[m\u001b[1;31morigin/HEAD\u001b[m\u001b[33m)\u001b[m Adding to master\n",
            "\u001b[31m|\u001b[m * \u001b[33m007e751\u001b[m\u001b[33m (\u001b[m\u001b[1;31morigin/feat-b\u001b[m\u001b[33m, \u001b[m\u001b[1;32mfeat-b\u001b[m\u001b[33m)\u001b[m My first feature b commit\n",
            "\u001b[31m|\u001b[m\u001b[31m/\u001b[m  \n",
            "* \u001b[33m0a287f1\u001b[m add hello\n",
            "*   \u001b[33m591ffb9\u001b[m Merge\n",
            "\u001b[33m|\u001b[m\u001b[34m\\\u001b[m  \n",
            "\u001b[33m|\u001b[m * \u001b[33m8fe7d73\u001b[m My first commit to feat-a-01.md\n",
            "* \u001b[34m|\u001b[m \u001b[33me96318e\u001b[m My second commit to master!\n",
            "\u001b[34m|\u001b[m\u001b[34m/\u001b[m  \n",
            "* \u001b[33m0a86fa3\u001b[m My first commit to the branch!\n",
            "* \u001b[33m5aefc0d\u001b[m add master-01 file\n",
            "* \u001b[33mf9fd4aa\u001b[m add README\n"
          ]
        }
      ]
    },
    {
      "cell_type": "markdown",
      "source": [
        "# Merging branches through Pull Request"
      ],
      "metadata": {
        "id": "w4fisUMfQ-22"
      }
    },
    {
      "cell_type": "markdown",
      "source": [
        "## Option A: follow the pull request url listed when you pushed the branch\n",
        "\n",
        "https://github.com/M-110/working-with-remotes/pull/new/feat-b\n",
        "\n",
        "## Option B: Go to github page immediately after and there should be a button to make a pull request\n",
        "\n",
        "## Option C: Click the pull request tab on the github page\n",
        "\n",
        "Pull requests are kind of the safe way to push changes to the main branch.\n",
        "\n",
        "Instead of directly pushing and forcing the main branch to be up to date with your versions while others potentially are working on it, it adds a step inbetween.\n",
        "\n",
        "The pull request allows you to open up your changes before fully merging them. Other people can see it and suggest things.\n",
        "\n",
        "It's like a queue of changes to be made to the main branch.\n",
        "\n",
        "Pull requests are for collaboration. For working alone, you should just merge directly."
      ],
      "metadata": {
        "id": "-HpRH_aJRNDN"
      }
    },
    {
      "cell_type": "code",
      "source": [
        "!git fetch"
      ],
      "metadata": {
        "colab": {
          "base_uri": "https://localhost:8080/"
        },
        "id": "hbp7tpQlRUXT",
        "outputId": "282c3225-04b0-47d6-f7c9-ce4a7cc16910"
      },
      "execution_count": null,
      "outputs": [
        {
          "output_type": "stream",
          "name": "stdout",
          "text": [
            "remote: Enumerating objects: 4, done.\u001b[K\n",
            "remote: Counting objects:  25% (1/4)\u001b[K\rremote: Counting objects:  50% (2/4)\u001b[K\rremote: Counting objects:  75% (3/4)\u001b[K\rremote: Counting objects: 100% (4/4)\u001b[K\rremote: Counting objects: 100% (4/4), done.\u001b[K\n",
            "remote: Compressing objects:  50% (1/2)\u001b[K\rremote: Compressing objects: 100% (2/2)\u001b[K\rremote: Compressing objects: 100% (2/2), done.\u001b[K\n",
            "remote: Total 2 (delta 1), reused 0 (delta 0), pack-reused 0\u001b[K\n",
            "Unpacking objects:  50% (1/2)\rUnpacking objects: 100% (2/2)\rUnpacking objects: 100% (2/2), 695 bytes | 695.00 KiB/s, done.\n",
            "From https://github.com/M-110/working-with-remotes\n",
            "   e579976..6c1260a  master     -> origin/master\n"
          ]
        }
      ]
    },
    {
      "cell_type": "code",
      "source": [
        "!git log --oneline --all --graph"
      ],
      "metadata": {
        "colab": {
          "base_uri": "https://localhost:8080/"
        },
        "id": "XIgOez6rQueD",
        "outputId": "2ba18361-9746-4f83-b92f-a46316f654bb"
      },
      "execution_count": null,
      "outputs": [
        {
          "output_type": "stream",
          "name": "stdout",
          "text": [
            "*   \u001b[33m6c1260a\u001b[m\u001b[33m (\u001b[m\u001b[1;31morigin/master\u001b[m\u001b[33m, \u001b[m\u001b[1;31morigin/HEAD\u001b[m\u001b[33m)\u001b[m Merge pull request #1 from M-110/feat-b\n",
            "\u001b[31m|\u001b[m\u001b[32m\\\u001b[m  \n",
            "\u001b[31m|\u001b[m * \u001b[33m007e751\u001b[m\u001b[33m (\u001b[m\u001b[1;31morigin/feat-b\u001b[m\u001b[33m, \u001b[m\u001b[1;32mfeat-b\u001b[m\u001b[33m)\u001b[m My first feature b commit\n",
            "* \u001b[32m|\u001b[m \u001b[33me579976\u001b[m\u001b[33m (\u001b[m\u001b[1;36mHEAD -> \u001b[m\u001b[1;32mmaster\u001b[m\u001b[33m)\u001b[m Adding to master\n",
            "\u001b[32m|\u001b[m\u001b[32m/\u001b[m  \n",
            "* \u001b[33m0a287f1\u001b[m add hello\n",
            "*   \u001b[33m591ffb9\u001b[m Merge\n",
            "\u001b[33m|\u001b[m\u001b[34m\\\u001b[m  \n",
            "\u001b[33m|\u001b[m * \u001b[33m8fe7d73\u001b[m My first commit to feat-a-01.md\n",
            "* \u001b[34m|\u001b[m \u001b[33me96318e\u001b[m My second commit to master!\n",
            "\u001b[34m|\u001b[m\u001b[34m/\u001b[m  \n",
            "* \u001b[33m0a86fa3\u001b[m My first commit to the branch!\n",
            "* \u001b[33m5aefc0d\u001b[m add master-01 file\n",
            "* \u001b[33mf9fd4aa\u001b[m add README\n"
          ]
        }
      ]
    },
    {
      "cell_type": "code",
      "source": [
        ""
      ],
      "metadata": {
        "id": "bWEI_5C_Vl-J"
      },
      "execution_count": null,
      "outputs": []
    }
  ]
}