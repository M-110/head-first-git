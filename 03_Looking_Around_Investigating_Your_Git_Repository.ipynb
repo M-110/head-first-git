{
  "nbformat": 4,
  "nbformat_minor": 0,
  "metadata": {
    "colab": {
      "name": "03_Looking_Around_Investigating_Your_Git_Repository",
      "provenance": [],
      "collapsed_sections": [],
      "authorship_tag": "ABX9TyOlTIl1HHogNX8uxNk1zGAJ",
      "include_colab_link": true
    },
    "kernelspec": {
      "name": "python3",
      "display_name": "Python 3"
    },
    "language_info": {
      "name": "python"
    }
  },
  "cells": [
    {
      "cell_type": "markdown",
      "metadata": {
        "id": "view-in-github",
        "colab_type": "text"
      },
      "source": [
        "<a href=\"https://colab.research.google.com/github/M-110/head-first-git/blob/main/03_Looking_Around_Investigating_Your_Git_Repository.ipynb\" target=\"_parent\"><img src=\"https://colab.research.google.com/assets/colab-badge.svg\" alt=\"Open In Colab\"/></a>"
      ]
    },
    {
      "cell_type": "markdown",
      "source": [
        "# Setup"
      ],
      "metadata": {
        "id": "92x9CboDj7QF"
      }
    },
    {
      "cell_type": "code",
      "execution_count": null,
      "metadata": {
        "id": "rww_IpLFcDzz",
        "colab": {
          "base_uri": "https://localhost:8080/"
        },
        "outputId": "78af99a3-be28-4c39-8ab6-4ab579b092ff"
      },
      "outputs": [
        {
          "output_type": "stream",
          "name": "stdout",
          "text": [
            "\r0% [Working]\r            \rHit:1 http://archive.ubuntu.com/ubuntu bionic InRelease\n",
            "\r0% [Connecting to security.ubuntu.com (185.125.190.39)] [Connected to cloud.r-p\r                                                                               \rGet:2 http://archive.ubuntu.com/ubuntu bionic-updates InRelease [88.7 kB]\n",
            "Get:3 http://archive.ubuntu.com/ubuntu bionic-backports InRelease [74.6 kB]\n",
            "Get:4 http://security.ubuntu.com/ubuntu bionic-security InRelease [88.7 kB]\n",
            "Get:5 https://cloud.r-project.org/bin/linux/ubuntu bionic-cran40/ InRelease [3,626 B]\n",
            "Get:6 http://ppa.launchpad.net/c2d4u.team/c2d4u4.0+/ubuntu bionic InRelease [15.9 kB]\n",
            "Get:7 https://developer.download.nvidia.com/compute/cuda/repos/ubuntu1804/x86_64  InRelease [1,581 B]\n",
            "Ign:8 https://developer.download.nvidia.com/compute/machine-learning/repos/ubuntu1804/x86_64  InRelease\n",
            "Hit:9 https://developer.download.nvidia.com/compute/machine-learning/repos/ubuntu1804/x86_64  Release\n",
            "Hit:10 http://ppa.launchpad.net/cran/libgit2/ubuntu bionic InRelease\n",
            "Get:11 http://ppa.launchpad.net/deadsnakes/ppa/ubuntu bionic InRelease [15.9 kB]\n",
            "Get:12 http://ppa.launchpad.net/git-core/ppa/ubuntu bionic InRelease [20.8 kB]\n",
            "Get:13 http://ppa.launchpad.net/graphics-drivers/ppa/ubuntu bionic InRelease [21.3 kB]\n",
            "Get:14 http://archive.ubuntu.com/ubuntu bionic-updates/restricted amd64 Packages [966 kB]\n",
            "Get:15 http://archive.ubuntu.com/ubuntu bionic-updates/main amd64 Packages [3,197 kB]\n",
            "Get:16 http://archive.ubuntu.com/ubuntu bionic-updates/universe amd64 Packages [2,277 kB]\n",
            "Get:17 https://cloud.r-project.org/bin/linux/ubuntu bionic-cran40/ Packages [85.2 kB]\n",
            "Get:18 http://ppa.launchpad.net/c2d4u.team/c2d4u4.0+/ubuntu bionic/main Sources [1,957 kB]\n",
            "Get:19 https://developer.download.nvidia.com/compute/cuda/repos/ubuntu1804/x86_64  Packages [770 kB]\n",
            "Get:21 http://ppa.launchpad.net/c2d4u.team/c2d4u4.0+/ubuntu bionic/main amd64 Packages [1,004 kB]\n",
            "Get:22 http://security.ubuntu.com/ubuntu bionic-security/universe amd64 Packages [1,503 kB]\n",
            "Get:23 http://security.ubuntu.com/ubuntu bionic-security/restricted amd64 Packages [932 kB]\n",
            "Get:24 http://ppa.launchpad.net/deadsnakes/ppa/ubuntu bionic/main amd64 Packages [45.3 kB]\n",
            "Get:25 http://security.ubuntu.com/ubuntu bionic-security/main amd64 Packages [2,761 kB]\n",
            "Get:26 http://ppa.launchpad.net/git-core/ppa/ubuntu bionic/main amd64 Packages [3,163 B]\n",
            "Get:27 http://ppa.launchpad.net/graphics-drivers/ppa/ubuntu bionic/main amd64 Packages [44.3 kB]\n",
            "Fetched 15.9 MB in 4s (3,624 kB/s)\n",
            "Reading package lists... Done\n",
            "Hit:1 https://developer.download.nvidia.com/compute/cuda/repos/ubuntu1804/x86_64  InRelease\n",
            "Hit:2 https://cloud.r-project.org/bin/linux/ubuntu bionic-cran40/ InRelease\n",
            "Ign:3 https://developer.download.nvidia.com/compute/machine-learning/repos/ubuntu1804/x86_64  InRelease\n",
            "Hit:4 https://developer.download.nvidia.com/compute/machine-learning/repos/ubuntu1804/x86_64  Release\n",
            "Hit:5 http://ppa.launchpad.net/c2d4u.team/c2d4u4.0+/ubuntu bionic InRelease\n",
            "Hit:6 http://archive.ubuntu.com/ubuntu bionic InRelease\n",
            "Hit:7 http://archive.ubuntu.com/ubuntu bionic-updates InRelease\n",
            "Hit:8 http://archive.ubuntu.com/ubuntu bionic-backports InRelease\n",
            "Hit:9 http://ppa.launchpad.net/cran/libgit2/ubuntu bionic InRelease\n",
            "Hit:11 http://ppa.launchpad.net/deadsnakes/ppa/ubuntu bionic InRelease\n",
            "Hit:12 http://ppa.launchpad.net/git-core/ppa/ubuntu bionic InRelease\n",
            "Hit:13 http://ppa.launchpad.net/graphics-drivers/ppa/ubuntu bionic InRelease\n",
            "Hit:14 http://security.ubuntu.com/ubuntu bionic-security InRelease\n",
            "Reading package lists... Done\n",
            "Building dependency tree       \n",
            "Reading state information... Done\n",
            "74 packages can be upgraded. Run 'apt list --upgradable' to see them.\n",
            "Reading package lists... Done\n",
            "Building dependency tree       \n",
            "Reading state information... Done\n",
            "The following packages were automatically installed and are no longer required:\n",
            "  libnvidia-common-460 nsight-compute-2020.2.0\n",
            "Use 'apt autoremove' to remove them.\n",
            "The following additional packages will be installed:\n",
            "  git-man\n",
            "Suggested packages:\n",
            "  gettext-base git-daemon-run | git-daemon-sysvinit git-doc git-email git-gui\n",
            "  gitk gitweb git-cvs git-mediawiki git-svn\n",
            "The following packages will be upgraded:\n",
            "  git git-man\n",
            "2 upgraded, 0 newly installed, 0 to remove and 72 not upgraded.\n",
            "Need to get 7,835 kB of archives.\n",
            "After this operation, 7,048 kB of additional disk space will be used.\n",
            "Get:1 http://ppa.launchpad.net/git-core/ppa/ubuntu bionic/main amd64 git amd64 1:2.36.1-0ppa1~ubuntu18.04.1 [5,895 kB]\n",
            "Get:2 http://ppa.launchpad.net/git-core/ppa/ubuntu bionic/main amd64 git-man all 1:2.36.1-0ppa1~ubuntu18.04.1 [1,940 kB]\n",
            "Fetched 7,835 kB in 2s (5,106 kB/s)\n",
            "(Reading database ... 155203 files and directories currently installed.)\n",
            "Preparing to unpack .../git_1%3a2.36.1-0ppa1~ubuntu18.04.1_amd64.deb ...\n",
            "Unpacking git (1:2.36.1-0ppa1~ubuntu18.04.1) over (1:2.17.1-1ubuntu0.11) ...\n",
            "Preparing to unpack .../git-man_1%3a2.36.1-0ppa1~ubuntu18.04.1_all.deb ...\n",
            "Unpacking git-man (1:2.36.1-0ppa1~ubuntu18.04.1) over (1:2.17.1-1ubuntu0.11) ...\n",
            "Setting up git-man (1:2.36.1-0ppa1~ubuntu18.04.1) ...\n",
            "Setting up git (1:2.36.1-0ppa1~ubuntu18.04.1) ...\n",
            "Processing triggers for man-db (2.8.3-2ubuntu0.1) ...\n"
          ]
        }
      ],
      "source": [
        "!add-apt-repository ppa:git-core/ppa -y\n",
        "!apt update\n",
        "!apt install git"
      ]
    },
    {
      "cell_type": "code",
      "source": [
        "!wget https://i-love-git.com/assets/head-first-git-2022-01-02.zip\n",
        "!unzip head*.zip"
      ],
      "metadata": {
        "colab": {
          "base_uri": "https://localhost:8080/"
        },
        "id": "ByhUAwY7iEZX",
        "outputId": "8fbe6733-f786-43b2-b36c-ccf6b9877d1a"
      },
      "execution_count": null,
      "outputs": [
        {
          "output_type": "stream",
          "name": "stdout",
          "text": [
            "--2022-05-17 15:08:16--  https://i-love-git.com/assets/head-first-git-2022-01-02.zip\n",
            "Resolving i-love-git.com (i-love-git.com)... 204.44.192.63\n",
            "Connecting to i-love-git.com (i-love-git.com)|204.44.192.63|:443... connected.\n",
            "HTTP request sent, awaiting response... 200 OK\n",
            "Length: 688702 (673K) [application/zip]\n",
            "Saving to: ‘head-first-git-2022-01-02.zip’\n",
            "\n",
            "head-first-git-2022 100%[===================>] 672.56K  1.96MB/s    in 0.3s    \n",
            "\n",
            "2022-05-17 15:08:17 (1.96 MB/s) - ‘head-first-git-2022-01-02.zip’ saved [688702/688702]\n",
            "\n",
            "Archive:  head-first-git-2022-01-02.zip\n",
            "   creating: headfirst-git-samples/\n",
            "   creating: headfirst-git-samples/chapter05/\n",
            " extracting: headfirst-git-samples/chapter05/master-01.md  \n",
            "  inflating: headfirst-git-samples/chapter05/master-04.md  \n",
            "  inflating: headfirst-git-samples/chapter05/README.md  \n",
            "  inflating: headfirst-git-samples/chapter05/master-03.md  \n",
            " extracting: headfirst-git-samples/chapter05/feat-a-01.md  \n",
            "  inflating: headfirst-git-samples/chapter05/master-02.md  \n",
            " extracting: headfirst-git-samples/chapter05/feat-b-01.md  \n",
            "   creating: headfirst-git-samples/chapter02/\n",
            "   creating: headfirst-git-samples/chapter02/loving-git/\n",
            "  inflating: headfirst-git-samples/chapter02/loving-git/tribute.md  \n",
            "   creating: headfirst-git-samples/chapter02/loving-git/.git/\n",
            "  inflating: headfirst-git-samples/chapter02/loving-git/.git/config  \n",
            "   creating: headfirst-git-samples/chapter02/loving-git/.git/objects/\n",
            "   creating: headfirst-git-samples/chapter02/loving-git/.git/objects/35/\n",
            " extracting: headfirst-git-samples/chapter02/loving-git/.git/objects/35/68f0cff418928cde382a842e4d8b1a19d705fa  \n",
            "   creating: headfirst-git-samples/chapter02/loving-git/.git/objects/b2/\n",
            " extracting: headfirst-git-samples/chapter02/loving-git/.git/objects/b2/842d215770aba20d262e4fc64de1416371c3aa  \n",
            "   creating: headfirst-git-samples/chapter02/loving-git/.git/objects/ad/\n",
            " extracting: headfirst-git-samples/chapter02/loving-git/.git/objects/ad/d295a920bede80bbe33b72ba1fc063527ffa9f  \n",
            "   creating: headfirst-git-samples/chapter02/loving-git/.git/objects/pack/\n",
            "   creating: headfirst-git-samples/chapter02/loving-git/.git/objects/9f/\n",
            " extracting: headfirst-git-samples/chapter02/loving-git/.git/objects/9f/b85d2ad4a7d7a13052abd1d4b8a8cde225b96a  \n",
            "   creating: headfirst-git-samples/chapter02/loving-git/.git/objects/00/\n",
            " extracting: headfirst-git-samples/chapter02/loving-git/.git/objects/00/e2dc5731ec4583ad978e029b9b23f714a8208d  \n",
            "   creating: headfirst-git-samples/chapter02/loving-git/.git/objects/info/\n",
            "   creating: headfirst-git-samples/chapter02/loving-git/.git/objects/96/\n",
            " extracting: headfirst-git-samples/chapter02/loving-git/.git/objects/96/e6ea3cf0e9bef5b1bf53a0bd05340fa7618f81  \n",
            "   creating: headfirst-git-samples/chapter02/loving-git/.git/objects/ba/\n",
            " extracting: headfirst-git-samples/chapter02/loving-git/.git/objects/ba/cb37dfad5e645dfd63ec1133915579e0d7d87f  \n",
            "   creating: headfirst-git-samples/chapter02/loving-git/.git/objects/cb/\n",
            " extracting: headfirst-git-samples/chapter02/loving-git/.git/objects/cb/083083ca8a79264ef8c5241bea67d7089ec44a  \n",
            "   creating: headfirst-git-samples/chapter02/loving-git/.git/objects/e0/\n",
            " extracting: headfirst-git-samples/chapter02/loving-git/.git/objects/e0/2cad7a5d930680cceb2ace18c1119b7f3c7976  \n",
            " extracting: headfirst-git-samples/chapter02/loving-git/.git/HEAD  \n",
            "   creating: headfirst-git-samples/chapter02/loving-git/.git/info/\n",
            "  inflating: headfirst-git-samples/chapter02/loving-git/.git/info/exclude  \n",
            "   creating: headfirst-git-samples/chapter02/loving-git/.git/logs/\n",
            "  inflating: headfirst-git-samples/chapter02/loving-git/.git/logs/HEAD  \n",
            "   creating: headfirst-git-samples/chapter02/loving-git/.git/logs/refs/\n",
            "   creating: headfirst-git-samples/chapter02/loving-git/.git/logs/refs/heads/\n",
            "  inflating: headfirst-git-samples/chapter02/loving-git/.git/logs/refs/heads/improvisation  \n",
            "  inflating: headfirst-git-samples/chapter02/loving-git/.git/logs/refs/heads/master  \n",
            "  inflating: headfirst-git-samples/chapter02/loving-git/.git/description  \n",
            "   creating: headfirst-git-samples/chapter02/loving-git/.git/hooks/\n",
            "  inflating: headfirst-git-samples/chapter02/loving-git/.git/hooks/commit-msg.sample  \n",
            "  inflating: headfirst-git-samples/chapter02/loving-git/.git/hooks/pre-rebase.sample  \n",
            "  inflating: headfirst-git-samples/chapter02/loving-git/.git/hooks/pre-commit.sample  \n",
            "  inflating: headfirst-git-samples/chapter02/loving-git/.git/hooks/applypatch-msg.sample  \n",
            "  inflating: headfirst-git-samples/chapter02/loving-git/.git/hooks/fsmonitor-watchman.sample  \n",
            "  inflating: headfirst-git-samples/chapter02/loving-git/.git/hooks/pre-receive.sample  \n",
            "  inflating: headfirst-git-samples/chapter02/loving-git/.git/hooks/prepare-commit-msg.sample  \n",
            "  inflating: headfirst-git-samples/chapter02/loving-git/.git/hooks/post-update.sample  \n",
            "  inflating: headfirst-git-samples/chapter02/loving-git/.git/hooks/pre-merge-commit.sample  \n",
            "  inflating: headfirst-git-samples/chapter02/loving-git/.git/hooks/pre-applypatch.sample  \n",
            "  inflating: headfirst-git-samples/chapter02/loving-git/.git/hooks/pre-push.sample  \n",
            "  inflating: headfirst-git-samples/chapter02/loving-git/.git/hooks/update.sample  \n",
            "  inflating: headfirst-git-samples/chapter02/loving-git/.git/hooks/push-to-checkout.sample  \n",
            "   creating: headfirst-git-samples/chapter02/loving-git/.git/refs/\n",
            "   creating: headfirst-git-samples/chapter02/loving-git/.git/refs/heads/\n",
            " extracting: headfirst-git-samples/chapter02/loving-git/.git/refs/heads/improvisation  \n",
            " extracting: headfirst-git-samples/chapter02/loving-git/.git/refs/heads/master  \n",
            "   creating: headfirst-git-samples/chapter02/loving-git/.git/refs/tags/\n",
            "  inflating: headfirst-git-samples/chapter02/loving-git/.git/index  \n",
            " extracting: headfirst-git-samples/chapter02/loving-git/.git/COMMIT_EDITMSG  \n",
            "  inflating: headfirst-git-samples/chapter02/thursdays-menu.md  \n",
            "  inflating: headfirst-git-samples/chapter02/menu.md  \n",
            "   creating: headfirst-git-samples/chapter02/80s-diner-step-2/\n",
            "  inflating: headfirst-git-samples/chapter02/80s-diner-step-2/menu.md  \n",
            "  inflating: headfirst-git-samples/chapter02/80s-diner-step-2/fall-menu.md  \n",
            "   creating: headfirst-git-samples/chapter02/80s-diner-step-2/.git/\n",
            "  inflating: headfirst-git-samples/chapter02/80s-diner-step-2/.git/config  \n",
            "   creating: headfirst-git-samples/chapter02/80s-diner-step-2/.git/objects/\n",
            "   creating: headfirst-git-samples/chapter02/80s-diner-step-2/.git/objects/33/\n",
            " extracting: headfirst-git-samples/chapter02/80s-diner-step-2/.git/objects/33/fe840e1ed0d79c002a2b02b2781ed273ba46bb  \n",
            "   creating: headfirst-git-samples/chapter02/80s-diner-step-2/.git/objects/a2/\n",
            " extracting: headfirst-git-samples/chapter02/80s-diner-step-2/.git/objects/a2/f84e5cb18735ca43ea9bfe211f40049dcbc81c  \n",
            "   creating: headfirst-git-samples/chapter02/80s-diner-step-2/.git/objects/pack/\n",
            "   creating: headfirst-git-samples/chapter02/80s-diner-step-2/.git/objects/info/\n",
            "   creating: headfirst-git-samples/chapter02/80s-diner-step-2/.git/objects/62/\n",
            " extracting: headfirst-git-samples/chapter02/80s-diner-step-2/.git/objects/62/c0f7fdee0ecb90ef4f34068c52f0b077838c93  \n",
            "   creating: headfirst-git-samples/chapter02/80s-diner-step-2/.git/objects/ef/\n",
            " extracting: headfirst-git-samples/chapter02/80s-diner-step-2/.git/objects/ef/36cc70124cfd54a942a972efd557691e15cc04  \n",
            "   creating: headfirst-git-samples/chapter02/80s-diner-step-2/.git/objects/ea/\n",
            " extracting: headfirst-git-samples/chapter02/80s-diner-step-2/.git/objects/ea/6b05ef4c9ef211080a842a7729c51d89716ac8  \n",
            "   creating: headfirst-git-samples/chapter02/80s-diner-step-2/.git/objects/4f/\n",
            " extracting: headfirst-git-samples/chapter02/80s-diner-step-2/.git/objects/4f/41f1fda4fb0adf9a556815716a64929f884225  \n",
            " extracting: headfirst-git-samples/chapter02/80s-diner-step-2/.git/HEAD  \n",
            "   creating: headfirst-git-samples/chapter02/80s-diner-step-2/.git/info/\n",
            "  inflating: headfirst-git-samples/chapter02/80s-diner-step-2/.git/info/exclude  \n",
            "   creating: headfirst-git-samples/chapter02/80s-diner-step-2/.git/logs/\n",
            "  inflating: headfirst-git-samples/chapter02/80s-diner-step-2/.git/logs/HEAD  \n",
            "   creating: headfirst-git-samples/chapter02/80s-diner-step-2/.git/logs/refs/\n",
            "   creating: headfirst-git-samples/chapter02/80s-diner-step-2/.git/logs/refs/heads/\n",
            "  inflating: headfirst-git-samples/chapter02/80s-diner-step-2/.git/logs/refs/heads/add-fall-menu  \n",
            "  inflating: headfirst-git-samples/chapter02/80s-diner-step-2/.git/logs/refs/heads/master  \n",
            "  inflating: headfirst-git-samples/chapter02/80s-diner-step-2/.git/description  \n",
            "   creating: headfirst-git-samples/chapter02/80s-diner-step-2/.git/hooks/\n",
            "  inflating: headfirst-git-samples/chapter02/80s-diner-step-2/.git/hooks/commit-msg.sample  \n",
            "  inflating: headfirst-git-samples/chapter02/80s-diner-step-2/.git/hooks/pre-rebase.sample  \n",
            "  inflating: headfirst-git-samples/chapter02/80s-diner-step-2/.git/hooks/pre-commit.sample  \n",
            "  inflating: headfirst-git-samples/chapter02/80s-diner-step-2/.git/hooks/applypatch-msg.sample  \n",
            "  inflating: headfirst-git-samples/chapter02/80s-diner-step-2/.git/hooks/fsmonitor-watchman.sample  \n",
            "  inflating: headfirst-git-samples/chapter02/80s-diner-step-2/.git/hooks/pre-receive.sample  \n",
            "  inflating: headfirst-git-samples/chapter02/80s-diner-step-2/.git/hooks/prepare-commit-msg.sample  \n",
            "  inflating: headfirst-git-samples/chapter02/80s-diner-step-2/.git/hooks/post-update.sample  \n",
            "  inflating: headfirst-git-samples/chapter02/80s-diner-step-2/.git/hooks/pre-merge-commit.sample  \n",
            "  inflating: headfirst-git-samples/chapter02/80s-diner-step-2/.git/hooks/pre-applypatch.sample  \n",
            "  inflating: headfirst-git-samples/chapter02/80s-diner-step-2/.git/hooks/pre-push.sample  \n",
            "  inflating: headfirst-git-samples/chapter02/80s-diner-step-2/.git/hooks/update.sample  \n",
            "  inflating: headfirst-git-samples/chapter02/80s-diner-step-2/.git/hooks/push-to-checkout.sample  \n",
            "   creating: headfirst-git-samples/chapter02/80s-diner-step-2/.git/refs/\n",
            "   creating: headfirst-git-samples/chapter02/80s-diner-step-2/.git/refs/heads/\n",
            " extracting: headfirst-git-samples/chapter02/80s-diner-step-2/.git/refs/heads/add-fall-menu  \n",
            " extracting: headfirst-git-samples/chapter02/80s-diner-step-2/.git/refs/heads/master  \n",
            "   creating: headfirst-git-samples/chapter02/80s-diner-step-2/.git/refs/tags/\n",
            "  inflating: headfirst-git-samples/chapter02/80s-diner-step-2/.git/index  \n",
            " extracting: headfirst-git-samples/chapter02/80s-diner-step-2/.git/COMMIT_EDITMSG  \n",
            "   creating: headfirst-git-samples/chapter02/80s-diner-step-5/\n",
            "  inflating: headfirst-git-samples/chapter02/80s-diner-step-5/menu.md  \n",
            "  inflating: headfirst-git-samples/chapter02/80s-diner-step-5/fall-menu.md  \n",
            "   creating: headfirst-git-samples/chapter02/80s-diner-step-5/.git/\n",
            " extracting: headfirst-git-samples/chapter02/80s-diner-step-5/.git/ORIG_HEAD  \n",
            "  inflating: headfirst-git-samples/chapter02/80s-diner-step-5/.git/config  \n",
            "   creating: headfirst-git-samples/chapter02/80s-diner-step-5/.git/objects/\n",
            "   creating: headfirst-git-samples/chapter02/80s-diner-step-5/.git/objects/33/\n",
            " extracting: headfirst-git-samples/chapter02/80s-diner-step-5/.git/objects/33/fe840e1ed0d79c002a2b02b2781ed273ba46bb  \n",
            "   creating: headfirst-git-samples/chapter02/80s-diner-step-5/.git/objects/a2/\n",
            " extracting: headfirst-git-samples/chapter02/80s-diner-step-5/.git/objects/a2/f84e5cb18735ca43ea9bfe211f40049dcbc81c  \n",
            "   creating: headfirst-git-samples/chapter02/80s-diner-step-5/.git/objects/bd/\n",
            " extracting: headfirst-git-samples/chapter02/80s-diner-step-5/.git/objects/bd/eea6ffad008de2a564b932cf4c89ac92f9b051  \n",
            "   creating: headfirst-git-samples/chapter02/80s-diner-step-5/.git/objects/20/\n",
            " extracting: headfirst-git-samples/chapter02/80s-diner-step-5/.git/objects/20/9c9e674ce103ccf0b38e17cf3d17906949314f  \n",
            "   creating: headfirst-git-samples/chapter02/80s-diner-step-5/.git/objects/pack/\n",
            "   creating: headfirst-git-samples/chapter02/80s-diner-step-5/.git/objects/info/\n",
            "   creating: headfirst-git-samples/chapter02/80s-diner-step-5/.git/objects/62/\n",
            " extracting: headfirst-git-samples/chapter02/80s-diner-step-5/.git/objects/62/c0f7fdee0ecb90ef4f34068c52f0b077838c93  \n",
            "   creating: headfirst-git-samples/chapter02/80s-diner-step-5/.git/objects/06/\n",
            " extracting: headfirst-git-samples/chapter02/80s-diner-step-5/.git/objects/06/4703be08d0eb9ed2646e67839ee563b63de2ff  \n",
            " extracting: headfirst-git-samples/chapter02/80s-diner-step-5/.git/objects/06/f08b89b583d1c001a04fea95a074e3226b24e7  \n",
            "   creating: headfirst-git-samples/chapter02/80s-diner-step-5/.git/objects/97/\n",
            " extracting: headfirst-git-samples/chapter02/80s-diner-step-5/.git/objects/97/cfcf187eccc8a1eb7861264f3198320b3f7bab  \n",
            "   creating: headfirst-git-samples/chapter02/80s-diner-step-5/.git/objects/ef/\n",
            " extracting: headfirst-git-samples/chapter02/80s-diner-step-5/.git/objects/ef/36cc70124cfd54a942a972efd557691e15cc04  \n",
            "   creating: headfirst-git-samples/chapter02/80s-diner-step-5/.git/objects/ea/\n",
            " extracting: headfirst-git-samples/chapter02/80s-diner-step-5/.git/objects/ea/6b05ef4c9ef211080a842a7729c51d89716ac8  \n",
            "   creating: headfirst-git-samples/chapter02/80s-diner-step-5/.git/objects/24/\n",
            " extracting: headfirst-git-samples/chapter02/80s-diner-step-5/.git/objects/24/5482d33cfe186360c0f3b822d5a31ef0b405c5  \n",
            "   creating: headfirst-git-samples/chapter02/80s-diner-step-5/.git/objects/4f/\n",
            " extracting: headfirst-git-samples/chapter02/80s-diner-step-5/.git/objects/4f/41f1fda4fb0adf9a556815716a64929f884225  \n",
            " extracting: headfirst-git-samples/chapter02/80s-diner-step-5/.git/HEAD  \n",
            "   creating: headfirst-git-samples/chapter02/80s-diner-step-5/.git/info/\n",
            "  inflating: headfirst-git-samples/chapter02/80s-diner-step-5/.git/info/exclude  \n",
            "   creating: headfirst-git-samples/chapter02/80s-diner-step-5/.git/logs/\n",
            "  inflating: headfirst-git-samples/chapter02/80s-diner-step-5/.git/logs/HEAD  \n",
            "   creating: headfirst-git-samples/chapter02/80s-diner-step-5/.git/logs/refs/\n",
            "   creating: headfirst-git-samples/chapter02/80s-diner-step-5/.git/logs/refs/heads/\n",
            "  inflating: headfirst-git-samples/chapter02/80s-diner-step-5/.git/logs/refs/heads/add-thurs-menu  \n",
            "  inflating: headfirst-git-samples/chapter02/80s-diner-step-5/.git/logs/refs/heads/add-fall-menu  \n",
            "  inflating: headfirst-git-samples/chapter02/80s-diner-step-5/.git/logs/refs/heads/master  \n",
            "  inflating: headfirst-git-samples/chapter02/80s-diner-step-5/.git/description  \n",
            "   creating: headfirst-git-samples/chapter02/80s-diner-step-5/.git/hooks/\n",
            "  inflating: headfirst-git-samples/chapter02/80s-diner-step-5/.git/hooks/commit-msg.sample  \n",
            "  inflating: headfirst-git-samples/chapter02/80s-diner-step-5/.git/hooks/pre-rebase.sample  \n",
            "  inflating: headfirst-git-samples/chapter02/80s-diner-step-5/.git/hooks/pre-commit.sample  \n",
            "  inflating: headfirst-git-samples/chapter02/80s-diner-step-5/.git/hooks/applypatch-msg.sample  \n",
            "  inflating: headfirst-git-samples/chapter02/80s-diner-step-5/.git/hooks/fsmonitor-watchman.sample  \n",
            "  inflating: headfirst-git-samples/chapter02/80s-diner-step-5/.git/hooks/pre-receive.sample  \n",
            "  inflating: headfirst-git-samples/chapter02/80s-diner-step-5/.git/hooks/prepare-commit-msg.sample  \n",
            "  inflating: headfirst-git-samples/chapter02/80s-diner-step-5/.git/hooks/post-update.sample  \n",
            "  inflating: headfirst-git-samples/chapter02/80s-diner-step-5/.git/hooks/pre-merge-commit.sample  \n",
            "  inflating: headfirst-git-samples/chapter02/80s-diner-step-5/.git/hooks/pre-applypatch.sample  \n",
            "  inflating: headfirst-git-samples/chapter02/80s-diner-step-5/.git/hooks/pre-push.sample  \n",
            "  inflating: headfirst-git-samples/chapter02/80s-diner-step-5/.git/hooks/update.sample  \n",
            "  inflating: headfirst-git-samples/chapter02/80s-diner-step-5/.git/hooks/push-to-checkout.sample  \n",
            "   creating: headfirst-git-samples/chapter02/80s-diner-step-5/.git/refs/\n",
            "   creating: headfirst-git-samples/chapter02/80s-diner-step-5/.git/refs/heads/\n",
            " extracting: headfirst-git-samples/chapter02/80s-diner-step-5/.git/refs/heads/add-thurs-menu  \n",
            " extracting: headfirst-git-samples/chapter02/80s-diner-step-5/.git/refs/heads/add-fall-menu  \n",
            " extracting: headfirst-git-samples/chapter02/80s-diner-step-5/.git/refs/heads/master  \n",
            "   creating: headfirst-git-samples/chapter02/80s-diner-step-5/.git/refs/tags/\n",
            "  inflating: headfirst-git-samples/chapter02/80s-diner-step-5/.git/index  \n",
            " extracting: headfirst-git-samples/chapter02/80s-diner-step-5/.git/COMMIT_EDITMSG  \n",
            "   creating: headfirst-git-samples/chapter02/80s-diner-step-4/\n",
            "  inflating: headfirst-git-samples/chapter02/80s-diner-step-4/thursdays-menu.md  \n",
            "  inflating: headfirst-git-samples/chapter02/80s-diner-step-4/menu.md  \n",
            "   creating: headfirst-git-samples/chapter02/80s-diner-step-4/.git/\n",
            "  inflating: headfirst-git-samples/chapter02/80s-diner-step-4/.git/config  \n",
            "   creating: headfirst-git-samples/chapter02/80s-diner-step-4/.git/objects/\n",
            "   creating: headfirst-git-samples/chapter02/80s-diner-step-4/.git/objects/33/\n",
            " extracting: headfirst-git-samples/chapter02/80s-diner-step-4/.git/objects/33/fe840e1ed0d79c002a2b02b2781ed273ba46bb  \n",
            "   creating: headfirst-git-samples/chapter02/80s-diner-step-4/.git/objects/a2/\n",
            " extracting: headfirst-git-samples/chapter02/80s-diner-step-4/.git/objects/a2/f84e5cb18735ca43ea9bfe211f40049dcbc81c  \n",
            "   creating: headfirst-git-samples/chapter02/80s-diner-step-4/.git/objects/bd/\n",
            " extracting: headfirst-git-samples/chapter02/80s-diner-step-4/.git/objects/bd/eea6ffad008de2a564b932cf4c89ac92f9b051  \n",
            "   creating: headfirst-git-samples/chapter02/80s-diner-step-4/.git/objects/20/\n",
            " extracting: headfirst-git-samples/chapter02/80s-diner-step-4/.git/objects/20/9c9e674ce103ccf0b38e17cf3d17906949314f  \n",
            "   creating: headfirst-git-samples/chapter02/80s-diner-step-4/.git/objects/pack/\n",
            "   creating: headfirst-git-samples/chapter02/80s-diner-step-4/.git/objects/info/\n",
            "   creating: headfirst-git-samples/chapter02/80s-diner-step-4/.git/objects/62/\n",
            " extracting: headfirst-git-samples/chapter02/80s-diner-step-4/.git/objects/62/c0f7fdee0ecb90ef4f34068c52f0b077838c93  \n",
            "   creating: headfirst-git-samples/chapter02/80s-diner-step-4/.git/objects/06/\n",
            " extracting: headfirst-git-samples/chapter02/80s-diner-step-4/.git/objects/06/4703be08d0eb9ed2646e67839ee563b63de2ff  \n",
            " extracting: headfirst-git-samples/chapter02/80s-diner-step-4/.git/objects/06/f08b89b583d1c001a04fea95a074e3226b24e7  \n",
            "   creating: headfirst-git-samples/chapter02/80s-diner-step-4/.git/objects/97/\n",
            " extracting: headfirst-git-samples/chapter02/80s-diner-step-4/.git/objects/97/cfcf187eccc8a1eb7861264f3198320b3f7bab  \n",
            "   creating: headfirst-git-samples/chapter02/80s-diner-step-4/.git/objects/ef/\n",
            " extracting: headfirst-git-samples/chapter02/80s-diner-step-4/.git/objects/ef/36cc70124cfd54a942a972efd557691e15cc04  \n",
            "   creating: headfirst-git-samples/chapter02/80s-diner-step-4/.git/objects/ea/\n",
            " extracting: headfirst-git-samples/chapter02/80s-diner-step-4/.git/objects/ea/6b05ef4c9ef211080a842a7729c51d89716ac8  \n",
            "   creating: headfirst-git-samples/chapter02/80s-diner-step-4/.git/objects/24/\n",
            " extracting: headfirst-git-samples/chapter02/80s-diner-step-4/.git/objects/24/5482d33cfe186360c0f3b822d5a31ef0b405c5  \n",
            "   creating: headfirst-git-samples/chapter02/80s-diner-step-4/.git/objects/4f/\n",
            " extracting: headfirst-git-samples/chapter02/80s-diner-step-4/.git/objects/4f/41f1fda4fb0adf9a556815716a64929f884225  \n",
            " extracting: headfirst-git-samples/chapter02/80s-diner-step-4/.git/HEAD  \n",
            "   creating: headfirst-git-samples/chapter02/80s-diner-step-4/.git/info/\n",
            "  inflating: headfirst-git-samples/chapter02/80s-diner-step-4/.git/info/exclude  \n",
            "   creating: headfirst-git-samples/chapter02/80s-diner-step-4/.git/logs/\n",
            "  inflating: headfirst-git-samples/chapter02/80s-diner-step-4/.git/logs/HEAD  \n",
            "   creating: headfirst-git-samples/chapter02/80s-diner-step-4/.git/logs/refs/\n",
            "   creating: headfirst-git-samples/chapter02/80s-diner-step-4/.git/logs/refs/heads/\n",
            "  inflating: headfirst-git-samples/chapter02/80s-diner-step-4/.git/logs/refs/heads/add-thurs-menu  \n",
            "  inflating: headfirst-git-samples/chapter02/80s-diner-step-4/.git/logs/refs/heads/add-fall-menu  \n",
            "  inflating: headfirst-git-samples/chapter02/80s-diner-step-4/.git/logs/refs/heads/master  \n",
            "  inflating: headfirst-git-samples/chapter02/80s-diner-step-4/.git/description  \n",
            "   creating: headfirst-git-samples/chapter02/80s-diner-step-4/.git/hooks/\n",
            "  inflating: headfirst-git-samples/chapter02/80s-diner-step-4/.git/hooks/commit-msg.sample  \n",
            "  inflating: headfirst-git-samples/chapter02/80s-diner-step-4/.git/hooks/pre-rebase.sample  \n",
            "  inflating: headfirst-git-samples/chapter02/80s-diner-step-4/.git/hooks/pre-commit.sample  \n",
            "  inflating: headfirst-git-samples/chapter02/80s-diner-step-4/.git/hooks/applypatch-msg.sample  \n",
            "  inflating: headfirst-git-samples/chapter02/80s-diner-step-4/.git/hooks/fsmonitor-watchman.sample  \n",
            "  inflating: headfirst-git-samples/chapter02/80s-diner-step-4/.git/hooks/pre-receive.sample  \n",
            "  inflating: headfirst-git-samples/chapter02/80s-diner-step-4/.git/hooks/prepare-commit-msg.sample  \n",
            "  inflating: headfirst-git-samples/chapter02/80s-diner-step-4/.git/hooks/post-update.sample  \n",
            "  inflating: headfirst-git-samples/chapter02/80s-diner-step-4/.git/hooks/pre-merge-commit.sample  \n",
            "  inflating: headfirst-git-samples/chapter02/80s-diner-step-4/.git/hooks/pre-applypatch.sample  \n",
            "  inflating: headfirst-git-samples/chapter02/80s-diner-step-4/.git/hooks/pre-push.sample  \n",
            "  inflating: headfirst-git-samples/chapter02/80s-diner-step-4/.git/hooks/update.sample  \n",
            "  inflating: headfirst-git-samples/chapter02/80s-diner-step-4/.git/hooks/push-to-checkout.sample  \n",
            "   creating: headfirst-git-samples/chapter02/80s-diner-step-4/.git/refs/\n",
            "   creating: headfirst-git-samples/chapter02/80s-diner-step-4/.git/refs/heads/\n",
            " extracting: headfirst-git-samples/chapter02/80s-diner-step-4/.git/refs/heads/add-thurs-menu  \n",
            " extracting: headfirst-git-samples/chapter02/80s-diner-step-4/.git/refs/heads/add-fall-menu  \n",
            " extracting: headfirst-git-samples/chapter02/80s-diner-step-4/.git/refs/heads/master  \n",
            "   creating: headfirst-git-samples/chapter02/80s-diner-step-4/.git/refs/tags/\n",
            "  inflating: headfirst-git-samples/chapter02/80s-diner-step-4/.git/index  \n",
            " extracting: headfirst-git-samples/chapter02/80s-diner-step-4/.git/COMMIT_EDITMSG  \n",
            "   creating: headfirst-git-samples/chapter02/80s-diner-step-3/\n",
            "  inflating: headfirst-git-samples/chapter02/80s-diner-step-3/menu.md  \n",
            "  inflating: headfirst-git-samples/chapter02/80s-diner-step-3/fall-menu.md  \n",
            "   creating: headfirst-git-samples/chapter02/80s-diner-step-3/.git/\n",
            "  inflating: headfirst-git-samples/chapter02/80s-diner-step-3/.git/config  \n",
            "   creating: headfirst-git-samples/chapter02/80s-diner-step-3/.git/objects/\n",
            "   creating: headfirst-git-samples/chapter02/80s-diner-step-3/.git/objects/33/\n",
            " extracting: headfirst-git-samples/chapter02/80s-diner-step-3/.git/objects/33/fe840e1ed0d79c002a2b02b2781ed273ba46bb  \n",
            "   creating: headfirst-git-samples/chapter02/80s-diner-step-3/.git/objects/a2/\n",
            " extracting: headfirst-git-samples/chapter02/80s-diner-step-3/.git/objects/a2/f84e5cb18735ca43ea9bfe211f40049dcbc81c  \n",
            "   creating: headfirst-git-samples/chapter02/80s-diner-step-3/.git/objects/20/\n",
            " extracting: headfirst-git-samples/chapter02/80s-diner-step-3/.git/objects/20/9c9e674ce103ccf0b38e17cf3d17906949314f  \n",
            "   creating: headfirst-git-samples/chapter02/80s-diner-step-3/.git/objects/pack/\n",
            "   creating: headfirst-git-samples/chapter02/80s-diner-step-3/.git/objects/info/\n",
            "   creating: headfirst-git-samples/chapter02/80s-diner-step-3/.git/objects/62/\n",
            " extracting: headfirst-git-samples/chapter02/80s-diner-step-3/.git/objects/62/c0f7fdee0ecb90ef4f34068c52f0b077838c93  \n",
            "   creating: headfirst-git-samples/chapter02/80s-diner-step-3/.git/objects/06/\n",
            " extracting: headfirst-git-samples/chapter02/80s-diner-step-3/.git/objects/06/f08b89b583d1c001a04fea95a074e3226b24e7  \n",
            "   creating: headfirst-git-samples/chapter02/80s-diner-step-3/.git/objects/ef/\n",
            " extracting: headfirst-git-samples/chapter02/80s-diner-step-3/.git/objects/ef/36cc70124cfd54a942a972efd557691e15cc04  \n",
            "   creating: headfirst-git-samples/chapter02/80s-diner-step-3/.git/objects/ea/\n",
            " extracting: headfirst-git-samples/chapter02/80s-diner-step-3/.git/objects/ea/6b05ef4c9ef211080a842a7729c51d89716ac8  \n",
            "   creating: headfirst-git-samples/chapter02/80s-diner-step-3/.git/objects/24/\n",
            " extracting: headfirst-git-samples/chapter02/80s-diner-step-3/.git/objects/24/5482d33cfe186360c0f3b822d5a31ef0b405c5  \n",
            "   creating: headfirst-git-samples/chapter02/80s-diner-step-3/.git/objects/4f/\n",
            " extracting: headfirst-git-samples/chapter02/80s-diner-step-3/.git/objects/4f/41f1fda4fb0adf9a556815716a64929f884225  \n",
            " extracting: headfirst-git-samples/chapter02/80s-diner-step-3/.git/HEAD  \n",
            "   creating: headfirst-git-samples/chapter02/80s-diner-step-3/.git/info/\n",
            "  inflating: headfirst-git-samples/chapter02/80s-diner-step-3/.git/info/exclude  \n",
            "   creating: headfirst-git-samples/chapter02/80s-diner-step-3/.git/logs/\n",
            "  inflating: headfirst-git-samples/chapter02/80s-diner-step-3/.git/logs/HEAD  \n",
            "   creating: headfirst-git-samples/chapter02/80s-diner-step-3/.git/logs/refs/\n",
            "   creating: headfirst-git-samples/chapter02/80s-diner-step-3/.git/logs/refs/heads/\n",
            "  inflating: headfirst-git-samples/chapter02/80s-diner-step-3/.git/logs/refs/heads/add-fall-menu  \n",
            "  inflating: headfirst-git-samples/chapter02/80s-diner-step-3/.git/logs/refs/heads/master  \n",
            "  inflating: headfirst-git-samples/chapter02/80s-diner-step-3/.git/description  \n",
            "   creating: headfirst-git-samples/chapter02/80s-diner-step-3/.git/hooks/\n",
            "  inflating: headfirst-git-samples/chapter02/80s-diner-step-3/.git/hooks/commit-msg.sample  \n",
            "  inflating: headfirst-git-samples/chapter02/80s-diner-step-3/.git/hooks/pre-rebase.sample  \n",
            "  inflating: headfirst-git-samples/chapter02/80s-diner-step-3/.git/hooks/pre-commit.sample  \n",
            "  inflating: headfirst-git-samples/chapter02/80s-diner-step-3/.git/hooks/applypatch-msg.sample  \n",
            "  inflating: headfirst-git-samples/chapter02/80s-diner-step-3/.git/hooks/fsmonitor-watchman.sample  \n",
            "  inflating: headfirst-git-samples/chapter02/80s-diner-step-3/.git/hooks/pre-receive.sample  \n",
            "  inflating: headfirst-git-samples/chapter02/80s-diner-step-3/.git/hooks/prepare-commit-msg.sample  \n",
            "  inflating: headfirst-git-samples/chapter02/80s-diner-step-3/.git/hooks/post-update.sample  \n",
            "  inflating: headfirst-git-samples/chapter02/80s-diner-step-3/.git/hooks/pre-merge-commit.sample  \n",
            "  inflating: headfirst-git-samples/chapter02/80s-diner-step-3/.git/hooks/pre-applypatch.sample  \n",
            "  inflating: headfirst-git-samples/chapter02/80s-diner-step-3/.git/hooks/pre-push.sample  \n",
            "  inflating: headfirst-git-samples/chapter02/80s-diner-step-3/.git/hooks/update.sample  \n",
            "  inflating: headfirst-git-samples/chapter02/80s-diner-step-3/.git/hooks/push-to-checkout.sample  \n",
            "   creating: headfirst-git-samples/chapter02/80s-diner-step-3/.git/refs/\n",
            "   creating: headfirst-git-samples/chapter02/80s-diner-step-3/.git/refs/heads/\n",
            " extracting: headfirst-git-samples/chapter02/80s-diner-step-3/.git/refs/heads/add-fall-menu  \n",
            " extracting: headfirst-git-samples/chapter02/80s-diner-step-3/.git/refs/heads/master  \n",
            "   creating: headfirst-git-samples/chapter02/80s-diner-step-3/.git/refs/tags/\n",
            "  inflating: headfirst-git-samples/chapter02/80s-diner-step-3/.git/index  \n",
            " extracting: headfirst-git-samples/chapter02/80s-diner-step-3/.git/COMMIT_EDITMSG  \n",
            " extracting: headfirst-git-samples/chapter02/tribute-1.md  \n",
            "  inflating: headfirst-git-samples/chapter02/fall-menu.md  \n",
            "  inflating: headfirst-git-samples/chapter02/tribute-2.md  \n",
            "  inflating: headfirst-git-samples/chapter02/tribute-3.md  \n",
            "   creating: headfirst-git-samples/chapter02/80s-diner-step-6/\n",
            "  inflating: headfirst-git-samples/chapter02/80s-diner-step-6/thursdays-menu.md  \n",
            "  inflating: headfirst-git-samples/chapter02/80s-diner-step-6/menu.md  \n",
            "  inflating: headfirst-git-samples/chapter02/80s-diner-step-6/fall-menu.md  \n",
            "   creating: headfirst-git-samples/chapter02/80s-diner-step-6/.git/\n",
            " extracting: headfirst-git-samples/chapter02/80s-diner-step-6/.git/ORIG_HEAD  \n",
            "  inflating: headfirst-git-samples/chapter02/80s-diner-step-6/.git/config  \n",
            "   creating: headfirst-git-samples/chapter02/80s-diner-step-6/.git/objects/\n",
            "   creating: headfirst-git-samples/chapter02/80s-diner-step-6/.git/objects/33/\n",
            " extracting: headfirst-git-samples/chapter02/80s-diner-step-6/.git/objects/33/fe840e1ed0d79c002a2b02b2781ed273ba46bb  \n",
            "   creating: headfirst-git-samples/chapter02/80s-diner-step-6/.git/objects/a2/\n",
            " extracting: headfirst-git-samples/chapter02/80s-diner-step-6/.git/objects/a2/f84e5cb18735ca43ea9bfe211f40049dcbc81c  \n",
            "   creating: headfirst-git-samples/chapter02/80s-diner-step-6/.git/objects/bd/\n",
            " extracting: headfirst-git-samples/chapter02/80s-diner-step-6/.git/objects/bd/eea6ffad008de2a564b932cf4c89ac92f9b051  \n",
            "   creating: headfirst-git-samples/chapter02/80s-diner-step-6/.git/objects/fe/\n",
            " extracting: headfirst-git-samples/chapter02/80s-diner-step-6/.git/objects/fe/548be5d0c9ca4ad0792851d7a173d9757137ad  \n",
            "   creating: headfirst-git-samples/chapter02/80s-diner-step-6/.git/objects/20/\n",
            " extracting: headfirst-git-samples/chapter02/80s-diner-step-6/.git/objects/20/9c9e674ce103ccf0b38e17cf3d17906949314f  \n",
            "   creating: headfirst-git-samples/chapter02/80s-diner-step-6/.git/objects/pack/\n",
            "   creating: headfirst-git-samples/chapter02/80s-diner-step-6/.git/objects/info/\n",
            "   creating: headfirst-git-samples/chapter02/80s-diner-step-6/.git/objects/62/\n",
            " extracting: headfirst-git-samples/chapter02/80s-diner-step-6/.git/objects/62/c0f7fdee0ecb90ef4f34068c52f0b077838c93  \n",
            "   creating: headfirst-git-samples/chapter02/80s-diner-step-6/.git/objects/06/\n",
            " extracting: headfirst-git-samples/chapter02/80s-diner-step-6/.git/objects/06/4703be08d0eb9ed2646e67839ee563b63de2ff  \n",
            " extracting: headfirst-git-samples/chapter02/80s-diner-step-6/.git/objects/06/f08b89b583d1c001a04fea95a074e3226b24e7  \n",
            "   creating: headfirst-git-samples/chapter02/80s-diner-step-6/.git/objects/97/\n",
            " extracting: headfirst-git-samples/chapter02/80s-diner-step-6/.git/objects/97/cfcf187eccc8a1eb7861264f3198320b3f7bab  \n",
            "   creating: headfirst-git-samples/chapter02/80s-diner-step-6/.git/objects/ef/\n",
            " extracting: headfirst-git-samples/chapter02/80s-diner-step-6/.git/objects/ef/36cc70124cfd54a942a972efd557691e15cc04  \n",
            "   creating: headfirst-git-samples/chapter02/80s-diner-step-6/.git/objects/ea/\n",
            " extracting: headfirst-git-samples/chapter02/80s-diner-step-6/.git/objects/ea/6b05ef4c9ef211080a842a7729c51d89716ac8  \n",
            "   creating: headfirst-git-samples/chapter02/80s-diner-step-6/.git/objects/46/\n",
            " extracting: headfirst-git-samples/chapter02/80s-diner-step-6/.git/objects/46/98158fafdd9e92c78e9cbfaf8978c189edbbdf  \n",
            "   creating: headfirst-git-samples/chapter02/80s-diner-step-6/.git/objects/24/\n",
            " extracting: headfirst-git-samples/chapter02/80s-diner-step-6/.git/objects/24/5482d33cfe186360c0f3b822d5a31ef0b405c5  \n",
            "   creating: headfirst-git-samples/chapter02/80s-diner-step-6/.git/objects/4f/\n",
            " extracting: headfirst-git-samples/chapter02/80s-diner-step-6/.git/objects/4f/41f1fda4fb0adf9a556815716a64929f884225  \n",
            " extracting: headfirst-git-samples/chapter02/80s-diner-step-6/.git/HEAD  \n",
            "   creating: headfirst-git-samples/chapter02/80s-diner-step-6/.git/info/\n",
            "  inflating: headfirst-git-samples/chapter02/80s-diner-step-6/.git/info/exclude  \n",
            "   creating: headfirst-git-samples/chapter02/80s-diner-step-6/.git/logs/\n",
            "  inflating: headfirst-git-samples/chapter02/80s-diner-step-6/.git/logs/HEAD  \n",
            "   creating: headfirst-git-samples/chapter02/80s-diner-step-6/.git/logs/refs/\n",
            "   creating: headfirst-git-samples/chapter02/80s-diner-step-6/.git/logs/refs/heads/\n",
            "  inflating: headfirst-git-samples/chapter02/80s-diner-step-6/.git/logs/refs/heads/add-thurs-menu  \n",
            "  inflating: headfirst-git-samples/chapter02/80s-diner-step-6/.git/logs/refs/heads/add-fall-menu  \n",
            "  inflating: headfirst-git-samples/chapter02/80s-diner-step-6/.git/logs/refs/heads/master  \n",
            "  inflating: headfirst-git-samples/chapter02/80s-diner-step-6/.git/description  \n",
            "   creating: headfirst-git-samples/chapter02/80s-diner-step-6/.git/hooks/\n",
            "  inflating: headfirst-git-samples/chapter02/80s-diner-step-6/.git/hooks/commit-msg.sample  \n",
            "  inflating: headfirst-git-samples/chapter02/80s-diner-step-6/.git/hooks/pre-rebase.sample  \n",
            "  inflating: headfirst-git-samples/chapter02/80s-diner-step-6/.git/hooks/pre-commit.sample  \n",
            "  inflating: headfirst-git-samples/chapter02/80s-diner-step-6/.git/hooks/applypatch-msg.sample  \n",
            "  inflating: headfirst-git-samples/chapter02/80s-diner-step-6/.git/hooks/fsmonitor-watchman.sample  \n",
            "  inflating: headfirst-git-samples/chapter02/80s-diner-step-6/.git/hooks/pre-receive.sample  \n",
            "  inflating: headfirst-git-samples/chapter02/80s-diner-step-6/.git/hooks/prepare-commit-msg.sample  \n",
            "  inflating: headfirst-git-samples/chapter02/80s-diner-step-6/.git/hooks/post-update.sample  \n",
            "  inflating: headfirst-git-samples/chapter02/80s-diner-step-6/.git/hooks/pre-merge-commit.sample  \n",
            "  inflating: headfirst-git-samples/chapter02/80s-diner-step-6/.git/hooks/pre-applypatch.sample  \n",
            "  inflating: headfirst-git-samples/chapter02/80s-diner-step-6/.git/hooks/pre-push.sample  \n",
            "  inflating: headfirst-git-samples/chapter02/80s-diner-step-6/.git/hooks/update.sample  \n",
            "  inflating: headfirst-git-samples/chapter02/80s-diner-step-6/.git/hooks/push-to-checkout.sample  \n",
            "   creating: headfirst-git-samples/chapter02/80s-diner-step-6/.git/refs/\n",
            "   creating: headfirst-git-samples/chapter02/80s-diner-step-6/.git/refs/heads/\n",
            " extracting: headfirst-git-samples/chapter02/80s-diner-step-6/.git/refs/heads/add-thurs-menu  \n",
            " extracting: headfirst-git-samples/chapter02/80s-diner-step-6/.git/refs/heads/add-fall-menu  \n",
            " extracting: headfirst-git-samples/chapter02/80s-diner-step-6/.git/refs/heads/master  \n",
            "   creating: headfirst-git-samples/chapter02/80s-diner-step-6/.git/refs/tags/\n",
            "  inflating: headfirst-git-samples/chapter02/80s-diner-step-6/.git/index  \n",
            " extracting: headfirst-git-samples/chapter02/80s-diner-step-6/.git/COMMIT_EDITMSG  \n",
            "   creating: headfirst-git-samples/chapter02/80s-diner-step-1/\n",
            "  inflating: headfirst-git-samples/chapter02/80s-diner-step-1/menu.md  \n",
            "   creating: headfirst-git-samples/chapter02/80s-diner-step-1/.git/\n",
            "  inflating: headfirst-git-samples/chapter02/80s-diner-step-1/.git/config  \n",
            "   creating: headfirst-git-samples/chapter02/80s-diner-step-1/.git/objects/\n",
            "   creating: headfirst-git-samples/chapter02/80s-diner-step-1/.git/objects/a2/\n",
            " extracting: headfirst-git-samples/chapter02/80s-diner-step-1/.git/objects/a2/f84e5cb18735ca43ea9bfe211f40049dcbc81c  \n",
            "   creating: headfirst-git-samples/chapter02/80s-diner-step-1/.git/objects/pack/\n",
            "   creating: headfirst-git-samples/chapter02/80s-diner-step-1/.git/objects/info/\n",
            "   creating: headfirst-git-samples/chapter02/80s-diner-step-1/.git/objects/ef/\n",
            " extracting: headfirst-git-samples/chapter02/80s-diner-step-1/.git/objects/ef/36cc70124cfd54a942a972efd557691e15cc04  \n",
            "   creating: headfirst-git-samples/chapter02/80s-diner-step-1/.git/objects/ea/\n",
            " extracting: headfirst-git-samples/chapter02/80s-diner-step-1/.git/objects/ea/6b05ef4c9ef211080a842a7729c51d89716ac8  \n",
            " extracting: headfirst-git-samples/chapter02/80s-diner-step-1/.git/HEAD  \n",
            "   creating: headfirst-git-samples/chapter02/80s-diner-step-1/.git/info/\n",
            "  inflating: headfirst-git-samples/chapter02/80s-diner-step-1/.git/info/exclude  \n",
            "   creating: headfirst-git-samples/chapter02/80s-diner-step-1/.git/logs/\n",
            "  inflating: headfirst-git-samples/chapter02/80s-diner-step-1/.git/logs/HEAD  \n",
            "   creating: headfirst-git-samples/chapter02/80s-diner-step-1/.git/logs/refs/\n",
            "   creating: headfirst-git-samples/chapter02/80s-diner-step-1/.git/logs/refs/heads/\n",
            "  inflating: headfirst-git-samples/chapter02/80s-diner-step-1/.git/logs/refs/heads/master  \n",
            "  inflating: headfirst-git-samples/chapter02/80s-diner-step-1/.git/description  \n",
            "   creating: headfirst-git-samples/chapter02/80s-diner-step-1/.git/hooks/\n",
            "  inflating: headfirst-git-samples/chapter02/80s-diner-step-1/.git/hooks/commit-msg.sample  \n",
            "  inflating: headfirst-git-samples/chapter02/80s-diner-step-1/.git/hooks/pre-rebase.sample  \n",
            "  inflating: headfirst-git-samples/chapter02/80s-diner-step-1/.git/hooks/pre-commit.sample  \n",
            "  inflating: headfirst-git-samples/chapter02/80s-diner-step-1/.git/hooks/applypatch-msg.sample  \n",
            "  inflating: headfirst-git-samples/chapter02/80s-diner-step-1/.git/hooks/fsmonitor-watchman.sample  \n",
            "  inflating: headfirst-git-samples/chapter02/80s-diner-step-1/.git/hooks/pre-receive.sample  \n",
            "  inflating: headfirst-git-samples/chapter02/80s-diner-step-1/.git/hooks/prepare-commit-msg.sample  \n",
            "  inflating: headfirst-git-samples/chapter02/80s-diner-step-1/.git/hooks/post-update.sample  \n",
            "  inflating: headfirst-git-samples/chapter02/80s-diner-step-1/.git/hooks/pre-merge-commit.sample  \n",
            "  inflating: headfirst-git-samples/chapter02/80s-diner-step-1/.git/hooks/pre-applypatch.sample  \n",
            "  inflating: headfirst-git-samples/chapter02/80s-diner-step-1/.git/hooks/pre-push.sample  \n",
            "  inflating: headfirst-git-samples/chapter02/80s-diner-step-1/.git/hooks/update.sample  \n",
            "  inflating: headfirst-git-samples/chapter02/80s-diner-step-1/.git/hooks/push-to-checkout.sample  \n",
            "   creating: headfirst-git-samples/chapter02/80s-diner-step-1/.git/refs/\n",
            "   creating: headfirst-git-samples/chapter02/80s-diner-step-1/.git/refs/heads/\n",
            " extracting: headfirst-git-samples/chapter02/80s-diner-step-1/.git/refs/heads/master  \n",
            "   creating: headfirst-git-samples/chapter02/80s-diner-step-1/.git/refs/tags/\n",
            "  inflating: headfirst-git-samples/chapter02/80s-diner-step-1/.git/index  \n",
            " extracting: headfirst-git-samples/chapter02/80s-diner-step-1/.git/COMMIT_EDITMSG  \n",
            "   creating: headfirst-git-samples/chapter03/\n",
            "   creating: headfirst-git-samples/chapter03/resume/\n",
            "  inflating: headfirst-git-samples/chapter03/resume/resume.md  \n",
            "   creating: headfirst-git-samples/chapter03/resume/.git/\n",
            "  inflating: headfirst-git-samples/chapter03/resume/.git/config  \n",
            "   creating: headfirst-git-samples/chapter03/resume/.git/objects/\n",
            "   creating: headfirst-git-samples/chapter03/resume/.git/objects/35/\n",
            " extracting: headfirst-git-samples/chapter03/resume/.git/objects/35/e874bd685d9a293cf18683f546714adfb36107  \n",
            "   creating: headfirst-git-samples/chapter03/resume/.git/objects/c9/\n",
            " extracting: headfirst-git-samples/chapter03/resume/.git/objects/c9/6d0920be2fe72b7bbd742548d2d93fbaf0a1ff  \n",
            "   creating: headfirst-git-samples/chapter03/resume/.git/objects/pack/\n",
            "   creating: headfirst-git-samples/chapter03/resume/.git/objects/42/\n",
            " extracting: headfirst-git-samples/chapter03/resume/.git/objects/42/89c38127d4004aa6f3f1af4b31e89e3f35cc2c  \n",
            "   creating: headfirst-git-samples/chapter03/resume/.git/objects/73/\n",
            " extracting: headfirst-git-samples/chapter03/resume/.git/objects/73/d57b6a0d6e462401d76497d5e59b122c858498  \n",
            "   creating: headfirst-git-samples/chapter03/resume/.git/objects/19/\n",
            " extracting: headfirst-git-samples/chapter03/resume/.git/objects/19/30f11d18b3e1a1c497dd153932fee4dd2b64c5  \n",
            " extracting: headfirst-git-samples/chapter03/resume/.git/objects/19/3853c6249df4af771b25e1acab8beac0ef1fc3  \n",
            "   creating: headfirst-git-samples/chapter03/resume/.git/objects/88/\n",
            " extracting: headfirst-git-samples/chapter03/resume/.git/objects/88/4224626a66cb5be6de9c0f5e6b7a999b30c132  \n",
            "   creating: headfirst-git-samples/chapter03/resume/.git/objects/38/\n",
            " extracting: headfirst-git-samples/chapter03/resume/.git/objects/38/a7176232c73366847ac647a94617d1c49c6c9f  \n",
            "   creating: headfirst-git-samples/chapter03/resume/.git/objects/info/\n",
            "   creating: headfirst-git-samples/chapter03/resume/.git/objects/30/\n",
            " extracting: headfirst-git-samples/chapter03/resume/.git/objects/30/44fa87740a7dfae9146eee9044b2b34ddd6293  \n",
            "   creating: headfirst-git-samples/chapter03/resume/.git/objects/90/\n",
            " extracting: headfirst-git-samples/chapter03/resume/.git/objects/90/a3260e9122cdbd0db3c9f1a2d03248cff1a817  \n",
            "   creating: headfirst-git-samples/chapter03/resume/.git/objects/e7/\n",
            " extracting: headfirst-git-samples/chapter03/resume/.git/objects/e7/dd8c4c502db1e301a30b09bf77e88e8a4dc28e  \n",
            "   creating: headfirst-git-samples/chapter03/resume/.git/objects/77/\n",
            " extracting: headfirst-git-samples/chapter03/resume/.git/objects/77/ef6f6e55276ce7e8f4cbc49b5ee3326565c3d1  \n",
            " extracting: headfirst-git-samples/chapter03/resume/.git/HEAD  \n",
            "   creating: headfirst-git-samples/chapter03/resume/.git/info/\n",
            "  inflating: headfirst-git-samples/chapter03/resume/.git/info/exclude  \n",
            "   creating: headfirst-git-samples/chapter03/resume/.git/logs/\n",
            "  inflating: headfirst-git-samples/chapter03/resume/.git/logs/HEAD  \n",
            "   creating: headfirst-git-samples/chapter03/resume/.git/logs/refs/\n",
            "   creating: headfirst-git-samples/chapter03/resume/.git/logs/refs/heads/\n",
            "  inflating: headfirst-git-samples/chapter03/resume/.git/logs/refs/heads/add-skills  \n",
            "  inflating: headfirst-git-samples/chapter03/resume/.git/logs/refs/heads/edit-per-scotty  \n",
            "  inflating: headfirst-git-samples/chapter03/resume/.git/logs/refs/heads/master  \n",
            "  inflating: headfirst-git-samples/chapter03/resume/.git/description  \n",
            "   creating: headfirst-git-samples/chapter03/resume/.git/hooks/\n",
            "  inflating: headfirst-git-samples/chapter03/resume/.git/hooks/commit-msg.sample  \n",
            "  inflating: headfirst-git-samples/chapter03/resume/.git/hooks/pre-rebase.sample  \n",
            "  inflating: headfirst-git-samples/chapter03/resume/.git/hooks/pre-commit.sample  \n",
            "  inflating: headfirst-git-samples/chapter03/resume/.git/hooks/applypatch-msg.sample  \n",
            "  inflating: headfirst-git-samples/chapter03/resume/.git/hooks/fsmonitor-watchman.sample  \n",
            "  inflating: headfirst-git-samples/chapter03/resume/.git/hooks/pre-receive.sample  \n",
            "  inflating: headfirst-git-samples/chapter03/resume/.git/hooks/prepare-commit-msg.sample  \n",
            "  inflating: headfirst-git-samples/chapter03/resume/.git/hooks/post-update.sample  \n",
            "  inflating: headfirst-git-samples/chapter03/resume/.git/hooks/pre-merge-commit.sample  \n",
            "  inflating: headfirst-git-samples/chapter03/resume/.git/hooks/pre-applypatch.sample  \n",
            "  inflating: headfirst-git-samples/chapter03/resume/.git/hooks/pre-push.sample  \n",
            "  inflating: headfirst-git-samples/chapter03/resume/.git/hooks/update.sample  \n",
            "  inflating: headfirst-git-samples/chapter03/resume/.git/hooks/push-to-checkout.sample  \n",
            "   creating: headfirst-git-samples/chapter03/resume/.git/refs/\n",
            "   creating: headfirst-git-samples/chapter03/resume/.git/refs/heads/\n",
            " extracting: headfirst-git-samples/chapter03/resume/.git/refs/heads/add-skills  \n",
            " extracting: headfirst-git-samples/chapter03/resume/.git/refs/heads/edit-per-scotty  \n",
            " extracting: headfirst-git-samples/chapter03/resume/.git/refs/heads/master  \n",
            "   creating: headfirst-git-samples/chapter03/resume/.git/refs/tags/\n",
            "  inflating: headfirst-git-samples/chapter03/resume/.git/index  \n",
            " extracting: headfirst-git-samples/chapter03/resume/.git/COMMIT_EDITMSG  \n",
            "  inflating: headfirst-git-samples/chapter03/resume.md  \n",
            "   creating: headfirst-git-samples/chapter03/resume-final/\n",
            "  inflating: headfirst-git-samples/chapter03/resume-final/resume.md  \n",
            "   creating: headfirst-git-samples/chapter03/resume-final/.git/\n",
            "  inflating: headfirst-git-samples/chapter03/resume-final/.git/config  \n",
            "   creating: headfirst-git-samples/chapter03/resume-final/.git/objects/\n",
            "   creating: headfirst-git-samples/chapter03/resume-final/.git/objects/35/\n",
            " extracting: headfirst-git-samples/chapter03/resume-final/.git/objects/35/e874bd685d9a293cf18683f546714adfb36107  \n",
            "   creating: headfirst-git-samples/chapter03/resume-final/.git/objects/b3/\n",
            " extracting: headfirst-git-samples/chapter03/resume-final/.git/objects/b3/94a0782f04590e32ab690c543b62fbdffd5444  \n",
            "   creating: headfirst-git-samples/chapter03/resume-final/.git/objects/c9/\n",
            " extracting: headfirst-git-samples/chapter03/resume-final/.git/objects/c9/6d0920be2fe72b7bbd742548d2d93fbaf0a1ff  \n",
            "   creating: headfirst-git-samples/chapter03/resume-final/.git/objects/pack/\n",
            "   creating: headfirst-git-samples/chapter03/resume-final/.git/objects/42/\n",
            " extracting: headfirst-git-samples/chapter03/resume-final/.git/objects/42/89c38127d4004aa6f3f1af4b31e89e3f35cc2c  \n",
            "   creating: headfirst-git-samples/chapter03/resume-final/.git/objects/73/\n",
            " extracting: headfirst-git-samples/chapter03/resume-final/.git/objects/73/d57b6a0d6e462401d76497d5e59b122c858498  \n",
            "   creating: headfirst-git-samples/chapter03/resume-final/.git/objects/19/\n",
            " extracting: headfirst-git-samples/chapter03/resume-final/.git/objects/19/30f11d18b3e1a1c497dd153932fee4dd2b64c5  \n",
            " extracting: headfirst-git-samples/chapter03/resume-final/.git/objects/19/3853c6249df4af771b25e1acab8beac0ef1fc3  \n",
            "   creating: headfirst-git-samples/chapter03/resume-final/.git/objects/88/\n",
            " extracting: headfirst-git-samples/chapter03/resume-final/.git/objects/88/4224626a66cb5be6de9c0f5e6b7a999b30c132  \n",
            "   creating: headfirst-git-samples/chapter03/resume-final/.git/objects/38/\n",
            " extracting: headfirst-git-samples/chapter03/resume-final/.git/objects/38/a7176232c73366847ac647a94617d1c49c6c9f  \n",
            "   creating: headfirst-git-samples/chapter03/resume-final/.git/objects/info/\n",
            "   creating: headfirst-git-samples/chapter03/resume-final/.git/objects/30/\n",
            " extracting: headfirst-git-samples/chapter03/resume-final/.git/objects/30/44fa87740a7dfae9146eee9044b2b34ddd6293  \n",
            "   creating: headfirst-git-samples/chapter03/resume-final/.git/objects/90/\n",
            " extracting: headfirst-git-samples/chapter03/resume-final/.git/objects/90/a3260e9122cdbd0db3c9f1a2d03248cff1a817  \n",
            "   creating: headfirst-git-samples/chapter03/resume-final/.git/objects/b1/\n",
            " extracting: headfirst-git-samples/chapter03/resume-final/.git/objects/b1/79a00e2e543ff4cbdf97cf2023bd1d4fea2f5b  \n",
            "   creating: headfirst-git-samples/chapter03/resume-final/.git/objects/e7/\n",
            " extracting: headfirst-git-samples/chapter03/resume-final/.git/objects/e7/dd8c4c502db1e301a30b09bf77e88e8a4dc28e  \n",
            "   creating: headfirst-git-samples/chapter03/resume-final/.git/objects/77/\n",
            " extracting: headfirst-git-samples/chapter03/resume-final/.git/objects/77/ef6f6e55276ce7e8f4cbc49b5ee3326565c3d1  \n",
            "   creating: headfirst-git-samples/chapter03/resume-final/.git/objects/84/\n",
            " extracting: headfirst-git-samples/chapter03/resume-final/.git/objects/84/6c398f5e9f1f380a8800b79d7acd032b7f5958  \n",
            " extracting: headfirst-git-samples/chapter03/resume-final/.git/HEAD  \n",
            "   creating: headfirst-git-samples/chapter03/resume-final/.git/info/\n",
            "  inflating: headfirst-git-samples/chapter03/resume-final/.git/info/exclude  \n",
            "   creating: headfirst-git-samples/chapter03/resume-final/.git/logs/\n",
            "  inflating: headfirst-git-samples/chapter03/resume-final/.git/logs/HEAD  \n",
            "   creating: headfirst-git-samples/chapter03/resume-final/.git/logs/refs/\n",
            "   creating: headfirst-git-samples/chapter03/resume-final/.git/logs/refs/heads/\n",
            "  inflating: headfirst-git-samples/chapter03/resume-final/.git/logs/refs/heads/add-skills  \n",
            "  inflating: headfirst-git-samples/chapter03/resume-final/.git/logs/refs/heads/edit-per-scotty  \n",
            "  inflating: headfirst-git-samples/chapter03/resume-final/.git/logs/refs/heads/master  \n",
            "  inflating: headfirst-git-samples/chapter03/resume-final/.git/description  \n",
            "   creating: headfirst-git-samples/chapter03/resume-final/.git/hooks/\n",
            "  inflating: headfirst-git-samples/chapter03/resume-final/.git/hooks/commit-msg.sample  \n",
            "  inflating: headfirst-git-samples/chapter03/resume-final/.git/hooks/pre-rebase.sample  \n",
            "  inflating: headfirst-git-samples/chapter03/resume-final/.git/hooks/pre-commit.sample  \n",
            "  inflating: headfirst-git-samples/chapter03/resume-final/.git/hooks/applypatch-msg.sample  \n",
            "  inflating: headfirst-git-samples/chapter03/resume-final/.git/hooks/fsmonitor-watchman.sample  \n",
            "  inflating: headfirst-git-samples/chapter03/resume-final/.git/hooks/pre-receive.sample  \n",
            "  inflating: headfirst-git-samples/chapter03/resume-final/.git/hooks/prepare-commit-msg.sample  \n",
            "  inflating: headfirst-git-samples/chapter03/resume-final/.git/hooks/post-update.sample  \n",
            "  inflating: headfirst-git-samples/chapter03/resume-final/.git/hooks/pre-merge-commit.sample  \n",
            "  inflating: headfirst-git-samples/chapter03/resume-final/.git/hooks/pre-applypatch.sample  \n",
            "  inflating: headfirst-git-samples/chapter03/resume-final/.git/hooks/pre-push.sample  \n",
            "  inflating: headfirst-git-samples/chapter03/resume-final/.git/hooks/update.sample  \n",
            "  inflating: headfirst-git-samples/chapter03/resume-final/.git/hooks/push-to-checkout.sample  \n",
            "   creating: headfirst-git-samples/chapter03/resume-final/.git/refs/\n",
            "   creating: headfirst-git-samples/chapter03/resume-final/.git/refs/heads/\n",
            " extracting: headfirst-git-samples/chapter03/resume-final/.git/refs/heads/add-skills  \n",
            " extracting: headfirst-git-samples/chapter03/resume-final/.git/refs/heads/edit-per-scotty  \n",
            " extracting: headfirst-git-samples/chapter03/resume-final/.git/refs/heads/master  \n",
            "   creating: headfirst-git-samples/chapter03/resume-final/.git/refs/tags/\n",
            "  inflating: headfirst-git-samples/chapter03/resume-final/.git/index  \n",
            " extracting: headfirst-git-samples/chapter03/resume-final/.git/COMMIT_EDITMSG  \n",
            "  inflating: headfirst-git-samples/chapter03/saucy.md  \n",
            "   creating: headfirst-git-samples/chapter03/recipes-final/\n",
            "  inflating: headfirst-git-samples/chapter03/recipes-final/saucy.md  \n",
            "   creating: headfirst-git-samples/chapter03/recipes-final/.git/\n",
            "  inflating: headfirst-git-samples/chapter03/recipes-final/.git/config  \n",
            "   creating: headfirst-git-samples/chapter03/recipes-final/.git/objects/\n",
            "   creating: headfirst-git-samples/chapter03/recipes-final/.git/objects/32/\n",
            " extracting: headfirst-git-samples/chapter03/recipes-final/.git/objects/32/367d76530da8fe77922aa905931ccf1fbd7524  \n",
            "   creating: headfirst-git-samples/chapter03/recipes-final/.git/objects/0b/\n",
            " extracting: headfirst-git-samples/chapter03/recipes-final/.git/objects/0b/77f5b1f5293a95266cabbaea8cb6eca7a405c2  \n",
            "   creating: headfirst-git-samples/chapter03/recipes-final/.git/objects/60/\n",
            " extracting: headfirst-git-samples/chapter03/recipes-final/.git/objects/60/823b62c74379070c5d95c6395d5aa5d7162648  \n",
            "   creating: headfirst-git-samples/chapter03/recipes-final/.git/objects/c7/\n",
            " extracting: headfirst-git-samples/chapter03/recipes-final/.git/objects/c7/aff3f2cf2888491bb6fc8a88f53bccdcec4a97  \n",
            "   creating: headfirst-git-samples/chapter03/recipes-final/.git/objects/20/\n",
            " extracting: headfirst-git-samples/chapter03/recipes-final/.git/objects/20/b7e5af8bc8c11cc216ba18c1e6b03ff0a276d7  \n",
            "   creating: headfirst-git-samples/chapter03/recipes-final/.git/objects/pack/\n",
            "   creating: headfirst-git-samples/chapter03/recipes-final/.git/objects/4c/\n",
            " extracting: headfirst-git-samples/chapter03/recipes-final/.git/objects/4c/ca5a7b3225a88c2df12bd157f5877bc3dded9e  \n",
            "   creating: headfirst-git-samples/chapter03/recipes-final/.git/objects/72/\n",
            " extracting: headfirst-git-samples/chapter03/recipes-final/.git/objects/72/5ed730222c4de63fcd5cac62d3331a659009b2  \n",
            "   creating: headfirst-git-samples/chapter03/recipes-final/.git/objects/00/\n",
            " extracting: headfirst-git-samples/chapter03/recipes-final/.git/objects/00/65b8a0b8d6d4f2efc864c09437f8f5aa0b9773  \n",
            "   creating: headfirst-git-samples/chapter03/recipes-final/.git/objects/5d/\n",
            " extracting: headfirst-git-samples/chapter03/recipes-final/.git/objects/5d/b2b68c4cf2699e89fe1b526a7e4a171d83b2ef  \n",
            "   creating: headfirst-git-samples/chapter03/recipes-final/.git/objects/info/\n",
            "   creating: headfirst-git-samples/chapter03/recipes-final/.git/objects/54/\n",
            " extracting: headfirst-git-samples/chapter03/recipes-final/.git/objects/54/9e0da551c2a6427fb7b281093702cb449261ed  \n",
            "   creating: headfirst-git-samples/chapter03/recipes-final/.git/objects/3f/\n",
            " extracting: headfirst-git-samples/chapter03/recipes-final/.git/objects/3f/421bee9cf235623703d7ad493d4abc1b008778  \n",
            "   creating: headfirst-git-samples/chapter03/recipes-final/.git/objects/37/\n",
            " extracting: headfirst-git-samples/chapter03/recipes-final/.git/objects/37/64dbff998d581d5d22a9ee879bdd3e4ffb907a  \n",
            "   creating: headfirst-git-samples/chapter03/recipes-final/.git/objects/06/\n",
            " extracting: headfirst-git-samples/chapter03/recipes-final/.git/objects/06/b0890d2fb603e9d07f7421a04d7df2ca0346ab  \n",
            "   creating: headfirst-git-samples/chapter03/recipes-final/.git/objects/af/\n",
            " extracting: headfirst-git-samples/chapter03/recipes-final/.git/objects/af/fa4a4ca178ad1d8e8bb6e3b838a6fd2934f121  \n",
            "   creating: headfirst-git-samples/chapter03/recipes-final/.git/objects/ea/\n",
            " extracting: headfirst-git-samples/chapter03/recipes-final/.git/objects/ea/81b3dd1ff5b9567a8481584e32b86b64243980  \n",
            "   creating: headfirst-git-samples/chapter03/recipes-final/.git/objects/f8/\n",
            " extracting: headfirst-git-samples/chapter03/recipes-final/.git/objects/f8/d2bc210502fe26b6b84753bf0ffd7018d19127  \n",
            "   creating: headfirst-git-samples/chapter03/recipes-final/.git/objects/8d/\n",
            " extracting: headfirst-git-samples/chapter03/recipes-final/.git/objects/8d/49c34fbe7655feb3a76fc1510578fb6ab6d0ef  \n",
            " extracting: headfirst-git-samples/chapter03/recipes-final/.git/objects/8d/670e93e297b126fc0466caf37c0033b6c018ab  \n",
            " extracting: headfirst-git-samples/chapter03/recipes-final/.git/HEAD  \n",
            "   creating: headfirst-git-samples/chapter03/recipes-final/.git/info/\n",
            "  inflating: headfirst-git-samples/chapter03/recipes-final/.git/info/exclude  \n",
            "   creating: headfirst-git-samples/chapter03/recipes-final/.git/logs/\n",
            "  inflating: headfirst-git-samples/chapter03/recipes-final/.git/logs/HEAD  \n",
            "   creating: headfirst-git-samples/chapter03/recipes-final/.git/logs/refs/\n",
            "   creating: headfirst-git-samples/chapter03/recipes-final/.git/logs/refs/heads/\n",
            "  inflating: headfirst-git-samples/chapter03/recipes-final/.git/logs/refs/heads/master  \n",
            "  inflating: headfirst-git-samples/chapter03/recipes-final/.git/logs/refs/heads/different-base  \n",
            "  inflating: headfirst-git-samples/chapter03/recipes-final/.git/logs/refs/heads/spicy-version  \n",
            "  inflating: headfirst-git-samples/chapter03/recipes-final/.git/description  \n",
            "   creating: headfirst-git-samples/chapter03/recipes-final/.git/hooks/\n",
            "  inflating: headfirst-git-samples/chapter03/recipes-final/.git/hooks/commit-msg.sample  \n",
            "  inflating: headfirst-git-samples/chapter03/recipes-final/.git/hooks/pre-rebase.sample  \n",
            "  inflating: headfirst-git-samples/chapter03/recipes-final/.git/hooks/pre-commit.sample  \n",
            "  inflating: headfirst-git-samples/chapter03/recipes-final/.git/hooks/applypatch-msg.sample  \n",
            "  inflating: headfirst-git-samples/chapter03/recipes-final/.git/hooks/fsmonitor-watchman.sample  \n",
            "  inflating: headfirst-git-samples/chapter03/recipes-final/.git/hooks/pre-receive.sample  \n",
            "  inflating: headfirst-git-samples/chapter03/recipes-final/.git/hooks/prepare-commit-msg.sample  \n",
            "  inflating: headfirst-git-samples/chapter03/recipes-final/.git/hooks/post-update.sample  \n",
            "  inflating: headfirst-git-samples/chapter03/recipes-final/.git/hooks/pre-merge-commit.sample  \n",
            "  inflating: headfirst-git-samples/chapter03/recipes-final/.git/hooks/pre-applypatch.sample  \n",
            "  inflating: headfirst-git-samples/chapter03/recipes-final/.git/hooks/pre-push.sample  \n",
            "  inflating: headfirst-git-samples/chapter03/recipes-final/.git/hooks/update.sample  \n",
            "  inflating: headfirst-git-samples/chapter03/recipes-final/.git/hooks/push-to-checkout.sample  \n",
            "   creating: headfirst-git-samples/chapter03/recipes-final/.git/refs/\n",
            "   creating: headfirst-git-samples/chapter03/recipes-final/.git/refs/heads/\n",
            " extracting: headfirst-git-samples/chapter03/recipes-final/.git/refs/heads/master  \n",
            " extracting: headfirst-git-samples/chapter03/recipes-final/.git/refs/heads/different-base  \n",
            " extracting: headfirst-git-samples/chapter03/recipes-final/.git/refs/heads/spicy-version  \n",
            "   creating: headfirst-git-samples/chapter03/recipes-final/.git/refs/tags/\n",
            "  inflating: headfirst-git-samples/chapter03/recipes-final/.git/index  \n",
            " extracting: headfirst-git-samples/chapter03/recipes-final/.git/COMMIT_EDITMSG  \n",
            "   creating: headfirst-git-samples/chapter03/recipes/\n",
            "  inflating: headfirst-git-samples/chapter03/recipes/saucy.md  \n",
            "   creating: headfirst-git-samples/chapter03/recipes/.git/\n",
            "  inflating: headfirst-git-samples/chapter03/recipes/.git/config  \n",
            "   creating: headfirst-git-samples/chapter03/recipes/.git/objects/\n",
            "   creating: headfirst-git-samples/chapter03/recipes/.git/objects/0b/\n",
            " extracting: headfirst-git-samples/chapter03/recipes/.git/objects/0b/77f5b1f5293a95266cabbaea8cb6eca7a405c2  \n",
            "   creating: headfirst-git-samples/chapter03/recipes/.git/objects/60/\n",
            " extracting: headfirst-git-samples/chapter03/recipes/.git/objects/60/823b62c74379070c5d95c6395d5aa5d7162648  \n",
            "   creating: headfirst-git-samples/chapter03/recipes/.git/objects/c7/\n",
            " extracting: headfirst-git-samples/chapter03/recipes/.git/objects/c7/aff3f2cf2888491bb6fc8a88f53bccdcec4a97  \n",
            "   creating: headfirst-git-samples/chapter03/recipes/.git/objects/20/\n",
            " extracting: headfirst-git-samples/chapter03/recipes/.git/objects/20/b7e5af8bc8c11cc216ba18c1e6b03ff0a276d7  \n",
            "   creating: headfirst-git-samples/chapter03/recipes/.git/objects/pack/\n",
            "   creating: headfirst-git-samples/chapter03/recipes/.git/objects/4c/\n",
            " extracting: headfirst-git-samples/chapter03/recipes/.git/objects/4c/ca5a7b3225a88c2df12bd157f5877bc3dded9e  \n",
            "   creating: headfirst-git-samples/chapter03/recipes/.git/objects/00/\n",
            " extracting: headfirst-git-samples/chapter03/recipes/.git/objects/00/65b8a0b8d6d4f2efc864c09437f8f5aa0b9773  \n",
            "   creating: headfirst-git-samples/chapter03/recipes/.git/objects/5d/\n",
            " extracting: headfirst-git-samples/chapter03/recipes/.git/objects/5d/b2b68c4cf2699e89fe1b526a7e4a171d83b2ef  \n",
            "   creating: headfirst-git-samples/chapter03/recipes/.git/objects/info/\n",
            "   creating: headfirst-git-samples/chapter03/recipes/.git/objects/54/\n",
            " extracting: headfirst-git-samples/chapter03/recipes/.git/objects/54/9e0da551c2a6427fb7b281093702cb449261ed  \n",
            "   creating: headfirst-git-samples/chapter03/recipes/.git/objects/3f/\n",
            " extracting: headfirst-git-samples/chapter03/recipes/.git/objects/3f/421bee9cf235623703d7ad493d4abc1b008778  \n",
            "   creating: headfirst-git-samples/chapter03/recipes/.git/objects/37/\n",
            " extracting: headfirst-git-samples/chapter03/recipes/.git/objects/37/64dbff998d581d5d22a9ee879bdd3e4ffb907a  \n",
            "   creating: headfirst-git-samples/chapter03/recipes/.git/objects/06/\n",
            " extracting: headfirst-git-samples/chapter03/recipes/.git/objects/06/b0890d2fb603e9d07f7421a04d7df2ca0346ab  \n",
            "   creating: headfirst-git-samples/chapter03/recipes/.git/objects/af/\n",
            " extracting: headfirst-git-samples/chapter03/recipes/.git/objects/af/fa4a4ca178ad1d8e8bb6e3b838a6fd2934f121  \n",
            "   creating: headfirst-git-samples/chapter03/recipes/.git/objects/ea/\n",
            " extracting: headfirst-git-samples/chapter03/recipes/.git/objects/ea/81b3dd1ff5b9567a8481584e32b86b64243980  \n",
            "   creating: headfirst-git-samples/chapter03/recipes/.git/objects/f8/\n",
            " extracting: headfirst-git-samples/chapter03/recipes/.git/objects/f8/d2bc210502fe26b6b84753bf0ffd7018d19127  \n",
            "   creating: headfirst-git-samples/chapter03/recipes/.git/objects/8d/\n",
            " extracting: headfirst-git-samples/chapter03/recipes/.git/objects/8d/670e93e297b126fc0466caf37c0033b6c018ab  \n",
            " extracting: headfirst-git-samples/chapter03/recipes/.git/HEAD  \n",
            "   creating: headfirst-git-samples/chapter03/recipes/.git/info/\n",
            "  inflating: headfirst-git-samples/chapter03/recipes/.git/info/exclude  \n",
            "   creating: headfirst-git-samples/chapter03/recipes/.git/logs/\n",
            "  inflating: headfirst-git-samples/chapter03/recipes/.git/logs/HEAD  \n",
            "   creating: headfirst-git-samples/chapter03/recipes/.git/logs/refs/\n",
            "   creating: headfirst-git-samples/chapter03/recipes/.git/logs/refs/heads/\n",
            "  inflating: headfirst-git-samples/chapter03/recipes/.git/logs/refs/heads/master  \n",
            "  inflating: headfirst-git-samples/chapter03/recipes/.git/logs/refs/heads/different-base  \n",
            "  inflating: headfirst-git-samples/chapter03/recipes/.git/logs/refs/heads/spicy-version  \n",
            "  inflating: headfirst-git-samples/chapter03/recipes/.git/description  \n",
            "   creating: headfirst-git-samples/chapter03/recipes/.git/hooks/\n",
            "  inflating: headfirst-git-samples/chapter03/recipes/.git/hooks/commit-msg.sample  \n",
            "  inflating: headfirst-git-samples/chapter03/recipes/.git/hooks/pre-rebase.sample  \n",
            "  inflating: headfirst-git-samples/chapter03/recipes/.git/hooks/pre-commit.sample  \n",
            "  inflating: headfirst-git-samples/chapter03/recipes/.git/hooks/applypatch-msg.sample  \n",
            "  inflating: headfirst-git-samples/chapter03/recipes/.git/hooks/fsmonitor-watchman.sample  \n",
            "  inflating: headfirst-git-samples/chapter03/recipes/.git/hooks/pre-receive.sample  \n",
            "  inflating: headfirst-git-samples/chapter03/recipes/.git/hooks/prepare-commit-msg.sample  \n",
            "  inflating: headfirst-git-samples/chapter03/recipes/.git/hooks/post-update.sample  \n",
            "  inflating: headfirst-git-samples/chapter03/recipes/.git/hooks/pre-merge-commit.sample  \n",
            "  inflating: headfirst-git-samples/chapter03/recipes/.git/hooks/pre-applypatch.sample  \n",
            "  inflating: headfirst-git-samples/chapter03/recipes/.git/hooks/pre-push.sample  \n",
            "  inflating: headfirst-git-samples/chapter03/recipes/.git/hooks/update.sample  \n",
            "  inflating: headfirst-git-samples/chapter03/recipes/.git/hooks/push-to-checkout.sample  \n",
            "   creating: headfirst-git-samples/chapter03/recipes/.git/refs/\n",
            "   creating: headfirst-git-samples/chapter03/recipes/.git/refs/heads/\n",
            " extracting: headfirst-git-samples/chapter03/recipes/.git/refs/heads/master  \n",
            " extracting: headfirst-git-samples/chapter03/recipes/.git/refs/heads/different-base  \n",
            " extracting: headfirst-git-samples/chapter03/recipes/.git/refs/heads/spicy-version  \n",
            "   creating: headfirst-git-samples/chapter03/recipes/.git/refs/tags/\n",
            "  inflating: headfirst-git-samples/chapter03/recipes/.git/index  \n",
            " extracting: headfirst-git-samples/chapter03/recipes/.git/COMMIT_EDITMSG  \n",
            "   creating: headfirst-git-samples/chapter04/\n",
            "  inflating: headfirst-git-samples/chapter04/indoor-party.md  \n",
            "   creating: headfirst-git-samples/chapter04/gitanjali-aref-step-3/\n",
            "  inflating: headfirst-git-samples/chapter04/gitanjali-aref-step-3/gift-registry.md  \n",
            "  inflating: headfirst-git-samples/chapter04/gitanjali-aref-step-3/guest-list.md  \n",
            "  inflating: headfirst-git-samples/chapter04/gitanjali-aref-step-3/invitation-card.md  \n",
            "   creating: headfirst-git-samples/chapter04/gitanjali-aref-step-3/.git/\n",
            "  inflating: headfirst-git-samples/chapter04/gitanjali-aref-step-3/.git/config  \n",
            "   creating: headfirst-git-samples/chapter04/gitanjali-aref-step-3/.git/objects/\n",
            "   creating: headfirst-git-samples/chapter04/gitanjali-aref-step-3/.git/objects/0b/\n",
            " extracting: headfirst-git-samples/chapter04/gitanjali-aref-step-3/.git/objects/0b/08ab8ee4b9ed2c0b4e60c565badba1f0e2ec6f  \n",
            "   creating: headfirst-git-samples/chapter04/gitanjali-aref-step-3/.git/objects/pack/\n",
            "   creating: headfirst-git-samples/chapter04/gitanjali-aref-step-3/.git/objects/42/\n",
            " extracting: headfirst-git-samples/chapter04/gitanjali-aref-step-3/.git/objects/42/d6baf291891f1622532504faa596c89c5ef0e2  \n",
            "   creating: headfirst-git-samples/chapter04/gitanjali-aref-step-3/.git/objects/00/\n",
            " extracting: headfirst-git-samples/chapter04/gitanjali-aref-step-3/.git/objects/00/3927e10ee6768243d20c694519b865df803a10  \n",
            "   creating: headfirst-git-samples/chapter04/gitanjali-aref-step-3/.git/objects/6e/\n",
            " extracting: headfirst-git-samples/chapter04/gitanjali-aref-step-3/.git/objects/6e/166804b8deec71855cede069b57e8c518f5c66  \n",
            "   creating: headfirst-git-samples/chapter04/gitanjali-aref-step-3/.git/objects/info/\n",
            "   creating: headfirst-git-samples/chapter04/gitanjali-aref-step-3/.git/objects/6c/\n",
            " extracting: headfirst-git-samples/chapter04/gitanjali-aref-step-3/.git/objects/6c/5f06eaf44114d882ca8b019e8aa0fac125cd9c  \n",
            " extracting: headfirst-git-samples/chapter04/gitanjali-aref-step-3/.git/objects/6c/0f797adfe6a45c34948e8112693bf55bf631dd  \n",
            "   creating: headfirst-git-samples/chapter04/gitanjali-aref-step-3/.git/objects/cb/\n",
            " extracting: headfirst-git-samples/chapter04/gitanjali-aref-step-3/.git/objects/cb/e8de92fe57b8d1d616babf9c5d244b8c1a036d  \n",
            "   creating: headfirst-git-samples/chapter04/gitanjali-aref-step-3/.git/objects/8d/\n",
            " extracting: headfirst-git-samples/chapter04/gitanjali-aref-step-3/.git/objects/8d/704f84c8f466daba4321affb1101813c15b2d2  \n",
            " extracting: headfirst-git-samples/chapter04/gitanjali-aref-step-3/.git/HEAD  \n",
            "   creating: headfirst-git-samples/chapter04/gitanjali-aref-step-3/.git/info/\n",
            "  inflating: headfirst-git-samples/chapter04/gitanjali-aref-step-3/.git/info/exclude  \n",
            "   creating: headfirst-git-samples/chapter04/gitanjali-aref-step-3/.git/logs/\n",
            "  inflating: headfirst-git-samples/chapter04/gitanjali-aref-step-3/.git/logs/HEAD  \n",
            "   creating: headfirst-git-samples/chapter04/gitanjali-aref-step-3/.git/logs/refs/\n",
            "   creating: headfirst-git-samples/chapter04/gitanjali-aref-step-3/.git/logs/refs/heads/\n",
            "  inflating: headfirst-git-samples/chapter04/gitanjali-aref-step-3/.git/logs/refs/heads/master  \n",
            "  inflating: headfirst-git-samples/chapter04/gitanjali-aref-step-3/.git/description  \n",
            "   creating: headfirst-git-samples/chapter04/gitanjali-aref-step-3/.git/hooks/\n",
            "  inflating: headfirst-git-samples/chapter04/gitanjali-aref-step-3/.git/hooks/commit-msg.sample  \n",
            "  inflating: headfirst-git-samples/chapter04/gitanjali-aref-step-3/.git/hooks/pre-rebase.sample  \n",
            "  inflating: headfirst-git-samples/chapter04/gitanjali-aref-step-3/.git/hooks/pre-commit.sample  \n",
            "  inflating: headfirst-git-samples/chapter04/gitanjali-aref-step-3/.git/hooks/applypatch-msg.sample  \n",
            "  inflating: headfirst-git-samples/chapter04/gitanjali-aref-step-3/.git/hooks/fsmonitor-watchman.sample  \n",
            "  inflating: headfirst-git-samples/chapter04/gitanjali-aref-step-3/.git/hooks/pre-receive.sample  \n",
            "  inflating: headfirst-git-samples/chapter04/gitanjali-aref-step-3/.git/hooks/prepare-commit-msg.sample  \n",
            "  inflating: headfirst-git-samples/chapter04/gitanjali-aref-step-3/.git/hooks/post-update.sample  \n",
            "  inflating: headfirst-git-samples/chapter04/gitanjali-aref-step-3/.git/hooks/pre-merge-commit.sample  \n",
            "  inflating: headfirst-git-samples/chapter04/gitanjali-aref-step-3/.git/hooks/pre-applypatch.sample  \n",
            "  inflating: headfirst-git-samples/chapter04/gitanjali-aref-step-3/.git/hooks/pre-push.sample  \n",
            "  inflating: headfirst-git-samples/chapter04/gitanjali-aref-step-3/.git/hooks/update.sample  \n",
            "  inflating: headfirst-git-samples/chapter04/gitanjali-aref-step-3/.git/hooks/push-to-checkout.sample  \n",
            "   creating: headfirst-git-samples/chapter04/gitanjali-aref-step-3/.git/refs/\n",
            "   creating: headfirst-git-samples/chapter04/gitanjali-aref-step-3/.git/refs/heads/\n",
            " extracting: headfirst-git-samples/chapter04/gitanjali-aref-step-3/.git/refs/heads/master  \n",
            "   creating: headfirst-git-samples/chapter04/gitanjali-aref-step-3/.git/refs/tags/\n",
            "  inflating: headfirst-git-samples/chapter04/gitanjali-aref-step-3/.git/index  \n",
            " extracting: headfirst-git-samples/chapter04/gitanjali-aref-step-3/.git/COMMIT_EDITMSG  \n",
            "   creating: headfirst-git-samples/chapter04/gitanjali-aref-step-4/\n",
            "  inflating: headfirst-git-samples/chapter04/gitanjali-aref-step-4/gift-registry.md  \n",
            "  inflating: headfirst-git-samples/chapter04/gitanjali-aref-step-4/guest-list.md  \n",
            "  inflating: headfirst-git-samples/chapter04/gitanjali-aref-step-4/invitation-card.md  \n",
            "   creating: headfirst-git-samples/chapter04/gitanjali-aref-step-4/.git/\n",
            "  inflating: headfirst-git-samples/chapter04/gitanjali-aref-step-4/.git/config  \n",
            "   creating: headfirst-git-samples/chapter04/gitanjali-aref-step-4/.git/objects/\n",
            "   creating: headfirst-git-samples/chapter04/gitanjali-aref-step-4/.git/objects/0b/\n",
            " extracting: headfirst-git-samples/chapter04/gitanjali-aref-step-4/.git/objects/0b/08ab8ee4b9ed2c0b4e60c565badba1f0e2ec6f  \n",
            "   creating: headfirst-git-samples/chapter04/gitanjali-aref-step-4/.git/objects/pack/\n",
            "   creating: headfirst-git-samples/chapter04/gitanjali-aref-step-4/.git/objects/42/\n",
            " extracting: headfirst-git-samples/chapter04/gitanjali-aref-step-4/.git/objects/42/d6baf291891f1622532504faa596c89c5ef0e2  \n",
            "   creating: headfirst-git-samples/chapter04/gitanjali-aref-step-4/.git/objects/00/\n",
            " extracting: headfirst-git-samples/chapter04/gitanjali-aref-step-4/.git/objects/00/3927e10ee6768243d20c694519b865df803a10  \n",
            "   creating: headfirst-git-samples/chapter04/gitanjali-aref-step-4/.git/objects/6e/\n",
            " extracting: headfirst-git-samples/chapter04/gitanjali-aref-step-4/.git/objects/6e/166804b8deec71855cede069b57e8c518f5c66  \n",
            "   creating: headfirst-git-samples/chapter04/gitanjali-aref-step-4/.git/objects/info/\n",
            "   creating: headfirst-git-samples/chapter04/gitanjali-aref-step-4/.git/objects/6c/\n",
            " extracting: headfirst-git-samples/chapter04/gitanjali-aref-step-4/.git/objects/6c/5f06eaf44114d882ca8b019e8aa0fac125cd9c  \n",
            " extracting: headfirst-git-samples/chapter04/gitanjali-aref-step-4/.git/objects/6c/0f797adfe6a45c34948e8112693bf55bf631dd  \n",
            "   creating: headfirst-git-samples/chapter04/gitanjali-aref-step-4/.git/objects/8d/\n",
            " extracting: headfirst-git-samples/chapter04/gitanjali-aref-step-4/.git/objects/8d/704f84c8f466daba4321affb1101813c15b2d2  \n",
            " extracting: headfirst-git-samples/chapter04/gitanjali-aref-step-4/.git/HEAD  \n",
            "   creating: headfirst-git-samples/chapter04/gitanjali-aref-step-4/.git/info/\n",
            "  inflating: headfirst-git-samples/chapter04/gitanjali-aref-step-4/.git/info/exclude  \n",
            "   creating: headfirst-git-samples/chapter04/gitanjali-aref-step-4/.git/logs/\n",
            "  inflating: headfirst-git-samples/chapter04/gitanjali-aref-step-4/.git/logs/HEAD  \n",
            "   creating: headfirst-git-samples/chapter04/gitanjali-aref-step-4/.git/logs/refs/\n",
            "   creating: headfirst-git-samples/chapter04/gitanjali-aref-step-4/.git/logs/refs/heads/\n",
            "  inflating: headfirst-git-samples/chapter04/gitanjali-aref-step-4/.git/logs/refs/heads/master  \n",
            "  inflating: headfirst-git-samples/chapter04/gitanjali-aref-step-4/.git/description  \n",
            "   creating: headfirst-git-samples/chapter04/gitanjali-aref-step-4/.git/hooks/\n",
            "  inflating: headfirst-git-samples/chapter04/gitanjali-aref-step-4/.git/hooks/commit-msg.sample  \n",
            "  inflating: headfirst-git-samples/chapter04/gitanjali-aref-step-4/.git/hooks/pre-rebase.sample  \n",
            "  inflating: headfirst-git-samples/chapter04/gitanjali-aref-step-4/.git/hooks/pre-commit.sample  \n",
            "  inflating: headfirst-git-samples/chapter04/gitanjali-aref-step-4/.git/hooks/applypatch-msg.sample  \n",
            "  inflating: headfirst-git-samples/chapter04/gitanjali-aref-step-4/.git/hooks/fsmonitor-watchman.sample  \n",
            "  inflating: headfirst-git-samples/chapter04/gitanjali-aref-step-4/.git/hooks/pre-receive.sample  \n",
            "  inflating: headfirst-git-samples/chapter04/gitanjali-aref-step-4/.git/hooks/prepare-commit-msg.sample  \n",
            "  inflating: headfirst-git-samples/chapter04/gitanjali-aref-step-4/.git/hooks/post-update.sample  \n",
            "  inflating: headfirst-git-samples/chapter04/gitanjali-aref-step-4/.git/hooks/pre-merge-commit.sample  \n",
            "  inflating: headfirst-git-samples/chapter04/gitanjali-aref-step-4/.git/hooks/pre-applypatch.sample  \n",
            "  inflating: headfirst-git-samples/chapter04/gitanjali-aref-step-4/.git/hooks/pre-push.sample  \n",
            "  inflating: headfirst-git-samples/chapter04/gitanjali-aref-step-4/.git/hooks/update.sample  \n",
            "  inflating: headfirst-git-samples/chapter04/gitanjali-aref-step-4/.git/hooks/push-to-checkout.sample  \n",
            "   creating: headfirst-git-samples/chapter04/gitanjali-aref-step-4/.git/refs/\n",
            "   creating: headfirst-git-samples/chapter04/gitanjali-aref-step-4/.git/refs/heads/\n",
            " extracting: headfirst-git-samples/chapter04/gitanjali-aref-step-4/.git/refs/heads/master  \n",
            "   creating: headfirst-git-samples/chapter04/gitanjali-aref-step-4/.git/refs/tags/\n",
            "  inflating: headfirst-git-samples/chapter04/gitanjali-aref-step-4/.git/index  \n",
            " extracting: headfirst-git-samples/chapter04/gitanjali-aref-step-4/.git/COMMIT_EDITMSG  \n",
            "   creating: headfirst-git-samples/chapter04/gitanjali-aref-step-5/\n",
            "  inflating: headfirst-git-samples/chapter04/gitanjali-aref-step-5/outdoor-supplies.md  \n",
            "  inflating: headfirst-git-samples/chapter04/gitanjali-aref-step-5/gift-registry.md  \n",
            "  inflating: headfirst-git-samples/chapter04/gitanjali-aref-step-5/guest-list.md  \n",
            "  inflating: headfirst-git-samples/chapter04/gitanjali-aref-step-5/invitation-card.md  \n",
            "   creating: headfirst-git-samples/chapter04/gitanjali-aref-step-5/.git/\n",
            "  inflating: headfirst-git-samples/chapter04/gitanjali-aref-step-5/.git/config  \n",
            "   creating: headfirst-git-samples/chapter04/gitanjali-aref-step-5/.git/objects/\n",
            "   creating: headfirst-git-samples/chapter04/gitanjali-aref-step-5/.git/objects/0b/\n",
            " extracting: headfirst-git-samples/chapter04/gitanjali-aref-step-5/.git/objects/0b/08ab8ee4b9ed2c0b4e60c565badba1f0e2ec6f  \n",
            "   creating: headfirst-git-samples/chapter04/gitanjali-aref-step-5/.git/objects/d1/\n",
            " extracting: headfirst-git-samples/chapter04/gitanjali-aref-step-5/.git/objects/d1/63c0d64b1669ade9e0cec391443ae79cfbbca2  \n",
            "   creating: headfirst-git-samples/chapter04/gitanjali-aref-step-5/.git/objects/pack/\n",
            "   creating: headfirst-git-samples/chapter04/gitanjali-aref-step-5/.git/objects/42/\n",
            " extracting: headfirst-git-samples/chapter04/gitanjali-aref-step-5/.git/objects/42/d6baf291891f1622532504faa596c89c5ef0e2  \n",
            "   creating: headfirst-git-samples/chapter04/gitanjali-aref-step-5/.git/objects/00/\n",
            " extracting: headfirst-git-samples/chapter04/gitanjali-aref-step-5/.git/objects/00/3927e10ee6768243d20c694519b865df803a10  \n",
            "   creating: headfirst-git-samples/chapter04/gitanjali-aref-step-5/.git/objects/6e/\n",
            " extracting: headfirst-git-samples/chapter04/gitanjali-aref-step-5/.git/objects/6e/166804b8deec71855cede069b57e8c518f5c66  \n",
            "   creating: headfirst-git-samples/chapter04/gitanjali-aref-step-5/.git/objects/info/\n",
            "   creating: headfirst-git-samples/chapter04/gitanjali-aref-step-5/.git/objects/6c/\n",
            " extracting: headfirst-git-samples/chapter04/gitanjali-aref-step-5/.git/objects/6c/5f06eaf44114d882ca8b019e8aa0fac125cd9c  \n",
            " extracting: headfirst-git-samples/chapter04/gitanjali-aref-step-5/.git/objects/6c/0f797adfe6a45c34948e8112693bf55bf631dd  \n",
            "   creating: headfirst-git-samples/chapter04/gitanjali-aref-step-5/.git/objects/ef/\n",
            " extracting: headfirst-git-samples/chapter04/gitanjali-aref-step-5/.git/objects/ef/a799db0130435103964743c5f112e46e30904a  \n",
            "   creating: headfirst-git-samples/chapter04/gitanjali-aref-step-5/.git/objects/8d/\n",
            " extracting: headfirst-git-samples/chapter04/gitanjali-aref-step-5/.git/objects/8d/704f84c8f466daba4321affb1101813c15b2d2  \n",
            "   creating: headfirst-git-samples/chapter04/gitanjali-aref-step-5/.git/objects/2b/\n",
            " extracting: headfirst-git-samples/chapter04/gitanjali-aref-step-5/.git/objects/2b/0f532f81ad1103dc0f364bd9b7626fcd49370b  \n",
            " extracting: headfirst-git-samples/chapter04/gitanjali-aref-step-5/.git/HEAD  \n",
            "   creating: headfirst-git-samples/chapter04/gitanjali-aref-step-5/.git/info/\n",
            "  inflating: headfirst-git-samples/chapter04/gitanjali-aref-step-5/.git/info/exclude  \n",
            "   creating: headfirst-git-samples/chapter04/gitanjali-aref-step-5/.git/logs/\n",
            "  inflating: headfirst-git-samples/chapter04/gitanjali-aref-step-5/.git/logs/HEAD  \n",
            "   creating: headfirst-git-samples/chapter04/gitanjali-aref-step-5/.git/logs/refs/\n",
            "   creating: headfirst-git-samples/chapter04/gitanjali-aref-step-5/.git/logs/refs/heads/\n",
            "  inflating: headfirst-git-samples/chapter04/gitanjali-aref-step-5/.git/logs/refs/heads/master  \n",
            "  inflating: headfirst-git-samples/chapter04/gitanjali-aref-step-5/.git/logs/refs/heads/camping-trip  \n",
            "  inflating: headfirst-git-samples/chapter04/gitanjali-aref-step-5/.git/description  \n",
            "   creating: headfirst-git-samples/chapter04/gitanjali-aref-step-5/.git/hooks/\n",
            "  inflating: headfirst-git-samples/chapter04/gitanjali-aref-step-5/.git/hooks/commit-msg.sample  \n",
            "  inflating: headfirst-git-samples/chapter04/gitanjali-aref-step-5/.git/hooks/pre-rebase.sample  \n",
            "  inflating: headfirst-git-samples/chapter04/gitanjali-aref-step-5/.git/hooks/pre-commit.sample  \n",
            "  inflating: headfirst-git-samples/chapter04/gitanjali-aref-step-5/.git/hooks/applypatch-msg.sample  \n",
            "  inflating: headfirst-git-samples/chapter04/gitanjali-aref-step-5/.git/hooks/fsmonitor-watchman.sample  \n",
            "  inflating: headfirst-git-samples/chapter04/gitanjali-aref-step-5/.git/hooks/pre-receive.sample  \n",
            "  inflating: headfirst-git-samples/chapter04/gitanjali-aref-step-5/.git/hooks/prepare-commit-msg.sample  \n",
            "  inflating: headfirst-git-samples/chapter04/gitanjali-aref-step-5/.git/hooks/post-update.sample  \n",
            "  inflating: headfirst-git-samples/chapter04/gitanjali-aref-step-5/.git/hooks/pre-merge-commit.sample  \n",
            "  inflating: headfirst-git-samples/chapter04/gitanjali-aref-step-5/.git/hooks/pre-applypatch.sample  \n",
            "  inflating: headfirst-git-samples/chapter04/gitanjali-aref-step-5/.git/hooks/pre-push.sample  \n",
            "  inflating: headfirst-git-samples/chapter04/gitanjali-aref-step-5/.git/hooks/update.sample  \n",
            "  inflating: headfirst-git-samples/chapter04/gitanjali-aref-step-5/.git/hooks/push-to-checkout.sample  \n",
            "   creating: headfirst-git-samples/chapter04/gitanjali-aref-step-5/.git/refs/\n",
            "   creating: headfirst-git-samples/chapter04/gitanjali-aref-step-5/.git/refs/heads/\n",
            " extracting: headfirst-git-samples/chapter04/gitanjali-aref-step-5/.git/refs/heads/master  \n",
            " extracting: headfirst-git-samples/chapter04/gitanjali-aref-step-5/.git/refs/heads/camping-trip  \n",
            "   creating: headfirst-git-samples/chapter04/gitanjali-aref-step-5/.git/refs/tags/\n",
            "  inflating: headfirst-git-samples/chapter04/gitanjali-aref-step-5/.git/index  \n",
            " extracting: headfirst-git-samples/chapter04/gitanjali-aref-step-5/.git/COMMIT_EDITMSG  \n",
            "   creating: headfirst-git-samples/chapter04/gitanjali-aref-step-2/\n",
            "  inflating: headfirst-git-samples/chapter04/gitanjali-aref-step-2/gift-registry.md  \n",
            "  inflating: headfirst-git-samples/chapter04/gitanjali-aref-step-2/guest-list.md  \n",
            "  inflating: headfirst-git-samples/chapter04/gitanjali-aref-step-2/invitation-card.md  \n",
            "   creating: headfirst-git-samples/chapter04/gitanjali-aref-step-2/.git/\n",
            "  inflating: headfirst-git-samples/chapter04/gitanjali-aref-step-2/.git/config  \n",
            "   creating: headfirst-git-samples/chapter04/gitanjali-aref-step-2/.git/objects/\n",
            "   creating: headfirst-git-samples/chapter04/gitanjali-aref-step-2/.git/objects/0b/\n",
            " extracting: headfirst-git-samples/chapter04/gitanjali-aref-step-2/.git/objects/0b/08ab8ee4b9ed2c0b4e60c565badba1f0e2ec6f  \n",
            "   creating: headfirst-git-samples/chapter04/gitanjali-aref-step-2/.git/objects/pack/\n",
            "   creating: headfirst-git-samples/chapter04/gitanjali-aref-step-2/.git/objects/42/\n",
            " extracting: headfirst-git-samples/chapter04/gitanjali-aref-step-2/.git/objects/42/d6baf291891f1622532504faa596c89c5ef0e2  \n",
            "   creating: headfirst-git-samples/chapter04/gitanjali-aref-step-2/.git/objects/00/\n",
            " extracting: headfirst-git-samples/chapter04/gitanjali-aref-step-2/.git/objects/00/3927e10ee6768243d20c694519b865df803a10  \n",
            "   creating: headfirst-git-samples/chapter04/gitanjali-aref-step-2/.git/objects/6e/\n",
            " extracting: headfirst-git-samples/chapter04/gitanjali-aref-step-2/.git/objects/6e/166804b8deec71855cede069b57e8c518f5c66  \n",
            "   creating: headfirst-git-samples/chapter04/gitanjali-aref-step-2/.git/objects/info/\n",
            "   creating: headfirst-git-samples/chapter04/gitanjali-aref-step-2/.git/objects/6c/\n",
            " extracting: headfirst-git-samples/chapter04/gitanjali-aref-step-2/.git/objects/6c/5f06eaf44114d882ca8b019e8aa0fac125cd9c  \n",
            " extracting: headfirst-git-samples/chapter04/gitanjali-aref-step-2/.git/objects/6c/0f797adfe6a45c34948e8112693bf55bf631dd  \n",
            "   creating: headfirst-git-samples/chapter04/gitanjali-aref-step-2/.git/objects/8d/\n",
            " extracting: headfirst-git-samples/chapter04/gitanjali-aref-step-2/.git/objects/8d/704f84c8f466daba4321affb1101813c15b2d2  \n",
            " extracting: headfirst-git-samples/chapter04/gitanjali-aref-step-2/.git/HEAD  \n",
            "   creating: headfirst-git-samples/chapter04/gitanjali-aref-step-2/.git/info/\n",
            "  inflating: headfirst-git-samples/chapter04/gitanjali-aref-step-2/.git/info/exclude  \n",
            "   creating: headfirst-git-samples/chapter04/gitanjali-aref-step-2/.git/logs/\n",
            "  inflating: headfirst-git-samples/chapter04/gitanjali-aref-step-2/.git/logs/HEAD  \n",
            "   creating: headfirst-git-samples/chapter04/gitanjali-aref-step-2/.git/logs/refs/\n",
            "   creating: headfirst-git-samples/chapter04/gitanjali-aref-step-2/.git/logs/refs/heads/\n",
            "  inflating: headfirst-git-samples/chapter04/gitanjali-aref-step-2/.git/logs/refs/heads/master  \n",
            "  inflating: headfirst-git-samples/chapter04/gitanjali-aref-step-2/.git/description  \n",
            "   creating: headfirst-git-samples/chapter04/gitanjali-aref-step-2/.git/hooks/\n",
            "  inflating: headfirst-git-samples/chapter04/gitanjali-aref-step-2/.git/hooks/commit-msg.sample  \n",
            "  inflating: headfirst-git-samples/chapter04/gitanjali-aref-step-2/.git/hooks/pre-rebase.sample  \n",
            "  inflating: headfirst-git-samples/chapter04/gitanjali-aref-step-2/.git/hooks/pre-commit.sample  \n",
            "  inflating: headfirst-git-samples/chapter04/gitanjali-aref-step-2/.git/hooks/applypatch-msg.sample  \n",
            "  inflating: headfirst-git-samples/chapter04/gitanjali-aref-step-2/.git/hooks/fsmonitor-watchman.sample  \n",
            "  inflating: headfirst-git-samples/chapter04/gitanjali-aref-step-2/.git/hooks/pre-receive.sample  \n",
            "  inflating: headfirst-git-samples/chapter04/gitanjali-aref-step-2/.git/hooks/prepare-commit-msg.sample  \n",
            "  inflating: headfirst-git-samples/chapter04/gitanjali-aref-step-2/.git/hooks/post-update.sample  \n",
            "  inflating: headfirst-git-samples/chapter04/gitanjali-aref-step-2/.git/hooks/pre-merge-commit.sample  \n",
            "  inflating: headfirst-git-samples/chapter04/gitanjali-aref-step-2/.git/hooks/pre-applypatch.sample  \n",
            "  inflating: headfirst-git-samples/chapter04/gitanjali-aref-step-2/.git/hooks/pre-push.sample  \n",
            "  inflating: headfirst-git-samples/chapter04/gitanjali-aref-step-2/.git/hooks/update.sample  \n",
            "  inflating: headfirst-git-samples/chapter04/gitanjali-aref-step-2/.git/hooks/push-to-checkout.sample  \n",
            "   creating: headfirst-git-samples/chapter04/gitanjali-aref-step-2/.git/refs/\n",
            "   creating: headfirst-git-samples/chapter04/gitanjali-aref-step-2/.git/refs/heads/\n",
            " extracting: headfirst-git-samples/chapter04/gitanjali-aref-step-2/.git/refs/heads/master  \n",
            "   creating: headfirst-git-samples/chapter04/gitanjali-aref-step-2/.git/refs/tags/\n",
            "  inflating: headfirst-git-samples/chapter04/gitanjali-aref-step-2/.git/index  \n",
            " extracting: headfirst-git-samples/chapter04/gitanjali-aref-step-2/.git/COMMIT_EDITMSG  \n",
            "  inflating: headfirst-git-samples/chapter04/outdoor-supplies.md  \n",
            "  inflating: headfirst-git-samples/chapter04/gift-registry.md  \n",
            "  inflating: headfirst-git-samples/chapter04/boardgame-venues.md  \n",
            "  inflating: headfirst-git-samples/chapter04/guest-list.md  \n",
            "  inflating: headfirst-git-samples/chapter04/invitation-card.md  \n",
            "   creating: headfirst-git-samples/chapter04/gitanjali-aref-step-7/\n",
            "  inflating: headfirst-git-samples/chapter04/gitanjali-aref-step-7/indoor-party.md  \n",
            "  inflating: headfirst-git-samples/chapter04/gitanjali-aref-step-7/gift-registry.md  \n",
            "  inflating: headfirst-git-samples/chapter04/gitanjali-aref-step-7/boardgame-venues.md  \n",
            "  inflating: headfirst-git-samples/chapter04/gitanjali-aref-step-7/guest-list.md  \n",
            "  inflating: headfirst-git-samples/chapter04/gitanjali-aref-step-7/invitation-card.md  \n",
            "   creating: headfirst-git-samples/chapter04/gitanjali-aref-step-7/.git/\n",
            "  inflating: headfirst-git-samples/chapter04/gitanjali-aref-step-7/.git/config  \n",
            "   creating: headfirst-git-samples/chapter04/gitanjali-aref-step-7/.git/objects/\n",
            "   creating: headfirst-git-samples/chapter04/gitanjali-aref-step-7/.git/objects/3e/\n",
            " extracting: headfirst-git-samples/chapter04/gitanjali-aref-step-7/.git/objects/3e/3e84705e36a9f457e8b4521403b173155b1647  \n",
            "   creating: headfirst-git-samples/chapter04/gitanjali-aref-step-7/.git/objects/0b/\n",
            " extracting: headfirst-git-samples/chapter04/gitanjali-aref-step-7/.git/objects/0b/08ab8ee4b9ed2c0b4e60c565badba1f0e2ec6f  \n",
            "   creating: headfirst-git-samples/chapter04/gitanjali-aref-step-7/.git/objects/d1/\n",
            " extracting: headfirst-git-samples/chapter04/gitanjali-aref-step-7/.git/objects/d1/63c0d64b1669ade9e0cec391443ae79cfbbca2  \n",
            "   creating: headfirst-git-samples/chapter04/gitanjali-aref-step-7/.git/objects/cf/\n",
            " extracting: headfirst-git-samples/chapter04/gitanjali-aref-step-7/.git/objects/cf/5e7181bb23501f748963ba713cfd720ad76e1c  \n",
            "   creating: headfirst-git-samples/chapter04/gitanjali-aref-step-7/.git/objects/20/\n",
            " extracting: headfirst-git-samples/chapter04/gitanjali-aref-step-7/.git/objects/20/64ec59644588a62abd69d7036821485cf787ed  \n",
            "   creating: headfirst-git-samples/chapter04/gitanjali-aref-step-7/.git/objects/pack/\n",
            "   creating: headfirst-git-samples/chapter04/gitanjali-aref-step-7/.git/objects/42/\n",
            " extracting: headfirst-git-samples/chapter04/gitanjali-aref-step-7/.git/objects/42/d6baf291891f1622532504faa596c89c5ef0e2  \n",
            "   creating: headfirst-git-samples/chapter04/gitanjali-aref-step-7/.git/objects/00/\n",
            " extracting: headfirst-git-samples/chapter04/gitanjali-aref-step-7/.git/objects/00/3927e10ee6768243d20c694519b865df803a10  \n",
            "   creating: headfirst-git-samples/chapter04/gitanjali-aref-step-7/.git/objects/6e/\n",
            " extracting: headfirst-git-samples/chapter04/gitanjali-aref-step-7/.git/objects/6e/166804b8deec71855cede069b57e8c518f5c66  \n",
            "   creating: headfirst-git-samples/chapter04/gitanjali-aref-step-7/.git/objects/info/\n",
            "   creating: headfirst-git-samples/chapter04/gitanjali-aref-step-7/.git/objects/65/\n",
            " extracting: headfirst-git-samples/chapter04/gitanjali-aref-step-7/.git/objects/65/7aba9ea5e12a0a77728fd43c58b7fdc54c433e  \n",
            "   creating: headfirst-git-samples/chapter04/gitanjali-aref-step-7/.git/objects/6c/\n",
            " extracting: headfirst-git-samples/chapter04/gitanjali-aref-step-7/.git/objects/6c/5f06eaf44114d882ca8b019e8aa0fac125cd9c  \n",
            " extracting: headfirst-git-samples/chapter04/gitanjali-aref-step-7/.git/objects/6c/a6defc7adf5c20654071d833a5a1485351ae64  \n",
            " extracting: headfirst-git-samples/chapter04/gitanjali-aref-step-7/.git/objects/6c/0f797adfe6a45c34948e8112693bf55bf631dd  \n",
            "   creating: headfirst-git-samples/chapter04/gitanjali-aref-step-7/.git/objects/39/\n",
            " extracting: headfirst-git-samples/chapter04/gitanjali-aref-step-7/.git/objects/39/107a6bb009137a74ce22e2b90eb20066be0897  \n",
            "   creating: headfirst-git-samples/chapter04/gitanjali-aref-step-7/.git/objects/ef/\n",
            " extracting: headfirst-git-samples/chapter04/gitanjali-aref-step-7/.git/objects/ef/a799db0130435103964743c5f112e46e30904a  \n",
            "   creating: headfirst-git-samples/chapter04/gitanjali-aref-step-7/.git/objects/c3/\n",
            " extracting: headfirst-git-samples/chapter04/gitanjali-aref-step-7/.git/objects/c3/684a0c0da43095f836d9b2da5235dd0b6bde69  \n",
            "   creating: headfirst-git-samples/chapter04/gitanjali-aref-step-7/.git/objects/e7/\n",
            " extracting: headfirst-git-samples/chapter04/gitanjali-aref-step-7/.git/objects/e7/591aeab82bae312b6b2747264330e64e8833ab  \n",
            "   creating: headfirst-git-samples/chapter04/gitanjali-aref-step-7/.git/objects/8d/\n",
            " extracting: headfirst-git-samples/chapter04/gitanjali-aref-step-7/.git/objects/8d/704f84c8f466daba4321affb1101813c15b2d2  \n",
            "   creating: headfirst-git-samples/chapter04/gitanjali-aref-step-7/.git/objects/2b/\n",
            " extracting: headfirst-git-samples/chapter04/gitanjali-aref-step-7/.git/objects/2b/0f532f81ad1103dc0f364bd9b7626fcd49370b  \n",
            " extracting: headfirst-git-samples/chapter04/gitanjali-aref-step-7/.git/HEAD  \n",
            "   creating: headfirst-git-samples/chapter04/gitanjali-aref-step-7/.git/info/\n",
            "  inflating: headfirst-git-samples/chapter04/gitanjali-aref-step-7/.git/info/exclude  \n",
            "   creating: headfirst-git-samples/chapter04/gitanjali-aref-step-7/.git/logs/\n",
            "  inflating: headfirst-git-samples/chapter04/gitanjali-aref-step-7/.git/logs/HEAD  \n",
            "   creating: headfirst-git-samples/chapter04/gitanjali-aref-step-7/.git/logs/refs/\n",
            "   creating: headfirst-git-samples/chapter04/gitanjali-aref-step-7/.git/logs/refs/heads/\n",
            "  inflating: headfirst-git-samples/chapter04/gitanjali-aref-step-7/.git/logs/refs/heads/boardgame-night  \n",
            "  inflating: headfirst-git-samples/chapter04/gitanjali-aref-step-7/.git/logs/refs/heads/glamping-trip  \n",
            "  inflating: headfirst-git-samples/chapter04/gitanjali-aref-step-7/.git/logs/refs/heads/main  \n",
            "  inflating: headfirst-git-samples/chapter04/gitanjali-aref-step-7/.git/description  \n",
            "   creating: headfirst-git-samples/chapter04/gitanjali-aref-step-7/.git/hooks/\n",
            "  inflating: headfirst-git-samples/chapter04/gitanjali-aref-step-7/.git/hooks/commit-msg.sample  \n",
            "  inflating: headfirst-git-samples/chapter04/gitanjali-aref-step-7/.git/hooks/pre-rebase.sample  \n",
            "  inflating: headfirst-git-samples/chapter04/gitanjali-aref-step-7/.git/hooks/pre-commit.sample  \n",
            "  inflating: headfirst-git-samples/chapter04/gitanjali-aref-step-7/.git/hooks/applypatch-msg.sample  \n",
            "  inflating: headfirst-git-samples/chapter04/gitanjali-aref-step-7/.git/hooks/fsmonitor-watchman.sample  \n",
            "  inflating: headfirst-git-samples/chapter04/gitanjali-aref-step-7/.git/hooks/pre-receive.sample  \n",
            "  inflating: headfirst-git-samples/chapter04/gitanjali-aref-step-7/.git/hooks/prepare-commit-msg.sample  \n",
            "  inflating: headfirst-git-samples/chapter04/gitanjali-aref-step-7/.git/hooks/post-update.sample  \n",
            "  inflating: headfirst-git-samples/chapter04/gitanjali-aref-step-7/.git/hooks/pre-merge-commit.sample  \n",
            "  inflating: headfirst-git-samples/chapter04/gitanjali-aref-step-7/.git/hooks/pre-applypatch.sample  \n",
            "  inflating: headfirst-git-samples/chapter04/gitanjali-aref-step-7/.git/hooks/pre-push.sample  \n",
            "  inflating: headfirst-git-samples/chapter04/gitanjali-aref-step-7/.git/hooks/update.sample  \n",
            "  inflating: headfirst-git-samples/chapter04/gitanjali-aref-step-7/.git/hooks/push-to-checkout.sample  \n",
            "   creating: headfirst-git-samples/chapter04/gitanjali-aref-step-7/.git/refs/\n",
            "   creating: headfirst-git-samples/chapter04/gitanjali-aref-step-7/.git/refs/heads/\n",
            " extracting: headfirst-git-samples/chapter04/gitanjali-aref-step-7/.git/refs/heads/boardgame-night  \n",
            " extracting: headfirst-git-samples/chapter04/gitanjali-aref-step-7/.git/refs/heads/glamping-trip  \n",
            " extracting: headfirst-git-samples/chapter04/gitanjali-aref-step-7/.git/refs/heads/main  \n",
            "   creating: headfirst-git-samples/chapter04/gitanjali-aref-step-7/.git/refs/tags/\n",
            "  inflating: headfirst-git-samples/chapter04/gitanjali-aref-step-7/.git/index  \n",
            "  inflating: headfirst-git-samples/chapter04/gitanjali-aref-step-7/.git/COMMIT_EDITMSG  \n",
            "   creating: headfirst-git-samples/chapter04/gitanjali-aref-step-1/\n",
            "  inflating: headfirst-git-samples/chapter04/gitanjali-aref-step-1/gift-registry.md  \n",
            "  inflating: headfirst-git-samples/chapter04/gitanjali-aref-step-1/guest-list.md  \n",
            "  inflating: headfirst-git-samples/chapter04/gitanjali-aref-step-1/invitation-card.md  \n",
            "   creating: headfirst-git-samples/chapter04/gitanjali-aref-step-1/.git/\n",
            "  inflating: headfirst-git-samples/chapter04/gitanjali-aref-step-1/.git/config  \n",
            "   creating: headfirst-git-samples/chapter04/gitanjali-aref-step-1/.git/objects/\n",
            "   creating: headfirst-git-samples/chapter04/gitanjali-aref-step-1/.git/objects/0b/\n",
            " extracting: headfirst-git-samples/chapter04/gitanjali-aref-step-1/.git/objects/0b/08ab8ee4b9ed2c0b4e60c565badba1f0e2ec6f  \n",
            "   creating: headfirst-git-samples/chapter04/gitanjali-aref-step-1/.git/objects/pack/\n",
            "   creating: headfirst-git-samples/chapter04/gitanjali-aref-step-1/.git/objects/42/\n",
            " extracting: headfirst-git-samples/chapter04/gitanjali-aref-step-1/.git/objects/42/d6baf291891f1622532504faa596c89c5ef0e2  \n",
            "   creating: headfirst-git-samples/chapter04/gitanjali-aref-step-1/.git/objects/00/\n",
            " extracting: headfirst-git-samples/chapter04/gitanjali-aref-step-1/.git/objects/00/3927e10ee6768243d20c694519b865df803a10  \n",
            "   creating: headfirst-git-samples/chapter04/gitanjali-aref-step-1/.git/objects/6e/\n",
            " extracting: headfirst-git-samples/chapter04/gitanjali-aref-step-1/.git/objects/6e/166804b8deec71855cede069b57e8c518f5c66  \n",
            "   creating: headfirst-git-samples/chapter04/gitanjali-aref-step-1/.git/objects/info/\n",
            "   creating: headfirst-git-samples/chapter04/gitanjali-aref-step-1/.git/objects/6c/\n",
            " extracting: headfirst-git-samples/chapter04/gitanjali-aref-step-1/.git/objects/6c/5f06eaf44114d882ca8b019e8aa0fac125cd9c  \n",
            " extracting: headfirst-git-samples/chapter04/gitanjali-aref-step-1/.git/objects/6c/0f797adfe6a45c34948e8112693bf55bf631dd  \n",
            "   creating: headfirst-git-samples/chapter04/gitanjali-aref-step-1/.git/objects/8d/\n",
            " extracting: headfirst-git-samples/chapter04/gitanjali-aref-step-1/.git/objects/8d/704f84c8f466daba4321affb1101813c15b2d2  \n",
            " extracting: headfirst-git-samples/chapter04/gitanjali-aref-step-1/.git/HEAD  \n",
            "   creating: headfirst-git-samples/chapter04/gitanjali-aref-step-1/.git/info/\n",
            "  inflating: headfirst-git-samples/chapter04/gitanjali-aref-step-1/.git/info/exclude  \n",
            "   creating: headfirst-git-samples/chapter04/gitanjali-aref-step-1/.git/logs/\n",
            "  inflating: headfirst-git-samples/chapter04/gitanjali-aref-step-1/.git/logs/HEAD  \n",
            "   creating: headfirst-git-samples/chapter04/gitanjali-aref-step-1/.git/logs/refs/\n",
            "   creating: headfirst-git-samples/chapter04/gitanjali-aref-step-1/.git/logs/refs/heads/\n",
            "  inflating: headfirst-git-samples/chapter04/gitanjali-aref-step-1/.git/logs/refs/heads/master  \n",
            "  inflating: headfirst-git-samples/chapter04/gitanjali-aref-step-1/.git/description  \n",
            "   creating: headfirst-git-samples/chapter04/gitanjali-aref-step-1/.git/hooks/\n",
            "  inflating: headfirst-git-samples/chapter04/gitanjali-aref-step-1/.git/hooks/commit-msg.sample  \n",
            "  inflating: headfirst-git-samples/chapter04/gitanjali-aref-step-1/.git/hooks/pre-rebase.sample  \n",
            "  inflating: headfirst-git-samples/chapter04/gitanjali-aref-step-1/.git/hooks/pre-commit.sample  \n",
            "  inflating: headfirst-git-samples/chapter04/gitanjali-aref-step-1/.git/hooks/applypatch-msg.sample  \n",
            "  inflating: headfirst-git-samples/chapter04/gitanjali-aref-step-1/.git/hooks/fsmonitor-watchman.sample  \n",
            "  inflating: headfirst-git-samples/chapter04/gitanjali-aref-step-1/.git/hooks/pre-receive.sample  \n",
            "  inflating: headfirst-git-samples/chapter04/gitanjali-aref-step-1/.git/hooks/prepare-commit-msg.sample  \n",
            "  inflating: headfirst-git-samples/chapter04/gitanjali-aref-step-1/.git/hooks/post-update.sample  \n",
            "  inflating: headfirst-git-samples/chapter04/gitanjali-aref-step-1/.git/hooks/pre-merge-commit.sample  \n",
            "  inflating: headfirst-git-samples/chapter04/gitanjali-aref-step-1/.git/hooks/pre-applypatch.sample  \n",
            "  inflating: headfirst-git-samples/chapter04/gitanjali-aref-step-1/.git/hooks/pre-push.sample  \n",
            "  inflating: headfirst-git-samples/chapter04/gitanjali-aref-step-1/.git/hooks/update.sample  \n",
            "  inflating: headfirst-git-samples/chapter04/gitanjali-aref-step-1/.git/hooks/push-to-checkout.sample  \n",
            "   creating: headfirst-git-samples/chapter04/gitanjali-aref-step-1/.git/refs/\n",
            "   creating: headfirst-git-samples/chapter04/gitanjali-aref-step-1/.git/refs/heads/\n",
            " extracting: headfirst-git-samples/chapter04/gitanjali-aref-step-1/.git/refs/heads/master  \n",
            "   creating: headfirst-git-samples/chapter04/gitanjali-aref-step-1/.git/refs/tags/\n",
            "  inflating: headfirst-git-samples/chapter04/gitanjali-aref-step-1/.git/index  \n",
            " extracting: headfirst-git-samples/chapter04/gitanjali-aref-step-1/.git/COMMIT_EDITMSG  \n",
            "   creating: headfirst-git-samples/chapter04/gitanjali-aref-step-6/\n",
            "  inflating: headfirst-git-samples/chapter04/gitanjali-aref-step-6/outdoor-supplies.md  \n",
            "  inflating: headfirst-git-samples/chapter04/gitanjali-aref-step-6/gift-registry.md  \n",
            "  inflating: headfirst-git-samples/chapter04/gitanjali-aref-step-6/guest-list.md  \n",
            "  inflating: headfirst-git-samples/chapter04/gitanjali-aref-step-6/invitation-card.md  \n",
            "   creating: headfirst-git-samples/chapter04/gitanjali-aref-step-6/.git/\n",
            "  inflating: headfirst-git-samples/chapter04/gitanjali-aref-step-6/.git/config  \n",
            "   creating: headfirst-git-samples/chapter04/gitanjali-aref-step-6/.git/objects/\n",
            "   creating: headfirst-git-samples/chapter04/gitanjali-aref-step-6/.git/objects/0b/\n",
            " extracting: headfirst-git-samples/chapter04/gitanjali-aref-step-6/.git/objects/0b/08ab8ee4b9ed2c0b4e60c565badba1f0e2ec6f  \n",
            "   creating: headfirst-git-samples/chapter04/gitanjali-aref-step-6/.git/objects/d1/\n",
            " extracting: headfirst-git-samples/chapter04/gitanjali-aref-step-6/.git/objects/d1/63c0d64b1669ade9e0cec391443ae79cfbbca2  \n",
            "   creating: headfirst-git-samples/chapter04/gitanjali-aref-step-6/.git/objects/cf/\n",
            " extracting: headfirst-git-samples/chapter04/gitanjali-aref-step-6/.git/objects/cf/5e7181bb23501f748963ba713cfd720ad76e1c  \n",
            "   creating: headfirst-git-samples/chapter04/gitanjali-aref-step-6/.git/objects/pack/\n",
            "   creating: headfirst-git-samples/chapter04/gitanjali-aref-step-6/.git/objects/42/\n",
            " extracting: headfirst-git-samples/chapter04/gitanjali-aref-step-6/.git/objects/42/d6baf291891f1622532504faa596c89c5ef0e2  \n",
            "   creating: headfirst-git-samples/chapter04/gitanjali-aref-step-6/.git/objects/00/\n",
            " extracting: headfirst-git-samples/chapter04/gitanjali-aref-step-6/.git/objects/00/3927e10ee6768243d20c694519b865df803a10  \n",
            "   creating: headfirst-git-samples/chapter04/gitanjali-aref-step-6/.git/objects/6e/\n",
            " extracting: headfirst-git-samples/chapter04/gitanjali-aref-step-6/.git/objects/6e/166804b8deec71855cede069b57e8c518f5c66  \n",
            "   creating: headfirst-git-samples/chapter04/gitanjali-aref-step-6/.git/objects/info/\n",
            "   creating: headfirst-git-samples/chapter04/gitanjali-aref-step-6/.git/objects/6c/\n",
            " extracting: headfirst-git-samples/chapter04/gitanjali-aref-step-6/.git/objects/6c/5f06eaf44114d882ca8b019e8aa0fac125cd9c  \n",
            " extracting: headfirst-git-samples/chapter04/gitanjali-aref-step-6/.git/objects/6c/0f797adfe6a45c34948e8112693bf55bf631dd  \n",
            "   creating: headfirst-git-samples/chapter04/gitanjali-aref-step-6/.git/objects/ef/\n",
            " extracting: headfirst-git-samples/chapter04/gitanjali-aref-step-6/.git/objects/ef/a799db0130435103964743c5f112e46e30904a  \n",
            "   creating: headfirst-git-samples/chapter04/gitanjali-aref-step-6/.git/objects/8d/\n",
            " extracting: headfirst-git-samples/chapter04/gitanjali-aref-step-6/.git/objects/8d/704f84c8f466daba4321affb1101813c15b2d2  \n",
            "   creating: headfirst-git-samples/chapter04/gitanjali-aref-step-6/.git/objects/2b/\n",
            " extracting: headfirst-git-samples/chapter04/gitanjali-aref-step-6/.git/objects/2b/0f532f81ad1103dc0f364bd9b7626fcd49370b  \n",
            " extracting: headfirst-git-samples/chapter04/gitanjali-aref-step-6/.git/HEAD  \n",
            "   creating: headfirst-git-samples/chapter04/gitanjali-aref-step-6/.git/info/\n",
            "  inflating: headfirst-git-samples/chapter04/gitanjali-aref-step-6/.git/info/exclude  \n",
            "   creating: headfirst-git-samples/chapter04/gitanjali-aref-step-6/.git/logs/\n",
            "  inflating: headfirst-git-samples/chapter04/gitanjali-aref-step-6/.git/logs/HEAD  \n",
            "   creating: headfirst-git-samples/chapter04/gitanjali-aref-step-6/.git/logs/refs/\n",
            "   creating: headfirst-git-samples/chapter04/gitanjali-aref-step-6/.git/logs/refs/heads/\n",
            "  inflating: headfirst-git-samples/chapter04/gitanjali-aref-step-6/.git/logs/refs/heads/master  \n",
            "  inflating: headfirst-git-samples/chapter04/gitanjali-aref-step-6/.git/logs/refs/heads/camping-trip  \n",
            "  inflating: headfirst-git-samples/chapter04/gitanjali-aref-step-6/.git/description  \n",
            "   creating: headfirst-git-samples/chapter04/gitanjali-aref-step-6/.git/hooks/\n",
            "  inflating: headfirst-git-samples/chapter04/gitanjali-aref-step-6/.git/hooks/commit-msg.sample  \n",
            "  inflating: headfirst-git-samples/chapter04/gitanjali-aref-step-6/.git/hooks/pre-rebase.sample  \n",
            "  inflating: headfirst-git-samples/chapter04/gitanjali-aref-step-6/.git/hooks/pre-commit.sample  \n",
            "  inflating: headfirst-git-samples/chapter04/gitanjali-aref-step-6/.git/hooks/applypatch-msg.sample  \n",
            "  inflating: headfirst-git-samples/chapter04/gitanjali-aref-step-6/.git/hooks/fsmonitor-watchman.sample  \n",
            "  inflating: headfirst-git-samples/chapter04/gitanjali-aref-step-6/.git/hooks/pre-receive.sample  \n",
            "  inflating: headfirst-git-samples/chapter04/gitanjali-aref-step-6/.git/hooks/prepare-commit-msg.sample  \n",
            "  inflating: headfirst-git-samples/chapter04/gitanjali-aref-step-6/.git/hooks/post-update.sample  \n",
            "  inflating: headfirst-git-samples/chapter04/gitanjali-aref-step-6/.git/hooks/pre-merge-commit.sample  \n",
            "  inflating: headfirst-git-samples/chapter04/gitanjali-aref-step-6/.git/hooks/pre-applypatch.sample  \n",
            "  inflating: headfirst-git-samples/chapter04/gitanjali-aref-step-6/.git/hooks/pre-push.sample  \n",
            "  inflating: headfirst-git-samples/chapter04/gitanjali-aref-step-6/.git/hooks/update.sample  \n",
            "  inflating: headfirst-git-samples/chapter04/gitanjali-aref-step-6/.git/hooks/push-to-checkout.sample  \n",
            "   creating: headfirst-git-samples/chapter04/gitanjali-aref-step-6/.git/refs/\n",
            "   creating: headfirst-git-samples/chapter04/gitanjali-aref-step-6/.git/refs/heads/\n",
            " extracting: headfirst-git-samples/chapter04/gitanjali-aref-step-6/.git/refs/heads/master  \n",
            " extracting: headfirst-git-samples/chapter04/gitanjali-aref-step-6/.git/refs/heads/camping-trip  \n",
            "   creating: headfirst-git-samples/chapter04/gitanjali-aref-step-6/.git/refs/tags/\n",
            "  inflating: headfirst-git-samples/chapter04/gitanjali-aref-step-6/.git/index  \n",
            " extracting: headfirst-git-samples/chapter04/gitanjali-aref-step-6/.git/COMMIT_EDITMSG  \n",
            "   creating: headfirst-git-samples/chapter04/gitanjali-aref-step-8/\n",
            "  inflating: headfirst-git-samples/chapter04/gitanjali-aref-step-8/indoor-party.md  \n",
            "  inflating: headfirst-git-samples/chapter04/gitanjali-aref-step-8/gift-registry.md  \n",
            "  inflating: headfirst-git-samples/chapter04/gitanjali-aref-step-8/boardgame-venues.md  \n",
            "  inflating: headfirst-git-samples/chapter04/gitanjali-aref-step-8/guest-list.md  \n",
            "  inflating: headfirst-git-samples/chapter04/gitanjali-aref-step-8/invitation-card.md  \n",
            "   creating: headfirst-git-samples/chapter04/gitanjali-aref-step-8/.git/\n",
            "  inflating: headfirst-git-samples/chapter04/gitanjali-aref-step-8/.git/config  \n",
            "   creating: headfirst-git-samples/chapter04/gitanjali-aref-step-8/.git/objects/\n",
            "   creating: headfirst-git-samples/chapter04/gitanjali-aref-step-8/.git/objects/3e/\n",
            " extracting: headfirst-git-samples/chapter04/gitanjali-aref-step-8/.git/objects/3e/3e84705e36a9f457e8b4521403b173155b1647  \n",
            "   creating: headfirst-git-samples/chapter04/gitanjali-aref-step-8/.git/objects/0b/\n",
            " extracting: headfirst-git-samples/chapter04/gitanjali-aref-step-8/.git/objects/0b/08ab8ee4b9ed2c0b4e60c565badba1f0e2ec6f  \n",
            "   creating: headfirst-git-samples/chapter04/gitanjali-aref-step-8/.git/objects/d1/\n",
            " extracting: headfirst-git-samples/chapter04/gitanjali-aref-step-8/.git/objects/d1/63c0d64b1669ade9e0cec391443ae79cfbbca2  \n",
            "   creating: headfirst-git-samples/chapter04/gitanjali-aref-step-8/.git/objects/cf/\n",
            " extracting: headfirst-git-samples/chapter04/gitanjali-aref-step-8/.git/objects/cf/5e7181bb23501f748963ba713cfd720ad76e1c  \n",
            "   creating: headfirst-git-samples/chapter04/gitanjali-aref-step-8/.git/objects/20/\n",
            " extracting: headfirst-git-samples/chapter04/gitanjali-aref-step-8/.git/objects/20/64ec59644588a62abd69d7036821485cf787ed  \n",
            "   creating: headfirst-git-samples/chapter04/gitanjali-aref-step-8/.git/objects/pack/\n",
            "   creating: headfirst-git-samples/chapter04/gitanjali-aref-step-8/.git/objects/42/\n",
            " extracting: headfirst-git-samples/chapter04/gitanjali-aref-step-8/.git/objects/42/d6baf291891f1622532504faa596c89c5ef0e2  \n",
            "   creating: headfirst-git-samples/chapter04/gitanjali-aref-step-8/.git/objects/00/\n",
            " extracting: headfirst-git-samples/chapter04/gitanjali-aref-step-8/.git/objects/00/3927e10ee6768243d20c694519b865df803a10  \n",
            "   creating: headfirst-git-samples/chapter04/gitanjali-aref-step-8/.git/objects/6e/\n",
            " extracting: headfirst-git-samples/chapter04/gitanjali-aref-step-8/.git/objects/6e/166804b8deec71855cede069b57e8c518f5c66  \n",
            "   creating: headfirst-git-samples/chapter04/gitanjali-aref-step-8/.git/objects/info/\n",
            "   creating: headfirst-git-samples/chapter04/gitanjali-aref-step-8/.git/objects/65/\n",
            " extracting: headfirst-git-samples/chapter04/gitanjali-aref-step-8/.git/objects/65/7aba9ea5e12a0a77728fd43c58b7fdc54c433e  \n",
            "   creating: headfirst-git-samples/chapter04/gitanjali-aref-step-8/.git/objects/6c/\n",
            " extracting: headfirst-git-samples/chapter04/gitanjali-aref-step-8/.git/objects/6c/5f06eaf44114d882ca8b019e8aa0fac125cd9c  \n",
            " extracting: headfirst-git-samples/chapter04/gitanjali-aref-step-8/.git/objects/6c/a6defc7adf5c20654071d833a5a1485351ae64  \n",
            " extracting: headfirst-git-samples/chapter04/gitanjali-aref-step-8/.git/objects/6c/0f797adfe6a45c34948e8112693bf55bf631dd  \n",
            "   creating: headfirst-git-samples/chapter04/gitanjali-aref-step-8/.git/objects/39/\n",
            " extracting: headfirst-git-samples/chapter04/gitanjali-aref-step-8/.git/objects/39/107a6bb009137a74ce22e2b90eb20066be0897  \n",
            "   creating: headfirst-git-samples/chapter04/gitanjali-aref-step-8/.git/objects/ef/\n",
            " extracting: headfirst-git-samples/chapter04/gitanjali-aref-step-8/.git/objects/ef/a799db0130435103964743c5f112e46e30904a  \n",
            "   creating: headfirst-git-samples/chapter04/gitanjali-aref-step-8/.git/objects/c3/\n",
            " extracting: headfirst-git-samples/chapter04/gitanjali-aref-step-8/.git/objects/c3/684a0c0da43095f836d9b2da5235dd0b6bde69  \n",
            "   creating: headfirst-git-samples/chapter04/gitanjali-aref-step-8/.git/objects/e7/\n",
            " extracting: headfirst-git-samples/chapter04/gitanjali-aref-step-8/.git/objects/e7/591aeab82bae312b6b2747264330e64e8833ab  \n",
            "   creating: headfirst-git-samples/chapter04/gitanjali-aref-step-8/.git/objects/8d/\n",
            " extracting: headfirst-git-samples/chapter04/gitanjali-aref-step-8/.git/objects/8d/704f84c8f466daba4321affb1101813c15b2d2  \n",
            "   creating: headfirst-git-samples/chapter04/gitanjali-aref-step-8/.git/objects/2b/\n",
            " extracting: headfirst-git-samples/chapter04/gitanjali-aref-step-8/.git/objects/2b/0f532f81ad1103dc0f364bd9b7626fcd49370b  \n",
            " extracting: headfirst-git-samples/chapter04/gitanjali-aref-step-8/.git/HEAD  \n",
            "   creating: headfirst-git-samples/chapter04/gitanjali-aref-step-8/.git/info/\n",
            "  inflating: headfirst-git-samples/chapter04/gitanjali-aref-step-8/.git/info/exclude  \n",
            "   creating: headfirst-git-samples/chapter04/gitanjali-aref-step-8/.git/logs/\n",
            "  inflating: headfirst-git-samples/chapter04/gitanjali-aref-step-8/.git/logs/HEAD  \n",
            "   creating: headfirst-git-samples/chapter04/gitanjali-aref-step-8/.git/logs/refs/\n",
            "   creating: headfirst-git-samples/chapter04/gitanjali-aref-step-8/.git/logs/refs/heads/\n",
            "  inflating: headfirst-git-samples/chapter04/gitanjali-aref-step-8/.git/logs/refs/heads/boardgame-night  \n",
            "  inflating: headfirst-git-samples/chapter04/gitanjali-aref-step-8/.git/logs/refs/heads/glamping-trip  \n",
            "  inflating: headfirst-git-samples/chapter04/gitanjali-aref-step-8/.git/logs/refs/heads/main  \n",
            "  inflating: headfirst-git-samples/chapter04/gitanjali-aref-step-8/.git/description  \n",
            "   creating: headfirst-git-samples/chapter04/gitanjali-aref-step-8/.git/hooks/\n",
            "  inflating: headfirst-git-samples/chapter04/gitanjali-aref-step-8/.git/hooks/commit-msg.sample  \n",
            "  inflating: headfirst-git-samples/chapter04/gitanjali-aref-step-8/.git/hooks/pre-rebase.sample  \n",
            "  inflating: headfirst-git-samples/chapter04/gitanjali-aref-step-8/.git/hooks/pre-commit.sample  \n",
            "  inflating: headfirst-git-samples/chapter04/gitanjali-aref-step-8/.git/hooks/applypatch-msg.sample  \n",
            "  inflating: headfirst-git-samples/chapter04/gitanjali-aref-step-8/.git/hooks/fsmonitor-watchman.sample  \n",
            "  inflating: headfirst-git-samples/chapter04/gitanjali-aref-step-8/.git/hooks/pre-receive.sample  \n",
            "  inflating: headfirst-git-samples/chapter04/gitanjali-aref-step-8/.git/hooks/prepare-commit-msg.sample  \n",
            "  inflating: headfirst-git-samples/chapter04/gitanjali-aref-step-8/.git/hooks/post-update.sample  \n",
            "  inflating: headfirst-git-samples/chapter04/gitanjali-aref-step-8/.git/hooks/pre-merge-commit.sample  \n",
            "  inflating: headfirst-git-samples/chapter04/gitanjali-aref-step-8/.git/hooks/pre-applypatch.sample  \n",
            "  inflating: headfirst-git-samples/chapter04/gitanjali-aref-step-8/.git/hooks/pre-push.sample  \n",
            "  inflating: headfirst-git-samples/chapter04/gitanjali-aref-step-8/.git/hooks/update.sample  \n",
            "  inflating: headfirst-git-samples/chapter04/gitanjali-aref-step-8/.git/hooks/push-to-checkout.sample  \n",
            "   creating: headfirst-git-samples/chapter04/gitanjali-aref-step-8/.git/refs/\n",
            "   creating: headfirst-git-samples/chapter04/gitanjali-aref-step-8/.git/refs/heads/\n",
            " extracting: headfirst-git-samples/chapter04/gitanjali-aref-step-8/.git/refs/heads/boardgame-night  \n",
            " extracting: headfirst-git-samples/chapter04/gitanjali-aref-step-8/.git/refs/heads/glamping-trip  \n",
            " extracting: headfirst-git-samples/chapter04/gitanjali-aref-step-8/.git/refs/heads/main  \n",
            "   creating: headfirst-git-samples/chapter04/gitanjali-aref-step-8/.git/refs/tags/\n",
            "  inflating: headfirst-git-samples/chapter04/gitanjali-aref-step-8/.git/index  \n",
            "  inflating: headfirst-git-samples/chapter04/gitanjali-aref-step-8/.git/COMMIT_EDITMSG  \n",
            "   creating: headfirst-git-samples/chapter08/\n",
            "  inflating: headfirst-git-samples/chapter08/README.md  \n",
            "   creating: headfirst-git-samples/chapter01/\n",
            "  inflating: headfirst-git-samples/chapter01/Checklist-1.md  \n",
            "  inflating: headfirst-git-samples/chapter01/README.md  \n",
            "  inflating: headfirst-git-samples/chapter01/Checklist-2.md  \n",
            "  inflating: headfirst-git-samples/chapter01/Checklist-3.md  \n",
            "   creating: headfirst-git-samples/chapter06/\n",
            "  inflating: headfirst-git-samples/chapter06/FAQ-3.md  \n",
            "  inflating: headfirst-git-samples/chapter06/FAQ-2.md  \n",
            "  inflating: headfirst-git-samples/chapter06/Profile-1.md  \n",
            "  inflating: headfirst-git-samples/chapter06/README.md  \n",
            "  inflating: headfirst-git-samples/chapter06/Profile-2.md  \n",
            "  inflating: headfirst-git-samples/chapter06/FAQ-1.md  \n",
            "  inflating: headfirst-git-samples/chapter06/FAQ-4.md  \n",
            "  inflating: headfirst-git-samples/chapter06/Profile-3.md  \n",
            "   creating: headfirst-git-samples/chapter07/\n",
            "  inflating: headfirst-git-samples/chapter07/drinks-2.md  \n",
            "  inflating: headfirst-git-samples/chapter07/appetizers-2.md  \n",
            " extracting: headfirst-git-samples/chapter07/pickaxe-3.md  \n",
            "  inflating: headfirst-git-samples/chapter07/appetizers-3.md  \n",
            " extracting: headfirst-git-samples/chapter07/pickaxe-2.md  \n",
            "  inflating: headfirst-git-samples/chapter07/drinks-3.md  \n",
            "  inflating: headfirst-git-samples/chapter07/dinner-1.md  \n",
            "   creating: headfirst-git-samples/chapter07/gitanjali-aref-wedding-plans/\n",
            "  inflating: headfirst-git-samples/chapter07/gitanjali-aref-wedding-plans/README.md  \n",
            "  inflating: headfirst-git-samples/chapter07/gitanjali-aref-wedding-plans/dinner.md  \n",
            "  inflating: headfirst-git-samples/chapter07/gitanjali-aref-wedding-plans/drinks.md  \n",
            "   creating: headfirst-git-samples/chapter07/gitanjali-aref-wedding-plans/.git/\n",
            "  inflating: headfirst-git-samples/chapter07/gitanjali-aref-wedding-plans/.git/config  \n",
            "   creating: headfirst-git-samples/chapter07/gitanjali-aref-wedding-plans/.git/objects/\n",
            "   creating: headfirst-git-samples/chapter07/gitanjali-aref-wedding-plans/.git/objects/57/\n",
            " extracting: headfirst-git-samples/chapter07/gitanjali-aref-wedding-plans/.git/objects/57/8e2594f0ba3a1696ee3a865e9f43f793c1b0f6  \n",
            "   creating: headfirst-git-samples/chapter07/gitanjali-aref-wedding-plans/.git/objects/3b/\n",
            " extracting: headfirst-git-samples/chapter07/gitanjali-aref-wedding-plans/.git/objects/3b/31f1155992e2d3b8358a4eb8a4926be6bb29c8  \n",
            "   creating: headfirst-git-samples/chapter07/gitanjali-aref-wedding-plans/.git/objects/0b/\n",
            " extracting: headfirst-git-samples/chapter07/gitanjali-aref-wedding-plans/.git/objects/0b/90575defe5f7c9d4783d5bcbdb9512ed48897f  \n",
            "   creating: headfirst-git-samples/chapter07/gitanjali-aref-wedding-plans/.git/objects/93/\n",
            " extracting: headfirst-git-samples/chapter07/gitanjali-aref-wedding-plans/.git/objects/93/c7e9133c0e7cb5629f2d1380f77521d384cc6e  \n",
            "   creating: headfirst-git-samples/chapter07/gitanjali-aref-wedding-plans/.git/objects/df/\n",
            " extracting: headfirst-git-samples/chapter07/gitanjali-aref-wedding-plans/.git/objects/df/5fde078b961829243a3c7a195f6d537314ba3b  \n",
            "   creating: headfirst-git-samples/chapter07/gitanjali-aref-wedding-plans/.git/objects/d8/\n",
            " extracting: headfirst-git-samples/chapter07/gitanjali-aref-wedding-plans/.git/objects/d8/34c87ddd7591d0d5fdfd3027ddd904a67cd618  \n",
            "   creating: headfirst-git-samples/chapter07/gitanjali-aref-wedding-plans/.git/objects/c9/\n",
            " extracting: headfirst-git-samples/chapter07/gitanjali-aref-wedding-plans/.git/objects/c9/63726d8ba41f15ea2393b4246dd5405f772dfe  \n",
            "   creating: headfirst-git-samples/chapter07/gitanjali-aref-wedding-plans/.git/objects/fc/\n",
            " extracting: headfirst-git-samples/chapter07/gitanjali-aref-wedding-plans/.git/objects/fc/bb433a70670b44923a162c5e819db0482e83f7  \n",
            "   creating: headfirst-git-samples/chapter07/gitanjali-aref-wedding-plans/.git/objects/pack/\n",
            "   creating: headfirst-git-samples/chapter07/gitanjali-aref-wedding-plans/.git/objects/1a/\n",
            " extracting: headfirst-git-samples/chapter07/gitanjali-aref-wedding-plans/.git/objects/1a/d31f525f1a9eb929310d388aebd1ec5d1f5f4a  \n",
            "   creating: headfirst-git-samples/chapter07/gitanjali-aref-wedding-plans/.git/objects/8a/\n",
            " extracting: headfirst-git-samples/chapter07/gitanjali-aref-wedding-plans/.git/objects/8a/eb679cb70c17bcf9d0e39991a50628e3ba3fd2  \n",
            "   creating: headfirst-git-samples/chapter07/gitanjali-aref-wedding-plans/.git/objects/10/\n",
            " extracting: headfirst-git-samples/chapter07/gitanjali-aref-wedding-plans/.git/objects/10/d16ca6b9c57ea198687361d40c467f3ffec20d  \n",
            "   creating: headfirst-git-samples/chapter07/gitanjali-aref-wedding-plans/.git/objects/6b/\n",
            " extracting: headfirst-git-samples/chapter07/gitanjali-aref-wedding-plans/.git/objects/6b/11ec8cc2b98e799c5a5bd1c480ce214b6e564b  \n",
            "   creating: headfirst-git-samples/chapter07/gitanjali-aref-wedding-plans/.git/objects/info/\n",
            "   creating: headfirst-git-samples/chapter07/gitanjali-aref-wedding-plans/.git/objects/99/\n",
            " extracting: headfirst-git-samples/chapter07/gitanjali-aref-wedding-plans/.git/objects/99/fd56e6628bb154a64b8171f8f3af2be2f96c6e  \n",
            "   creating: headfirst-git-samples/chapter07/gitanjali-aref-wedding-plans/.git/objects/0f/\n",
            " extracting: headfirst-git-samples/chapter07/gitanjali-aref-wedding-plans/.git/objects/0f/cee53eaf55dd85e4616131431664dc9a4479ce  \n",
            "   creating: headfirst-git-samples/chapter07/gitanjali-aref-wedding-plans/.git/objects/64/\n",
            " extracting: headfirst-git-samples/chapter07/gitanjali-aref-wedding-plans/.git/objects/64/c1f6e0afb716175af36c31867905f3b9e0833e  \n",
            "   creating: headfirst-git-samples/chapter07/gitanjali-aref-wedding-plans/.git/objects/d3/\n",
            " extracting: headfirst-git-samples/chapter07/gitanjali-aref-wedding-plans/.git/objects/d3/6c9830823a17c42025713dcbc3bc29bbb4ce36  \n",
            "   creating: headfirst-git-samples/chapter07/gitanjali-aref-wedding-plans/.git/objects/b6/\n",
            " extracting: headfirst-git-samples/chapter07/gitanjali-aref-wedding-plans/.git/objects/b6/c8c826ed98583a175ea4616ba9aad48ec0b1ad  \n",
            "   creating: headfirst-git-samples/chapter07/gitanjali-aref-wedding-plans/.git/objects/b0/\n",
            " extracting: headfirst-git-samples/chapter07/gitanjali-aref-wedding-plans/.git/objects/b0/86bef8f829d3d3424c0684f9cb6e06f685c53f  \n",
            "   creating: headfirst-git-samples/chapter07/gitanjali-aref-wedding-plans/.git/objects/c3/\n",
            " extracting: headfirst-git-samples/chapter07/gitanjali-aref-wedding-plans/.git/objects/c3/668177ee381e0e58c25447b6c36d8eee23b8fe  \n",
            "   creating: headfirst-git-samples/chapter07/gitanjali-aref-wedding-plans/.git/objects/e8/\n",
            " extracting: headfirst-git-samples/chapter07/gitanjali-aref-wedding-plans/.git/objects/e8/a8aa4bae3ede20a605501cd6df4aa8bc558cd1  \n",
            "   creating: headfirst-git-samples/chapter07/gitanjali-aref-wedding-plans/.git/objects/e9/\n",
            " extracting: headfirst-git-samples/chapter07/gitanjali-aref-wedding-plans/.git/objects/e9/beff319ce7a28fe4abb062f50b026e70668fc4  \n",
            "   creating: headfirst-git-samples/chapter07/gitanjali-aref-wedding-plans/.git/objects/ce/\n",
            " extracting: headfirst-git-samples/chapter07/gitanjali-aref-wedding-plans/.git/objects/ce/eaf08c646bca6843dcec21ae408480b7f7fba5  \n",
            "   creating: headfirst-git-samples/chapter07/gitanjali-aref-wedding-plans/.git/objects/41/\n",
            " extracting: headfirst-git-samples/chapter07/gitanjali-aref-wedding-plans/.git/objects/41/190d47db66f46c04edfb0f14c2605185daa0be  \n",
            "   creating: headfirst-git-samples/chapter07/gitanjali-aref-wedding-plans/.git/objects/23/\n",
            " extracting: headfirst-git-samples/chapter07/gitanjali-aref-wedding-plans/.git/objects/23/16face6fdaa12a76eb8a3f08720af97a95aaa1  \n",
            "   creating: headfirst-git-samples/chapter07/gitanjali-aref-wedding-plans/.git/objects/76/\n",
            " extracting: headfirst-git-samples/chapter07/gitanjali-aref-wedding-plans/.git/objects/76/b0a3595807a413aa056503cf762242b8d7cbb8  \n",
            "   creating: headfirst-git-samples/chapter07/gitanjali-aref-wedding-plans/.git/objects/2e/\n",
            " extracting: headfirst-git-samples/chapter07/gitanjali-aref-wedding-plans/.git/objects/2e/a3b459770c40982d49d0e1885e76457a2eadfe  \n",
            "   creating: headfirst-git-samples/chapter07/gitanjali-aref-wedding-plans/.git/objects/78/\n",
            " extracting: headfirst-git-samples/chapter07/gitanjali-aref-wedding-plans/.git/objects/78/86bce9d9a0fde936ef4696a41d14f89f5b4c18  \n",
            " extracting: headfirst-git-samples/chapter07/gitanjali-aref-wedding-plans/.git/HEAD  \n",
            "   creating: headfirst-git-samples/chapter07/gitanjali-aref-wedding-plans/.git/info/\n",
            "  inflating: headfirst-git-samples/chapter07/gitanjali-aref-wedding-plans/.git/info/exclude  \n",
            "   creating: headfirst-git-samples/chapter07/gitanjali-aref-wedding-plans/.git/logs/\n",
            "  inflating: headfirst-git-samples/chapter07/gitanjali-aref-wedding-plans/.git/logs/HEAD  \n",
            "   creating: headfirst-git-samples/chapter07/gitanjali-aref-wedding-plans/.git/logs/refs/\n",
            "   creating: headfirst-git-samples/chapter07/gitanjali-aref-wedding-plans/.git/logs/refs/heads/\n",
            "  inflating: headfirst-git-samples/chapter07/gitanjali-aref-wedding-plans/.git/logs/refs/heads/master  \n",
            "   creating: headfirst-git-samples/chapter07/gitanjali-aref-wedding-plans/.git/logs/refs/remotes/\n",
            "   creating: headfirst-git-samples/chapter07/gitanjali-aref-wedding-plans/.git/logs/refs/remotes/origin/\n",
            "  inflating: headfirst-git-samples/chapter07/gitanjali-aref-wedding-plans/.git/logs/refs/remotes/origin/master  \n",
            "  inflating: headfirst-git-samples/chapter07/gitanjali-aref-wedding-plans/.git/description  \n",
            "   creating: headfirst-git-samples/chapter07/gitanjali-aref-wedding-plans/.git/hooks/\n",
            "  inflating: headfirst-git-samples/chapter07/gitanjali-aref-wedding-plans/.git/hooks/commit-msg.sample  \n",
            "  inflating: headfirst-git-samples/chapter07/gitanjali-aref-wedding-plans/.git/hooks/pre-rebase.sample  \n",
            "  inflating: headfirst-git-samples/chapter07/gitanjali-aref-wedding-plans/.git/hooks/pre-commit.sample  \n",
            "  inflating: headfirst-git-samples/chapter07/gitanjali-aref-wedding-plans/.git/hooks/applypatch-msg.sample  \n",
            "  inflating: headfirst-git-samples/chapter07/gitanjali-aref-wedding-plans/.git/hooks/fsmonitor-watchman.sample  \n",
            "  inflating: headfirst-git-samples/chapter07/gitanjali-aref-wedding-plans/.git/hooks/pre-receive.sample  \n",
            "  inflating: headfirst-git-samples/chapter07/gitanjali-aref-wedding-plans/.git/hooks/prepare-commit-msg.sample  \n",
            "  inflating: headfirst-git-samples/chapter07/gitanjali-aref-wedding-plans/.git/hooks/post-update.sample  \n",
            "  inflating: headfirst-git-samples/chapter07/gitanjali-aref-wedding-plans/.git/hooks/pre-merge-commit.sample  \n",
            "  inflating: headfirst-git-samples/chapter07/gitanjali-aref-wedding-plans/.git/hooks/pre-applypatch.sample  \n",
            "  inflating: headfirst-git-samples/chapter07/gitanjali-aref-wedding-plans/.git/hooks/pre-push.sample  \n",
            "  inflating: headfirst-git-samples/chapter07/gitanjali-aref-wedding-plans/.git/hooks/update.sample  \n",
            "  inflating: headfirst-git-samples/chapter07/gitanjali-aref-wedding-plans/.git/hooks/push-to-checkout.sample  \n",
            "   creating: headfirst-git-samples/chapter07/gitanjali-aref-wedding-plans/.git/refs/\n",
            "   creating: headfirst-git-samples/chapter07/gitanjali-aref-wedding-plans/.git/refs/heads/\n",
            " extracting: headfirst-git-samples/chapter07/gitanjali-aref-wedding-plans/.git/refs/heads/master  \n",
            "   creating: headfirst-git-samples/chapter07/gitanjali-aref-wedding-plans/.git/refs/tags/\n",
            "   creating: headfirst-git-samples/chapter07/gitanjali-aref-wedding-plans/.git/refs/remotes/\n",
            "   creating: headfirst-git-samples/chapter07/gitanjali-aref-wedding-plans/.git/refs/remotes/origin/\n",
            " extracting: headfirst-git-samples/chapter07/gitanjali-aref-wedding-plans/.git/refs/remotes/origin/master  \n",
            "  inflating: headfirst-git-samples/chapter07/gitanjali-aref-wedding-plans/.git/index  \n",
            " extracting: headfirst-git-samples/chapter07/gitanjali-aref-wedding-plans/.git/COMMIT_EDITMSG  \n",
            "  inflating: headfirst-git-samples/chapter07/gitanjali-aref-wedding-plans/appetizers.md  \n",
            "  inflating: headfirst-git-samples/chapter07/README.md  \n",
            "   creating: headfirst-git-samples/chapter07/why-pickaxe/\n",
            " extracting: headfirst-git-samples/chapter07/why-pickaxe/pickaxe.md  \n",
            "   creating: headfirst-git-samples/chapter07/why-pickaxe/.git/\n",
            "  inflating: headfirst-git-samples/chapter07/why-pickaxe/.git/config  \n",
            "   creating: headfirst-git-samples/chapter07/why-pickaxe/.git/objects/\n",
            "   creating: headfirst-git-samples/chapter07/why-pickaxe/.git/objects/pack/\n",
            "   creating: headfirst-git-samples/chapter07/why-pickaxe/.git/objects/45/\n",
            " extracting: headfirst-git-samples/chapter07/why-pickaxe/.git/objects/45/df91c9dad79993909f69f590f3b36ab4c66996  \n",
            "   creating: headfirst-git-samples/chapter07/why-pickaxe/.git/objects/info/\n",
            "   creating: headfirst-git-samples/chapter07/why-pickaxe/.git/objects/55/\n",
            " extracting: headfirst-git-samples/chapter07/why-pickaxe/.git/objects/55/55624d4e850c05cc1350283cde80d304fe703e  \n",
            "   creating: headfirst-git-samples/chapter07/why-pickaxe/.git/objects/d2/\n",
            " extracting: headfirst-git-samples/chapter07/why-pickaxe/.git/objects/d2/54d74106c20c92219ccb0d31306fd453be502b  \n",
            "   creating: headfirst-git-samples/chapter07/why-pickaxe/.git/objects/b7/\n",
            " extracting: headfirst-git-samples/chapter07/why-pickaxe/.git/objects/b7/6b2b04b317cc6951fd6ff1c64ca7eea2345bb2  \n",
            "   creating: headfirst-git-samples/chapter07/why-pickaxe/.git/objects/c3/\n",
            " extracting: headfirst-git-samples/chapter07/why-pickaxe/.git/objects/c3/a24c4f62aee81ec81612668ce8d44111818ff4  \n",
            "   creating: headfirst-git-samples/chapter07/why-pickaxe/.git/objects/f0/\n",
            " extracting: headfirst-git-samples/chapter07/why-pickaxe/.git/objects/f0/3f4650701b0142d8e146f68c9e388567a89949  \n",
            "   creating: headfirst-git-samples/chapter07/why-pickaxe/.git/objects/83/\n",
            " extracting: headfirst-git-samples/chapter07/why-pickaxe/.git/objects/83/2d94131e0e8c1ed4a7624bddfa01d087e6c1c5  \n",
            "   creating: headfirst-git-samples/chapter07/why-pickaxe/.git/objects/84/\n",
            " extracting: headfirst-git-samples/chapter07/why-pickaxe/.git/objects/84/102df4576c91e5176899893215babee5ad1215  \n",
            "   creating: headfirst-git-samples/chapter07/why-pickaxe/.git/objects/8c/\n",
            " extracting: headfirst-git-samples/chapter07/why-pickaxe/.git/objects/8c/05de2eaf10764d0337a799a2ca7b423f8904ba  \n",
            " extracting: headfirst-git-samples/chapter07/why-pickaxe/.git/HEAD  \n",
            "   creating: headfirst-git-samples/chapter07/why-pickaxe/.git/info/\n",
            "  inflating: headfirst-git-samples/chapter07/why-pickaxe/.git/info/exclude  \n",
            "   creating: headfirst-git-samples/chapter07/why-pickaxe/.git/logs/\n",
            "  inflating: headfirst-git-samples/chapter07/why-pickaxe/.git/logs/HEAD  \n",
            "   creating: headfirst-git-samples/chapter07/why-pickaxe/.git/logs/refs/\n",
            "   creating: headfirst-git-samples/chapter07/why-pickaxe/.git/logs/refs/heads/\n",
            "  inflating: headfirst-git-samples/chapter07/why-pickaxe/.git/logs/refs/heads/master  \n",
            "  inflating: headfirst-git-samples/chapter07/why-pickaxe/.git/description  \n",
            "   creating: headfirst-git-samples/chapter07/why-pickaxe/.git/hooks/\n",
            "  inflating: headfirst-git-samples/chapter07/why-pickaxe/.git/hooks/commit-msg.sample  \n",
            "  inflating: headfirst-git-samples/chapter07/why-pickaxe/.git/hooks/pre-rebase.sample  \n",
            "  inflating: headfirst-git-samples/chapter07/why-pickaxe/.git/hooks/pre-commit.sample  \n",
            "  inflating: headfirst-git-samples/chapter07/why-pickaxe/.git/hooks/applypatch-msg.sample  \n",
            "  inflating: headfirst-git-samples/chapter07/why-pickaxe/.git/hooks/fsmonitor-watchman.sample  \n",
            "  inflating: headfirst-git-samples/chapter07/why-pickaxe/.git/hooks/pre-receive.sample  \n",
            "  inflating: headfirst-git-samples/chapter07/why-pickaxe/.git/hooks/prepare-commit-msg.sample  \n",
            "  inflating: headfirst-git-samples/chapter07/why-pickaxe/.git/hooks/post-update.sample  \n",
            "  inflating: headfirst-git-samples/chapter07/why-pickaxe/.git/hooks/pre-merge-commit.sample  \n",
            "  inflating: headfirst-git-samples/chapter07/why-pickaxe/.git/hooks/pre-applypatch.sample  \n",
            "  inflating: headfirst-git-samples/chapter07/why-pickaxe/.git/hooks/pre-push.sample  \n",
            "  inflating: headfirst-git-samples/chapter07/why-pickaxe/.git/hooks/update.sample  \n",
            "  inflating: headfirst-git-samples/chapter07/why-pickaxe/.git/hooks/push-to-checkout.sample  \n",
            "   creating: headfirst-git-samples/chapter07/why-pickaxe/.git/refs/\n",
            "   creating: headfirst-git-samples/chapter07/why-pickaxe/.git/refs/heads/\n",
            "  inflating: headfirst-git-samples/chapter07/why-pickaxe/.git/refs/heads/master  \n",
            "   creating: headfirst-git-samples/chapter07/why-pickaxe/.git/refs/tags/\n",
            "  inflating: headfirst-git-samples/chapter07/why-pickaxe/.git/index  \n",
            " extracting: headfirst-git-samples/chapter07/why-pickaxe/.git/COMMIT_EDITMSG  \n",
            "  inflating: headfirst-git-samples/chapter07/dinner-3.md  \n",
            "  inflating: headfirst-git-samples/chapter07/dinner-2.md  \n",
            " extracting: headfirst-git-samples/chapter07/pickaxe-1.md  \n",
            "  inflating: headfirst-git-samples/chapter07/appetizers-4.md  \n",
            "  inflating: headfirst-git-samples/chapter07/drinks-1.md  \n",
            "  inflating: headfirst-git-samples/chapter07/appetizers-1.md  \n",
            "   creating: headfirst-git-samples/chapter09/\n",
            "  inflating: headfirst-git-samples/chapter09/README.md  \n",
            "  inflating: headfirst-git-samples/chapter09/stashes.md  \n",
            "  inflating: headfirst-git-samples/chapter09/reflog.md  \n"
          ]
        }
      ]
    },
    {
      "cell_type": "markdown",
      "source": [
        "# Recipe example"
      ],
      "metadata": {
        "id": "SXLtM1b3kF3J"
      }
    },
    {
      "cell_type": "code",
      "source": [
        "%cd headfirst-git-samples/chapter03/recipes"
      ],
      "metadata": {
        "colab": {
          "base_uri": "https://localhost:8080/"
        },
        "id": "Wf7rNxkWkAWA",
        "outputId": "749c7d32-235e-44b9-f213-2dcc5cd9fae6"
      },
      "execution_count": null,
      "outputs": [
        {
          "output_type": "stream",
          "name": "stdout",
          "text": [
            "/content/headfirst-git-samples/chapter03/recipes\n"
          ]
        }
      ]
    },
    {
      "cell_type": "code",
      "source": [
        "!git status"
      ],
      "metadata": {
        "colab": {
          "base_uri": "https://localhost:8080/"
        },
        "id": "nwNSHNmZkSO-",
        "outputId": "2c22988d-aa13-4943-a221-9739f498fdae"
      },
      "execution_count": null,
      "outputs": [
        {
          "output_type": "stream",
          "name": "stdout",
          "text": [
            "On branch spicy-version\n",
            "nothing to commit, working tree clean\n"
          ]
        }
      ]
    },
    {
      "cell_type": "code",
      "source": [
        "!git branch -v"
      ],
      "metadata": {
        "colab": {
          "base_uri": "https://localhost:8080/"
        },
        "id": "0g93P6s5kUPl",
        "outputId": "005679d1-70c1-4920-ca50-98cc13796368"
      },
      "execution_count": null,
      "outputs": [
        {
          "output_type": "stream",
          "name": "stdout",
          "text": [
            "  different-base\u001b[m 0065b8a cut down salt\n",
            "  master        \u001b[m 5db2b68 first attempt\n",
            "* \u001b[32mspicy-version \u001b[m 8d670e9 update recipe name\n"
          ]
        }
      ]
    },
    {
      "cell_type": "markdown",
      "source": [
        "## Visualize history"
      ],
      "metadata": {
        "id": "Udhd3h_6kjbq"
      }
    },
    {
      "cell_type": "code",
      "source": [
        "!git log"
      ],
      "metadata": {
        "colab": {
          "base_uri": "https://localhost:8080/"
        },
        "id": "sdz46--pkWWA",
        "outputId": "a542941c-4e91-4101-c46e-c3ae0a0b97b4"
      },
      "execution_count": null,
      "outputs": [
        {
          "output_type": "stream",
          "name": "stdout",
          "text": [
            "\u001b[33mcommit 8d670e93e297b126fc0466caf37c0033b6c018ab\u001b[m\u001b[33m (\u001b[m\u001b[1;36mHEAD -> \u001b[m\u001b[1;32mspicy-version\u001b[m\u001b[33m)\u001b[m\n",
            "Author: Rosemary Berry <headchef@80s-diner.com>\n",
            "Date:   Mon Mar 15 18:52:50 2021 -0400\n",
            "\n",
            "    update recipe name\n",
            "\n",
            "\u001b[33mcommit 4cca5a7b3225a88c2df12bd157f5877bc3dded9e\u001b[m\n",
            "Author: Rosemary Berry <headchef@80s-diner.com>\n",
            "Date:   Mon Feb 15 17:24:41 2021 -0500\n",
            "\n",
            "    make it spicy\n",
            "\n",
            "\u001b[33mcommit 5db2b68c4cf2699e89fe1b526a7e4a171d83b2ef\u001b[m\u001b[33m (\u001b[m\u001b[1;32mmaster\u001b[m\u001b[33m)\u001b[m\n",
            "Author: Rosemary Berry <headchef@80s-diner.com>\n",
            "Date:   Sat Jan 2 19:22:59 2021 -0500\n",
            "\n",
            "    first attempt\n"
          ]
        }
      ]
    },
    {
      "cell_type": "code",
      "source": [
        "!git switch different-base\n",
        "!git log"
      ],
      "metadata": {
        "colab": {
          "base_uri": "https://localhost:8080/"
        },
        "id": "0MHBgluMkkzb",
        "outputId": "a19fd7b5-cb42-4891-a445-77c2384c3e70"
      },
      "execution_count": null,
      "outputs": [
        {
          "output_type": "stream",
          "name": "stdout",
          "text": [
            "Switched to branch 'different-base'\n",
            "\u001b[33mcommit 0065b8a0b8d6d4f2efc864c09437f8f5aa0b9773\u001b[m\u001b[33m (\u001b[m\u001b[1;36mHEAD -> \u001b[m\u001b[1;32mdifferent-base\u001b[m\u001b[33m)\u001b[m\n",
            "Author: Rosemary Berry <headchef@80s-diner.com>\n",
            "Date:   Tue Jan 12 03:28:44 2021 -0500\n",
            "\n",
            "    cut down salt\n",
            "\n",
            "\u001b[33mcommit 549e0da551c2a6427fb7b281093702cb449261ed\u001b[m\n",
            "Author: Rosemary Berry <headchef@80s-diner.com>\n",
            "Date:   Fri Jan 8 23:04:50 2021 -0500\n",
            "\n",
            "    use sour cream\n",
            "\n",
            "\u001b[33mcommit 5db2b68c4cf2699e89fe1b526a7e4a171d83b2ef\u001b[m\u001b[33m (\u001b[m\u001b[1;32mmaster\u001b[m\u001b[33m)\u001b[m\n",
            "Author: Rosemary Berry <headchef@80s-diner.com>\n",
            "Date:   Sat Jan 2 19:22:59 2021 -0500\n",
            "\n",
            "    first attempt\n"
          ]
        }
      ]
    },
    {
      "cell_type": "code",
      "source": [
        "!git switch master\n",
        "!git log"
      ],
      "metadata": {
        "colab": {
          "base_uri": "https://localhost:8080/"
        },
        "id": "nqvkwilSk_xd",
        "outputId": "538b73bb-bd26-4623-9096-55f8845ad485"
      },
      "execution_count": null,
      "outputs": [
        {
          "output_type": "stream",
          "name": "stdout",
          "text": [
            "Switched to branch 'master'\n",
            "\u001b[33mcommit 5db2b68c4cf2699e89fe1b526a7e4a171d83b2ef\u001b[m\u001b[33m (\u001b[m\u001b[1;36mHEAD -> \u001b[m\u001b[1;32mmaster\u001b[m\u001b[33m)\u001b[m\n",
            "Author: Rosemary Berry <headchef@80s-diner.com>\n",
            "Date:   Sat Jan 2 19:22:59 2021 -0500\n",
            "\n",
            "    first attempt\n"
          ]
        }
      ]
    },
    {
      "cell_type": "code",
      "source": [
        "!git switch spicy-version"
      ],
      "metadata": {
        "colab": {
          "base_uri": "https://localhost:8080/"
        },
        "id": "Ekbv8nfLl-CX",
        "outputId": "387bd0a0-646e-4ed2-cd59-5ce99ba9b580"
      },
      "execution_count": null,
      "outputs": [
        {
          "output_type": "stream",
          "name": "stdout",
          "text": [
            "Switched to branch 'spicy-version'\n"
          ]
        }
      ]
    },
    {
      "cell_type": "code",
      "source": [
        "!git log --abbrev-commit"
      ],
      "metadata": {
        "colab": {
          "base_uri": "https://localhost:8080/"
        },
        "id": "HPjDStMIlXZf",
        "outputId": "fc34c35f-1be6-4045-f15c-3d9279154d1a"
      },
      "execution_count": null,
      "outputs": [
        {
          "output_type": "stream",
          "name": "stdout",
          "text": [
            "\u001b[33mcommit 8d670e9\u001b[m\u001b[33m (\u001b[m\u001b[1;36mHEAD -> \u001b[m\u001b[1;32mspicy-version\u001b[m\u001b[33m)\u001b[m\n",
            "Author: Rosemary Berry <headchef@80s-diner.com>\n",
            "Date:   Mon Mar 15 18:52:50 2021 -0400\n",
            "\n",
            "    update recipe name\n",
            "\n",
            "\u001b[33mcommit 4cca5a7\u001b[m\n",
            "Author: Rosemary Berry <headchef@80s-diner.com>\n",
            "Date:   Mon Feb 15 17:24:41 2021 -0500\n",
            "\n",
            "    make it spicy\n",
            "\n",
            "\u001b[33mcommit 5db2b68\u001b[m\u001b[33m (\u001b[m\u001b[1;32mmaster\u001b[m\u001b[33m)\u001b[m\n",
            "Author: Rosemary Berry <headchef@80s-diner.com>\n",
            "Date:   Sat Jan 2 19:22:59 2021 -0500\n",
            "\n",
            "    first attempt\n"
          ]
        }
      ]
    },
    {
      "cell_type": "code",
      "source": [
        "!git log --pretty=oneline"
      ],
      "metadata": {
        "colab": {
          "base_uri": "https://localhost:8080/"
        },
        "id": "a94pOmNhls-0",
        "outputId": "018264ec-2196-4875-d086-eb25b79ae4dd"
      },
      "execution_count": null,
      "outputs": [
        {
          "output_type": "stream",
          "name": "stdout",
          "text": [
            "\u001b[33m8d670e93e297b126fc0466caf37c0033b6c018ab\u001b[m\u001b[33m (\u001b[m\u001b[1;36mHEAD -> \u001b[m\u001b[1;32mspicy-version\u001b[m\u001b[33m)\u001b[m update recipe name\n",
            "\u001b[33m4cca5a7b3225a88c2df12bd157f5877bc3dded9e\u001b[m make it spicy\n",
            "\u001b[33m5db2b68c4cf2699e89fe1b526a7e4a171d83b2ef\u001b[m\u001b[33m (\u001b[m\u001b[1;32mmaster\u001b[m\u001b[33m)\u001b[m first attempt\n"
          ]
        }
      ]
    },
    {
      "cell_type": "code",
      "source": [
        "!git log --oneline"
      ],
      "metadata": {
        "colab": {
          "base_uri": "https://localhost:8080/"
        },
        "id": "GT4wgUzLlxX0",
        "outputId": "20211dd4-c5d9-417c-86d6-a39246592e9e"
      },
      "execution_count": null,
      "outputs": [
        {
          "output_type": "stream",
          "name": "stdout",
          "text": [
            "\u001b[33m8d670e9\u001b[m\u001b[33m (\u001b[m\u001b[1;36mHEAD -> \u001b[m\u001b[1;32mspicy-version\u001b[m\u001b[33m)\u001b[m update recipe name\n",
            "\u001b[33m4cca5a7\u001b[m make it spicy\n",
            "\u001b[33m5db2b68\u001b[m\u001b[33m (\u001b[m\u001b[1;32mmaster\u001b[m\u001b[33m)\u001b[m first attempt\n"
          ]
        }
      ]
    },
    {
      "cell_type": "code",
      "source": [
        "!git switch different-base\n",
        "!git log --oneline"
      ],
      "metadata": {
        "colab": {
          "base_uri": "https://localhost:8080/"
        },
        "id": "qJVbzYyqmT7a",
        "outputId": "0ceebef0-83cd-4b33-8f71-44590bd755a1"
      },
      "execution_count": null,
      "outputs": [
        {
          "output_type": "stream",
          "name": "stdout",
          "text": [
            "Already on 'different-base'\n",
            "\u001b[33m0065b8a\u001b[m\u001b[33m (\u001b[m\u001b[1;36mHEAD -> \u001b[m\u001b[1;32mdifferent-base\u001b[m\u001b[33m)\u001b[m cut down salt\n",
            "\u001b[33m549e0da\u001b[m use sour cream\n",
            "\u001b[33m5db2b68\u001b[m\u001b[33m (\u001b[m\u001b[1;32mmaster\u001b[m\u001b[33m)\u001b[m first attempt\n"
          ]
        }
      ]
    },
    {
      "cell_type": "code",
      "source": [
        "!git switch master\n",
        "!git log --oneline"
      ],
      "metadata": {
        "colab": {
          "base_uri": "https://localhost:8080/"
        },
        "id": "KltQ77hKmacH",
        "outputId": "7cf9b890-c671-4478-ef54-f1a36698eb2f"
      },
      "execution_count": null,
      "outputs": [
        {
          "output_type": "stream",
          "name": "stdout",
          "text": [
            "Switched to branch 'master'\n",
            "\u001b[33m5db2b68\u001b[m\u001b[33m (\u001b[m\u001b[1;36mHEAD -> \u001b[m\u001b[1;32mmaster\u001b[m\u001b[33m)\u001b[m first attempt\n"
          ]
        }
      ]
    },
    {
      "cell_type": "markdown",
      "source": [
        "## Logging all branches"
      ],
      "metadata": {
        "id": "7xgvoDQ3m6Zf"
      }
    },
    {
      "cell_type": "code",
      "source": [
        "!git log --all --oneline"
      ],
      "metadata": {
        "colab": {
          "base_uri": "https://localhost:8080/"
        },
        "id": "X3e-TDbvmiYv",
        "outputId": "da7ab8b6-a652-4fca-966c-3c24781117c1"
      },
      "execution_count": null,
      "outputs": [
        {
          "output_type": "stream",
          "name": "stdout",
          "text": [
            "\u001b[33m8d670e9\u001b[m\u001b[33m (\u001b[m\u001b[1;32mspicy-version\u001b[m\u001b[33m)\u001b[m update recipe name\n",
            "\u001b[33m4cca5a7\u001b[m make it spicy\n",
            "\u001b[33m0065b8a\u001b[m\u001b[33m (\u001b[m\u001b[1;32mdifferent-base\u001b[m\u001b[33m)\u001b[m cut down salt\n",
            "\u001b[33m549e0da\u001b[m use sour cream\n",
            "\u001b[33m5db2b68\u001b[m\u001b[33m (\u001b[m\u001b[1;36mHEAD -> \u001b[m\u001b[1;32mmaster\u001b[m\u001b[33m)\u001b[m first attempt\n"
          ]
        }
      ]
    },
    {
      "cell_type": "code",
      "source": [
        "!git log --all --oneline --graph"
      ],
      "metadata": {
        "colab": {
          "base_uri": "https://localhost:8080/"
        },
        "id": "iyE3V-nym9P4",
        "outputId": "1ad052dd-9dce-4027-b712-a9cadf095be2"
      },
      "execution_count": null,
      "outputs": [
        {
          "output_type": "stream",
          "name": "stdout",
          "text": [
            "* \u001b[33m8d670e9\u001b[m\u001b[33m (\u001b[m\u001b[1;32mspicy-version\u001b[m\u001b[33m)\u001b[m update recipe name\n",
            "* \u001b[33m4cca5a7\u001b[m make it spicy\n",
            "\u001b[31m|\u001b[m * \u001b[33m0065b8a\u001b[m\u001b[33m (\u001b[m\u001b[1;32mdifferent-base\u001b[m\u001b[33m)\u001b[m cut down salt\n",
            "\u001b[31m|\u001b[m * \u001b[33m549e0da\u001b[m use sour cream\n",
            "\u001b[31m|\u001b[m\u001b[31m/\u001b[m  \n",
            "* \u001b[33m5db2b68\u001b[m\u001b[33m (\u001b[m\u001b[1;36mHEAD -> \u001b[m\u001b[1;32mmaster\u001b[m\u001b[33m)\u001b[m first attempt\n"
          ]
        }
      ]
    },
    {
      "cell_type": "markdown",
      "source": [
        "# Git differences"
      ],
      "metadata": {
        "id": "m8kq6qXinxYD"
      }
    },
    {
      "cell_type": "code",
      "source": [
        "%cd ../resume"
      ],
      "metadata": {
        "colab": {
          "base_uri": "https://localhost:8080/"
        },
        "id": "M3y_uPJsnEjp",
        "outputId": "4feb3368-9a00-43b6-a790-32a5f9080b35"
      },
      "execution_count": null,
      "outputs": [
        {
          "output_type": "stream",
          "name": "stdout",
          "text": [
            "/content/headfirst-git-samples/chapter03/resume\n"
          ]
        }
      ]
    },
    {
      "cell_type": "code",
      "source": [
        "!git log --all --oneline --graph"
      ],
      "metadata": {
        "colab": {
          "base_uri": "https://localhost:8080/"
        },
        "id": "dn7KZSproBHS",
        "outputId": "b6ba38a5-49df-48a5-de82-0d34e78a9056"
      },
      "execution_count": null,
      "outputs": [
        {
          "output_type": "stream",
          "name": "stdout",
          "text": [
            "* \u001b[33m8842246\u001b[m\u001b[33m (\u001b[m\u001b[1;32madd-skills\u001b[m\u001b[33m)\u001b[m add accomplishment\n",
            "* \u001b[33mc96d092\u001b[m add language\n",
            "\u001b[31m|\u001b[m * \u001b[33m38a7176\u001b[m\u001b[33m (\u001b[m\u001b[1;36mHEAD -> \u001b[m\u001b[1;32medit-per-scotty\u001b[m\u001b[33m)\u001b[m update objective\n",
            "\u001b[31m|\u001b[m\u001b[31m/\u001b[m  \n",
            "* \u001b[33m1930f11\u001b[m\u001b[33m (\u001b[m\u001b[1;32mmaster\u001b[m\u001b[33m)\u001b[m basic resume outline\n"
          ]
        }
      ]
    },
    {
      "cell_type": "code",
      "source": [
        "!cat resume.md"
      ],
      "metadata": {
        "colab": {
          "base_uri": "https://localhost:8080/"
        },
        "id": "WwGITotTouH-",
        "outputId": "517cae96-5312-4866-f89d-dd1ace990f11"
      },
      "execution_count": null,
      "outputs": [
        {
          "output_type": "stream",
          "name": "stdout",
          "text": [
            "# Brigitte Strek\n",
            "\n",
            "## Objective\n",
            "To leverage my language skills as Chief Communications Officer\n",
            "\n",
            "## Languages\n",
            "English (native)\n",
            "Romulan (beginner)\n",
            "\n",
            "## Education\n",
            "Starfleet Academy, San Francisco, CA\n",
            "Valedictorian, Class of 2018\n",
            "\n",
            "## Experience\n",
            "2018-2020, Federation Starship Atlantis - Communications Ensign\n",
            "\n",
            "Routed incoming subspace communications to the correct officer\n"
          ]
        }
      ]
    },
    {
      "cell_type": "code",
      "source": [
        "%%writefile resume.md\n",
        "# Brigitte Strek\n",
        "\n",
        "## Objective\n",
        "To leverage my language skills as Chief Communications Officer\n",
        "\n",
        "## Languages\n",
        "English (native)\n",
        "Klingon (fluent)\n",
        "\n",
        "## Education\n",
        "Starfleet Academy, San Francisco, CA\n",
        "Valedictorian, Class of 2018\n",
        "\n",
        "## Experience\n",
        "2018-2020, Federation Starship Atlantis - Communications Ensign\n",
        "\n",
        "Routed all incoming subspace communications to the correct officer"
      ],
      "metadata": {
        "colab": {
          "base_uri": "https://localhost:8080/"
        },
        "id": "l33JK1CToDIF",
        "outputId": "96d2b594-3f1b-439e-d3b9-40a1dc49bbf6"
      },
      "execution_count": null,
      "outputs": [
        {
          "output_type": "stream",
          "name": "stdout",
          "text": [
            "Overwriting resume.md\n"
          ]
        }
      ]
    },
    {
      "cell_type": "code",
      "source": [
        "!git diff"
      ],
      "metadata": {
        "colab": {
          "base_uri": "https://localhost:8080/"
        },
        "id": "hgT4xHMvoX4Y",
        "outputId": "9e2d731e-e07c-4f79-e430-c9bdfc7b4a27"
      },
      "execution_count": null,
      "outputs": [
        {
          "output_type": "stream",
          "name": "stdout",
          "text": [
            "\u001b[1mdiff --git a/resume.md b/resume.md\u001b[m\n",
            "\u001b[1mindex fef1862..4f4ea8c 100644\u001b[m\n",
            "\u001b[1m--- a/resume.md\u001b[m\n",
            "\u001b[1m+++ b/resume.md\u001b[m\n",
            "\u001b[36m@@ -5,7 +5,7 @@\u001b[m \u001b[mTo leverage my language skills as Chief Communications Officer\u001b[m\n",
            " \u001b[m\n",
            " ## Languages\u001b[m\n",
            " English (native)\u001b[m\n",
            "\u001b[31m-Romulan (beginner)\u001b[m\n",
            "\u001b[32m+\u001b[m\u001b[32mKlingon (fluent)\u001b[m\n",
            " \u001b[m\n",
            " ## Education\u001b[m\n",
            " Starfleet Academy, San Francisco, CA\u001b[m\n",
            "\u001b[36m@@ -14,4 +14,4 @@\u001b[m \u001b[mValedictorian, Class of 2018\u001b[m\n",
            " ## Experience\u001b[m\n",
            " 2018-2020, Federation Starship Atlantis - Communications Ensign\u001b[m\n",
            " \u001b[m\n",
            "\u001b[31m-Routed incoming subspace communications to the correct officer\u001b[m\n",
            "\\ No newline at end of file\u001b[m\n",
            "\u001b[32m+\u001b[m\u001b[32mRouted all incoming subspace communications to the correct officer\u001b[m\n",
            "\\ No newline at end of file\u001b[m\n"
          ]
        }
      ]
    },
    {
      "cell_type": "code",
      "source": [
        "!git diff --word-diff"
      ],
      "metadata": {
        "colab": {
          "base_uri": "https://localhost:8080/"
        },
        "id": "Tmxj4BqMrJNS",
        "outputId": "405f0251-ddce-4823-e49d-a42ad9fb3aa5"
      },
      "execution_count": null,
      "outputs": [
        {
          "output_type": "stream",
          "name": "stdout",
          "text": [
            "\u001b[1mdiff --git a/resume.md b/resume.md\u001b[m\n",
            "\u001b[1mindex fef1862..4f4ea8c 100644\u001b[m\n",
            "\u001b[1m--- a/resume.md\u001b[m\n",
            "\u001b[1m+++ b/resume.md\u001b[m\n",
            "\u001b[36m@@ -5,7 +5,7 @@\u001b[m \u001b[mTo leverage my language skills as Chief Communications Officer\u001b[m\n",
            "\n",
            "## Languages\u001b[m\n",
            "English (native)\u001b[m\n",
            "\u001b[31m[-Romulan (beginner)-]\u001b[m\u001b[32m{+Klingon (fluent)+}\u001b[m\n",
            "\n",
            "## Education\u001b[m\n",
            "Starfleet Academy, San Francisco, CA\u001b[m\n",
            "\u001b[36m@@ -14,4 +14,4 @@\u001b[m \u001b[mValedictorian, Class of 2018\u001b[m\n",
            "## Experience\u001b[m\n",
            "2018-2020, Federation Starship Atlantis - Communications Ensign\u001b[m\n",
            "\n",
            "Routed \u001b[32m{+all+}\u001b[m incoming subspace communications to the correct officer\n"
          ]
        }
      ]
    },
    {
      "cell_type": "markdown",
      "source": [
        "## Editins saucy.md"
      ],
      "metadata": {
        "id": "RE_gprTrsWda"
      }
    },
    {
      "cell_type": "code",
      "source": [
        "%cd ../recipes"
      ],
      "metadata": {
        "colab": {
          "base_uri": "https://localhost:8080/"
        },
        "id": "6ts0OhZJreGo",
        "outputId": "f6017434-32dc-44f1-f5fa-254fe1a54b2f"
      },
      "execution_count": null,
      "outputs": [
        {
          "output_type": "stream",
          "name": "stdout",
          "text": [
            "/content/headfirst-git-samples/chapter03/recipes\n"
          ]
        }
      ]
    },
    {
      "cell_type": "code",
      "source": [
        "!git switch spicy-version"
      ],
      "metadata": {
        "colab": {
          "base_uri": "https://localhost:8080/"
        },
        "id": "dMkla5DEsffT",
        "outputId": "db18476f-e91b-4d04-b977-7dd6c5a37b7f"
      },
      "execution_count": null,
      "outputs": [
        {
          "output_type": "stream",
          "name": "stdout",
          "text": [
            "Switched to branch 'spicy-version'\n"
          ]
        }
      ]
    },
    {
      "cell_type": "code",
      "source": [
        "!cat saucy.md"
      ],
      "metadata": {
        "colab": {
          "base_uri": "https://localhost:8080/"
        },
        "id": "Ha51vExprk7G",
        "outputId": "56357700-2783-4eec-889f-c1528f44b2cc"
      },
      "execution_count": null,
      "outputs": [
        {
          "output_type": "stream",
          "name": "stdout",
          "text": [
            "# Spicy Green Mean Machine\n",
            "\n",
            "## Ingredients\n",
            "1/2 cup - Plain yogurt\n",
            "3-4 cloves - Garlic\n",
            "2 cups - Chopped cilantro\n",
            "1/4 cup - Olive oil\n",
            "1/4 cup - Lime juice\n",
            "1 pinch - Salt\n",
            "1 - Jalapeno, deseeded\n",
            "\n",
            "## Instructions\n",
            "Add all ingredients to a blender. Mix until smooth.\n"
          ]
        }
      ]
    },
    {
      "cell_type": "code",
      "source": [
        "%%writefile saucy.md\n",
        "# Spicy Green Mean Machine\n",
        "\n",
        "## Ingredients\n",
        "1/2 cup - Plain yogurt\n",
        "3-4 cloves - Garlic\n",
        "2 cups - Chopped cilantro\n",
        "1/4 cup - Olive oil\n",
        "1/4 cup - Lime juice\n",
        "2 pinches - Salt\n",
        "2 - Jalapenos, deseeded\n",
        "\n",
        "## Instructions\n",
        "Add all ingredients to a blender. Mix until desired consistency."
      ],
      "metadata": {
        "colab": {
          "base_uri": "https://localhost:8080/"
        },
        "id": "9gbM2txdsYZ4",
        "outputId": "e038a869-a705-4ff7-b41c-dc535614708e"
      },
      "execution_count": null,
      "outputs": [
        {
          "output_type": "stream",
          "name": "stdout",
          "text": [
            "Overwriting saucy.md\n"
          ]
        }
      ]
    },
    {
      "cell_type": "code",
      "source": [
        "!git diff"
      ],
      "metadata": {
        "colab": {
          "base_uri": "https://localhost:8080/"
        },
        "id": "SqT_THQRsuAl",
        "outputId": "6c55d325-99f3-43d8-88c1-3b63ae2388c7"
      },
      "execution_count": null,
      "outputs": [
        {
          "output_type": "stream",
          "name": "stdout",
          "text": [
            "\u001b[1mdiff --git a/saucy.md b/saucy.md\u001b[m\n",
            "\u001b[1mindex 20b7e5a..a35e0d7 100644\u001b[m\n",
            "\u001b[1m--- a/saucy.md\u001b[m\n",
            "\u001b[1m+++ b/saucy.md\u001b[m\n",
            "\u001b[36m@@ -6,8 +6,8 @@\u001b[m\n",
            " 2 cups - Chopped cilantro\u001b[m\n",
            " 1/4 cup - Olive oil\u001b[m\n",
            " 1/4 cup - Lime juice\u001b[m\n",
            "\u001b[31m-1 pinch - Salt\u001b[m\n",
            "\u001b[31m-1 - Jalapeno, deseeded\u001b[m\n",
            "\u001b[32m+\u001b[m\u001b[32m2 pinches - Salt\u001b[m\n",
            "\u001b[32m+\u001b[m\u001b[32m2 - Jalapenos, deseeded\u001b[m\n",
            " \u001b[m\n",
            " ## Instructions\u001b[m\n",
            "\u001b[31m-Add all ingredients to a blender. Mix until smooth.\u001b[m\n",
            "\u001b[32m+\u001b[m\u001b[32mAdd all ingredients to a blender. Mix until desired consistency.\u001b[m\n",
            "\\ No newline at end of file\u001b[m\n"
          ]
        }
      ]
    },
    {
      "cell_type": "markdown",
      "source": [
        "# Diffing staged changes"
      ],
      "metadata": {
        "id": "SyQVy3DLtm7Q"
      }
    },
    {
      "cell_type": "code",
      "source": [
        "%cd ../resume"
      ],
      "metadata": {
        "colab": {
          "base_uri": "https://localhost:8080/"
        },
        "id": "zEoTMuCFsuuU",
        "outputId": "30310f97-7c5e-490f-d2ff-629058c96bda"
      },
      "execution_count": null,
      "outputs": [
        {
          "output_type": "stream",
          "name": "stdout",
          "text": [
            "/content/headfirst-git-samples/chapter03/resume\n"
          ]
        }
      ]
    },
    {
      "cell_type": "code",
      "source": [
        "!git status"
      ],
      "metadata": {
        "colab": {
          "base_uri": "https://localhost:8080/"
        },
        "id": "hRV8Ex0ytqPd",
        "outputId": "834b7a0e-7fa2-4a99-f694-31ab9d62735c"
      },
      "execution_count": null,
      "outputs": [
        {
          "output_type": "stream",
          "name": "stdout",
          "text": [
            "On branch edit-per-scotty\n",
            "Changes to be committed:\n",
            "  (use \"git restore --staged <file>...\" to unstage)\n",
            "\t\u001b[32mmodified:   resume.md\u001b[m\n",
            "\n",
            "Changes not staged for commit:\n",
            "  (use \"git add <file>...\" to update what will be committed)\n",
            "  (use \"git restore <file>...\" to discard changes in working directory)\n",
            "\t\u001b[31mmodified:   resume.md\u001b[m\n",
            "\n"
          ]
        }
      ]
    },
    {
      "cell_type": "code",
      "source": [
        "!git add resume.md"
      ],
      "metadata": {
        "id": "D5macyfZtqq8"
      },
      "execution_count": null,
      "outputs": []
    },
    {
      "cell_type": "code",
      "source": [
        "!git diff --staged"
      ],
      "metadata": {
        "colab": {
          "base_uri": "https://localhost:8080/"
        },
        "id": "npj-dqRctyFD",
        "outputId": "3588b17b-2a8d-4a67-c305-2ece7169a274"
      },
      "execution_count": null,
      "outputs": [
        {
          "output_type": "stream",
          "name": "stdout",
          "text": [
            "\u001b[1mdiff --git a/resume.md b/resume.md\u001b[m\n",
            "\u001b[1mindex 73d57b6..4f4ea8c 100644\u001b[m\n",
            "\u001b[1m--- a/resume.md\u001b[m\n",
            "\u001b[1m+++ b/resume.md\u001b[m\n",
            "\u001b[36m@@ -5,7 +5,7 @@\u001b[m \u001b[mTo leverage my language skills as Chief Communications Officer\u001b[m\n",
            " \u001b[m\n",
            " ## Languages\u001b[m\n",
            " English (native)\u001b[m\n",
            "\u001b[31m-Romulan (beginner)\u001b[m\n",
            "\u001b[32m+\u001b[m\u001b[32mKlingon (fluent)\u001b[m\n",
            " \u001b[m\n",
            " ## Education\u001b[m\n",
            " Starfleet Academy, San Francisco, CA\u001b[m\n",
            "\u001b[36m@@ -14,4 +14,4 @@\u001b[m \u001b[mValedictorian, Class of 2018\u001b[m\n",
            " ## Experience\u001b[m\n",
            " 2018-2020, Federation Starship Atlantis - Communications Ensign\u001b[m\n",
            " \u001b[m\n",
            "\u001b[31m-Routed incoming subspace communications to the correct officer\u001b[m\n",
            "\u001b[32m+\u001b[m\u001b[32mRouted all incoming subspace communications to the correct officer\u001b[m\n",
            "\\ No newline at end of file\u001b[m\n"
          ]
        }
      ]
    },
    {
      "cell_type": "code",
      "source": [
        "%cd ../recipes"
      ],
      "metadata": {
        "colab": {
          "base_uri": "https://localhost:8080/"
        },
        "id": "y2SJI1LstzJr",
        "outputId": "5229b654-b392-4369-fac7-8170aa68c906"
      },
      "execution_count": null,
      "outputs": [
        {
          "output_type": "stream",
          "name": "stdout",
          "text": [
            "/content/headfirst-git-samples/chapter03/recipes\n"
          ]
        }
      ]
    },
    {
      "cell_type": "code",
      "source": [
        "!git add saucy.md"
      ],
      "metadata": {
        "id": "BzZxNJmbt8p3"
      },
      "execution_count": null,
      "outputs": []
    },
    {
      "cell_type": "code",
      "source": [
        "!git status"
      ],
      "metadata": {
        "colab": {
          "base_uri": "https://localhost:8080/"
        },
        "id": "lTgdhYC5t_XF",
        "outputId": "48da1674-2092-4e0c-b74c-a6d0da793f18"
      },
      "execution_count": null,
      "outputs": [
        {
          "output_type": "stream",
          "name": "stdout",
          "text": [
            "On branch spicy-version\n",
            "Changes to be committed:\n",
            "  (use \"git restore --staged <file>...\" to unstage)\n",
            "\t\u001b[32mmodified:   saucy.md\u001b[m\n",
            "\n"
          ]
        }
      ]
    },
    {
      "cell_type": "code",
      "source": [
        "!git diff --staged"
      ],
      "metadata": {
        "colab": {
          "base_uri": "https://localhost:8080/"
        },
        "id": "98nIWsXnuC9h",
        "outputId": "d546c2be-4713-4ceb-87c6-e99b3deb0be0"
      },
      "execution_count": null,
      "outputs": [
        {
          "output_type": "stream",
          "name": "stdout",
          "text": [
            "\u001b[1mdiff --git a/saucy.md b/saucy.md\u001b[m\n",
            "\u001b[1mindex 20b7e5a..a35e0d7 100644\u001b[m\n",
            "\u001b[1m--- a/saucy.md\u001b[m\n",
            "\u001b[1m+++ b/saucy.md\u001b[m\n",
            "\u001b[36m@@ -6,8 +6,8 @@\u001b[m\n",
            " 2 cups - Chopped cilantro\u001b[m\n",
            " 1/4 cup - Olive oil\u001b[m\n",
            " 1/4 cup - Lime juice\u001b[m\n",
            "\u001b[31m-1 pinch - Salt\u001b[m\n",
            "\u001b[31m-1 - Jalapeno, deseeded\u001b[m\n",
            "\u001b[32m+\u001b[m\u001b[32m2 pinches - Salt\u001b[m\n",
            "\u001b[32m+\u001b[m\u001b[32m2 - Jalapenos, deseeded\u001b[m\n",
            " \u001b[m\n",
            " ## Instructions\u001b[m\n",
            "\u001b[31m-Add all ingredients to a blender. Mix until smooth.\u001b[m\n",
            "\u001b[32m+\u001b[m\u001b[32mAdd all ingredients to a blender. Mix until desired consistency.\u001b[m\n",
            "\\ No newline at end of file\u001b[m\n"
          ]
        }
      ]
    },
    {
      "cell_type": "code",
      "source": [
        "!git commit -m \"add punch\""
      ],
      "metadata": {
        "colab": {
          "base_uri": "https://localhost:8080/"
        },
        "id": "wu-CjygHuDvW",
        "outputId": "9f399d67-38b8-47eb-aa3b-71df68d4e52c"
      },
      "execution_count": null,
      "outputs": [
        {
          "output_type": "stream",
          "name": "stdout",
          "text": [
            "[spicy-version 6e4ad32] add punch\n",
            " 1 file changed, 3 insertions(+), 3 deletions(-)\n"
          ]
        }
      ]
    },
    {
      "cell_type": "code",
      "source": [
        "!git status"
      ],
      "metadata": {
        "colab": {
          "base_uri": "https://localhost:8080/"
        },
        "id": "JJBaRdHouPyx",
        "outputId": "26d45783-720e-447e-cb94-be14a26d56cd"
      },
      "execution_count": null,
      "outputs": [
        {
          "output_type": "stream",
          "name": "stdout",
          "text": [
            "On branch spicy-version\n",
            "nothing to commit, working tree clean\n"
          ]
        }
      ]
    },
    {
      "cell_type": "markdown",
      "source": [
        "# Diffing branches"
      ],
      "metadata": {
        "id": "JHVLXKReuVav"
      }
    },
    {
      "cell_type": "code",
      "source": [
        "%cd ../resume"
      ],
      "metadata": {
        "colab": {
          "base_uri": "https://localhost:8080/"
        },
        "id": "Xj8RVkFbuRjA",
        "outputId": "93972908-0540-4449-c2c3-ca6c66e1df1b"
      },
      "execution_count": null,
      "outputs": [
        {
          "output_type": "stream",
          "name": "stdout",
          "text": [
            "/content/headfirst-git-samples/chapter03/resume\n"
          ]
        }
      ]
    },
    {
      "cell_type": "markdown",
      "source": [
        "```git diff TARGET SOURCE```"
      ],
      "metadata": {
        "id": "0vXoVNagvDiT"
      }
    },
    {
      "cell_type": "code",
      "source": [
        "!git diff edit-per-scotty add-skills"
      ],
      "metadata": {
        "colab": {
          "base_uri": "https://localhost:8080/"
        },
        "id": "K0d169cTu52U",
        "outputId": "01af6918-3eca-4b52-c7aa-34a1bb865093"
      },
      "execution_count": null,
      "outputs": [
        {
          "output_type": "stream",
          "name": "stdout",
          "text": [
            "\u001b[1mdiff --git a/resume.md b/resume.md\u001b[m\n",
            "\u001b[1mindex 73d57b6..e7dd8c4 100644\u001b[m\n",
            "\u001b[1m--- a/resume.md\u001b[m\n",
            "\u001b[1m+++ b/resume.md\u001b[m\n",
            "\u001b[36m@@ -1,11 +1,12 @@\u001b[m\n",
            " # Brigitte Strek\u001b[m\n",
            " \u001b[m\n",
            " ## Objective\u001b[m\n",
            "\u001b[31m-To leverage my language skills as Chief Communications Officer\u001b[m\n",
            "\u001b[32m+\u001b[m\u001b[32mTo leverage my skills as Chief Communications Officer\u001b[m\n",
            " \u001b[m\n",
            " ## Languages\u001b[m\n",
            " English (native)\u001b[m\n",
            " Romulan (beginner)\u001b[m\n",
            "\u001b[32m+\u001b[m\u001b[32m  * Azul\u001b[m\n",
            " \u001b[m\n",
            " ## Education\u001b[m\n",
            " Starfleet Academy, San Francisco, CA\u001b[m\n",
            "\u001b[36m@@ -15,3 +16,4 @@\u001b[m \u001b[mValedictorian, Class of 2018\u001b[m\n",
            " 2018-2020, Federation Starship Atlantis - Communications Ensign\u001b[m\n",
            " \u001b[m\n",
            " Routed incoming subspace communications to the correct officer\u001b[m\n",
            "\u001b[32m+\u001b[m\u001b[32m  Designed a new encryption algorithm to protect communications\u001b[m\n"
          ]
        }
      ]
    },
    {
      "cell_type": "code",
      "source": [
        "!git diff edit-per-scotty add-skills --word-diff"
      ],
      "metadata": {
        "colab": {
          "base_uri": "https://localhost:8080/"
        },
        "id": "_9j92tnNu7_3",
        "outputId": "ff0aa5a9-06f2-4aa5-a6ab-fb8a7334cc4f"
      },
      "execution_count": null,
      "outputs": [
        {
          "output_type": "stream",
          "name": "stdout",
          "text": [
            "\u001b[1mdiff --git a/resume.md b/resume.md\u001b[m\n",
            "\u001b[1mindex 73d57b6..e7dd8c4 100644\u001b[m\n",
            "\u001b[1m--- a/resume.md\u001b[m\n",
            "\u001b[1m+++ b/resume.md\u001b[m\n",
            "\u001b[36m@@ -1,11 +1,12 @@\u001b[m\n",
            "# Brigitte Strek\u001b[m\n",
            "\n",
            "## Objective\u001b[m\n",
            "To leverage my\u001b[31m[-language-]\u001b[m skills as Chief Communications Officer\n",
            "\n",
            "## Languages\u001b[m\n",
            "English (native)\u001b[m\n",
            "Romulan (beginner)\u001b[m\n",
            "  \u001b[32m{+* Azul+}\u001b[m\n",
            "\n",
            "## Education\u001b[m\n",
            "Starfleet Academy, San Francisco, CA\u001b[m\n",
            "\u001b[36m@@ -15,3 +16,4 @@\u001b[m \u001b[mValedictorian, Class of 2018\u001b[m\n",
            "2018-2020, Federation Starship Atlantis - Communications Ensign\u001b[m\n",
            "\n",
            "Routed incoming subspace communications to the correct officer\u001b[m\n",
            "  \u001b[32m{+Designed a new encryption algorithm to protect communications+}\u001b[m\n"
          ]
        }
      ]
    },
    {
      "cell_type": "code",
      "source": [
        "!git diff add-skills edit-per-scotty "
      ],
      "metadata": {
        "colab": {
          "base_uri": "https://localhost:8080/"
        },
        "id": "62DG1qaKvMC9",
        "outputId": "b1204c1e-ceb1-4991-8ee2-d68f481d17ab"
      },
      "execution_count": null,
      "outputs": [
        {
          "output_type": "stream",
          "name": "stdout",
          "text": [
            "\u001b[1mdiff --git a/resume.md b/resume.md\u001b[m\n",
            "\u001b[1mindex e7dd8c4..73d57b6 100644\u001b[m\n",
            "\u001b[1m--- a/resume.md\u001b[m\n",
            "\u001b[1m+++ b/resume.md\u001b[m\n",
            "\u001b[36m@@ -1,12 +1,11 @@\u001b[m\n",
            " # Brigitte Strek\u001b[m\n",
            " \u001b[m\n",
            " ## Objective\u001b[m\n",
            "\u001b[31m-To leverage my skills as Chief Communications Officer\u001b[m\n",
            "\u001b[32m+\u001b[m\u001b[32mTo leverage my language skills as Chief Communications Officer\u001b[m\n",
            " \u001b[m\n",
            " ## Languages\u001b[m\n",
            " English (native)\u001b[m\n",
            " Romulan (beginner)\u001b[m\n",
            "\u001b[31m-  * Azul\u001b[m\n",
            " \u001b[m\n",
            " ## Education\u001b[m\n",
            " Starfleet Academy, San Francisco, CA\u001b[m\n",
            "\u001b[36m@@ -16,4 +15,3 @@\u001b[m \u001b[mValedictorian, Class of 2018\u001b[m\n",
            " 2018-2020, Federation Starship Atlantis - Communications Ensign\u001b[m\n",
            " \u001b[m\n",
            " Routed incoming subspace communications to the correct officer\u001b[m\n",
            "\u001b[31m-  Designed a new encryption algorithm to protect communications\u001b[m\n"
          ]
        }
      ]
    },
    {
      "cell_type": "code",
      "source": [
        "%cd ../recipes"
      ],
      "metadata": {
        "colab": {
          "base_uri": "https://localhost:8080/"
        },
        "id": "3mQaRG4ovoSx",
        "outputId": "1152595c-0c9b-4030-8b3b-c0e712e8a58b"
      },
      "execution_count": null,
      "outputs": [
        {
          "output_type": "stream",
          "name": "stdout",
          "text": [
            "/content/headfirst-git-samples/chapter03/recipes\n"
          ]
        }
      ]
    },
    {
      "cell_type": "code",
      "source": [
        "!git diff spicy-version different-base"
      ],
      "metadata": {
        "colab": {
          "base_uri": "https://localhost:8080/"
        },
        "id": "bYZ0nhEmwKF3",
        "outputId": "be1e4289-b15e-4598-9bd4-77178eebaffa"
      },
      "execution_count": null,
      "outputs": [
        {
          "output_type": "stream",
          "name": "stdout",
          "text": [
            "\u001b[1mdiff --git a/saucy.md b/saucy.md\u001b[m\n",
            "\u001b[1mindex a35e0d7..3f421be 100644\u001b[m\n",
            "\u001b[1m--- a/saucy.md\u001b[m\n",
            "\u001b[1m+++ b/saucy.md\u001b[m\n",
            "\u001b[36m@@ -1,13 +1,12 @@\u001b[m\n",
            "\u001b[31m-# Spicy Green Mean Machine\u001b[m\n",
            "\u001b[32m+\u001b[m\u001b[32m# Call me Cilly\u001b[m\n",
            " \u001b[m\n",
            " ## Ingredients\u001b[m\n",
            "\u001b[31m-1/2 cup - Plain yogurt\u001b[m\n",
            "\u001b[32m+\u001b[m\u001b[32m1/2 cup - Sour Cream\u001b[m\n",
            " 3-4 cloves - Garlic\u001b[m\n",
            " 2 cups - Chopped cilantro\u001b[m\n",
            " 1/4 cup - Olive oil\u001b[m\n",
            " 1/4 cup - Lime juice\u001b[m\n",
            "\u001b[31m-2 pinches - Salt\u001b[m\n",
            "\u001b[31m-2 - Jalapenos, deseeded\u001b[m\n",
            "\u001b[32m+\u001b[m\u001b[32m1/2 pinch - Salt\u001b[m\n",
            " \u001b[m\n",
            " ## Instructions\u001b[m\n",
            "\u001b[31m-Add all ingredients to a blender. Mix until desired consistency.\u001b[m\n",
            "\\ No newline at end of file\u001b[m\n",
            "\u001b[32m+\u001b[m\u001b[32mAdd all ingredients to a blender. Mix until smooth.\u001b[m\n"
          ]
        }
      ]
    },
    {
      "cell_type": "markdown",
      "source": [
        "# Diffing commits\n",
        "\n"
      ],
      "metadata": {
        "id": "PXfiXiiHwvDg"
      }
    },
    {
      "cell_type": "code",
      "source": [
        "%cd ../resume"
      ],
      "metadata": {
        "colab": {
          "base_uri": "https://localhost:8080/"
        },
        "id": "xj8cNJzkwMpu",
        "outputId": "7469ae2a-64b1-443b-d83b-6c91758da56a"
      },
      "execution_count": null,
      "outputs": [
        {
          "output_type": "stream",
          "name": "stdout",
          "text": [
            "/content/headfirst-git-samples/chapter03/resume\n"
          ]
        }
      ]
    },
    {
      "cell_type": "code",
      "source": [
        "!git log --graph --oneline --all"
      ],
      "metadata": {
        "colab": {
          "base_uri": "https://localhost:8080/"
        },
        "id": "CafLK3lrw6Bb",
        "outputId": "2e60d8cd-ef91-4b74-9f4a-03f1abb496cb"
      },
      "execution_count": null,
      "outputs": [
        {
          "output_type": "stream",
          "name": "stdout",
          "text": [
            "* \u001b[33m8842246\u001b[m\u001b[33m (\u001b[m\u001b[1;32madd-skills\u001b[m\u001b[33m)\u001b[m add accomplishment\n",
            "* \u001b[33mc96d092\u001b[m add language\n",
            "\u001b[31m|\u001b[m * \u001b[33m38a7176\u001b[m\u001b[33m (\u001b[m\u001b[1;36mHEAD -> \u001b[m\u001b[1;32medit-per-scotty\u001b[m\u001b[33m)\u001b[m update objective\n",
            "\u001b[31m|\u001b[m\u001b[31m/\u001b[m  \n",
            "* \u001b[33m1930f11\u001b[m\u001b[33m (\u001b[m\u001b[1;32mmaster\u001b[m\u001b[33m)\u001b[m basic resume outline\n"
          ]
        }
      ]
    },
    {
      "cell_type": "code",
      "source": [
        "!git merge add-skills"
      ],
      "metadata": {
        "colab": {
          "base_uri": "https://localhost:8080/"
        },
        "id": "u17RwfXOxDKV",
        "outputId": "ea027d78-0dee-4888-8297-5c43a55bd741"
      },
      "execution_count": null,
      "outputs": [
        {
          "output_type": "stream",
          "name": "stdout",
          "text": [
            "Your local changes to the following files would be overwritten by merge:\n",
            "  resume.md"
          ]
        }
      ]
    },
    {
      "cell_type": "code",
      "source": [
        "!git commit -m 'whatever'"
      ],
      "metadata": {
        "colab": {
          "base_uri": "https://localhost:8080/"
        },
        "id": "n2LYTK8-xWq5",
        "outputId": "62819e95-e93b-4e5d-a611-15bc2b53ef42"
      },
      "execution_count": null,
      "outputs": [
        {
          "output_type": "stream",
          "name": "stdout",
          "text": [
            "[edit-per-scotty 1f74205] whatever\n",
            " 1 file changed, 2 insertions(+), 2 deletions(-)\n"
          ]
        }
      ]
    },
    {
      "cell_type": "code",
      "source": [
        "!git merge add-skills"
      ],
      "metadata": {
        "colab": {
          "base_uri": "https://localhost:8080/"
        },
        "id": "JDKhwXKaxl4Z",
        "outputId": "633b931f-51b2-4422-add4-8f4531ffffae"
      },
      "execution_count": null,
      "outputs": [
        {
          "output_type": "stream",
          "name": "stdout",
          "text": [
            "Auto-merging resume.md\n",
            "CONFLICT (content): Merge conflict in resume.md\n",
            "Automatic merge failed; fix conflicts and then commit the result.\n"
          ]
        }
      ]
    },
    {
      "cell_type": "code",
      "source": [
        "!cat resume.md"
      ],
      "metadata": {
        "colab": {
          "base_uri": "https://localhost:8080/"
        },
        "id": "FNn0vhvsxn22",
        "outputId": "d61eb0de-89be-4aba-910d-712a701e1a73"
      },
      "execution_count": null,
      "outputs": [
        {
          "output_type": "stream",
          "name": "stdout",
          "text": [
            "# Brigitte Strek\n",
            "\n",
            "## Objective\n",
            "To leverage my language skills as Chief Communications Officer\n",
            "\n",
            "## Languages\n",
            "English (native)\n",
            "<<<<<<< HEAD\n",
            "Klingon (fluent)\n",
            "=======\n",
            "Romulan (beginner)\n",
            "  * Azul\n",
            ">>>>>>> add-skills\n",
            "\n",
            "## Education\n",
            "Starfleet Academy, San Francisco, CA\n",
            "Valedictorian, Class of 2018\n",
            "\n",
            "## Experience\n",
            "2018-2020, Federation Starship Atlantis - Communications Ensign\n",
            "\n",
            "<<<<<<< HEAD\n",
            "Routed all incoming subspace communications to the correct officer\n",
            "=======\n",
            "Routed incoming subspace communications to the correct officer\n",
            "  Designed a new encryption algorithm to protect communications\n",
            ">>>>>>> add-skills\n"
          ]
        }
      ]
    },
    {
      "cell_type": "code",
      "source": [
        "%%writefile resume.md\n",
        "# Brigitte Strek\n",
        "\n",
        "## Objective\n",
        "To leverage my language skills as Chief Communications Officer\n",
        "\n",
        "## Languages\n",
        "English (native)\n",
        "Klingon (fluent)\n",
        "Romulan (beginner)\n",
        "* Azul\n",
        "\n",
        "## Education\n",
        "Starfleet Academy, San Francisco, CA\n",
        "Valedictorian, Class of 2018\n",
        "\n",
        "## Experience\n",
        "2018-2020, Federation Starship Atlantis - Communications Ensign\n",
        "\n",
        "Routed all incoming subspace communications to the correct officer\n",
        "Designed a new encryption algorithm to protect communications"
      ],
      "metadata": {
        "colab": {
          "base_uri": "https://localhost:8080/"
        },
        "id": "Vm1Uuje2xq0U",
        "outputId": "6b1bd662-b738-4300-c640-c18f0bc9505d"
      },
      "execution_count": null,
      "outputs": [
        {
          "output_type": "stream",
          "name": "stdout",
          "text": [
            "Overwriting resume.md\n"
          ]
        }
      ]
    },
    {
      "cell_type": "code",
      "source": [
        "!git add resume.md"
      ],
      "metadata": {
        "id": "aAmUZlMCx8c2"
      },
      "execution_count": null,
      "outputs": []
    },
    {
      "cell_type": "code",
      "source": [
        "!git commit -m \"edit per recruiter\""
      ],
      "metadata": {
        "colab": {
          "base_uri": "https://localhost:8080/"
        },
        "id": "jIgVzOKTxzyq",
        "outputId": "ffd40be3-6f89-42df-8993-66c0155416dc"
      },
      "execution_count": null,
      "outputs": [
        {
          "output_type": "stream",
          "name": "stdout",
          "text": [
            "[edit-per-scotty e2b71e9] edit per recruiter\n"
          ]
        }
      ]
    },
    {
      "cell_type": "code",
      "source": [
        "!git log --all --graph --oneline"
      ],
      "metadata": {
        "colab": {
          "base_uri": "https://localhost:8080/"
        },
        "id": "KwG2_aRrx3BR",
        "outputId": "5f7340d3-af19-43f4-d29f-8f36e9471700"
      },
      "execution_count": null,
      "outputs": [
        {
          "output_type": "stream",
          "name": "stdout",
          "text": [
            "*   \u001b[33me2b71e9\u001b[m\u001b[33m (\u001b[m\u001b[1;36mHEAD -> \u001b[m\u001b[1;32medit-per-scotty\u001b[m\u001b[33m)\u001b[m edit per recruiter\n",
            "\u001b[31m|\u001b[m\u001b[32m\\\u001b[m  \n",
            "\u001b[31m|\u001b[m * \u001b[33m8842246\u001b[m\u001b[33m (\u001b[m\u001b[1;32madd-skills\u001b[m\u001b[33m)\u001b[m add accomplishment\n",
            "\u001b[31m|\u001b[m * \u001b[33mc96d092\u001b[m add language\n",
            "* \u001b[32m|\u001b[m \u001b[33m1f74205\u001b[m whatever\n",
            "* \u001b[32m|\u001b[m \u001b[33m38a7176\u001b[m update objective\n",
            "\u001b[32m|\u001b[m\u001b[32m/\u001b[m  \n",
            "* \u001b[33m1930f11\u001b[m\u001b[33m (\u001b[m\u001b[1;32mmaster\u001b[m\u001b[33m)\u001b[m basic resume outline\n"
          ]
        }
      ]
    },
    {
      "cell_type": "code",
      "source": [
        "!git diff e2b71e9 38a7176"
      ],
      "metadata": {
        "colab": {
          "base_uri": "https://localhost:8080/"
        },
        "id": "FhWM4hLYx_vc",
        "outputId": "4631b0ae-b0fd-44b1-9503-5cc6e7119808"
      },
      "execution_count": null,
      "outputs": [
        {
          "output_type": "stream",
          "name": "stdout",
          "text": [
            "\u001b[1mdiff --git a/resume.md b/resume.md\u001b[m\n",
            "\u001b[1mindex 414eec2..73d57b6 100644\u001b[m\n",
            "\u001b[1m--- a/resume.md\u001b[m\n",
            "\u001b[1m+++ b/resume.md\u001b[m\n",
            "\u001b[36m@@ -5,9 +5,7 @@\u001b[m \u001b[mTo leverage my language skills as Chief Communications Officer\u001b[m\n",
            " \u001b[m\n",
            " ## Languages\u001b[m\n",
            " English (native)\u001b[m\n",
            "\u001b[31m-Klingon (fluent)\u001b[m\n",
            " Romulan (beginner)\u001b[m\n",
            "\u001b[31m-* Azul\u001b[m\n",
            " \u001b[m\n",
            " ## Education\u001b[m\n",
            " Starfleet Academy, San Francisco, CA\u001b[m\n",
            "\u001b[36m@@ -16,5 +14,4 @@\u001b[m \u001b[mValedictorian, Class of 2018\u001b[m\n",
            " ## Experience\u001b[m\n",
            " 2018-2020, Federation Starship Atlantis - Communications Ensign\u001b[m\n",
            " \u001b[m\n",
            "\u001b[31m-Routed all incoming subspace communications to the correct officer\u001b[m\n",
            "\u001b[31m-Designed a new encryption algorithm to protect communications\u001b[m\n",
            "\\ No newline at end of file\u001b[m\n",
            "\u001b[32m+\u001b[m\u001b[32mRouted incoming subspace communications to the correct officer\u001b[m\n"
          ]
        }
      ]
    }
  ]
}