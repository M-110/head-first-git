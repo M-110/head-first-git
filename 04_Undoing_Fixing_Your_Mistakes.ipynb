{
  "nbformat": 4,
  "nbformat_minor": 0,
  "metadata": {
    "colab": {
      "name": "04_Undoing_Fixing_Your_Mistakes.ipynb",
      "provenance": [],
      "collapsed_sections": [],
      "authorship_tag": "ABX9TyN8m+u78I3InmgZxp2L2lb2",
      "include_colab_link": true
    },
    "kernelspec": {
      "name": "python3",
      "display_name": "Python 3"
    },
    "language_info": {
      "name": "python"
    }
  },
  "cells": [
    {
      "cell_type": "markdown",
      "metadata": {
        "id": "view-in-github",
        "colab_type": "text"
      },
      "source": [
        "<a href=\"https://colab.research.google.com/github/M-110/head-first-git/blob/main/04_Undoing_Fixing_Your_Mistakes.ipynb\" target=\"_parent\"><img src=\"https://colab.research.google.com/assets/colab-badge.svg\" alt=\"Open In Colab\"/></a>"
      ]
    },
    {
      "cell_type": "markdown",
      "source": [
        "# Setup"
      ],
      "metadata": {
        "id": "TBrcAgpKzMXD"
      }
    },
    {
      "cell_type": "code",
      "execution_count": null,
      "metadata": {
        "id": "QJrmzjRCzCqY",
        "colab": {
          "base_uri": "https://localhost:8080/"
        },
        "outputId": "1a2c6c6d-1222-451d-d31e-973094ebbb6a"
      },
      "outputs": [
        {
          "output_type": "stream",
          "name": "stdout",
          "text": [
            "Hit:1 https://developer.download.nvidia.com/compute/cuda/repos/ubuntu1804/x86_64  InRelease\n",
            "Get:2 http://security.ubuntu.com/ubuntu bionic-security InRelease [88.7 kB]\n",
            "Get:3 https://cloud.r-project.org/bin/linux/ubuntu bionic-cran40/ InRelease [3,626 B]\n",
            "Hit:4 http://archive.ubuntu.com/ubuntu bionic InRelease\n",
            "Hit:5 http://ppa.launchpad.net/c2d4u.team/c2d4u4.0+/ubuntu bionic InRelease\n",
            "Get:6 http://archive.ubuntu.com/ubuntu bionic-updates InRelease [88.7 kB]\n",
            "Ign:7 https://developer.download.nvidia.com/compute/machine-learning/repos/ubuntu1804/x86_64  InRelease\n",
            "Hit:8 https://developer.download.nvidia.com/compute/machine-learning/repos/ubuntu1804/x86_64  Release\n",
            "Hit:9 http://ppa.launchpad.net/cran/libgit2/ubuntu bionic InRelease\n",
            "Hit:10 http://ppa.launchpad.net/deadsnakes/ppa/ubuntu bionic InRelease\n",
            "Get:12 http://archive.ubuntu.com/ubuntu bionic-backports InRelease [74.6 kB]\n",
            "Get:13 http://ppa.launchpad.net/git-core/ppa/ubuntu bionic InRelease [20.8 kB]\n",
            "Get:14 http://security.ubuntu.com/ubuntu bionic-security/main amd64 Packages [2,765 kB]\n",
            "Get:15 http://archive.ubuntu.com/ubuntu bionic-updates/restricted amd64 Packages [981 kB]\n",
            "Get:16 http://ppa.launchpad.net/graphics-drivers/ppa/ubuntu bionic InRelease [21.3 kB]\n",
            "Get:17 http://security.ubuntu.com/ubuntu bionic-security/restricted amd64 Packages [932 kB]\n",
            "Get:18 http://security.ubuntu.com/ubuntu bionic-security/multiverse amd64 Packages [22.8 kB]\n",
            "Get:19 http://security.ubuntu.com/ubuntu bionic-security/universe amd64 Packages [1,503 kB]\n",
            "Get:20 http://ppa.launchpad.net/git-core/ppa/ubuntu bionic/main amd64 Packages [3,163 B]\n",
            "Get:21 http://archive.ubuntu.com/ubuntu bionic-updates/universe amd64 Packages [2,277 kB]\n",
            "Get:22 http://archive.ubuntu.com/ubuntu bionic-updates/multiverse amd64 Packages [29.8 kB]\n",
            "Get:23 http://archive.ubuntu.com/ubuntu bionic-updates/main amd64 Packages [3,212 kB]\n",
            "Get:24 http://ppa.launchpad.net/graphics-drivers/ppa/ubuntu bionic/main amd64 Packages [44.3 kB]\n",
            "Fetched 12.1 MB in 4s (2,734 kB/s)\n",
            "Reading package lists... Done\n",
            "Hit:1 https://cloud.r-project.org/bin/linux/ubuntu bionic-cran40/ InRelease\n",
            "Hit:2 https://developer.download.nvidia.com/compute/cuda/repos/ubuntu1804/x86_64  InRelease\n",
            "Hit:3 http://security.ubuntu.com/ubuntu bionic-security InRelease\n",
            "Hit:4 http://archive.ubuntu.com/ubuntu bionic InRelease\n",
            "Hit:5 http://ppa.launchpad.net/c2d4u.team/c2d4u4.0+/ubuntu bionic InRelease\n",
            "Hit:6 http://archive.ubuntu.com/ubuntu bionic-updates InRelease\n",
            "Ign:7 https://developer.download.nvidia.com/compute/machine-learning/repos/ubuntu1804/x86_64  InRelease\n",
            "Hit:8 https://developer.download.nvidia.com/compute/machine-learning/repos/ubuntu1804/x86_64  Release\n",
            "Hit:9 http://archive.ubuntu.com/ubuntu bionic-backports InRelease\n",
            "Hit:10 http://ppa.launchpad.net/cran/libgit2/ubuntu bionic InRelease\n",
            "Hit:11 http://ppa.launchpad.net/deadsnakes/ppa/ubuntu bionic InRelease\n",
            "Hit:12 http://ppa.launchpad.net/git-core/ppa/ubuntu bionic InRelease\n",
            "Hit:14 http://ppa.launchpad.net/graphics-drivers/ppa/ubuntu bionic InRelease\n",
            "Reading package lists... Done\n",
            "Building dependency tree       \n",
            "Reading state information... Done\n",
            "50 packages can be upgraded. Run 'apt list --upgradable' to see them.\n",
            "Reading package lists... Done\n",
            "Building dependency tree       \n",
            "Reading state information... Done\n",
            "The following package was automatically installed and is no longer required:\n",
            "  libnvidia-common-460\n",
            "Use 'apt autoremove' to remove it.\n",
            "The following additional packages will be installed:\n",
            "  git-man\n",
            "Suggested packages:\n",
            "  gettext-base git-daemon-run | git-daemon-sysvinit git-doc git-email git-gui\n",
            "  gitk gitweb git-cvs git-mediawiki git-svn\n",
            "The following packages will be upgraded:\n",
            "  git git-man\n",
            "2 upgraded, 0 newly installed, 0 to remove and 48 not upgraded.\n",
            "Need to get 7,835 kB of archives.\n",
            "After this operation, 7,048 kB of additional disk space will be used.\n",
            "Get:1 http://ppa.launchpad.net/git-core/ppa/ubuntu bionic/main amd64 git amd64 1:2.36.1-0ppa1~ubuntu18.04.1 [5,895 kB]\n",
            "Get:2 http://ppa.launchpad.net/git-core/ppa/ubuntu bionic/main amd64 git-man all 1:2.36.1-0ppa1~ubuntu18.04.1 [1,940 kB]\n",
            "Fetched 7,835 kB in 5s (1,736 kB/s)\n",
            "(Reading database ... 155629 files and directories currently installed.)\n",
            "Preparing to unpack .../git_1%3a2.36.1-0ppa1~ubuntu18.04.1_amd64.deb ...\n",
            "Unpacking git (1:2.36.1-0ppa1~ubuntu18.04.1) over (1:2.17.1-1ubuntu0.11) ...\n",
            "Preparing to unpack .../git-man_1%3a2.36.1-0ppa1~ubuntu18.04.1_all.deb ...\n",
            "Unpacking git-man (1:2.36.1-0ppa1~ubuntu18.04.1) over (1:2.17.1-1ubuntu0.11) ...\n",
            "Setting up git-man (1:2.36.1-0ppa1~ubuntu18.04.1) ...\n",
            "Setting up git (1:2.36.1-0ppa1~ubuntu18.04.1) ...\n",
            "Processing triggers for man-db (2.8.3-2ubuntu0.1) ...\n"
          ]
        }
      ],
      "source": [
        "!add-apt-repository ppa:git-core/ppa -y\n",
        "!apt update\n",
        "!apt install git"
      ]
    },
    {
      "cell_type": "code",
      "source": [
        "!wget https://i-love-git.com/assets/head-first-git-2022-01-02.zip\n",
        "!unzip head*.zip"
      ],
      "metadata": {
        "id": "HoTCL9xDzL6p",
        "colab": {
          "base_uri": "https://localhost:8080/"
        },
        "outputId": "c6814710-2160-445f-d813-5e5532097c63"
      },
      "execution_count": null,
      "outputs": [
        {
          "output_type": "stream",
          "name": "stdout",
          "text": [
            "--2022-05-23 18:11:01--  https://i-love-git.com/assets/head-first-git-2022-01-02.zip\n",
            "Resolving i-love-git.com (i-love-git.com)... 204.44.192.63\n",
            "Connecting to i-love-git.com (i-love-git.com)|204.44.192.63|:443... connected.\n",
            "HTTP request sent, awaiting response... 200 OK\n",
            "Length: 688702 (673K) [application/zip]\n",
            "Saving to: ‘head-first-git-2022-01-02.zip’\n",
            "\n",
            "head-first-git-2022 100%[===================>] 672.56K  1004KB/s    in 0.7s    \n",
            "\n",
            "2022-05-23 18:11:02 (1004 KB/s) - ‘head-first-git-2022-01-02.zip’ saved [688702/688702]\n",
            "\n",
            "Archive:  head-first-git-2022-01-02.zip\n",
            "   creating: headfirst-git-samples/\n",
            "   creating: headfirst-git-samples/chapter05/\n",
            " extracting: headfirst-git-samples/chapter05/master-01.md  \n",
            "  inflating: headfirst-git-samples/chapter05/master-04.md  \n",
            "  inflating: headfirst-git-samples/chapter05/README.md  \n",
            "  inflating: headfirst-git-samples/chapter05/master-03.md  \n",
            " extracting: headfirst-git-samples/chapter05/feat-a-01.md  \n",
            "  inflating: headfirst-git-samples/chapter05/master-02.md  \n",
            " extracting: headfirst-git-samples/chapter05/feat-b-01.md  \n",
            "   creating: headfirst-git-samples/chapter02/\n",
            "   creating: headfirst-git-samples/chapter02/loving-git/\n",
            "  inflating: headfirst-git-samples/chapter02/loving-git/tribute.md  \n",
            "   creating: headfirst-git-samples/chapter02/loving-git/.git/\n",
            "  inflating: headfirst-git-samples/chapter02/loving-git/.git/config  \n",
            "   creating: headfirst-git-samples/chapter02/loving-git/.git/objects/\n",
            "   creating: headfirst-git-samples/chapter02/loving-git/.git/objects/35/\n",
            " extracting: headfirst-git-samples/chapter02/loving-git/.git/objects/35/68f0cff418928cde382a842e4d8b1a19d705fa  \n",
            "   creating: headfirst-git-samples/chapter02/loving-git/.git/objects/b2/\n",
            " extracting: headfirst-git-samples/chapter02/loving-git/.git/objects/b2/842d215770aba20d262e4fc64de1416371c3aa  \n",
            "   creating: headfirst-git-samples/chapter02/loving-git/.git/objects/ad/\n",
            " extracting: headfirst-git-samples/chapter02/loving-git/.git/objects/ad/d295a920bede80bbe33b72ba1fc063527ffa9f  \n",
            "   creating: headfirst-git-samples/chapter02/loving-git/.git/objects/pack/\n",
            "   creating: headfirst-git-samples/chapter02/loving-git/.git/objects/9f/\n",
            " extracting: headfirst-git-samples/chapter02/loving-git/.git/objects/9f/b85d2ad4a7d7a13052abd1d4b8a8cde225b96a  \n",
            "   creating: headfirst-git-samples/chapter02/loving-git/.git/objects/00/\n",
            " extracting: headfirst-git-samples/chapter02/loving-git/.git/objects/00/e2dc5731ec4583ad978e029b9b23f714a8208d  \n",
            "   creating: headfirst-git-samples/chapter02/loving-git/.git/objects/info/\n",
            "   creating: headfirst-git-samples/chapter02/loving-git/.git/objects/96/\n",
            " extracting: headfirst-git-samples/chapter02/loving-git/.git/objects/96/e6ea3cf0e9bef5b1bf53a0bd05340fa7618f81  \n",
            "   creating: headfirst-git-samples/chapter02/loving-git/.git/objects/ba/\n",
            " extracting: headfirst-git-samples/chapter02/loving-git/.git/objects/ba/cb37dfad5e645dfd63ec1133915579e0d7d87f  \n",
            "   creating: headfirst-git-samples/chapter02/loving-git/.git/objects/cb/\n",
            " extracting: headfirst-git-samples/chapter02/loving-git/.git/objects/cb/083083ca8a79264ef8c5241bea67d7089ec44a  \n",
            "   creating: headfirst-git-samples/chapter02/loving-git/.git/objects/e0/\n",
            " extracting: headfirst-git-samples/chapter02/loving-git/.git/objects/e0/2cad7a5d930680cceb2ace18c1119b7f3c7976  \n",
            " extracting: headfirst-git-samples/chapter02/loving-git/.git/HEAD  \n",
            "   creating: headfirst-git-samples/chapter02/loving-git/.git/info/\n",
            "  inflating: headfirst-git-samples/chapter02/loving-git/.git/info/exclude  \n",
            "   creating: headfirst-git-samples/chapter02/loving-git/.git/logs/\n",
            "  inflating: headfirst-git-samples/chapter02/loving-git/.git/logs/HEAD  \n",
            "   creating: headfirst-git-samples/chapter02/loving-git/.git/logs/refs/\n",
            "   creating: headfirst-git-samples/chapter02/loving-git/.git/logs/refs/heads/\n",
            "  inflating: headfirst-git-samples/chapter02/loving-git/.git/logs/refs/heads/improvisation  \n",
            "  inflating: headfirst-git-samples/chapter02/loving-git/.git/logs/refs/heads/master  \n",
            "  inflating: headfirst-git-samples/chapter02/loving-git/.git/description  \n",
            "   creating: headfirst-git-samples/chapter02/loving-git/.git/hooks/\n",
            "  inflating: headfirst-git-samples/chapter02/loving-git/.git/hooks/commit-msg.sample  \n",
            "  inflating: headfirst-git-samples/chapter02/loving-git/.git/hooks/pre-rebase.sample  \n",
            "  inflating: headfirst-git-samples/chapter02/loving-git/.git/hooks/pre-commit.sample  \n",
            "  inflating: headfirst-git-samples/chapter02/loving-git/.git/hooks/applypatch-msg.sample  \n",
            "  inflating: headfirst-git-samples/chapter02/loving-git/.git/hooks/fsmonitor-watchman.sample  \n",
            "  inflating: headfirst-git-samples/chapter02/loving-git/.git/hooks/pre-receive.sample  \n",
            "  inflating: headfirst-git-samples/chapter02/loving-git/.git/hooks/prepare-commit-msg.sample  \n",
            "  inflating: headfirst-git-samples/chapter02/loving-git/.git/hooks/post-update.sample  \n",
            "  inflating: headfirst-git-samples/chapter02/loving-git/.git/hooks/pre-merge-commit.sample  \n",
            "  inflating: headfirst-git-samples/chapter02/loving-git/.git/hooks/pre-applypatch.sample  \n",
            "  inflating: headfirst-git-samples/chapter02/loving-git/.git/hooks/pre-push.sample  \n",
            "  inflating: headfirst-git-samples/chapter02/loving-git/.git/hooks/update.sample  \n",
            "  inflating: headfirst-git-samples/chapter02/loving-git/.git/hooks/push-to-checkout.sample  \n",
            "   creating: headfirst-git-samples/chapter02/loving-git/.git/refs/\n",
            "   creating: headfirst-git-samples/chapter02/loving-git/.git/refs/heads/\n",
            " extracting: headfirst-git-samples/chapter02/loving-git/.git/refs/heads/improvisation  \n",
            " extracting: headfirst-git-samples/chapter02/loving-git/.git/refs/heads/master  \n",
            "   creating: headfirst-git-samples/chapter02/loving-git/.git/refs/tags/\n",
            "  inflating: headfirst-git-samples/chapter02/loving-git/.git/index  \n",
            " extracting: headfirst-git-samples/chapter02/loving-git/.git/COMMIT_EDITMSG  \n",
            "  inflating: headfirst-git-samples/chapter02/thursdays-menu.md  \n",
            "  inflating: headfirst-git-samples/chapter02/menu.md  \n",
            "   creating: headfirst-git-samples/chapter02/80s-diner-step-2/\n",
            "  inflating: headfirst-git-samples/chapter02/80s-diner-step-2/menu.md  \n",
            "  inflating: headfirst-git-samples/chapter02/80s-diner-step-2/fall-menu.md  \n",
            "   creating: headfirst-git-samples/chapter02/80s-diner-step-2/.git/\n",
            "  inflating: headfirst-git-samples/chapter02/80s-diner-step-2/.git/config  \n",
            "   creating: headfirst-git-samples/chapter02/80s-diner-step-2/.git/objects/\n",
            "   creating: headfirst-git-samples/chapter02/80s-diner-step-2/.git/objects/33/\n",
            " extracting: headfirst-git-samples/chapter02/80s-diner-step-2/.git/objects/33/fe840e1ed0d79c002a2b02b2781ed273ba46bb  \n",
            "   creating: headfirst-git-samples/chapter02/80s-diner-step-2/.git/objects/a2/\n",
            " extracting: headfirst-git-samples/chapter02/80s-diner-step-2/.git/objects/a2/f84e5cb18735ca43ea9bfe211f40049dcbc81c  \n",
            "   creating: headfirst-git-samples/chapter02/80s-diner-step-2/.git/objects/pack/\n",
            "   creating: headfirst-git-samples/chapter02/80s-diner-step-2/.git/objects/info/\n",
            "   creating: headfirst-git-samples/chapter02/80s-diner-step-2/.git/objects/62/\n",
            " extracting: headfirst-git-samples/chapter02/80s-diner-step-2/.git/objects/62/c0f7fdee0ecb90ef4f34068c52f0b077838c93  \n",
            "   creating: headfirst-git-samples/chapter02/80s-diner-step-2/.git/objects/ef/\n",
            " extracting: headfirst-git-samples/chapter02/80s-diner-step-2/.git/objects/ef/36cc70124cfd54a942a972efd557691e15cc04  \n",
            "   creating: headfirst-git-samples/chapter02/80s-diner-step-2/.git/objects/ea/\n",
            " extracting: headfirst-git-samples/chapter02/80s-diner-step-2/.git/objects/ea/6b05ef4c9ef211080a842a7729c51d89716ac8  \n",
            "   creating: headfirst-git-samples/chapter02/80s-diner-step-2/.git/objects/4f/\n",
            " extracting: headfirst-git-samples/chapter02/80s-diner-step-2/.git/objects/4f/41f1fda4fb0adf9a556815716a64929f884225  \n",
            " extracting: headfirst-git-samples/chapter02/80s-diner-step-2/.git/HEAD  \n",
            "   creating: headfirst-git-samples/chapter02/80s-diner-step-2/.git/info/\n",
            "  inflating: headfirst-git-samples/chapter02/80s-diner-step-2/.git/info/exclude  \n",
            "   creating: headfirst-git-samples/chapter02/80s-diner-step-2/.git/logs/\n",
            "  inflating: headfirst-git-samples/chapter02/80s-diner-step-2/.git/logs/HEAD  \n",
            "   creating: headfirst-git-samples/chapter02/80s-diner-step-2/.git/logs/refs/\n",
            "   creating: headfirst-git-samples/chapter02/80s-diner-step-2/.git/logs/refs/heads/\n",
            "  inflating: headfirst-git-samples/chapter02/80s-diner-step-2/.git/logs/refs/heads/add-fall-menu  \n",
            "  inflating: headfirst-git-samples/chapter02/80s-diner-step-2/.git/logs/refs/heads/master  \n",
            "  inflating: headfirst-git-samples/chapter02/80s-diner-step-2/.git/description  \n",
            "   creating: headfirst-git-samples/chapter02/80s-diner-step-2/.git/hooks/\n",
            "  inflating: headfirst-git-samples/chapter02/80s-diner-step-2/.git/hooks/commit-msg.sample  \n",
            "  inflating: headfirst-git-samples/chapter02/80s-diner-step-2/.git/hooks/pre-rebase.sample  \n",
            "  inflating: headfirst-git-samples/chapter02/80s-diner-step-2/.git/hooks/pre-commit.sample  \n",
            "  inflating: headfirst-git-samples/chapter02/80s-diner-step-2/.git/hooks/applypatch-msg.sample  \n",
            "  inflating: headfirst-git-samples/chapter02/80s-diner-step-2/.git/hooks/fsmonitor-watchman.sample  \n",
            "  inflating: headfirst-git-samples/chapter02/80s-diner-step-2/.git/hooks/pre-receive.sample  \n",
            "  inflating: headfirst-git-samples/chapter02/80s-diner-step-2/.git/hooks/prepare-commit-msg.sample  \n",
            "  inflating: headfirst-git-samples/chapter02/80s-diner-step-2/.git/hooks/post-update.sample  \n",
            "  inflating: headfirst-git-samples/chapter02/80s-diner-step-2/.git/hooks/pre-merge-commit.sample  \n",
            "  inflating: headfirst-git-samples/chapter02/80s-diner-step-2/.git/hooks/pre-applypatch.sample  \n",
            "  inflating: headfirst-git-samples/chapter02/80s-diner-step-2/.git/hooks/pre-push.sample  \n",
            "  inflating: headfirst-git-samples/chapter02/80s-diner-step-2/.git/hooks/update.sample  \n",
            "  inflating: headfirst-git-samples/chapter02/80s-diner-step-2/.git/hooks/push-to-checkout.sample  \n",
            "   creating: headfirst-git-samples/chapter02/80s-diner-step-2/.git/refs/\n",
            "   creating: headfirst-git-samples/chapter02/80s-diner-step-2/.git/refs/heads/\n",
            " extracting: headfirst-git-samples/chapter02/80s-diner-step-2/.git/refs/heads/add-fall-menu  \n",
            " extracting: headfirst-git-samples/chapter02/80s-diner-step-2/.git/refs/heads/master  \n",
            "   creating: headfirst-git-samples/chapter02/80s-diner-step-2/.git/refs/tags/\n",
            "  inflating: headfirst-git-samples/chapter02/80s-diner-step-2/.git/index  \n",
            " extracting: headfirst-git-samples/chapter02/80s-diner-step-2/.git/COMMIT_EDITMSG  \n",
            "   creating: headfirst-git-samples/chapter02/80s-diner-step-5/\n",
            "  inflating: headfirst-git-samples/chapter02/80s-diner-step-5/menu.md  \n",
            "  inflating: headfirst-git-samples/chapter02/80s-diner-step-5/fall-menu.md  \n",
            "   creating: headfirst-git-samples/chapter02/80s-diner-step-5/.git/\n",
            " extracting: headfirst-git-samples/chapter02/80s-diner-step-5/.git/ORIG_HEAD  \n",
            "  inflating: headfirst-git-samples/chapter02/80s-diner-step-5/.git/config  \n",
            "   creating: headfirst-git-samples/chapter02/80s-diner-step-5/.git/objects/\n",
            "   creating: headfirst-git-samples/chapter02/80s-diner-step-5/.git/objects/33/\n",
            " extracting: headfirst-git-samples/chapter02/80s-diner-step-5/.git/objects/33/fe840e1ed0d79c002a2b02b2781ed273ba46bb  \n",
            "   creating: headfirst-git-samples/chapter02/80s-diner-step-5/.git/objects/a2/\n",
            " extracting: headfirst-git-samples/chapter02/80s-diner-step-5/.git/objects/a2/f84e5cb18735ca43ea9bfe211f40049dcbc81c  \n",
            "   creating: headfirst-git-samples/chapter02/80s-diner-step-5/.git/objects/bd/\n",
            " extracting: headfirst-git-samples/chapter02/80s-diner-step-5/.git/objects/bd/eea6ffad008de2a564b932cf4c89ac92f9b051  \n",
            "   creating: headfirst-git-samples/chapter02/80s-diner-step-5/.git/objects/20/\n",
            " extracting: headfirst-git-samples/chapter02/80s-diner-step-5/.git/objects/20/9c9e674ce103ccf0b38e17cf3d17906949314f  \n",
            "   creating: headfirst-git-samples/chapter02/80s-diner-step-5/.git/objects/pack/\n",
            "   creating: headfirst-git-samples/chapter02/80s-diner-step-5/.git/objects/info/\n",
            "   creating: headfirst-git-samples/chapter02/80s-diner-step-5/.git/objects/62/\n",
            " extracting: headfirst-git-samples/chapter02/80s-diner-step-5/.git/objects/62/c0f7fdee0ecb90ef4f34068c52f0b077838c93  \n",
            "   creating: headfirst-git-samples/chapter02/80s-diner-step-5/.git/objects/06/\n",
            " extracting: headfirst-git-samples/chapter02/80s-diner-step-5/.git/objects/06/4703be08d0eb9ed2646e67839ee563b63de2ff  \n",
            " extracting: headfirst-git-samples/chapter02/80s-diner-step-5/.git/objects/06/f08b89b583d1c001a04fea95a074e3226b24e7  \n",
            "   creating: headfirst-git-samples/chapter02/80s-diner-step-5/.git/objects/97/\n",
            " extracting: headfirst-git-samples/chapter02/80s-diner-step-5/.git/objects/97/cfcf187eccc8a1eb7861264f3198320b3f7bab  \n",
            "   creating: headfirst-git-samples/chapter02/80s-diner-step-5/.git/objects/ef/\n",
            " extracting: headfirst-git-samples/chapter02/80s-diner-step-5/.git/objects/ef/36cc70124cfd54a942a972efd557691e15cc04  \n",
            "   creating: headfirst-git-samples/chapter02/80s-diner-step-5/.git/objects/ea/\n",
            " extracting: headfirst-git-samples/chapter02/80s-diner-step-5/.git/objects/ea/6b05ef4c9ef211080a842a7729c51d89716ac8  \n",
            "   creating: headfirst-git-samples/chapter02/80s-diner-step-5/.git/objects/24/\n",
            " extracting: headfirst-git-samples/chapter02/80s-diner-step-5/.git/objects/24/5482d33cfe186360c0f3b822d5a31ef0b405c5  \n",
            "   creating: headfirst-git-samples/chapter02/80s-diner-step-5/.git/objects/4f/\n",
            " extracting: headfirst-git-samples/chapter02/80s-diner-step-5/.git/objects/4f/41f1fda4fb0adf9a556815716a64929f884225  \n",
            " extracting: headfirst-git-samples/chapter02/80s-diner-step-5/.git/HEAD  \n",
            "   creating: headfirst-git-samples/chapter02/80s-diner-step-5/.git/info/\n",
            "  inflating: headfirst-git-samples/chapter02/80s-diner-step-5/.git/info/exclude  \n",
            "   creating: headfirst-git-samples/chapter02/80s-diner-step-5/.git/logs/\n",
            "  inflating: headfirst-git-samples/chapter02/80s-diner-step-5/.git/logs/HEAD  \n",
            "   creating: headfirst-git-samples/chapter02/80s-diner-step-5/.git/logs/refs/\n",
            "   creating: headfirst-git-samples/chapter02/80s-diner-step-5/.git/logs/refs/heads/\n",
            "  inflating: headfirst-git-samples/chapter02/80s-diner-step-5/.git/logs/refs/heads/add-thurs-menu  \n",
            "  inflating: headfirst-git-samples/chapter02/80s-diner-step-5/.git/logs/refs/heads/add-fall-menu  \n",
            "  inflating: headfirst-git-samples/chapter02/80s-diner-step-5/.git/logs/refs/heads/master  \n",
            "  inflating: headfirst-git-samples/chapter02/80s-diner-step-5/.git/description  \n",
            "   creating: headfirst-git-samples/chapter02/80s-diner-step-5/.git/hooks/\n",
            "  inflating: headfirst-git-samples/chapter02/80s-diner-step-5/.git/hooks/commit-msg.sample  \n",
            "  inflating: headfirst-git-samples/chapter02/80s-diner-step-5/.git/hooks/pre-rebase.sample  \n",
            "  inflating: headfirst-git-samples/chapter02/80s-diner-step-5/.git/hooks/pre-commit.sample  \n",
            "  inflating: headfirst-git-samples/chapter02/80s-diner-step-5/.git/hooks/applypatch-msg.sample  \n",
            "  inflating: headfirst-git-samples/chapter02/80s-diner-step-5/.git/hooks/fsmonitor-watchman.sample  \n",
            "  inflating: headfirst-git-samples/chapter02/80s-diner-step-5/.git/hooks/pre-receive.sample  \n",
            "  inflating: headfirst-git-samples/chapter02/80s-diner-step-5/.git/hooks/prepare-commit-msg.sample  \n",
            "  inflating: headfirst-git-samples/chapter02/80s-diner-step-5/.git/hooks/post-update.sample  \n",
            "  inflating: headfirst-git-samples/chapter02/80s-diner-step-5/.git/hooks/pre-merge-commit.sample  \n",
            "  inflating: headfirst-git-samples/chapter02/80s-diner-step-5/.git/hooks/pre-applypatch.sample  \n",
            "  inflating: headfirst-git-samples/chapter02/80s-diner-step-5/.git/hooks/pre-push.sample  \n",
            "  inflating: headfirst-git-samples/chapter02/80s-diner-step-5/.git/hooks/update.sample  \n",
            "  inflating: headfirst-git-samples/chapter02/80s-diner-step-5/.git/hooks/push-to-checkout.sample  \n",
            "   creating: headfirst-git-samples/chapter02/80s-diner-step-5/.git/refs/\n",
            "   creating: headfirst-git-samples/chapter02/80s-diner-step-5/.git/refs/heads/\n",
            " extracting: headfirst-git-samples/chapter02/80s-diner-step-5/.git/refs/heads/add-thurs-menu  \n",
            " extracting: headfirst-git-samples/chapter02/80s-diner-step-5/.git/refs/heads/add-fall-menu  \n",
            " extracting: headfirst-git-samples/chapter02/80s-diner-step-5/.git/refs/heads/master  \n",
            "   creating: headfirst-git-samples/chapter02/80s-diner-step-5/.git/refs/tags/\n",
            "  inflating: headfirst-git-samples/chapter02/80s-diner-step-5/.git/index  \n",
            " extracting: headfirst-git-samples/chapter02/80s-diner-step-5/.git/COMMIT_EDITMSG  \n",
            "   creating: headfirst-git-samples/chapter02/80s-diner-step-4/\n",
            "  inflating: headfirst-git-samples/chapter02/80s-diner-step-4/thursdays-menu.md  \n",
            "  inflating: headfirst-git-samples/chapter02/80s-diner-step-4/menu.md  \n",
            "   creating: headfirst-git-samples/chapter02/80s-diner-step-4/.git/\n",
            "  inflating: headfirst-git-samples/chapter02/80s-diner-step-4/.git/config  \n",
            "   creating: headfirst-git-samples/chapter02/80s-diner-step-4/.git/objects/\n",
            "   creating: headfirst-git-samples/chapter02/80s-diner-step-4/.git/objects/33/\n",
            " extracting: headfirst-git-samples/chapter02/80s-diner-step-4/.git/objects/33/fe840e1ed0d79c002a2b02b2781ed273ba46bb  \n",
            "   creating: headfirst-git-samples/chapter02/80s-diner-step-4/.git/objects/a2/\n",
            " extracting: headfirst-git-samples/chapter02/80s-diner-step-4/.git/objects/a2/f84e5cb18735ca43ea9bfe211f40049dcbc81c  \n",
            "   creating: headfirst-git-samples/chapter02/80s-diner-step-4/.git/objects/bd/\n",
            " extracting: headfirst-git-samples/chapter02/80s-diner-step-4/.git/objects/bd/eea6ffad008de2a564b932cf4c89ac92f9b051  \n",
            "   creating: headfirst-git-samples/chapter02/80s-diner-step-4/.git/objects/20/\n",
            " extracting: headfirst-git-samples/chapter02/80s-diner-step-4/.git/objects/20/9c9e674ce103ccf0b38e17cf3d17906949314f  \n",
            "   creating: headfirst-git-samples/chapter02/80s-diner-step-4/.git/objects/pack/\n",
            "   creating: headfirst-git-samples/chapter02/80s-diner-step-4/.git/objects/info/\n",
            "   creating: headfirst-git-samples/chapter02/80s-diner-step-4/.git/objects/62/\n",
            " extracting: headfirst-git-samples/chapter02/80s-diner-step-4/.git/objects/62/c0f7fdee0ecb90ef4f34068c52f0b077838c93  \n",
            "   creating: headfirst-git-samples/chapter02/80s-diner-step-4/.git/objects/06/\n",
            " extracting: headfirst-git-samples/chapter02/80s-diner-step-4/.git/objects/06/4703be08d0eb9ed2646e67839ee563b63de2ff  \n",
            " extracting: headfirst-git-samples/chapter02/80s-diner-step-4/.git/objects/06/f08b89b583d1c001a04fea95a074e3226b24e7  \n",
            "   creating: headfirst-git-samples/chapter02/80s-diner-step-4/.git/objects/97/\n",
            " extracting: headfirst-git-samples/chapter02/80s-diner-step-4/.git/objects/97/cfcf187eccc8a1eb7861264f3198320b3f7bab  \n",
            "   creating: headfirst-git-samples/chapter02/80s-diner-step-4/.git/objects/ef/\n",
            " extracting: headfirst-git-samples/chapter02/80s-diner-step-4/.git/objects/ef/36cc70124cfd54a942a972efd557691e15cc04  \n",
            "   creating: headfirst-git-samples/chapter02/80s-diner-step-4/.git/objects/ea/\n",
            " extracting: headfirst-git-samples/chapter02/80s-diner-step-4/.git/objects/ea/6b05ef4c9ef211080a842a7729c51d89716ac8  \n",
            "   creating: headfirst-git-samples/chapter02/80s-diner-step-4/.git/objects/24/\n",
            " extracting: headfirst-git-samples/chapter02/80s-diner-step-4/.git/objects/24/5482d33cfe186360c0f3b822d5a31ef0b405c5  \n",
            "   creating: headfirst-git-samples/chapter02/80s-diner-step-4/.git/objects/4f/\n",
            " extracting: headfirst-git-samples/chapter02/80s-diner-step-4/.git/objects/4f/41f1fda4fb0adf9a556815716a64929f884225  \n",
            " extracting: headfirst-git-samples/chapter02/80s-diner-step-4/.git/HEAD  \n",
            "   creating: headfirst-git-samples/chapter02/80s-diner-step-4/.git/info/\n",
            "  inflating: headfirst-git-samples/chapter02/80s-diner-step-4/.git/info/exclude  \n",
            "   creating: headfirst-git-samples/chapter02/80s-diner-step-4/.git/logs/\n",
            "  inflating: headfirst-git-samples/chapter02/80s-diner-step-4/.git/logs/HEAD  \n",
            "   creating: headfirst-git-samples/chapter02/80s-diner-step-4/.git/logs/refs/\n",
            "   creating: headfirst-git-samples/chapter02/80s-diner-step-4/.git/logs/refs/heads/\n",
            "  inflating: headfirst-git-samples/chapter02/80s-diner-step-4/.git/logs/refs/heads/add-thurs-menu  \n",
            "  inflating: headfirst-git-samples/chapter02/80s-diner-step-4/.git/logs/refs/heads/add-fall-menu  \n",
            "  inflating: headfirst-git-samples/chapter02/80s-diner-step-4/.git/logs/refs/heads/master  \n",
            "  inflating: headfirst-git-samples/chapter02/80s-diner-step-4/.git/description  \n",
            "   creating: headfirst-git-samples/chapter02/80s-diner-step-4/.git/hooks/\n",
            "  inflating: headfirst-git-samples/chapter02/80s-diner-step-4/.git/hooks/commit-msg.sample  \n",
            "  inflating: headfirst-git-samples/chapter02/80s-diner-step-4/.git/hooks/pre-rebase.sample  \n",
            "  inflating: headfirst-git-samples/chapter02/80s-diner-step-4/.git/hooks/pre-commit.sample  \n",
            "  inflating: headfirst-git-samples/chapter02/80s-diner-step-4/.git/hooks/applypatch-msg.sample  \n",
            "  inflating: headfirst-git-samples/chapter02/80s-diner-step-4/.git/hooks/fsmonitor-watchman.sample  \n",
            "  inflating: headfirst-git-samples/chapter02/80s-diner-step-4/.git/hooks/pre-receive.sample  \n",
            "  inflating: headfirst-git-samples/chapter02/80s-diner-step-4/.git/hooks/prepare-commit-msg.sample  \n",
            "  inflating: headfirst-git-samples/chapter02/80s-diner-step-4/.git/hooks/post-update.sample  \n",
            "  inflating: headfirst-git-samples/chapter02/80s-diner-step-4/.git/hooks/pre-merge-commit.sample  \n",
            "  inflating: headfirst-git-samples/chapter02/80s-diner-step-4/.git/hooks/pre-applypatch.sample  \n",
            "  inflating: headfirst-git-samples/chapter02/80s-diner-step-4/.git/hooks/pre-push.sample  \n",
            "  inflating: headfirst-git-samples/chapter02/80s-diner-step-4/.git/hooks/update.sample  \n",
            "  inflating: headfirst-git-samples/chapter02/80s-diner-step-4/.git/hooks/push-to-checkout.sample  \n",
            "   creating: headfirst-git-samples/chapter02/80s-diner-step-4/.git/refs/\n",
            "   creating: headfirst-git-samples/chapter02/80s-diner-step-4/.git/refs/heads/\n",
            " extracting: headfirst-git-samples/chapter02/80s-diner-step-4/.git/refs/heads/add-thurs-menu  \n",
            " extracting: headfirst-git-samples/chapter02/80s-diner-step-4/.git/refs/heads/add-fall-menu  \n",
            " extracting: headfirst-git-samples/chapter02/80s-diner-step-4/.git/refs/heads/master  \n",
            "   creating: headfirst-git-samples/chapter02/80s-diner-step-4/.git/refs/tags/\n",
            "  inflating: headfirst-git-samples/chapter02/80s-diner-step-4/.git/index  \n",
            " extracting: headfirst-git-samples/chapter02/80s-diner-step-4/.git/COMMIT_EDITMSG  \n",
            "   creating: headfirst-git-samples/chapter02/80s-diner-step-3/\n",
            "  inflating: headfirst-git-samples/chapter02/80s-diner-step-3/menu.md  \n",
            "  inflating: headfirst-git-samples/chapter02/80s-diner-step-3/fall-menu.md  \n",
            "   creating: headfirst-git-samples/chapter02/80s-diner-step-3/.git/\n",
            "  inflating: headfirst-git-samples/chapter02/80s-diner-step-3/.git/config  \n",
            "   creating: headfirst-git-samples/chapter02/80s-diner-step-3/.git/objects/\n",
            "   creating: headfirst-git-samples/chapter02/80s-diner-step-3/.git/objects/33/\n",
            " extracting: headfirst-git-samples/chapter02/80s-diner-step-3/.git/objects/33/fe840e1ed0d79c002a2b02b2781ed273ba46bb  \n",
            "   creating: headfirst-git-samples/chapter02/80s-diner-step-3/.git/objects/a2/\n",
            " extracting: headfirst-git-samples/chapter02/80s-diner-step-3/.git/objects/a2/f84e5cb18735ca43ea9bfe211f40049dcbc81c  \n",
            "   creating: headfirst-git-samples/chapter02/80s-diner-step-3/.git/objects/20/\n",
            " extracting: headfirst-git-samples/chapter02/80s-diner-step-3/.git/objects/20/9c9e674ce103ccf0b38e17cf3d17906949314f  \n",
            "   creating: headfirst-git-samples/chapter02/80s-diner-step-3/.git/objects/pack/\n",
            "   creating: headfirst-git-samples/chapter02/80s-diner-step-3/.git/objects/info/\n",
            "   creating: headfirst-git-samples/chapter02/80s-diner-step-3/.git/objects/62/\n",
            " extracting: headfirst-git-samples/chapter02/80s-diner-step-3/.git/objects/62/c0f7fdee0ecb90ef4f34068c52f0b077838c93  \n",
            "   creating: headfirst-git-samples/chapter02/80s-diner-step-3/.git/objects/06/\n",
            " extracting: headfirst-git-samples/chapter02/80s-diner-step-3/.git/objects/06/f08b89b583d1c001a04fea95a074e3226b24e7  \n",
            "   creating: headfirst-git-samples/chapter02/80s-diner-step-3/.git/objects/ef/\n",
            " extracting: headfirst-git-samples/chapter02/80s-diner-step-3/.git/objects/ef/36cc70124cfd54a942a972efd557691e15cc04  \n",
            "   creating: headfirst-git-samples/chapter02/80s-diner-step-3/.git/objects/ea/\n",
            " extracting: headfirst-git-samples/chapter02/80s-diner-step-3/.git/objects/ea/6b05ef4c9ef211080a842a7729c51d89716ac8  \n",
            "   creating: headfirst-git-samples/chapter02/80s-diner-step-3/.git/objects/24/\n",
            " extracting: headfirst-git-samples/chapter02/80s-diner-step-3/.git/objects/24/5482d33cfe186360c0f3b822d5a31ef0b405c5  \n",
            "   creating: headfirst-git-samples/chapter02/80s-diner-step-3/.git/objects/4f/\n",
            " extracting: headfirst-git-samples/chapter02/80s-diner-step-3/.git/objects/4f/41f1fda4fb0adf9a556815716a64929f884225  \n",
            " extracting: headfirst-git-samples/chapter02/80s-diner-step-3/.git/HEAD  \n",
            "   creating: headfirst-git-samples/chapter02/80s-diner-step-3/.git/info/\n",
            "  inflating: headfirst-git-samples/chapter02/80s-diner-step-3/.git/info/exclude  \n",
            "   creating: headfirst-git-samples/chapter02/80s-diner-step-3/.git/logs/\n",
            "  inflating: headfirst-git-samples/chapter02/80s-diner-step-3/.git/logs/HEAD  \n",
            "   creating: headfirst-git-samples/chapter02/80s-diner-step-3/.git/logs/refs/\n",
            "   creating: headfirst-git-samples/chapter02/80s-diner-step-3/.git/logs/refs/heads/\n",
            "  inflating: headfirst-git-samples/chapter02/80s-diner-step-3/.git/logs/refs/heads/add-fall-menu  \n",
            "  inflating: headfirst-git-samples/chapter02/80s-diner-step-3/.git/logs/refs/heads/master  \n",
            "  inflating: headfirst-git-samples/chapter02/80s-diner-step-3/.git/description  \n",
            "   creating: headfirst-git-samples/chapter02/80s-diner-step-3/.git/hooks/\n",
            "  inflating: headfirst-git-samples/chapter02/80s-diner-step-3/.git/hooks/commit-msg.sample  \n",
            "  inflating: headfirst-git-samples/chapter02/80s-diner-step-3/.git/hooks/pre-rebase.sample  \n",
            "  inflating: headfirst-git-samples/chapter02/80s-diner-step-3/.git/hooks/pre-commit.sample  \n",
            "  inflating: headfirst-git-samples/chapter02/80s-diner-step-3/.git/hooks/applypatch-msg.sample  \n",
            "  inflating: headfirst-git-samples/chapter02/80s-diner-step-3/.git/hooks/fsmonitor-watchman.sample  \n",
            "  inflating: headfirst-git-samples/chapter02/80s-diner-step-3/.git/hooks/pre-receive.sample  \n",
            "  inflating: headfirst-git-samples/chapter02/80s-diner-step-3/.git/hooks/prepare-commit-msg.sample  \n",
            "  inflating: headfirst-git-samples/chapter02/80s-diner-step-3/.git/hooks/post-update.sample  \n",
            "  inflating: headfirst-git-samples/chapter02/80s-diner-step-3/.git/hooks/pre-merge-commit.sample  \n",
            "  inflating: headfirst-git-samples/chapter02/80s-diner-step-3/.git/hooks/pre-applypatch.sample  \n",
            "  inflating: headfirst-git-samples/chapter02/80s-diner-step-3/.git/hooks/pre-push.sample  \n",
            "  inflating: headfirst-git-samples/chapter02/80s-diner-step-3/.git/hooks/update.sample  \n",
            "  inflating: headfirst-git-samples/chapter02/80s-diner-step-3/.git/hooks/push-to-checkout.sample  \n",
            "   creating: headfirst-git-samples/chapter02/80s-diner-step-3/.git/refs/\n",
            "   creating: headfirst-git-samples/chapter02/80s-diner-step-3/.git/refs/heads/\n",
            " extracting: headfirst-git-samples/chapter02/80s-diner-step-3/.git/refs/heads/add-fall-menu  \n",
            " extracting: headfirst-git-samples/chapter02/80s-diner-step-3/.git/refs/heads/master  \n",
            "   creating: headfirst-git-samples/chapter02/80s-diner-step-3/.git/refs/tags/\n",
            "  inflating: headfirst-git-samples/chapter02/80s-diner-step-3/.git/index  \n",
            " extracting: headfirst-git-samples/chapter02/80s-diner-step-3/.git/COMMIT_EDITMSG  \n",
            " extracting: headfirst-git-samples/chapter02/tribute-1.md  \n",
            "  inflating: headfirst-git-samples/chapter02/fall-menu.md  \n",
            "  inflating: headfirst-git-samples/chapter02/tribute-2.md  \n",
            "  inflating: headfirst-git-samples/chapter02/tribute-3.md  \n",
            "   creating: headfirst-git-samples/chapter02/80s-diner-step-6/\n",
            "  inflating: headfirst-git-samples/chapter02/80s-diner-step-6/thursdays-menu.md  \n",
            "  inflating: headfirst-git-samples/chapter02/80s-diner-step-6/menu.md  \n",
            "  inflating: headfirst-git-samples/chapter02/80s-diner-step-6/fall-menu.md  \n",
            "   creating: headfirst-git-samples/chapter02/80s-diner-step-6/.git/\n",
            " extracting: headfirst-git-samples/chapter02/80s-diner-step-6/.git/ORIG_HEAD  \n",
            "  inflating: headfirst-git-samples/chapter02/80s-diner-step-6/.git/config  \n",
            "   creating: headfirst-git-samples/chapter02/80s-diner-step-6/.git/objects/\n",
            "   creating: headfirst-git-samples/chapter02/80s-diner-step-6/.git/objects/33/\n",
            " extracting: headfirst-git-samples/chapter02/80s-diner-step-6/.git/objects/33/fe840e1ed0d79c002a2b02b2781ed273ba46bb  \n",
            "   creating: headfirst-git-samples/chapter02/80s-diner-step-6/.git/objects/a2/\n",
            " extracting: headfirst-git-samples/chapter02/80s-diner-step-6/.git/objects/a2/f84e5cb18735ca43ea9bfe211f40049dcbc81c  \n",
            "   creating: headfirst-git-samples/chapter02/80s-diner-step-6/.git/objects/bd/\n",
            " extracting: headfirst-git-samples/chapter02/80s-diner-step-6/.git/objects/bd/eea6ffad008de2a564b932cf4c89ac92f9b051  \n",
            "   creating: headfirst-git-samples/chapter02/80s-diner-step-6/.git/objects/fe/\n",
            " extracting: headfirst-git-samples/chapter02/80s-diner-step-6/.git/objects/fe/548be5d0c9ca4ad0792851d7a173d9757137ad  \n",
            "   creating: headfirst-git-samples/chapter02/80s-diner-step-6/.git/objects/20/\n",
            " extracting: headfirst-git-samples/chapter02/80s-diner-step-6/.git/objects/20/9c9e674ce103ccf0b38e17cf3d17906949314f  \n",
            "   creating: headfirst-git-samples/chapter02/80s-diner-step-6/.git/objects/pack/\n",
            "   creating: headfirst-git-samples/chapter02/80s-diner-step-6/.git/objects/info/\n",
            "   creating: headfirst-git-samples/chapter02/80s-diner-step-6/.git/objects/62/\n",
            " extracting: headfirst-git-samples/chapter02/80s-diner-step-6/.git/objects/62/c0f7fdee0ecb90ef4f34068c52f0b077838c93  \n",
            "   creating: headfirst-git-samples/chapter02/80s-diner-step-6/.git/objects/06/\n",
            " extracting: headfirst-git-samples/chapter02/80s-diner-step-6/.git/objects/06/4703be08d0eb9ed2646e67839ee563b63de2ff  \n",
            " extracting: headfirst-git-samples/chapter02/80s-diner-step-6/.git/objects/06/f08b89b583d1c001a04fea95a074e3226b24e7  \n",
            "   creating: headfirst-git-samples/chapter02/80s-diner-step-6/.git/objects/97/\n",
            " extracting: headfirst-git-samples/chapter02/80s-diner-step-6/.git/objects/97/cfcf187eccc8a1eb7861264f3198320b3f7bab  \n",
            "   creating: headfirst-git-samples/chapter02/80s-diner-step-6/.git/objects/ef/\n",
            " extracting: headfirst-git-samples/chapter02/80s-diner-step-6/.git/objects/ef/36cc70124cfd54a942a972efd557691e15cc04  \n",
            "   creating: headfirst-git-samples/chapter02/80s-diner-step-6/.git/objects/ea/\n",
            " extracting: headfirst-git-samples/chapter02/80s-diner-step-6/.git/objects/ea/6b05ef4c9ef211080a842a7729c51d89716ac8  \n",
            "   creating: headfirst-git-samples/chapter02/80s-diner-step-6/.git/objects/46/\n",
            " extracting: headfirst-git-samples/chapter02/80s-diner-step-6/.git/objects/46/98158fafdd9e92c78e9cbfaf8978c189edbbdf  \n",
            "   creating: headfirst-git-samples/chapter02/80s-diner-step-6/.git/objects/24/\n",
            " extracting: headfirst-git-samples/chapter02/80s-diner-step-6/.git/objects/24/5482d33cfe186360c0f3b822d5a31ef0b405c5  \n",
            "   creating: headfirst-git-samples/chapter02/80s-diner-step-6/.git/objects/4f/\n",
            " extracting: headfirst-git-samples/chapter02/80s-diner-step-6/.git/objects/4f/41f1fda4fb0adf9a556815716a64929f884225  \n",
            " extracting: headfirst-git-samples/chapter02/80s-diner-step-6/.git/HEAD  \n",
            "   creating: headfirst-git-samples/chapter02/80s-diner-step-6/.git/info/\n",
            "  inflating: headfirst-git-samples/chapter02/80s-diner-step-6/.git/info/exclude  \n",
            "   creating: headfirst-git-samples/chapter02/80s-diner-step-6/.git/logs/\n",
            "  inflating: headfirst-git-samples/chapter02/80s-diner-step-6/.git/logs/HEAD  \n",
            "   creating: headfirst-git-samples/chapter02/80s-diner-step-6/.git/logs/refs/\n",
            "   creating: headfirst-git-samples/chapter02/80s-diner-step-6/.git/logs/refs/heads/\n",
            "  inflating: headfirst-git-samples/chapter02/80s-diner-step-6/.git/logs/refs/heads/add-thurs-menu  \n",
            "  inflating: headfirst-git-samples/chapter02/80s-diner-step-6/.git/logs/refs/heads/add-fall-menu  \n",
            "  inflating: headfirst-git-samples/chapter02/80s-diner-step-6/.git/logs/refs/heads/master  \n",
            "  inflating: headfirst-git-samples/chapter02/80s-diner-step-6/.git/description  \n",
            "   creating: headfirst-git-samples/chapter02/80s-diner-step-6/.git/hooks/\n",
            "  inflating: headfirst-git-samples/chapter02/80s-diner-step-6/.git/hooks/commit-msg.sample  \n",
            "  inflating: headfirst-git-samples/chapter02/80s-diner-step-6/.git/hooks/pre-rebase.sample  \n",
            "  inflating: headfirst-git-samples/chapter02/80s-diner-step-6/.git/hooks/pre-commit.sample  \n",
            "  inflating: headfirst-git-samples/chapter02/80s-diner-step-6/.git/hooks/applypatch-msg.sample  \n",
            "  inflating: headfirst-git-samples/chapter02/80s-diner-step-6/.git/hooks/fsmonitor-watchman.sample  \n",
            "  inflating: headfirst-git-samples/chapter02/80s-diner-step-6/.git/hooks/pre-receive.sample  \n",
            "  inflating: headfirst-git-samples/chapter02/80s-diner-step-6/.git/hooks/prepare-commit-msg.sample  \n",
            "  inflating: headfirst-git-samples/chapter02/80s-diner-step-6/.git/hooks/post-update.sample  \n",
            "  inflating: headfirst-git-samples/chapter02/80s-diner-step-6/.git/hooks/pre-merge-commit.sample  \n",
            "  inflating: headfirst-git-samples/chapter02/80s-diner-step-6/.git/hooks/pre-applypatch.sample  \n",
            "  inflating: headfirst-git-samples/chapter02/80s-diner-step-6/.git/hooks/pre-push.sample  \n",
            "  inflating: headfirst-git-samples/chapter02/80s-diner-step-6/.git/hooks/update.sample  \n",
            "  inflating: headfirst-git-samples/chapter02/80s-diner-step-6/.git/hooks/push-to-checkout.sample  \n",
            "   creating: headfirst-git-samples/chapter02/80s-diner-step-6/.git/refs/\n",
            "   creating: headfirst-git-samples/chapter02/80s-diner-step-6/.git/refs/heads/\n",
            " extracting: headfirst-git-samples/chapter02/80s-diner-step-6/.git/refs/heads/add-thurs-menu  \n",
            " extracting: headfirst-git-samples/chapter02/80s-diner-step-6/.git/refs/heads/add-fall-menu  \n",
            " extracting: headfirst-git-samples/chapter02/80s-diner-step-6/.git/refs/heads/master  \n",
            "   creating: headfirst-git-samples/chapter02/80s-diner-step-6/.git/refs/tags/\n",
            "  inflating: headfirst-git-samples/chapter02/80s-diner-step-6/.git/index  \n",
            " extracting: headfirst-git-samples/chapter02/80s-diner-step-6/.git/COMMIT_EDITMSG  \n",
            "   creating: headfirst-git-samples/chapter02/80s-diner-step-1/\n",
            "  inflating: headfirst-git-samples/chapter02/80s-diner-step-1/menu.md  \n",
            "   creating: headfirst-git-samples/chapter02/80s-diner-step-1/.git/\n",
            "  inflating: headfirst-git-samples/chapter02/80s-diner-step-1/.git/config  \n",
            "   creating: headfirst-git-samples/chapter02/80s-diner-step-1/.git/objects/\n",
            "   creating: headfirst-git-samples/chapter02/80s-diner-step-1/.git/objects/a2/\n",
            " extracting: headfirst-git-samples/chapter02/80s-diner-step-1/.git/objects/a2/f84e5cb18735ca43ea9bfe211f40049dcbc81c  \n",
            "   creating: headfirst-git-samples/chapter02/80s-diner-step-1/.git/objects/pack/\n",
            "   creating: headfirst-git-samples/chapter02/80s-diner-step-1/.git/objects/info/\n",
            "   creating: headfirst-git-samples/chapter02/80s-diner-step-1/.git/objects/ef/\n",
            " extracting: headfirst-git-samples/chapter02/80s-diner-step-1/.git/objects/ef/36cc70124cfd54a942a972efd557691e15cc04  \n",
            "   creating: headfirst-git-samples/chapter02/80s-diner-step-1/.git/objects/ea/\n",
            " extracting: headfirst-git-samples/chapter02/80s-diner-step-1/.git/objects/ea/6b05ef4c9ef211080a842a7729c51d89716ac8  \n",
            " extracting: headfirst-git-samples/chapter02/80s-diner-step-1/.git/HEAD  \n",
            "   creating: headfirst-git-samples/chapter02/80s-diner-step-1/.git/info/\n",
            "  inflating: headfirst-git-samples/chapter02/80s-diner-step-1/.git/info/exclude  \n",
            "   creating: headfirst-git-samples/chapter02/80s-diner-step-1/.git/logs/\n",
            "  inflating: headfirst-git-samples/chapter02/80s-diner-step-1/.git/logs/HEAD  \n",
            "   creating: headfirst-git-samples/chapter02/80s-diner-step-1/.git/logs/refs/\n",
            "   creating: headfirst-git-samples/chapter02/80s-diner-step-1/.git/logs/refs/heads/\n",
            "  inflating: headfirst-git-samples/chapter02/80s-diner-step-1/.git/logs/refs/heads/master  \n",
            "  inflating: headfirst-git-samples/chapter02/80s-diner-step-1/.git/description  \n",
            "   creating: headfirst-git-samples/chapter02/80s-diner-step-1/.git/hooks/\n",
            "  inflating: headfirst-git-samples/chapter02/80s-diner-step-1/.git/hooks/commit-msg.sample  \n",
            "  inflating: headfirst-git-samples/chapter02/80s-diner-step-1/.git/hooks/pre-rebase.sample  \n",
            "  inflating: headfirst-git-samples/chapter02/80s-diner-step-1/.git/hooks/pre-commit.sample  \n",
            "  inflating: headfirst-git-samples/chapter02/80s-diner-step-1/.git/hooks/applypatch-msg.sample  \n",
            "  inflating: headfirst-git-samples/chapter02/80s-diner-step-1/.git/hooks/fsmonitor-watchman.sample  \n",
            "  inflating: headfirst-git-samples/chapter02/80s-diner-step-1/.git/hooks/pre-receive.sample  \n",
            "  inflating: headfirst-git-samples/chapter02/80s-diner-step-1/.git/hooks/prepare-commit-msg.sample  \n",
            "  inflating: headfirst-git-samples/chapter02/80s-diner-step-1/.git/hooks/post-update.sample  \n",
            "  inflating: headfirst-git-samples/chapter02/80s-diner-step-1/.git/hooks/pre-merge-commit.sample  \n",
            "  inflating: headfirst-git-samples/chapter02/80s-diner-step-1/.git/hooks/pre-applypatch.sample  \n",
            "  inflating: headfirst-git-samples/chapter02/80s-diner-step-1/.git/hooks/pre-push.sample  \n",
            "  inflating: headfirst-git-samples/chapter02/80s-diner-step-1/.git/hooks/update.sample  \n",
            "  inflating: headfirst-git-samples/chapter02/80s-diner-step-1/.git/hooks/push-to-checkout.sample  \n",
            "   creating: headfirst-git-samples/chapter02/80s-diner-step-1/.git/refs/\n",
            "   creating: headfirst-git-samples/chapter02/80s-diner-step-1/.git/refs/heads/\n",
            " extracting: headfirst-git-samples/chapter02/80s-diner-step-1/.git/refs/heads/master  \n",
            "   creating: headfirst-git-samples/chapter02/80s-diner-step-1/.git/refs/tags/\n",
            "  inflating: headfirst-git-samples/chapter02/80s-diner-step-1/.git/index  \n",
            " extracting: headfirst-git-samples/chapter02/80s-diner-step-1/.git/COMMIT_EDITMSG  \n",
            "   creating: headfirst-git-samples/chapter03/\n",
            "   creating: headfirst-git-samples/chapter03/resume/\n",
            "  inflating: headfirst-git-samples/chapter03/resume/resume.md  \n",
            "   creating: headfirst-git-samples/chapter03/resume/.git/\n",
            "  inflating: headfirst-git-samples/chapter03/resume/.git/config  \n",
            "   creating: headfirst-git-samples/chapter03/resume/.git/objects/\n",
            "   creating: headfirst-git-samples/chapter03/resume/.git/objects/35/\n",
            " extracting: headfirst-git-samples/chapter03/resume/.git/objects/35/e874bd685d9a293cf18683f546714adfb36107  \n",
            "   creating: headfirst-git-samples/chapter03/resume/.git/objects/c9/\n",
            " extracting: headfirst-git-samples/chapter03/resume/.git/objects/c9/6d0920be2fe72b7bbd742548d2d93fbaf0a1ff  \n",
            "   creating: headfirst-git-samples/chapter03/resume/.git/objects/pack/\n",
            "   creating: headfirst-git-samples/chapter03/resume/.git/objects/42/\n",
            " extracting: headfirst-git-samples/chapter03/resume/.git/objects/42/89c38127d4004aa6f3f1af4b31e89e3f35cc2c  \n",
            "   creating: headfirst-git-samples/chapter03/resume/.git/objects/73/\n",
            " extracting: headfirst-git-samples/chapter03/resume/.git/objects/73/d57b6a0d6e462401d76497d5e59b122c858498  \n",
            "   creating: headfirst-git-samples/chapter03/resume/.git/objects/19/\n",
            " extracting: headfirst-git-samples/chapter03/resume/.git/objects/19/30f11d18b3e1a1c497dd153932fee4dd2b64c5  \n",
            " extracting: headfirst-git-samples/chapter03/resume/.git/objects/19/3853c6249df4af771b25e1acab8beac0ef1fc3  \n",
            "   creating: headfirst-git-samples/chapter03/resume/.git/objects/88/\n",
            " extracting: headfirst-git-samples/chapter03/resume/.git/objects/88/4224626a66cb5be6de9c0f5e6b7a999b30c132  \n",
            "   creating: headfirst-git-samples/chapter03/resume/.git/objects/38/\n",
            " extracting: headfirst-git-samples/chapter03/resume/.git/objects/38/a7176232c73366847ac647a94617d1c49c6c9f  \n",
            "   creating: headfirst-git-samples/chapter03/resume/.git/objects/info/\n",
            "   creating: headfirst-git-samples/chapter03/resume/.git/objects/30/\n",
            " extracting: headfirst-git-samples/chapter03/resume/.git/objects/30/44fa87740a7dfae9146eee9044b2b34ddd6293  \n",
            "   creating: headfirst-git-samples/chapter03/resume/.git/objects/90/\n",
            " extracting: headfirst-git-samples/chapter03/resume/.git/objects/90/a3260e9122cdbd0db3c9f1a2d03248cff1a817  \n",
            "   creating: headfirst-git-samples/chapter03/resume/.git/objects/e7/\n",
            " extracting: headfirst-git-samples/chapter03/resume/.git/objects/e7/dd8c4c502db1e301a30b09bf77e88e8a4dc28e  \n",
            "   creating: headfirst-git-samples/chapter03/resume/.git/objects/77/\n",
            " extracting: headfirst-git-samples/chapter03/resume/.git/objects/77/ef6f6e55276ce7e8f4cbc49b5ee3326565c3d1  \n",
            " extracting: headfirst-git-samples/chapter03/resume/.git/HEAD  \n",
            "   creating: headfirst-git-samples/chapter03/resume/.git/info/\n",
            "  inflating: headfirst-git-samples/chapter03/resume/.git/info/exclude  \n",
            "   creating: headfirst-git-samples/chapter03/resume/.git/logs/\n",
            "  inflating: headfirst-git-samples/chapter03/resume/.git/logs/HEAD  \n",
            "   creating: headfirst-git-samples/chapter03/resume/.git/logs/refs/\n",
            "   creating: headfirst-git-samples/chapter03/resume/.git/logs/refs/heads/\n",
            "  inflating: headfirst-git-samples/chapter03/resume/.git/logs/refs/heads/add-skills  \n",
            "  inflating: headfirst-git-samples/chapter03/resume/.git/logs/refs/heads/edit-per-scotty  \n",
            "  inflating: headfirst-git-samples/chapter03/resume/.git/logs/refs/heads/master  \n",
            "  inflating: headfirst-git-samples/chapter03/resume/.git/description  \n",
            "   creating: headfirst-git-samples/chapter03/resume/.git/hooks/\n",
            "  inflating: headfirst-git-samples/chapter03/resume/.git/hooks/commit-msg.sample  \n",
            "  inflating: headfirst-git-samples/chapter03/resume/.git/hooks/pre-rebase.sample  \n",
            "  inflating: headfirst-git-samples/chapter03/resume/.git/hooks/pre-commit.sample  \n",
            "  inflating: headfirst-git-samples/chapter03/resume/.git/hooks/applypatch-msg.sample  \n",
            "  inflating: headfirst-git-samples/chapter03/resume/.git/hooks/fsmonitor-watchman.sample  \n",
            "  inflating: headfirst-git-samples/chapter03/resume/.git/hooks/pre-receive.sample  \n",
            "  inflating: headfirst-git-samples/chapter03/resume/.git/hooks/prepare-commit-msg.sample  \n",
            "  inflating: headfirst-git-samples/chapter03/resume/.git/hooks/post-update.sample  \n",
            "  inflating: headfirst-git-samples/chapter03/resume/.git/hooks/pre-merge-commit.sample  \n",
            "  inflating: headfirst-git-samples/chapter03/resume/.git/hooks/pre-applypatch.sample  \n",
            "  inflating: headfirst-git-samples/chapter03/resume/.git/hooks/pre-push.sample  \n",
            "  inflating: headfirst-git-samples/chapter03/resume/.git/hooks/update.sample  \n",
            "  inflating: headfirst-git-samples/chapter03/resume/.git/hooks/push-to-checkout.sample  \n",
            "   creating: headfirst-git-samples/chapter03/resume/.git/refs/\n",
            "   creating: headfirst-git-samples/chapter03/resume/.git/refs/heads/\n",
            " extracting: headfirst-git-samples/chapter03/resume/.git/refs/heads/add-skills  \n",
            " extracting: headfirst-git-samples/chapter03/resume/.git/refs/heads/edit-per-scotty  \n",
            " extracting: headfirst-git-samples/chapter03/resume/.git/refs/heads/master  \n",
            "   creating: headfirst-git-samples/chapter03/resume/.git/refs/tags/\n",
            "  inflating: headfirst-git-samples/chapter03/resume/.git/index  \n",
            " extracting: headfirst-git-samples/chapter03/resume/.git/COMMIT_EDITMSG  \n",
            "  inflating: headfirst-git-samples/chapter03/resume.md  \n",
            "   creating: headfirst-git-samples/chapter03/resume-final/\n",
            "  inflating: headfirst-git-samples/chapter03/resume-final/resume.md  \n",
            "   creating: headfirst-git-samples/chapter03/resume-final/.git/\n",
            "  inflating: headfirst-git-samples/chapter03/resume-final/.git/config  \n",
            "   creating: headfirst-git-samples/chapter03/resume-final/.git/objects/\n",
            "   creating: headfirst-git-samples/chapter03/resume-final/.git/objects/35/\n",
            " extracting: headfirst-git-samples/chapter03/resume-final/.git/objects/35/e874bd685d9a293cf18683f546714adfb36107  \n",
            "   creating: headfirst-git-samples/chapter03/resume-final/.git/objects/b3/\n",
            " extracting: headfirst-git-samples/chapter03/resume-final/.git/objects/b3/94a0782f04590e32ab690c543b62fbdffd5444  \n",
            "   creating: headfirst-git-samples/chapter03/resume-final/.git/objects/c9/\n",
            " extracting: headfirst-git-samples/chapter03/resume-final/.git/objects/c9/6d0920be2fe72b7bbd742548d2d93fbaf0a1ff  \n",
            "   creating: headfirst-git-samples/chapter03/resume-final/.git/objects/pack/\n",
            "   creating: headfirst-git-samples/chapter03/resume-final/.git/objects/42/\n",
            " extracting: headfirst-git-samples/chapter03/resume-final/.git/objects/42/89c38127d4004aa6f3f1af4b31e89e3f35cc2c  \n",
            "   creating: headfirst-git-samples/chapter03/resume-final/.git/objects/73/\n",
            " extracting: headfirst-git-samples/chapter03/resume-final/.git/objects/73/d57b6a0d6e462401d76497d5e59b122c858498  \n",
            "   creating: headfirst-git-samples/chapter03/resume-final/.git/objects/19/\n",
            " extracting: headfirst-git-samples/chapter03/resume-final/.git/objects/19/30f11d18b3e1a1c497dd153932fee4dd2b64c5  \n",
            " extracting: headfirst-git-samples/chapter03/resume-final/.git/objects/19/3853c6249df4af771b25e1acab8beac0ef1fc3  \n",
            "   creating: headfirst-git-samples/chapter03/resume-final/.git/objects/88/\n",
            " extracting: headfirst-git-samples/chapter03/resume-final/.git/objects/88/4224626a66cb5be6de9c0f5e6b7a999b30c132  \n",
            "   creating: headfirst-git-samples/chapter03/resume-final/.git/objects/38/\n",
            " extracting: headfirst-git-samples/chapter03/resume-final/.git/objects/38/a7176232c73366847ac647a94617d1c49c6c9f  \n",
            "   creating: headfirst-git-samples/chapter03/resume-final/.git/objects/info/\n",
            "   creating: headfirst-git-samples/chapter03/resume-final/.git/objects/30/\n",
            " extracting: headfirst-git-samples/chapter03/resume-final/.git/objects/30/44fa87740a7dfae9146eee9044b2b34ddd6293  \n",
            "   creating: headfirst-git-samples/chapter03/resume-final/.git/objects/90/\n",
            " extracting: headfirst-git-samples/chapter03/resume-final/.git/objects/90/a3260e9122cdbd0db3c9f1a2d03248cff1a817  \n",
            "   creating: headfirst-git-samples/chapter03/resume-final/.git/objects/b1/\n",
            " extracting: headfirst-git-samples/chapter03/resume-final/.git/objects/b1/79a00e2e543ff4cbdf97cf2023bd1d4fea2f5b  \n",
            "   creating: headfirst-git-samples/chapter03/resume-final/.git/objects/e7/\n",
            " extracting: headfirst-git-samples/chapter03/resume-final/.git/objects/e7/dd8c4c502db1e301a30b09bf77e88e8a4dc28e  \n",
            "   creating: headfirst-git-samples/chapter03/resume-final/.git/objects/77/\n",
            " extracting: headfirst-git-samples/chapter03/resume-final/.git/objects/77/ef6f6e55276ce7e8f4cbc49b5ee3326565c3d1  \n",
            "   creating: headfirst-git-samples/chapter03/resume-final/.git/objects/84/\n",
            " extracting: headfirst-git-samples/chapter03/resume-final/.git/objects/84/6c398f5e9f1f380a8800b79d7acd032b7f5958  \n",
            " extracting: headfirst-git-samples/chapter03/resume-final/.git/HEAD  \n",
            "   creating: headfirst-git-samples/chapter03/resume-final/.git/info/\n",
            "  inflating: headfirst-git-samples/chapter03/resume-final/.git/info/exclude  \n",
            "   creating: headfirst-git-samples/chapter03/resume-final/.git/logs/\n",
            "  inflating: headfirst-git-samples/chapter03/resume-final/.git/logs/HEAD  \n",
            "   creating: headfirst-git-samples/chapter03/resume-final/.git/logs/refs/\n",
            "   creating: headfirst-git-samples/chapter03/resume-final/.git/logs/refs/heads/\n",
            "  inflating: headfirst-git-samples/chapter03/resume-final/.git/logs/refs/heads/add-skills  \n",
            "  inflating: headfirst-git-samples/chapter03/resume-final/.git/logs/refs/heads/edit-per-scotty  \n",
            "  inflating: headfirst-git-samples/chapter03/resume-final/.git/logs/refs/heads/master  \n",
            "  inflating: headfirst-git-samples/chapter03/resume-final/.git/description  \n",
            "   creating: headfirst-git-samples/chapter03/resume-final/.git/hooks/\n",
            "  inflating: headfirst-git-samples/chapter03/resume-final/.git/hooks/commit-msg.sample  \n",
            "  inflating: headfirst-git-samples/chapter03/resume-final/.git/hooks/pre-rebase.sample  \n",
            "  inflating: headfirst-git-samples/chapter03/resume-final/.git/hooks/pre-commit.sample  \n",
            "  inflating: headfirst-git-samples/chapter03/resume-final/.git/hooks/applypatch-msg.sample  \n",
            "  inflating: headfirst-git-samples/chapter03/resume-final/.git/hooks/fsmonitor-watchman.sample  \n",
            "  inflating: headfirst-git-samples/chapter03/resume-final/.git/hooks/pre-receive.sample  \n",
            "  inflating: headfirst-git-samples/chapter03/resume-final/.git/hooks/prepare-commit-msg.sample  \n",
            "  inflating: headfirst-git-samples/chapter03/resume-final/.git/hooks/post-update.sample  \n",
            "  inflating: headfirst-git-samples/chapter03/resume-final/.git/hooks/pre-merge-commit.sample  \n",
            "  inflating: headfirst-git-samples/chapter03/resume-final/.git/hooks/pre-applypatch.sample  \n",
            "  inflating: headfirst-git-samples/chapter03/resume-final/.git/hooks/pre-push.sample  \n",
            "  inflating: headfirst-git-samples/chapter03/resume-final/.git/hooks/update.sample  \n",
            "  inflating: headfirst-git-samples/chapter03/resume-final/.git/hooks/push-to-checkout.sample  \n",
            "   creating: headfirst-git-samples/chapter03/resume-final/.git/refs/\n",
            "   creating: headfirst-git-samples/chapter03/resume-final/.git/refs/heads/\n",
            " extracting: headfirst-git-samples/chapter03/resume-final/.git/refs/heads/add-skills  \n",
            " extracting: headfirst-git-samples/chapter03/resume-final/.git/refs/heads/edit-per-scotty  \n",
            " extracting: headfirst-git-samples/chapter03/resume-final/.git/refs/heads/master  \n",
            "   creating: headfirst-git-samples/chapter03/resume-final/.git/refs/tags/\n",
            "  inflating: headfirst-git-samples/chapter03/resume-final/.git/index  \n",
            " extracting: headfirst-git-samples/chapter03/resume-final/.git/COMMIT_EDITMSG  \n",
            "  inflating: headfirst-git-samples/chapter03/saucy.md  \n",
            "   creating: headfirst-git-samples/chapter03/recipes-final/\n",
            "  inflating: headfirst-git-samples/chapter03/recipes-final/saucy.md  \n",
            "   creating: headfirst-git-samples/chapter03/recipes-final/.git/\n",
            "  inflating: headfirst-git-samples/chapter03/recipes-final/.git/config  \n",
            "   creating: headfirst-git-samples/chapter03/recipes-final/.git/objects/\n",
            "   creating: headfirst-git-samples/chapter03/recipes-final/.git/objects/32/\n",
            " extracting: headfirst-git-samples/chapter03/recipes-final/.git/objects/32/367d76530da8fe77922aa905931ccf1fbd7524  \n",
            "   creating: headfirst-git-samples/chapter03/recipes-final/.git/objects/0b/\n",
            " extracting: headfirst-git-samples/chapter03/recipes-final/.git/objects/0b/77f5b1f5293a95266cabbaea8cb6eca7a405c2  \n",
            "   creating: headfirst-git-samples/chapter03/recipes-final/.git/objects/60/\n",
            " extracting: headfirst-git-samples/chapter03/recipes-final/.git/objects/60/823b62c74379070c5d95c6395d5aa5d7162648  \n",
            "   creating: headfirst-git-samples/chapter03/recipes-final/.git/objects/c7/\n",
            " extracting: headfirst-git-samples/chapter03/recipes-final/.git/objects/c7/aff3f2cf2888491bb6fc8a88f53bccdcec4a97  \n",
            "   creating: headfirst-git-samples/chapter03/recipes-final/.git/objects/20/\n",
            " extracting: headfirst-git-samples/chapter03/recipes-final/.git/objects/20/b7e5af8bc8c11cc216ba18c1e6b03ff0a276d7  \n",
            "   creating: headfirst-git-samples/chapter03/recipes-final/.git/objects/pack/\n",
            "   creating: headfirst-git-samples/chapter03/recipes-final/.git/objects/4c/\n",
            " extracting: headfirst-git-samples/chapter03/recipes-final/.git/objects/4c/ca5a7b3225a88c2df12bd157f5877bc3dded9e  \n",
            "   creating: headfirst-git-samples/chapter03/recipes-final/.git/objects/72/\n",
            " extracting: headfirst-git-samples/chapter03/recipes-final/.git/objects/72/5ed730222c4de63fcd5cac62d3331a659009b2  \n",
            "   creating: headfirst-git-samples/chapter03/recipes-final/.git/objects/00/\n",
            " extracting: headfirst-git-samples/chapter03/recipes-final/.git/objects/00/65b8a0b8d6d4f2efc864c09437f8f5aa0b9773  \n",
            "   creating: headfirst-git-samples/chapter03/recipes-final/.git/objects/5d/\n",
            " extracting: headfirst-git-samples/chapter03/recipes-final/.git/objects/5d/b2b68c4cf2699e89fe1b526a7e4a171d83b2ef  \n",
            "   creating: headfirst-git-samples/chapter03/recipes-final/.git/objects/info/\n",
            "   creating: headfirst-git-samples/chapter03/recipes-final/.git/objects/54/\n",
            " extracting: headfirst-git-samples/chapter03/recipes-final/.git/objects/54/9e0da551c2a6427fb7b281093702cb449261ed  \n",
            "   creating: headfirst-git-samples/chapter03/recipes-final/.git/objects/3f/\n",
            " extracting: headfirst-git-samples/chapter03/recipes-final/.git/objects/3f/421bee9cf235623703d7ad493d4abc1b008778  \n",
            "   creating: headfirst-git-samples/chapter03/recipes-final/.git/objects/37/\n",
            " extracting: headfirst-git-samples/chapter03/recipes-final/.git/objects/37/64dbff998d581d5d22a9ee879bdd3e4ffb907a  \n",
            "   creating: headfirst-git-samples/chapter03/recipes-final/.git/objects/06/\n",
            " extracting: headfirst-git-samples/chapter03/recipes-final/.git/objects/06/b0890d2fb603e9d07f7421a04d7df2ca0346ab  \n",
            "   creating: headfirst-git-samples/chapter03/recipes-final/.git/objects/af/\n",
            " extracting: headfirst-git-samples/chapter03/recipes-final/.git/objects/af/fa4a4ca178ad1d8e8bb6e3b838a6fd2934f121  \n",
            "   creating: headfirst-git-samples/chapter03/recipes-final/.git/objects/ea/\n",
            " extracting: headfirst-git-samples/chapter03/recipes-final/.git/objects/ea/81b3dd1ff5b9567a8481584e32b86b64243980  \n",
            "   creating: headfirst-git-samples/chapter03/recipes-final/.git/objects/f8/\n",
            " extracting: headfirst-git-samples/chapter03/recipes-final/.git/objects/f8/d2bc210502fe26b6b84753bf0ffd7018d19127  \n",
            "   creating: headfirst-git-samples/chapter03/recipes-final/.git/objects/8d/\n",
            " extracting: headfirst-git-samples/chapter03/recipes-final/.git/objects/8d/49c34fbe7655feb3a76fc1510578fb6ab6d0ef  \n",
            " extracting: headfirst-git-samples/chapter03/recipes-final/.git/objects/8d/670e93e297b126fc0466caf37c0033b6c018ab  \n",
            " extracting: headfirst-git-samples/chapter03/recipes-final/.git/HEAD  \n",
            "   creating: headfirst-git-samples/chapter03/recipes-final/.git/info/\n",
            "  inflating: headfirst-git-samples/chapter03/recipes-final/.git/info/exclude  \n",
            "   creating: headfirst-git-samples/chapter03/recipes-final/.git/logs/\n",
            "  inflating: headfirst-git-samples/chapter03/recipes-final/.git/logs/HEAD  \n",
            "   creating: headfirst-git-samples/chapter03/recipes-final/.git/logs/refs/\n",
            "   creating: headfirst-git-samples/chapter03/recipes-final/.git/logs/refs/heads/\n",
            "  inflating: headfirst-git-samples/chapter03/recipes-final/.git/logs/refs/heads/master  \n",
            "  inflating: headfirst-git-samples/chapter03/recipes-final/.git/logs/refs/heads/different-base  \n",
            "  inflating: headfirst-git-samples/chapter03/recipes-final/.git/logs/refs/heads/spicy-version  \n",
            "  inflating: headfirst-git-samples/chapter03/recipes-final/.git/description  \n",
            "   creating: headfirst-git-samples/chapter03/recipes-final/.git/hooks/\n",
            "  inflating: headfirst-git-samples/chapter03/recipes-final/.git/hooks/commit-msg.sample  \n",
            "  inflating: headfirst-git-samples/chapter03/recipes-final/.git/hooks/pre-rebase.sample  \n",
            "  inflating: headfirst-git-samples/chapter03/recipes-final/.git/hooks/pre-commit.sample  \n",
            "  inflating: headfirst-git-samples/chapter03/recipes-final/.git/hooks/applypatch-msg.sample  \n",
            "  inflating: headfirst-git-samples/chapter03/recipes-final/.git/hooks/fsmonitor-watchman.sample  \n",
            "  inflating: headfirst-git-samples/chapter03/recipes-final/.git/hooks/pre-receive.sample  \n",
            "  inflating: headfirst-git-samples/chapter03/recipes-final/.git/hooks/prepare-commit-msg.sample  \n",
            "  inflating: headfirst-git-samples/chapter03/recipes-final/.git/hooks/post-update.sample  \n",
            "  inflating: headfirst-git-samples/chapter03/recipes-final/.git/hooks/pre-merge-commit.sample  \n",
            "  inflating: headfirst-git-samples/chapter03/recipes-final/.git/hooks/pre-applypatch.sample  \n",
            "  inflating: headfirst-git-samples/chapter03/recipes-final/.git/hooks/pre-push.sample  \n",
            "  inflating: headfirst-git-samples/chapter03/recipes-final/.git/hooks/update.sample  \n",
            "  inflating: headfirst-git-samples/chapter03/recipes-final/.git/hooks/push-to-checkout.sample  \n",
            "   creating: headfirst-git-samples/chapter03/recipes-final/.git/refs/\n",
            "   creating: headfirst-git-samples/chapter03/recipes-final/.git/refs/heads/\n",
            " extracting: headfirst-git-samples/chapter03/recipes-final/.git/refs/heads/master  \n",
            " extracting: headfirst-git-samples/chapter03/recipes-final/.git/refs/heads/different-base  \n",
            " extracting: headfirst-git-samples/chapter03/recipes-final/.git/refs/heads/spicy-version  \n",
            "   creating: headfirst-git-samples/chapter03/recipes-final/.git/refs/tags/\n",
            "  inflating: headfirst-git-samples/chapter03/recipes-final/.git/index  \n",
            " extracting: headfirst-git-samples/chapter03/recipes-final/.git/COMMIT_EDITMSG  \n",
            "   creating: headfirst-git-samples/chapter03/recipes/\n",
            "  inflating: headfirst-git-samples/chapter03/recipes/saucy.md  \n",
            "   creating: headfirst-git-samples/chapter03/recipes/.git/\n",
            "  inflating: headfirst-git-samples/chapter03/recipes/.git/config  \n",
            "   creating: headfirst-git-samples/chapter03/recipes/.git/objects/\n",
            "   creating: headfirst-git-samples/chapter03/recipes/.git/objects/0b/\n",
            " extracting: headfirst-git-samples/chapter03/recipes/.git/objects/0b/77f5b1f5293a95266cabbaea8cb6eca7a405c2  \n",
            "   creating: headfirst-git-samples/chapter03/recipes/.git/objects/60/\n",
            " extracting: headfirst-git-samples/chapter03/recipes/.git/objects/60/823b62c74379070c5d95c6395d5aa5d7162648  \n",
            "   creating: headfirst-git-samples/chapter03/recipes/.git/objects/c7/\n",
            " extracting: headfirst-git-samples/chapter03/recipes/.git/objects/c7/aff3f2cf2888491bb6fc8a88f53bccdcec4a97  \n",
            "   creating: headfirst-git-samples/chapter03/recipes/.git/objects/20/\n",
            " extracting: headfirst-git-samples/chapter03/recipes/.git/objects/20/b7e5af8bc8c11cc216ba18c1e6b03ff0a276d7  \n",
            "   creating: headfirst-git-samples/chapter03/recipes/.git/objects/pack/\n",
            "   creating: headfirst-git-samples/chapter03/recipes/.git/objects/4c/\n",
            " extracting: headfirst-git-samples/chapter03/recipes/.git/objects/4c/ca5a7b3225a88c2df12bd157f5877bc3dded9e  \n",
            "   creating: headfirst-git-samples/chapter03/recipes/.git/objects/00/\n",
            " extracting: headfirst-git-samples/chapter03/recipes/.git/objects/00/65b8a0b8d6d4f2efc864c09437f8f5aa0b9773  \n",
            "   creating: headfirst-git-samples/chapter03/recipes/.git/objects/5d/\n",
            " extracting: headfirst-git-samples/chapter03/recipes/.git/objects/5d/b2b68c4cf2699e89fe1b526a7e4a171d83b2ef  \n",
            "   creating: headfirst-git-samples/chapter03/recipes/.git/objects/info/\n",
            "   creating: headfirst-git-samples/chapter03/recipes/.git/objects/54/\n",
            " extracting: headfirst-git-samples/chapter03/recipes/.git/objects/54/9e0da551c2a6427fb7b281093702cb449261ed  \n",
            "   creating: headfirst-git-samples/chapter03/recipes/.git/objects/3f/\n",
            " extracting: headfirst-git-samples/chapter03/recipes/.git/objects/3f/421bee9cf235623703d7ad493d4abc1b008778  \n",
            "   creating: headfirst-git-samples/chapter03/recipes/.git/objects/37/\n",
            " extracting: headfirst-git-samples/chapter03/recipes/.git/objects/37/64dbff998d581d5d22a9ee879bdd3e4ffb907a  \n",
            "   creating: headfirst-git-samples/chapter03/recipes/.git/objects/06/\n",
            " extracting: headfirst-git-samples/chapter03/recipes/.git/objects/06/b0890d2fb603e9d07f7421a04d7df2ca0346ab  \n",
            "   creating: headfirst-git-samples/chapter03/recipes/.git/objects/af/\n",
            " extracting: headfirst-git-samples/chapter03/recipes/.git/objects/af/fa4a4ca178ad1d8e8bb6e3b838a6fd2934f121  \n",
            "   creating: headfirst-git-samples/chapter03/recipes/.git/objects/ea/\n",
            " extracting: headfirst-git-samples/chapter03/recipes/.git/objects/ea/81b3dd1ff5b9567a8481584e32b86b64243980  \n",
            "   creating: headfirst-git-samples/chapter03/recipes/.git/objects/f8/\n",
            " extracting: headfirst-git-samples/chapter03/recipes/.git/objects/f8/d2bc210502fe26b6b84753bf0ffd7018d19127  \n",
            "   creating: headfirst-git-samples/chapter03/recipes/.git/objects/8d/\n",
            " extracting: headfirst-git-samples/chapter03/recipes/.git/objects/8d/670e93e297b126fc0466caf37c0033b6c018ab  \n",
            " extracting: headfirst-git-samples/chapter03/recipes/.git/HEAD  \n",
            "   creating: headfirst-git-samples/chapter03/recipes/.git/info/\n",
            "  inflating: headfirst-git-samples/chapter03/recipes/.git/info/exclude  \n",
            "   creating: headfirst-git-samples/chapter03/recipes/.git/logs/\n",
            "  inflating: headfirst-git-samples/chapter03/recipes/.git/logs/HEAD  \n",
            "   creating: headfirst-git-samples/chapter03/recipes/.git/logs/refs/\n",
            "   creating: headfirst-git-samples/chapter03/recipes/.git/logs/refs/heads/\n",
            "  inflating: headfirst-git-samples/chapter03/recipes/.git/logs/refs/heads/master  \n",
            "  inflating: headfirst-git-samples/chapter03/recipes/.git/logs/refs/heads/different-base  \n",
            "  inflating: headfirst-git-samples/chapter03/recipes/.git/logs/refs/heads/spicy-version  \n",
            "  inflating: headfirst-git-samples/chapter03/recipes/.git/description  \n",
            "   creating: headfirst-git-samples/chapter03/recipes/.git/hooks/\n",
            "  inflating: headfirst-git-samples/chapter03/recipes/.git/hooks/commit-msg.sample  \n",
            "  inflating: headfirst-git-samples/chapter03/recipes/.git/hooks/pre-rebase.sample  \n",
            "  inflating: headfirst-git-samples/chapter03/recipes/.git/hooks/pre-commit.sample  \n",
            "  inflating: headfirst-git-samples/chapter03/recipes/.git/hooks/applypatch-msg.sample  \n",
            "  inflating: headfirst-git-samples/chapter03/recipes/.git/hooks/fsmonitor-watchman.sample  \n",
            "  inflating: headfirst-git-samples/chapter03/recipes/.git/hooks/pre-receive.sample  \n",
            "  inflating: headfirst-git-samples/chapter03/recipes/.git/hooks/prepare-commit-msg.sample  \n",
            "  inflating: headfirst-git-samples/chapter03/recipes/.git/hooks/post-update.sample  \n",
            "  inflating: headfirst-git-samples/chapter03/recipes/.git/hooks/pre-merge-commit.sample  \n",
            "  inflating: headfirst-git-samples/chapter03/recipes/.git/hooks/pre-applypatch.sample  \n",
            "  inflating: headfirst-git-samples/chapter03/recipes/.git/hooks/pre-push.sample  \n",
            "  inflating: headfirst-git-samples/chapter03/recipes/.git/hooks/update.sample  \n",
            "  inflating: headfirst-git-samples/chapter03/recipes/.git/hooks/push-to-checkout.sample  \n",
            "   creating: headfirst-git-samples/chapter03/recipes/.git/refs/\n",
            "   creating: headfirst-git-samples/chapter03/recipes/.git/refs/heads/\n",
            " extracting: headfirst-git-samples/chapter03/recipes/.git/refs/heads/master  \n",
            " extracting: headfirst-git-samples/chapter03/recipes/.git/refs/heads/different-base  \n",
            " extracting: headfirst-git-samples/chapter03/recipes/.git/refs/heads/spicy-version  \n",
            "   creating: headfirst-git-samples/chapter03/recipes/.git/refs/tags/\n",
            "  inflating: headfirst-git-samples/chapter03/recipes/.git/index  \n",
            " extracting: headfirst-git-samples/chapter03/recipes/.git/COMMIT_EDITMSG  \n",
            "   creating: headfirst-git-samples/chapter04/\n",
            "  inflating: headfirst-git-samples/chapter04/indoor-party.md  \n",
            "   creating: headfirst-git-samples/chapter04/gitanjali-aref-step-3/\n",
            "  inflating: headfirst-git-samples/chapter04/gitanjali-aref-step-3/gift-registry.md  \n",
            "  inflating: headfirst-git-samples/chapter04/gitanjali-aref-step-3/guest-list.md  \n",
            "  inflating: headfirst-git-samples/chapter04/gitanjali-aref-step-3/invitation-card.md  \n",
            "   creating: headfirst-git-samples/chapter04/gitanjali-aref-step-3/.git/\n",
            "  inflating: headfirst-git-samples/chapter04/gitanjali-aref-step-3/.git/config  \n",
            "   creating: headfirst-git-samples/chapter04/gitanjali-aref-step-3/.git/objects/\n",
            "   creating: headfirst-git-samples/chapter04/gitanjali-aref-step-3/.git/objects/0b/\n",
            " extracting: headfirst-git-samples/chapter04/gitanjali-aref-step-3/.git/objects/0b/08ab8ee4b9ed2c0b4e60c565badba1f0e2ec6f  \n",
            "   creating: headfirst-git-samples/chapter04/gitanjali-aref-step-3/.git/objects/pack/\n",
            "   creating: headfirst-git-samples/chapter04/gitanjali-aref-step-3/.git/objects/42/\n",
            " extracting: headfirst-git-samples/chapter04/gitanjali-aref-step-3/.git/objects/42/d6baf291891f1622532504faa596c89c5ef0e2  \n",
            "   creating: headfirst-git-samples/chapter04/gitanjali-aref-step-3/.git/objects/00/\n",
            " extracting: headfirst-git-samples/chapter04/gitanjali-aref-step-3/.git/objects/00/3927e10ee6768243d20c694519b865df803a10  \n",
            "   creating: headfirst-git-samples/chapter04/gitanjali-aref-step-3/.git/objects/6e/\n",
            " extracting: headfirst-git-samples/chapter04/gitanjali-aref-step-3/.git/objects/6e/166804b8deec71855cede069b57e8c518f5c66  \n",
            "   creating: headfirst-git-samples/chapter04/gitanjali-aref-step-3/.git/objects/info/\n",
            "   creating: headfirst-git-samples/chapter04/gitanjali-aref-step-3/.git/objects/6c/\n",
            " extracting: headfirst-git-samples/chapter04/gitanjali-aref-step-3/.git/objects/6c/5f06eaf44114d882ca8b019e8aa0fac125cd9c  \n",
            " extracting: headfirst-git-samples/chapter04/gitanjali-aref-step-3/.git/objects/6c/0f797adfe6a45c34948e8112693bf55bf631dd  \n",
            "   creating: headfirst-git-samples/chapter04/gitanjali-aref-step-3/.git/objects/cb/\n",
            " extracting: headfirst-git-samples/chapter04/gitanjali-aref-step-3/.git/objects/cb/e8de92fe57b8d1d616babf9c5d244b8c1a036d  \n",
            "   creating: headfirst-git-samples/chapter04/gitanjali-aref-step-3/.git/objects/8d/\n",
            " extracting: headfirst-git-samples/chapter04/gitanjali-aref-step-3/.git/objects/8d/704f84c8f466daba4321affb1101813c15b2d2  \n",
            " extracting: headfirst-git-samples/chapter04/gitanjali-aref-step-3/.git/HEAD  \n",
            "   creating: headfirst-git-samples/chapter04/gitanjali-aref-step-3/.git/info/\n",
            "  inflating: headfirst-git-samples/chapter04/gitanjali-aref-step-3/.git/info/exclude  \n",
            "   creating: headfirst-git-samples/chapter04/gitanjali-aref-step-3/.git/logs/\n",
            "  inflating: headfirst-git-samples/chapter04/gitanjali-aref-step-3/.git/logs/HEAD  \n",
            "   creating: headfirst-git-samples/chapter04/gitanjali-aref-step-3/.git/logs/refs/\n",
            "   creating: headfirst-git-samples/chapter04/gitanjali-aref-step-3/.git/logs/refs/heads/\n",
            "  inflating: headfirst-git-samples/chapter04/gitanjali-aref-step-3/.git/logs/refs/heads/master  \n",
            "  inflating: headfirst-git-samples/chapter04/gitanjali-aref-step-3/.git/description  \n",
            "   creating: headfirst-git-samples/chapter04/gitanjali-aref-step-3/.git/hooks/\n",
            "  inflating: headfirst-git-samples/chapter04/gitanjali-aref-step-3/.git/hooks/commit-msg.sample  \n",
            "  inflating: headfirst-git-samples/chapter04/gitanjali-aref-step-3/.git/hooks/pre-rebase.sample  \n",
            "  inflating: headfirst-git-samples/chapter04/gitanjali-aref-step-3/.git/hooks/pre-commit.sample  \n",
            "  inflating: headfirst-git-samples/chapter04/gitanjali-aref-step-3/.git/hooks/applypatch-msg.sample  \n",
            "  inflating: headfirst-git-samples/chapter04/gitanjali-aref-step-3/.git/hooks/fsmonitor-watchman.sample  \n",
            "  inflating: headfirst-git-samples/chapter04/gitanjali-aref-step-3/.git/hooks/pre-receive.sample  \n",
            "  inflating: headfirst-git-samples/chapter04/gitanjali-aref-step-3/.git/hooks/prepare-commit-msg.sample  \n",
            "  inflating: headfirst-git-samples/chapter04/gitanjali-aref-step-3/.git/hooks/post-update.sample  \n",
            "  inflating: headfirst-git-samples/chapter04/gitanjali-aref-step-3/.git/hooks/pre-merge-commit.sample  \n",
            "  inflating: headfirst-git-samples/chapter04/gitanjali-aref-step-3/.git/hooks/pre-applypatch.sample  \n",
            "  inflating: headfirst-git-samples/chapter04/gitanjali-aref-step-3/.git/hooks/pre-push.sample  \n",
            "  inflating: headfirst-git-samples/chapter04/gitanjali-aref-step-3/.git/hooks/update.sample  \n",
            "  inflating: headfirst-git-samples/chapter04/gitanjali-aref-step-3/.git/hooks/push-to-checkout.sample  \n",
            "   creating: headfirst-git-samples/chapter04/gitanjali-aref-step-3/.git/refs/\n",
            "   creating: headfirst-git-samples/chapter04/gitanjali-aref-step-3/.git/refs/heads/\n",
            " extracting: headfirst-git-samples/chapter04/gitanjali-aref-step-3/.git/refs/heads/master  \n",
            "   creating: headfirst-git-samples/chapter04/gitanjali-aref-step-3/.git/refs/tags/\n",
            "  inflating: headfirst-git-samples/chapter04/gitanjali-aref-step-3/.git/index  \n",
            " extracting: headfirst-git-samples/chapter04/gitanjali-aref-step-3/.git/COMMIT_EDITMSG  \n",
            "   creating: headfirst-git-samples/chapter04/gitanjali-aref-step-4/\n",
            "  inflating: headfirst-git-samples/chapter04/gitanjali-aref-step-4/gift-registry.md  \n",
            "  inflating: headfirst-git-samples/chapter04/gitanjali-aref-step-4/guest-list.md  \n",
            "  inflating: headfirst-git-samples/chapter04/gitanjali-aref-step-4/invitation-card.md  \n",
            "   creating: headfirst-git-samples/chapter04/gitanjali-aref-step-4/.git/\n",
            "  inflating: headfirst-git-samples/chapter04/gitanjali-aref-step-4/.git/config  \n",
            "   creating: headfirst-git-samples/chapter04/gitanjali-aref-step-4/.git/objects/\n",
            "   creating: headfirst-git-samples/chapter04/gitanjali-aref-step-4/.git/objects/0b/\n",
            " extracting: headfirst-git-samples/chapter04/gitanjali-aref-step-4/.git/objects/0b/08ab8ee4b9ed2c0b4e60c565badba1f0e2ec6f  \n",
            "   creating: headfirst-git-samples/chapter04/gitanjali-aref-step-4/.git/objects/pack/\n",
            "   creating: headfirst-git-samples/chapter04/gitanjali-aref-step-4/.git/objects/42/\n",
            " extracting: headfirst-git-samples/chapter04/gitanjali-aref-step-4/.git/objects/42/d6baf291891f1622532504faa596c89c5ef0e2  \n",
            "   creating: headfirst-git-samples/chapter04/gitanjali-aref-step-4/.git/objects/00/\n",
            " extracting: headfirst-git-samples/chapter04/gitanjali-aref-step-4/.git/objects/00/3927e10ee6768243d20c694519b865df803a10  \n",
            "   creating: headfirst-git-samples/chapter04/gitanjali-aref-step-4/.git/objects/6e/\n",
            " extracting: headfirst-git-samples/chapter04/gitanjali-aref-step-4/.git/objects/6e/166804b8deec71855cede069b57e8c518f5c66  \n",
            "   creating: headfirst-git-samples/chapter04/gitanjali-aref-step-4/.git/objects/info/\n",
            "   creating: headfirst-git-samples/chapter04/gitanjali-aref-step-4/.git/objects/6c/\n",
            " extracting: headfirst-git-samples/chapter04/gitanjali-aref-step-4/.git/objects/6c/5f06eaf44114d882ca8b019e8aa0fac125cd9c  \n",
            " extracting: headfirst-git-samples/chapter04/gitanjali-aref-step-4/.git/objects/6c/0f797adfe6a45c34948e8112693bf55bf631dd  \n",
            "   creating: headfirst-git-samples/chapter04/gitanjali-aref-step-4/.git/objects/8d/\n",
            " extracting: headfirst-git-samples/chapter04/gitanjali-aref-step-4/.git/objects/8d/704f84c8f466daba4321affb1101813c15b2d2  \n",
            " extracting: headfirst-git-samples/chapter04/gitanjali-aref-step-4/.git/HEAD  \n",
            "   creating: headfirst-git-samples/chapter04/gitanjali-aref-step-4/.git/info/\n",
            "  inflating: headfirst-git-samples/chapter04/gitanjali-aref-step-4/.git/info/exclude  \n",
            "   creating: headfirst-git-samples/chapter04/gitanjali-aref-step-4/.git/logs/\n",
            "  inflating: headfirst-git-samples/chapter04/gitanjali-aref-step-4/.git/logs/HEAD  \n",
            "   creating: headfirst-git-samples/chapter04/gitanjali-aref-step-4/.git/logs/refs/\n",
            "   creating: headfirst-git-samples/chapter04/gitanjali-aref-step-4/.git/logs/refs/heads/\n",
            "  inflating: headfirst-git-samples/chapter04/gitanjali-aref-step-4/.git/logs/refs/heads/master  \n",
            "  inflating: headfirst-git-samples/chapter04/gitanjali-aref-step-4/.git/description  \n",
            "   creating: headfirst-git-samples/chapter04/gitanjali-aref-step-4/.git/hooks/\n",
            "  inflating: headfirst-git-samples/chapter04/gitanjali-aref-step-4/.git/hooks/commit-msg.sample  \n",
            "  inflating: headfirst-git-samples/chapter04/gitanjali-aref-step-4/.git/hooks/pre-rebase.sample  \n",
            "  inflating: headfirst-git-samples/chapter04/gitanjali-aref-step-4/.git/hooks/pre-commit.sample  \n",
            "  inflating: headfirst-git-samples/chapter04/gitanjali-aref-step-4/.git/hooks/applypatch-msg.sample  \n",
            "  inflating: headfirst-git-samples/chapter04/gitanjali-aref-step-4/.git/hooks/fsmonitor-watchman.sample  \n",
            "  inflating: headfirst-git-samples/chapter04/gitanjali-aref-step-4/.git/hooks/pre-receive.sample  \n",
            "  inflating: headfirst-git-samples/chapter04/gitanjali-aref-step-4/.git/hooks/prepare-commit-msg.sample  \n",
            "  inflating: headfirst-git-samples/chapter04/gitanjali-aref-step-4/.git/hooks/post-update.sample  \n",
            "  inflating: headfirst-git-samples/chapter04/gitanjali-aref-step-4/.git/hooks/pre-merge-commit.sample  \n",
            "  inflating: headfirst-git-samples/chapter04/gitanjali-aref-step-4/.git/hooks/pre-applypatch.sample  \n",
            "  inflating: headfirst-git-samples/chapter04/gitanjali-aref-step-4/.git/hooks/pre-push.sample  \n",
            "  inflating: headfirst-git-samples/chapter04/gitanjali-aref-step-4/.git/hooks/update.sample  \n",
            "  inflating: headfirst-git-samples/chapter04/gitanjali-aref-step-4/.git/hooks/push-to-checkout.sample  \n",
            "   creating: headfirst-git-samples/chapter04/gitanjali-aref-step-4/.git/refs/\n",
            "   creating: headfirst-git-samples/chapter04/gitanjali-aref-step-4/.git/refs/heads/\n",
            " extracting: headfirst-git-samples/chapter04/gitanjali-aref-step-4/.git/refs/heads/master  \n",
            "   creating: headfirst-git-samples/chapter04/gitanjali-aref-step-4/.git/refs/tags/\n",
            "  inflating: headfirst-git-samples/chapter04/gitanjali-aref-step-4/.git/index  \n",
            " extracting: headfirst-git-samples/chapter04/gitanjali-aref-step-4/.git/COMMIT_EDITMSG  \n",
            "   creating: headfirst-git-samples/chapter04/gitanjali-aref-step-5/\n",
            "  inflating: headfirst-git-samples/chapter04/gitanjali-aref-step-5/outdoor-supplies.md  \n",
            "  inflating: headfirst-git-samples/chapter04/gitanjali-aref-step-5/gift-registry.md  \n",
            "  inflating: headfirst-git-samples/chapter04/gitanjali-aref-step-5/guest-list.md  \n",
            "  inflating: headfirst-git-samples/chapter04/gitanjali-aref-step-5/invitation-card.md  \n",
            "   creating: headfirst-git-samples/chapter04/gitanjali-aref-step-5/.git/\n",
            "  inflating: headfirst-git-samples/chapter04/gitanjali-aref-step-5/.git/config  \n",
            "   creating: headfirst-git-samples/chapter04/gitanjali-aref-step-5/.git/objects/\n",
            "   creating: headfirst-git-samples/chapter04/gitanjali-aref-step-5/.git/objects/0b/\n",
            " extracting: headfirst-git-samples/chapter04/gitanjali-aref-step-5/.git/objects/0b/08ab8ee4b9ed2c0b4e60c565badba1f0e2ec6f  \n",
            "   creating: headfirst-git-samples/chapter04/gitanjali-aref-step-5/.git/objects/d1/\n",
            " extracting: headfirst-git-samples/chapter04/gitanjali-aref-step-5/.git/objects/d1/63c0d64b1669ade9e0cec391443ae79cfbbca2  \n",
            "   creating: headfirst-git-samples/chapter04/gitanjali-aref-step-5/.git/objects/pack/\n",
            "   creating: headfirst-git-samples/chapter04/gitanjali-aref-step-5/.git/objects/42/\n",
            " extracting: headfirst-git-samples/chapter04/gitanjali-aref-step-5/.git/objects/42/d6baf291891f1622532504faa596c89c5ef0e2  \n",
            "   creating: headfirst-git-samples/chapter04/gitanjali-aref-step-5/.git/objects/00/\n",
            " extracting: headfirst-git-samples/chapter04/gitanjali-aref-step-5/.git/objects/00/3927e10ee6768243d20c694519b865df803a10  \n",
            "   creating: headfirst-git-samples/chapter04/gitanjali-aref-step-5/.git/objects/6e/\n",
            " extracting: headfirst-git-samples/chapter04/gitanjali-aref-step-5/.git/objects/6e/166804b8deec71855cede069b57e8c518f5c66  \n",
            "   creating: headfirst-git-samples/chapter04/gitanjali-aref-step-5/.git/objects/info/\n",
            "   creating: headfirst-git-samples/chapter04/gitanjali-aref-step-5/.git/objects/6c/\n",
            " extracting: headfirst-git-samples/chapter04/gitanjali-aref-step-5/.git/objects/6c/5f06eaf44114d882ca8b019e8aa0fac125cd9c  \n",
            " extracting: headfirst-git-samples/chapter04/gitanjali-aref-step-5/.git/objects/6c/0f797adfe6a45c34948e8112693bf55bf631dd  \n",
            "   creating: headfirst-git-samples/chapter04/gitanjali-aref-step-5/.git/objects/ef/\n",
            " extracting: headfirst-git-samples/chapter04/gitanjali-aref-step-5/.git/objects/ef/a799db0130435103964743c5f112e46e30904a  \n",
            "   creating: headfirst-git-samples/chapter04/gitanjali-aref-step-5/.git/objects/8d/\n",
            " extracting: headfirst-git-samples/chapter04/gitanjali-aref-step-5/.git/objects/8d/704f84c8f466daba4321affb1101813c15b2d2  \n",
            "   creating: headfirst-git-samples/chapter04/gitanjali-aref-step-5/.git/objects/2b/\n",
            " extracting: headfirst-git-samples/chapter04/gitanjali-aref-step-5/.git/objects/2b/0f532f81ad1103dc0f364bd9b7626fcd49370b  \n",
            " extracting: headfirst-git-samples/chapter04/gitanjali-aref-step-5/.git/HEAD  \n",
            "   creating: headfirst-git-samples/chapter04/gitanjali-aref-step-5/.git/info/\n",
            "  inflating: headfirst-git-samples/chapter04/gitanjali-aref-step-5/.git/info/exclude  \n",
            "   creating: headfirst-git-samples/chapter04/gitanjali-aref-step-5/.git/logs/\n",
            "  inflating: headfirst-git-samples/chapter04/gitanjali-aref-step-5/.git/logs/HEAD  \n",
            "   creating: headfirst-git-samples/chapter04/gitanjali-aref-step-5/.git/logs/refs/\n",
            "   creating: headfirst-git-samples/chapter04/gitanjali-aref-step-5/.git/logs/refs/heads/\n",
            "  inflating: headfirst-git-samples/chapter04/gitanjali-aref-step-5/.git/logs/refs/heads/master  \n",
            "  inflating: headfirst-git-samples/chapter04/gitanjali-aref-step-5/.git/logs/refs/heads/camping-trip  \n",
            "  inflating: headfirst-git-samples/chapter04/gitanjali-aref-step-5/.git/description  \n",
            "   creating: headfirst-git-samples/chapter04/gitanjali-aref-step-5/.git/hooks/\n",
            "  inflating: headfirst-git-samples/chapter04/gitanjali-aref-step-5/.git/hooks/commit-msg.sample  \n",
            "  inflating: headfirst-git-samples/chapter04/gitanjali-aref-step-5/.git/hooks/pre-rebase.sample  \n",
            "  inflating: headfirst-git-samples/chapter04/gitanjali-aref-step-5/.git/hooks/pre-commit.sample  \n",
            "  inflating: headfirst-git-samples/chapter04/gitanjali-aref-step-5/.git/hooks/applypatch-msg.sample  \n",
            "  inflating: headfirst-git-samples/chapter04/gitanjali-aref-step-5/.git/hooks/fsmonitor-watchman.sample  \n",
            "  inflating: headfirst-git-samples/chapter04/gitanjali-aref-step-5/.git/hooks/pre-receive.sample  \n",
            "  inflating: headfirst-git-samples/chapter04/gitanjali-aref-step-5/.git/hooks/prepare-commit-msg.sample  \n",
            "  inflating: headfirst-git-samples/chapter04/gitanjali-aref-step-5/.git/hooks/post-update.sample  \n",
            "  inflating: headfirst-git-samples/chapter04/gitanjali-aref-step-5/.git/hooks/pre-merge-commit.sample  \n",
            "  inflating: headfirst-git-samples/chapter04/gitanjali-aref-step-5/.git/hooks/pre-applypatch.sample  \n",
            "  inflating: headfirst-git-samples/chapter04/gitanjali-aref-step-5/.git/hooks/pre-push.sample  \n",
            "  inflating: headfirst-git-samples/chapter04/gitanjali-aref-step-5/.git/hooks/update.sample  \n",
            "  inflating: headfirst-git-samples/chapter04/gitanjali-aref-step-5/.git/hooks/push-to-checkout.sample  \n",
            "   creating: headfirst-git-samples/chapter04/gitanjali-aref-step-5/.git/refs/\n",
            "   creating: headfirst-git-samples/chapter04/gitanjali-aref-step-5/.git/refs/heads/\n",
            " extracting: headfirst-git-samples/chapter04/gitanjali-aref-step-5/.git/refs/heads/master  \n",
            " extracting: headfirst-git-samples/chapter04/gitanjali-aref-step-5/.git/refs/heads/camping-trip  \n",
            "   creating: headfirst-git-samples/chapter04/gitanjali-aref-step-5/.git/refs/tags/\n",
            "  inflating: headfirst-git-samples/chapter04/gitanjali-aref-step-5/.git/index  \n",
            " extracting: headfirst-git-samples/chapter04/gitanjali-aref-step-5/.git/COMMIT_EDITMSG  \n",
            "   creating: headfirst-git-samples/chapter04/gitanjali-aref-step-2/\n",
            "  inflating: headfirst-git-samples/chapter04/gitanjali-aref-step-2/gift-registry.md  \n",
            "  inflating: headfirst-git-samples/chapter04/gitanjali-aref-step-2/guest-list.md  \n",
            "  inflating: headfirst-git-samples/chapter04/gitanjali-aref-step-2/invitation-card.md  \n",
            "   creating: headfirst-git-samples/chapter04/gitanjali-aref-step-2/.git/\n",
            "  inflating: headfirst-git-samples/chapter04/gitanjali-aref-step-2/.git/config  \n",
            "   creating: headfirst-git-samples/chapter04/gitanjali-aref-step-2/.git/objects/\n",
            "   creating: headfirst-git-samples/chapter04/gitanjali-aref-step-2/.git/objects/0b/\n",
            " extracting: headfirst-git-samples/chapter04/gitanjali-aref-step-2/.git/objects/0b/08ab8ee4b9ed2c0b4e60c565badba1f0e2ec6f  \n",
            "   creating: headfirst-git-samples/chapter04/gitanjali-aref-step-2/.git/objects/pack/\n",
            "   creating: headfirst-git-samples/chapter04/gitanjali-aref-step-2/.git/objects/42/\n",
            " extracting: headfirst-git-samples/chapter04/gitanjali-aref-step-2/.git/objects/42/d6baf291891f1622532504faa596c89c5ef0e2  \n",
            "   creating: headfirst-git-samples/chapter04/gitanjali-aref-step-2/.git/objects/00/\n",
            " extracting: headfirst-git-samples/chapter04/gitanjali-aref-step-2/.git/objects/00/3927e10ee6768243d20c694519b865df803a10  \n",
            "   creating: headfirst-git-samples/chapter04/gitanjali-aref-step-2/.git/objects/6e/\n",
            " extracting: headfirst-git-samples/chapter04/gitanjali-aref-step-2/.git/objects/6e/166804b8deec71855cede069b57e8c518f5c66  \n",
            "   creating: headfirst-git-samples/chapter04/gitanjali-aref-step-2/.git/objects/info/\n",
            "   creating: headfirst-git-samples/chapter04/gitanjali-aref-step-2/.git/objects/6c/\n",
            " extracting: headfirst-git-samples/chapter04/gitanjali-aref-step-2/.git/objects/6c/5f06eaf44114d882ca8b019e8aa0fac125cd9c  \n",
            " extracting: headfirst-git-samples/chapter04/gitanjali-aref-step-2/.git/objects/6c/0f797adfe6a45c34948e8112693bf55bf631dd  \n",
            "   creating: headfirst-git-samples/chapter04/gitanjali-aref-step-2/.git/objects/8d/\n",
            " extracting: headfirst-git-samples/chapter04/gitanjali-aref-step-2/.git/objects/8d/704f84c8f466daba4321affb1101813c15b2d2  \n",
            " extracting: headfirst-git-samples/chapter04/gitanjali-aref-step-2/.git/HEAD  \n",
            "   creating: headfirst-git-samples/chapter04/gitanjali-aref-step-2/.git/info/\n",
            "  inflating: headfirst-git-samples/chapter04/gitanjali-aref-step-2/.git/info/exclude  \n",
            "   creating: headfirst-git-samples/chapter04/gitanjali-aref-step-2/.git/logs/\n",
            "  inflating: headfirst-git-samples/chapter04/gitanjali-aref-step-2/.git/logs/HEAD  \n",
            "   creating: headfirst-git-samples/chapter04/gitanjali-aref-step-2/.git/logs/refs/\n",
            "   creating: headfirst-git-samples/chapter04/gitanjali-aref-step-2/.git/logs/refs/heads/\n",
            "  inflating: headfirst-git-samples/chapter04/gitanjali-aref-step-2/.git/logs/refs/heads/master  \n",
            "  inflating: headfirst-git-samples/chapter04/gitanjali-aref-step-2/.git/description  \n",
            "   creating: headfirst-git-samples/chapter04/gitanjali-aref-step-2/.git/hooks/\n",
            "  inflating: headfirst-git-samples/chapter04/gitanjali-aref-step-2/.git/hooks/commit-msg.sample  \n",
            "  inflating: headfirst-git-samples/chapter04/gitanjali-aref-step-2/.git/hooks/pre-rebase.sample  \n",
            "  inflating: headfirst-git-samples/chapter04/gitanjali-aref-step-2/.git/hooks/pre-commit.sample  \n",
            "  inflating: headfirst-git-samples/chapter04/gitanjali-aref-step-2/.git/hooks/applypatch-msg.sample  \n",
            "  inflating: headfirst-git-samples/chapter04/gitanjali-aref-step-2/.git/hooks/fsmonitor-watchman.sample  \n",
            "  inflating: headfirst-git-samples/chapter04/gitanjali-aref-step-2/.git/hooks/pre-receive.sample  \n",
            "  inflating: headfirst-git-samples/chapter04/gitanjali-aref-step-2/.git/hooks/prepare-commit-msg.sample  \n",
            "  inflating: headfirst-git-samples/chapter04/gitanjali-aref-step-2/.git/hooks/post-update.sample  \n",
            "  inflating: headfirst-git-samples/chapter04/gitanjali-aref-step-2/.git/hooks/pre-merge-commit.sample  \n",
            "  inflating: headfirst-git-samples/chapter04/gitanjali-aref-step-2/.git/hooks/pre-applypatch.sample  \n",
            "  inflating: headfirst-git-samples/chapter04/gitanjali-aref-step-2/.git/hooks/pre-push.sample  \n",
            "  inflating: headfirst-git-samples/chapter04/gitanjali-aref-step-2/.git/hooks/update.sample  \n",
            "  inflating: headfirst-git-samples/chapter04/gitanjali-aref-step-2/.git/hooks/push-to-checkout.sample  \n",
            "   creating: headfirst-git-samples/chapter04/gitanjali-aref-step-2/.git/refs/\n",
            "   creating: headfirst-git-samples/chapter04/gitanjali-aref-step-2/.git/refs/heads/\n",
            " extracting: headfirst-git-samples/chapter04/gitanjali-aref-step-2/.git/refs/heads/master  \n",
            "   creating: headfirst-git-samples/chapter04/gitanjali-aref-step-2/.git/refs/tags/\n",
            "  inflating: headfirst-git-samples/chapter04/gitanjali-aref-step-2/.git/index  \n",
            " extracting: headfirst-git-samples/chapter04/gitanjali-aref-step-2/.git/COMMIT_EDITMSG  \n",
            "  inflating: headfirst-git-samples/chapter04/outdoor-supplies.md  \n",
            "  inflating: headfirst-git-samples/chapter04/gift-registry.md  \n",
            "  inflating: headfirst-git-samples/chapter04/boardgame-venues.md  \n",
            "  inflating: headfirst-git-samples/chapter04/guest-list.md  \n",
            "  inflating: headfirst-git-samples/chapter04/invitation-card.md  \n",
            "   creating: headfirst-git-samples/chapter04/gitanjali-aref-step-7/\n",
            "  inflating: headfirst-git-samples/chapter04/gitanjali-aref-step-7/indoor-party.md  \n",
            "  inflating: headfirst-git-samples/chapter04/gitanjali-aref-step-7/gift-registry.md  \n",
            "  inflating: headfirst-git-samples/chapter04/gitanjali-aref-step-7/boardgame-venues.md  \n",
            "  inflating: headfirst-git-samples/chapter04/gitanjali-aref-step-7/guest-list.md  \n",
            "  inflating: headfirst-git-samples/chapter04/gitanjali-aref-step-7/invitation-card.md  \n",
            "   creating: headfirst-git-samples/chapter04/gitanjali-aref-step-7/.git/\n",
            "  inflating: headfirst-git-samples/chapter04/gitanjali-aref-step-7/.git/config  \n",
            "   creating: headfirst-git-samples/chapter04/gitanjali-aref-step-7/.git/objects/\n",
            "   creating: headfirst-git-samples/chapter04/gitanjali-aref-step-7/.git/objects/3e/\n",
            " extracting: headfirst-git-samples/chapter04/gitanjali-aref-step-7/.git/objects/3e/3e84705e36a9f457e8b4521403b173155b1647  \n",
            "   creating: headfirst-git-samples/chapter04/gitanjali-aref-step-7/.git/objects/0b/\n",
            " extracting: headfirst-git-samples/chapter04/gitanjali-aref-step-7/.git/objects/0b/08ab8ee4b9ed2c0b4e60c565badba1f0e2ec6f  \n",
            "   creating: headfirst-git-samples/chapter04/gitanjali-aref-step-7/.git/objects/d1/\n",
            " extracting: headfirst-git-samples/chapter04/gitanjali-aref-step-7/.git/objects/d1/63c0d64b1669ade9e0cec391443ae79cfbbca2  \n",
            "   creating: headfirst-git-samples/chapter04/gitanjali-aref-step-7/.git/objects/cf/\n",
            " extracting: headfirst-git-samples/chapter04/gitanjali-aref-step-7/.git/objects/cf/5e7181bb23501f748963ba713cfd720ad76e1c  \n",
            "   creating: headfirst-git-samples/chapter04/gitanjali-aref-step-7/.git/objects/20/\n",
            " extracting: headfirst-git-samples/chapter04/gitanjali-aref-step-7/.git/objects/20/64ec59644588a62abd69d7036821485cf787ed  \n",
            "   creating: headfirst-git-samples/chapter04/gitanjali-aref-step-7/.git/objects/pack/\n",
            "   creating: headfirst-git-samples/chapter04/gitanjali-aref-step-7/.git/objects/42/\n",
            " extracting: headfirst-git-samples/chapter04/gitanjali-aref-step-7/.git/objects/42/d6baf291891f1622532504faa596c89c5ef0e2  \n",
            "   creating: headfirst-git-samples/chapter04/gitanjali-aref-step-7/.git/objects/00/\n",
            " extracting: headfirst-git-samples/chapter04/gitanjali-aref-step-7/.git/objects/00/3927e10ee6768243d20c694519b865df803a10  \n",
            "   creating: headfirst-git-samples/chapter04/gitanjali-aref-step-7/.git/objects/6e/\n",
            " extracting: headfirst-git-samples/chapter04/gitanjali-aref-step-7/.git/objects/6e/166804b8deec71855cede069b57e8c518f5c66  \n",
            "   creating: headfirst-git-samples/chapter04/gitanjali-aref-step-7/.git/objects/info/\n",
            "   creating: headfirst-git-samples/chapter04/gitanjali-aref-step-7/.git/objects/65/\n",
            " extracting: headfirst-git-samples/chapter04/gitanjali-aref-step-7/.git/objects/65/7aba9ea5e12a0a77728fd43c58b7fdc54c433e  \n",
            "   creating: headfirst-git-samples/chapter04/gitanjali-aref-step-7/.git/objects/6c/\n",
            " extracting: headfirst-git-samples/chapter04/gitanjali-aref-step-7/.git/objects/6c/5f06eaf44114d882ca8b019e8aa0fac125cd9c  \n",
            " extracting: headfirst-git-samples/chapter04/gitanjali-aref-step-7/.git/objects/6c/a6defc7adf5c20654071d833a5a1485351ae64  \n",
            " extracting: headfirst-git-samples/chapter04/gitanjali-aref-step-7/.git/objects/6c/0f797adfe6a45c34948e8112693bf55bf631dd  \n",
            "   creating: headfirst-git-samples/chapter04/gitanjali-aref-step-7/.git/objects/39/\n",
            " extracting: headfirst-git-samples/chapter04/gitanjali-aref-step-7/.git/objects/39/107a6bb009137a74ce22e2b90eb20066be0897  \n",
            "   creating: headfirst-git-samples/chapter04/gitanjali-aref-step-7/.git/objects/ef/\n",
            " extracting: headfirst-git-samples/chapter04/gitanjali-aref-step-7/.git/objects/ef/a799db0130435103964743c5f112e46e30904a  \n",
            "   creating: headfirst-git-samples/chapter04/gitanjali-aref-step-7/.git/objects/c3/\n",
            " extracting: headfirst-git-samples/chapter04/gitanjali-aref-step-7/.git/objects/c3/684a0c0da43095f836d9b2da5235dd0b6bde69  \n",
            "   creating: headfirst-git-samples/chapter04/gitanjali-aref-step-7/.git/objects/e7/\n",
            " extracting: headfirst-git-samples/chapter04/gitanjali-aref-step-7/.git/objects/e7/591aeab82bae312b6b2747264330e64e8833ab  \n",
            "   creating: headfirst-git-samples/chapter04/gitanjali-aref-step-7/.git/objects/8d/\n",
            " extracting: headfirst-git-samples/chapter04/gitanjali-aref-step-7/.git/objects/8d/704f84c8f466daba4321affb1101813c15b2d2  \n",
            "   creating: headfirst-git-samples/chapter04/gitanjali-aref-step-7/.git/objects/2b/\n",
            " extracting: headfirst-git-samples/chapter04/gitanjali-aref-step-7/.git/objects/2b/0f532f81ad1103dc0f364bd9b7626fcd49370b  \n",
            " extracting: headfirst-git-samples/chapter04/gitanjali-aref-step-7/.git/HEAD  \n",
            "   creating: headfirst-git-samples/chapter04/gitanjali-aref-step-7/.git/info/\n",
            "  inflating: headfirst-git-samples/chapter04/gitanjali-aref-step-7/.git/info/exclude  \n",
            "   creating: headfirst-git-samples/chapter04/gitanjali-aref-step-7/.git/logs/\n",
            "  inflating: headfirst-git-samples/chapter04/gitanjali-aref-step-7/.git/logs/HEAD  \n",
            "   creating: headfirst-git-samples/chapter04/gitanjali-aref-step-7/.git/logs/refs/\n",
            "   creating: headfirst-git-samples/chapter04/gitanjali-aref-step-7/.git/logs/refs/heads/\n",
            "  inflating: headfirst-git-samples/chapter04/gitanjali-aref-step-7/.git/logs/refs/heads/boardgame-night  \n",
            "  inflating: headfirst-git-samples/chapter04/gitanjali-aref-step-7/.git/logs/refs/heads/glamping-trip  \n",
            "  inflating: headfirst-git-samples/chapter04/gitanjali-aref-step-7/.git/logs/refs/heads/main  \n",
            "  inflating: headfirst-git-samples/chapter04/gitanjali-aref-step-7/.git/description  \n",
            "   creating: headfirst-git-samples/chapter04/gitanjali-aref-step-7/.git/hooks/\n",
            "  inflating: headfirst-git-samples/chapter04/gitanjali-aref-step-7/.git/hooks/commit-msg.sample  \n",
            "  inflating: headfirst-git-samples/chapter04/gitanjali-aref-step-7/.git/hooks/pre-rebase.sample  \n",
            "  inflating: headfirst-git-samples/chapter04/gitanjali-aref-step-7/.git/hooks/pre-commit.sample  \n",
            "  inflating: headfirst-git-samples/chapter04/gitanjali-aref-step-7/.git/hooks/applypatch-msg.sample  \n",
            "  inflating: headfirst-git-samples/chapter04/gitanjali-aref-step-7/.git/hooks/fsmonitor-watchman.sample  \n",
            "  inflating: headfirst-git-samples/chapter04/gitanjali-aref-step-7/.git/hooks/pre-receive.sample  \n",
            "  inflating: headfirst-git-samples/chapter04/gitanjali-aref-step-7/.git/hooks/prepare-commit-msg.sample  \n",
            "  inflating: headfirst-git-samples/chapter04/gitanjali-aref-step-7/.git/hooks/post-update.sample  \n",
            "  inflating: headfirst-git-samples/chapter04/gitanjali-aref-step-7/.git/hooks/pre-merge-commit.sample  \n",
            "  inflating: headfirst-git-samples/chapter04/gitanjali-aref-step-7/.git/hooks/pre-applypatch.sample  \n",
            "  inflating: headfirst-git-samples/chapter04/gitanjali-aref-step-7/.git/hooks/pre-push.sample  \n",
            "  inflating: headfirst-git-samples/chapter04/gitanjali-aref-step-7/.git/hooks/update.sample  \n",
            "  inflating: headfirst-git-samples/chapter04/gitanjali-aref-step-7/.git/hooks/push-to-checkout.sample  \n",
            "   creating: headfirst-git-samples/chapter04/gitanjali-aref-step-7/.git/refs/\n",
            "   creating: headfirst-git-samples/chapter04/gitanjali-aref-step-7/.git/refs/heads/\n",
            " extracting: headfirst-git-samples/chapter04/gitanjali-aref-step-7/.git/refs/heads/boardgame-night  \n",
            " extracting: headfirst-git-samples/chapter04/gitanjali-aref-step-7/.git/refs/heads/glamping-trip  \n",
            " extracting: headfirst-git-samples/chapter04/gitanjali-aref-step-7/.git/refs/heads/main  \n",
            "   creating: headfirst-git-samples/chapter04/gitanjali-aref-step-7/.git/refs/tags/\n",
            "  inflating: headfirst-git-samples/chapter04/gitanjali-aref-step-7/.git/index  \n",
            "  inflating: headfirst-git-samples/chapter04/gitanjali-aref-step-7/.git/COMMIT_EDITMSG  \n",
            "   creating: headfirst-git-samples/chapter04/gitanjali-aref-step-1/\n",
            "  inflating: headfirst-git-samples/chapter04/gitanjali-aref-step-1/gift-registry.md  \n",
            "  inflating: headfirst-git-samples/chapter04/gitanjali-aref-step-1/guest-list.md  \n",
            "  inflating: headfirst-git-samples/chapter04/gitanjali-aref-step-1/invitation-card.md  \n",
            "   creating: headfirst-git-samples/chapter04/gitanjali-aref-step-1/.git/\n",
            "  inflating: headfirst-git-samples/chapter04/gitanjali-aref-step-1/.git/config  \n",
            "   creating: headfirst-git-samples/chapter04/gitanjali-aref-step-1/.git/objects/\n",
            "   creating: headfirst-git-samples/chapter04/gitanjali-aref-step-1/.git/objects/0b/\n",
            " extracting: headfirst-git-samples/chapter04/gitanjali-aref-step-1/.git/objects/0b/08ab8ee4b9ed2c0b4e60c565badba1f0e2ec6f  \n",
            "   creating: headfirst-git-samples/chapter04/gitanjali-aref-step-1/.git/objects/pack/\n",
            "   creating: headfirst-git-samples/chapter04/gitanjali-aref-step-1/.git/objects/42/\n",
            " extracting: headfirst-git-samples/chapter04/gitanjali-aref-step-1/.git/objects/42/d6baf291891f1622532504faa596c89c5ef0e2  \n",
            "   creating: headfirst-git-samples/chapter04/gitanjali-aref-step-1/.git/objects/00/\n",
            " extracting: headfirst-git-samples/chapter04/gitanjali-aref-step-1/.git/objects/00/3927e10ee6768243d20c694519b865df803a10  \n",
            "   creating: headfirst-git-samples/chapter04/gitanjali-aref-step-1/.git/objects/6e/\n",
            " extracting: headfirst-git-samples/chapter04/gitanjali-aref-step-1/.git/objects/6e/166804b8deec71855cede069b57e8c518f5c66  \n",
            "   creating: headfirst-git-samples/chapter04/gitanjali-aref-step-1/.git/objects/info/\n",
            "   creating: headfirst-git-samples/chapter04/gitanjali-aref-step-1/.git/objects/6c/\n",
            " extracting: headfirst-git-samples/chapter04/gitanjali-aref-step-1/.git/objects/6c/5f06eaf44114d882ca8b019e8aa0fac125cd9c  \n",
            " extracting: headfirst-git-samples/chapter04/gitanjali-aref-step-1/.git/objects/6c/0f797adfe6a45c34948e8112693bf55bf631dd  \n",
            "   creating: headfirst-git-samples/chapter04/gitanjali-aref-step-1/.git/objects/8d/\n",
            " extracting: headfirst-git-samples/chapter04/gitanjali-aref-step-1/.git/objects/8d/704f84c8f466daba4321affb1101813c15b2d2  \n",
            " extracting: headfirst-git-samples/chapter04/gitanjali-aref-step-1/.git/HEAD  \n",
            "   creating: headfirst-git-samples/chapter04/gitanjali-aref-step-1/.git/info/\n",
            "  inflating: headfirst-git-samples/chapter04/gitanjali-aref-step-1/.git/info/exclude  \n",
            "   creating: headfirst-git-samples/chapter04/gitanjali-aref-step-1/.git/logs/\n",
            "  inflating: headfirst-git-samples/chapter04/gitanjali-aref-step-1/.git/logs/HEAD  \n",
            "   creating: headfirst-git-samples/chapter04/gitanjali-aref-step-1/.git/logs/refs/\n",
            "   creating: headfirst-git-samples/chapter04/gitanjali-aref-step-1/.git/logs/refs/heads/\n",
            "  inflating: headfirst-git-samples/chapter04/gitanjali-aref-step-1/.git/logs/refs/heads/master  \n",
            "  inflating: headfirst-git-samples/chapter04/gitanjali-aref-step-1/.git/description  \n",
            "   creating: headfirst-git-samples/chapter04/gitanjali-aref-step-1/.git/hooks/\n",
            "  inflating: headfirst-git-samples/chapter04/gitanjali-aref-step-1/.git/hooks/commit-msg.sample  \n",
            "  inflating: headfirst-git-samples/chapter04/gitanjali-aref-step-1/.git/hooks/pre-rebase.sample  \n",
            "  inflating: headfirst-git-samples/chapter04/gitanjali-aref-step-1/.git/hooks/pre-commit.sample  \n",
            "  inflating: headfirst-git-samples/chapter04/gitanjali-aref-step-1/.git/hooks/applypatch-msg.sample  \n",
            "  inflating: headfirst-git-samples/chapter04/gitanjali-aref-step-1/.git/hooks/fsmonitor-watchman.sample  \n",
            "  inflating: headfirst-git-samples/chapter04/gitanjali-aref-step-1/.git/hooks/pre-receive.sample  \n",
            "  inflating: headfirst-git-samples/chapter04/gitanjali-aref-step-1/.git/hooks/prepare-commit-msg.sample  \n",
            "  inflating: headfirst-git-samples/chapter04/gitanjali-aref-step-1/.git/hooks/post-update.sample  \n",
            "  inflating: headfirst-git-samples/chapter04/gitanjali-aref-step-1/.git/hooks/pre-merge-commit.sample  \n",
            "  inflating: headfirst-git-samples/chapter04/gitanjali-aref-step-1/.git/hooks/pre-applypatch.sample  \n",
            "  inflating: headfirst-git-samples/chapter04/gitanjali-aref-step-1/.git/hooks/pre-push.sample  \n",
            "  inflating: headfirst-git-samples/chapter04/gitanjali-aref-step-1/.git/hooks/update.sample  \n",
            "  inflating: headfirst-git-samples/chapter04/gitanjali-aref-step-1/.git/hooks/push-to-checkout.sample  \n",
            "   creating: headfirst-git-samples/chapter04/gitanjali-aref-step-1/.git/refs/\n",
            "   creating: headfirst-git-samples/chapter04/gitanjali-aref-step-1/.git/refs/heads/\n",
            " extracting: headfirst-git-samples/chapter04/gitanjali-aref-step-1/.git/refs/heads/master  \n",
            "   creating: headfirst-git-samples/chapter04/gitanjali-aref-step-1/.git/refs/tags/\n",
            "  inflating: headfirst-git-samples/chapter04/gitanjali-aref-step-1/.git/index  \n",
            " extracting: headfirst-git-samples/chapter04/gitanjali-aref-step-1/.git/COMMIT_EDITMSG  \n",
            "   creating: headfirst-git-samples/chapter04/gitanjali-aref-step-6/\n",
            "  inflating: headfirst-git-samples/chapter04/gitanjali-aref-step-6/outdoor-supplies.md  \n",
            "  inflating: headfirst-git-samples/chapter04/gitanjali-aref-step-6/gift-registry.md  \n",
            "  inflating: headfirst-git-samples/chapter04/gitanjali-aref-step-6/guest-list.md  \n",
            "  inflating: headfirst-git-samples/chapter04/gitanjali-aref-step-6/invitation-card.md  \n",
            "   creating: headfirst-git-samples/chapter04/gitanjali-aref-step-6/.git/\n",
            "  inflating: headfirst-git-samples/chapter04/gitanjali-aref-step-6/.git/config  \n",
            "   creating: headfirst-git-samples/chapter04/gitanjali-aref-step-6/.git/objects/\n",
            "   creating: headfirst-git-samples/chapter04/gitanjali-aref-step-6/.git/objects/0b/\n",
            " extracting: headfirst-git-samples/chapter04/gitanjali-aref-step-6/.git/objects/0b/08ab8ee4b9ed2c0b4e60c565badba1f0e2ec6f  \n",
            "   creating: headfirst-git-samples/chapter04/gitanjali-aref-step-6/.git/objects/d1/\n",
            " extracting: headfirst-git-samples/chapter04/gitanjali-aref-step-6/.git/objects/d1/63c0d64b1669ade9e0cec391443ae79cfbbca2  \n",
            "   creating: headfirst-git-samples/chapter04/gitanjali-aref-step-6/.git/objects/cf/\n",
            " extracting: headfirst-git-samples/chapter04/gitanjali-aref-step-6/.git/objects/cf/5e7181bb23501f748963ba713cfd720ad76e1c  \n",
            "   creating: headfirst-git-samples/chapter04/gitanjali-aref-step-6/.git/objects/pack/\n",
            "   creating: headfirst-git-samples/chapter04/gitanjali-aref-step-6/.git/objects/42/\n",
            " extracting: headfirst-git-samples/chapter04/gitanjali-aref-step-6/.git/objects/42/d6baf291891f1622532504faa596c89c5ef0e2  \n",
            "   creating: headfirst-git-samples/chapter04/gitanjali-aref-step-6/.git/objects/00/\n",
            " extracting: headfirst-git-samples/chapter04/gitanjali-aref-step-6/.git/objects/00/3927e10ee6768243d20c694519b865df803a10  \n",
            "   creating: headfirst-git-samples/chapter04/gitanjali-aref-step-6/.git/objects/6e/\n",
            " extracting: headfirst-git-samples/chapter04/gitanjali-aref-step-6/.git/objects/6e/166804b8deec71855cede069b57e8c518f5c66  \n",
            "   creating: headfirst-git-samples/chapter04/gitanjali-aref-step-6/.git/objects/info/\n",
            "   creating: headfirst-git-samples/chapter04/gitanjali-aref-step-6/.git/objects/6c/\n",
            " extracting: headfirst-git-samples/chapter04/gitanjali-aref-step-6/.git/objects/6c/5f06eaf44114d882ca8b019e8aa0fac125cd9c  \n",
            " extracting: headfirst-git-samples/chapter04/gitanjali-aref-step-6/.git/objects/6c/0f797adfe6a45c34948e8112693bf55bf631dd  \n",
            "   creating: headfirst-git-samples/chapter04/gitanjali-aref-step-6/.git/objects/ef/\n",
            " extracting: headfirst-git-samples/chapter04/gitanjali-aref-step-6/.git/objects/ef/a799db0130435103964743c5f112e46e30904a  \n",
            "   creating: headfirst-git-samples/chapter04/gitanjali-aref-step-6/.git/objects/8d/\n",
            " extracting: headfirst-git-samples/chapter04/gitanjali-aref-step-6/.git/objects/8d/704f84c8f466daba4321affb1101813c15b2d2  \n",
            "   creating: headfirst-git-samples/chapter04/gitanjali-aref-step-6/.git/objects/2b/\n",
            " extracting: headfirst-git-samples/chapter04/gitanjali-aref-step-6/.git/objects/2b/0f532f81ad1103dc0f364bd9b7626fcd49370b  \n",
            " extracting: headfirst-git-samples/chapter04/gitanjali-aref-step-6/.git/HEAD  \n",
            "   creating: headfirst-git-samples/chapter04/gitanjali-aref-step-6/.git/info/\n",
            "  inflating: headfirst-git-samples/chapter04/gitanjali-aref-step-6/.git/info/exclude  \n",
            "   creating: headfirst-git-samples/chapter04/gitanjali-aref-step-6/.git/logs/\n",
            "  inflating: headfirst-git-samples/chapter04/gitanjali-aref-step-6/.git/logs/HEAD  \n",
            "   creating: headfirst-git-samples/chapter04/gitanjali-aref-step-6/.git/logs/refs/\n",
            "   creating: headfirst-git-samples/chapter04/gitanjali-aref-step-6/.git/logs/refs/heads/\n",
            "  inflating: headfirst-git-samples/chapter04/gitanjali-aref-step-6/.git/logs/refs/heads/master  \n",
            "  inflating: headfirst-git-samples/chapter04/gitanjali-aref-step-6/.git/logs/refs/heads/camping-trip  \n",
            "  inflating: headfirst-git-samples/chapter04/gitanjali-aref-step-6/.git/description  \n",
            "   creating: headfirst-git-samples/chapter04/gitanjali-aref-step-6/.git/hooks/\n",
            "  inflating: headfirst-git-samples/chapter04/gitanjali-aref-step-6/.git/hooks/commit-msg.sample  \n",
            "  inflating: headfirst-git-samples/chapter04/gitanjali-aref-step-6/.git/hooks/pre-rebase.sample  \n",
            "  inflating: headfirst-git-samples/chapter04/gitanjali-aref-step-6/.git/hooks/pre-commit.sample  \n",
            "  inflating: headfirst-git-samples/chapter04/gitanjali-aref-step-6/.git/hooks/applypatch-msg.sample  \n",
            "  inflating: headfirst-git-samples/chapter04/gitanjali-aref-step-6/.git/hooks/fsmonitor-watchman.sample  \n",
            "  inflating: headfirst-git-samples/chapter04/gitanjali-aref-step-6/.git/hooks/pre-receive.sample  \n",
            "  inflating: headfirst-git-samples/chapter04/gitanjali-aref-step-6/.git/hooks/prepare-commit-msg.sample  \n",
            "  inflating: headfirst-git-samples/chapter04/gitanjali-aref-step-6/.git/hooks/post-update.sample  \n",
            "  inflating: headfirst-git-samples/chapter04/gitanjali-aref-step-6/.git/hooks/pre-merge-commit.sample  \n",
            "  inflating: headfirst-git-samples/chapter04/gitanjali-aref-step-6/.git/hooks/pre-applypatch.sample  \n",
            "  inflating: headfirst-git-samples/chapter04/gitanjali-aref-step-6/.git/hooks/pre-push.sample  \n",
            "  inflating: headfirst-git-samples/chapter04/gitanjali-aref-step-6/.git/hooks/update.sample  \n",
            "  inflating: headfirst-git-samples/chapter04/gitanjali-aref-step-6/.git/hooks/push-to-checkout.sample  \n",
            "   creating: headfirst-git-samples/chapter04/gitanjali-aref-step-6/.git/refs/\n",
            "   creating: headfirst-git-samples/chapter04/gitanjali-aref-step-6/.git/refs/heads/\n",
            " extracting: headfirst-git-samples/chapter04/gitanjali-aref-step-6/.git/refs/heads/master  \n",
            " extracting: headfirst-git-samples/chapter04/gitanjali-aref-step-6/.git/refs/heads/camping-trip  \n",
            "   creating: headfirst-git-samples/chapter04/gitanjali-aref-step-6/.git/refs/tags/\n",
            "  inflating: headfirst-git-samples/chapter04/gitanjali-aref-step-6/.git/index  \n",
            " extracting: headfirst-git-samples/chapter04/gitanjali-aref-step-6/.git/COMMIT_EDITMSG  \n",
            "   creating: headfirst-git-samples/chapter04/gitanjali-aref-step-8/\n",
            "  inflating: headfirst-git-samples/chapter04/gitanjali-aref-step-8/indoor-party.md  \n",
            "  inflating: headfirst-git-samples/chapter04/gitanjali-aref-step-8/gift-registry.md  \n",
            "  inflating: headfirst-git-samples/chapter04/gitanjali-aref-step-8/boardgame-venues.md  \n",
            "  inflating: headfirst-git-samples/chapter04/gitanjali-aref-step-8/guest-list.md  \n",
            "  inflating: headfirst-git-samples/chapter04/gitanjali-aref-step-8/invitation-card.md  \n",
            "   creating: headfirst-git-samples/chapter04/gitanjali-aref-step-8/.git/\n",
            "  inflating: headfirst-git-samples/chapter04/gitanjali-aref-step-8/.git/config  \n",
            "   creating: headfirst-git-samples/chapter04/gitanjali-aref-step-8/.git/objects/\n",
            "   creating: headfirst-git-samples/chapter04/gitanjali-aref-step-8/.git/objects/3e/\n",
            " extracting: headfirst-git-samples/chapter04/gitanjali-aref-step-8/.git/objects/3e/3e84705e36a9f457e8b4521403b173155b1647  \n",
            "   creating: headfirst-git-samples/chapter04/gitanjali-aref-step-8/.git/objects/0b/\n",
            " extracting: headfirst-git-samples/chapter04/gitanjali-aref-step-8/.git/objects/0b/08ab8ee4b9ed2c0b4e60c565badba1f0e2ec6f  \n",
            "   creating: headfirst-git-samples/chapter04/gitanjali-aref-step-8/.git/objects/d1/\n",
            " extracting: headfirst-git-samples/chapter04/gitanjali-aref-step-8/.git/objects/d1/63c0d64b1669ade9e0cec391443ae79cfbbca2  \n",
            "   creating: headfirst-git-samples/chapter04/gitanjali-aref-step-8/.git/objects/cf/\n",
            " extracting: headfirst-git-samples/chapter04/gitanjali-aref-step-8/.git/objects/cf/5e7181bb23501f748963ba713cfd720ad76e1c  \n",
            "   creating: headfirst-git-samples/chapter04/gitanjali-aref-step-8/.git/objects/20/\n",
            " extracting: headfirst-git-samples/chapter04/gitanjali-aref-step-8/.git/objects/20/64ec59644588a62abd69d7036821485cf787ed  \n",
            "   creating: headfirst-git-samples/chapter04/gitanjali-aref-step-8/.git/objects/pack/\n",
            "   creating: headfirst-git-samples/chapter04/gitanjali-aref-step-8/.git/objects/42/\n",
            " extracting: headfirst-git-samples/chapter04/gitanjali-aref-step-8/.git/objects/42/d6baf291891f1622532504faa596c89c5ef0e2  \n",
            "   creating: headfirst-git-samples/chapter04/gitanjali-aref-step-8/.git/objects/00/\n",
            " extracting: headfirst-git-samples/chapter04/gitanjali-aref-step-8/.git/objects/00/3927e10ee6768243d20c694519b865df803a10  \n",
            "   creating: headfirst-git-samples/chapter04/gitanjali-aref-step-8/.git/objects/6e/\n",
            " extracting: headfirst-git-samples/chapter04/gitanjali-aref-step-8/.git/objects/6e/166804b8deec71855cede069b57e8c518f5c66  \n",
            "   creating: headfirst-git-samples/chapter04/gitanjali-aref-step-8/.git/objects/info/\n",
            "   creating: headfirst-git-samples/chapter04/gitanjali-aref-step-8/.git/objects/65/\n",
            " extracting: headfirst-git-samples/chapter04/gitanjali-aref-step-8/.git/objects/65/7aba9ea5e12a0a77728fd43c58b7fdc54c433e  \n",
            "   creating: headfirst-git-samples/chapter04/gitanjali-aref-step-8/.git/objects/6c/\n",
            " extracting: headfirst-git-samples/chapter04/gitanjali-aref-step-8/.git/objects/6c/5f06eaf44114d882ca8b019e8aa0fac125cd9c  \n",
            " extracting: headfirst-git-samples/chapter04/gitanjali-aref-step-8/.git/objects/6c/a6defc7adf5c20654071d833a5a1485351ae64  \n",
            " extracting: headfirst-git-samples/chapter04/gitanjali-aref-step-8/.git/objects/6c/0f797adfe6a45c34948e8112693bf55bf631dd  \n",
            "   creating: headfirst-git-samples/chapter04/gitanjali-aref-step-8/.git/objects/39/\n",
            " extracting: headfirst-git-samples/chapter04/gitanjali-aref-step-8/.git/objects/39/107a6bb009137a74ce22e2b90eb20066be0897  \n",
            "   creating: headfirst-git-samples/chapter04/gitanjali-aref-step-8/.git/objects/ef/\n",
            " extracting: headfirst-git-samples/chapter04/gitanjali-aref-step-8/.git/objects/ef/a799db0130435103964743c5f112e46e30904a  \n",
            "   creating: headfirst-git-samples/chapter04/gitanjali-aref-step-8/.git/objects/c3/\n",
            " extracting: headfirst-git-samples/chapter04/gitanjali-aref-step-8/.git/objects/c3/684a0c0da43095f836d9b2da5235dd0b6bde69  \n",
            "   creating: headfirst-git-samples/chapter04/gitanjali-aref-step-8/.git/objects/e7/\n",
            " extracting: headfirst-git-samples/chapter04/gitanjali-aref-step-8/.git/objects/e7/591aeab82bae312b6b2747264330e64e8833ab  \n",
            "   creating: headfirst-git-samples/chapter04/gitanjali-aref-step-8/.git/objects/8d/\n",
            " extracting: headfirst-git-samples/chapter04/gitanjali-aref-step-8/.git/objects/8d/704f84c8f466daba4321affb1101813c15b2d2  \n",
            "   creating: headfirst-git-samples/chapter04/gitanjali-aref-step-8/.git/objects/2b/\n",
            " extracting: headfirst-git-samples/chapter04/gitanjali-aref-step-8/.git/objects/2b/0f532f81ad1103dc0f364bd9b7626fcd49370b  \n",
            " extracting: headfirst-git-samples/chapter04/gitanjali-aref-step-8/.git/HEAD  \n",
            "   creating: headfirst-git-samples/chapter04/gitanjali-aref-step-8/.git/info/\n",
            "  inflating: headfirst-git-samples/chapter04/gitanjali-aref-step-8/.git/info/exclude  \n",
            "   creating: headfirst-git-samples/chapter04/gitanjali-aref-step-8/.git/logs/\n",
            "  inflating: headfirst-git-samples/chapter04/gitanjali-aref-step-8/.git/logs/HEAD  \n",
            "   creating: headfirst-git-samples/chapter04/gitanjali-aref-step-8/.git/logs/refs/\n",
            "   creating: headfirst-git-samples/chapter04/gitanjali-aref-step-8/.git/logs/refs/heads/\n",
            "  inflating: headfirst-git-samples/chapter04/gitanjali-aref-step-8/.git/logs/refs/heads/boardgame-night  \n",
            "  inflating: headfirst-git-samples/chapter04/gitanjali-aref-step-8/.git/logs/refs/heads/glamping-trip  \n",
            "  inflating: headfirst-git-samples/chapter04/gitanjali-aref-step-8/.git/logs/refs/heads/main  \n",
            "  inflating: headfirst-git-samples/chapter04/gitanjali-aref-step-8/.git/description  \n",
            "   creating: headfirst-git-samples/chapter04/gitanjali-aref-step-8/.git/hooks/\n",
            "  inflating: headfirst-git-samples/chapter04/gitanjali-aref-step-8/.git/hooks/commit-msg.sample  \n",
            "  inflating: headfirst-git-samples/chapter04/gitanjali-aref-step-8/.git/hooks/pre-rebase.sample  \n",
            "  inflating: headfirst-git-samples/chapter04/gitanjali-aref-step-8/.git/hooks/pre-commit.sample  \n",
            "  inflating: headfirst-git-samples/chapter04/gitanjali-aref-step-8/.git/hooks/applypatch-msg.sample  \n",
            "  inflating: headfirst-git-samples/chapter04/gitanjali-aref-step-8/.git/hooks/fsmonitor-watchman.sample  \n",
            "  inflating: headfirst-git-samples/chapter04/gitanjali-aref-step-8/.git/hooks/pre-receive.sample  \n",
            "  inflating: headfirst-git-samples/chapter04/gitanjali-aref-step-8/.git/hooks/prepare-commit-msg.sample  \n",
            "  inflating: headfirst-git-samples/chapter04/gitanjali-aref-step-8/.git/hooks/post-update.sample  \n",
            "  inflating: headfirst-git-samples/chapter04/gitanjali-aref-step-8/.git/hooks/pre-merge-commit.sample  \n",
            "  inflating: headfirst-git-samples/chapter04/gitanjali-aref-step-8/.git/hooks/pre-applypatch.sample  \n",
            "  inflating: headfirst-git-samples/chapter04/gitanjali-aref-step-8/.git/hooks/pre-push.sample  \n",
            "  inflating: headfirst-git-samples/chapter04/gitanjali-aref-step-8/.git/hooks/update.sample  \n",
            "  inflating: headfirst-git-samples/chapter04/gitanjali-aref-step-8/.git/hooks/push-to-checkout.sample  \n",
            "   creating: headfirst-git-samples/chapter04/gitanjali-aref-step-8/.git/refs/\n",
            "   creating: headfirst-git-samples/chapter04/gitanjali-aref-step-8/.git/refs/heads/\n",
            " extracting: headfirst-git-samples/chapter04/gitanjali-aref-step-8/.git/refs/heads/boardgame-night  \n",
            " extracting: headfirst-git-samples/chapter04/gitanjali-aref-step-8/.git/refs/heads/glamping-trip  \n",
            " extracting: headfirst-git-samples/chapter04/gitanjali-aref-step-8/.git/refs/heads/main  \n",
            "   creating: headfirst-git-samples/chapter04/gitanjali-aref-step-8/.git/refs/tags/\n",
            "  inflating: headfirst-git-samples/chapter04/gitanjali-aref-step-8/.git/index  \n",
            "  inflating: headfirst-git-samples/chapter04/gitanjali-aref-step-8/.git/COMMIT_EDITMSG  \n",
            "   creating: headfirst-git-samples/chapter08/\n",
            "  inflating: headfirst-git-samples/chapter08/README.md  \n",
            "   creating: headfirst-git-samples/chapter01/\n",
            "  inflating: headfirst-git-samples/chapter01/Checklist-1.md  \n",
            "  inflating: headfirst-git-samples/chapter01/README.md  \n",
            "  inflating: headfirst-git-samples/chapter01/Checklist-2.md  \n",
            "  inflating: headfirst-git-samples/chapter01/Checklist-3.md  \n",
            "   creating: headfirst-git-samples/chapter06/\n",
            "  inflating: headfirst-git-samples/chapter06/FAQ-3.md  \n",
            "  inflating: headfirst-git-samples/chapter06/FAQ-2.md  \n",
            "  inflating: headfirst-git-samples/chapter06/Profile-1.md  \n",
            "  inflating: headfirst-git-samples/chapter06/README.md  \n",
            "  inflating: headfirst-git-samples/chapter06/Profile-2.md  \n",
            "  inflating: headfirst-git-samples/chapter06/FAQ-1.md  \n",
            "  inflating: headfirst-git-samples/chapter06/FAQ-4.md  \n",
            "  inflating: headfirst-git-samples/chapter06/Profile-3.md  \n",
            "   creating: headfirst-git-samples/chapter07/\n",
            "  inflating: headfirst-git-samples/chapter07/drinks-2.md  \n",
            "  inflating: headfirst-git-samples/chapter07/appetizers-2.md  \n",
            " extracting: headfirst-git-samples/chapter07/pickaxe-3.md  \n",
            "  inflating: headfirst-git-samples/chapter07/appetizers-3.md  \n",
            " extracting: headfirst-git-samples/chapter07/pickaxe-2.md  \n",
            "  inflating: headfirst-git-samples/chapter07/drinks-3.md  \n",
            "  inflating: headfirst-git-samples/chapter07/dinner-1.md  \n",
            "   creating: headfirst-git-samples/chapter07/gitanjali-aref-wedding-plans/\n",
            "  inflating: headfirst-git-samples/chapter07/gitanjali-aref-wedding-plans/README.md  \n",
            "  inflating: headfirst-git-samples/chapter07/gitanjali-aref-wedding-plans/dinner.md  \n",
            "  inflating: headfirst-git-samples/chapter07/gitanjali-aref-wedding-plans/drinks.md  \n",
            "   creating: headfirst-git-samples/chapter07/gitanjali-aref-wedding-plans/.git/\n",
            "  inflating: headfirst-git-samples/chapter07/gitanjali-aref-wedding-plans/.git/config  \n",
            "   creating: headfirst-git-samples/chapter07/gitanjali-aref-wedding-plans/.git/objects/\n",
            "   creating: headfirst-git-samples/chapter07/gitanjali-aref-wedding-plans/.git/objects/57/\n",
            " extracting: headfirst-git-samples/chapter07/gitanjali-aref-wedding-plans/.git/objects/57/8e2594f0ba3a1696ee3a865e9f43f793c1b0f6  \n",
            "   creating: headfirst-git-samples/chapter07/gitanjali-aref-wedding-plans/.git/objects/3b/\n",
            " extracting: headfirst-git-samples/chapter07/gitanjali-aref-wedding-plans/.git/objects/3b/31f1155992e2d3b8358a4eb8a4926be6bb29c8  \n",
            "   creating: headfirst-git-samples/chapter07/gitanjali-aref-wedding-plans/.git/objects/0b/\n",
            " extracting: headfirst-git-samples/chapter07/gitanjali-aref-wedding-plans/.git/objects/0b/90575defe5f7c9d4783d5bcbdb9512ed48897f  \n",
            "   creating: headfirst-git-samples/chapter07/gitanjali-aref-wedding-plans/.git/objects/93/\n",
            " extracting: headfirst-git-samples/chapter07/gitanjali-aref-wedding-plans/.git/objects/93/c7e9133c0e7cb5629f2d1380f77521d384cc6e  \n",
            "   creating: headfirst-git-samples/chapter07/gitanjali-aref-wedding-plans/.git/objects/df/\n",
            " extracting: headfirst-git-samples/chapter07/gitanjali-aref-wedding-plans/.git/objects/df/5fde078b961829243a3c7a195f6d537314ba3b  \n",
            "   creating: headfirst-git-samples/chapter07/gitanjali-aref-wedding-plans/.git/objects/d8/\n",
            " extracting: headfirst-git-samples/chapter07/gitanjali-aref-wedding-plans/.git/objects/d8/34c87ddd7591d0d5fdfd3027ddd904a67cd618  \n",
            "   creating: headfirst-git-samples/chapter07/gitanjali-aref-wedding-plans/.git/objects/c9/\n",
            " extracting: headfirst-git-samples/chapter07/gitanjali-aref-wedding-plans/.git/objects/c9/63726d8ba41f15ea2393b4246dd5405f772dfe  \n",
            "   creating: headfirst-git-samples/chapter07/gitanjali-aref-wedding-plans/.git/objects/fc/\n",
            " extracting: headfirst-git-samples/chapter07/gitanjali-aref-wedding-plans/.git/objects/fc/bb433a70670b44923a162c5e819db0482e83f7  \n",
            "   creating: headfirst-git-samples/chapter07/gitanjali-aref-wedding-plans/.git/objects/pack/\n",
            "   creating: headfirst-git-samples/chapter07/gitanjali-aref-wedding-plans/.git/objects/1a/\n",
            " extracting: headfirst-git-samples/chapter07/gitanjali-aref-wedding-plans/.git/objects/1a/d31f525f1a9eb929310d388aebd1ec5d1f5f4a  \n",
            "   creating: headfirst-git-samples/chapter07/gitanjali-aref-wedding-plans/.git/objects/8a/\n",
            " extracting: headfirst-git-samples/chapter07/gitanjali-aref-wedding-plans/.git/objects/8a/eb679cb70c17bcf9d0e39991a50628e3ba3fd2  \n",
            "   creating: headfirst-git-samples/chapter07/gitanjali-aref-wedding-plans/.git/objects/10/\n",
            " extracting: headfirst-git-samples/chapter07/gitanjali-aref-wedding-plans/.git/objects/10/d16ca6b9c57ea198687361d40c467f3ffec20d  \n",
            "   creating: headfirst-git-samples/chapter07/gitanjali-aref-wedding-plans/.git/objects/6b/\n",
            " extracting: headfirst-git-samples/chapter07/gitanjali-aref-wedding-plans/.git/objects/6b/11ec8cc2b98e799c5a5bd1c480ce214b6e564b  \n",
            "   creating: headfirst-git-samples/chapter07/gitanjali-aref-wedding-plans/.git/objects/info/\n",
            "   creating: headfirst-git-samples/chapter07/gitanjali-aref-wedding-plans/.git/objects/99/\n",
            " extracting: headfirst-git-samples/chapter07/gitanjali-aref-wedding-plans/.git/objects/99/fd56e6628bb154a64b8171f8f3af2be2f96c6e  \n",
            "   creating: headfirst-git-samples/chapter07/gitanjali-aref-wedding-plans/.git/objects/0f/\n",
            " extracting: headfirst-git-samples/chapter07/gitanjali-aref-wedding-plans/.git/objects/0f/cee53eaf55dd85e4616131431664dc9a4479ce  \n",
            "   creating: headfirst-git-samples/chapter07/gitanjali-aref-wedding-plans/.git/objects/64/\n",
            " extracting: headfirst-git-samples/chapter07/gitanjali-aref-wedding-plans/.git/objects/64/c1f6e0afb716175af36c31867905f3b9e0833e  \n",
            "   creating: headfirst-git-samples/chapter07/gitanjali-aref-wedding-plans/.git/objects/d3/\n",
            " extracting: headfirst-git-samples/chapter07/gitanjali-aref-wedding-plans/.git/objects/d3/6c9830823a17c42025713dcbc3bc29bbb4ce36  \n",
            "   creating: headfirst-git-samples/chapter07/gitanjali-aref-wedding-plans/.git/objects/b6/\n",
            " extracting: headfirst-git-samples/chapter07/gitanjali-aref-wedding-plans/.git/objects/b6/c8c826ed98583a175ea4616ba9aad48ec0b1ad  \n",
            "   creating: headfirst-git-samples/chapter07/gitanjali-aref-wedding-plans/.git/objects/b0/\n",
            " extracting: headfirst-git-samples/chapter07/gitanjali-aref-wedding-plans/.git/objects/b0/86bef8f829d3d3424c0684f9cb6e06f685c53f  \n",
            "   creating: headfirst-git-samples/chapter07/gitanjali-aref-wedding-plans/.git/objects/c3/\n",
            " extracting: headfirst-git-samples/chapter07/gitanjali-aref-wedding-plans/.git/objects/c3/668177ee381e0e58c25447b6c36d8eee23b8fe  \n",
            "   creating: headfirst-git-samples/chapter07/gitanjali-aref-wedding-plans/.git/objects/e8/\n",
            " extracting: headfirst-git-samples/chapter07/gitanjali-aref-wedding-plans/.git/objects/e8/a8aa4bae3ede20a605501cd6df4aa8bc558cd1  \n",
            "   creating: headfirst-git-samples/chapter07/gitanjali-aref-wedding-plans/.git/objects/e9/\n",
            " extracting: headfirst-git-samples/chapter07/gitanjali-aref-wedding-plans/.git/objects/e9/beff319ce7a28fe4abb062f50b026e70668fc4  \n",
            "   creating: headfirst-git-samples/chapter07/gitanjali-aref-wedding-plans/.git/objects/ce/\n",
            " extracting: headfirst-git-samples/chapter07/gitanjali-aref-wedding-plans/.git/objects/ce/eaf08c646bca6843dcec21ae408480b7f7fba5  \n",
            "   creating: headfirst-git-samples/chapter07/gitanjali-aref-wedding-plans/.git/objects/41/\n",
            " extracting: headfirst-git-samples/chapter07/gitanjali-aref-wedding-plans/.git/objects/41/190d47db66f46c04edfb0f14c2605185daa0be  \n",
            "   creating: headfirst-git-samples/chapter07/gitanjali-aref-wedding-plans/.git/objects/23/\n",
            " extracting: headfirst-git-samples/chapter07/gitanjali-aref-wedding-plans/.git/objects/23/16face6fdaa12a76eb8a3f08720af97a95aaa1  \n",
            "   creating: headfirst-git-samples/chapter07/gitanjali-aref-wedding-plans/.git/objects/76/\n",
            " extracting: headfirst-git-samples/chapter07/gitanjali-aref-wedding-plans/.git/objects/76/b0a3595807a413aa056503cf762242b8d7cbb8  \n",
            "   creating: headfirst-git-samples/chapter07/gitanjali-aref-wedding-plans/.git/objects/2e/\n",
            " extracting: headfirst-git-samples/chapter07/gitanjali-aref-wedding-plans/.git/objects/2e/a3b459770c40982d49d0e1885e76457a2eadfe  \n",
            "   creating: headfirst-git-samples/chapter07/gitanjali-aref-wedding-plans/.git/objects/78/\n",
            " extracting: headfirst-git-samples/chapter07/gitanjali-aref-wedding-plans/.git/objects/78/86bce9d9a0fde936ef4696a41d14f89f5b4c18  \n",
            " extracting: headfirst-git-samples/chapter07/gitanjali-aref-wedding-plans/.git/HEAD  \n",
            "   creating: headfirst-git-samples/chapter07/gitanjali-aref-wedding-plans/.git/info/\n",
            "  inflating: headfirst-git-samples/chapter07/gitanjali-aref-wedding-plans/.git/info/exclude  \n",
            "   creating: headfirst-git-samples/chapter07/gitanjali-aref-wedding-plans/.git/logs/\n",
            "  inflating: headfirst-git-samples/chapter07/gitanjali-aref-wedding-plans/.git/logs/HEAD  \n",
            "   creating: headfirst-git-samples/chapter07/gitanjali-aref-wedding-plans/.git/logs/refs/\n",
            "   creating: headfirst-git-samples/chapter07/gitanjali-aref-wedding-plans/.git/logs/refs/heads/\n",
            "  inflating: headfirst-git-samples/chapter07/gitanjali-aref-wedding-plans/.git/logs/refs/heads/master  \n",
            "   creating: headfirst-git-samples/chapter07/gitanjali-aref-wedding-plans/.git/logs/refs/remotes/\n",
            "   creating: headfirst-git-samples/chapter07/gitanjali-aref-wedding-plans/.git/logs/refs/remotes/origin/\n",
            "  inflating: headfirst-git-samples/chapter07/gitanjali-aref-wedding-plans/.git/logs/refs/remotes/origin/master  \n",
            "  inflating: headfirst-git-samples/chapter07/gitanjali-aref-wedding-plans/.git/description  \n",
            "   creating: headfirst-git-samples/chapter07/gitanjali-aref-wedding-plans/.git/hooks/\n",
            "  inflating: headfirst-git-samples/chapter07/gitanjali-aref-wedding-plans/.git/hooks/commit-msg.sample  \n",
            "  inflating: headfirst-git-samples/chapter07/gitanjali-aref-wedding-plans/.git/hooks/pre-rebase.sample  \n",
            "  inflating: headfirst-git-samples/chapter07/gitanjali-aref-wedding-plans/.git/hooks/pre-commit.sample  \n",
            "  inflating: headfirst-git-samples/chapter07/gitanjali-aref-wedding-plans/.git/hooks/applypatch-msg.sample  \n",
            "  inflating: headfirst-git-samples/chapter07/gitanjali-aref-wedding-plans/.git/hooks/fsmonitor-watchman.sample  \n",
            "  inflating: headfirst-git-samples/chapter07/gitanjali-aref-wedding-plans/.git/hooks/pre-receive.sample  \n",
            "  inflating: headfirst-git-samples/chapter07/gitanjali-aref-wedding-plans/.git/hooks/prepare-commit-msg.sample  \n",
            "  inflating: headfirst-git-samples/chapter07/gitanjali-aref-wedding-plans/.git/hooks/post-update.sample  \n",
            "  inflating: headfirst-git-samples/chapter07/gitanjali-aref-wedding-plans/.git/hooks/pre-merge-commit.sample  \n",
            "  inflating: headfirst-git-samples/chapter07/gitanjali-aref-wedding-plans/.git/hooks/pre-applypatch.sample  \n",
            "  inflating: headfirst-git-samples/chapter07/gitanjali-aref-wedding-plans/.git/hooks/pre-push.sample  \n",
            "  inflating: headfirst-git-samples/chapter07/gitanjali-aref-wedding-plans/.git/hooks/update.sample  \n",
            "  inflating: headfirst-git-samples/chapter07/gitanjali-aref-wedding-plans/.git/hooks/push-to-checkout.sample  \n",
            "   creating: headfirst-git-samples/chapter07/gitanjali-aref-wedding-plans/.git/refs/\n",
            "   creating: headfirst-git-samples/chapter07/gitanjali-aref-wedding-plans/.git/refs/heads/\n",
            " extracting: headfirst-git-samples/chapter07/gitanjali-aref-wedding-plans/.git/refs/heads/master  \n",
            "   creating: headfirst-git-samples/chapter07/gitanjali-aref-wedding-plans/.git/refs/tags/\n",
            "   creating: headfirst-git-samples/chapter07/gitanjali-aref-wedding-plans/.git/refs/remotes/\n",
            "   creating: headfirst-git-samples/chapter07/gitanjali-aref-wedding-plans/.git/refs/remotes/origin/\n",
            " extracting: headfirst-git-samples/chapter07/gitanjali-aref-wedding-plans/.git/refs/remotes/origin/master  \n",
            "  inflating: headfirst-git-samples/chapter07/gitanjali-aref-wedding-plans/.git/index  \n",
            " extracting: headfirst-git-samples/chapter07/gitanjali-aref-wedding-plans/.git/COMMIT_EDITMSG  \n",
            "  inflating: headfirst-git-samples/chapter07/gitanjali-aref-wedding-plans/appetizers.md  \n",
            "  inflating: headfirst-git-samples/chapter07/README.md  \n",
            "   creating: headfirst-git-samples/chapter07/why-pickaxe/\n",
            " extracting: headfirst-git-samples/chapter07/why-pickaxe/pickaxe.md  \n",
            "   creating: headfirst-git-samples/chapter07/why-pickaxe/.git/\n",
            "  inflating: headfirst-git-samples/chapter07/why-pickaxe/.git/config  \n",
            "   creating: headfirst-git-samples/chapter07/why-pickaxe/.git/objects/\n",
            "   creating: headfirst-git-samples/chapter07/why-pickaxe/.git/objects/pack/\n",
            "   creating: headfirst-git-samples/chapter07/why-pickaxe/.git/objects/45/\n",
            " extracting: headfirst-git-samples/chapter07/why-pickaxe/.git/objects/45/df91c9dad79993909f69f590f3b36ab4c66996  \n",
            "   creating: headfirst-git-samples/chapter07/why-pickaxe/.git/objects/info/\n",
            "   creating: headfirst-git-samples/chapter07/why-pickaxe/.git/objects/55/\n",
            " extracting: headfirst-git-samples/chapter07/why-pickaxe/.git/objects/55/55624d4e850c05cc1350283cde80d304fe703e  \n",
            "   creating: headfirst-git-samples/chapter07/why-pickaxe/.git/objects/d2/\n",
            " extracting: headfirst-git-samples/chapter07/why-pickaxe/.git/objects/d2/54d74106c20c92219ccb0d31306fd453be502b  \n",
            "   creating: headfirst-git-samples/chapter07/why-pickaxe/.git/objects/b7/\n",
            " extracting: headfirst-git-samples/chapter07/why-pickaxe/.git/objects/b7/6b2b04b317cc6951fd6ff1c64ca7eea2345bb2  \n",
            "   creating: headfirst-git-samples/chapter07/why-pickaxe/.git/objects/c3/\n",
            " extracting: headfirst-git-samples/chapter07/why-pickaxe/.git/objects/c3/a24c4f62aee81ec81612668ce8d44111818ff4  \n",
            "   creating: headfirst-git-samples/chapter07/why-pickaxe/.git/objects/f0/\n",
            " extracting: headfirst-git-samples/chapter07/why-pickaxe/.git/objects/f0/3f4650701b0142d8e146f68c9e388567a89949  \n",
            "   creating: headfirst-git-samples/chapter07/why-pickaxe/.git/objects/83/\n",
            " extracting: headfirst-git-samples/chapter07/why-pickaxe/.git/objects/83/2d94131e0e8c1ed4a7624bddfa01d087e6c1c5  \n",
            "   creating: headfirst-git-samples/chapter07/why-pickaxe/.git/objects/84/\n",
            " extracting: headfirst-git-samples/chapter07/why-pickaxe/.git/objects/84/102df4576c91e5176899893215babee5ad1215  \n",
            "   creating: headfirst-git-samples/chapter07/why-pickaxe/.git/objects/8c/\n",
            " extracting: headfirst-git-samples/chapter07/why-pickaxe/.git/objects/8c/05de2eaf10764d0337a799a2ca7b423f8904ba  \n",
            " extracting: headfirst-git-samples/chapter07/why-pickaxe/.git/HEAD  \n",
            "   creating: headfirst-git-samples/chapter07/why-pickaxe/.git/info/\n",
            "  inflating: headfirst-git-samples/chapter07/why-pickaxe/.git/info/exclude  \n",
            "   creating: headfirst-git-samples/chapter07/why-pickaxe/.git/logs/\n",
            "  inflating: headfirst-git-samples/chapter07/why-pickaxe/.git/logs/HEAD  \n",
            "   creating: headfirst-git-samples/chapter07/why-pickaxe/.git/logs/refs/\n",
            "   creating: headfirst-git-samples/chapter07/why-pickaxe/.git/logs/refs/heads/\n",
            "  inflating: headfirst-git-samples/chapter07/why-pickaxe/.git/logs/refs/heads/master  \n",
            "  inflating: headfirst-git-samples/chapter07/why-pickaxe/.git/description  \n",
            "   creating: headfirst-git-samples/chapter07/why-pickaxe/.git/hooks/\n",
            "  inflating: headfirst-git-samples/chapter07/why-pickaxe/.git/hooks/commit-msg.sample  \n",
            "  inflating: headfirst-git-samples/chapter07/why-pickaxe/.git/hooks/pre-rebase.sample  \n",
            "  inflating: headfirst-git-samples/chapter07/why-pickaxe/.git/hooks/pre-commit.sample  \n",
            "  inflating: headfirst-git-samples/chapter07/why-pickaxe/.git/hooks/applypatch-msg.sample  \n",
            "  inflating: headfirst-git-samples/chapter07/why-pickaxe/.git/hooks/fsmonitor-watchman.sample  \n",
            "  inflating: headfirst-git-samples/chapter07/why-pickaxe/.git/hooks/pre-receive.sample  \n",
            "  inflating: headfirst-git-samples/chapter07/why-pickaxe/.git/hooks/prepare-commit-msg.sample  \n",
            "  inflating: headfirst-git-samples/chapter07/why-pickaxe/.git/hooks/post-update.sample  \n",
            "  inflating: headfirst-git-samples/chapter07/why-pickaxe/.git/hooks/pre-merge-commit.sample  \n",
            "  inflating: headfirst-git-samples/chapter07/why-pickaxe/.git/hooks/pre-applypatch.sample  \n",
            "  inflating: headfirst-git-samples/chapter07/why-pickaxe/.git/hooks/pre-push.sample  \n",
            "  inflating: headfirst-git-samples/chapter07/why-pickaxe/.git/hooks/update.sample  \n",
            "  inflating: headfirst-git-samples/chapter07/why-pickaxe/.git/hooks/push-to-checkout.sample  \n",
            "   creating: headfirst-git-samples/chapter07/why-pickaxe/.git/refs/\n",
            "   creating: headfirst-git-samples/chapter07/why-pickaxe/.git/refs/heads/\n",
            "  inflating: headfirst-git-samples/chapter07/why-pickaxe/.git/refs/heads/master  \n",
            "   creating: headfirst-git-samples/chapter07/why-pickaxe/.git/refs/tags/\n",
            "  inflating: headfirst-git-samples/chapter07/why-pickaxe/.git/index  \n",
            " extracting: headfirst-git-samples/chapter07/why-pickaxe/.git/COMMIT_EDITMSG  \n",
            "  inflating: headfirst-git-samples/chapter07/dinner-3.md  \n",
            "  inflating: headfirst-git-samples/chapter07/dinner-2.md  \n",
            " extracting: headfirst-git-samples/chapter07/pickaxe-1.md  \n",
            "  inflating: headfirst-git-samples/chapter07/appetizers-4.md  \n",
            "  inflating: headfirst-git-samples/chapter07/drinks-1.md  \n",
            "  inflating: headfirst-git-samples/chapter07/appetizers-1.md  \n",
            "   creating: headfirst-git-samples/chapter09/\n",
            "  inflating: headfirst-git-samples/chapter09/README.md  \n",
            "  inflating: headfirst-git-samples/chapter09/stashes.md  \n",
            "  inflating: headfirst-git-samples/chapter09/reflog.md  \n"
          ]
        }
      ]
    },
    {
      "cell_type": "markdown",
      "source": [
        "# An error in judgment"
      ],
      "metadata": {
        "id": "YyFxEpUXybg3"
      }
    },
    {
      "cell_type": "code",
      "source": [
        "%cd headfirst-git-samples/chapter04/gitanjali-aref-step-1"
      ],
      "metadata": {
        "colab": {
          "base_uri": "https://localhost:8080/"
        },
        "id": "g4xLZVbeyZs4",
        "outputId": "3386b89a-7091-448c-d419-17c13f80fdf0"
      },
      "execution_count": null,
      "outputs": [
        {
          "output_type": "stream",
          "name": "stdout",
          "text": [
            "/content/headfirst-git-samples/chapter04/gitanjali-aref-step-1\n"
          ]
        }
      ]
    },
    {
      "cell_type": "code",
      "source": [
        "!git log --oneline --graph --all"
      ],
      "metadata": {
        "colab": {
          "base_uri": "https://localhost:8080/"
        },
        "id": "Bqf7e2n8yqQD",
        "outputId": "cba036d1-4efd-4f21-bb92-e2370e5c24e6"
      },
      "execution_count": null,
      "outputs": [
        {
          "output_type": "stream",
          "name": "stdout",
          "text": [
            "* \u001b[33m8d704f8\u001b[m\u001b[33m (\u001b[m\u001b[1;36mHEAD -> \u001b[m\u001b[1;32mmaster\u001b[m\u001b[33m)\u001b[m first cut at invitation card\n",
            "* \u001b[33m6e16680\u001b[m initial set of guests and gift registry\n"
          ]
        }
      ]
    },
    {
      "cell_type": "markdown",
      "source": [
        "Change date"
      ],
      "metadata": {
        "id": "eg3_eRNBzMIq"
      }
    },
    {
      "cell_type": "code",
      "source": [
        "!cat invitation-card.md"
      ],
      "metadata": {
        "colab": {
          "base_uri": "https://localhost:8080/"
        },
        "id": "0-aLp9eEytzF",
        "outputId": "8e22c547-5ea5-49e8-d486-26fc9465e2e0"
      },
      "execution_count": null,
      "outputs": [
        {
          "output_type": "stream",
          "name": "stdout",
          "text": [
            "# Rings just got real!\n",
            "\n",
            "  Please join us for an\n",
            "\n",
            "    Engagement Party\n",
            "\n",
            "      in honor of\n",
            "\n",
            "    Gitanjali & Aref\n",
            "\n",
            "Saturday, June 25th\n",
            "\n",
            "R.S.V.P to Trinity by June 1st\n"
          ]
        }
      ]
    },
    {
      "cell_type": "code",
      "source": [
        "%%writefile invitation-card.md\n",
        "# Rings just got real!\n",
        "\n",
        "  Please join us for an\n",
        "\n",
        "    Engagement Party\n",
        "\n",
        "      in honor of\n",
        "\n",
        "    Gitanjali & Aref\n",
        "\n",
        "Saturday, July 3rd\n",
        "\n",
        "R.S.V.P to Trinity by June 1st"
      ],
      "metadata": {
        "colab": {
          "base_uri": "https://localhost:8080/"
        },
        "id": "FpXDoF2tzDOi",
        "outputId": "9908f076-e8d6-4ac0-f04e-5bebacd697aa"
      },
      "execution_count": null,
      "outputs": [
        {
          "output_type": "stream",
          "name": "stdout",
          "text": [
            "Overwriting invitation-card.md\n"
          ]
        }
      ]
    },
    {
      "cell_type": "markdown",
      "source": [
        "to view old date, use diff"
      ],
      "metadata": {
        "id": "ZHIQ_hDyzlgv"
      }
    },
    {
      "cell_type": "code",
      "source": [
        "!git diff"
      ],
      "metadata": {
        "colab": {
          "base_uri": "https://localhost:8080/"
        },
        "id": "_-jkGAC9zj9n",
        "outputId": "7608257d-30aa-49db-cb74-c05221749624"
      },
      "execution_count": null,
      "outputs": [
        {
          "output_type": "stream",
          "name": "stdout",
          "text": [
            "\u001b[1mdiff --git a/invitation-card.md b/invitation-card.md\u001b[m\n",
            "\u001b[1mindex 003927e..273617b 100644\u001b[m\n",
            "\u001b[1m--- a/invitation-card.md\u001b[m\n",
            "\u001b[1m+++ b/invitation-card.md\u001b[m\n",
            "\u001b[36m@@ -8,6 +8,6 @@\u001b[m\n",
            " \u001b[m\n",
            "     Gitanjali & Aref\u001b[m\n",
            " \u001b[m\n",
            "\u001b[31m-Saturday, June 25th\u001b[m\n",
            "\u001b[32m+\u001b[m\u001b[32mSaturday, July 3rd\u001b[m\n",
            " \u001b[m\n",
            "\u001b[31m-R.S.V.P to Trinity by June 1st\u001b[m\n",
            "\u001b[32m+\u001b[m\u001b[32mR.S.V.P to Trinity by June 1st\u001b[m\n",
            "\\ No newline at end of file\u001b[m\n"
          ]
        }
      ]
    },
    {
      "cell_type": "markdown",
      "source": [
        "## restore"
      ],
      "metadata": {
        "id": "uWrmDmBXzqww"
      }
    },
    {
      "cell_type": "code",
      "source": [
        "!git status"
      ],
      "metadata": {
        "colab": {
          "base_uri": "https://localhost:8080/"
        },
        "id": "aM72xNmrzn3b",
        "outputId": "4e6e6002-ad2f-4e8a-b389-8d7228277cc5"
      },
      "execution_count": null,
      "outputs": [
        {
          "output_type": "stream",
          "name": "stdout",
          "text": [
            "On branch master\n",
            "Changes not staged for commit:\n",
            "  (use \"git add <file>...\" to update what will be committed)\n",
            "  (use \"git restore <file>...\" to discard changes in working directory)\n",
            "\t\u001b[31mmodified:   invitation-card.md\u001b[m\n",
            "\n",
            "no changes added to commit (use \"git add\" and/or \"git commit -a\")\n"
          ]
        }
      ]
    },
    {
      "cell_type": "code",
      "source": [
        "!git restore invitation-card.md"
      ],
      "metadata": {
        "id": "jZHSgZA-ztsy"
      },
      "execution_count": null,
      "outputs": []
    },
    {
      "cell_type": "code",
      "source": [
        "!git status"
      ],
      "metadata": {
        "colab": {
          "base_uri": "https://localhost:8080/"
        },
        "id": "QE9HTlBRz2XT",
        "outputId": "8cc10b51-fc70-49af-ec1b-56b7dcc8dfc4"
      },
      "execution_count": null,
      "outputs": [
        {
          "output_type": "stream",
          "name": "stdout",
          "text": [
            "On branch master\n",
            "nothing to commit, working tree clean\n"
          ]
        }
      ]
    },
    {
      "cell_type": "markdown",
      "source": [
        "## example"
      ],
      "metadata": {
        "id": "RnhLVmUj0ZjZ"
      }
    },
    {
      "cell_type": "code",
      "source": [
        "%cd ../gitanjali-aref-step-2"
      ],
      "metadata": {
        "colab": {
          "base_uri": "https://localhost:8080/"
        },
        "id": "jpsL3T5w0auw",
        "outputId": "60c04602-71fd-4566-a445-fa525a7a837b"
      },
      "execution_count": null,
      "outputs": [
        {
          "output_type": "stream",
          "name": "stdout",
          "text": [
            "/content/headfirst-git-samples/chapter04/gitanjali-aref-step-2\n"
          ]
        }
      ]
    },
    {
      "cell_type": "code",
      "source": [
        "!git status"
      ],
      "metadata": {
        "colab": {
          "base_uri": "https://localhost:8080/"
        },
        "id": "TuNmshlv0cQl",
        "outputId": "a49f8881-55a4-40f2-961a-b292e59eab8d"
      },
      "execution_count": null,
      "outputs": [
        {
          "output_type": "stream",
          "name": "stdout",
          "text": [
            "On branch master\n",
            "Changes not staged for commit:\n",
            "  (use \"git add <file>...\" to update what will be committed)\n",
            "  (use \"git restore <file>...\" to discard changes in working directory)\n",
            "\t\u001b[31mmodified:   invitation-card.md\u001b[m\n",
            "\n",
            "no changes added to commit (use \"git add\" and/or \"git commit -a\")\n"
          ]
        }
      ]
    },
    {
      "cell_type": "code",
      "source": [
        "!git diff"
      ],
      "metadata": {
        "colab": {
          "base_uri": "https://localhost:8080/"
        },
        "id": "RgmIz6E70dMV",
        "outputId": "c5212d01-313e-46d6-d401-b2cc4f85b2c4"
      },
      "execution_count": null,
      "outputs": [
        {
          "output_type": "stream",
          "name": "stdout",
          "text": [
            "\u001b[1mdiff --git a/invitation-card.md b/invitation-card.md\u001b[m\n",
            "\u001b[1mindex 003927e..cbe8de9 100644\u001b[m\n",
            "\u001b[1m--- a/invitation-card.md\u001b[m\n",
            "\u001b[1m+++ b/invitation-card.md\u001b[m\n",
            "\u001b[36m@@ -8,6 +8,6 @@\u001b[m\n",
            " \u001b[m\n",
            "     Gitanjali & Aref\u001b[m\n",
            " \u001b[m\n",
            "\u001b[31m-Saturday, June 25th\u001b[m\n",
            "\u001b[32m+\u001b[m\u001b[32mSaturday, July 3rd\u001b[m\n",
            " \u001b[m\n",
            "\u001b[31m-R.S.V.P to Trinity by June 1st\u001b[m\n",
            "\u001b[32m+\u001b[m\u001b[32mR.S.V.P to Trinity by June 7th\u001b[m\n"
          ]
        }
      ]
    },
    {
      "cell_type": "code",
      "source": [
        "!git restore invitation-card.md"
      ],
      "metadata": {
        "id": "WNtNRaTP0fQ7"
      },
      "execution_count": null,
      "outputs": []
    },
    {
      "cell_type": "code",
      "source": [
        "!git status"
      ],
      "metadata": {
        "id": "07LMeS040lvN",
        "outputId": "853008d2-dc8f-45a9-81e7-cac56654b133",
        "colab": {
          "base_uri": "https://localhost:8080/"
        }
      },
      "execution_count": null,
      "outputs": [
        {
          "output_type": "stream",
          "name": "stdout",
          "text": [
            "On branch master\n",
            "nothing to commit, working tree clean\n"
          ]
        }
      ]
    },
    {
      "cell_type": "markdown",
      "source": [
        "# Undoing changes to the index\n",
        "\n",
        "git restore --staged"
      ],
      "metadata": {
        "id": "3e2tMRFq0tqU"
      }
    },
    {
      "cell_type": "code",
      "source": [
        "%cd ../gitanjali-aref-step-3"
      ],
      "metadata": {
        "id": "-f-rUSmP0mJb",
        "colab": {
          "base_uri": "https://localhost:8080/"
        },
        "outputId": "6535f5d3-9218-418b-b9b4-d9b1ec05ca06"
      },
      "execution_count": null,
      "outputs": [
        {
          "output_type": "stream",
          "name": "stdout",
          "text": [
            "/content/headfirst-git-samples/chapter04/gitanjali-aref-step-3\n"
          ]
        }
      ]
    },
    {
      "cell_type": "code",
      "source": [
        "!git status"
      ],
      "metadata": {
        "colab": {
          "base_uri": "https://localhost:8080/"
        },
        "id": "zSoxBOmL1WBc",
        "outputId": "7049fe10-1564-43d9-f3d6-86b441c5965e"
      },
      "execution_count": null,
      "outputs": [
        {
          "output_type": "stream",
          "name": "stdout",
          "text": [
            "On branch master\n",
            "Changes to be committed:\n",
            "  (use \"git restore --staged <file>...\" to unstage)\n",
            "\t\u001b[32mmodified:   invitation-card.md\u001b[m\n",
            "\n"
          ]
        }
      ]
    },
    {
      "cell_type": "code",
      "source": [
        "!git diff --cached"
      ],
      "metadata": {
        "colab": {
          "base_uri": "https://localhost:8080/"
        },
        "id": "IJNYoyBx1WnS",
        "outputId": "6042e5ba-b63e-4175-e3c0-38480260476a"
      },
      "execution_count": null,
      "outputs": [
        {
          "output_type": "stream",
          "name": "stdout",
          "text": [
            "\u001b[1mdiff --git a/invitation-card.md b/invitation-card.md\u001b[m\n",
            "\u001b[1mindex 003927e..cbe8de9 100644\u001b[m\n",
            "\u001b[1m--- a/invitation-card.md\u001b[m\n",
            "\u001b[1m+++ b/invitation-card.md\u001b[m\n",
            "\u001b[36m@@ -8,6 +8,6 @@\u001b[m\n",
            " \u001b[m\n",
            "     Gitanjali & Aref\u001b[m\n",
            " \u001b[m\n",
            "\u001b[31m-Saturday, June 25th\u001b[m\n",
            "\u001b[32m+\u001b[m\u001b[32mSaturday, July 3rd\u001b[m\n",
            " \u001b[m\n",
            "\u001b[31m-R.S.V.P to Trinity by June 1st\u001b[m\n",
            "\u001b[32m+\u001b[m\u001b[32mR.S.V.P to Trinity by June 7th\u001b[m\n"
          ]
        }
      ]
    },
    {
      "cell_type": "code",
      "source": [
        "!git restore --staged invitation-card.md"
      ],
      "metadata": {
        "id": "5T9r7_Li1Zik"
      },
      "execution_count": null,
      "outputs": []
    },
    {
      "cell_type": "code",
      "source": [
        "!git status"
      ],
      "metadata": {
        "colab": {
          "base_uri": "https://localhost:8080/"
        },
        "id": "2jKuyKwk1gFf",
        "outputId": "3c199aa2-99f6-4cce-aa96-7ed3812a979c"
      },
      "execution_count": null,
      "outputs": [
        {
          "output_type": "stream",
          "name": "stdout",
          "text": [
            "On branch master\n",
            "Changes not staged for commit:\n",
            "  (use \"git add <file>...\" to update what will be committed)\n",
            "  (use \"git restore <file>...\" to discard changes in working directory)\n",
            "\t\u001b[31mmodified:   invitation-card.md\u001b[m\n",
            "\n",
            "no changes added to commit (use \"git add\" and/or \"git commit -a\")\n"
          ]
        }
      ]
    },
    {
      "cell_type": "markdown",
      "source": [
        "# Removing files\n",
        "\n",
        "git rm updates both the index and the working directory. Whereas a simple deletion would not update the working directory"
      ],
      "metadata": {
        "id": "A1zjO4Qc15Oh"
      }
    },
    {
      "cell_type": "code",
      "source": [
        "%cd ../gitanjali-aref-step-4"
      ],
      "metadata": {
        "colab": {
          "base_uri": "https://localhost:8080/"
        },
        "id": "DKy5cu9O1gkH",
        "outputId": "acea7c8d-f884-48bc-8c3c-e174515cf94a"
      },
      "execution_count": null,
      "outputs": [
        {
          "output_type": "stream",
          "name": "stdout",
          "text": [
            "/content/headfirst-git-samples/chapter04/gitanjali-aref-step-4\n"
          ]
        }
      ]
    },
    {
      "cell_type": "code",
      "source": [
        "!git status"
      ],
      "metadata": {
        "colab": {
          "base_uri": "https://localhost:8080/"
        },
        "id": "SBkNrdrj37Tx",
        "outputId": "c81b1f96-5b57-473d-9200-86c710d79741"
      },
      "execution_count": null,
      "outputs": [
        {
          "output_type": "stream",
          "name": "stdout",
          "text": [
            "On branch master\n",
            "nothing to commit, working tree clean\n"
          ]
        }
      ]
    },
    {
      "cell_type": "code",
      "source": [
        "!ls"
      ],
      "metadata": {
        "colab": {
          "base_uri": "https://localhost:8080/"
        },
        "id": "1nSvqGdI38n0",
        "outputId": "283b55b8-dfe2-451f-bf00-bfb08a28882e"
      },
      "execution_count": null,
      "outputs": [
        {
          "output_type": "stream",
          "name": "stdout",
          "text": [
            "gift-registry.md  guest-list.md  invitation-card.md\n"
          ]
        }
      ]
    },
    {
      "cell_type": "code",
      "source": [
        "!git rm gift-registry.md"
      ],
      "metadata": {
        "colab": {
          "base_uri": "https://localhost:8080/"
        },
        "id": "e00YZuC23-MA",
        "outputId": "a217bc9e-4b6f-4e3e-840b-cec204c3cd70"
      },
      "execution_count": null,
      "outputs": [
        {
          "output_type": "stream",
          "name": "stdout",
          "text": [
            "rm 'gift-registry.md'\n"
          ]
        }
      ]
    },
    {
      "cell_type": "code",
      "source": [
        "!git status"
      ],
      "metadata": {
        "colab": {
          "base_uri": "https://localhost:8080/"
        },
        "id": "0gRfKaiQ4Ap9",
        "outputId": "ecb814f2-1fbb-442e-a417-2adb36e370ce"
      },
      "execution_count": null,
      "outputs": [
        {
          "output_type": "stream",
          "name": "stdout",
          "text": [
            "On branch master\n",
            "Changes to be committed:\n",
            "  (use \"git restore --staged <file>...\" to unstage)\n",
            "\t\u001b[32mdeleted:    gift-registry.md\u001b[m\n",
            "\n"
          ]
        }
      ]
    },
    {
      "cell_type": "code",
      "source": [
        "!ls"
      ],
      "metadata": {
        "colab": {
          "base_uri": "https://localhost:8080/"
        },
        "id": "3e0oGONM4BkJ",
        "outputId": "831f3464-2f6b-4e4a-d859-975886877189"
      },
      "execution_count": null,
      "outputs": [
        {
          "output_type": "stream",
          "name": "stdout",
          "text": [
            "guest-list.md  invitation-card.md\n"
          ]
        }
      ]
    },
    {
      "cell_type": "code",
      "source": [
        "!git commit -m \"delete gift registry\""
      ],
      "metadata": {
        "colab": {
          "base_uri": "https://localhost:8080/"
        },
        "id": "s-Xbr0eP4E2w",
        "outputId": "c018a44d-2cbe-4248-b0d9-da27a7f37896"
      },
      "execution_count": null,
      "outputs": [
        {
          "output_type": "stream",
          "name": "stdout",
          "text": [
            "[master 047edb7] delete gift registry\n",
            " 1 file changed, 6 deletions(-)\n",
            " delete mode 100644 gift-registry.md\n"
          ]
        }
      ]
    },
    {
      "cell_type": "markdown",
      "source": [
        "## Removing a directory\n",
        "\n",
        "git rm -r \n",
        "\n",
        "(recursive)"
      ],
      "metadata": {
        "id": "Wc9Rwz9j4QON"
      }
    },
    {
      "cell_type": "markdown",
      "source": [
        "# Renaming (or moving) files\n",
        "\n",
        "git mv"
      ],
      "metadata": {
        "id": "zuqgaBxA4UKD"
      }
    },
    {
      "cell_type": "code",
      "source": [
        "!git mv guest-list.md guest-lists.md"
      ],
      "metadata": {
        "id": "VR-BcIse4HD3"
      },
      "execution_count": null,
      "outputs": []
    },
    {
      "cell_type": "code",
      "source": [
        "!git status"
      ],
      "metadata": {
        "colab": {
          "base_uri": "https://localhost:8080/"
        },
        "id": "HD4TmkP54qBx",
        "outputId": "5c08d808-8cb6-4940-8133-fb1cd13bfb7d"
      },
      "execution_count": null,
      "outputs": [
        {
          "output_type": "stream",
          "name": "stdout",
          "text": [
            "On branch master\n",
            "Changes to be committed:\n",
            "  (use \"git restore --staged <file>...\" to unstage)\n",
            "\t\u001b[32mrenamed:    guest-list.md -> guest-lists.md\u001b[m\n",
            "\n"
          ]
        }
      ]
    },
    {
      "cell_type": "code",
      "source": [
        "!mkdir dir\n",
        "!git mv invitation-card.md dir/"
      ],
      "metadata": {
        "id": "W4Et1dic4qsv"
      },
      "execution_count": null,
      "outputs": []
    },
    {
      "cell_type": "code",
      "source": [
        "!git status"
      ],
      "metadata": {
        "colab": {
          "base_uri": "https://localhost:8080/"
        },
        "id": "CUDu4TGJ42X1",
        "outputId": "49f600ed-5099-4398-c420-ad5710d10f9c"
      },
      "execution_count": null,
      "outputs": [
        {
          "output_type": "stream",
          "name": "stdout",
          "text": [
            "On branch master\n",
            "Changes to be committed:\n",
            "  (use \"git restore --staged <file>...\" to unstage)\n",
            "\t\u001b[32mrenamed:    invitation-card.md -> dir/invitation-card.md\u001b[m\n",
            "\t\u001b[32mrenamed:    guest-list.md -> guest-lists.md\u001b[m\n",
            "\n"
          ]
        }
      ]
    },
    {
      "cell_type": "markdown",
      "source": [
        "# Editing commit messages\n",
        "\n",
        "Must have a clean working directory. Then you can use commit --amend to rename the commit\n",
        "\n",
        "You can only amend the last commit on any branch"
      ],
      "metadata": {
        "id": "aK9v4WRw5GlT"
      }
    },
    {
      "cell_type": "code",
      "source": [
        "%cd ../gitanjali-aref-step-5"
      ],
      "metadata": {
        "colab": {
          "base_uri": "https://localhost:8080/"
        },
        "id": "ajpf0UXK43Rd",
        "outputId": "16f6883e-5252-4583-d8ef-31a7ade851a8"
      },
      "execution_count": null,
      "outputs": [
        {
          "output_type": "stream",
          "name": "stdout",
          "text": [
            "/content/headfirst-git-samples/chapter04/gitanjali-aref-step-5\n"
          ]
        }
      ]
    },
    {
      "cell_type": "code",
      "source": [
        "!git branch"
      ],
      "metadata": {
        "colab": {
          "base_uri": "https://localhost:8080/"
        },
        "id": "PLKZ5pyZ5RRC",
        "outputId": "f79e1ea1-40b5-4be3-9e9c-285892143ff1"
      },
      "execution_count": null,
      "outputs": [
        {
          "output_type": "stream",
          "name": "stdout",
          "text": [
            "* \u001b[32mcamping-trip\u001b[m\n",
            "  master\u001b[m\n"
          ]
        }
      ]
    },
    {
      "cell_type": "code",
      "source": [
        "!git log --oneline --all --graph"
      ],
      "metadata": {
        "colab": {
          "base_uri": "https://localhost:8080/"
        },
        "id": "CEhhjQAW5U3t",
        "outputId": "564bb3b4-337f-45ce-b244-8791566fb0f5"
      },
      "execution_count": null,
      "outputs": [
        {
          "output_type": "stream",
          "name": "stdout",
          "text": [
            "* \u001b[33mefa799d\u001b[m\u001b[33m (\u001b[m\u001b[1;36mHEAD -> \u001b[m\u001b[1;32mcamping-trip\u001b[m\u001b[33m)\u001b[m final outdoors plan\n",
            "* \u001b[33m8d704f8\u001b[m\u001b[33m (\u001b[m\u001b[1;32mmaster\u001b[m\u001b[33m)\u001b[m first cut at invitation card\n",
            "* \u001b[33m6e16680\u001b[m initial set of guests and gift registry\n"
          ]
        }
      ]
    },
    {
      "cell_type": "code",
      "source": [
        "! git status"
      ],
      "metadata": {
        "colab": {
          "base_uri": "https://localhost:8080/"
        },
        "id": "6T4Sj4xt5cmw",
        "outputId": "12b1c32d-6785-4c92-9c3a-ad662e026c80"
      },
      "execution_count": null,
      "outputs": [
        {
          "output_type": "stream",
          "name": "stdout",
          "text": [
            "On branch camping-trip\n",
            "nothing to commit, working tree clean\n"
          ]
        }
      ]
    },
    {
      "cell_type": "code",
      "source": [
        "!git commit --amend -m \"initial outdoors plan\""
      ],
      "metadata": {
        "colab": {
          "base_uri": "https://localhost:8080/"
        },
        "id": "p4MG1uvq5lGO",
        "outputId": "eefc11d5-b5dc-4f20-b566-3de68ec9508b"
      },
      "execution_count": null,
      "outputs": [
        {
          "output_type": "stream",
          "name": "stdout",
          "text": [
            "[camping-trip 09620a4] initial outdoors plan\n",
            " Date: Sat Mar 13 14:48:54 2021 -0500\n",
            " 1 file changed, 17 insertions(+)\n",
            " create mode 100644 outdoor-supplies.md\n"
          ]
        }
      ]
    },
    {
      "cell_type": "code",
      "source": [
        "!git log --oneline"
      ],
      "metadata": {
        "colab": {
          "base_uri": "https://localhost:8080/"
        },
        "id": "Fc_sjF8I5uY3",
        "outputId": "d8473561-ec9e-493a-bc64-b55a374c0dda"
      },
      "execution_count": null,
      "outputs": [
        {
          "output_type": "stream",
          "name": "stdout",
          "text": [
            "\u001b[33m09620a4\u001b[m\u001b[33m (\u001b[m\u001b[1;36mHEAD -> \u001b[m\u001b[1;32mcamping-trip\u001b[m\u001b[33m)\u001b[m initial outdoors plan\n",
            "\u001b[33m8d704f8\u001b[m\u001b[33m (\u001b[m\u001b[1;32mmaster\u001b[m\u001b[33m)\u001b[m first cut at invitation card\n",
            "\u001b[33m6e16680\u001b[m initial set of guests and gift registry\n"
          ]
        }
      ]
    },
    {
      "cell_type": "markdown",
      "source": [
        "# Renaming branches\n",
        "\n",
        "git branch -m new-name"
      ],
      "metadata": {
        "id": "rXrcUFDD6g5D"
      }
    },
    {
      "cell_type": "code",
      "source": [
        "%cd ../gitanjali-aref-step-6"
      ],
      "metadata": {
        "colab": {
          "base_uri": "https://localhost:8080/"
        },
        "id": "AomX_fva52VO",
        "outputId": "bdf44dc9-577d-48b8-f3b6-c419543bd72f"
      },
      "execution_count": null,
      "outputs": [
        {
          "output_type": "stream",
          "name": "stdout",
          "text": [
            "/content/headfirst-git-samples/chapter04/gitanjali-aref-step-6\n"
          ]
        }
      ]
    },
    {
      "cell_type": "code",
      "source": [
        "!git status"
      ],
      "metadata": {
        "colab": {
          "base_uri": "https://localhost:8080/"
        },
        "id": "nJu9Z8no7FI4",
        "outputId": "73cbbb2b-5ce8-40d7-fe1a-1467ffefa11e"
      },
      "execution_count": null,
      "outputs": [
        {
          "output_type": "stream",
          "name": "stdout",
          "text": [
            "On branch camping-trip\n",
            "nothing to commit, working tree clean\n"
          ]
        }
      ]
    },
    {
      "cell_type": "code",
      "source": [
        "!git branch -v"
      ],
      "metadata": {
        "colab": {
          "base_uri": "https://localhost:8080/"
        },
        "id": "_rjzCjto7H9-",
        "outputId": "ef7867e6-efe6-43df-9dee-bd3b9d0329ae"
      },
      "execution_count": null,
      "outputs": [
        {
          "output_type": "stream",
          "name": "stdout",
          "text": [
            "* \u001b[32mcamping-trip\u001b[m cf5e718 initial outdoors plan\n",
            "  master      \u001b[m 8d704f8 first cut at invitation card\n"
          ]
        }
      ]
    },
    {
      "cell_type": "code",
      "source": [
        "!git branch -m glamping-trip"
      ],
      "metadata": {
        "id": "ez_uAETI7Iiw"
      },
      "execution_count": null,
      "outputs": []
    },
    {
      "cell_type": "code",
      "source": [
        "!git status"
      ],
      "metadata": {
        "colab": {
          "base_uri": "https://localhost:8080/"
        },
        "id": "_AKKQ8xU7M-8",
        "outputId": "dc2d4361-547c-4749-b887-33d1ca0bb8c2"
      },
      "execution_count": null,
      "outputs": [
        {
          "output_type": "stream",
          "name": "stdout",
          "text": [
            "On branch glamping-trip\n",
            "nothing to commit, working tree clean\n"
          ]
        }
      ]
    },
    {
      "cell_type": "code",
      "source": [
        "!git branch -v"
      ],
      "metadata": {
        "colab": {
          "base_uri": "https://localhost:8080/"
        },
        "id": "tfMh-rqn7NvC",
        "outputId": "d008eeff-7912-4c53-f629-db809113272e"
      },
      "execution_count": null,
      "outputs": [
        {
          "output_type": "stream",
          "name": "stdout",
          "text": [
            "* \u001b[32mglamping-trip\u001b[m cf5e718 initial outdoors plan\n",
            "  master       \u001b[m 8d704f8 first cut at invitation card\n"
          ]
        }
      ]
    },
    {
      "cell_type": "markdown",
      "source": [
        "## Renaming without switching"
      ],
      "metadata": {
        "id": "iWbVt8t87Uc3"
      }
    },
    {
      "cell_type": "code",
      "source": [
        "!git branch -m master main"
      ],
      "metadata": {
        "id": "Sa2aHtyS7PUN"
      },
      "execution_count": null,
      "outputs": []
    },
    {
      "cell_type": "code",
      "source": [
        "!git branch -v"
      ],
      "metadata": {
        "colab": {
          "base_uri": "https://localhost:8080/"
        },
        "id": "li5omNT97W4z",
        "outputId": "a28e4f65-7b9c-451e-93b4-320956f1d329"
      },
      "execution_count": null,
      "outputs": [
        {
          "output_type": "stream",
          "name": "stdout",
          "text": [
            "* \u001b[32mglamping-trip\u001b[m cf5e718 initial outdoors plan\n",
            "  main         \u001b[m 8d704f8 first cut at invitation card\n"
          ]
        }
      ]
    },
    {
      "cell_type": "markdown",
      "source": [
        "# Making alternative plans"
      ],
      "metadata": {
        "id": "NBwfdPN_7v15"
      }
    },
    {
      "cell_type": "code",
      "source": [
        "%cd ../gitanjali-aref-step-7"
      ],
      "metadata": {
        "colab": {
          "base_uri": "https://localhost:8080/"
        },
        "id": "Vxv6Xr937X2t",
        "outputId": "209df9f5-6a13-4611-8d17-1e38475e1b77"
      },
      "execution_count": null,
      "outputs": [
        {
          "output_type": "stream",
          "name": "stdout",
          "text": [
            "/content/headfirst-git-samples/chapter04/gitanjali-aref-step-7\n"
          ]
        }
      ]
    },
    {
      "cell_type": "code",
      "source": [
        "!git status"
      ],
      "metadata": {
        "colab": {
          "base_uri": "https://localhost:8080/"
        },
        "id": "WiwVMb2h70XG",
        "outputId": "1d68ea22-cf1a-4cef-f441-a98ce22963f3"
      },
      "execution_count": null,
      "outputs": [
        {
          "output_type": "stream",
          "name": "stdout",
          "text": [
            "On branch boardgame-night\n",
            "nothing to commit, working tree clean\n"
          ]
        }
      ]
    },
    {
      "cell_type": "code",
      "source": [
        "!ls"
      ],
      "metadata": {
        "colab": {
          "base_uri": "https://localhost:8080/"
        },
        "id": "1rsaM4Jh709h",
        "outputId": "78e8cfcc-d7d9-448d-f4e3-4bf18692727e"
      },
      "execution_count": null,
      "outputs": [
        {
          "output_type": "stream",
          "name": "stdout",
          "text": [
            "boardgame-venues.md  guest-list.md    invitation-card.md\n",
            "gift-registry.md     indoor-party.md\n"
          ]
        }
      ]
    },
    {
      "cell_type": "code",
      "source": [
        "!git branch -v"
      ],
      "metadata": {
        "colab": {
          "base_uri": "https://localhost:8080/"
        },
        "id": "kAIIU5TU72d8",
        "outputId": "4f786969-a02f-4604-877f-74e30da39b38"
      },
      "execution_count": null,
      "outputs": [
        {
          "output_type": "stream",
          "name": "stdout",
          "text": [
            "* \u001b[32mboardgame-night\u001b[m 39107a6 add games and list potential boardgame night venues\n",
            "  glamping-trip  \u001b[m cf5e718 initial outdoors plan\n",
            "  main           \u001b[m 8d704f8 first cut at invitation card\n"
          ]
        }
      ]
    },
    {
      "cell_type": "code",
      "source": [
        "!git log --oneline --all --graph"
      ],
      "metadata": {
        "colab": {
          "base_uri": "https://localhost:8080/"
        },
        "id": "Zm2euYIy73TB",
        "outputId": "a257319f-92c1-4c96-c083-19cacadada42"
      },
      "execution_count": null,
      "outputs": [
        {
          "output_type": "stream",
          "name": "stdout",
          "text": [
            "* \u001b[33m39107a6\u001b[m\u001b[33m (\u001b[m\u001b[1;36mHEAD -> \u001b[m\u001b[1;32mboardgame-night\u001b[m\u001b[33m)\u001b[m add games and list potential boardgame night venues\n",
            "* \u001b[33m3e3e847\u001b[m initial boardgame planning\n",
            "\u001b[31m|\u001b[m * \u001b[33mcf5e718\u001b[m\u001b[33m (\u001b[m\u001b[1;32mglamping-trip\u001b[m\u001b[33m)\u001b[m initial outdoors plan\n",
            "\u001b[31m|\u001b[m\u001b[31m/\u001b[m  \n",
            "* \u001b[33m8d704f8\u001b[m\u001b[33m (\u001b[m\u001b[1;32mmain\u001b[m\u001b[33m)\u001b[m first cut at invitation card\n",
            "* \u001b[33m6e16680\u001b[m initial set of guests and gift registry\n"
          ]
        }
      ]
    },
    {
      "cell_type": "code",
      "source": [
        "!git diff 39107a6 3e3e847"
      ],
      "metadata": {
        "colab": {
          "base_uri": "https://localhost:8080/"
        },
        "id": "A7hF-XD_77cB",
        "outputId": "3c72b0e7-9a8b-4b6d-d390-a48a18f0bd5b"
      },
      "execution_count": null,
      "outputs": [
        {
          "output_type": "stream",
          "name": "stdout",
          "text": [
            "\u001b[1mdiff --git a/boardgame-venues.md b/boardgame-venues.md\u001b[m\n",
            "\u001b[1mdeleted file mode 100644\u001b[m\n",
            "\u001b[1mindex c3684a0..0000000\u001b[m\n",
            "\u001b[1m--- a/boardgame-venues.md\u001b[m\n",
            "\u001b[1m+++ /dev/null\u001b[m\n",
            "\u001b[36m@@ -1,6 +0,0 @@\u001b[m\n",
            "\u001b[31m-# A list of potential game-cafe venues for board-game night\u001b[m\n",
            "\u001b[31m-\u001b[m\n",
            "\u001b[31m-- Winner's Game Cafe \u001b[m\n",
            "\u001b[31m-- Rogues and Rangers Tavern \u001b[m\n",
            "\u001b[31m-- Natural 20 Games & Coffee\u001b[m\n",
            "\u001b[31m-- Bottleship Gaming Bar\u001b[m\n",
            "\u001b[1mdiff --git a/indoor-party.md b/indoor-party.md\u001b[m\n",
            "\u001b[1mindex 6ca6def..2064ec5 100644\u001b[m\n",
            "\u001b[1m--- a/indoor-party.md\u001b[m\n",
            "\u001b[1m+++ b/indoor-party.md\u001b[m\n",
            "\u001b[36m@@ -16,6 +16,5 @@\u001b[m \u001b[mHere are just a few of the games we can play:\u001b[m\n",
            " * Exploding Kittens\u001b[m\n",
            " \u001b[m\n",
            " Feel free to bring your favorite games.\u001b[m\n",
            "\u001b[31m-Venue decision will probably happen at the roll of a 20-sided die!\u001b[m\n",
            " \u001b[m\n",
            " And remember, as long as we are together, we're all winners.\u001b[m\n"
          ]
        }
      ]
    },
    {
      "cell_type": "markdown",
      "source": [
        "# HEAD\n",
        "\n",
        "HEAD points to the last commit on the current branch."
      ],
      "metadata": {
        "id": "bvDwXIz68bSv"
      }
    },
    {
      "cell_type": "code",
      "source": [
        "!git log --graph --oneline --all"
      ],
      "metadata": {
        "id": "YCJo7sc_8BQV",
        "colab": {
          "base_uri": "https://localhost:8080/"
        },
        "outputId": "0ca76e0e-afb0-4c0d-cefa-fb5e33fffc33"
      },
      "execution_count": null,
      "outputs": [
        {
          "output_type": "stream",
          "name": "stdout",
          "text": [
            "* \u001b[33m39107a6\u001b[m\u001b[33m (\u001b[m\u001b[1;36mHEAD -> \u001b[m\u001b[1;32mboardgame-night\u001b[m\u001b[33m)\u001b[m add games and list potential boardgame night venues\n",
            "* \u001b[33m3e3e847\u001b[m initial boardgame planning\n",
            "\u001b[31m|\u001b[m * \u001b[33mcf5e718\u001b[m\u001b[33m (\u001b[m\u001b[1;32mglamping-trip\u001b[m\u001b[33m)\u001b[m initial outdoors plan\n",
            "\u001b[31m|\u001b[m\u001b[31m/\u001b[m  \n",
            "* \u001b[33m8d704f8\u001b[m\u001b[33m (\u001b[m\u001b[1;32mmain\u001b[m\u001b[33m)\u001b[m first cut at invitation card\n",
            "* \u001b[33m6e16680\u001b[m initial set of guests and gift registry\n"
          ]
        }
      ]
    },
    {
      "cell_type": "code",
      "source": [
        "!git switch glamping-trip\n",
        "!git log --graph --oneline --all"
      ],
      "metadata": {
        "colab": {
          "base_uri": "https://localhost:8080/"
        },
        "id": "KxzEiOhCJwEd",
        "outputId": "2085969c-f754-4983-a6bb-7b6090385fcf"
      },
      "execution_count": null,
      "outputs": [
        {
          "output_type": "stream",
          "name": "stdout",
          "text": [
            "Already on 'glamping-trip'\n",
            "* \u001b[33m39107a6\u001b[m\u001b[33m (\u001b[m\u001b[1;32mboardgame-night\u001b[m\u001b[33m)\u001b[m add games and list potential boardgame night venues\n",
            "* \u001b[33m3e3e847\u001b[m initial boardgame planning\n",
            "\u001b[31m|\u001b[m * \u001b[33mcf5e718\u001b[m\u001b[33m (\u001b[m\u001b[1;36mHEAD -> \u001b[m\u001b[1;32mglamping-trip\u001b[m\u001b[33m)\u001b[m initial outdoors plan\n",
            "\u001b[31m|\u001b[m\u001b[31m/\u001b[m  \n",
            "* \u001b[33m8d704f8\u001b[m\u001b[33m (\u001b[m\u001b[1;32mmain\u001b[m\u001b[33m)\u001b[m first cut at invitation card\n",
            "* \u001b[33m6e16680\u001b[m initial set of guests and gift registry\n"
          ]
        }
      ]
    },
    {
      "cell_type": "code",
      "source": [
        "!git switch main\n",
        "!git log --graph --oneline --all"
      ],
      "metadata": {
        "colab": {
          "base_uri": "https://localhost:8080/"
        },
        "id": "iQW3ak9uJzyU",
        "outputId": "ecbf3a38-e02e-437e-cd98-854fc041dc27"
      },
      "execution_count": null,
      "outputs": [
        {
          "output_type": "stream",
          "name": "stdout",
          "text": [
            "Switched to branch 'main'\n",
            "* \u001b[33m39107a6\u001b[m\u001b[33m (\u001b[m\u001b[1;32mboardgame-night\u001b[m\u001b[33m)\u001b[m add games and list potential boardgame night venues\n",
            "* \u001b[33m3e3e847\u001b[m initial boardgame planning\n",
            "\u001b[31m|\u001b[m * \u001b[33mcf5e718\u001b[m\u001b[33m (\u001b[m\u001b[1;32mglamping-trip\u001b[m\u001b[33m)\u001b[m initial outdoors plan\n",
            "\u001b[31m|\u001b[m\u001b[31m/\u001b[m  \n",
            "* \u001b[33m8d704f8\u001b[m\u001b[33m (\u001b[m\u001b[1;36mHEAD -> \u001b[m\u001b[1;32mmain\u001b[m\u001b[33m)\u001b[m first cut at invitation card\n",
            "* \u001b[33m6e16680\u001b[m initial set of guests and gift registry\n"
          ]
        }
      ]
    },
    {
      "cell_type": "markdown",
      "source": [
        "HEAD can be used to reference parents"
      ],
      "metadata": {
        "id": "qHqIFvZuKofj"
      }
    },
    {
      "cell_type": "code",
      "source": [
        "!git switch boardgame-night"
      ],
      "metadata": {
        "colab": {
          "base_uri": "https://localhost:8080/"
        },
        "id": "MVnYoHqbJ3E9",
        "outputId": "6d4be010-46a4-4671-94c2-3539f63095fe"
      },
      "execution_count": null,
      "outputs": [
        {
          "output_type": "stream",
          "name": "stdout",
          "text": [
            "Switched to branch 'boardgame-night'\n"
          ]
        }
      ]
    },
    {
      "cell_type": "code",
      "source": [
        "!git diff HEAD HEAD~2"
      ],
      "metadata": {
        "colab": {
          "base_uri": "https://localhost:8080/"
        },
        "id": "28VoiwFmKtjT",
        "outputId": "d4dff368-e14d-40be-abad-4ed37ae8e495"
      },
      "execution_count": null,
      "outputs": [
        {
          "output_type": "stream",
          "name": "stdout",
          "text": [
            "\u001b[1mdiff --git a/boardgame-venues.md b/boardgame-venues.md\u001b[m\n",
            "\u001b[1mdeleted file mode 100644\u001b[m\n",
            "\u001b[1mindex c3684a0..0000000\u001b[m\n",
            "\u001b[1m--- a/boardgame-venues.md\u001b[m\n",
            "\u001b[1m+++ /dev/null\u001b[m\n",
            "\u001b[36m@@ -1,6 +0,0 @@\u001b[m\n",
            "\u001b[31m-# A list of potential game-cafe venues for board-game night\u001b[m\n",
            "\u001b[31m-\u001b[m\n",
            "\u001b[31m-- Winner's Game Cafe \u001b[m\n",
            "\u001b[31m-- Rogues and Rangers Tavern \u001b[m\n",
            "\u001b[31m-- Natural 20 Games & Coffee\u001b[m\n",
            "\u001b[31m-- Bottleship Gaming Bar\u001b[m\n",
            "\u001b[1mdiff --git a/indoor-party.md b/indoor-party.md\u001b[m\n",
            "\u001b[1mdeleted file mode 100644\u001b[m\n",
            "\u001b[1mindex 6ca6def..0000000\u001b[m\n",
            "\u001b[1m--- a/indoor-party.md\u001b[m\n",
            "\u001b[1m+++ /dev/null\u001b[m\n",
            "\u001b[36m@@ -1,21 +0,0 @@\u001b[m\n",
            "\u001b[31m-# Love always wins!\u001b[m\n",
            "\u001b[31m-\u001b[m\n",
            "\u001b[31m-It's an engagement party for Gitanjali and Aref!\u001b[m\n",
            "\u001b[31m-Join us for a board-game night full of unlimited fun, food and drinks.\u001b[m\n",
            "\u001b[31m-\u001b[m\n",
            "\u001b[31m-Here are just a few of the games we can play:\u001b[m\n",
            "\u001b[31m-\u001b[m\n",
            "\u001b[31m-* Settlers of Catan\u001b[m\n",
            "\u001b[31m-* Splendor\u001b[m\n",
            "\u001b[31m-* Azul\u001b[m\n",
            "\u001b[31m-* Carcassonne\u001b[m\n",
            "\u001b[31m-* Scattergories\u001b[m\n",
            "\u001b[31m-* Munchkin\u001b[m\n",
            "\u001b[31m-* Apples to Apples\u001b[m\n",
            "\u001b[31m-* Dragonwood\u001b[m\n",
            "\u001b[31m-* Exploding Kittens\u001b[m\n",
            "\u001b[31m-\u001b[m\n",
            "\u001b[31m-Feel free to bring your favorite games.\u001b[m\n",
            "\u001b[31m-Venue decision will probably happen at the roll of a 20-sided die!\u001b[m\n",
            "\u001b[31m-\u001b[m\n",
            "\u001b[31m-And remember, as long as we are together, we're all winners.\u001b[m\n"
          ]
        }
      ]
    },
    {
      "cell_type": "markdown",
      "source": [
        "# Undoing commits\n",
        "\n",
        "git reset:\n",
        "\n",
        "* git reset --soft\n",
        " * moves edits back into the index and then copies those changes into the working directory. It's like an undo for the commit command.\n",
        "* git reset --mixed\n",
        " * this is the default mode\n",
        " * it only changes the working directory\n",
        "* git reset --hard\n",
        " * fully remove the content of the commit\n",
        "\n",
        "Example: Commiting B after A and trying to undo B\n",
        "\n",
        "command | working directory | index | object database\n",
        "--- | --- | --- | ---\n",
        "default | B | B | B\n",
        "soft | B | B | A\n",
        "mixed | B | A | A\n",
        "hard | A | A | A\n",
        "\n",
        "Hard completely removes B\n",
        "\n",
        "This is like rewriting history rather than removing/changing files.\n",
        "\n"
      ],
      "metadata": {
        "id": "PGuuNqmYK9i3"
      }
    },
    {
      "cell_type": "code",
      "source": [
        "!git branch"
      ],
      "metadata": {
        "colab": {
          "base_uri": "https://localhost:8080/"
        },
        "id": "2JVLB_j7Kwp9",
        "outputId": "428dba50-1626-48f6-d4e0-3137f89101d9"
      },
      "execution_count": null,
      "outputs": [
        {
          "output_type": "stream",
          "name": "stdout",
          "text": [
            "* \u001b[32mboardgame-night\u001b[m\n",
            "  glamping-trip\u001b[m\n",
            "  main\u001b[m\n"
          ]
        }
      ]
    },
    {
      "cell_type": "code",
      "source": [
        "!git reset HEAD~1"
      ],
      "metadata": {
        "colab": {
          "base_uri": "https://localhost:8080/"
        },
        "id": "rha9yit9OVGW",
        "outputId": "8231640f-fa64-4b76-a29c-03635c430b3a"
      },
      "execution_count": null,
      "outputs": [
        {
          "output_type": "stream",
          "name": "stdout",
          "text": [
            "Unstaged changes after reset:\n",
            "M\tindoor-party.md\n"
          ]
        }
      ]
    },
    {
      "cell_type": "code",
      "source": [
        "!git status"
      ],
      "metadata": {
        "colab": {
          "base_uri": "https://localhost:8080/"
        },
        "id": "nK_ZqczTOazU",
        "outputId": "82007ace-4000-4a8c-a981-b9e515ce826e"
      },
      "execution_count": null,
      "outputs": [
        {
          "output_type": "stream",
          "name": "stdout",
          "text": [
            "On branch boardgame-night\n",
            "Changes not staged for commit:\n",
            "  (use \"git add <file>...\" to update what will be committed)\n",
            "  (use \"git restore <file>...\" to discard changes in working directory)\n",
            "\t\u001b[31mmodified:   indoor-party.md\u001b[m\n",
            "\n",
            "Untracked files:\n",
            "  (use \"git add <file>...\" to include in what will be committed)\n",
            "\t\u001b[31mboardgame-venues.md\u001b[m\n",
            "\n",
            "no changes added to commit (use \"git add\" and/or \"git commit -a\")\n"
          ]
        }
      ]
    },
    {
      "cell_type": "code",
      "source": [
        "!git restore indoor-party.md"
      ],
      "metadata": {
        "id": "78JmXJrSObox"
      },
      "execution_count": null,
      "outputs": []
    },
    {
      "cell_type": "code",
      "source": [
        "!git status"
      ],
      "metadata": {
        "colab": {
          "base_uri": "https://localhost:8080/"
        },
        "id": "SrmFGtOGOmCy",
        "outputId": "676f182d-4ded-4f79-a5d2-79cd7b8028f4"
      },
      "execution_count": null,
      "outputs": [
        {
          "output_type": "stream",
          "name": "stdout",
          "text": [
            "On branch boardgame-night\n",
            "Untracked files:\n",
            "  (use \"git add <file>...\" to include in what will be committed)\n",
            "\t\u001b[31mboardgame-venues.md\u001b[m\n",
            "\n",
            "nothing added to commit but untracked files present (use \"git add\" to track)\n"
          ]
        }
      ]
    },
    {
      "cell_type": "code",
      "source": [
        "!rm boardgame-venues.md"
      ],
      "metadata": {
        "id": "GxXt6-Q6Om31"
      },
      "execution_count": null,
      "outputs": []
    },
    {
      "cell_type": "code",
      "source": [
        "!git status"
      ],
      "metadata": {
        "colab": {
          "base_uri": "https://localhost:8080/"
        },
        "id": "MxqwsAzmOpj_",
        "outputId": "c0e9f486-467a-4b4d-fb3a-2a5b85e37b12"
      },
      "execution_count": null,
      "outputs": [
        {
          "output_type": "stream",
          "name": "stdout",
          "text": [
            "On branch boardgame-night\n",
            "nothing to commit, working tree clean\n"
          ]
        }
      ]
    },
    {
      "cell_type": "code",
      "source": [
        "!git log --graph --oneline --all"
      ],
      "metadata": {
        "colab": {
          "base_uri": "https://localhost:8080/"
        },
        "id": "mJOO2SwEOrAa",
        "outputId": "9a7d1ef8-0810-40a4-fc71-b1445093d9d1"
      },
      "execution_count": null,
      "outputs": [
        {
          "output_type": "stream",
          "name": "stdout",
          "text": [
            "* \u001b[33m3e3e847\u001b[m\u001b[33m (\u001b[m\u001b[1;36mHEAD -> \u001b[m\u001b[1;32mboardgame-night\u001b[m\u001b[33m)\u001b[m initial boardgame planning\n",
            "\u001b[31m|\u001b[m * \u001b[33mcf5e718\u001b[m\u001b[33m (\u001b[m\u001b[1;32mglamping-trip\u001b[m\u001b[33m)\u001b[m initial outdoors plan\n",
            "\u001b[31m|\u001b[m\u001b[31m/\u001b[m  \n",
            "* \u001b[33m8d704f8\u001b[m\u001b[33m (\u001b[m\u001b[1;32mmain\u001b[m\u001b[33m)\u001b[m first cut at invitation card\n",
            "* \u001b[33m6e16680\u001b[m initial set of guests and gift registry\n"
          ]
        }
      ]
    },
    {
      "cell_type": "markdown",
      "source": [
        "# Reverting commits\n",
        "\n",
        "Undo the effects a commit by introducing a new commit. This is non-destructive"
      ],
      "metadata": {
        "id": "K6aMNrVKPHfi"
      }
    },
    {
      "cell_type": "code",
      "source": [
        "%cd ../gitanjali-aref-step-8"
      ],
      "metadata": {
        "colab": {
          "base_uri": "https://localhost:8080/"
        },
        "id": "50vp4Dj2O3L1",
        "outputId": "5c795c85-ec8e-4e52-a1ce-0470107d9923"
      },
      "execution_count": null,
      "outputs": [
        {
          "output_type": "stream",
          "name": "stdout",
          "text": [
            "/content/headfirst-git-samples/chapter04/gitanjali-aref-step-8\n"
          ]
        }
      ]
    },
    {
      "cell_type": "code",
      "source": [
        "!git status"
      ],
      "metadata": {
        "colab": {
          "base_uri": "https://localhost:8080/"
        },
        "id": "Hu_1iJr9P7e5",
        "outputId": "2a80b638-4913-4366-ed47-b8d7db3dfab0"
      },
      "execution_count": null,
      "outputs": [
        {
          "output_type": "stream",
          "name": "stdout",
          "text": [
            "On branch boardgame-night\n",
            "nothing to commit, working tree clean\n"
          ]
        }
      ]
    },
    {
      "cell_type": "code",
      "source": [
        "!git log --oneline --graph --all"
      ],
      "metadata": {
        "colab": {
          "base_uri": "https://localhost:8080/"
        },
        "id": "1Tl7UOeQP8F3",
        "outputId": "a4b939c2-d504-459e-f09e-ce22305717e8"
      },
      "execution_count": null,
      "outputs": [
        {
          "output_type": "stream",
          "name": "stdout",
          "text": [
            "* \u001b[33m39107a6\u001b[m\u001b[33m (\u001b[m\u001b[1;36mHEAD -> \u001b[m\u001b[1;32mboardgame-night\u001b[m\u001b[33m)\u001b[m add games and list potential boardgame night venues\n",
            "* \u001b[33m3e3e847\u001b[m initial boardgame planning\n",
            "\u001b[31m|\u001b[m * \u001b[33mcf5e718\u001b[m\u001b[33m (\u001b[m\u001b[1;32mglamping-trip\u001b[m\u001b[33m)\u001b[m initial outdoors plan\n",
            "\u001b[31m|\u001b[m\u001b[31m/\u001b[m  \n",
            "* \u001b[33m8d704f8\u001b[m\u001b[33m (\u001b[m\u001b[1;32mmain\u001b[m\u001b[33m)\u001b[m first cut at invitation card\n",
            "* \u001b[33m6e16680\u001b[m initial set of guests and gift registry\n"
          ]
        }
      ]
    },
    {
      "cell_type": "code",
      "source": [
        "!git revert HEAD -m \"Undo changes\""
      ],
      "metadata": {
        "colab": {
          "base_uri": "https://localhost:8080/"
        },
        "id": "Qw3PK0cKQA6n",
        "outputId": "b86d37ba-6a15-470d-8a46-c198108167d4"
      },
      "execution_count": null,
      "outputs": [
        {
          "output_type": "stream",
          "name": "stdout",
          "text": [
            "error: option `mainline' expects a number greater than zero\n"
          ]
        }
      ]
    }
  ]
}