{
  "nbformat": 4,
  "nbformat_minor": 0,
  "metadata": {
    "colab": {
      "name": "07_Searching_Git_Repositories.ipynb",
      "provenance": [],
      "collapsed_sections": [],
      "authorship_tag": "ABX9TyPrI6ecviW0vox4dBjWgWBl",
      "include_colab_link": true
    },
    "kernelspec": {
      "name": "python3",
      "display_name": "Python 3"
    },
    "language_info": {
      "name": "python"
    }
  },
  "cells": [
    {
      "cell_type": "markdown",
      "metadata": {
        "id": "view-in-github",
        "colab_type": "text"
      },
      "source": [
        "<a href=\"https://colab.research.google.com/github/M-110/head-first-git/blob/main/07_Searching_Git_Repositories.ipynb\" target=\"_parent\"><img src=\"https://colab.research.google.com/assets/colab-badge.svg\" alt=\"Open In Colab\"/></a>"
      ]
    },
    {
      "cell_type": "code",
      "execution_count": null,
      "metadata": {
        "id": "rYAykCGOS0Zt"
      },
      "outputs": [],
      "source": [
        "!git config --global user.email \"hello@gmail.com\"\n",
        "!git config --global user.name \"M-110\""
      ]
    },
    {
      "cell_type": "code",
      "source": [
        "!add-apt-repository ppa:git-core/ppa -y\n",
        "!apt update\n",
        "!apt install git"
      ],
      "metadata": {
        "id": "9JuD7BbGmPmV",
        "colab": {
          "base_uri": "https://localhost:8080/"
        },
        "outputId": "26682ba6-cb1b-4d19-963f-ac4ec8c5b251"
      },
      "execution_count": null,
      "outputs": [
        {
          "output_type": "stream",
          "name": "stdout",
          "text": [
            "Hit:1 http://archive.ubuntu.com/ubuntu bionic InRelease\n",
            "Get:2 http://archive.ubuntu.com/ubuntu bionic-updates InRelease [88.7 kB]\n",
            "Get:3 https://cloud.r-project.org/bin/linux/ubuntu bionic-cran40/ InRelease [3,626 B]\n",
            "Get:4 https://developer.download.nvidia.com/compute/cuda/repos/ubuntu1804/x86_64  InRelease [1,581 B]\n",
            "Get:5 http://security.ubuntu.com/ubuntu bionic-security InRelease [88.7 kB]\n",
            "Get:6 http://ppa.launchpad.net/c2d4u.team/c2d4u4.0+/ubuntu bionic InRelease [15.9 kB]\n",
            "Get:7 http://archive.ubuntu.com/ubuntu bionic-backports InRelease [74.6 kB]\n",
            "Ign:8 https://developer.download.nvidia.com/compute/machine-learning/repos/ubuntu1804/x86_64  InRelease\n",
            "Hit:9 https://developer.download.nvidia.com/compute/machine-learning/repos/ubuntu1804/x86_64  Release\n",
            "Hit:10 http://ppa.launchpad.net/cran/libgit2/ubuntu bionic InRelease\n",
            "Get:11 http://ppa.launchpad.net/deadsnakes/ppa/ubuntu bionic InRelease [15.9 kB]\n",
            "Get:12 http://ppa.launchpad.net/git-core/ppa/ubuntu bionic InRelease [20.8 kB]\n",
            "Get:13 http://archive.ubuntu.com/ubuntu bionic-updates/universe amd64 Packages [2,286 kB]\n",
            "Get:14 http://archive.ubuntu.com/ubuntu bionic-updates/restricted amd64 Packages [991 kB]\n",
            "Get:15 http://ppa.launchpad.net/graphics-drivers/ppa/ubuntu bionic InRelease [21.3 kB]\n",
            "Get:16 http://archive.ubuntu.com/ubuntu bionic-updates/main amd64 Packages [3,231 kB]\n",
            "Get:17 http://archive.ubuntu.com/ubuntu bionic-updates/multiverse amd64 Packages [29.8 kB]\n",
            "Get:18 https://developer.download.nvidia.com/compute/cuda/repos/ubuntu1804/x86_64  Packages [787 kB]\n",
            "Get:20 http://ppa.launchpad.net/c2d4u.team/c2d4u4.0+/ubuntu bionic/main Sources [1,990 kB]\n",
            "Get:21 http://security.ubuntu.com/ubuntu bionic-security/main amd64 Packages [2,798 kB]\n",
            "Get:22 http://security.ubuntu.com/ubuntu bionic-security/restricted amd64 Packages [957 kB]\n",
            "Get:23 http://security.ubuntu.com/ubuntu bionic-security/universe amd64 Packages [1,512 kB]\n",
            "Get:24 http://security.ubuntu.com/ubuntu bionic-security/multiverse amd64 Packages [22.8 kB]\n",
            "Get:25 http://ppa.launchpad.net/c2d4u.team/c2d4u4.0+/ubuntu bionic/main amd64 Packages [1,021 kB]\n",
            "Get:26 http://ppa.launchpad.net/deadsnakes/ppa/ubuntu bionic/main amd64 Packages [45.3 kB]\n",
            "Get:27 http://ppa.launchpad.net/git-core/ppa/ubuntu bionic/main amd64 Packages [3,163 B]\n",
            "Get:28 http://ppa.launchpad.net/graphics-drivers/ppa/ubuntu bionic/main amd64 Packages [44.3 kB]\n",
            "Fetched 16.0 MB in 5s (3,314 kB/s)\n",
            "Reading package lists... Done\n",
            "Hit:1 https://developer.download.nvidia.com/compute/cuda/repos/ubuntu1804/x86_64  InRelease\n",
            "Hit:2 https://cloud.r-project.org/bin/linux/ubuntu bionic-cran40/ InRelease\n",
            "Hit:3 http://security.ubuntu.com/ubuntu bionic-security InRelease\n",
            "Hit:4 http://ppa.launchpad.net/c2d4u.team/c2d4u4.0+/ubuntu bionic InRelease\n",
            "Hit:5 http://archive.ubuntu.com/ubuntu bionic InRelease\n",
            "Ign:6 https://developer.download.nvidia.com/compute/machine-learning/repos/ubuntu1804/x86_64  InRelease\n",
            "Hit:7 https://developer.download.nvidia.com/compute/machine-learning/repos/ubuntu1804/x86_64  Release\n",
            "Hit:8 http://archive.ubuntu.com/ubuntu bionic-updates InRelease\n",
            "Hit:9 http://ppa.launchpad.net/cran/libgit2/ubuntu bionic InRelease\n",
            "Hit:10 http://archive.ubuntu.com/ubuntu bionic-backports InRelease\n",
            "Hit:11 http://ppa.launchpad.net/deadsnakes/ppa/ubuntu bionic InRelease\n",
            "Hit:12 http://ppa.launchpad.net/git-core/ppa/ubuntu bionic InRelease\n",
            "Hit:13 http://ppa.launchpad.net/graphics-drivers/ppa/ubuntu bionic InRelease\n",
            "Reading package lists... Done\n",
            "Building dependency tree       \n",
            "Reading state information... Done\n",
            "78 packages can be upgraded. Run 'apt list --upgradable' to see them.\n",
            "Reading package lists... Done\n",
            "Building dependency tree       \n",
            "Reading state information... Done\n",
            "The following package was automatically installed and is no longer required:\n",
            "  libnvidia-common-460\n",
            "Use 'apt autoremove' to remove it.\n",
            "The following additional packages will be installed:\n",
            "  git-man\n",
            "Suggested packages:\n",
            "  gettext-base git-daemon-run | git-daemon-sysvinit git-doc git-email git-gui\n",
            "  gitk gitweb git-cvs git-mediawiki git-svn\n",
            "The following packages will be upgraded:\n",
            "  git git-man\n",
            "2 upgraded, 0 newly installed, 0 to remove and 76 not upgraded.\n",
            "Need to get 7,835 kB of archives.\n",
            "After this operation, 7,048 kB of additional disk space will be used.\n",
            "Get:1 http://ppa.launchpad.net/git-core/ppa/ubuntu bionic/main amd64 git amd64 1:2.36.1-0ppa1~ubuntu18.04.1 [5,895 kB]\n",
            "Get:2 http://ppa.launchpad.net/git-core/ppa/ubuntu bionic/main amd64 git-man all 1:2.36.1-0ppa1~ubuntu18.04.1 [1,940 kB]\n",
            "Fetched 7,835 kB in 2s (4,270 kB/s)\n",
            "(Reading database ... 155629 files and directories currently installed.)\n",
            "Preparing to unpack .../git_1%3a2.36.1-0ppa1~ubuntu18.04.1_amd64.deb ...\n",
            "Unpacking git (1:2.36.1-0ppa1~ubuntu18.04.1) over (1:2.17.1-1ubuntu0.11) ...\n",
            "Preparing to unpack .../git-man_1%3a2.36.1-0ppa1~ubuntu18.04.1_all.deb ...\n",
            "Unpacking git-man (1:2.36.1-0ppa1~ubuntu18.04.1) over (1:2.17.1-1ubuntu0.11) ...\n",
            "Setting up git-man (1:2.36.1-0ppa1~ubuntu18.04.1) ...\n",
            "Setting up git (1:2.36.1-0ppa1~ubuntu18.04.1) ...\n",
            "Processing triggers for man-db (2.8.3-2ubuntu0.1) ...\n"
          ]
        }
      ]
    },
    {
      "cell_type": "markdown",
      "source": [
        "# Commands\n",
        "command | description\n",
        "--- | ---\n",
        "log --grep |\tMoves HEAD to the specified commit.\n",
        "grep |\tSearches the diffs of all commits.\n",
        "blame |\tSearches commit messages only.\n",
        "log -S |\tDisplays all the commits where the line that includes that text was changed | in some way.\n",
        "checkout |\tSearches all the tracked files for a piece of text.\n",
        "log -G |\tShows the commit and author information for each line in a file."
      ],
      "metadata": {
        "id": "DlCbbSn3I6py"
      }
    },
    {
      "cell_type": "code",
      "source": [
        "!git clone https://github.com/looselytyped/gitanjali-aref-wedding-plans.git"
      ],
      "metadata": {
        "colab": {
          "base_uri": "https://localhost:8080/"
        },
        "id": "cFOOTelyI65S",
        "outputId": "1902db9f-1e80-4043-c3a5-7d09914bdc6a"
      },
      "execution_count": null,
      "outputs": [
        {
          "output_type": "stream",
          "name": "stdout",
          "text": [
            "Cloning into 'gitanjali-aref-wedding-plans'...\n",
            "remote: Enumerating objects: 27, done.\u001b[K\n",
            "remote: Total 27 (delta 0), reused 0 (delta 0), pack-reused 27\u001b[K\n",
            "Receiving objects: 100% (27/27), done.\n",
            "Resolving deltas: 100% (9/9), done.\n"
          ]
        }
      ]
    },
    {
      "cell_type": "code",
      "source": [
        "%cd gitanjali-aref-wedding-plans"
      ],
      "metadata": {
        "colab": {
          "base_uri": "https://localhost:8080/"
        },
        "id": "34E2_DdUHsm1",
        "outputId": "a93012e8-9c70-45be-d122-d52550ad4736"
      },
      "execution_count": null,
      "outputs": [
        {
          "output_type": "stream",
          "name": "stdout",
          "text": [
            "/content/gitanjali-aref-wedding-plans\n"
          ]
        }
      ]
    },
    {
      "cell_type": "code",
      "source": [
        "!git log --oneline --graph --all"
      ],
      "metadata": {
        "colab": {
          "base_uri": "https://localhost:8080/"
        },
        "id": "0ccZ7HKiI_E8",
        "outputId": "9c9bf9e1-0d15-4bbd-e8a2-0b7b1e1b07f0"
      },
      "execution_count": null,
      "outputs": [
        {
          "output_type": "stream",
          "name": "stdout",
          "text": [
            "* \u001b[33m7886bce\u001b[m\u001b[33m (\u001b[m\u001b[1;36mHEAD -> \u001b[m\u001b[1;32mmaster\u001b[m\u001b[33m, \u001b[m\u001b[1;31morigin/master\u001b[m\u001b[33m, \u001b[m\u001b[1;31morigin/HEAD\u001b[m\u001b[33m)\u001b[m add two more appetizers\n",
            "* \u001b[33m0b90575\u001b[m offer nonalcoholic options\n",
            "* \u001b[33mc366817\u001b[m remove Git puns and make drinks more seasonal\n",
            "* \u001b[33me9beff3\u001b[m remove nuts from all items due to allergy concerns\n",
            "* \u001b[33mb6c8c82\u001b[m replace meat dishes with vegetarian items\n",
            "* \u001b[33md36c983\u001b[m add first draft of dinner menu\n",
            "* \u001b[33m99fd56e\u001b[m add first draft of appetizer and drink menus\n",
            "* \u001b[33m6b11ec8\u001b[m add README\n"
          ]
        }
      ]
    },
    {
      "cell_type": "code",
      "source": [
        "!git branch -vv"
      ],
      "metadata": {
        "colab": {
          "base_uri": "https://localhost:8080/"
        },
        "id": "-3ZH1ohDJ2jP",
        "outputId": "a63400bf-780d-4fe4-8689-89523b9ab1c8"
      },
      "execution_count": null,
      "outputs": [
        {
          "output_type": "stream",
          "name": "stdout",
          "text": [
            "* \u001b[32mmaster\u001b[m 7886bce [\u001b[34morigin/master\u001b[m] add two more appetizers\n"
          ]
        }
      ]
    },
    {
      "cell_type": "markdown",
      "source": [
        "# Git blame"
      ],
      "metadata": {
        "id": "7Y6uKN4sKoo-"
      }
    },
    {
      "cell_type": "code",
      "source": [
        "%ls"
      ],
      "metadata": {
        "colab": {
          "base_uri": "https://localhost:8080/"
        },
        "id": "m18vK0QOJ6xI",
        "outputId": "45e4ed78-9ae0-4ea7-f849-b6f781ea2d8a"
      },
      "execution_count": null,
      "outputs": [
        {
          "output_type": "stream",
          "name": "stdout",
          "text": [
            "appetizers.md  dinner.md  drinks.md  README.md\n"
          ]
        }
      ]
    },
    {
      "cell_type": "code",
      "source": [
        "!git blame README.md"
      ],
      "metadata": {
        "colab": {
          "base_uri": "https://localhost:8080/"
        },
        "id": "uFG71GjGLTIy",
        "outputId": "cf432128-bf27-47c8-a2f7-46038b3818c5"
      },
      "execution_count": null,
      "outputs": [
        {
          "output_type": "stream",
          "name": "stdout",
          "text": [
            "^6b11ec8 (Trinity 2021-07-03 05:12:39 -0400 1) # Gitanjali/Aref wedding plans\n",
            "^6b11ec8 (Trinity 2021-07-03 05:12:39 -0400 2) \n",
            "^6b11ec8 (Trinity 2021-07-03 05:12:39 -0400 3) This repository will help us manage Gitanjali and Aref's wedding night menus. \n"
          ]
        }
      ]
    },
    {
      "cell_type": "code",
      "source": [
        "!git blame drinks.md "
      ],
      "metadata": {
        "colab": {
          "base_uri": "https://localhost:8080/"
        },
        "id": "_AQppF5iLVEQ",
        "outputId": "539897e3-73f7-48ef-cf97-195c05e6291a"
      },
      "execution_count": null,
      "outputs": [
        {
          "output_type": "stream",
          "name": "stdout",
          "text": [
            "99fd56e6 (Trinity 2021-07-05 14:01:36 -0400  1) # Gitanjali and Aref Reception: Signature Drinks\n",
            "99fd56e6 (Trinity 2021-07-05 14:01:36 -0400  2) \n",
            "c3668177 (Trinity 2021-07-20 05:20:02 -0400  3) * Autumn in Manhattan: \n",
            "c3668177 (Trinity 2021-07-20 05:20:02 -0400  4)   Pumpkin-spice bitters give a fall feeling to this classic bourbon-vermouth cocktail \n",
            "c3668177 (Trinity 2021-07-20 05:20:02 -0400  5) * Orchard Mimosa: \n",
            "c3668177 (Trinity 2021-07-20 05:20:02 -0400  6)   Champagne meets apple cider, garnished with a cinnamon-sugar rim\n",
            "c3668177 (Trinity 2021-07-20 05:20:02 -0400  7) * The Log Cabin: \n",
            "c3668177 (Trinity 2021-07-20 05:20:02 -0400  8)   Apple brandy and maple syrup will take you on an autumn trip through our favorite couple’s history\n",
            "0b90575d (Trinity 2021-07-25 08:30:44 -0400  9) \n",
            "0b90575d (Trinity 2021-07-25 08:30:44 -0400 10) **Nonalcoholic substitutes for all spirits are available upon request.**\n"
          ]
        }
      ]
    },
    {
      "cell_type": "code",
      "source": [
        "!git blame appetizers.md"
      ],
      "metadata": {
        "colab": {
          "base_uri": "https://localhost:8080/"
        },
        "id": "BfcoiRz9La_3",
        "outputId": "e9659d1c-318c-4320-f0d6-4fe5ce7ff54f"
      },
      "execution_count": null,
      "outputs": [
        {
          "output_type": "stream",
          "name": "stdout",
          "text": [
            "99fd56e6 (Trinity   2021-07-05 14:01:36 -0400 1) # Gitanjali and Aref Reception: Appetizers\n",
            "99fd56e6 (Trinity   2021-07-05 14:01:36 -0400 2) \n",
            "99fd56e6 (Trinity   2021-07-05 14:01:36 -0400 3) * Herb-sprinkled stuffed mushrooms\n",
            "e9beff31 (Armstrong 2021-07-17 15:12:03 -0400 4) * Blinnis with spiced fruit chutney\n",
            "b6c8c826 (Armstrong 2021-07-13 04:25:01 -0400 5) * Mini grilled cheese sandwiches\n",
            "7886bce9 (Armstrong 2021-07-26 20:36:10 -0400 6) * Housemade sweet-potato chips topped with French onion dip\n",
            "7886bce9 (Armstrong 2021-07-26 20:36:10 -0400 7) * Jackfruit cakes with Old Bay aioli\n"
          ]
        }
      ]
    },
    {
      "cell_type": "code",
      "source": [
        "!git blame appetizers.md -s"
      ],
      "metadata": {
        "colab": {
          "base_uri": "https://localhost:8080/"
        },
        "id": "nN4vZk7rMW0b",
        "outputId": "9c703900-a7f1-4e04-ab2f-581604e83832"
      },
      "execution_count": null,
      "outputs": [
        {
          "output_type": "stream",
          "name": "stdout",
          "text": [
            "99fd56e6 1) # Gitanjali and Aref Reception: Appetizers\n",
            "99fd56e6 2) \n",
            "99fd56e6 3) * Herb-sprinkled stuffed mushrooms\n",
            "e9beff31 4) * Blinnis with spiced fruit chutney\n",
            "b6c8c826 5) * Mini grilled cheese sandwiches\n",
            "7886bce9 6) * Housemade sweet-potato chips topped with French onion dip\n",
            "7886bce9 7) * Jackfruit cakes with Old Bay aioli\n"
          ]
        }
      ]
    },
    {
      "cell_type": "markdown",
      "source": [
        "# Git grep"
      ],
      "metadata": {
        "id": "qAftQJpcOaY1"
      }
    },
    {
      "cell_type": "code",
      "source": [
        "!git grep fall"
      ],
      "metadata": {
        "colab": {
          "base_uri": "https://localhost:8080/"
        },
        "id": "tl4QvLbGMiIB",
        "outputId": "fc7f7c0c-d5e9-474e-e9ed-a4191337d7fd"
      },
      "execution_count": null,
      "outputs": [
        {
          "output_type": "stream",
          "name": "stdout",
          "text": [
            "\u001b[35mdrinks.md\u001b[m\u001b[36m:\u001b[m  Pumpkin-spice bitters give a \u001b[1;31mfall\u001b[m feeling to this classic bourbon-vermouth cocktail \n"
          ]
        }
      ]
    },
    {
      "cell_type": "markdown",
      "source": [
        "--ignore-case -i"
      ],
      "metadata": {
        "id": "q4OCY43wPFzx"
      }
    },
    {
      "cell_type": "code",
      "source": [
        "!git grep -i fall"
      ],
      "metadata": {
        "colab": {
          "base_uri": "https://localhost:8080/"
        },
        "id": "CH2QK_b9Obt4",
        "outputId": "f98b8a17-8d35-481c-9bc7-2e9de079a804"
      },
      "execution_count": null,
      "outputs": [
        {
          "output_type": "stream",
          "name": "stdout",
          "text": [
            "\u001b[35mdrinks.md\u001b[m\u001b[36m:\u001b[m  Pumpkin-spice bitters give a \u001b[1;31mfall\u001b[m feeling to this classic bourbon-vermouth cocktail \n"
          ]
        }
      ]
    },
    {
      "cell_type": "markdown",
      "source": [
        "--line-number -n\n"
      ],
      "metadata": {
        "id": "jrq0o31ePOAk"
      }
    },
    {
      "cell_type": "code",
      "source": [
        "!git grep -n dressing"
      ],
      "metadata": {
        "colab": {
          "base_uri": "https://localhost:8080/"
        },
        "id": "vju5NIe7PJJz",
        "outputId": "9513cf86-ab3c-49a6-bdba-c0d3b38ffc9d"
      },
      "execution_count": null,
      "outputs": [
        {
          "output_type": "stream",
          "name": "stdout",
          "text": [
            "\u001b[35mdinner.md\u001b[m\u001b[36m:\u001b[m\u001b[32m5\u001b[m\u001b[36m:\u001b[m* Spinach and strawberry salad with champagne \u001b[1;31mdressing\u001b[m\n",
            "\u001b[35mdinner.md\u001b[m\u001b[36m:\u001b[m\u001b[32m9\u001b[m\u001b[36m:\u001b[m* Halloumi and grapefruit salad with tahini \u001b[1;31mdressing\u001b[m\n"
          ]
        }
      ]
    },
    {
      "cell_type": "markdown",
      "source": [
        "--name-only -l"
      ],
      "metadata": {
        "id": "ymLI-svfPUYS"
      }
    },
    {
      "cell_type": "code",
      "source": [
        "!git grep -l menu"
      ],
      "metadata": {
        "colab": {
          "base_uri": "https://localhost:8080/"
        },
        "id": "ybv1SBtDPRnz",
        "outputId": "40ccb4b5-61da-44df-c4ca-7519085bf305"
      },
      "execution_count": null,
      "outputs": [
        {
          "output_type": "stream",
          "name": "stdout",
          "text": [
            "\u001b[35mREADME.md\u001b[m\n"
          ]
        }
      ]
    },
    {
      "cell_type": "markdown",
      "source": [
        "git grep only searches tracked files"
      ],
      "metadata": {
        "id": "SiXUzcmbPfRd"
      }
    },
    {
      "cell_type": "markdown",
      "source": [
        "# git log -S\n",
        "\n",
        "pickaxe option\n",
        "\n",
        "\n",
        "locate commit containing text"
      ],
      "metadata": {
        "id": "hS5l-7uAHe-q"
      }
    },
    {
      "cell_type": "code",
      "source": [
        "!git log -S dressing"
      ],
      "metadata": {
        "colab": {
          "base_uri": "https://localhost:8080/"
        },
        "id": "0yjE0oqnPYNk",
        "outputId": "63f9fa6a-94e9-4172-f570-6274268b1611"
      },
      "execution_count": null,
      "outputs": [
        {
          "output_type": "stream",
          "name": "stdout",
          "text": [
            "\u001b[33mcommit d36c9830823a17c42025713dcbc3bc29bbb4ce36\u001b[m\n",
            "Author: Trinity <trinity@eventplannerz.com>\n",
            "Date:   Sat Jul 10 12:38:23 2021 -0400\n",
            "\n",
            "    add first draft of dinner menu\n"
          ]
        }
      ]
    },
    {
      "cell_type": "code",
      "source": [
        "!git log -S fall drinks.md"
      ],
      "metadata": {
        "colab": {
          "base_uri": "https://localhost:8080/"
        },
        "id": "chJd-fn5HiMW",
        "outputId": "958398cc-2df0-456a-b62d-951d452b2d64"
      },
      "execution_count": null,
      "outputs": [
        {
          "output_type": "stream",
          "name": "stdout",
          "text": [
            "\u001b[33mcommit c3668177ee381e0e58c25447b6c36d8eee23b8fe\u001b[m\n",
            "Author: Trinity <trinity@eventplannerz.com>\n",
            "Date:   Tue Jul 20 05:20:02 2021 -0400\n",
            "\n",
            "    remove Git puns and make drinks more seasonal\n"
          ]
        }
      ]
    },
    {
      "cell_type": "code",
      "source": [
        "!git log -S classic"
      ],
      "metadata": {
        "colab": {
          "base_uri": "https://localhost:8080/"
        },
        "id": "KV8IiPA9H2he",
        "outputId": "343a78f8-f3c0-4eec-dc54-5b779f4bea99"
      },
      "execution_count": null,
      "outputs": [
        {
          "output_type": "stream",
          "name": "stdout",
          "text": [
            "\u001b[33mcommit 99fd56e6628bb154a64b8171f8f3af2be2f96c6e\u001b[m\n",
            "Author: Trinity <trinity@eventplannerz.com>\n",
            "Date:   Mon Jul 5 14:01:36 2021 -0400\n",
            "\n",
            "    add first draft of appetizer and drink menus\n"
          ]
        }
      ]
    },
    {
      "cell_type": "markdown",
      "source": [
        "# git log -p\n",
        "\n",
        "patch flag\n",
        "\n",
        "shows diff of a commit"
      ],
      "metadata": {
        "id": "lmYnd66MIIXd"
      }
    },
    {
      "cell_type": "code",
      "source": [
        "!git log --oneline --graph --all -p"
      ],
      "metadata": {
        "colab": {
          "base_uri": "https://localhost:8080/"
        },
        "id": "Sk0DWYBDH8yb",
        "outputId": "9d5836cf-a098-492a-ce83-59c6296b0437"
      },
      "execution_count": null,
      "outputs": [
        {
          "output_type": "stream",
          "name": "stdout",
          "text": [
            "* \u001b[33m7886bce\u001b[m\u001b[33m (\u001b[m\u001b[1;36mHEAD -> \u001b[m\u001b[1;32mmaster\u001b[m\u001b[33m, \u001b[m\u001b[1;31morigin/master\u001b[m\u001b[33m, \u001b[m\u001b[1;31morigin/HEAD\u001b[m\u001b[33m)\u001b[m add two more appetizers\n",
            "\u001b[31m|\u001b[m \u001b[1mdiff --git a/appetizers.md b/appetizers.md\u001b[m\n",
            "\u001b[31m|\u001b[m \u001b[1mindex c963726..fcbb433 100644\u001b[m\n",
            "\u001b[31m|\u001b[m \u001b[1m--- a/appetizers.md\u001b[m\n",
            "\u001b[31m|\u001b[m \u001b[1m+++ b/appetizers.md\u001b[m\n",
            "\u001b[31m|\u001b[m \u001b[36m@@ -3,3 +3,5 @@\u001b[m\n",
            "\u001b[31m|\u001b[m  * Herb-sprinkled stuffed mushrooms\u001b[m\n",
            "\u001b[31m|\u001b[m  * Blinnis with spiced fruit chutney\u001b[m\n",
            "\u001b[31m|\u001b[m  * Mini grilled cheese sandwiches\u001b[m\n",
            "\u001b[31m|\u001b[m \u001b[32m+\u001b[m\u001b[32m* Housemade sweet-potato chips topped with French onion dip\u001b[m\n",
            "\u001b[31m|\u001b[m \u001b[32m+\u001b[m\u001b[32m* Jackfruit cakes with Old Bay aioli\u001b[m\n",
            "* \u001b[33m0b90575\u001b[m offer nonalcoholic options\n",
            "\u001b[31m|\u001b[m \u001b[1mdiff --git a/drinks.md b/drinks.md\u001b[m\n",
            "\u001b[31m|\u001b[m \u001b[1mindex 93c7e91..3b31f11 100644\u001b[m\n",
            "\u001b[31m|\u001b[m \u001b[1m--- a/drinks.md\u001b[m\n",
            "\u001b[31m|\u001b[m \u001b[1m+++ b/drinks.md\u001b[m\n",
            "\u001b[31m|\u001b[m \u001b[36m@@ -6,3 +6,5 @@\u001b[m\n",
            "\u001b[31m|\u001b[m    Champagne meets apple cider, garnished with a cinnamon-sugar rim\u001b[m\n",
            "\u001b[31m|\u001b[m  * The Log Cabin: \u001b[m\n",
            "\u001b[31m|\u001b[m    Apple brandy and maple syrup will take you on an autumn trip through our favorite couple’s history\u001b[m\n",
            "\u001b[31m|\u001b[m \u001b[32m+\u001b[m\n",
            "\u001b[31m|\u001b[m \u001b[32m+\u001b[m\u001b[32m**Nonalcoholic substitutes for all spirits are available upon request.**\u001b[m\n",
            "* \u001b[33mc366817\u001b[m remove Git puns and make drinks more seasonal\n",
            "\u001b[31m|\u001b[m \u001b[1mdiff --git a/drinks.md b/drinks.md\u001b[m\n",
            "\u001b[31m|\u001b[m \u001b[1mindex 0fcee53..93c7e91 100644\u001b[m\n",
            "\u001b[31m|\u001b[m \u001b[1m--- a/drinks.md\u001b[m\n",
            "\u001b[31m|\u001b[m \u001b[1m+++ b/drinks.md\u001b[m\n",
            "\u001b[31m|\u001b[m \u001b[36m@@ -1,8 +1,8 @@\u001b[m\n",
            "\u001b[31m|\u001b[m  # Gitanjali and Aref Reception: Signature Drinks\u001b[m\n",
            "\u001b[31m|\u001b[m  \u001b[m\n",
            "\u001b[31m|\u001b[m \u001b[31m-* The Manhattan Merge: \u001b[m\n",
            "\u001b[31m|\u001b[m \u001b[31m-  Two become one in this updated take on a classic bourbon-vermouth cocktail\u001b[m\n",
            "\u001b[31m|\u001b[m \u001b[31m-* The Git Gimlet: \u001b[m\n",
            "\u001b[31m|\u001b[m \u001b[31m-  Gitanjali’s favorite drink, with refreshing lime and juniper notes \u001b[m\n",
            "\u001b[31m|\u001b[m \u001b[31m-* The Git Log Cabin: \u001b[m\n",
            "\u001b[31m|\u001b[m \u001b[31m-  Apple brandy and maple syrup will take you on an autumn trip through our favorite couple’s history \u001b[m\n",
            "\u001b[31m|\u001b[m \u001b[32m+\u001b[m\u001b[32m* Autumn in Manhattan:\u001b[m\u001b[41m \u001b[m\n",
            "\u001b[31m|\u001b[m \u001b[32m+\u001b[m\u001b[32m  Pumpkin-spice bitters give a fall feeling to this classic bourbon-vermouth cocktail\u001b[m\u001b[41m \u001b[m\n",
            "\u001b[31m|\u001b[m \u001b[32m+\u001b[m\u001b[32m* Orchard Mimosa:\u001b[m\u001b[41m \u001b[m\n",
            "\u001b[31m|\u001b[m \u001b[32m+\u001b[m\u001b[32m  Champagne meets apple cider, garnished with a cinnamon-sugar rim\u001b[m\n",
            "\u001b[31m|\u001b[m \u001b[32m+\u001b[m\u001b[32m* The Log Cabin:\u001b[m\u001b[41m \u001b[m\n",
            "\u001b[31m|\u001b[m \u001b[32m+\u001b[m\u001b[32m  Apple brandy and maple syrup will take you on an autumn trip through our favorite couple’s history\u001b[m\n",
            "* \u001b[33me9beff3\u001b[m remove nuts from all items due to allergy concerns\n",
            "\u001b[31m|\u001b[m \u001b[1mdiff --git a/appetizers.md b/appetizers.md\u001b[m\n",
            "\u001b[31m|\u001b[m \u001b[1mindex 76b0a35..c963726 100644\u001b[m\n",
            "\u001b[31m|\u001b[m \u001b[1m--- a/appetizers.md\u001b[m\n",
            "\u001b[31m|\u001b[m \u001b[1m+++ b/appetizers.md\u001b[m\n",
            "\u001b[31m|\u001b[m \u001b[36m@@ -1,5 +1,5 @@\u001b[m\n",
            "\u001b[31m|\u001b[m  # Gitanjali and Aref Reception: Appetizers\u001b[m\n",
            "\u001b[31m|\u001b[m  \u001b[m\n",
            "\u001b[31m|\u001b[m  * Herb-sprinkled stuffed mushrooms\u001b[m\n",
            "\u001b[31m|\u001b[m \u001b[31m-* Blinnis with spiced fruit and nut chutney\u001b[m\n",
            "\u001b[31m|\u001b[m \u001b[32m+\u001b[m\u001b[32m* Blinnis with spiced fruit chutney\u001b[m\n",
            "\u001b[31m|\u001b[m  * Mini grilled cheese sandwiches\u001b[m\n",
            "\u001b[31m|\u001b[m \u001b[1mdiff --git a/dinner.md b/dinner.md\u001b[m\n",
            "\u001b[31m|\u001b[m \u001b[1mindex 64c1f6e..df5fde0 100644\u001b[m\n",
            "\u001b[31m|\u001b[m \u001b[1m--- a/dinner.md\u001b[m\n",
            "\u001b[31m|\u001b[m \u001b[1m+++ b/dinner.md\u001b[m\n",
            "\u001b[31m|\u001b[m \u001b[36m@@ -10,7 +10,7 @@\u001b[m\n",
            "\u001b[31m|\u001b[m  \u001b[m\n",
            "\u001b[31m|\u001b[m  ## Second course\u001b[m\n",
            "\u001b[31m|\u001b[m  \u001b[m\n",
            "\u001b[31m|\u001b[m \u001b[31m-* Baked kabocha squash with sunflower-walnut stuffing served with roasted cauliflower and potatoes\u001b[m\n",
            "\u001b[31m|\u001b[m \u001b[32m+\u001b[m\u001b[32m* Baked kabocha squash with herbed ciabatta stuffing served with roasted cauliflower and potatoes\u001b[m\n",
            "\u001b[31m|\u001b[m  \u001b[m\n",
            "\u001b[31m|\u001b[m  **or**\u001b[m\n",
            "\u001b[31m|\u001b[m  \u001b[m\n",
            "\u001b[31m|\u001b[m \u001b[36m@@ -22,4 +22,4 @@\u001b[m\n",
            "\u001b[31m|\u001b[m  \u001b[m\n",
            "\u001b[31m|\u001b[m  **or**\u001b[m\n",
            "\u001b[31m|\u001b[m  \u001b[m\n",
            "\u001b[31m|\u001b[m \u001b[31m-* Almond-raspberry tart\u001b[m\n",
            "\u001b[31m|\u001b[m \u001b[32m+\u001b[m\u001b[32m* Raspberry tart\u001b[m\n",
            "* \u001b[33mb6c8c82\u001b[m replace meat dishes with vegetarian items\n",
            "\u001b[31m|\u001b[m \u001b[1mdiff --git a/appetizers.md b/appetizers.md\u001b[m\n",
            "\u001b[31m|\u001b[m \u001b[1mindex ceeaf08..76b0a35 100644\u001b[m\n",
            "\u001b[31m|\u001b[m \u001b[1m--- a/appetizers.md\u001b[m\n",
            "\u001b[31m|\u001b[m \u001b[1m+++ b/appetizers.md\u001b[m\n",
            "\u001b[31m|\u001b[m \u001b[36m@@ -1,5 +1,5 @@\u001b[m\n",
            "\u001b[31m|\u001b[m  # Gitanjali and Aref Reception: Appetizers\u001b[m\n",
            "\u001b[31m|\u001b[m  \u001b[m\n",
            "\u001b[31m|\u001b[m  * Herb-sprinkled stuffed mushrooms\u001b[m\n",
            "\u001b[31m|\u001b[m \u001b[31m-* Blinis with salmon, caviar, and crème fraiche\u001b[m\n",
            "\u001b[31m|\u001b[m \u001b[31m-* Mini roast-beef sandwiches\u001b[m\n",
            "\u001b[31m|\u001b[m \u001b[32m+\u001b[m\u001b[32m* Blinnis with spiced fruit and nut chutney\u001b[m\n",
            "\u001b[31m|\u001b[m \u001b[32m+\u001b[m\u001b[32m* Mini grilled cheese sandwiches\u001b[m\n",
            "\u001b[31m|\u001b[m \u001b[1mdiff --git a/dinner.md b/dinner.md\u001b[m\n",
            "\u001b[31m|\u001b[m \u001b[1mindex 10d16ca..64c1f6e 100644\u001b[m\n",
            "\u001b[31m|\u001b[m \u001b[1m--- a/dinner.md\u001b[m\n",
            "\u001b[31m|\u001b[m \u001b[1m+++ b/dinner.md\u001b[m\n",
            "\u001b[31m|\u001b[m \u001b[36m@@ -10,11 +10,11 @@\u001b[m\n",
            "\u001b[31m|\u001b[m  \u001b[m\n",
            "\u001b[31m|\u001b[m  ## Second course\u001b[m\n",
            "\u001b[31m|\u001b[m  \u001b[m\n",
            "\u001b[31m|\u001b[m \u001b[31m-* Baked Scottish salmon with garlic crumb topping, served with roasted cauliflower and potatoes\u001b[m\n",
            "\u001b[31m|\u001b[m \u001b[32m+\u001b[m\u001b[32m* Baked kabocha squash with sunflower-walnut stuffing served with roasted cauliflower and potatoes\u001b[m\n",
            "\u001b[31m|\u001b[m  \u001b[m\n",
            "\u001b[31m|\u001b[m  **or**\u001b[m\n",
            "\u001b[31m|\u001b[m  \u001b[m\n",
            "\u001b[31m|\u001b[m \u001b[31m-* Beef tenderloin with horseradish sauce, served with a loaded baked potato and green beans\u001b[m\n",
            "\u001b[31m|\u001b[m \u001b[32m+\u001b[m\u001b[32m* Rigatoni pasta with marinara sauce, served with garlic bread and green beans\u001b[m\u001b[41m \u001b[m\n",
            "\u001b[31m|\u001b[m  \u001b[m\n",
            "\u001b[31m|\u001b[m  ## Dessert\u001b[m\n",
            "\u001b[31m|\u001b[m  \u001b[m\n",
            "* \u001b[33md36c983\u001b[m add first draft of dinner menu\n",
            "\u001b[31m|\u001b[m \u001b[1mdiff --git a/dinner.md b/dinner.md\u001b[m\n",
            "\u001b[31m|\u001b[m \u001b[1mnew file mode 100644\u001b[m\n",
            "\u001b[31m|\u001b[m \u001b[1mindex 0000000..10d16ca\u001b[m\n",
            "\u001b[31m|\u001b[m \u001b[1m--- /dev/null\u001b[m\n",
            "\u001b[31m|\u001b[m \u001b[1m+++ b/dinner.md\u001b[m\n",
            "\u001b[31m|\u001b[m \u001b[36m@@ -0,0 +1,25 @@\u001b[m\n",
            "\u001b[31m|\u001b[m \u001b[32m+\u001b[m\u001b[32m# Gitanjali and Aref Reception: Dinner Menu\u001b[m\n",
            "\u001b[31m|\u001b[m \u001b[32m+\u001b[m\n",
            "\u001b[31m|\u001b[m \u001b[32m+\u001b[m\u001b[32m## First course\u001b[m\n",
            "\u001b[31m|\u001b[m \u001b[32m+\u001b[m\n",
            "\u001b[31m|\u001b[m \u001b[32m+\u001b[m\u001b[32m* Spinach and strawberry salad with champagne dressing\u001b[m\n",
            "\u001b[31m|\u001b[m \u001b[32m+\u001b[m\n",
            "\u001b[31m|\u001b[m \u001b[32m+\u001b[m\u001b[32m**or**\u001b[m\n",
            "\u001b[31m|\u001b[m \u001b[32m+\u001b[m\n",
            "\u001b[31m|\u001b[m \u001b[32m+\u001b[m\u001b[32m* Halloumi and grapefruit salad with tahini dressing\u001b[m\n",
            "\u001b[31m|\u001b[m \u001b[32m+\u001b[m\n",
            "\u001b[31m|\u001b[m \u001b[32m+\u001b[m\u001b[32m## Second course\u001b[m\n",
            "\u001b[31m|\u001b[m \u001b[32m+\u001b[m\n",
            "\u001b[31m|\u001b[m \u001b[32m+\u001b[m\u001b[32m* Baked Scottish salmon with garlic crumb topping, served with roasted cauliflower and potatoes\u001b[m\n",
            "\u001b[31m|\u001b[m \u001b[32m+\u001b[m\n",
            "\u001b[31m|\u001b[m \u001b[32m+\u001b[m\u001b[32m**or**\u001b[m\n",
            "\u001b[31m|\u001b[m \u001b[32m+\u001b[m\n",
            "\u001b[31m|\u001b[m \u001b[32m+\u001b[m\u001b[32m* Beef tenderloin with horseradish sauce, served with a loaded baked potato and green beans\u001b[m\n",
            "\u001b[31m|\u001b[m \u001b[32m+\u001b[m\n",
            "\u001b[31m|\u001b[m \u001b[32m+\u001b[m\u001b[32m## Dessert\u001b[m\n",
            "\u001b[31m|\u001b[m \u001b[32m+\u001b[m\n",
            "\u001b[31m|\u001b[m \u001b[32m+\u001b[m\u001b[32m* Chocolate meringue pie\u001b[m\n",
            "\u001b[31m|\u001b[m \u001b[32m+\u001b[m\n",
            "\u001b[31m|\u001b[m \u001b[32m+\u001b[m\u001b[32m**or**\u001b[m\n",
            "\u001b[31m|\u001b[m \u001b[32m+\u001b[m\n",
            "\u001b[31m|\u001b[m \u001b[32m+\u001b[m\u001b[32m* Almond-raspberry tart\u001b[m\n",
            "* \u001b[33m99fd56e\u001b[m add first draft of appetizer and drink menus\n",
            "\u001b[31m|\u001b[m \u001b[1mdiff --git a/appetizers.md b/appetizers.md\u001b[m\n",
            "\u001b[31m|\u001b[m \u001b[1mnew file mode 100644\u001b[m\n",
            "\u001b[31m|\u001b[m \u001b[1mindex 0000000..ceeaf08\u001b[m\n",
            "\u001b[31m|\u001b[m \u001b[1m--- /dev/null\u001b[m\n",
            "\u001b[31m|\u001b[m \u001b[1m+++ b/appetizers.md\u001b[m\n",
            "\u001b[31m|\u001b[m \u001b[36m@@ -0,0 +1,5 @@\u001b[m\n",
            "\u001b[31m|\u001b[m \u001b[32m+\u001b[m\u001b[32m# Gitanjali and Aref Reception: Appetizers\u001b[m\n",
            "\u001b[31m|\u001b[m \u001b[32m+\u001b[m\n",
            "\u001b[31m|\u001b[m \u001b[32m+\u001b[m\u001b[32m* Herb-sprinkled stuffed mushrooms\u001b[m\n",
            "\u001b[31m|\u001b[m \u001b[32m+\u001b[m\u001b[32m* Blinis with salmon, caviar, and crème fraiche\u001b[m\n",
            "\u001b[31m|\u001b[m \u001b[32m+\u001b[m\u001b[32m* Mini roast-beef sandwiches\u001b[m\n",
            "\u001b[31m|\u001b[m \u001b[1mdiff --git a/drinks.md b/drinks.md\u001b[m\n",
            "\u001b[31m|\u001b[m \u001b[1mnew file mode 100644\u001b[m\n",
            "\u001b[31m|\u001b[m \u001b[1mindex 0000000..0fcee53\u001b[m\n",
            "\u001b[31m|\u001b[m \u001b[1m--- /dev/null\u001b[m\n",
            "\u001b[31m|\u001b[m \u001b[1m+++ b/drinks.md\u001b[m\n",
            "\u001b[31m|\u001b[m \u001b[36m@@ -0,0 +1,8 @@\u001b[m\n",
            "\u001b[31m|\u001b[m \u001b[32m+\u001b[m\u001b[32m# Gitanjali and Aref Reception: Signature Drinks\u001b[m\n",
            "\u001b[31m|\u001b[m \u001b[32m+\u001b[m\n",
            "\u001b[31m|\u001b[m \u001b[32m+\u001b[m\u001b[32m* The Manhattan Merge:\u001b[m\u001b[41m \u001b[m\n",
            "\u001b[31m|\u001b[m \u001b[32m+\u001b[m\u001b[32m  Two become one in this updated take on a classic bourbon-vermouth cocktail\u001b[m\n",
            "\u001b[31m|\u001b[m \u001b[32m+\u001b[m\u001b[32m* The Git Gimlet:\u001b[m\u001b[41m \u001b[m\n",
            "\u001b[31m|\u001b[m \u001b[32m+\u001b[m\u001b[32m  Gitanjali’s favorite drink, with refreshing lime and juniper notes\u001b[m\u001b[41m \u001b[m\n",
            "\u001b[31m|\u001b[m \u001b[32m+\u001b[m\u001b[32m* The Git Log Cabin:\u001b[m\u001b[41m \u001b[m\n",
            "\u001b[31m|\u001b[m \u001b[32m+\u001b[m\u001b[32m  Apple brandy and maple syrup will take you on an autumn trip through our favorite couple’s history\u001b[m\u001b[41m \u001b[m\n",
            "* \u001b[33m6b11ec8\u001b[m add README\n",
            "  \u001b[1mdiff --git a/README.md b/README.md\u001b[m\n",
            "  \u001b[1mnew file mode 100644\u001b[m\n",
            "  \u001b[1mindex 0000000..1ad31f5\u001b[m\n",
            "  \u001b[1m--- /dev/null\u001b[m\n",
            "  \u001b[1m+++ b/README.md\u001b[m\n",
            "  \u001b[36m@@ -0,0 +1,3 @@\u001b[m\n",
            "  \u001b[32m+\u001b[m\u001b[32m# Gitanjali/Aref wedding plans\u001b[m\n",
            "  \u001b[32m+\u001b[m\n",
            "  \u001b[32m+\u001b[m\u001b[32mThis repository will help us manage Gitanjali and Aref's wedding night menus.\u001b[m\u001b[41m \u001b[m\n"
          ]
        }
      ]
    },
    {
      "cell_type": "code",
      "source": [
        "!git log -S classic -p"
      ],
      "metadata": {
        "colab": {
          "base_uri": "https://localhost:8080/"
        },
        "id": "Vr4F3s_UILJS",
        "outputId": "b9bf256e-8659-486f-f74f-781fc7d0d9fd"
      },
      "execution_count": null,
      "outputs": [
        {
          "output_type": "stream",
          "name": "stdout",
          "text": [
            "\u001b[33mcommit 99fd56e6628bb154a64b8171f8f3af2be2f96c6e\u001b[m\n",
            "Author: Trinity <trinity@eventplannerz.com>\n",
            "Date:   Mon Jul 5 14:01:36 2021 -0400\n",
            "\n",
            "    add first draft of appetizer and drink menus\n",
            "\n",
            "\u001b[1mdiff --git a/drinks.md b/drinks.md\u001b[m\n",
            "\u001b[1mnew file mode 100644\u001b[m\n",
            "\u001b[1mindex 0000000..0fcee53\u001b[m\n",
            "\u001b[1m--- /dev/null\u001b[m\n",
            "\u001b[1m+++ b/drinks.md\u001b[m\n",
            "\u001b[36m@@ -0,0 +1,8 @@\u001b[m\n",
            "\u001b[32m+\u001b[m\u001b[32m# Gitanjali and Aref Reception: Signature Drinks\u001b[m\n",
            "\u001b[32m+\u001b[m\n",
            "\u001b[32m+\u001b[m\u001b[32m* The Manhattan Merge:\u001b[m\u001b[41m \u001b[m\n",
            "\u001b[32m+\u001b[m\u001b[32m  Two become one in this updated take on a classic bourbon-vermouth cocktail\u001b[m\n",
            "\u001b[32m+\u001b[m\u001b[32m* The Git Gimlet:\u001b[m\u001b[41m \u001b[m\n",
            "\u001b[32m+\u001b[m\u001b[32m  Gitanjali’s favorite drink, with refreshing lime and juniper notes\u001b[m\u001b[41m \u001b[m\n",
            "\u001b[32m+\u001b[m\u001b[32m* The Git Log Cabin:\u001b[m\u001b[41m \u001b[m\n",
            "\u001b[32m+\u001b[m\u001b[32m  Apple brandy and maple syrup will take you on an autumn trip through our favorite couple’s history\u001b[m\u001b[41m \u001b[m\n"
          ]
        }
      ]
    },
    {
      "cell_type": "code",
      "source": [
        "!git log -S classic -p --word-diff --oneline"
      ],
      "metadata": {
        "colab": {
          "base_uri": "https://localhost:8080/"
        },
        "id": "UhrgZMoIIY3-",
        "outputId": "7a2a5ba4-5174-40ca-cbf9-6f6fb005ab40"
      },
      "execution_count": null,
      "outputs": [
        {
          "output_type": "stream",
          "name": "stdout",
          "text": [
            "\u001b[33m99fd56e\u001b[m add first draft of appetizer and drink menus\n",
            "\u001b[1mdiff --git a/drinks.md b/drinks.md\u001b[m\n",
            "\u001b[1mnew file mode 100644\u001b[m\n",
            "\u001b[1mindex 0000000..0fcee53\u001b[m\n",
            "\u001b[1m--- /dev/null\u001b[m\n",
            "\u001b[1m+++ b/drinks.md\u001b[m\n",
            "\u001b[36m@@ -0,0 +1,8 @@\u001b[m\n",
            "\u001b[32m{+# Gitanjali and Aref Reception: Signature Drinks+}\u001b[m\n",
            "\n",
            "\u001b[32m{+* The Manhattan Merge: +}\u001b[m\n",
            "\u001b[32m{+  Two become one in this updated take on a classic bourbon-vermouth cocktail+}\u001b[m\n",
            "\u001b[32m{+* The Git Gimlet: +}\u001b[m\n",
            "\u001b[32m{+  Gitanjali’s favorite drink, with refreshing lime and juniper notes +}\u001b[m\n",
            "\u001b[32m{+* The Git Log Cabin: +}\u001b[m\n",
            "\u001b[32m{+  Apple brandy and maple syrup will take you on an autumn trip through our favorite couple’s history+}\u001b[m \n"
          ]
        }
      ]
    },
    {
      "cell_type": "code",
      "source": [
        "!git log -S walnut -p --word-diff --oneline"
      ],
      "metadata": {
        "colab": {
          "base_uri": "https://localhost:8080/"
        },
        "id": "ORJ5qu20JWYM",
        "outputId": "b2eaa8f0-c60b-43d4-f8ef-6027faec5dd7"
      },
      "execution_count": null,
      "outputs": [
        {
          "output_type": "stream",
          "name": "stdout",
          "text": [
            "\u001b[33me9beff3\u001b[m remove nuts from all items due to allergy concerns\n",
            "\u001b[1mdiff --git a/dinner.md b/dinner.md\u001b[m\n",
            "\u001b[1mindex 64c1f6e..df5fde0 100644\u001b[m\n",
            "\u001b[1m--- a/dinner.md\u001b[m\n",
            "\u001b[1m+++ b/dinner.md\u001b[m\n",
            "\u001b[36m@@ -10,7 +10,7 @@\u001b[m\n",
            "\n",
            "## Second course\u001b[m\n",
            "\n",
            "* Baked kabocha squash with \u001b[31m[-sunflower-walnut-]\u001b[m\u001b[32m{+herbed ciabatta+}\u001b[m stuffing served with roasted cauliflower and potatoes\n",
            "\n",
            "**or**\u001b[m\n",
            "\n",
            "\u001b[36m@@ -22,4 +22,4 @@\u001b[m\n",
            "\n",
            "**or**\u001b[m\n",
            "\n",
            "* \u001b[31m[-Almond-raspberry-]\u001b[m\u001b[32m{+Raspberry+}\u001b[m tart\n",
            "\u001b[33mb6c8c82\u001b[m replace meat dishes with vegetarian items\n",
            "\u001b[1mdiff --git a/dinner.md b/dinner.md\u001b[m\n",
            "\u001b[1mindex 10d16ca..64c1f6e 100644\u001b[m\n",
            "\u001b[1m--- a/dinner.md\u001b[m\n",
            "\u001b[1m+++ b/dinner.md\u001b[m\n",
            "\u001b[36m@@ -10,11 +10,11 @@\u001b[m\n",
            "\n",
            "## Second course\u001b[m\n",
            "\n",
            "* Baked \u001b[31m[-Scottish salmon-]\u001b[m\u001b[32m{+kabocha squash+}\u001b[m with \u001b[31m[-garlic crumb topping,-]\u001b[m\u001b[32m{+sunflower-walnut stuffing+}\u001b[m served with roasted cauliflower and potatoes\n",
            "\n",
            "**or**\u001b[m\n",
            "\n",
            "* \u001b[31m[-Beef tenderloin-]\u001b[m\u001b[32m{+Rigatoni pasta+}\u001b[m with \u001b[31m[-horseradish-]\u001b[m\u001b[32m{+marinara+}\u001b[m sauce, served with \u001b[31m[-a loaded baked potato-]\u001b[m\u001b[32m{+garlic bread+}\u001b[m and green beans \n",
            "\n",
            "## Dessert\u001b[m\n",
            "\n"
          ]
        }
      ]
    },
    {
      "cell_type": "markdown",
      "source": [
        "# -G\n",
        "\n",
        "searches diffs\n",
        "\n",
        "can use regular expressions"
      ],
      "metadata": {
        "id": "BxYDFxWdJ9J4"
      }
    },
    {
      "cell_type": "code",
      "source": [
        "!git log -G classic -p --word-diff"
      ],
      "metadata": {
        "colab": {
          "base_uri": "https://localhost:8080/"
        },
        "id": "o13_vhaKJinD",
        "outputId": "1de0f361-5450-4d57-dcd6-ec7bb436dc7b"
      },
      "execution_count": null,
      "outputs": [
        {
          "output_type": "stream",
          "name": "stdout",
          "text": [
            "\u001b[33mcommit c3668177ee381e0e58c25447b6c36d8eee23b8fe\u001b[m\n",
            "Author: Trinity <trinity@eventplannerz.com>\n",
            "Date:   Tue Jul 20 05:20:02 2021 -0400\n",
            "\n",
            "    remove Git puns and make drinks more seasonal\n",
            "\n",
            "\u001b[1mdiff --git a/drinks.md b/drinks.md\u001b[m\n",
            "\u001b[1mindex 0fcee53..93c7e91 100644\u001b[m\n",
            "\u001b[1m--- a/drinks.md\u001b[m\n",
            "\u001b[1m+++ b/drinks.md\u001b[m\n",
            "\u001b[36m@@ -1,8 +1,8 @@\u001b[m\n",
            "# Gitanjali and Aref Reception: Signature Drinks\u001b[m\n",
            "\n",
            "* \u001b[31m[-The Manhattan Merge: -]\u001b[m\n",
            "\u001b[31m[-  Two become one-]\u001b[m\u001b[32m{+Autumn+}\u001b[m in \u001b[31m[-this updated take on-]\u001b[m\u001b[32m{+Manhattan: +}\u001b[m\n",
            "\u001b[32m{+  Pumpkin-spice bitters give+}\u001b[m a \u001b[32m{+fall feeling to this+}\u001b[m classic bourbon-vermouth cocktail \n",
            "* \u001b[31m[-The Git Gimlet: -]\u001b[m\n",
            "\u001b[31m[-  Gitanjali’s favorite drink,-]\u001b[m\u001b[32m{+Orchard Mimosa: +}\u001b[m\n",
            "\u001b[32m{+  Champagne meets apple cider, garnished+}\u001b[m with \u001b[31m[-refreshing lime and juniper notes-]\u001b[m\u001b[32m{+a cinnamon-sugar rim+}\u001b[m\n",
            "* The\u001b[31m[-Git-]\u001b[m Log Cabin: \n",
            "  Apple brandy and maple syrup will take you on an autumn trip through our favorite couple’s history\n",
            "\n",
            "\u001b[33mcommit 99fd56e6628bb154a64b8171f8f3af2be2f96c6e\u001b[m\n",
            "Author: Trinity <trinity@eventplannerz.com>\n",
            "Date:   Mon Jul 5 14:01:36 2021 -0400\n",
            "\n",
            "    add first draft of appetizer and drink menus\n",
            "\n",
            "\u001b[1mdiff --git a/drinks.md b/drinks.md\u001b[m\n",
            "\u001b[1mnew file mode 100644\u001b[m\n",
            "\u001b[1mindex 0000000..0fcee53\u001b[m\n",
            "\u001b[1m--- /dev/null\u001b[m\n",
            "\u001b[1m+++ b/drinks.md\u001b[m\n",
            "\u001b[36m@@ -0,0 +1,8 @@\u001b[m\n",
            "\u001b[32m{+# Gitanjali and Aref Reception: Signature Drinks+}\u001b[m\n",
            "\n",
            "\u001b[32m{+* The Manhattan Merge: +}\u001b[m\n",
            "\u001b[32m{+  Two become one in this updated take on a classic bourbon-vermouth cocktail+}\u001b[m\n",
            "\u001b[32m{+* The Git Gimlet: +}\u001b[m\n",
            "\u001b[32m{+  Gitanjali’s favorite drink, with refreshing lime and juniper notes +}\u001b[m\n",
            "\u001b[32m{+* The Git Log Cabin: +}\u001b[m\n",
            "\u001b[32m{+  Apple brandy and maple syrup will take you on an autumn trip through our favorite couple’s history+}\u001b[m \n"
          ]
        }
      ]
    },
    {
      "cell_type": "code",
      "source": [
        "!git log -S classic -p --word-diff"
      ],
      "metadata": {
        "colab": {
          "base_uri": "https://localhost:8080/"
        },
        "id": "FS-wx_IbKI9T",
        "outputId": "ef41f2ce-820a-4e0a-852e-e5610d13a6ca"
      },
      "execution_count": null,
      "outputs": [
        {
          "output_type": "stream",
          "name": "stdout",
          "text": [
            "\u001b[33mcommit 99fd56e6628bb154a64b8171f8f3af2be2f96c6e\u001b[m\n",
            "Author: Trinity <trinity@eventplannerz.com>\n",
            "Date:   Mon Jul 5 14:01:36 2021 -0400\n",
            "\n",
            "    add first draft of appetizer and drink menus\n",
            "\n",
            "\u001b[1mdiff --git a/drinks.md b/drinks.md\u001b[m\n",
            "\u001b[1mnew file mode 100644\u001b[m\n",
            "\u001b[1mindex 0000000..0fcee53\u001b[m\n",
            "\u001b[1m--- /dev/null\u001b[m\n",
            "\u001b[1m+++ b/drinks.md\u001b[m\n",
            "\u001b[36m@@ -0,0 +1,8 @@\u001b[m\n",
            "\u001b[32m{+# Gitanjali and Aref Reception: Signature Drinks+}\u001b[m\n",
            "\n",
            "\u001b[32m{+* The Manhattan Merge: +}\u001b[m\n",
            "\u001b[32m{+  Two become one in this updated take on a classic bourbon-vermouth cocktail+}\u001b[m\n",
            "\u001b[32m{+* The Git Gimlet: +}\u001b[m\n",
            "\u001b[32m{+  Gitanjali’s favorite drink, with refreshing lime and juniper notes +}\u001b[m\n",
            "\u001b[32m{+* The Git Log Cabin: +}\u001b[m\n",
            "\u001b[32m{+  Apple brandy and maple syrup will take you on an autumn trip through our favorite couple’s history+}\u001b[m \n"
          ]
        }
      ]
    },
    {
      "cell_type": "markdown",
      "source": [
        "# Searching commit messages\n",
        "\n",
        "--grep"
      ],
      "metadata": {
        "id": "u5RD6MlBKc-J"
      }
    },
    {
      "cell_type": "code",
      "source": [
        "!git log --grep \"first draft\""
      ],
      "metadata": {
        "colab": {
          "base_uri": "https://localhost:8080/"
        },
        "id": "7cZHGnYTKNSj",
        "outputId": "ce3c7198-9b32-43b3-ccaa-d3808f1ef6fc"
      },
      "execution_count": null,
      "outputs": [
        {
          "output_type": "stream",
          "name": "stdout",
          "text": [
            "\u001b[33mcommit d36c9830823a17c42025713dcbc3bc29bbb4ce36\u001b[m\n",
            "Author: Trinity <trinity@eventplannerz.com>\n",
            "Date:   Sat Jul 10 12:38:23 2021 -0400\n",
            "\n",
            "    add \u001b[1;31mfirst draft\u001b[m of dinner menu\n",
            "\n",
            "\u001b[33mcommit 99fd56e6628bb154a64b8171f8f3af2be2f96c6e\u001b[m\n",
            "Author: Trinity <trinity@eventplannerz.com>\n",
            "Date:   Mon Jul 5 14:01:36 2021 -0400\n",
            "\n",
            "    add \u001b[1;31mfirst draft\u001b[m of appetizer and drink menus\n"
          ]
        }
      ]
    },
    {
      "cell_type": "code",
      "source": [
        "!git log --grep \"menu\""
      ],
      "metadata": {
        "colab": {
          "base_uri": "https://localhost:8080/"
        },
        "id": "g4kFwsjqK9w1",
        "outputId": "12e6f404-fdaa-410e-d9b1-efc5441dfd86"
      },
      "execution_count": null,
      "outputs": [
        {
          "output_type": "stream",
          "name": "stdout",
          "text": [
            "\u001b[33mcommit d36c9830823a17c42025713dcbc3bc29bbb4ce36\u001b[m\n",
            "Author: Trinity <trinity@eventplannerz.com>\n",
            "Date:   Sat Jul 10 12:38:23 2021 -0400\n",
            "\n",
            "    add first draft of dinner \u001b[1;31mmenu\u001b[m\n",
            "\n",
            "\u001b[33mcommit 99fd56e6628bb154a64b8171f8f3af2be2f96c6e\u001b[m\n",
            "Author: Trinity <trinity@eventplannerz.com>\n",
            "Date:   Mon Jul 5 14:01:36 2021 -0400\n",
            "\n",
            "    add first draft of appetizer and drink \u001b[1;31mmenu\u001b[ms\n"
          ]
        }
      ]
    },
    {
      "cell_type": "markdown",
      "source": [
        "# Checking out a commit"
      ],
      "metadata": {
        "id": "ivZ1BHGVLtvJ"
      }
    },
    {
      "cell_type": "code",
      "source": [
        "!git log --grep \"draft of appetizer\""
      ],
      "metadata": {
        "colab": {
          "base_uri": "https://localhost:8080/"
        },
        "id": "kz-z-YSqLB0z",
        "outputId": "bf471b35-3592-4245-8b56-7d60db098fd7"
      },
      "execution_count": null,
      "outputs": [
        {
          "output_type": "stream",
          "name": "stdout",
          "text": [
            "\u001b[33mcommit 99fd56e6628bb154a64b8171f8f3af2be2f96c6e\u001b[m\n",
            "Author: Trinity <trinity@eventplannerz.com>\n",
            "Date:   Mon Jul 5 14:01:36 2021 -0400\n",
            "\n",
            "    add first \u001b[1;31mdraft of appetizer\u001b[m and drink menus\n"
          ]
        }
      ]
    },
    {
      "cell_type": "code",
      "source": [
        "!git log --grep \"draft of appetizer\" -p --word-diff"
      ],
      "metadata": {
        "colab": {
          "base_uri": "https://localhost:8080/"
        },
        "id": "hl-dMDADLz2_",
        "outputId": "be51f905-698b-459f-9526-f0960ef95460"
      },
      "execution_count": null,
      "outputs": [
        {
          "output_type": "stream",
          "name": "stdout",
          "text": [
            "\u001b[33mcommit 99fd56e6628bb154a64b8171f8f3af2be2f96c6e\u001b[m\n",
            "Author: Trinity <trinity@eventplannerz.com>\n",
            "Date:   Mon Jul 5 14:01:36 2021 -0400\n",
            "\n",
            "    add first \u001b[1;31mdraft of appetizer\u001b[m and drink menus\n",
            "\n",
            "\u001b[1mdiff --git a/appetizers.md b/appetizers.md\u001b[m\n",
            "\u001b[1mnew file mode 100644\u001b[m\n",
            "\u001b[1mindex 0000000..ceeaf08\u001b[m\n",
            "\u001b[1m--- /dev/null\u001b[m\n",
            "\u001b[1m+++ b/appetizers.md\u001b[m\n",
            "\u001b[36m@@ -0,0 +1,5 @@\u001b[m\n",
            "\u001b[32m{+# Gitanjali and Aref Reception: Appetizers+}\u001b[m\n",
            "\n",
            "\u001b[32m{+* Herb-sprinkled stuffed mushrooms+}\u001b[m\n",
            "\u001b[32m{+* Blinis with salmon, caviar, and crème fraiche+}\u001b[m\n",
            "\u001b[32m{+* Mini roast-beef sandwiches+}\u001b[m\n",
            "\u001b[1mdiff --git a/drinks.md b/drinks.md\u001b[m\n",
            "\u001b[1mnew file mode 100644\u001b[m\n",
            "\u001b[1mindex 0000000..0fcee53\u001b[m\n",
            "\u001b[1m--- /dev/null\u001b[m\n",
            "\u001b[1m+++ b/drinks.md\u001b[m\n",
            "\u001b[36m@@ -0,0 +1,8 @@\u001b[m\n",
            "\u001b[32m{+# Gitanjali and Aref Reception: Signature Drinks+}\u001b[m\n",
            "\n",
            "\u001b[32m{+* The Manhattan Merge: +}\u001b[m\n",
            "\u001b[32m{+  Two become one in this updated take on a classic bourbon-vermouth cocktail+}\u001b[m\n",
            "\u001b[32m{+* The Git Gimlet: +}\u001b[m\n",
            "\u001b[32m{+  Gitanjali’s favorite drink, with refreshing lime and juniper notes +}\u001b[m\n",
            "\u001b[32m{+* The Git Log Cabin: +}\u001b[m\n",
            "\u001b[32m{+  Apple brandy and maple syrup will take you on an autumn trip through our favorite couple’s history+}\u001b[m \n"
          ]
        }
      ]
    },
    {
      "cell_type": "code",
      "source": [
        "!git checkout 99fd56e6628bb154a64b8171f8f3af2be2f96c6e"
      ],
      "metadata": {
        "colab": {
          "base_uri": "https://localhost:8080/"
        },
        "id": "6Y8t9DOnL4fd",
        "outputId": "32403751-9e72-4655-fb7b-b0474c4ec364"
      },
      "execution_count": null,
      "outputs": [
        {
          "output_type": "stream",
          "name": "stdout",
          "text": [
            "Note: switching to '99fd56e6628bb154a64b8171f8f3af2be2f96c6e'.\n",
            "\n",
            "You are in 'detached HEAD' state. You can look around, make experimental\n",
            "changes and commit them, and you can discard any commits you make in this\n",
            "state without impacting any branches by switching back to a branch.\n",
            "\n",
            "If you want to create a new branch to retain commits you create, you may\n",
            "do so (now or later) by using -c with the switch command. Example:\n",
            "\n",
            "  git switch -c <new-branch-name>\n",
            "\n",
            "Or undo this operation with:\n",
            "\n",
            "  git switch -\n",
            "\n",
            "Turn off this advice by setting config variable advice.detachedHead to false\n",
            "\n",
            "HEAD is now at 99fd56e add first draft of appetizer and drink menus\n"
          ]
        }
      ]
    },
    {
      "cell_type": "markdown",
      "source": [
        "# Binary Search"
      ],
      "metadata": {
        "id": "dki89ydyf1ax"
      }
    },
    {
      "cell_type": "markdown",
      "source": [
        "## General method"
      ],
      "metadata": {
        "id": "ThUBTt4rf3B7"
      }
    },
    {
      "cell_type": "code",
      "source": [
        "import random\n",
        "\n",
        "def binary_search(target, lst):\n",
        "  if len(lst) == 1:\n",
        "    if target == lst[0]:\n",
        "      return target\n",
        "    return \"Not Found\"\n",
        "  half = len(lst) // 2\n",
        "  if lst[half] > target:\n",
        "    return binary_search(target, lst[:half])\n",
        "  elif lst[half] == target:\n",
        "    return target\n",
        "  else:\n",
        "    return binary_search(target, lst[half+1:])"
      ],
      "metadata": {
        "id": "A7G79QovMN9J"
      },
      "execution_count": null,
      "outputs": []
    },
    {
      "cell_type": "code",
      "source": [
        "lst = sorted(random.randint(0,50) for i in range(40))"
      ],
      "metadata": {
        "id": "HQFBxBp6gwOY"
      },
      "execution_count": null,
      "outputs": []
    },
    {
      "cell_type": "code",
      "source": [
        "binary_search(6, lst)"
      ],
      "metadata": {
        "colab": {
          "base_uri": "https://localhost:8080/"
        },
        "id": "R2qrG43jg1VA",
        "outputId": "445e7196-93cc-4bf6-ab84-4d4cbb483a0d"
      },
      "execution_count": null,
      "outputs": [
        {
          "output_type": "execute_result",
          "data": {
            "text/plain": [
              "6"
            ]
          },
          "metadata": {},
          "execution_count": 35
        }
      ]
    },
    {
      "cell_type": "code",
      "source": [
        "binary_search(41, lst)"
      ],
      "metadata": {
        "colab": {
          "base_uri": "https://localhost:8080/",
          "height": 38
        },
        "id": "Z9xWDjJ1g8qN",
        "outputId": "e20b9adb-ca00-4b2f-f2ef-15fc9d4af91b"
      },
      "execution_count": null,
      "outputs": [
        {
          "output_type": "execute_result",
          "data": {
            "text/plain": [
              "'Not Found'"
            ],
            "application/vnd.google.colaboratory.intrinsic+json": {
              "type": "string"
            }
          },
          "metadata": {},
          "execution_count": 36
        }
      ]
    },
    {
      "cell_type": "markdown",
      "source": [
        "# git bisect"
      ],
      "metadata": {
        "id": "_gnlDgqiiyTn"
      }
    },
    {
      "cell_type": "code",
      "source": [
        "!git switch master"
      ],
      "metadata": {
        "colab": {
          "base_uri": "https://localhost:8080/"
        },
        "id": "d-aim--tg1zD",
        "outputId": "f1308017-9e34-43e9-bdcd-40e01ba77dbd"
      },
      "execution_count": null,
      "outputs": [
        {
          "output_type": "stream",
          "name": "stdout",
          "text": [
            "Previous HEAD position was 99fd56e add first draft of appetizer and drink menus\n",
            "Switched to branch 'master'\n",
            "Your branch is up to date with 'origin/master'.\n"
          ]
        }
      ]
    },
    {
      "cell_type": "code",
      "source": [
        "!git status"
      ],
      "metadata": {
        "colab": {
          "base_uri": "https://localhost:8080/"
        },
        "id": "hjaGxjEri1DF",
        "outputId": "475ca60d-9873-49dd-8810-7233f40c7869"
      },
      "execution_count": null,
      "outputs": [
        {
          "output_type": "stream",
          "name": "stdout",
          "text": [
            "On branch master\n",
            "Your branch is up to date with 'origin/master'.\n",
            "\n",
            "nothing to commit, working tree clean\n"
          ]
        }
      ]
    },
    {
      "cell_type": "code",
      "source": [
        "!ls"
      ],
      "metadata": {
        "colab": {
          "base_uri": "https://localhost:8080/"
        },
        "id": "MsEMRHhli-_H",
        "outputId": "e6664c6d-233a-4d14-e854-7482ca010547"
      },
      "execution_count": null,
      "outputs": [
        {
          "output_type": "stream",
          "name": "stdout",
          "text": [
            "appetizers.md  dinner.md  drinks.md  README.md\n"
          ]
        }
      ]
    },
    {
      "cell_type": "code",
      "source": [
        "# Begin bisect session\n",
        "!git bisect start"
      ],
      "metadata": {
        "id": "l030ydXfjK_P"
      },
      "execution_count": null,
      "outputs": []
    },
    {
      "cell_type": "code",
      "source": [
        "# Set the current commit to be bad (where a typo is)\n",
        "!git bisect bad"
      ],
      "metadata": {
        "id": "SepVm7BGjA84"
      },
      "execution_count": null,
      "outputs": []
    },
    {
      "cell_type": "code",
      "source": [
        "# Set the good commit to be a commit where the typo didn't exist\n",
        "!git bisect good 6b11ec8"
      ],
      "metadata": {
        "colab": {
          "base_uri": "https://localhost:8080/"
        },
        "id": "8ggYYYNzjH_g",
        "outputId": "a0e2bbe7-281a-415a-d6b5-744d945f5860"
      },
      "execution_count": null,
      "outputs": [
        {
          "output_type": "stream",
          "name": "stdout",
          "text": [
            "Bisecting: 3 revisions left to test after this (roughly 2 steps)\n",
            "[b6c8c826ed98583a175ea4616ba9aad48ec0b1ad] replace meat dishes with vegetarian items\n"
          ]
        }
      ]
    },
    {
      "cell_type": "code",
      "source": [
        "!cat appetizers.md"
      ],
      "metadata": {
        "colab": {
          "base_uri": "https://localhost:8080/"
        },
        "id": "A4nBbU7ejVdI",
        "outputId": "be4f5a02-da07-43ac-dd81-252cfe0b8781"
      },
      "execution_count": null,
      "outputs": [
        {
          "output_type": "stream",
          "name": "stdout",
          "text": [
            "# Gitanjali and Aref Reception: Appetizers\n",
            "\n",
            "* Herb-sprinkled stuffed mushrooms\n",
            "* Blinnis with spiced fruit and nut chutney\n",
            "* Mini grilled cheese sandwiches\n"
          ]
        }
      ]
    },
    {
      "cell_type": "code",
      "source": [
        "# still a typo so we set the current commit to the bad\n",
        "!git bisect bad"
      ],
      "metadata": {
        "colab": {
          "base_uri": "https://localhost:8080/"
        },
        "id": "4vSdV1a8jZgS",
        "outputId": "ad4de460-4df0-4774-a521-3d84e3638d54"
      },
      "execution_count": null,
      "outputs": [
        {
          "output_type": "stream",
          "name": "stdout",
          "text": [
            "Bisecting: 0 revisions left to test after this (roughly 1 step)\n",
            "[d36c9830823a17c42025713dcbc3bc29bbb4ce36] add first draft of dinner menu\n"
          ]
        }
      ]
    },
    {
      "cell_type": "code",
      "source": [
        "!cat appetizers.md"
      ],
      "metadata": {
        "colab": {
          "base_uri": "https://localhost:8080/"
        },
        "id": "aSSwkbyejhD6",
        "outputId": "590d9774-b255-433e-96f5-6b4a7eb18124"
      },
      "execution_count": null,
      "outputs": [
        {
          "output_type": "stream",
          "name": "stdout",
          "text": [
            "# Gitanjali and Aref Reception: Appetizers\n",
            "\n",
            "* Herb-sprinkled stuffed mushrooms\n",
            "* Blinis with salmon, caviar, and crème fraiche\n",
            "* Mini roast-beef sandwiches\n"
          ]
        }
      ]
    },
    {
      "cell_type": "code",
      "source": [
        "# The typo is gone so we set this one to good\n",
        "!git bisect good"
      ],
      "metadata": {
        "colab": {
          "base_uri": "https://localhost:8080/"
        },
        "id": "CqNvT1eAjjWR",
        "outputId": "57fcd708-bec2-4075-90e0-e0eb6853bc1f"
      },
      "execution_count": null,
      "outputs": [
        {
          "output_type": "stream",
          "name": "stdout",
          "text": [
            "b6c8c826ed98583a175ea4616ba9aad48ec0b1ad is the first bad commit\n",
            "\u001b[33mcommit b6c8c826ed98583a175ea4616ba9aad48ec0b1ad\u001b[m\n",
            "Author: Armstrong <armstrong@eventplannerz.com>\n",
            "Date:   Tue Jul 13 04:25:01 2021 -0400\n",
            "\n",
            "    replace meat dishes with vegetarian items\n",
            "\n",
            " appetizers.md | 4 \u001b[32m++\u001b[m\u001b[31m--\u001b[m\n",
            " dinner.md     | 4 \u001b[32m++\u001b[m\u001b[31m--\u001b[m\n",
            " 2 files changed, 4 insertions(+), 4 deletions(-)\n"
          ]
        }
      ]
    }
  ]
}