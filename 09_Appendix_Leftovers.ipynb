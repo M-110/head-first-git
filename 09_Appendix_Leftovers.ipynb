{
  "nbformat": 4,
  "nbformat_minor": 0,
  "metadata": {
    "colab": {
      "name": "09_Appendix_Leftovers.ipynb",
      "provenance": [],
      "collapsed_sections": [],
      "authorship_tag": "ABX9TyNWPEIQOIUl+hTQ1xDqNkth",
      "include_colab_link": true
    },
    "kernelspec": {
      "name": "python3",
      "display_name": "Python 3"
    },
    "language_info": {
      "name": "python"
    }
  },
  "cells": [
    {
      "cell_type": "markdown",
      "metadata": {
        "id": "view-in-github",
        "colab_type": "text"
      },
      "source": [
        "<a href=\"https://colab.research.google.com/github/M-110/head-first-git/blob/main/09_Appendix_Leftovers.ipynb\" target=\"_parent\"><img src=\"https://colab.research.google.com/assets/colab-badge.svg\" alt=\"Open In Colab\"/></a>"
      ]
    },
    {
      "cell_type": "code",
      "source": [
        "!mkdir stuff\n",
        "%cd stuff\n",
        "!git init"
      ],
      "metadata": {
        "colab": {
          "base_uri": "https://localhost:8080/"
        },
        "id": "0e4TWz0htvhn",
        "outputId": "fa91269b-34a1-4d6e-adf6-a37a4393b66c"
      },
      "execution_count": null,
      "outputs": [
        {
          "output_type": "stream",
          "name": "stdout",
          "text": [
            "/content/stuff\n",
            "Initialized empty Git repository in /content/stuff/.git/\n"
          ]
        }
      ]
    },
    {
      "cell_type": "code",
      "source": [
        "!git config --global user.email \"you@example.com\"\n",
        "!git config --global user.name \"Your Name\""
      ],
      "metadata": {
        "id": "Uz2UXGkXt7tv"
      },
      "execution_count": null,
      "outputs": []
    },
    {
      "cell_type": "code",
      "source": [
        "!touch hello.txt\n",
        "!git add .\n",
        "!git commit -m \"feat: add hello.txt file\""
      ],
      "metadata": {
        "colab": {
          "base_uri": "https://localhost:8080/"
        },
        "id": "9QK6ed90uB3H",
        "outputId": "88c2ed9a-ea98-4f10-bf67-5927a41dc537"
      },
      "execution_count": null,
      "outputs": [
        {
          "output_type": "stream",
          "name": "stdout",
          "text": [
            "[master (root-commit) 41d58cb] feat: add hello.txt file\n",
            " 1 file changed, 0 insertions(+), 0 deletions(-)\n",
            " create mode 100644 hello.txt\n"
          ]
        }
      ]
    },
    {
      "cell_type": "markdown",
      "source": [
        "# Tags\n",
        "\n",
        "Tags are useful ways to name a commit so you can find it easily\n",
        "\n",
        "by default tag will refer to the current ID (Where HEAD refers to)"
      ],
      "metadata": {
        "id": "RH8ZAyCFs77Y"
      }
    },
    {
      "cell_type": "code",
      "execution_count": null,
      "metadata": {
        "id": "MuKJJa1ns0g4"
      },
      "outputs": [],
      "source": [
        "!git tag v1.0.0"
      ]
    },
    {
      "cell_type": "code",
      "source": [
        "!git tag --list"
      ],
      "metadata": {
        "colab": {
          "base_uri": "https://localhost:8080/"
        },
        "id": "Mdh8exact50g",
        "outputId": "cedc4d9f-9240-4888-8c22-103ef9ad91f4"
      },
      "execution_count": null,
      "outputs": [
        {
          "output_type": "stream",
          "name": "stdout",
          "text": [
            "v1.0.0\n"
          ]
        }
      ]
    },
    {
      "cell_type": "code",
      "source": [
        "!git log --all --oneline --graph"
      ],
      "metadata": {
        "colab": {
          "base_uri": "https://localhost:8080/"
        },
        "id": "DPRK8Y_kuLRv",
        "outputId": "e8d18382-4357-4f25-f0e4-832c56e67ef0"
      },
      "execution_count": null,
      "outputs": [
        {
          "output_type": "stream",
          "name": "stdout",
          "text": [
            "* \u001b[33m41d58cb\u001b[m\u001b[33m (\u001b[m\u001b[1;36mHEAD -> \u001b[m\u001b[1;32mmaster\u001b[m\u001b[33m, \u001b[m\u001b[1;33mtag: v1.0.0\u001b[m\u001b[33m)\u001b[m feat: add hello.txt file\n"
          ]
        }
      ]
    },
    {
      "cell_type": "code",
      "source": [
        "!touch hello2.txt\n",
        "!git add .\n",
        "!git commit -m \"feat: add hello2.txt\""
      ],
      "metadata": {
        "colab": {
          "base_uri": "https://localhost:8080/"
        },
        "id": "gNXukyU5uQyO",
        "outputId": "fa52bf40-e4b8-4c14-fa68-02ded07cc047"
      },
      "execution_count": null,
      "outputs": [
        {
          "output_type": "stream",
          "name": "stdout",
          "text": [
            "[master f08bed5] feat: add hello2.txt\n",
            " 1 file changed, 0 insertions(+), 0 deletions(-)\n",
            " create mode 100644 hello2.txt\n"
          ]
        }
      ]
    },
    {
      "cell_type": "code",
      "source": [
        "!git log --all --oneline --graph"
      ],
      "metadata": {
        "colab": {
          "base_uri": "https://localhost:8080/"
        },
        "id": "1ywcZNksuYJ7",
        "outputId": "9cedc504-f06d-4e18-fbf0-368c2866eb5d"
      },
      "execution_count": null,
      "outputs": [
        {
          "output_type": "stream",
          "name": "stdout",
          "text": [
            "* \u001b[33mf08bed5\u001b[m\u001b[33m (\u001b[m\u001b[1;36mHEAD -> \u001b[m\u001b[1;32mmaster\u001b[m\u001b[33m)\u001b[m feat: add hello2.txt\n",
            "* \u001b[33m41d58cb\u001b[m\u001b[33m (\u001b[m\u001b[1;33mtag: v1.0.0\u001b[m\u001b[33m)\u001b[m feat: add hello.txt file\n"
          ]
        }
      ]
    },
    {
      "cell_type": "markdown",
      "source": [
        "# Cherry-pick (Copying commits)\n",
        "\n",
        "allows you to copy a commit from another branch"
      ],
      "metadata": {
        "id": "8dEwXdHwuiEh"
      }
    },
    {
      "cell_type": "markdown",
      "source": [
        "# Stashes (pseudo-commits)\n",
        "\n",
        "If you make changes but you're on the wrong branch and want to switch without losing everything\n",
        "\n",
        "Stash allows you to store your changes as a commit"
      ],
      "metadata": {
        "id": "BK10AbHhvCjV"
      }
    },
    {
      "cell_type": "code",
      "source": [
        "!git branch a\n",
        "!git branch b"
      ],
      "metadata": {
        "id": "OZ0ID2EVuZCj"
      },
      "execution_count": null,
      "outputs": []
    },
    {
      "cell_type": "code",
      "source": [
        "!git checkout a"
      ],
      "metadata": {
        "colab": {
          "base_uri": "https://localhost:8080/"
        },
        "id": "XYgt9Ua2vXiM",
        "outputId": "0ebe7da3-cf86-4c30-af7d-0cf32e124975"
      },
      "execution_count": null,
      "outputs": [
        {
          "output_type": "stream",
          "name": "stdout",
          "text": [
            "Switched to branch 'a'\n"
          ]
        }
      ]
    },
    {
      "cell_type": "code",
      "source": [
        "!touch my_change.txt"
      ],
      "metadata": {
        "id": "EAoZBaRwvYsL"
      },
      "execution_count": null,
      "outputs": []
    },
    {
      "cell_type": "code",
      "source": [
        "!git status"
      ],
      "metadata": {
        "colab": {
          "base_uri": "https://localhost:8080/"
        },
        "id": "s74407EXvovb",
        "outputId": "042e1f87-a902-4e6d-c2e5-785353c52d6a"
      },
      "execution_count": null,
      "outputs": [
        {
          "output_type": "stream",
          "name": "stdout",
          "text": [
            "On branch a\n",
            "Untracked files:\n",
            "  (use \"git add <file>...\" to include in what will be committed)\n",
            "\n",
            "\t\u001b[31mmy_change.txt\u001b[m\n",
            "\n",
            "nothing added to commit but untracked files present (use \"git add\" to track)\n"
          ]
        }
      ]
    },
    {
      "cell_type": "code",
      "source": [
        "!git add ."
      ],
      "metadata": {
        "id": "aQ-_10Zvv3If"
      },
      "execution_count": null,
      "outputs": []
    },
    {
      "cell_type": "code",
      "source": [
        "!git stash "
      ],
      "metadata": {
        "colab": {
          "base_uri": "https://localhost:8080/"
        },
        "id": "31-oA6iwvrqd",
        "outputId": "a9105c78-390d-46b9-f7d7-8e7e97e899b3"
      },
      "execution_count": null,
      "outputs": [
        {
          "output_type": "stream",
          "name": "stdout",
          "text": [
            "Saved working directory and index state WIP on a: f08bed5 feat: add hello2.txt\n"
          ]
        }
      ]
    },
    {
      "cell_type": "code",
      "source": [
        "!git checkout b"
      ],
      "metadata": {
        "colab": {
          "base_uri": "https://localhost:8080/"
        },
        "id": "Qvp9N-fev2MK",
        "outputId": "6effface-9e60-4409-e74c-6f8ddc31b15b"
      },
      "execution_count": null,
      "outputs": [
        {
          "output_type": "stream",
          "name": "stdout",
          "text": [
            "Switched to branch 'b'\n"
          ]
        }
      ]
    },
    {
      "cell_type": "code",
      "source": [
        "!git stash pop --index"
      ],
      "metadata": {
        "colab": {
          "base_uri": "https://localhost:8080/"
        },
        "id": "_z7nqjlIv9un",
        "outputId": "87299689-553e-4417-ba42-f9e7c2660ccd"
      },
      "execution_count": null,
      "outputs": [
        {
          "output_type": "stream",
          "name": "stdout",
          "text": [
            "On branch b\n",
            "Changes to be committed:\n",
            "  (use \"git reset HEAD <file>...\" to unstage)\n",
            "\n",
            "\t\u001b[32mnew file:   my_change.txt\u001b[m\n",
            "\n",
            "Dropped refs/stash@{0} (33e1096485011890fb45eb06cf3ea9eafff49d68)\n"
          ]
        }
      ]
    },
    {
      "cell_type": "code",
      "source": [
        "!git commit -m \"feat: add that which I stashed\""
      ],
      "metadata": {
        "colab": {
          "base_uri": "https://localhost:8080/"
        },
        "id": "08welRwzv_1v",
        "outputId": "8154f284-6d2f-455b-a5d0-4d27ff98e5f5"
      },
      "execution_count": null,
      "outputs": [
        {
          "output_type": "stream",
          "name": "stdout",
          "text": [
            "[b c11ccff] feat: add that which I stashed\n",
            " 1 file changed, 0 insertions(+), 0 deletions(-)\n",
            " create mode 100644 my_change.txt\n"
          ]
        }
      ]
    },
    {
      "cell_type": "code",
      "source": [
        "!ls"
      ],
      "metadata": {
        "colab": {
          "base_uri": "https://localhost:8080/"
        },
        "id": "8FOpZ7pVwMiX",
        "outputId": "1fdbee62-369e-43bd-bd95-4c2db5f73e3c"
      },
      "execution_count": null,
      "outputs": [
        {
          "output_type": "stream",
          "name": "stdout",
          "text": [
            "hello2.txt  hello.txt  my_change.txt\n"
          ]
        }
      ]
    },
    {
      "cell_type": "markdown",
      "source": [
        "# reflog"
      ],
      "metadata": {
        "id": "0Rst5xKewP10"
      }
    },
    {
      "cell_type": "code",
      "source": [
        "!git reflog"
      ],
      "metadata": {
        "colab": {
          "base_uri": "https://localhost:8080/"
        },
        "id": "l1nZKaW3wOSv",
        "outputId": "e11a1519-de20-413d-c7ae-0db1461174fa"
      },
      "execution_count": null,
      "outputs": [
        {
          "output_type": "stream",
          "name": "stdout",
          "text": [
            "\u001b[33mc11ccff\u001b[m\u001b[33m (\u001b[m\u001b[1;36mHEAD -> \u001b[m\u001b[1;32mb\u001b[m\u001b[33m)\u001b[m HEAD@{0}: commit: feat: add that which I stashed\n",
            "\u001b[33mf08bed5\u001b[m\u001b[33m (\u001b[m\u001b[1;32mmaster\u001b[m\u001b[33m, \u001b[m\u001b[1;32ma\u001b[m\u001b[33m)\u001b[m HEAD@{1}: reset: moving to HEAD\n",
            "\u001b[33mf08bed5\u001b[m\u001b[33m (\u001b[m\u001b[1;32mmaster\u001b[m\u001b[33m, \u001b[m\u001b[1;32ma\u001b[m\u001b[33m)\u001b[m HEAD@{2}: checkout: moving from a to b\n",
            "\u001b[33mf08bed5\u001b[m\u001b[33m (\u001b[m\u001b[1;32mmaster\u001b[m\u001b[33m, \u001b[m\u001b[1;32ma\u001b[m\u001b[33m)\u001b[m HEAD@{3}: reset: moving to HEAD\n",
            "\u001b[33mf08bed5\u001b[m\u001b[33m (\u001b[m\u001b[1;32mmaster\u001b[m\u001b[33m, \u001b[m\u001b[1;32ma\u001b[m\u001b[33m)\u001b[m HEAD@{4}: checkout: moving from master to a\n",
            "\u001b[33mf08bed5\u001b[m\u001b[33m (\u001b[m\u001b[1;32mmaster\u001b[m\u001b[33m, \u001b[m\u001b[1;32ma\u001b[m\u001b[33m)\u001b[m HEAD@{5}: commit: feat: add hello2.txt\n",
            "\u001b[33m41d58cb\u001b[m\u001b[33m (\u001b[m\u001b[1;33mtag: v1.0.0\u001b[m\u001b[33m)\u001b[m HEAD@{6}: commit (initial): feat: add hello.txt file\n"
          ]
        }
      ]
    },
    {
      "cell_type": "markdown",
      "source": [
        "# rebase (another way to merge)\n",
        "\n",
        "Add one branch to another. Effectively telling Git to replay all the commits on the current branch on top of the latest commit on another branch"
      ],
      "metadata": {
        "id": "02ALYl1EwgM8"
      }
    }
  ]
}