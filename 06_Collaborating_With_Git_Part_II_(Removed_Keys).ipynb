{
  "nbformat": 4,
  "nbformat_minor": 0,
  "metadata": {
    "colab": {
      "name": "06_Collaborating_With_Git_Part_II (Removed Keys).ipynb",
      "provenance": [],
      "collapsed_sections": [],
      "authorship_tag": "ABX9TyOqLbdJuQhpdjVhq8TNOVXg",
      "include_colab_link": true
    },
    "kernelspec": {
      "name": "python3",
      "display_name": "Python 3"
    },
    "language_info": {
      "name": "python"
    }
  },
  "cells": [
    {
      "cell_type": "markdown",
      "metadata": {
        "id": "view-in-github",
        "colab_type": "text"
      },
      "source": [
        "<a href=\"https://colab.research.google.com/github/M-110/head-first-git/blob/main/06_Collaborating_With_Git_Part_II_(Removed_Keys).ipynb\" target=\"_parent\"><img src=\"https://colab.research.google.com/assets/colab-badge.svg\" alt=\"Open In Colab\"/></a>"
      ]
    },
    {
      "cell_type": "code",
      "source": [
        "!git config --global user.email # REDACTED\n",
        "!git config --global user.name \"M-110\""
      ],
      "metadata": {
        "colab": {
          "base_uri": "https://localhost:8080/"
        },
        "id": "Prr_yNM6xmH_",
        "outputId": "a3f963fd-6a14-41fe-814d-aac01c47ed8d"
      },
      "execution_count": null,
      "outputs": [
        {
          "output_type": "stream",
          "name": "stdout",
          "text": [
            "fatal: not a git repository (or any of the parent directories): .git\n"
          ]
        }
      ]
    },
    {
      "cell_type": "code",
      "execution_count": null,
      "metadata": {
        "colab": {
          "base_uri": "https://localhost:8080/"
        },
        "id": "pUU552yEs4-A",
        "outputId": "79dc9336-a1ee-42bf-c428-99ff8ede45c5"
      },
      "outputs": [
        {
          "output_type": "stream",
          "name": "stdout",
          "text": [
            "\r0% [Working]\r            \rGet:1 https://developer.download.nvidia.com/compute/cuda/repos/ubuntu1804/x86_64  InRelease [1,581 B]\n",
            "Get:2 https://cloud.r-project.org/bin/linux/ubuntu bionic-cran40/ InRelease [3,626 B]\n",
            "Get:3 http://ppa.launchpad.net/c2d4u.team/c2d4u4.0+/ubuntu bionic InRelease [15.9 kB]\n",
            "Hit:4 http://archive.ubuntu.com/ubuntu bionic InRelease\n",
            "Get:5 http://security.ubuntu.com/ubuntu bionic-security InRelease [88.7 kB]\n",
            "Ign:6 https://developer.download.nvidia.com/compute/machine-learning/repos/ubuntu1804/x86_64  InRelease\n",
            "Hit:7 https://developer.download.nvidia.com/compute/machine-learning/repos/ubuntu1804/x86_64  Release\n",
            "Get:8 http://archive.ubuntu.com/ubuntu bionic-updates InRelease [88.7 kB]\n",
            "Get:9 https://developer.download.nvidia.com/compute/cuda/repos/ubuntu1804/x86_64  Packages [787 kB]\n",
            "Hit:10 http://ppa.launchpad.net/cran/libgit2/ubuntu bionic InRelease\n",
            "Get:11 http://archive.ubuntu.com/ubuntu bionic-backports InRelease [74.6 kB]\n",
            "Get:12 http://ppa.launchpad.net/deadsnakes/ppa/ubuntu bionic InRelease [15.9 kB]\n",
            "Get:13 http://ppa.launchpad.net/git-core/ppa/ubuntu bionic InRelease [20.8 kB]\n",
            "Get:14 http://ppa.launchpad.net/graphics-drivers/ppa/ubuntu bionic InRelease [21.3 kB]\n",
            "Get:16 http://ppa.launchpad.net/c2d4u.team/c2d4u4.0+/ubuntu bionic/main Sources [1,962 kB]\n",
            "Get:17 http://security.ubuntu.com/ubuntu bionic-security/restricted amd64 Packages [952 kB]\n",
            "Get:18 http://security.ubuntu.com/ubuntu bionic-security/multiverse amd64 Packages [22.8 kB]\n",
            "Get:19 http://security.ubuntu.com/ubuntu bionic-security/universe amd64 Packages [1,507 kB]\n",
            "Get:20 http://security.ubuntu.com/ubuntu bionic-security/main amd64 Packages [2,789 kB]\n",
            "Get:21 http://ppa.launchpad.net/c2d4u.team/c2d4u4.0+/ubuntu bionic/main amd64 Packages [1,007 kB]\n",
            "Get:22 http://archive.ubuntu.com/ubuntu bionic-updates/main amd64 Packages [3,224 kB]\n",
            "Get:23 http://ppa.launchpad.net/deadsnakes/ppa/ubuntu bionic/main amd64 Packages [45.3 kB]\n",
            "Get:24 http://ppa.launchpad.net/git-core/ppa/ubuntu bionic/main amd64 Packages [3,163 B]\n",
            "Get:25 http://archive.ubuntu.com/ubuntu bionic-updates/universe amd64 Packages [2,281 kB]\n",
            "Get:26 http://ppa.launchpad.net/graphics-drivers/ppa/ubuntu bionic/main amd64 Packages [44.3 kB]\n",
            "Get:27 http://archive.ubuntu.com/ubuntu bionic-updates/restricted amd64 Packages [988 kB]\n",
            "Get:28 http://archive.ubuntu.com/ubuntu bionic-updates/multiverse amd64 Packages [29.8 kB]\n",
            "Fetched 16.0 MB in 5s (2,959 kB/s)\n",
            "Reading package lists... Done\n",
            "Hit:1 https://developer.download.nvidia.com/compute/cuda/repos/ubuntu1804/x86_64  InRelease\n",
            "Hit:2 http://archive.ubuntu.com/ubuntu bionic InRelease\n",
            "Hit:3 http://security.ubuntu.com/ubuntu bionic-security InRelease\n",
            "Hit:4 http://archive.ubuntu.com/ubuntu bionic-updates InRelease\n",
            "Hit:5 https://cloud.r-project.org/bin/linux/ubuntu bionic-cran40/ InRelease\n",
            "Hit:6 http://archive.ubuntu.com/ubuntu bionic-backports InRelease\n",
            "Ign:7 https://developer.download.nvidia.com/compute/machine-learning/repos/ubuntu1804/x86_64  InRelease\n",
            "Hit:8 https://developer.download.nvidia.com/compute/machine-learning/repos/ubuntu1804/x86_64  Release\n",
            "Hit:9 http://ppa.launchpad.net/c2d4u.team/c2d4u4.0+/ubuntu bionic InRelease\n",
            "Hit:10 http://ppa.launchpad.net/cran/libgit2/ubuntu bionic InRelease\n",
            "Hit:11 http://ppa.launchpad.net/deadsnakes/ppa/ubuntu bionic InRelease\n",
            "Hit:12 http://ppa.launchpad.net/git-core/ppa/ubuntu bionic InRelease\n",
            "Hit:13 http://ppa.launchpad.net/graphics-drivers/ppa/ubuntu bionic InRelease\n",
            "Reading package lists... Done\n",
            "Building dependency tree       \n",
            "Reading state information... Done\n",
            "62 packages can be upgraded. Run 'apt list --upgradable' to see them.\n",
            "Reading package lists... Done\n",
            "Building dependency tree       \n",
            "Reading state information... Done\n",
            "The following package was automatically installed and is no longer required:\n",
            "  libnvidia-common-460\n",
            "Use 'apt autoremove' to remove it.\n",
            "The following additional packages will be installed:\n",
            "  git-man\n",
            "Suggested packages:\n",
            "  gettext-base git-daemon-run | git-daemon-sysvinit git-doc git-email git-gui\n",
            "  gitk gitweb git-cvs git-mediawiki git-svn\n",
            "The following packages will be upgraded:\n",
            "  git git-man\n",
            "2 upgraded, 0 newly installed, 0 to remove and 60 not upgraded.\n",
            "Need to get 7,835 kB of archives.\n",
            "After this operation, 7,048 kB of additional disk space will be used.\n",
            "Get:1 http://ppa.launchpad.net/git-core/ppa/ubuntu bionic/main amd64 git amd64 1:2.36.1-0ppa1~ubuntu18.04.1 [5,895 kB]\n",
            "Get:2 http://ppa.launchpad.net/git-core/ppa/ubuntu bionic/main amd64 git-man all 1:2.36.1-0ppa1~ubuntu18.04.1 [1,940 kB]\n",
            "Fetched 7,835 kB in 2s (4,251 kB/s)\n",
            "(Reading database ... 155629 files and directories currently installed.)\n",
            "Preparing to unpack .../git_1%3a2.36.1-0ppa1~ubuntu18.04.1_amd64.deb ...\n",
            "Unpacking git (1:2.36.1-0ppa1~ubuntu18.04.1) over (1:2.17.1-1ubuntu0.11) ...\n",
            "Preparing to unpack .../git-man_1%3a2.36.1-0ppa1~ubuntu18.04.1_all.deb ...\n",
            "Unpacking git-man (1:2.36.1-0ppa1~ubuntu18.04.1) over (1:2.17.1-1ubuntu0.11) ...\n",
            "Setting up git-man (1:2.36.1-0ppa1~ubuntu18.04.1) ...\n",
            "Setting up git (1:2.36.1-0ppa1~ubuntu18.04.1) ...\n",
            "Processing triggers for man-db (2.8.3-2ubuntu0.1) ...\n"
          ]
        }
      ],
      "source": [
        "!add-apt-repository ppa:git-core/ppa -y\n",
        "!apt update\n",
        "!apt install git"
      ]
    },
    {
      "cell_type": "markdown",
      "source": [
        "# Setup 2 clones"
      ],
      "metadata": {
        "id": "x-zTLq461AuV"
      }
    },
    {
      "cell_type": "code",
      "source": [
        "!git clone # REDACTED @github.com/M-110/hawtdawg-all-ears.git addisons-clone"
      ],
      "metadata": {
        "colab": {
          "base_uri": "https://localhost:8080/"
        },
        "id": "spUyBVJPxtv3",
        "outputId": "5b4b5a64-aa51-459f-cb7c-016a82cc174b"
      },
      "execution_count": null,
      "outputs": [
        {
          "output_type": "stream",
          "name": "stdout",
          "text": [
            "Cloning into 'addisons-clone'...\n",
            "remote: Enumerating objects: 3, done.\u001b[K\n",
            "remote: Total 3 (delta 0), reused 0 (delta 0), pack-reused 3\u001b[K\n",
            "Receiving objects: 100% (3/3), done.\n"
          ]
        }
      ]
    },
    {
      "cell_type": "code",
      "source": [
        "!git clone # REDACTED @github.com/M-110/hawtdawg-all-ears.git sangitas-clone"
      ],
      "metadata": {
        "colab": {
          "base_uri": "https://localhost:8080/"
        },
        "id": "wfzqAZ0q1PVk",
        "outputId": "bfd62d14-2a14-4fcf-d2f5-88ff6ac688d3"
      },
      "execution_count": null,
      "outputs": [
        {
          "output_type": "stream",
          "name": "stdout",
          "text": [
            "Cloning into 'sangitas-clone'...\n",
            "remote: Enumerating objects: 3, done.\u001b[K\n",
            "remote: Total 3 (delta 0), reused 0 (delta 0), pack-reused 3\u001b[K\n",
            "Receiving objects: 100% (3/3), done.\n"
          ]
        }
      ]
    },
    {
      "cell_type": "code",
      "source": [
        "%cd addisons-clone"
      ],
      "metadata": {
        "colab": {
          "base_uri": "https://localhost:8080/"
        },
        "id": "YKSC-ZnD1h34",
        "outputId": "833085e1-7e20-4714-8468-00f065ed909d"
      },
      "execution_count": null,
      "outputs": [
        {
          "output_type": "stream",
          "name": "stdout",
          "text": [
            "/content/addisons-clone\n"
          ]
        }
      ]
    },
    {
      "cell_type": "code",
      "source": [
        "!git log --oneline --graph --all"
      ],
      "metadata": {
        "colab": {
          "base_uri": "https://localhost:8080/"
        },
        "id": "TYBj9FrT1qLs",
        "outputId": "469747e0-6572-4db5-dc95-b1f3b14e9fbf"
      },
      "execution_count": null,
      "outputs": [
        {
          "output_type": "stream",
          "name": "stdout",
          "text": [
            "* \u001b[33m32b1d92\u001b[m\u001b[33m (\u001b[m\u001b[1;36mHEAD -> \u001b[m\u001b[1;32mmaster\u001b[m\u001b[33m, \u001b[m\u001b[1;31morigin/master\u001b[m\u001b[33m, \u001b[m\u001b[1;31morigin/HEAD\u001b[m\u001b[33m)\u001b[m add README\n"
          ]
        }
      ]
    },
    {
      "cell_type": "markdown",
      "source": [
        "# Player 1 Addison changes"
      ],
      "metadata": {
        "id": "vLVDJePW2EgN"
      }
    },
    {
      "cell_type": "code",
      "source": [
        "!git branch addison-first-faq"
      ],
      "metadata": {
        "id": "n68UCkDp1r8z"
      },
      "execution_count": null,
      "outputs": []
    },
    {
      "cell_type": "code",
      "source": [
        "!git switch addison-first-faq"
      ],
      "metadata": {
        "colab": {
          "base_uri": "https://localhost:8080/"
        },
        "id": "m90ZZS9K2Kl-",
        "outputId": "5526fcb8-53a1-429f-84ff-b2c13520f0a9"
      },
      "execution_count": null,
      "outputs": [
        {
          "output_type": "stream",
          "name": "stdout",
          "text": [
            "Switched to branch 'addison-first-faq'\n"
          ]
        }
      ]
    },
    {
      "cell_type": "code",
      "source": [
        "%%writefile FAQ.md\n",
        "# FAQ\n",
        "\n",
        "## How many photos can I post?\n",
        "\n",
        "\n",
        "You can only post 15 photos.\n",
        "\n",
        "Try to at least post one.\n",
        "\n",
        "Great job! Wow! Woohooo! A photo!"
      ],
      "metadata": {
        "colab": {
          "base_uri": "https://localhost:8080/"
        },
        "id": "DAoTHeb32MFI",
        "outputId": "26bb40d5-6148-446f-f3aa-9fd4b609e3f6"
      },
      "execution_count": null,
      "outputs": [
        {
          "output_type": "stream",
          "name": "stdout",
          "text": [
            "Writing FAQ.md\n"
          ]
        }
      ]
    },
    {
      "cell_type": "code",
      "source": [
        "!git add FAQ.md\n",
        "!git commit -m \"Addison's first commit\""
      ],
      "metadata": {
        "colab": {
          "base_uri": "https://localhost:8080/"
        },
        "id": "wLJj06FM2fBg",
        "outputId": "24c5c75a-52cb-4c07-9468-6216f2b4f770"
      },
      "execution_count": null,
      "outputs": [
        {
          "output_type": "stream",
          "name": "stdout",
          "text": [
            "[addison-first-faq 0d0f970] Addison's first commit\n",
            " 1 file changed, 10 insertions(+)\n",
            " create mode 100644 FAQ.md\n"
          ]
        }
      ]
    },
    {
      "cell_type": "code",
      "source": [
        "!git log --oneline --graph --all"
      ],
      "metadata": {
        "colab": {
          "base_uri": "https://localhost:8080/"
        },
        "id": "H4GX06-A2l3I",
        "outputId": "a548abef-191a-4f3c-ed2c-2a4998ac70c7"
      },
      "execution_count": null,
      "outputs": [
        {
          "output_type": "stream",
          "name": "stdout",
          "text": [
            "* \u001b[33m0d0f970\u001b[m\u001b[33m (\u001b[m\u001b[1;36mHEAD -> \u001b[m\u001b[1;32maddison-first-faq\u001b[m\u001b[33m)\u001b[m Addison's first commit\n",
            "* \u001b[33m32b1d92\u001b[m\u001b[33m (\u001b[m\u001b[1;31morigin/master\u001b[m\u001b[33m, \u001b[m\u001b[1;31morigin/HEAD\u001b[m\u001b[33m, \u001b[m\u001b[1;32mmaster\u001b[m\u001b[33m)\u001b[m add README\n"
          ]
        }
      ]
    },
    {
      "cell_type": "markdown",
      "source": [
        "## Merge to master"
      ],
      "metadata": {
        "id": "R5KrqJn225c1"
      }
    },
    {
      "cell_type": "code",
      "source": [
        "!git switch master"
      ],
      "metadata": {
        "colab": {
          "base_uri": "https://localhost:8080/"
        },
        "id": "3QdOm5BG2oWm",
        "outputId": "8d276381-ca66-4e10-f8b9-fe92f51fe686"
      },
      "execution_count": null,
      "outputs": [
        {
          "output_type": "stream",
          "name": "stdout",
          "text": [
            "Switched to branch 'master'\n",
            "Your branch is up to date with 'origin/master'.\n"
          ]
        }
      ]
    },
    {
      "cell_type": "code",
      "source": [
        "!git branch -v"
      ],
      "metadata": {
        "colab": {
          "base_uri": "https://localhost:8080/"
        },
        "id": "BQAoSavI27r0",
        "outputId": "a5a62c19-bee1-42ae-b910-85d7b941794e"
      },
      "execution_count": null,
      "outputs": [
        {
          "output_type": "stream",
          "name": "stdout",
          "text": [
            "  addison-first-faq\u001b[m 0d0f970 Addison's first commit\n",
            "* \u001b[32mmaster           \u001b[m 32b1d92 add README\n"
          ]
        }
      ]
    },
    {
      "cell_type": "code",
      "source": [
        "!git merge addison-first-faq"
      ],
      "metadata": {
        "colab": {
          "base_uri": "https://localhost:8080/"
        },
        "id": "mVmApqhH2_nv",
        "outputId": "42521e56-341d-4b04-8ef3-30efb95be72f"
      },
      "execution_count": null,
      "outputs": [
        {
          "output_type": "stream",
          "name": "stdout",
          "text": [
            "Updating 32b1d92..0d0f970\n",
            "Fast-forward\n",
            " FAQ.md | 10 \u001b[32m++++++++++\u001b[m\n",
            " 1 file changed, 10 insertions(+)\n",
            " create mode 100644 FAQ.md\n"
          ]
        }
      ]
    },
    {
      "cell_type": "code",
      "source": [
        "!git status"
      ],
      "metadata": {
        "colab": {
          "base_uri": "https://localhost:8080/"
        },
        "id": "5Hum3vBu3CXJ",
        "outputId": "c2b5fd83-7272-446a-8590-c4d0442a4368"
      },
      "execution_count": null,
      "outputs": [
        {
          "output_type": "stream",
          "name": "stdout",
          "text": [
            "On branch master\n",
            "Your branch is ahead of 'origin/master' by 1 commit.\n",
            "  (use \"git push\" to publish your local commits)\n",
            "\n",
            "nothing to commit, working tree clean\n"
          ]
        }
      ]
    },
    {
      "cell_type": "code",
      "source": [
        "!git push"
      ],
      "metadata": {
        "colab": {
          "base_uri": "https://localhost:8080/"
        },
        "id": "t7OjKCmP3FEb",
        "outputId": "b78cdd7a-57f9-4301-98ec-6e099a431f5c"
      },
      "execution_count": null,
      "outputs": [
        {
          "output_type": "stream",
          "name": "stdout",
          "text": [
            "Enumerating objects: 4, done.\n",
            "Counting objects:  25% (1/4)\rCounting objects:  50% (2/4)\rCounting objects:  75% (3/4)\rCounting objects: 100% (4/4)\rCounting objects: 100% (4/4), done.\n",
            "Delta compression using up to 2 threads\n",
            "Compressing objects:  33% (1/3)\rCompressing objects:  66% (2/3)\rCompressing objects: 100% (3/3)\rCompressing objects: 100% (3/3), done.\n",
            "Writing objects:  33% (1/3)\rWriting objects:  66% (2/3)\rWriting objects: 100% (3/3)\rWriting objects: 100% (3/3), 380 bytes | 380.00 KiB/s, done.\n",
            "Total 3 (delta 0), reused 0 (delta 0), pack-reused 0\n",
            "To https://github.com/M-110/hawtdawg-all-ears.git\n",
            "   32b1d92..0d0f970  master -> master\n"
          ]
        }
      ]
    },
    {
      "cell_type": "markdown",
      "source": [
        "# Player 2 "
      ],
      "metadata": {
        "id": "R2zVh4hw3wpE"
      }
    },
    {
      "cell_type": "code",
      "source": [
        "%cd ../sangitas-clone"
      ],
      "metadata": {
        "colab": {
          "base_uri": "https://localhost:8080/"
        },
        "id": "bkMDv0aC3JMk",
        "outputId": "d61890a3-5aa3-4bdc-9dc3-f68763fc7123"
      },
      "execution_count": null,
      "outputs": [
        {
          "output_type": "stream",
          "name": "stdout",
          "text": [
            "/content/sangitas-clone\n"
          ]
        }
      ]
    },
    {
      "cell_type": "code",
      "source": [
        "!git status"
      ],
      "metadata": {
        "colab": {
          "base_uri": "https://localhost:8080/"
        },
        "id": "_QZP7VPP31iD",
        "outputId": "fe0459b8-382b-44f2-84a2-660f72cdb75f"
      },
      "execution_count": null,
      "outputs": [
        {
          "output_type": "stream",
          "name": "stdout",
          "text": [
            "On branch master\n",
            "Your branch is up to date with 'origin/master'.\n",
            "\n",
            "nothing to commit, working tree clean\n"
          ]
        }
      ]
    },
    {
      "cell_type": "code",
      "source": [
        "!git pull"
      ],
      "metadata": {
        "colab": {
          "base_uri": "https://localhost:8080/"
        },
        "id": "EUWHidvO34JP",
        "outputId": "41d3a26d-2062-450a-863a-06036cf9d1ec"
      },
      "execution_count": null,
      "outputs": [
        {
          "output_type": "stream",
          "name": "stdout",
          "text": [
            "remote: Enumerating objects: 3, done.\u001b[K\n",
            "remote: Counting objects:  33% (1/3)\u001b[K\rremote: Counting objects:  66% (2/3)\u001b[K\rremote: Counting objects: 100% (3/3)\u001b[K\rremote: Counting objects: 100% (3/3), done.\u001b[K\n",
            "remote: Compressing objects:  33% (1/3)\u001b[K\rremote: Compressing objects:  66% (2/3)\u001b[K\rremote: Compressing objects: 100% (3/3)\u001b[K\rremote: Compressing objects: 100% (3/3), done.\u001b[K\n",
            "remote: Total 3 (delta 0), reused 3 (delta 0), pack-reused 0\u001b[K\n",
            "Unpacking objects:  33% (1/3)\rUnpacking objects:  66% (2/3)\rUnpacking objects: 100% (3/3)\rUnpacking objects: 100% (3/3), 360 bytes | 360.00 KiB/s, done.\n",
            "From https://github.com/M-110/hawtdawg-all-ears\n",
            "   32b1d92..0d0f970  master     -> origin/master\n",
            "Updating 32b1d92..0d0f970\n",
            "Fast-forward\n",
            " FAQ.md | 10 \u001b[32m++++++++++\u001b[m\n",
            " 1 file changed, 10 insertions(+)\n",
            " create mode 100644 FAQ.md\n"
          ]
        }
      ]
    },
    {
      "cell_type": "markdown",
      "source": [
        "# Remote Tracking Branches Player 1"
      ],
      "metadata": {
        "id": "L0iDPWBq65hn"
      }
    },
    {
      "cell_type": "code",
      "source": [
        "%cd ../addisons-clone"
      ],
      "metadata": {
        "colab": {
          "base_uri": "https://localhost:8080/"
        },
        "id": "NQuz_2xN4FzE",
        "outputId": "6ae22c74-e43b-47e6-bb02-31052af4aa0e"
      },
      "execution_count": null,
      "outputs": [
        {
          "output_type": "stream",
          "name": "stdout",
          "text": [
            "/content/addisons-clone\n"
          ]
        }
      ]
    },
    {
      "cell_type": "code",
      "source": [
        "!git branch -vv"
      ],
      "metadata": {
        "colab": {
          "base_uri": "https://localhost:8080/"
        },
        "id": "Ltj8u-g569aJ",
        "outputId": "8690ce8b-5fe7-4912-9cc4-5a36bc183689"
      },
      "execution_count": null,
      "outputs": [
        {
          "output_type": "stream",
          "name": "stdout",
          "text": [
            "  addison-first-faq\u001b[m 0d0f970 Addison's first commit\n",
            "* \u001b[32mmaster           \u001b[m 0d0f970 [\u001b[34morigin/master\u001b[m] Addison's first commit\n"
          ]
        }
      ]
    },
    {
      "cell_type": "code",
      "source": [
        "!git branch addison-add-faqs"
      ],
      "metadata": {
        "id": "ZCL4ei1G6_NM"
      },
      "execution_count": null,
      "outputs": []
    },
    {
      "cell_type": "code",
      "source": [
        "!git switch addison-add-faqs"
      ],
      "metadata": {
        "colab": {
          "base_uri": "https://localhost:8080/"
        },
        "id": "F8VRWW767OLU",
        "outputId": "4e1e41f3-1ad5-4d3e-d1e8-a05b9e31016c"
      },
      "execution_count": null,
      "outputs": [
        {
          "output_type": "stream",
          "name": "stdout",
          "text": [
            "Switched to branch 'addison-add-faqs'\n"
          ]
        }
      ]
    },
    {
      "cell_type": "code",
      "source": [
        "%%writefile FAQ.md\n",
        "# FAQ\n",
        "\n",
        "## How many photos can I post?\n",
        "\n",
        "\n",
        "You can only post 15 photos.\n",
        "\n",
        "Try to at least post one.\n",
        "\n",
        "Great job! Wow! Woohooo! A photo!\n",
        "\n",
        "\n",
        "## Where do I list my favorite treats?\n",
        "\n",
        "Open up the app and edit your profile.\n",
        "\n",
        "Scroll down to the section called \"Passions\" and select our favorite treats."
      ],
      "metadata": {
        "colab": {
          "base_uri": "https://localhost:8080/"
        },
        "id": "9lAlsyUa7k9K",
        "outputId": "222882d6-5d25-4e04-df98-a055c10adfe3"
      },
      "execution_count": null,
      "outputs": [
        {
          "output_type": "stream",
          "name": "stdout",
          "text": [
            "Overwriting FAQ.md\n"
          ]
        }
      ]
    },
    {
      "cell_type": "code",
      "source": [
        "!git add FAQ.md\n",
        "!git commit -m \"Add second FAQ\""
      ],
      "metadata": {
        "colab": {
          "base_uri": "https://localhost:8080/"
        },
        "id": "r-ooWTRT8Bcd",
        "outputId": "cbf29047-c61e-4936-e0ce-5ada92ddebbc"
      },
      "execution_count": null,
      "outputs": [
        {
          "output_type": "stream",
          "name": "stdout",
          "text": [
            "[addison-add-faqs 3021d61] Add second FAQ\n",
            " 1 file changed, 8 insertions(+), 1 deletion(-)\n"
          ]
        }
      ]
    },
    {
      "cell_type": "code",
      "source": [
        "!git branch -vv"
      ],
      "metadata": {
        "colab": {
          "base_uri": "https://localhost:8080/"
        },
        "id": "OLZIh_gf8IEg",
        "outputId": "07e931b7-7c35-49ab-87dd-22d29c7aa163"
      },
      "execution_count": null,
      "outputs": [
        {
          "output_type": "stream",
          "name": "stdout",
          "text": [
            "* \u001b[32maddison-add-faqs \u001b[m 3021d61 Add second FAQ\n",
            "  addison-first-faq\u001b[m 0d0f970 Addison's first commit\n",
            "  master           \u001b[m 0d0f970 [\u001b[34morigin/master\u001b[m] Addison's first commit\n"
          ]
        }
      ]
    },
    {
      "cell_type": "code",
      "source": [
        "!git push"
      ],
      "metadata": {
        "colab": {
          "base_uri": "https://localhost:8080/"
        },
        "id": "4el5DPut8Kwl",
        "outputId": "2d0e559e-b6c7-4f20-9736-9310a78c822c"
      },
      "execution_count": null,
      "outputs": [
        {
          "output_type": "stream",
          "name": "stdout",
          "text": [
            "fatal: The current branch addison-add-faqs has no upstream branch.\n",
            "To push the current branch and set the remote as upstream, use\n",
            "\n",
            "    git push --set-upstream origin addison-add-faqs\n",
            "\n"
          ]
        }
      ]
    },
    {
      "cell_type": "code",
      "source": [
        "!git push --set-upstream origin addison-add-faqs"
      ],
      "metadata": {
        "colab": {
          "base_uri": "https://localhost:8080/"
        },
        "id": "NkZU9bMW8TU1",
        "outputId": "11e2434d-ac1b-42c9-9215-072df5b8babe"
      },
      "execution_count": null,
      "outputs": [
        {
          "output_type": "stream",
          "name": "stdout",
          "text": [
            "Enumerating objects: 5, done.\n",
            "Counting objects:  20% (1/5)\rCounting objects:  40% (2/5)\rCounting objects:  60% (3/5)\rCounting objects:  80% (4/5)\rCounting objects: 100% (5/5)\rCounting objects: 100% (5/5), done.\n",
            "Delta compression using up to 2 threads\n",
            "Compressing objects:  33% (1/3)\rCompressing objects:  66% (2/3)\rCompressing objects: 100% (3/3)\rCompressing objects: 100% (3/3), done.\n",
            "Writing objects:  33% (1/3)\rWriting objects:  66% (2/3)\rWriting objects: 100% (3/3)\rWriting objects: 100% (3/3), 468 bytes | 468.00 KiB/s, done.\n",
            "Total 3 (delta 0), reused 0 (delta 0), pack-reused 0\n",
            "remote: \n",
            "remote: Create a pull request for 'addison-add-faqs' on GitHub by visiting:\u001b[K\n",
            "remote:      https://github.com/M-110/hawtdawg-all-ears/pull/new/addison-add-faqs\u001b[K\n",
            "remote: \n",
            "To https://github.com/M-110/hawtdawg-all-ears.git\n",
            " * [new branch]      addison-add-faqs -> addison-add-faqs\n",
            "branch 'addison-add-faqs' set up to track 'origin/addison-add-faqs'.\n"
          ]
        }
      ]
    },
    {
      "cell_type": "code",
      "source": [
        "!git branch -vv"
      ],
      "metadata": {
        "colab": {
          "base_uri": "https://localhost:8080/"
        },
        "id": "xUIT3Luj8U87",
        "outputId": "e77b646d-236a-4ae7-e603-55a4000b18da"
      },
      "execution_count": null,
      "outputs": [
        {
          "output_type": "stream",
          "name": "stdout",
          "text": [
            "* \u001b[32maddison-add-faqs \u001b[m 3021d61 [\u001b[34morigin/addison-add-faqs\u001b[m] Add second FAQ\n",
            "  addison-first-faq\u001b[m 0d0f970 Addison's first commit\n",
            "  master           \u001b[m 0d0f970 [\u001b[34morigin/master\u001b[m] Addison's first commit\n"
          ]
        }
      ]
    },
    {
      "cell_type": "markdown",
      "source": [
        "# Player 2"
      ],
      "metadata": {
        "id": "IzP1x7s38dkJ"
      }
    },
    {
      "cell_type": "code",
      "source": [
        "%cd ../sangitas-clone"
      ],
      "metadata": {
        "colab": {
          "base_uri": "https://localhost:8080/"
        },
        "id": "3q9MLgin8Wu6",
        "outputId": "7a26a436-75f5-4e44-a727-49ed126e5db0"
      },
      "execution_count": null,
      "outputs": [
        {
          "output_type": "stream",
          "name": "stdout",
          "text": [
            "/content/sangitas-clone\n"
          ]
        }
      ]
    },
    {
      "cell_type": "code",
      "source": [
        "!git status"
      ],
      "metadata": {
        "colab": {
          "base_uri": "https://localhost:8080/"
        },
        "id": "nm-DK6Ir8noW",
        "outputId": "705efc06-219a-4628-f4f2-0b9ac17692e7"
      },
      "execution_count": null,
      "outputs": [
        {
          "output_type": "stream",
          "name": "stdout",
          "text": [
            "On branch master\n",
            "Your branch is up to date with 'origin/master'.\n",
            "\n",
            "nothing to commit, working tree clean\n"
          ]
        }
      ]
    },
    {
      "cell_type": "code",
      "source": [
        "!git branch -vv"
      ],
      "metadata": {
        "colab": {
          "base_uri": "https://localhost:8080/"
        },
        "id": "G-pCC2fy8oN3",
        "outputId": "dc97ad77-b4bc-4cc2-d4d7-c6fb7f20a96f"
      },
      "execution_count": null,
      "outputs": [
        {
          "output_type": "stream",
          "name": "stdout",
          "text": [
            "* \u001b[32mmaster\u001b[m 0d0f970 [\u001b[34morigin/master\u001b[m] Addison's first commit\n"
          ]
        }
      ]
    },
    {
      "cell_type": "code",
      "source": [
        "!git branch sangita-add-profile"
      ],
      "metadata": {
        "id": "3_YKBIJv8qYB"
      },
      "execution_count": null,
      "outputs": []
    },
    {
      "cell_type": "code",
      "source": [
        "!git switch sangita-add-profile"
      ],
      "metadata": {
        "colab": {
          "base_uri": "https://localhost:8080/"
        },
        "id": "EVTseh0n8wrT",
        "outputId": "01ffde90-8967-4aef-fad2-a1f6b6fa0aed"
      },
      "execution_count": null,
      "outputs": [
        {
          "output_type": "stream",
          "name": "stdout",
          "text": [
            "Switched to branch 'sangita-add-profile'\n"
          ]
        }
      ]
    },
    {
      "cell_type": "code",
      "source": [
        "%%writefile Profile.md\n",
        "# Profile\n",
        "\n",
        "Name: **Dog of York**\n",
        "\n",
        "Age: **2**\n",
        "\n",
        "Breed: **Beagle**\n",
        "\n",
        "Location: **New York City**"
      ],
      "metadata": {
        "colab": {
          "base_uri": "https://localhost:8080/"
        },
        "id": "hPR2kkcG8x9f",
        "outputId": "6588be6f-2993-4518-b7b7-e4d75ef4e806"
      },
      "execution_count": null,
      "outputs": [
        {
          "output_type": "stream",
          "name": "stdout",
          "text": [
            "Writing Profile.md\n"
          ]
        }
      ]
    },
    {
      "cell_type": "code",
      "source": [
        "!git add Profile.md"
      ],
      "metadata": {
        "id": "23_RBpCp9E37"
      },
      "execution_count": null,
      "outputs": []
    },
    {
      "cell_type": "code",
      "source": [
        "!git commit -m \"Add profile sample\""
      ],
      "metadata": {
        "colab": {
          "base_uri": "https://localhost:8080/"
        },
        "id": "jqM-xeBr9HSd",
        "outputId": "32b2ced5-219c-408b-8841-c708aebbcff5"
      },
      "execution_count": null,
      "outputs": [
        {
          "output_type": "stream",
          "name": "stdout",
          "text": [
            "[sangita-add-profile 8866b35] Add profile sample\n",
            " 1 file changed, 9 insertions(+)\n",
            " create mode 100644 Profile.md\n"
          ]
        }
      ]
    },
    {
      "cell_type": "code",
      "source": [
        "!git branch -vv"
      ],
      "metadata": {
        "colab": {
          "base_uri": "https://localhost:8080/"
        },
        "id": "N6WJLTKB9H9t",
        "outputId": "25cc8f8f-8f81-4a4a-8812-e4fef495a1ee"
      },
      "execution_count": null,
      "outputs": [
        {
          "output_type": "stream",
          "name": "stdout",
          "text": [
            "  master             \u001b[m 0d0f970 [\u001b[34morigin/master\u001b[m] Addison's first commit\n",
            "* \u001b[32msangita-add-profile\u001b[m 8866b35 Add profile sample\n"
          ]
        }
      ]
    },
    {
      "cell_type": "code",
      "source": [
        "!git push"
      ],
      "metadata": {
        "colab": {
          "base_uri": "https://localhost:8080/"
        },
        "id": "M1JmNuVE9MEW",
        "outputId": "3edddcd8-d673-4cee-9c13-a0b58b4c48d2"
      },
      "execution_count": null,
      "outputs": [
        {
          "output_type": "stream",
          "name": "stdout",
          "text": [
            "fatal: The current branch sangita-add-profile has no upstream branch.\n",
            "To push the current branch and set the remote as upstream, use\n",
            "\n",
            "    git push --set-upstream origin sangita-add-profile\n",
            "\n"
          ]
        }
      ]
    },
    {
      "cell_type": "code",
      "source": [
        "!git push --set-upstream origin sangita-add-profile"
      ],
      "metadata": {
        "colab": {
          "base_uri": "https://localhost:8080/"
        },
        "id": "Ors6dQmb9PDu",
        "outputId": "93cbee0a-95e6-42cc-9a44-77ca89275acd"
      },
      "execution_count": null,
      "outputs": [
        {
          "output_type": "stream",
          "name": "stdout",
          "text": [
            "Enumerating objects: 4, done.\n",
            "Counting objects:  25% (1/4)\rCounting objects:  50% (2/4)\rCounting objects:  75% (3/4)\rCounting objects: 100% (4/4)\rCounting objects: 100% (4/4), done.\n",
            "Delta compression using up to 2 threads\n",
            "Compressing objects:  33% (1/3)\rCompressing objects:  66% (2/3)\rCompressing objects: 100% (3/3)\rCompressing objects: 100% (3/3), done.\n",
            "Writing objects:  33% (1/3)\rWriting objects:  66% (2/3)\rWriting objects: 100% (3/3)\rWriting objects: 100% (3/3), 385 bytes | 385.00 KiB/s, done.\n",
            "Total 3 (delta 0), reused 0 (delta 0), pack-reused 0\n",
            "remote: \n",
            "remote: Create a pull request for 'sangita-add-profile' on GitHub by visiting:\u001b[K\n",
            "remote:      https://github.com/M-110/hawtdawg-all-ears/pull/new/sangita-add-profile\u001b[K\n",
            "remote: \n",
            "To https://github.com/M-110/hawtdawg-all-ears.git\n",
            " * [new branch]      sangita-add-profile -> sangita-add-profile\n",
            "branch 'sangita-add-profile' set up to track 'origin/sangita-add-profile'.\n"
          ]
        }
      ]
    },
    {
      "cell_type": "code",
      "source": [
        "!git branch -vv"
      ],
      "metadata": {
        "colab": {
          "base_uri": "https://localhost:8080/"
        },
        "id": "kspo7zE99RIs",
        "outputId": "c0792b6e-8b65-4271-8189-55da7bfb075e"
      },
      "execution_count": null,
      "outputs": [
        {
          "output_type": "stream",
          "name": "stdout",
          "text": [
            "  master             \u001b[m 0d0f970 [\u001b[34morigin/master\u001b[m] Addison's first commit\n",
            "* \u001b[32msangita-add-profile\u001b[m 8866b35 [\u001b[34morigin/sangita-add-profile\u001b[m] Add profile sample\n"
          ]
        }
      ]
    },
    {
      "cell_type": "markdown",
      "source": [
        "# Fetch\n",
        "\n",
        "fetch does not create a local branch, just a remote branch"
      ],
      "metadata": {
        "id": "apB2ZwtX_P-q"
      }
    },
    {
      "cell_type": "markdown",
      "source": [
        "## Player 2\n"
      ],
      "metadata": {
        "id": "3xbYX2pV_m1l"
      }
    },
    {
      "cell_type": "code",
      "source": [
        "!git fetch"
      ],
      "metadata": {
        "colab": {
          "base_uri": "https://localhost:8080/"
        },
        "id": "2YmKMqbC9R6I",
        "outputId": "9d6c6599-ba8a-49f5-bc39-57d391880a4d"
      },
      "execution_count": null,
      "outputs": [
        {
          "output_type": "stream",
          "name": "stdout",
          "text": [
            "remote: Enumerating objects: 5, done.\u001b[K\n",
            "remote: Counting objects:  20% (1/5)\u001b[K\rremote: Counting objects:  40% (2/5)\u001b[K\rremote: Counting objects:  60% (3/5)\u001b[K\rremote: Counting objects:  80% (4/5)\u001b[K\rremote: Counting objects: 100% (5/5)\u001b[K\rremote: Counting objects: 100% (5/5), done.\u001b[K\n",
            "remote: Compressing objects:  33% (1/3)\u001b[K\rremote: Compressing objects:  66% (2/3)\u001b[K\rremote: Compressing objects: 100% (3/3)\u001b[K\rremote: Compressing objects: 100% (3/3), done.\u001b[K\n",
            "remote: Total 3 (delta 0), reused 3 (delta 0), pack-reused 0\u001b[K\n",
            "Unpacking objects:  33% (1/3)\rUnpacking objects:  66% (2/3)\rUnpacking objects: 100% (3/3)\rUnpacking objects: 100% (3/3), 448 bytes | 448.00 KiB/s, done.\n",
            "From https://github.com/M-110/hawtdawg-all-ears\n",
            " * [new branch]      addison-add-faqs -> origin/addison-add-faqs\n"
          ]
        }
      ]
    },
    {
      "cell_type": "code",
      "source": [
        "!git branch -vv"
      ],
      "metadata": {
        "colab": {
          "base_uri": "https://localhost:8080/"
        },
        "id": "i0X01eNf_RcM",
        "outputId": "e2b5b025-c8ad-4d07-a405-b96240b84bfb"
      },
      "execution_count": null,
      "outputs": [
        {
          "output_type": "stream",
          "name": "stdout",
          "text": [
            "  master             \u001b[m 0d0f970 [\u001b[34morigin/master\u001b[m] Addison's first commit\n",
            "* \u001b[32msangita-add-profile\u001b[m 8866b35 [\u001b[34morigin/sangita-add-profile\u001b[m] Add profile sample\n"
          ]
        }
      ]
    },
    {
      "cell_type": "markdown",
      "source": [
        "## Player 1"
      ],
      "metadata": {
        "id": "_maTofMi_pOf"
      }
    },
    {
      "cell_type": "code",
      "source": [
        "%cd ../addisons-clone"
      ],
      "metadata": {
        "colab": {
          "base_uri": "https://localhost:8080/"
        },
        "id": "DKHBPVr6_UUl",
        "outputId": "12d8ba67-ba3b-4e87-9709-228430d0fcea"
      },
      "execution_count": null,
      "outputs": [
        {
          "output_type": "stream",
          "name": "stdout",
          "text": [
            "/content/addisons-clone\n"
          ]
        }
      ]
    },
    {
      "cell_type": "code",
      "source": [
        "!git branch -vv"
      ],
      "metadata": {
        "colab": {
          "base_uri": "https://localhost:8080/"
        },
        "id": "e7Sw-h5b_uXs",
        "outputId": "b3dc1961-320e-4053-c6cf-df3852e13126"
      },
      "execution_count": null,
      "outputs": [
        {
          "output_type": "stream",
          "name": "stdout",
          "text": [
            "* \u001b[32maddison-add-faqs \u001b[m 3021d61 [\u001b[34morigin/addison-add-faqs\u001b[m] Add second FAQ\n",
            "  addison-first-faq\u001b[m 0d0f970 Addison's first commit\n",
            "  master           \u001b[m 0d0f970 [\u001b[34morigin/master\u001b[m] Addison's first commit\n"
          ]
        }
      ]
    },
    {
      "cell_type": "code",
      "source": [
        "!git fetch"
      ],
      "metadata": {
        "colab": {
          "base_uri": "https://localhost:8080/"
        },
        "id": "wJNibgoe_vbu",
        "outputId": "62e4e32d-5e1b-424c-ec89-63e044b2ddbe"
      },
      "execution_count": null,
      "outputs": [
        {
          "output_type": "stream",
          "name": "stdout",
          "text": [
            "remote: Enumerating objects: 4, done.\u001b[K\n",
            "remote: Counting objects:  25% (1/4)\u001b[K\rremote: Counting objects:  50% (2/4)\u001b[K\rremote: Counting objects:  75% (3/4)\u001b[K\rremote: Counting objects: 100% (4/4)\u001b[K\rremote: Counting objects: 100% (4/4), done.\u001b[K\n",
            "remote: Compressing objects:  33% (1/3)\u001b[K\rremote: Compressing objects:  66% (2/3)\u001b[K\rremote: Compressing objects: 100% (3/3)\u001b[K\rremote: Compressing objects: 100% (3/3), done.\u001b[K\n",
            "remote: Total 3 (delta 0), reused 3 (delta 0), pack-reused 0\u001b[K\n",
            "Unpacking objects:  33% (1/3)\rUnpacking objects:  66% (2/3)\rUnpacking objects: 100% (3/3)\rUnpacking objects: 100% (3/3), 365 bytes | 365.00 KiB/s, done.\n",
            "From https://github.com/M-110/hawtdawg-all-ears\n",
            " * [new branch]      sangita-add-profile -> origin/sangita-add-profile\n"
          ]
        }
      ]
    },
    {
      "cell_type": "code",
      "source": [
        "!git branch -vv"
      ],
      "metadata": {
        "colab": {
          "base_uri": "https://localhost:8080/"
        },
        "id": "yr9FZKb4_wWM",
        "outputId": "03733c14-31a1-4acd-ccd2-190febf799f7"
      },
      "execution_count": null,
      "outputs": [
        {
          "output_type": "stream",
          "name": "stdout",
          "text": [
            "* \u001b[32maddison-add-faqs \u001b[m 3021d61 [\u001b[34morigin/addison-add-faqs\u001b[m] Add second FAQ\n",
            "  addison-first-faq\u001b[m 0d0f970 Addison's first commit\n",
            "  master           \u001b[m 0d0f970 [\u001b[34morigin/master\u001b[m] Addison's first commit\n"
          ]
        }
      ]
    },
    {
      "cell_type": "code",
      "source": [
        "!git log --all --graph --oneline"
      ],
      "metadata": {
        "colab": {
          "base_uri": "https://localhost:8080/"
        },
        "id": "VMA88CSd_xK_",
        "outputId": "26268755-d205-47f9-c3bc-c65c09c15a3d"
      },
      "execution_count": null,
      "outputs": [
        {
          "output_type": "stream",
          "name": "stdout",
          "text": [
            "* \u001b[33m8866b35\u001b[m\u001b[33m (\u001b[m\u001b[1;31morigin/sangita-add-profile\u001b[m\u001b[33m)\u001b[m Add profile sample\n",
            "\u001b[31m|\u001b[m * \u001b[33m3021d61\u001b[m\u001b[33m (\u001b[m\u001b[1;36mHEAD -> \u001b[m\u001b[1;32maddison-add-faqs\u001b[m\u001b[33m, \u001b[m\u001b[1;31morigin/addison-add-faqs\u001b[m\u001b[33m)\u001b[m Add second FAQ\n",
            "\u001b[31m|\u001b[m\u001b[31m/\u001b[m  \n",
            "* \u001b[33m0d0f970\u001b[m\u001b[33m (\u001b[m\u001b[1;31morigin/master\u001b[m\u001b[33m, \u001b[m\u001b[1;31morigin/HEAD\u001b[m\u001b[33m, \u001b[m\u001b[1;32mmaster\u001b[m\u001b[33m, \u001b[m\u001b[1;32maddison-first-faq\u001b[m\u001b[33m)\u001b[m Addison's first commit\n",
            "* \u001b[33m32b1d92\u001b[m add README\n"
          ]
        }
      ]
    },
    {
      "cell_type": "markdown",
      "source": [
        "# Player 1 switch to remote branch"
      ],
      "metadata": {
        "id": "_MG-ksnGA7TG"
      }
    },
    {
      "cell_type": "code",
      "source": [
        "!git switch sangita-add-profile"
      ],
      "metadata": {
        "colab": {
          "base_uri": "https://localhost:8080/"
        },
        "id": "pCGPY9DI_370",
        "outputId": "f517e9ae-6c9d-42e0-db25-7f2fd659dfb6"
      },
      "execution_count": null,
      "outputs": [
        {
          "output_type": "stream",
          "name": "stdout",
          "text": [
            "branch 'sangita-add-profile' set up to track 'origin/sangita-add-profile'.\n",
            "Switched to a new branch 'sangita-add-profile'\n"
          ]
        }
      ]
    },
    {
      "cell_type": "code",
      "source": [
        "!git branch -vv"
      ],
      "metadata": {
        "colab": {
          "base_uri": "https://localhost:8080/"
        },
        "id": "WbZDo2DsA_ns",
        "outputId": "a62bddc8-c5a6-4e76-a3b4-71bf87a00020"
      },
      "execution_count": null,
      "outputs": [
        {
          "output_type": "stream",
          "name": "stdout",
          "text": [
            "  addison-add-faqs   \u001b[m 3021d61 [\u001b[34morigin/addison-add-faqs\u001b[m] Add second FAQ\n",
            "  addison-first-faq  \u001b[m 0d0f970 Addison's first commit\n",
            "  master             \u001b[m 0d0f970 [\u001b[34morigin/master\u001b[m] Addison's first commit\n",
            "* \u001b[32msangita-add-profile\u001b[m 8866b35 [\u001b[34morigin/sangita-add-profile\u001b[m] Add profile sample\n"
          ]
        }
      ]
    },
    {
      "cell_type": "code",
      "source": [
        "!echo >> Profile.md\n",
        "!echo \"Skills: Digging holes, chasing cars and barking\" >> Profile.md"
      ],
      "metadata": {
        "id": "RRO_JPRhBBQn"
      },
      "execution_count": null,
      "outputs": []
    },
    {
      "cell_type": "code",
      "source": [
        "!git add Profile.md"
      ],
      "metadata": {
        "id": "rRJ7yF1rBV9c"
      },
      "execution_count": null,
      "outputs": []
    },
    {
      "cell_type": "code",
      "source": [
        "!git commit -m \"Update profile\""
      ],
      "metadata": {
        "colab": {
          "base_uri": "https://localhost:8080/"
        },
        "id": "GRVfDnDCBaYP",
        "outputId": "347f764d-aafb-43bd-91bb-ea00f3ea8f1d"
      },
      "execution_count": null,
      "outputs": [
        {
          "output_type": "stream",
          "name": "stdout",
          "text": [
            "[sangita-add-profile 91ace92] Update profile\n",
            " 1 file changed, 2 insertions(+), 1 deletion(-)\n"
          ]
        }
      ]
    },
    {
      "cell_type": "markdown",
      "source": [
        "# Player 2 add to remote branch"
      ],
      "metadata": {
        "id": "o7Ifsw5_BhSg"
      }
    },
    {
      "cell_type": "code",
      "source": [
        "%cd ../sangitas-clone"
      ],
      "metadata": {
        "colab": {
          "base_uri": "https://localhost:8080/"
        },
        "id": "ilNwIwUJBbo2",
        "outputId": "2d123530-ae75-4b54-95de-47e81bb5ea5c"
      },
      "execution_count": null,
      "outputs": [
        {
          "output_type": "stream",
          "name": "stdout",
          "text": [
            "/content/sangitas-clone\n"
          ]
        }
      ]
    },
    {
      "cell_type": "code",
      "source": [
        "!git branch -vv"
      ],
      "metadata": {
        "colab": {
          "base_uri": "https://localhost:8080/"
        },
        "id": "-uGvqwcaBpSi",
        "outputId": "8130a905-4fec-4ca4-b803-6327d43d5e8b"
      },
      "execution_count": null,
      "outputs": [
        {
          "output_type": "stream",
          "name": "stdout",
          "text": [
            "  master             \u001b[m 0d0f970 [\u001b[34morigin/master\u001b[m] Addison's first commit\n",
            "* \u001b[32msangita-add-profile\u001b[m 8866b35 [\u001b[34morigin/sangita-add-profile\u001b[m] Add profile sample\n"
          ]
        }
      ]
    },
    {
      "cell_type": "code",
      "source": [
        "!git switch addison-add-faqs"
      ],
      "metadata": {
        "colab": {
          "base_uri": "https://localhost:8080/"
        },
        "id": "m5OCMrcABqmc",
        "outputId": "6354bd36-0709-489b-d348-2e1638c8b484"
      },
      "execution_count": null,
      "outputs": [
        {
          "output_type": "stream",
          "name": "stdout",
          "text": [
            "branch 'addison-add-faqs' set up to track 'origin/addison-add-faqs'.\n",
            "Switched to a new branch 'addison-add-faqs'\n"
          ]
        }
      ]
    },
    {
      "cell_type": "code",
      "source": [
        "!echo >> FAQ.md\n",
        "!echo \"Photos are great, but how do I smell the other dogs?\">> FAQ.md\n",
        "!echo >> FAQ.md\n",
        "!echo \"We simply do not have the technology for this feature.\">> FAQ.md"
      ],
      "metadata": {
        "id": "JPXM_BroBsuF"
      },
      "execution_count": null,
      "outputs": []
    },
    {
      "cell_type": "code",
      "source": [
        "!git add .\n",
        "!git commit -m \"Update FAQ\""
      ],
      "metadata": {
        "colab": {
          "base_uri": "https://localhost:8080/"
        },
        "id": "Mm1dNBkgCO5X",
        "outputId": "cb6ed178-84dc-449c-ef8a-cc60b3fff649"
      },
      "execution_count": null,
      "outputs": [
        {
          "output_type": "stream",
          "name": "stdout",
          "text": [
            "[addison-add-faqs 42cdd7b] Update FAQ\n",
            " 1 file changed, 4 insertions(+), 1 deletion(-)\n"
          ]
        }
      ]
    },
    {
      "cell_type": "markdown",
      "source": [
        "# Checking your remote branches player 1"
      ],
      "metadata": {
        "id": "o5Y8BZ2zDNwP"
      }
    },
    {
      "cell_type": "code",
      "source": [
        "%cd ../addisons-clone"
      ],
      "metadata": {
        "colab": {
          "base_uri": "https://localhost:8080/"
        },
        "id": "1qXs3LAXCS7-",
        "outputId": "e69d834c-c433-4800-9069-82ee61eff2e8"
      },
      "execution_count": null,
      "outputs": [
        {
          "output_type": "stream",
          "name": "stdout",
          "text": [
            "/content/addisons-clone\n"
          ]
        }
      ]
    },
    {
      "cell_type": "code",
      "source": [
        "!git status"
      ],
      "metadata": {
        "colab": {
          "base_uri": "https://localhost:8080/"
        },
        "id": "lxhLG1rxDRRV",
        "outputId": "5ad035a3-5aaf-4197-b9df-f43fc7142257"
      },
      "execution_count": null,
      "outputs": [
        {
          "output_type": "stream",
          "name": "stdout",
          "text": [
            "On branch sangita-add-profile\n",
            "Your branch is ahead of 'origin/sangita-add-profile' by 1 commit.\n",
            "  (use \"git push\" to publish your local commits)\n",
            "\n",
            "nothing to commit, working tree clean\n"
          ]
        }
      ]
    },
    {
      "cell_type": "code",
      "source": [
        "!git push"
      ],
      "metadata": {
        "colab": {
          "base_uri": "https://localhost:8080/"
        },
        "id": "6uWQ9hpGDR82",
        "outputId": "b59e1976-94da-4e62-aa9b-62727205024c"
      },
      "execution_count": null,
      "outputs": [
        {
          "output_type": "stream",
          "name": "stdout",
          "text": [
            "Enumerating objects: 5, done.\n",
            "Counting objects:  20% (1/5)\rCounting objects:  40% (2/5)\rCounting objects:  60% (3/5)\rCounting objects:  80% (4/5)\rCounting objects: 100% (5/5)\rCounting objects: 100% (5/5), done.\n",
            "Delta compression using up to 2 threads\n",
            "Compressing objects:  33% (1/3)\rCompressing objects:  66% (2/3)\rCompressing objects: 100% (3/3)\rCompressing objects: 100% (3/3), done.\n",
            "Writing objects:  33% (1/3)\rWriting objects:  66% (2/3)\rWriting objects: 100% (3/3)\rWriting objects: 100% (3/3), 420 bytes | 420.00 KiB/s, done.\n",
            "Total 3 (delta 0), reused 0 (delta 0), pack-reused 0\n",
            "To https://github.com/M-110/hawtdawg-all-ears.git\n",
            "   8866b35..91ace92  sangita-add-profile -> sangita-add-profile\n"
          ]
        }
      ]
    },
    {
      "cell_type": "markdown",
      "source": [
        "# Player 2 push"
      ],
      "metadata": {
        "id": "ru-wQrOIDdSy"
      }
    },
    {
      "cell_type": "code",
      "source": [
        "%cd ../sangitas-clone"
      ],
      "metadata": {
        "colab": {
          "base_uri": "https://localhost:8080/"
        },
        "id": "yiGIeYqWDaj7",
        "outputId": "c90e2413-f9ae-4fc0-c426-9c7b54f6e4ec"
      },
      "execution_count": null,
      "outputs": [
        {
          "output_type": "stream",
          "name": "stdout",
          "text": [
            "/content/sangitas-clone\n"
          ]
        }
      ]
    },
    {
      "cell_type": "code",
      "source": [
        "!git status"
      ],
      "metadata": {
        "colab": {
          "base_uri": "https://localhost:8080/"
        },
        "id": "SJpCFc4aDb-5",
        "outputId": "e8aef502-2bec-4de8-a28b-83261c536ccc"
      },
      "execution_count": null,
      "outputs": [
        {
          "output_type": "stream",
          "name": "stdout",
          "text": [
            "On branch addison-add-faqs\n",
            "Your branch is ahead of 'origin/addison-add-faqs' by 1 commit.\n",
            "  (use \"git push\" to publish your local commits)\n",
            "\n",
            "nothing to commit, working tree clean\n"
          ]
        }
      ]
    },
    {
      "cell_type": "code",
      "source": [
        "!git push"
      ],
      "metadata": {
        "colab": {
          "base_uri": "https://localhost:8080/"
        },
        "id": "5y0tfsY8DjCI",
        "outputId": "c2ed0001-5fd7-4e5a-ccb6-4c410aed910f"
      },
      "execution_count": null,
      "outputs": [
        {
          "output_type": "stream",
          "name": "stdout",
          "text": [
            "Enumerating objects: 5, done.\n",
            "Counting objects:  20% (1/5)\rCounting objects:  40% (2/5)\rCounting objects:  60% (3/5)\rCounting objects:  80% (4/5)\rCounting objects: 100% (5/5)\rCounting objects: 100% (5/5), done.\n",
            "Delta compression using up to 2 threads\n",
            "Compressing objects:  33% (1/3)\rCompressing objects:  66% (2/3)\rCompressing objects: 100% (3/3)\rCompressing objects: 100% (3/3), done.\n",
            "Writing objects:  33% (1/3)\rWriting objects:  66% (2/3)\rWriting objects: 100% (3/3)\rWriting objects: 100% (3/3), 401 bytes | 401.00 KiB/s, done.\n",
            "Total 3 (delta 1), reused 0 (delta 0), pack-reused 0\n",
            "remote: Resolving deltas:   0% (0/1)\u001b[K\rremote: Resolving deltas: 100% (1/1)\u001b[K\rremote: Resolving deltas: 100% (1/1), completed with 1 local object.\u001b[K\n",
            "To https://github.com/M-110/hawtdawg-all-ears.git\n",
            "   3021d61..42cdd7b  addison-add-faqs -> addison-add-faqs\n"
          ]
        }
      ]
    },
    {
      "cell_type": "markdown",
      "source": [
        "# Use git fetch and git merge instead of git pull"
      ],
      "metadata": {
        "id": "Lh7vlWLgFDGt"
      }
    },
    {
      "cell_type": "markdown",
      "source": [
        "# Player 1 catch up to remote"
      ],
      "metadata": {
        "id": "0Gdlwd0FNQBU"
      }
    },
    {
      "cell_type": "code",
      "source": [
        "%cd ../addisons-clone"
      ],
      "metadata": {
        "colab": {
          "base_uri": "https://localhost:8080/"
        },
        "id": "A2Kg__JYDjx_",
        "outputId": "11da266a-131e-46d7-c5a9-b5e985451089"
      },
      "execution_count": null,
      "outputs": [
        {
          "output_type": "stream",
          "name": "stdout",
          "text": [
            "/content/addisons-clone\n"
          ]
        }
      ]
    },
    {
      "cell_type": "code",
      "source": [
        "!git branch -vv"
      ],
      "metadata": {
        "colab": {
          "base_uri": "https://localhost:8080/"
        },
        "id": "gkwW11UVNSj1",
        "outputId": "2cfb8e84-bf6c-42c8-bad8-8f867e62a5e4"
      },
      "execution_count": null,
      "outputs": [
        {
          "output_type": "stream",
          "name": "stdout",
          "text": [
            "  addison-add-faqs   \u001b[m 3021d61 [\u001b[34morigin/addison-add-faqs\u001b[m] Add second FAQ\n",
            "  addison-first-faq  \u001b[m 0d0f970 Addison's first commit\n",
            "  master             \u001b[m 0d0f970 [\u001b[34morigin/master\u001b[m] Addison's first commit\n",
            "* \u001b[32msangita-add-profile\u001b[m 91ace92 [\u001b[34morigin/sangita-add-profile\u001b[m] Update profile\n"
          ]
        }
      ]
    },
    {
      "cell_type": "code",
      "source": [
        "!git status"
      ],
      "metadata": {
        "colab": {
          "base_uri": "https://localhost:8080/"
        },
        "id": "uF0jC9JsNawb",
        "outputId": "652b31a8-ea0d-4bf2-ed14-9a74d7eb3942"
      },
      "execution_count": null,
      "outputs": [
        {
          "output_type": "stream",
          "name": "stdout",
          "text": [
            "On branch sangita-add-profile\n",
            "Your branch is up to date with 'origin/sangita-add-profile'.\n",
            "\n",
            "nothing to commit, working tree clean\n"
          ]
        }
      ]
    },
    {
      "cell_type": "code",
      "source": [
        "!git fetch"
      ],
      "metadata": {
        "colab": {
          "base_uri": "https://localhost:8080/"
        },
        "id": "VIHVfZpRNbNM",
        "outputId": "6bee2847-d93c-4392-b73e-7c75839bbbbc"
      },
      "execution_count": null,
      "outputs": [
        {
          "output_type": "stream",
          "name": "stdout",
          "text": [
            "remote: Enumerating objects: 5, done.\u001b[K\n",
            "remote: Counting objects:  20% (1/5)\u001b[K\rremote: Counting objects:  40% (2/5)\u001b[K\rremote: Counting objects:  60% (3/5)\u001b[K\rremote: Counting objects:  80% (4/5)\u001b[K\rremote: Counting objects: 100% (5/5)\u001b[K\rremote: Counting objects: 100% (5/5), done.\u001b[K\n",
            "remote: Compressing objects:  50% (1/2)\u001b[K\rremote: Compressing objects: 100% (2/2)\u001b[K\rremote: Compressing objects: 100% (2/2), done.\u001b[K\n",
            "remote: Total 3 (delta 1), reused 3 (delta 1), pack-reused 0\u001b[K\n",
            "Unpacking objects:  33% (1/3)\rUnpacking objects:  66% (2/3)\rUnpacking objects: 100% (3/3)\rUnpacking objects: 100% (3/3), 381 bytes | 381.00 KiB/s, done.\n",
            "From https://github.com/M-110/hawtdawg-all-ears\n",
            "   3021d61..42cdd7b  addison-add-faqs -> origin/addison-add-faqs\n"
          ]
        }
      ]
    },
    {
      "cell_type": "code",
      "source": [
        "!git switch addison-add-faqs"
      ],
      "metadata": {
        "colab": {
          "base_uri": "https://localhost:8080/"
        },
        "id": "Jzxz_AiKNcaI",
        "outputId": "a526db3d-38d3-487b-82b9-f9ee9a3b494d"
      },
      "execution_count": null,
      "outputs": [
        {
          "output_type": "stream",
          "name": "stdout",
          "text": [
            "Switched to branch 'addison-add-faqs'\n",
            "Your branch is behind 'origin/addison-add-faqs' by 1 commit, and can be fast-forwarded.\n",
            "  (use \"git pull\" to update your local branch)\n"
          ]
        }
      ]
    },
    {
      "cell_type": "code",
      "source": [
        "!git branch -vv"
      ],
      "metadata": {
        "colab": {
          "base_uri": "https://localhost:8080/"
        },
        "id": "rMZ2WUVUNjs7",
        "outputId": "b2956a95-68e1-4f24-eeca-947d39f29ddb"
      },
      "execution_count": null,
      "outputs": [
        {
          "output_type": "stream",
          "name": "stdout",
          "text": [
            "* \u001b[32maddison-add-faqs   \u001b[m 3021d61 [\u001b[34morigin/addison-add-faqs\u001b[m: behind 1] Add second FAQ\n",
            "  addison-first-faq  \u001b[m 0d0f970 Addison's first commit\n",
            "  master             \u001b[m 0d0f970 [\u001b[34morigin/master\u001b[m] Addison's first commit\n",
            "  sangita-add-profile\u001b[m 91ace92 [\u001b[34morigin/sangita-add-profile\u001b[m] Update profile\n"
          ]
        }
      ]
    },
    {
      "cell_type": "code",
      "source": [
        "!git merge origin/addison-add-faqs"
      ],
      "metadata": {
        "colab": {
          "base_uri": "https://localhost:8080/"
        },
        "id": "KFAwH1PTNpBm",
        "outputId": "fe5d196e-e553-4051-9b92-62e93f3693da"
      },
      "execution_count": null,
      "outputs": [
        {
          "output_type": "stream",
          "name": "stdout",
          "text": [
            "Updating 3021d61..42cdd7b\n",
            "Fast-forward\n",
            " FAQ.md | 5 \u001b[32m++++\u001b[m\u001b[31m-\u001b[m\n",
            " 1 file changed, 4 insertions(+), 1 deletion(-)\n"
          ]
        }
      ]
    },
    {
      "cell_type": "code",
      "source": [
        "!git status"
      ],
      "metadata": {
        "colab": {
          "base_uri": "https://localhost:8080/"
        },
        "id": "44i6ihDqNybB",
        "outputId": "313e78a7-57e8-4907-8895-e5a136d1934a"
      },
      "execution_count": null,
      "outputs": [
        {
          "output_type": "stream",
          "name": "stdout",
          "text": [
            "On branch addison-add-faqs\n",
            "Your branch is up to date with 'origin/addison-add-faqs'.\n",
            "\n",
            "nothing to commit, working tree clean\n"
          ]
        }
      ]
    },
    {
      "cell_type": "code",
      "source": [
        "!git push"
      ],
      "metadata": {
        "colab": {
          "base_uri": "https://localhost:8080/"
        },
        "id": "9-T4fbNdOHJk",
        "outputId": "4e0cb0d4-7e56-4392-9131-1412d0f623d4"
      },
      "execution_count": null,
      "outputs": [
        {
          "output_type": "stream",
          "name": "stdout",
          "text": [
            "Everything up-to-date\n"
          ]
        }
      ]
    },
    {
      "cell_type": "markdown",
      "source": [
        "# Player 2"
      ],
      "metadata": {
        "id": "KRAYzPDHOJqz"
      }
    },
    {
      "cell_type": "code",
      "source": [
        "%cd ../sangitas-clone"
      ],
      "metadata": {
        "colab": {
          "base_uri": "https://localhost:8080/"
        },
        "id": "w_YYDRHUOHsR",
        "outputId": "79d84fe2-aa24-41dd-ca40-631dfe571942"
      },
      "execution_count": null,
      "outputs": [
        {
          "output_type": "stream",
          "name": "stdout",
          "text": [
            "/content/sangitas-clone\n"
          ]
        }
      ]
    },
    {
      "cell_type": "code",
      "source": [
        "!git fetch"
      ],
      "metadata": {
        "colab": {
          "base_uri": "https://localhost:8080/"
        },
        "id": "Z5eN8kjnOUGA",
        "outputId": "e6266b36-8c2a-43ce-95bb-59d9ff38fe73"
      },
      "execution_count": null,
      "outputs": [
        {
          "output_type": "stream",
          "name": "stdout",
          "text": [
            "remote: Enumerating objects: 5, done.\u001b[K\n",
            "remote: Counting objects:  20% (1/5)\u001b[K\rremote: Counting objects:  40% (2/5)\u001b[K\rremote: Counting objects:  60% (3/5)\u001b[K\rremote: Counting objects:  80% (4/5)\u001b[K\rremote: Counting objects: 100% (5/5)\u001b[K\rremote: Counting objects: 100% (5/5), done.\u001b[K\n",
            "remote: Compressing objects:  33% (1/3)\u001b[K\rremote: Compressing objects:  66% (2/3)\u001b[K\rremote: Compressing objects: 100% (3/3)\u001b[K\rremote: Compressing objects: 100% (3/3), done.\u001b[K\n",
            "remote: Total 3 (delta 0), reused 3 (delta 0), pack-reused 0\u001b[K\n",
            "Unpacking objects:  33% (1/3)\rUnpacking objects:  66% (2/3)\rUnpacking objects: 100% (3/3)\rUnpacking objects: 100% (3/3), 400 bytes | 400.00 KiB/s, done.\n",
            "From https://github.com/M-110/hawtdawg-all-ears\n",
            "   8866b35..91ace92  sangita-add-profile -> origin/sangita-add-profile\n"
          ]
        }
      ]
    },
    {
      "cell_type": "code",
      "source": [
        "!git status"
      ],
      "metadata": {
        "colab": {
          "base_uri": "https://localhost:8080/"
        },
        "id": "8cjTbwjGOcDP",
        "outputId": "0ec93b98-a4c8-4586-cd17-ebad7c582ff4"
      },
      "execution_count": null,
      "outputs": [
        {
          "output_type": "stream",
          "name": "stdout",
          "text": [
            "On branch addison-add-faqs\n",
            "Your branch is up to date with 'origin/addison-add-faqs'.\n",
            "\n",
            "nothing to commit, working tree clean\n"
          ]
        }
      ]
    },
    {
      "cell_type": "code",
      "source": [
        "!git switch sangita-add-profile"
      ],
      "metadata": {
        "colab": {
          "base_uri": "https://localhost:8080/"
        },
        "id": "FWIRBUaVOWf3",
        "outputId": "2c337216-5ff3-4bd2-9321-2eeb5f15b59b"
      },
      "execution_count": null,
      "outputs": [
        {
          "output_type": "stream",
          "name": "stdout",
          "text": [
            "Switched to branch 'sangita-add-profile'\n",
            "Your branch is behind 'origin/sangita-add-profile' by 1 commit, and can be fast-forwarded.\n",
            "  (use \"git pull\" to update your local branch)\n"
          ]
        }
      ]
    },
    {
      "cell_type": "code",
      "source": [
        "!git merge origin/sangita-add-profile"
      ],
      "metadata": {
        "colab": {
          "base_uri": "https://localhost:8080/"
        },
        "id": "T1vnP1UfOfHv",
        "outputId": "290565dd-199c-4505-9b04-d6515bc16d16"
      },
      "execution_count": null,
      "outputs": [
        {
          "output_type": "stream",
          "name": "stdout",
          "text": [
            "Updating 8866b35..91ace92\n",
            "Fast-forward\n",
            " Profile.md | 3 \u001b[32m++\u001b[m\u001b[31m-\u001b[m\n",
            " 1 file changed, 2 insertions(+), 1 deletion(-)\n"
          ]
        }
      ]
    },
    {
      "cell_type": "markdown",
      "source": [
        "# Cleaning up local git after pull requests/deletion"
      ],
      "metadata": {
        "id": "w846YYKwRfLn"
      }
    },
    {
      "cell_type": "code",
      "source": [
        "!git branch -vv"
      ],
      "metadata": {
        "colab": {
          "base_uri": "https://localhost:8080/"
        },
        "id": "PGe3Wlz3OjzC",
        "outputId": "a398422d-559f-47d6-ba79-455e5de99ae7"
      },
      "execution_count": null,
      "outputs": [
        {
          "output_type": "stream",
          "name": "stdout",
          "text": [
            "  addison-add-faqs   \u001b[m 42cdd7b [\u001b[34morigin/addison-add-faqs\u001b[m] Update FAQ\n",
            "  master             \u001b[m 0d0f970 [\u001b[34morigin/master\u001b[m] Addison's first commit\n",
            "* \u001b[32msangita-add-profile\u001b[m 91ace92 [\u001b[34morigin/sangita-add-profile\u001b[m] Update profile\n"
          ]
        }
      ]
    },
    {
      "cell_type": "markdown",
      "source": [
        "## -p prune flag\n",
        "\n",
        "gets rid of the deleted remote repos"
      ],
      "metadata": {
        "id": "59Z7hn-iRlsF"
      }
    },
    {
      "cell_type": "code",
      "source": [
        "!git fetch -p"
      ],
      "metadata": {
        "colab": {
          "base_uri": "https://localhost:8080/"
        },
        "id": "g-i1vXFURj_j",
        "outputId": "95b2be17-fa50-45e1-a09a-f9baed501396"
      },
      "execution_count": null,
      "outputs": [
        {
          "output_type": "stream",
          "name": "stdout",
          "text": [
            "From https://github.com/M-110/hawtdawg-all-ears\n",
            " - [deleted]         (none)     -> origin/addison-add-faqs\n",
            " - [deleted]         (none)     -> origin/sangita-add-profile\n",
            "remote: Enumerating objects: 6, done.\u001b[K\n",
            "remote: Counting objects:  16% (1/6)\u001b[K\rremote: Counting objects:  33% (2/6)\u001b[K\rremote: Counting objects:  50% (3/6)\u001b[K\rremote: Counting objects:  66% (4/6)\u001b[K\rremote: Counting objects:  83% (5/6)\u001b[K\rremote: Counting objects: 100% (6/6)\u001b[K\rremote: Counting objects: 100% (6/6), done.\u001b[K\n",
            "remote: Compressing objects:  33% (1/3)\u001b[K\rremote: Compressing objects:  66% (2/3)\u001b[K\rremote: Compressing objects: 100% (3/3)\u001b[K\rremote: Compressing objects: 100% (3/3), done.\u001b[K\n",
            "remote: Total 3 (delta 0), reused 0 (delta 0), pack-reused 0\u001b[K\n",
            "Unpacking objects:  33% (1/3)\rUnpacking objects:  66% (2/3)\rUnpacking objects: 100% (3/3)\rUnpacking objects: 100% (3/3), 1.32 KiB | 1.32 MiB/s, done.\n",
            "   0d0f970..258cd56  master     -> origin/master\n"
          ]
        }
      ]
    },
    {
      "cell_type": "code",
      "source": [
        "!git branch -vv"
      ],
      "metadata": {
        "colab": {
          "base_uri": "https://localhost:8080/"
        },
        "id": "g0DpNpyIRpdE",
        "outputId": "56d07b9c-9710-4e71-b616-c95e9121811e"
      },
      "execution_count": null,
      "outputs": [
        {
          "output_type": "stream",
          "name": "stdout",
          "text": [
            "  addison-add-faqs   \u001b[m 42cdd7b [\u001b[34morigin/addison-add-faqs\u001b[m: gone] Update FAQ\n",
            "  master             \u001b[m 0d0f970 [\u001b[34morigin/master\u001b[m: behind 6] Addison's first commit\n",
            "* \u001b[32msangita-add-profile\u001b[m 91ace92 [\u001b[34morigin/sangita-add-profile\u001b[m: gone] Update profile\n"
          ]
        }
      ]
    },
    {
      "cell_type": "code",
      "source": [
        "!git switch master"
      ],
      "metadata": {
        "colab": {
          "base_uri": "https://localhost:8080/"
        },
        "id": "uTjS8PP0R3p2",
        "outputId": "05e6beee-0c3c-450b-da32-4d3553514519"
      },
      "execution_count": null,
      "outputs": [
        {
          "output_type": "stream",
          "name": "stdout",
          "text": [
            "Switched to branch 'master'\n",
            "Your branch is behind 'origin/master' by 6 commits, and can be fast-forwarded.\n",
            "  (use \"git pull\" to update your local branch)\n"
          ]
        }
      ]
    },
    {
      "cell_type": "code",
      "source": [
        "!git branch addison-add-faqs -D"
      ],
      "metadata": {
        "colab": {
          "base_uri": "https://localhost:8080/"
        },
        "id": "kJIkfGEpRu9U",
        "outputId": "c1478aa0-25e5-4ec9-8e7e-9b60f8a48105"
      },
      "execution_count": null,
      "outputs": [
        {
          "output_type": "stream",
          "name": "stdout",
          "text": [
            "Deleted branch addison-add-faqs (was 42cdd7b).\n"
          ]
        }
      ]
    },
    {
      "cell_type": "code",
      "source": [
        "!git branch sangita-add-profile -D"
      ],
      "metadata": {
        "colab": {
          "base_uri": "https://localhost:8080/"
        },
        "id": "sNRxAwjIR7Se",
        "outputId": "944bb6fa-b7e2-442e-bbe3-fdac8ff8143a"
      },
      "execution_count": null,
      "outputs": [
        {
          "output_type": "stream",
          "name": "stdout",
          "text": [
            "Deleted branch sangita-add-profile (was 91ace92).\n"
          ]
        }
      ]
    },
    {
      "cell_type": "code",
      "source": [
        "!git branch -vv"
      ],
      "metadata": {
        "colab": {
          "base_uri": "https://localhost:8080/"
        },
        "id": "h5SLoCHuR_Lp",
        "outputId": "0519b127-18c3-4f34-ad52-f91a97ab5fff"
      },
      "execution_count": null,
      "outputs": [
        {
          "output_type": "stream",
          "name": "stdout",
          "text": [
            "* \u001b[32mmaster\u001b[m 0d0f970 [\u001b[34morigin/master\u001b[m: behind 6] Addison's first commit\n"
          ]
        }
      ]
    },
    {
      "cell_type": "code",
      "source": [
        "!git merge origin/master"
      ],
      "metadata": {
        "colab": {
          "base_uri": "https://localhost:8080/"
        },
        "id": "2045FTG9SCR-",
        "outputId": "d7502716-7ca4-4937-9540-1b8ab119d998"
      },
      "execution_count": null,
      "outputs": [
        {
          "output_type": "stream",
          "name": "stdout",
          "text": [
            "Updating 0d0f970..258cd56\n",
            "Fast-forward\n",
            " FAQ.md     | 12 \u001b[32m+++++++++++\u001b[m\u001b[31m-\u001b[m\n",
            " Profile.md | 10 \u001b[32m++++++++++\u001b[m\n",
            " 2 files changed, 21 insertions(+), 1 deletion(-)\n",
            " create mode 100644 Profile.md\n"
          ]
        }
      ]
    },
    {
      "cell_type": "code",
      "source": [
        "!git branch -vv"
      ],
      "metadata": {
        "colab": {
          "base_uri": "https://localhost:8080/"
        },
        "id": "HIjvqLLWSGH_",
        "outputId": "e1718b04-20a8-45e5-f693-a05f1951f52e"
      },
      "execution_count": null,
      "outputs": [
        {
          "output_type": "stream",
          "name": "stdout",
          "text": [
            "* \u001b[32mmaster\u001b[m 258cd56 [\u001b[34morigin/master\u001b[m] Merge pull request #1 from M-110/addison-add-faqs\n"
          ]
        }
      ]
    },
    {
      "cell_type": "code",
      "source": [
        "!git status"
      ],
      "metadata": {
        "colab": {
          "base_uri": "https://localhost:8080/"
        },
        "id": "XC8JKT7XSHbo",
        "outputId": "f83d7489-98fa-42c0-e392-90115aa1d969"
      },
      "execution_count": null,
      "outputs": [
        {
          "output_type": "stream",
          "name": "stdout",
          "text": [
            "On branch master\n",
            "Your branch is up to date with 'origin/master'.\n",
            "\n",
            "nothing to commit, working tree clean\n"
          ]
        }
      ]
    },
    {
      "cell_type": "code",
      "source": [
        "!git log --graph --oneline --all"
      ],
      "metadata": {
        "colab": {
          "base_uri": "https://localhost:8080/"
        },
        "id": "g-scIe8VSH7n",
        "outputId": "5c050be5-0819-439a-bbbb-8ef596651100"
      },
      "execution_count": null,
      "outputs": [
        {
          "output_type": "stream",
          "name": "stdout",
          "text": [
            "*   \u001b[33m258cd56\u001b[m\u001b[33m (\u001b[m\u001b[1;36mHEAD -> \u001b[m\u001b[1;32mmaster\u001b[m\u001b[33m, \u001b[m\u001b[1;31morigin/master\u001b[m\u001b[33m, \u001b[m\u001b[1;31morigin/HEAD\u001b[m\u001b[33m)\u001b[m Merge pull request #1 from M-110/addison-add-faqs\n",
            "\u001b[31m|\u001b[m\u001b[32m\\\u001b[m  \n",
            "\u001b[31m|\u001b[m * \u001b[33m42cdd7b\u001b[m Update FAQ\n",
            "\u001b[31m|\u001b[m * \u001b[33m3021d61\u001b[m Add second FAQ\n",
            "* \u001b[32m|\u001b[m   \u001b[33m4eaae00\u001b[m Merge pull request #2 from M-110/sangita-add-profile\n",
            "\u001b[32m|\u001b[m\u001b[34m\\\u001b[m \u001b[32m\\\u001b[m  \n",
            "\u001b[32m|\u001b[m \u001b[34m|\u001b[m\u001b[32m/\u001b[m  \n",
            "\u001b[32m|\u001b[m\u001b[32m/\u001b[m\u001b[34m|\u001b[m   \n",
            "\u001b[32m|\u001b[m * \u001b[33m91ace92\u001b[m Update profile\n",
            "\u001b[32m|\u001b[m * \u001b[33m8866b35\u001b[m Add profile sample\n",
            "\u001b[32m|\u001b[m\u001b[32m/\u001b[m  \n",
            "* \u001b[33m0d0f970\u001b[m Addison's first commit\n",
            "* \u001b[33m32b1d92\u001b[m add README\n"
          ]
        }
      ]
    },
    {
      "cell_type": "markdown",
      "source": [
        "# Use git fetch -p often\n",
        "\n",
        "it does no harm"
      ],
      "metadata": {
        "id": "ssCHR65TSVOh"
      }
    }
  ]
}