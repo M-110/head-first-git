{
  "nbformat": 4,
  "nbformat_minor": 0,
  "metadata": {
    "colab": {
      "name": "01_Beginning_Git.ipynb",
      "provenance": [],
      "collapsed_sections": [],
      "authorship_tag": "ABX9TyNPhHWVBJgoyu8d2pNEe9tm",
      "include_colab_link": true
    },
    "kernelspec": {
      "name": "python3",
      "display_name": "Python 3"
    },
    "language_info": {
      "name": "python"
    }
  },
  "cells": [
    {
      "cell_type": "markdown",
      "metadata": {
        "id": "view-in-github",
        "colab_type": "text"
      },
      "source": [
        "<a href=\"https://colab.research.google.com/github/M-110/head-first-git/blob/main/01_Beginning_Git.ipynb\" target=\"_parent\"><img src=\"https://colab.research.google.com/assets/colab-badge.svg\" alt=\"Open In Colab\"/></a>"
      ]
    },
    {
      "cell_type": "markdown",
      "metadata": {
        "id": "JmDDtiqDKRlQ"
      },
      "source": [
        "# Creating git repository"
      ]
    },
    {
      "cell_type": "code",
      "metadata": {
        "id": "GVSWh1iQKBoD"
      },
      "source": [
        "!mkdir myproject"
      ],
      "execution_count": 1,
      "outputs": []
    },
    {
      "cell_type": "code",
      "metadata": {
        "colab": {
          "base_uri": "https://localhost:8080/"
        },
        "id": "loNnSrzaKMSY",
        "outputId": "e39ba353-28bd-4e68-f35d-61fc937a92ef"
      },
      "source": [
        "%cd myproject"
      ],
      "execution_count": 2,
      "outputs": [
        {
          "output_type": "stream",
          "name": "stdout",
          "text": [
            "/content/myproject\n"
          ]
        }
      ]
    },
    {
      "cell_type": "code",
      "metadata": {
        "colab": {
          "base_uri": "https://localhost:8080/"
        },
        "id": "vEx4x3qIKXa9",
        "outputId": "cce9e480-048b-48dd-b6b6-b92baf3aa24f"
      },
      "source": [
        "!git init"
      ],
      "execution_count": 3,
      "outputs": [
        {
          "output_type": "stream",
          "name": "stdout",
          "text": [
            "Initialized empty Git repository in /content/myproject/.git/\n"
          ]
        }
      ]
    },
    {
      "cell_type": "code",
      "metadata": {
        "colab": {
          "base_uri": "https://localhost:8080/"
        },
        "id": "f2O7n4pLKaZ1",
        "outputId": "d8ab065f-3e8c-4951-f0d6-a1d0eaa2e44e"
      },
      "source": [
        "!ls -a -lh"
      ],
      "execution_count": 4,
      "outputs": [
        {
          "output_type": "stream",
          "name": "stdout",
          "text": [
            "total 12K\n",
            "drwxr-xr-x 3 root root 4.0K Jun  7 23:51 .\n",
            "drwxr-xr-x 1 root root 4.0K Jun  7 23:51 ..\n",
            "drwxr-xr-x 7 root root 4.0K Jun  7 23:51 .git\n"
          ]
        }
      ]
    },
    {
      "cell_type": "code",
      "metadata": {
        "colab": {
          "base_uri": "https://localhost:8080/"
        },
        "id": "S61GS-nnKqE-",
        "outputId": "c7aa0a9d-8b9a-4bb6-d71f-f7c710ae3d47"
      },
      "source": [
        "%cd .."
      ],
      "execution_count": 5,
      "outputs": [
        {
          "output_type": "stream",
          "name": "stdout",
          "text": [
            "/content\n"
          ]
        }
      ]
    },
    {
      "cell_type": "code",
      "metadata": {
        "id": "zLIyl1zDK-Ra"
      },
      "source": [
        "!rm myproject -r"
      ],
      "execution_count": 6,
      "outputs": []
    },
    {
      "cell_type": "markdown",
      "metadata": {
        "id": "WrW7CmUuLCsL"
      },
      "source": [
        "# Create another repository"
      ]
    },
    {
      "cell_type": "code",
      "metadata": {
        "id": "bdXnq5HyK_5m"
      },
      "source": [
        "!mkdir headfirst-git-samples/ch01_01 -p"
      ],
      "execution_count": 7,
      "outputs": []
    },
    {
      "cell_type": "code",
      "metadata": {
        "colab": {
          "base_uri": "https://localhost:8080/"
        },
        "id": "Irjagg4wLLSN",
        "outputId": "e7a0b993-88c8-40a0-879c-ef40fa1f55dd"
      },
      "source": [
        "%cd headfirst-git-samples/ch01_01/"
      ],
      "execution_count": 8,
      "outputs": [
        {
          "output_type": "stream",
          "name": "stdout",
          "text": [
            "/content/headfirst-git-samples/ch01_01\n"
          ]
        }
      ]
    },
    {
      "cell_type": "code",
      "metadata": {
        "colab": {
          "base_uri": "https://localhost:8080/"
        },
        "id": "qGVcyHbLLP5P",
        "outputId": "91e60643-a697-46a1-ca78-53a97ed7ee75"
      },
      "source": [
        "!git init"
      ],
      "execution_count": 9,
      "outputs": [
        {
          "output_type": "stream",
          "name": "stdout",
          "text": [
            "Initialized empty Git repository in /content/headfirst-git-samples/ch01_01/.git/\n"
          ]
        }
      ]
    },
    {
      "cell_type": "code",
      "metadata": {
        "colab": {
          "base_uri": "https://localhost:8080/"
        },
        "id": "TE3lNaM5LQrg",
        "outputId": "1c2bf836-3ace-4d10-dd41-e2169c102515"
      },
      "source": [
        "ls .git"
      ],
      "execution_count": 10,
      "outputs": [
        {
          "output_type": "stream",
          "name": "stdout",
          "text": [
            "\u001b[0m\u001b[01;34mbranches\u001b[0m/  config  description  HEAD  \u001b[01;34mhooks\u001b[0m/  \u001b[01;34minfo\u001b[0m/  \u001b[01;34mobjects\u001b[0m/  \u001b[01;34mrefs\u001b[0m/\n"
          ]
        }
      ]
    },
    {
      "cell_type": "code",
      "metadata": {
        "colab": {
          "base_uri": "https://localhost:8080/"
        },
        "id": "H8Dt9Sg7LY8Q",
        "outputId": "8a40032d-aa8e-4e10-be01-28509ba6da30"
      },
      "source": [
        "!git init"
      ],
      "execution_count": 11,
      "outputs": [
        {
          "output_type": "stream",
          "name": "stdout",
          "text": [
            "Reinitialized existing Git repository in /content/headfirst-git-samples/ch01_01/.git/\n"
          ]
        }
      ]
    },
    {
      "cell_type": "markdown",
      "metadata": {
        "id": "7gteK4D8MLNb"
      },
      "source": [
        "## Configure user info"
      ]
    },
    {
      "cell_type": "code",
      "metadata": {
        "id": "O-gpnhAPLypG"
      },
      "source": [
        "!git config --global user.name \"Colab\"\n",
        "!git config --global user.email \"colab@gmail.com\""
      ],
      "execution_count": 12,
      "outputs": []
    },
    {
      "cell_type": "markdown",
      "metadata": {
        "id": "NDAjmASPMUfB"
      },
      "source": [
        "# Commit"
      ]
    },
    {
      "cell_type": "code",
      "metadata": {
        "colab": {
          "base_uri": "https://localhost:8080/"
        },
        "id": "EfspmVdtMKR2",
        "outputId": "ebcd16df-6548-4f0b-9733-8cd53e9740d4"
      },
      "source": [
        "%cd .."
      ],
      "execution_count": 13,
      "outputs": [
        {
          "output_type": "stream",
          "name": "stdout",
          "text": [
            "/content/headfirst-git-samples\n"
          ]
        }
      ]
    },
    {
      "cell_type": "code",
      "metadata": {
        "id": "eI6rX6L8MXSL"
      },
      "source": [
        "!mkdir HawtDawg"
      ],
      "execution_count": 14,
      "outputs": []
    },
    {
      "cell_type": "code",
      "metadata": {
        "colab": {
          "base_uri": "https://localhost:8080/"
        },
        "id": "gRmGZ7gyN7DN",
        "outputId": "5adb64f5-2473-4088-8971-f2acddf8eda0"
      },
      "source": [
        "%cd HawtDawg"
      ],
      "execution_count": 15,
      "outputs": [
        {
          "output_type": "stream",
          "name": "stdout",
          "text": [
            "/content/headfirst-git-samples/HawtDawg\n"
          ]
        }
      ]
    },
    {
      "cell_type": "code",
      "metadata": {
        "colab": {
          "base_uri": "https://localhost:8080/"
        },
        "id": "mU5jhCJzN8Tg",
        "outputId": "61a301b6-9852-479a-fff4-0a2aa3d53dd3"
      },
      "source": [
        "!git init"
      ],
      "execution_count": 16,
      "outputs": [
        {
          "output_type": "stream",
          "name": "stdout",
          "text": [
            "Initialized empty Git repository in /content/headfirst-git-samples/HawtDawg/.git/\n"
          ]
        }
      ]
    },
    {
      "cell_type": "code",
      "metadata": {
        "colab": {
          "base_uri": "https://localhost:8080/"
        },
        "id": "lFdY7B_oN9Rt",
        "outputId": "937c843e-86e8-45f9-b379-f9b3d9bc6e29"
      },
      "source": [
        "%%writefile Checklist.md\n",
        "# Getting ready to commit\n",
        "- [ ] Gather initial set of requirements\n",
        "- [ ] Adpot a litter of puppies for user testing\n",
        "- [ ] Demo first version"
      ],
      "execution_count": 17,
      "outputs": [
        {
          "output_type": "stream",
          "name": "stdout",
          "text": [
            "Writing Checklist.md\n"
          ]
        }
      ]
    },
    {
      "cell_type": "code",
      "metadata": {
        "id": "FylJykiBOLy3"
      },
      "source": [
        "!git add Checklist.md"
      ],
      "execution_count": 18,
      "outputs": []
    },
    {
      "cell_type": "code",
      "metadata": {
        "colab": {
          "base_uri": "https://localhost:8080/"
        },
        "id": "Dlrzn4yPOTZn",
        "outputId": "91d4fde8-c818-4d15-c783-b0b59fef13e1"
      },
      "source": [
        "!git commit -m \"Intial commit\""
      ],
      "execution_count": 19,
      "outputs": [
        {
          "output_type": "stream",
          "name": "stdout",
          "text": [
            "[master (root-commit) c6b2070] Intial commit\n",
            " 1 file changed, 4 insertions(+)\n",
            " create mode 100644 Checklist.md\n"
          ]
        }
      ]
    },
    {
      "cell_type": "code",
      "metadata": {
        "colab": {
          "base_uri": "https://localhost:8080/"
        },
        "id": "XAd0D3HGOatf",
        "outputId": "3ea3e10f-b0ba-4ec4-bb0e-10247073afbb"
      },
      "source": [
        "!git status"
      ],
      "execution_count": 20,
      "outputs": [
        {
          "output_type": "stream",
          "name": "stdout",
          "text": [
            "On branch master\n",
            "nothing to commit, working tree clean\n"
          ]
        }
      ]
    },
    {
      "cell_type": "code",
      "metadata": {
        "id": "sXnca2lKOv_e"
      },
      "source": [
        "!echo \"print('Hello, World!')\" > hello.py"
      ],
      "execution_count": 21,
      "outputs": []
    },
    {
      "cell_type": "code",
      "metadata": {
        "colab": {
          "base_uri": "https://localhost:8080/"
        },
        "id": "wA810uQMO-Ug",
        "outputId": "784d9505-8726-4623-aa12-b0a2f8487a81"
      },
      "source": [
        "!git status"
      ],
      "execution_count": 22,
      "outputs": [
        {
          "output_type": "stream",
          "name": "stdout",
          "text": [
            "On branch master\n",
            "Untracked files:\n",
            "  (use \"git add <file>...\" to include in what will be committed)\n",
            "\n",
            "\t\u001b[31mhello.py\u001b[m\n",
            "\n",
            "nothing added to commit but untracked files present (use \"git add\" to track)\n"
          ]
        }
      ]
    },
    {
      "cell_type": "code",
      "metadata": {
        "colab": {
          "base_uri": "https://localhost:8080/"
        },
        "id": "GhPs6vw1O_Id",
        "outputId": "7fa83915-5005-4dc4-cea4-a0aa908b474e"
      },
      "source": [
        "!git log"
      ],
      "execution_count": 23,
      "outputs": [
        {
          "output_type": "stream",
          "name": "stdout",
          "text": [
            "\u001b[33mcommit c6b2070b97e3c40418855ee892a4ee6ae867043d\u001b[m\u001b[33m (\u001b[m\u001b[1;36mHEAD -> \u001b[m\u001b[1;32mmaster\u001b[m\u001b[33m)\u001b[m\n",
            "Author: Colab <colab@gmail.com>\n",
            "Date:   Tue Jun 7 23:51:03 2022 +0000\n",
            "\n",
            "    Intial commit\n"
          ]
        }
      ]
    },
    {
      "cell_type": "markdown",
      "metadata": {
        "id": "XzffMukK0CCD"
      },
      "source": [
        "# The multiple states of a file in Git repository\n",
        "\n",
        "* untracked: hasn't ben added to the index or committed\n",
        "* staged: added to the index\n",
        "* unmodified: committed to Git's memory \n",
        "* modified: a committed file that has been modified\n"
      ]
    },
    {
      "cell_type": "markdown",
      "metadata": {
        "id": "dKcopt5m1MGK"
      },
      "source": [
        "# Working with the index"
      ]
    },
    {
      "cell_type": "code",
      "metadata": {
        "id": "_CUx8P0BPdNX"
      },
      "source": [
        "!echo Hello, World! > hello.txt"
      ],
      "execution_count": 24,
      "outputs": []
    },
    {
      "cell_type": "code",
      "metadata": {
        "colab": {
          "base_uri": "https://localhost:8080/"
        },
        "id": "S5j9-Ins1Nw_",
        "outputId": "6397f3d8-f879-4608-af15-9cc99e6fd4b5"
      },
      "source": [
        "!git status"
      ],
      "execution_count": 25,
      "outputs": [
        {
          "output_type": "stream",
          "name": "stdout",
          "text": [
            "On branch master\n",
            "Untracked files:\n",
            "  (use \"git add <file>...\" to include in what will be committed)\n",
            "\n",
            "\t\u001b[31mhello.py\u001b[m\n",
            "\t\u001b[31mhello.txt\u001b[m\n",
            "\n",
            "nothing added to commit but untracked files present (use \"git add\" to track)\n"
          ]
        }
      ]
    },
    {
      "cell_type": "code",
      "metadata": {
        "id": "NYbrdzep1URS"
      },
      "source": [
        "!git add hello.txt"
      ],
      "execution_count": 26,
      "outputs": []
    },
    {
      "cell_type": "code",
      "metadata": {
        "colab": {
          "base_uri": "https://localhost:8080/"
        },
        "id": "ovswRa-z1WtW",
        "outputId": "6a86c8c4-7cf0-4a18-dc90-6096e48926be"
      },
      "source": [
        "!git status"
      ],
      "execution_count": 27,
      "outputs": [
        {
          "output_type": "stream",
          "name": "stdout",
          "text": [
            "On branch master\n",
            "Changes to be committed:\n",
            "  (use \"git reset HEAD <file>...\" to unstage)\n",
            "\n",
            "\t\u001b[32mnew file:   hello.txt\u001b[m\n",
            "\n",
            "Untracked files:\n",
            "  (use \"git add <file>...\" to include in what will be committed)\n",
            "\n",
            "\t\u001b[31mhello.py\u001b[m\n",
            "\n"
          ]
        }
      ]
    },
    {
      "cell_type": "code",
      "metadata": {
        "id": "nE5zNneT1Xfa"
      },
      "source": [
        "!echo HELLO WORLD! > hello.txt"
      ],
      "execution_count": 28,
      "outputs": []
    },
    {
      "cell_type": "markdown",
      "metadata": {
        "id": "4bGKyjyO1lRd"
      },
      "source": [
        "Now the indexed hello.txt and the directory hello.txt are different"
      ]
    },
    {
      "cell_type": "code",
      "metadata": {
        "colab": {
          "base_uri": "https://localhost:8080/"
        },
        "id": "TCqhZZgJ1f7C",
        "outputId": "1960293f-fe1d-48fc-d501-32f889e7caa2"
      },
      "source": [
        "!git status"
      ],
      "execution_count": 29,
      "outputs": [
        {
          "output_type": "stream",
          "name": "stdout",
          "text": [
            "On branch master\n",
            "Changes to be committed:\n",
            "  (use \"git reset HEAD <file>...\" to unstage)\n",
            "\n",
            "\t\u001b[32mnew file:   hello.txt\u001b[m\n",
            "\n",
            "Changes not staged for commit:\n",
            "  (use \"git add <file>...\" to update what will be committed)\n",
            "  (use \"git checkout -- <file>...\" to discard changes in working directory)\n",
            "\n",
            "\t\u001b[31mmodified:   hello.txt\u001b[m\n",
            "\n",
            "Untracked files:\n",
            "  (use \"git add <file>...\" to include in what will be committed)\n",
            "\n",
            "\t\u001b[31mhello.py\u001b[m\n",
            "\n"
          ]
        }
      ]
    },
    {
      "cell_type": "code",
      "metadata": {
        "colab": {
          "base_uri": "https://localhost:8080/"
        },
        "id": "0IHq29Gn1gup",
        "outputId": "7be1b151-b8b0-4dfb-ed88-585a564b3cb7"
      },
      "source": [
        "!git commit -m \"Adding hello\""
      ],
      "execution_count": 30,
      "outputs": [
        {
          "output_type": "stream",
          "name": "stdout",
          "text": [
            "[master 02c7668] Adding hello\n",
            " 1 file changed, 1 insertion(+)\n",
            " create mode 100644 hello.txt\n"
          ]
        }
      ]
    },
    {
      "cell_type": "markdown",
      "metadata": {
        "id": "jWw7_zGu1xjB"
      },
      "source": [
        "It added the indexed version, not the current version"
      ]
    },
    {
      "cell_type": "code",
      "metadata": {
        "colab": {
          "base_uri": "https://localhost:8080/"
        },
        "id": "Q47g2TeV1rVF",
        "outputId": "f12150e1-1749-40f4-a0f5-32c7e87d625d"
      },
      "source": [
        "!git status"
      ],
      "execution_count": 31,
      "outputs": [
        {
          "output_type": "stream",
          "name": "stdout",
          "text": [
            "On branch master\n",
            "Changes not staged for commit:\n",
            "  (use \"git add <file>...\" to update what will be committed)\n",
            "  (use \"git checkout -- <file>...\" to discard changes in working directory)\n",
            "\n",
            "\t\u001b[31mmodified:   hello.txt\u001b[m\n",
            "\n",
            "Untracked files:\n",
            "  (use \"git add <file>...\" to include in what will be committed)\n",
            "\n",
            "\t\u001b[31mhello.py\u001b[m\n",
            "\n",
            "no changes added to commit (use \"git add\" and/or \"git commit -a\")\n"
          ]
        }
      ]
    },
    {
      "cell_type": "code",
      "metadata": {
        "id": "WE9ONHfV1wVm"
      },
      "source": [
        "!git add hello.txt hello.py"
      ],
      "execution_count": 32,
      "outputs": []
    },
    {
      "cell_type": "code",
      "metadata": {
        "colab": {
          "base_uri": "https://localhost:8080/"
        },
        "id": "j9fk6tr413o_",
        "outputId": "161e3c4d-d328-48d7-8948-41438bd4f006"
      },
      "source": [
        "!git commit -m \"Update hello files\""
      ],
      "execution_count": 33,
      "outputs": [
        {
          "output_type": "stream",
          "name": "stdout",
          "text": [
            "[master c8ae5ca] Update hello files\n",
            " 2 files changed, 2 insertions(+), 1 deletion(-)\n",
            " create mode 100644 hello.py\n"
          ]
        }
      ]
    },
    {
      "cell_type": "code",
      "metadata": {
        "colab": {
          "base_uri": "https://localhost:8080/"
        },
        "id": "i18OgEcV16sh",
        "outputId": "0127c987-3852-4d46-e7cb-c623ca54c898"
      },
      "source": [
        "!git status"
      ],
      "execution_count": 34,
      "outputs": [
        {
          "output_type": "stream",
          "name": "stdout",
          "text": [
            "On branch master\n",
            "nothing to commit, working tree clean\n"
          ]
        }
      ]
    },
    {
      "cell_type": "code",
      "metadata": {
        "colab": {
          "base_uri": "https://localhost:8080/"
        },
        "id": "alQpZE-U19od",
        "outputId": "d2468e78-669a-4cb5-bb95-faa84db9ff82"
      },
      "source": [
        "  !git log"
      ],
      "execution_count": 35,
      "outputs": [
        {
          "output_type": "stream",
          "name": "stdout",
          "text": [
            "\u001b[33mcommit c8ae5cace54f12d0742e49a212c0a32c217de0f1\u001b[m\u001b[33m (\u001b[m\u001b[1;36mHEAD -> \u001b[m\u001b[1;32mmaster\u001b[m\u001b[33m)\u001b[m\n",
            "Author: Colab <colab@gmail.com>\n",
            "Date:   Tue Jun 7 23:51:05 2022 +0000\n",
            "\n",
            "    Update hello files\n",
            "\n",
            "\u001b[33mcommit 02c76689a909571a8bee1ef46632f947ffedd584\u001b[m\n",
            "Author: Colab <colab@gmail.com>\n",
            "Date:   Tue Jun 7 23:51:05 2022 +0000\n",
            "\n",
            "    Adding hello\n",
            "\n",
            "\u001b[33mcommit c6b2070b97e3c40418855ee892a4ee6ae867043d\u001b[m\n",
            "Author: Colab <colab@gmail.com>\n",
            "Date:   Tue Jun 7 23:51:03 2022 +0000\n",
            "\n",
            "    Intial commit\n"
          ]
        }
      ]
    },
    {
      "cell_type": "markdown",
      "metadata": {
        "id": "EWk3I86A2RLJ"
      },
      "source": [
        "# Index Exercise"
      ]
    },
    {
      "cell_type": "code",
      "metadata": {
        "colab": {
          "base_uri": "https://localhost:8080/"
        },
        "id": "oGNePVK_1-FE",
        "outputId": "4643e621-1522-4351-9901-4a72027290ca"
      },
      "source": [
        "%cd .."
      ],
      "execution_count": 36,
      "outputs": [
        {
          "output_type": "stream",
          "name": "stdout",
          "text": [
            "/content/headfirst-git-samples\n"
          ]
        }
      ]
    },
    {
      "cell_type": "code",
      "metadata": {
        "id": "07Ga91Jw2XrR"
      },
      "source": [
        "!mkdir playwith-index"
      ],
      "execution_count": 37,
      "outputs": []
    },
    {
      "cell_type": "code",
      "metadata": {
        "colab": {
          "base_uri": "https://localhost:8080/"
        },
        "id": "rKYkqq7L2aR8",
        "outputId": "d52c3f1d-0da5-42f4-c34f-e45674a70ab5"
      },
      "source": [
        "%cd playwith-index"
      ],
      "execution_count": 38,
      "outputs": [
        {
          "output_type": "stream",
          "name": "stdout",
          "text": [
            "/content/headfirst-git-samples/playwith-index\n"
          ]
        }
      ]
    },
    {
      "cell_type": "code",
      "metadata": {
        "colab": {
          "base_uri": "https://localhost:8080/"
        },
        "id": "cgseXyUk2bI9",
        "outputId": "7678d69e-9cd5-4922-8c1b-eee2068cd4c5"
      },
      "source": [
        "!git init"
      ],
      "execution_count": 39,
      "outputs": [
        {
          "output_type": "stream",
          "name": "stdout",
          "text": [
            "Initialized empty Git repository in /content/headfirst-git-samples/playwith-index/.git/\n"
          ]
        }
      ]
    },
    {
      "cell_type": "code",
      "metadata": {
        "id": "Ot0QEP572cxl"
      },
      "source": [
        "!echo \"Hello\" > multiple-add.txt"
      ],
      "execution_count": 40,
      "outputs": []
    },
    {
      "cell_type": "markdown",
      "metadata": {
        "id": "rSe-WIk62pfM"
      },
      "source": [
        "Working directory:\n",
        "  * multiple-add.txt\n",
        "  \n",
        "index:\n",
        "  * empty"
      ]
    },
    {
      "cell_type": "code",
      "metadata": {
        "id": "pjNURHKH2meY"
      },
      "source": [
        "!git add multiple-add.txt"
      ],
      "execution_count": 41,
      "outputs": []
    },
    {
      "cell_type": "markdown",
      "metadata": {
        "id": "uvPsFeAv3AdI"
      },
      "source": [
        "Working directory:\n",
        "  * tracked multiple-add.txt\n",
        "  \n",
        "index:\n",
        "  * multiple-add.txt"
      ]
    },
    {
      "cell_type": "code",
      "metadata": {
        "id": "RJxuL-hE20QV"
      },
      "source": [
        "!echo \"Hello again\" > multiple-add.txt"
      ],
      "execution_count": 42,
      "outputs": []
    },
    {
      "cell_type": "markdown",
      "metadata": {
        "id": "EqVxs4i53HM7"
      },
      "source": [
        "Working directory:\n",
        "  * modified multiple-add.txt\n",
        "  \n",
        "index:\n",
        "  * multiple-add.txt"
      ]
    },
    {
      "cell_type": "code",
      "metadata": {
        "id": "tDaKAGsm24nb"
      },
      "source": [
        "!git add multiple-add.txt"
      ],
      "execution_count": 43,
      "outputs": []
    },
    {
      "cell_type": "markdown",
      "metadata": {
        "id": "I7pAWQq33MdN"
      },
      "source": [
        "Working directory:\n",
        "  * tracked multiple-add.txt\n",
        "  \n",
        "index:\n",
        "  * multiple-add.txt"
      ]
    },
    {
      "cell_type": "code",
      "metadata": {
        "colab": {
          "base_uri": "https://localhost:8080/"
        },
        "id": "5Bpw6Iun3OjJ",
        "outputId": "2a1ef308-84a4-4f57-f014-095f530e91d0"
      },
      "source": [
        "!git status"
      ],
      "execution_count": 44,
      "outputs": [
        {
          "output_type": "stream",
          "name": "stdout",
          "text": [
            "On branch master\n",
            "\n",
            "No commits yet\n",
            "\n",
            "Changes to be committed:\n",
            "  (use \"git rm --cached <file>...\" to unstage)\n",
            "\n",
            "\t\u001b[32mnew file:   multiple-add.txt\u001b[m\n",
            "\n"
          ]
        }
      ]
    },
    {
      "cell_type": "markdown",
      "metadata": {
        "id": "4ddvuUeg3W6L"
      },
      "source": [
        "# Status report"
      ]
    },
    {
      "cell_type": "code",
      "metadata": {
        "colab": {
          "base_uri": "https://localhost:8080/"
        },
        "id": "D58oV0Qj3SJs",
        "outputId": "07d13730-6e9b-4b27-9ff6-27dca72bdcf3"
      },
      "source": [
        "%cd .."
      ],
      "execution_count": 45,
      "outputs": [
        {
          "output_type": "stream",
          "name": "stdout",
          "text": [
            "/content/headfirst-git-samples\n"
          ]
        }
      ]
    },
    {
      "cell_type": "code",
      "metadata": {
        "id": "PNwwXQkc3cGM"
      },
      "source": [
        "!mkdir ch01_03"
      ],
      "execution_count": 46,
      "outputs": []
    },
    {
      "cell_type": "code",
      "metadata": {
        "colab": {
          "base_uri": "https://localhost:8080/"
        },
        "id": "SK4BkKRh3ee6",
        "outputId": "6140780c-0651-49c2-8b5f-f99def4db45c"
      },
      "source": [
        "%cd ch01_03"
      ],
      "execution_count": 47,
      "outputs": [
        {
          "output_type": "stream",
          "name": "stdout",
          "text": [
            "/content/headfirst-git-samples/ch01_03\n"
          ]
        }
      ]
    },
    {
      "cell_type": "code",
      "metadata": {
        "colab": {
          "base_uri": "https://localhost:8080/"
        },
        "id": "HEyPBe113f8I",
        "outputId": "d41b7e96-349a-4720-dcc9-516dccb5facb"
      },
      "source": [
        "!git init"
      ],
      "execution_count": 48,
      "outputs": [
        {
          "output_type": "stream",
          "name": "stdout",
          "text": [
            "Initialized empty Git repository in /content/headfirst-git-samples/ch01_03/.git/\n"
          ]
        }
      ]
    },
    {
      "cell_type": "code",
      "metadata": {
        "colab": {
          "base_uri": "https://localhost:8080/"
        },
        "id": "X7eDbsJJ3iBf",
        "outputId": "d2f07067-ed7d-410e-d276-dfe75c9e8d64"
      },
      "source": [
        "!git status"
      ],
      "execution_count": 49,
      "outputs": [
        {
          "output_type": "stream",
          "name": "stdout",
          "text": [
            "On branch master\n",
            "\n",
            "No commits yet\n",
            "\n",
            "nothing to commit (create/copy files and use \"git add\" to track)\n"
          ]
        }
      ]
    },
    {
      "cell_type": "code",
      "metadata": {
        "id": "QLLFH4Vg3qBX"
      },
      "source": [
        "!echo \"# README\\n This is a test for git status\" > README.md"
      ],
      "execution_count": 50,
      "outputs": []
    },
    {
      "cell_type": "code",
      "metadata": {
        "id": "MODMWWzU34n_"
      },
      "source": [
        "!echo \"# Cheecklist\\n - [ ] Create two files\\n - [ ] Add a README.md and commit\\n - [ ] Update checklist.md then add and commit\" > Checklist.md"
      ],
      "execution_count": 51,
      "outputs": []
    },
    {
      "cell_type": "code",
      "metadata": {
        "colab": {
          "base_uri": "https://localhost:8080/"
        },
        "id": "Q6y2A8WE4G52",
        "outputId": "566c7902-661f-4d60-b718-abef1f56ae06"
      },
      "source": [
        "!git status"
      ],
      "execution_count": 52,
      "outputs": [
        {
          "output_type": "stream",
          "name": "stdout",
          "text": [
            "On branch master\n",
            "\n",
            "No commits yet\n",
            "\n",
            "Untracked files:\n",
            "  (use \"git add <file>...\" to include in what will be committed)\n",
            "\n",
            "\t\u001b[31mChecklist.md\u001b[m\n",
            "\t\u001b[31mREADME.md\u001b[m\n",
            "\n",
            "nothing added to commit but untracked files present (use \"git add\" to track)\n"
          ]
        }
      ]
    },
    {
      "cell_type": "code",
      "metadata": {
        "colab": {
          "base_uri": "https://localhost:8080/"
        },
        "id": "7GEEGHFC4QCm",
        "outputId": "8630925f-7ff3-4638-a63b-5a859c8b1bb8"
      },
      "source": [
        "!git add README.md\n",
        "!git status"
      ],
      "execution_count": 53,
      "outputs": [
        {
          "output_type": "stream",
          "name": "stdout",
          "text": [
            "On branch master\n",
            "\n",
            "No commits yet\n",
            "\n",
            "Changes to be committed:\n",
            "  (use \"git rm --cached <file>...\" to unstage)\n",
            "\n",
            "\t\u001b[32mnew file:   README.md\u001b[m\n",
            "\n",
            "Untracked files:\n",
            "  (use \"git add <file>...\" to include in what will be committed)\n",
            "\n",
            "\t\u001b[31mChecklist.md\u001b[m\n",
            "\n"
          ]
        }
      ]
    },
    {
      "cell_type": "code",
      "metadata": {
        "colab": {
          "base_uri": "https://localhost:8080/"
        },
        "id": "yOLOYeDN6Fo3",
        "outputId": "40bf8d8f-5c71-4b70-dc25-6a632f77b866"
      },
      "source": [
        "!git commit -m \"my first commit\""
      ],
      "execution_count": 54,
      "outputs": [
        {
          "output_type": "stream",
          "name": "stdout",
          "text": [
            "[master (root-commit) 7e40d29] my first commit\n",
            " 1 file changed, 1 insertion(+)\n",
            " create mode 100644 README.md\n"
          ]
        }
      ]
    },
    {
      "cell_type": "code",
      "metadata": {
        "colab": {
          "base_uri": "https://localhost:8080/"
        },
        "id": "5iOf3GxL6bjy",
        "outputId": "c083286f-4a65-4538-a010-60f22c8eae63"
      },
      "source": [
        "!git add Checklist.md\n",
        "!git status"
      ],
      "execution_count": 55,
      "outputs": [
        {
          "output_type": "stream",
          "name": "stdout",
          "text": [
            "On branch master\n",
            "Changes to be committed:\n",
            "  (use \"git reset HEAD <file>...\" to unstage)\n",
            "\n",
            "\t\u001b[32mnew file:   Checklist.md\u001b[m\n",
            "\n"
          ]
        }
      ]
    },
    {
      "cell_type": "code",
      "metadata": {
        "colab": {
          "base_uri": "https://localhost:8080/"
        },
        "id": "nlWd456L6TG5",
        "outputId": "1bee3875-5df7-4c58-af7c-180fcc211909"
      },
      "source": [
        "!git commit -m \"my second commit\"\n",
        "!git status"
      ],
      "execution_count": 56,
      "outputs": [
        {
          "output_type": "stream",
          "name": "stdout",
          "text": [
            "[master f5eb3d8] my second commit\n",
            " 1 file changed, 1 insertion(+)\n",
            " create mode 100644 Checklist.md\n",
            "On branch master\n",
            "nothing to commit, working tree clean\n"
          ]
        }
      ]
    },
    {
      "cell_type": "code",
      "source": [
        "!git log"
      ],
      "metadata": {
        "id": "OTTkHMvNx0Ih",
        "outputId": "903ade62-bf0f-480a-d8c9-06936871c1d0",
        "colab": {
          "base_uri": "https://localhost:8080/"
        }
      },
      "execution_count": 57,
      "outputs": [
        {
          "output_type": "stream",
          "name": "stdout",
          "text": [
            "\u001b[33mcommit f5eb3d8a45ae9525b92ea4aefbf4c87c28d1baeb\u001b[m\u001b[33m (\u001b[m\u001b[1;36mHEAD -> \u001b[m\u001b[1;32mmaster\u001b[m\u001b[33m)\u001b[m\n",
            "Author: Colab <colab@gmail.com>\n",
            "Date:   Tue Jun 7 23:51:08 2022 +0000\n",
            "\n",
            "    my second commit\n",
            "\n",
            "\u001b[33mcommit 7e40d29ebbee0b406aaf9f5ba2cc47e08440c6c0\u001b[m\n",
            "Author: Colab <colab@gmail.com>\n",
            "Date:   Tue Jun 7 23:51:08 2022 +0000\n",
            "\n",
            "    my first commit\n"
          ]
        }
      ]
    },
    {
      "cell_type": "markdown",
      "metadata": {
        "id": "SzgNzsdk7VYm"
      },
      "source": [
        "# Bullet Points"
      ]
    },
    {
      "cell_type": "markdown",
      "metadata": {
        "id": "v6bWI60j7W5v"
      },
      "source": [
        "* A version control system like Git allows you to store snapshots of your work.\n",
        "* Git is much more than a tool that allows you to record snapshots. Git allows us to confidently collaborate with other team members.\n",
        "* Using Git effectively requires you to be comfortable with the command line.\n",
        "* The command line offers a slew of other capabilities including creating and navigating directories and listing files.\n",
        "* Git is available as an executable, which you install, and it makes Git available to use in the command line with the name git.\n",
        "* Once you install Git, you need to tell Git your full name, and your email address. Git will use this whenever you use Git to take a snapshot of your work.\n",
        "* If you wish you to Git to manage the files for any project we have to initialize a Git repository at the root level of the project.\n",
        "* To initialize Git you use the init command, like so: git init\n",
        "* The result of initializing a new Git repository is that Git will create a hidden folder called .git in the directory where you ran the git init command. This hidden folder is used by Git to store your snapshots, as well as some configuration for Git itself.\n",
        "* Any directory that is managed by Git is referred to as the working directory.\n",
        "* Git, by design, has an index, which acts as a “staging area”. To add files to the index, you use the git add <filename> command.\n",
        "* Committing in Git translates to taking a snapshop of the changes that were stored in the index. The command to create a commit is git commit, which requires that you supply it with a commit message to describe the changes you are commiting, using the -m (or --message) flag: git commit -m “some message”\n",
        "* Every file in the working directory is assigned one or more states.\n",
        "* A brand new file added to the working directory is marked as “Untracked” which suggests that Git does not know about this file.\n",
        "* Adding a new file to Git’s index does two things—it marks the file as being “tracked”, and creates a copy of that file into the index.\n",
        "* When you make a commit, Git creates a copy of the files in the index and stores them in the object datastore. It also creates a commit object that records metadata about the commit, including a pointer to the files that were just stored, the author name and email, the time the commit was made, as well as the commit message.\n",
        "* Every commit in Git is identified by a unique identifier, refererred to as the commit ID.\n",
        "* At any time you can ask Git for the status of the files in the working directory and the Git repository, using the git status command.\n",
        "* Every commit except the initial commit in Git stores the commit ID of the commit that appeared just before it, thus creating a string of commits, like leaves on a branch.\n",
        "* This string of commits is referred to as the commit history."
      ]
    }
  ]
}